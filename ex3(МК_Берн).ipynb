{
 "cells": [
  {
   "cell_type": "code",
   "execution_count": 45,
   "id": "e9eea780",
   "metadata": {},
   "outputs": [
    {
     "name": "stdout",
     "output_type": "stream",
     "text": [
      "Метод Монте-Карло:\n",
      "Количество выпадения равного числа орла и решка = 3 на 10 подбрасываний,\n",
      "вероятность успеха = 0.3\n",
      "Коэффициент C10(3) = 120.0\n",
      "Биномиальное респределение (Формула Бернулли): \n",
      "P10(3) = 0.1171875\n"
     ]
    }
   ],
   "source": [
    "#Дополните код Монте-Карло последовательности независимых испытаний расчетом соответствующих \n",
    "#вероятностей (через биномиальное распределение) и сравните результаты.\n",
    "\n",
    "import numpy as np\n",
    "#import itertools\n",
    "#import sys\n",
    "import math\n",
    "\n",
    "k, n = 0, 10\n",
    "a = np.random.randint(0, 2, n)\n",
    "b = np.random.randint(0, 2, n)\n",
    "c = np.random.randint(0, 2, n)\n",
    "d = np.random.randint(0, 2, n)\n",
    "x = a + b + c + d\n",
    "for i in range(0, n):\n",
    "    if x[i] == 2:\n",
    "        k = k + 1\n",
    "\n",
    "Cn_k = math.factorial(n)/(math.factorial(k) * math.factorial(n - k))\n",
    "Pn_k = Cn_k / 2**n\n",
    "\n",
    "#v=Cn_k*(0.5**k)*((1-0.5)**(n-k))\n",
    "\n",
    "#print(a, b, c, d)\n",
    "#print(x)\n",
    "print(f'Метод Монте-Карло:\\nКоличество выпадения равного числа орла и решка = {k} на {n} подбрасываний,\\nвероятность успеха = {k/n}')\n",
    "#print(v)\n",
    "print(f'Коэффициент C{n}({k}) = {Cn_k}')\n",
    "print(f'Биномиальное респределение (Формула Бернулли): \\nP{n}({k}) = {Pn_k}')"
   ]
  },
  {
   "cell_type": "code",
   "execution_count": 55,
   "id": "d27015d5",
   "metadata": {},
   "outputs": [
    {
     "name": "stdout",
     "output_type": "stream",
     "text": [
      "Коэффициент C4(2) = 6.0\n",
      "Биномиальное респределение (Формула Бернулли): \n",
      "P4(2) = 0.375\n"
     ]
    }
   ],
   "source": [
    "k, n = 2, 4\n",
    "Cn_k = math.factorial(n)/(math.factorial(k) * math.factorial(n - k))\n",
    "Pn_k = Cn_k / 2**n\n",
    "print(f'Коэффициент C{n}({k}) = {Cn_k}')\n",
    "print(f'Биномиальное респределение (Формула Бернулли): \\nP{n}({k}) = {Pn_k}')"
   ]
  },
  {
   "cell_type": "code",
   "execution_count": 56,
   "id": "ea1724b4",
   "metadata": {},
   "outputs": [
    {
     "name": "stdout",
     "output_type": "stream",
     "text": [
      "000\n",
      "001\n",
      "010\n",
      "011\n",
      "100\n",
      "101\n",
      "110\n",
      "111\n"
     ]
    }
   ],
   "source": [
    "for p in itertools.product(\"01\",repeat=3):\n",
    "    print(''.join(p))"
   ]
  },
  {
   "cell_type": "code",
   "execution_count": null,
   "id": "89681972",
   "metadata": {},
   "outputs": [],
   "source": []
  }
 ],
 "metadata": {
  "kernelspec": {
   "display_name": "Python 3",
   "language": "python",
   "name": "python3"
  },
  "language_info": {
   "codemirror_mode": {
    "name": "ipython",
    "version": 3
   },
   "file_extension": ".py",
   "mimetype": "text/x-python",
   "name": "python",
   "nbconvert_exporter": "python",
   "pygments_lexer": "ipython3",
   "version": "3.8.8"
  }
 },
 "nbformat": 4,
 "nbformat_minor": 5
}
