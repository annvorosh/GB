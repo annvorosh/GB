{
 "cells": [
  {
   "cell_type": "markdown",
   "id": "cc40f8a1",
   "metadata": {},
   "source": [
    "### Урок 7. Многомерный статистический анализ. Линейная регрессия\n",
    "##### 1. Даны значения величины заработной платы заемщиков банка (zp) и значения их поведенческого кредитного скоринга (ks): zp = [35, 45, 190, 200, 40, 70, 54, 150, 120, 110], ks = [401, 574, 874, 919, 459, 739, 653, 902, 746, 832]. Используя математические операции, посчитать коэффициенты линейной регрессии, приняв за X заработную плату (то есть, zp - признак), а за y - значения скорингового балла (то есть, ks - целевая переменная). Произвести расчет как с использованием intercept, так и без."
   ]
  },
  {
   "cell_type": "code",
   "execution_count": 86,
   "id": "6ab2ad35",
   "metadata": {},
   "outputs": [],
   "source": [
    "import numpy as np\n",
    "import matplotlib.pyplot as plt\n",
    "import seaborn as sns\n",
    "\n",
    "zp = np.array([35, 45, 190, 200, 40, 70, 54, 150, 120, 110])\n",
    "ks = np.array([401, 574, 874, 919, 459, 739, 653, 902, 746, 832])\n",
    "\n",
    "X = zp\n",
    "y = ks"
   ]
  },
  {
   "cell_type": "code",
   "execution_count": 87,
   "id": "0b85ac78",
   "metadata": {},
   "outputs": [
    {
     "data": {
      "image/png": "[encoded data removed]",
      "text/plain": [
       "<Figure size 432x288 with 1 Axes>"
      ]
     },
     "metadata": {
      "needs_background": "light"
     },
     "output_type": "display_data"
    }
   ],
   "source": [
    "plt.scatter(X, y)\n",
    "plt.show()"
   ]
  },
  {
   "cell_type": "code",
   "execution_count": 88,
   "id": "5578e501",
   "metadata": {},
   "outputs": [
    {
     "data": {
      "text/plain": [
       "2.620538882402765"
      ]
     },
     "execution_count": 88,
     "metadata": {},
     "output_type": "execute_result"
    }
   ],
   "source": [
    "b = (np.mean(X * y) - np.mean(X) * np.mean(y)) / (np.mean(X**2) - np.mean(X)**2)\n",
    "b"
   ]
  },
  {
   "cell_type": "code",
   "execution_count": 89,
   "id": "4ffd0138",
   "metadata": {},
   "outputs": [
    {
     "data": {
      "text/plain": [
       "444.1773573243596"
      ]
     },
     "execution_count": 89,
     "metadata": {},
     "output_type": "execute_result"
    }
   ],
   "source": [
    "a = np.mean(y) - b * np.mean(X)\n",
    "a"
   ]
  },
  {
   "cell_type": "code",
   "execution_count": 90,
   "id": "f9ebd326",
   "metadata": {},
   "outputs": [
    {
     "data": {
      "text/plain": [
       "array([535.89621821, 562.10160703, 942.07974498, 968.2851338 ,\n",
       "       548.99891262, 627.61507909, 585.68645697, 837.25818968,\n",
       "       758.64202321, 732.43663439])"
      ]
     },
     "execution_count": 90,
     "metadata": {},
     "output_type": "execute_result"
    }
   ],
   "source": [
    "y_hat = a + b * X\n",
    "y_hat"
   ]
  },
  {
   "cell_type": "code",
   "execution_count": 91,
   "id": "b5fd3939",
   "metadata": {},
   "outputs": [
    {
     "data": {
      "text/plain": [
       "array([401, 574, 874, 919, 459, 739, 653, 902, 746, 832])"
      ]
     },
     "execution_count": 91,
     "metadata": {},
     "output_type": "execute_result"
    }
   ],
   "source": [
    "y"
   ]
  },
  {
   "cell_type": "code",
   "execution_count": 92,
   "id": "724879f4",
   "metadata": {},
   "outputs": [
    {
     "data": {
      "image/png": "[encoded data removed]",
      "text/plain": [
       "<Figure size 432x288 with 1 Axes>"
      ]
     },
     "metadata": {
      "needs_background": "light"
     },
     "output_type": "display_data"
    }
   ],
   "source": [
    "plt.scatter(X, y)\n",
    "plt.plot(X, y_hat)\n",
    "plt.show()"
   ]
  },
  {
   "cell_type": "code",
   "execution_count": 93,
   "id": "e8116a34",
   "metadata": {},
   "outputs": [
    {
     "data": {
      "text/plain": [
       "(array([[ 35],\n",
       "        [ 45],\n",
       "        [190],\n",
       "        [200],\n",
       "        [ 40],\n",
       "        [ 70],\n",
       "        [ 54],\n",
       "        [150],\n",
       "        [120],\n",
       "        [110]]),\n",
       " array([[401],\n",
       "        [574],\n",
       "        [874],\n",
       "        [919],\n",
       "        [459],\n",
       "        [739],\n",
       "        [653],\n",
       "        [902],\n",
       "        [746],\n",
       "        [832]]))"
      ]
     },
     "execution_count": 93,
     "metadata": {},
     "output_type": "execute_result"
    }
   ],
   "source": [
    "X = X.reshape((10, 1))\n",
    "y = y.reshape((10, 1))\n",
    "X, y"
   ]
  },
  {
   "cell_type": "code",
   "execution_count": 94,
   "id": "bf238644",
   "metadata": {},
   "outputs": [
    {
     "data": {
      "text/plain": [
       "array([[  1.,  35.],\n",
       "       [  1.,  45.],\n",
       "       [  1., 190.],\n",
       "       [  1., 200.],\n",
       "       [  1.,  40.],\n",
       "       [  1.,  70.],\n",
       "       [  1.,  54.],\n",
       "       [  1., 150.],\n",
       "       [  1., 120.],\n",
       "       [  1., 110.]])"
      ]
     },
     "execution_count": 94,
     "metadata": {},
     "output_type": "execute_result"
    }
   ],
   "source": [
    "Xi = np.hstack([np.ones((10, 1)), X])\n",
    "Xi"
   ]
  },
  {
   "cell_type": "code",
   "execution_count": 95,
   "id": "ab8b03f8",
   "metadata": {},
   "outputs": [
    {
     "data": {
      "text/plain": [
       "array([[444.17735732],\n",
       "       [  2.62053888]])"
      ]
     },
     "execution_count": 95,
     "metadata": {},
     "output_type": "execute_result"
    }
   ],
   "source": [
    "B = np.dot(np.linalg.inv(Xi.T @ Xi), Xi.T @ y) # y = B_0 + B_1*Xi\n",
    "B # B_0 и B_1"
   ]
  },
  {
   "cell_type": "markdown",
   "id": "a0882476",
   "metadata": {},
   "source": [
    "##### 2. Посчитать коэффициент линейной регрессии при заработной плате (zp), используя градиентный спуск (без intercept). "
   ]
  },
  {
   "cell_type": "code",
   "execution_count": 96,
   "id": "1e2080e7",
   "metadata": {},
   "outputs": [],
   "source": [
    "def mse_(B1, y = y, X = X, n = 10):\n",
    "    return np.sum((B1 * X - y) ** 2) / n\n",
    "\n",
    "alpha = 1e-7\n"
   ]
  },
  {
   "cell_type": "code",
   "execution_count": 105,
   "id": "46580a51",
   "metadata": {},
   "outputs": [],
   "source": [
    "B1 = 5\n",
    "n = 10"
   ]
  },
  {
   "cell_type": "code",
   "execution_count": 106,
   "id": "729a2412",
   "metadata": {},
   "outputs": [
    {
     "name": "stdout",
     "output_type": "stream",
     "text": [
      " B1 = 5.00245174\n",
      " B1 = 5.004896724671743\n",
      " B1 = 5.00733497262832\n",
      " B1 = 5.009766502431538\n",
      " B1 = 5.012191332592058\n",
      " B1 = 5.014609481569541\n",
      " B1 = 5.017020967772782\n",
      " B1 = 5.019425809559858\n",
      " B1 = 5.021824025238262\n",
      " B1 = 5.024215633065042\n"
     ]
    }
   ],
   "source": [
    "for i in range(10):\n",
    "    B1 -= alpha * (2 / n) * np.sum((B1 * X - y) * X)\n",
    "    print(f' B1 = {B1}')"
   ]
  },
  {
   "cell_type": "code",
   "execution_count": 107,
   "id": "02cd2cb8",
   "metadata": {},
   "outputs": [
    {
     "name": "stdout",
     "output_type": "stream",
     "text": [
      "Iteration 0: B1 = 5.026600651246945 , mse = 66782.46944152871\n",
      "Iteration 1000: B1 = 5.8351377723267035 , mse = 56558.053094428105\n",
      "Iteration 2000: B1 = 5.88635642164834 , mse = 56517.02372507602\n",
      "Iteration 3000: B1 = 5.889600985156866 , mse = 56516.859079086236\n",
      "Iteration 4000: B1 = 5.889806519517884 , mse = 56516.85841838144\n",
      "Iteration 5000: B1 = 5.8898195395661705 , mse = 56516.8584157301\n",
      "Iteration 6000: B1 = 5.889820364351175 , mse = 56516.85841571946\n",
      "Iteration 7000: B1 = 5.88982041659908 , mse = 56516.8584157194\n",
      "Iteration 8000: B1 = 5.88982041990885 , mse = 56516.85841571941\n",
      "Iteration 9000: B1 = 5.889820420118505 , mse = 56516.8584157194\n"
     ]
    }
   ],
   "source": [
    "for i in range(10000):\n",
    "    B1 -= alpha * (2 / n) * np.sum((B1 * X - y) * X)\n",
    "    if i % 1000 == 0:\n",
    "        print(f'Iteration {i}: B1 = {B1} , mse = {mse_(B1)}')"
   ]
  },
  {
   "cell_type": "code",
   "execution_count": 108,
   "id": "485f8f69",
   "metadata": {},
   "outputs": [
    {
     "data": {
      "text/plain": [
       "56516.85841572182"
      ]
     },
     "execution_count": 108,
     "metadata": {},
     "output_type": "execute_result"
    }
   ],
   "source": [
    "mse_(5.889820)"
   ]
  },
  {
   "cell_type": "markdown",
   "id": "841c36f4",
   "metadata": {},
   "source": [
    "##### *3. Произвести вычисления как в пункте 2, но с вычислением intercept. Учесть, что изменение коэффициентов должно производиться на каждом шаге одновременно (то есть изменение одного коэффициента не должно влиять на изменение другого во время одной итерации)."
   ]
  },
  {
   "cell_type": "code",
   "execution_count": null,
   "id": "485f3c9b",
   "metadata": {},
   "outputs": [],
   "source": []
  }
 ],
 "metadata": {
  "kernelspec": {
   "display_name": "Python 3",
   "language": "python",
   "name": "python3"
  },
  "language_info": {
   "codemirror_mode": {
    "name": "ipython",
    "version": 3
   },
   "file_extension": ".py",
   "mimetype": "text/x-python",
   "name": "python",
   "nbconvert_exporter": "python",
   "pygments_lexer": "ipython3",
   "version": "3.8.8"
  }
 },
 "nbformat": 4,
 "nbformat_minor": 5
}
