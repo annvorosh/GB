{
 "cells": [
  {
   "cell_type": "markdown",
   "metadata": {
    "id": "Kmb8UhIzOnfK"
   },
   "source": [
    "# Text Summarization\n",
    "\n",
    "Всем привет! Сегодня мы познакомимся с задачей суммаризации текста на примере генерации \"сжатых\" новостей. Рассмотрим некоторые базовые решения и познакомимся с архитектурами нейросетей для решения задачи.\n",
    "Датасет: gazeta.ru\n",
    "\n",
    "\n",
    "Загрузим датасет и необходимые библиотеки"
   ]
  },
  {
   "cell_type": "code",
   "execution_count": null,
   "metadata": {
    "id": "OqkLTkFRfXvA"
   },
   "outputs": [],
   "source": [
    "!wget -q https://www.dropbox.com/s/43l702z5a5i2w8j/gazeta_train.txt\n",
    "!wget -q https://www.dropbox.com/s/k2egt3sug0hb185/gazeta_val.txt\n",
    "!wget -q https://www.dropbox.com/s/3gki5n5djs9w0v6/gazeta_test.txt"
   ]
  },
  {
   "cell_type": "code",
   "execution_count": null,
   "metadata": {
    "colab": {
     "base_uri": "https://localhost:8080/"
    },
    "id": "-hpbNXiADPqN",
    "outputId": "c07c5b77-a4d3-45d8-94a2-b348181bbf8c"
   },
   "outputs": [
    {
     "name": "stdout",
     "output_type": "stream",
     "text": [
      "gazeta_test.txt  gazeta_train.txt  gazeta_val.txt  sample_data\n"
     ]
    }
   ],
   "source": [
    "!ls"
   ]
  },
  {
   "cell_type": "code",
   "execution_count": null,
   "metadata": {
    "colab": {
     "base_uri": "https://localhost:8080/"
    },
    "id": "SXS1sdYZCluU",
    "outputId": "9a8cddd6-7878-4c51-e2d2-e2538b4289ad"
   },
   "outputs": [
    {
     "name": "stdout",
     "output_type": "stream",
     "text": [
      "Collecting razdel\n",
      "  Downloading razdel-0.5.0-py3-none-any.whl (21 kB)\n",
      "Requirement already satisfied: networkx in /usr/local/lib/python3.7/dist-packages (2.6.3)\n",
      "Collecting pymorphy2[fast]\n",
      "  Downloading pymorphy2-0.9.1-py3-none-any.whl (55 kB)\n",
      "\u001b[?25l\r",
      "\u001b[K     |██████                          | 10 kB 40.6 MB/s eta 0:00:01\r",
      "\u001b[K     |███████████▉                    | 20 kB 46.2 MB/s eta 0:00:01\r",
      "\u001b[K     |█████████████████▊              | 30 kB 36.0 MB/s eta 0:00:01\r",
      "\u001b[K     |███████████████████████▋        | 40 kB 38.5 MB/s eta 0:00:01\r",
      "\u001b[K     |█████████████████████████████▌  | 51 kB 16.3 MB/s eta 0:00:01\r",
      "\u001b[K     |████████████████████████████████| 55 kB 4.4 MB/s \n",
      "\u001b[?25hRequirement already satisfied: nltk in /usr/local/lib/python3.7/dist-packages (3.2.5)\n",
      "Collecting rouge==0.3.1\n",
      "  Downloading rouge-0.3.1-py3-none-any.whl (7.4 kB)\n",
      "Collecting summa\n",
      "  Downloading summa-1.2.0.tar.gz (54 kB)\n",
      "\u001b[K     |████████████████████████████████| 54 kB 4.8 MB/s \n",
      "\u001b[?25hCollecting lexrank\n",
      "  Downloading lexrank-0.1.0-py3-none-any.whl (69 kB)\n",
      "\u001b[K     |████████████████████████████████| 69 kB 9.3 MB/s \n",
      "\u001b[?25hCollecting sumy\n",
      "  Downloading sumy-0.9.0-py2.py3-none-any.whl (87 kB)\n",
      "\u001b[K     |████████████████████████████████| 87 kB 8.7 MB/s \n",
      "\u001b[?25hRequirement already satisfied: six in /usr/local/lib/python3.7/dist-packages (from nltk) (1.15.0)\n",
      "Requirement already satisfied: scipy>=0.19 in /usr/local/lib/python3.7/dist-packages (from summa) (1.4.1)\n",
      "Requirement already satisfied: numpy>=1.13.3 in /usr/local/lib/python3.7/dist-packages (from scipy>=0.19->summa) (1.19.5)\n",
      "Requirement already satisfied: pyrsistent>=0.14.0 in /usr/local/lib/python3.7/dist-packages (from lexrank) (0.18.1)\n",
      "Collecting path.py>=10.5\n",
      "  Downloading path.py-12.5.0-py3-none-any.whl (2.3 kB)\n",
      "Collecting urlextract>=0.7\n",
      "  Downloading urlextract-1.5.0-py3-none-any.whl (20 kB)\n",
      "Requirement already satisfied: regex>=2017.11.9 in /usr/local/lib/python3.7/dist-packages (from lexrank) (2019.12.20)\n",
      "Collecting path\n",
      "  Downloading path-16.3.0-py3-none-any.whl (21 kB)\n",
      "Requirement already satisfied: idna in /usr/local/lib/python3.7/dist-packages (from urlextract>=0.7->lexrank) (2.10)\n",
      "Collecting platformdirs\n",
      "  Downloading platformdirs-2.4.1-py3-none-any.whl (14 kB)\n",
      "Collecting uritools\n",
      "  Downloading uritools-4.0.0-py3-none-any.whl (10 kB)\n",
      "Requirement already satisfied: filelock in /usr/local/lib/python3.7/dist-packages (from urlextract>=0.7->lexrank) (3.4.2)\n",
      "Requirement already satisfied: requests>=2.7.0 in /usr/local/lib/python3.7/dist-packages (from sumy) (2.23.0)\n",
      "Collecting breadability>=0.1.20\n",
      "  Downloading breadability-0.1.20.tar.gz (32 kB)\n",
      "Requirement already satisfied: docopt<0.7,>=0.6.1 in /usr/local/lib/python3.7/dist-packages (from sumy) (0.6.2)\n",
      "Collecting pycountry>=18.2.23\n",
      "  Downloading pycountry-22.1.10.tar.gz (10.1 MB)\n",
      "\u001b[K     |████████████████████████████████| 10.1 MB 63.0 MB/s \n",
      "\u001b[?25hRequirement already satisfied: chardet in /usr/local/lib/python3.7/dist-packages (from breadability>=0.1.20->sumy) (3.0.4)\n",
      "Requirement already satisfied: lxml>=2.0 in /usr/local/lib/python3.7/dist-packages (from breadability>=0.1.20->sumy) (4.2.6)\n",
      "Requirement already satisfied: setuptools in /usr/local/lib/python3.7/dist-packages (from pycountry>=18.2.23->sumy) (57.4.0)\n",
      "Requirement already satisfied: urllib3!=1.25.0,!=1.25.1,<1.26,>=1.21.1 in /usr/local/lib/python3.7/dist-packages (from requests>=2.7.0->sumy) (1.24.3)\n",
      "Requirement already satisfied: certifi>=2017.4.17 in /usr/local/lib/python3.7/dist-packages (from requests>=2.7.0->sumy) (2021.10.8)\n",
      "Collecting pymorphy2-dicts-ru<3.0,>=2.4\n",
      "  Downloading pymorphy2_dicts_ru-2.4.417127.4579844-py2.py3-none-any.whl (8.2 MB)\n",
      "\u001b[K     |████████████████████████████████| 8.2 MB 50.5 MB/s \n",
      "\u001b[?25hCollecting dawg-python>=0.7.1\n",
      "  Downloading DAWG_Python-0.7.2-py2.py3-none-any.whl (11 kB)\n",
      "Collecting DAWG>=0.8\n",
      "  Downloading DAWG-0.8.0.tar.gz (371 kB)\n",
      "\u001b[K     |████████████████████████████████| 371 kB 68.9 MB/s \n",
      "\u001b[?25hBuilding wheels for collected packages: summa, breadability, pycountry, DAWG\n",
      "  Building wheel for summa (setup.py) ... \u001b[?25l\u001b[?25hdone\n",
      "  Created wheel for summa: filename=summa-1.2.0-py3-none-any.whl size=54412 sha256=ee5b7151280aab3bebd692ac412ba79f572f6ff33094662326f672c004536c3e\n",
      "  Stored in directory: /root/.cache/pip/wheels/29/64/ac/7b443477588d365ef37ada30d456bdf5f07dc5be9f6324cb6e\n",
      "  Building wheel for breadability (setup.py) ... \u001b[?25l\u001b[?25hdone\n",
      "  Created wheel for breadability: filename=breadability-0.1.20-py2.py3-none-any.whl size=21712 sha256=b0fb6703e5cefb9a0123780b4815e6e268a98fc9ee1b865d77e1f4c49d719fa1\n",
      "  Stored in directory: /root/.cache/pip/wheels/d4/bf/51/81d27ad638e1a6dca4f362ecc33d1e2c764b8ea7ec751b8fc1\n",
      "  Building wheel for pycountry (setup.py) ... \u001b[?25l\u001b[?25hdone\n",
      "  Created wheel for pycountry: filename=pycountry-22.1.10-py2.py3-none-any.whl size=10595784 sha256=5321ac343b11722d91628d99eab882948048f9c4ece60cb98e3763f778711c5d\n",
      "  Stored in directory: /root/.cache/pip/wheels/f7/8f/9c/b070d7376caf2beb0685bf72578106b2fd57019ed57d84f126\n",
      "  Building wheel for DAWG (setup.py) ... \u001b[?25l\u001b[?25hdone\n",
      "  Created wheel for DAWG: filename=DAWG-0.8.0-cp37-cp37m-linux_x86_64.whl size=857318 sha256=973848772dbc03e99b473620f906b7ea75be02aaf051cb698a51ae15f4907a2c\n",
      "  Stored in directory: /root/.cache/pip/wheels/85/51/a4/2de41ff197786537075027c27b479a38da92f50abc86634445\n",
      "Successfully built summa breadability pycountry DAWG\n",
      "Installing collected packages: uritools, pymorphy2-dicts-ru, platformdirs, path, dawg-python, urlextract, pymorphy2, pycountry, path.py, DAWG, breadability, sumy, summa, rouge, razdel, lexrank\n",
      "Successfully installed DAWG-0.8.0 breadability-0.1.20 dawg-python-0.7.2 lexrank-0.1.0 path-16.3.0 path.py-12.5.0 platformdirs-2.4.1 pycountry-22.1.10 pymorphy2-0.9.1 pymorphy2-dicts-ru-2.4.417127.4579844 razdel-0.5.0 rouge-0.3.1 summa-1.2.0 sumy-0.9.0 uritools-4.0.0 urlextract-1.5.0\n",
      "Collecting datasets\n",
      "  Downloading datasets-1.18.2-py3-none-any.whl (312 kB)\n",
      "\u001b[K     |████████████████████████████████| 312 kB 13.9 MB/s \n",
      "\u001b[?25hRequirement already satisfied: razdel in /usr/local/lib/python3.7/dist-packages (0.5.0)\n",
      "Requirement already satisfied: spacy in /usr/local/lib/python3.7/dist-packages (2.2.4)\n",
      "Collecting spacy\n",
      "  Downloading spacy-3.2.1-cp37-cp37m-manylinux_2_17_x86_64.manylinux2014_x86_64.whl (6.0 MB)\n",
      "\u001b[K     |████████████████████████████████| 6.0 MB 62.7 MB/s \n",
      "\u001b[?25hRequirement already satisfied: networkx in /usr/local/lib/python3.7/dist-packages (2.6.3)\n",
      "Requirement already satisfied: seaborn in /usr/local/lib/python3.7/dist-packages (0.11.2)\n",
      "Requirement already satisfied: scipy in /usr/local/lib/python3.7/dist-packages (1.4.1)\n",
      "Collecting scipy\n",
      "  Downloading scipy-1.7.3-cp37-cp37m-manylinux_2_12_x86_64.manylinux2010_x86_64.whl (38.1 MB)\n",
      "\u001b[K     |████████████████████████████████| 38.1 MB 1.2 MB/s \n",
      "\u001b[?25hRequirement already satisfied: tqdm in /usr/local/lib/python3.7/dist-packages (4.62.3)\n",
      "Collecting tensorflow-text\n",
      "  Downloading tensorflow_text-2.7.3-cp37-cp37m-manylinux2010_x86_64.whl (4.9 MB)\n",
      "\u001b[K     |████████████████████████████████| 4.9 MB 61.1 MB/s \n",
      "\u001b[?25hRequirement already satisfied: dill in /usr/local/lib/python3.7/dist-packages (from datasets) (0.3.4)\n",
      "Requirement already satisfied: importlib-metadata in /usr/local/lib/python3.7/dist-packages (from datasets) (4.10.1)\n",
      "Requirement already satisfied: pyarrow!=4.0.0,>=3.0.0 in /usr/local/lib/python3.7/dist-packages (from datasets) (3.0.0)\n",
      "Collecting huggingface-hub<1.0.0,>=0.1.0\n",
      "  Downloading huggingface_hub-0.4.0-py3-none-any.whl (67 kB)\n",
      "\u001b[K     |████████████████████████████████| 67 kB 7.6 MB/s \n",
      "\u001b[?25hCollecting fsspec[http]>=2021.05.0\n",
      "  Downloading fsspec-2022.1.0-py3-none-any.whl (133 kB)\n",
      "\u001b[K     |████████████████████████████████| 133 kB 81.8 MB/s \n",
      "\u001b[?25hRequirement already satisfied: requests>=2.19.0 in /usr/local/lib/python3.7/dist-packages (from datasets) (2.23.0)\n",
      "Requirement already satisfied: packaging in /usr/local/lib/python3.7/dist-packages (from datasets) (21.3)\n",
      "Requirement already satisfied: numpy>=1.17 in /usr/local/lib/python3.7/dist-packages (from datasets) (1.19.5)\n",
      "Requirement already satisfied: pandas in /usr/local/lib/python3.7/dist-packages (from datasets) (1.1.5)\n",
      "Collecting aiohttp\n",
      "  Downloading aiohttp-3.8.1-cp37-cp37m-manylinux_2_5_x86_64.manylinux1_x86_64.manylinux_2_12_x86_64.manylinux2010_x86_64.whl (1.1 MB)\n",
      "\u001b[K     |████████████████████████████████| 1.1 MB 60.8 MB/s \n",
      "\u001b[?25hCollecting xxhash\n",
      "  Downloading xxhash-2.0.2-cp37-cp37m-manylinux2010_x86_64.whl (243 kB)\n",
      "\u001b[K     |████████████████████████████████| 243 kB 72.7 MB/s \n",
      "\u001b[?25hRequirement already satisfied: multiprocess in /usr/local/lib/python3.7/dist-packages (from datasets) (0.70.12.2)\n",
      "Requirement already satisfied: filelock in /usr/local/lib/python3.7/dist-packages (from huggingface-hub<1.0.0,>=0.1.0->datasets) (3.4.2)\n",
      "Requirement already satisfied: pyyaml in /usr/local/lib/python3.7/dist-packages (from huggingface-hub<1.0.0,>=0.1.0->datasets) (3.13)\n",
      "Requirement already satisfied: typing-extensions>=3.7.4.3 in /usr/local/lib/python3.7/dist-packages (from huggingface-hub<1.0.0,>=0.1.0->datasets) (3.10.0.2)\n",
      "Requirement already satisfied: pyparsing!=3.0.5,>=2.0.2 in /usr/local/lib/python3.7/dist-packages (from packaging->datasets) (3.0.7)\n",
      "Requirement already satisfied: idna<3,>=2.5 in /usr/local/lib/python3.7/dist-packages (from requests>=2.19.0->datasets) (2.10)\n",
      "Requirement already satisfied: certifi>=2017.4.17 in /usr/local/lib/python3.7/dist-packages (from requests>=2.19.0->datasets) (2021.10.8)\n",
      "Requirement already satisfied: urllib3!=1.25.0,!=1.25.1,<1.26,>=1.21.1 in /usr/local/lib/python3.7/dist-packages (from requests>=2.19.0->datasets) (1.24.3)\n",
      "Requirement already satisfied: chardet<4,>=3.0.2 in /usr/local/lib/python3.7/dist-packages (from requests>=2.19.0->datasets) (3.0.4)\n",
      "Collecting spacy-loggers<2.0.0,>=1.0.0\n",
      "  Downloading spacy_loggers-1.0.1-py3-none-any.whl (7.0 kB)\n",
      "Collecting langcodes<4.0.0,>=3.2.0\n",
      "  Downloading langcodes-3.3.0-py3-none-any.whl (181 kB)\n",
      "\u001b[K     |████████████████████████████████| 181 kB 81.4 MB/s \n",
      "\u001b[?25hRequirement already satisfied: cymem<2.1.0,>=2.0.2 in /usr/local/lib/python3.7/dist-packages (from spacy) (2.0.6)\n",
      "Collecting catalogue<2.1.0,>=2.0.6\n",
      "  Downloading catalogue-2.0.6-py3-none-any.whl (17 kB)\n",
      "Collecting srsly<3.0.0,>=2.4.1\n",
      "  Downloading srsly-2.4.2-cp37-cp37m-manylinux_2_17_x86_64.manylinux2014_x86_64.whl (451 kB)\n",
      "\u001b[K     |████████████████████████████████| 451 kB 77.3 MB/s \n",
      "\u001b[?25hRequirement already satisfied: wasabi<1.1.0,>=0.8.1 in /usr/local/lib/python3.7/dist-packages (from spacy) (0.9.0)\n",
      "Requirement already satisfied: blis<0.8.0,>=0.4.0 in /usr/local/lib/python3.7/dist-packages (from spacy) (0.4.1)\n",
      "Collecting thinc<8.1.0,>=8.0.12\n",
      "  Downloading thinc-8.0.13-cp37-cp37m-manylinux_2_17_x86_64.manylinux2014_x86_64.whl (628 kB)\n",
      "\u001b[K     |████████████████████████████████| 628 kB 51.5 MB/s \n",
      "\u001b[?25hCollecting typer<0.5.0,>=0.3.0\n",
      "  Downloading typer-0.4.0-py3-none-any.whl (27 kB)\n",
      "Requirement already satisfied: setuptools in /usr/local/lib/python3.7/dist-packages (from spacy) (57.4.0)\n",
      "Requirement already satisfied: jinja2 in /usr/local/lib/python3.7/dist-packages (from spacy) (2.11.3)\n",
      "Collecting pathy>=0.3.5\n",
      "  Downloading pathy-0.6.1-py3-none-any.whl (42 kB)\n",
      "\u001b[K     |████████████████████████████████| 42 kB 1.9 MB/s \n",
      "\u001b[?25hCollecting pydantic!=1.8,!=1.8.1,<1.9.0,>=1.7.4\n",
      "  Downloading pydantic-1.8.2-cp37-cp37m-manylinux2014_x86_64.whl (10.1 MB)\n",
      "\u001b[K     |████████████████████████████████| 10.1 MB 62.9 MB/s \n",
      "\u001b[?25hRequirement already satisfied: murmurhash<1.1.0,>=0.28.0 in /usr/local/lib/python3.7/dist-packages (from spacy) (1.0.6)\n",
      "Collecting spacy-legacy<3.1.0,>=3.0.8\n",
      "  Downloading spacy_legacy-3.0.8-py2.py3-none-any.whl (14 kB)\n",
      "Requirement already satisfied: preshed<3.1.0,>=3.0.2 in /usr/local/lib/python3.7/dist-packages (from spacy) (3.0.6)\n",
      "Requirement already satisfied: zipp>=0.5 in /usr/local/lib/python3.7/dist-packages (from catalogue<2.1.0,>=2.0.6->spacy) (3.7.0)\n",
      "Requirement already satisfied: smart-open<6.0.0,>=5.0.0 in /usr/local/lib/python3.7/dist-packages (from pathy>=0.3.5->spacy) (5.2.1)\n",
      "Requirement already satisfied: click<9.0.0,>=7.1.1 in /usr/local/lib/python3.7/dist-packages (from typer<0.5.0,>=0.3.0->spacy) (7.1.2)\n",
      "Requirement already satisfied: matplotlib>=2.2 in /usr/local/lib/python3.7/dist-packages (from seaborn) (3.2.2)\n",
      "Requirement already satisfied: python-dateutil>=2.1 in /usr/local/lib/python3.7/dist-packages (from matplotlib>=2.2->seaborn) (2.8.2)\n",
      "Requirement already satisfied: cycler>=0.10 in /usr/local/lib/python3.7/dist-packages (from matplotlib>=2.2->seaborn) (0.11.0)\n",
      "Requirement already satisfied: kiwisolver>=1.0.1 in /usr/local/lib/python3.7/dist-packages (from matplotlib>=2.2->seaborn) (1.3.2)\n",
      "Requirement already satisfied: pytz>=2017.2 in /usr/local/lib/python3.7/dist-packages (from pandas->datasets) (2018.9)\n",
      "Requirement already satisfied: six>=1.5 in /usr/local/lib/python3.7/dist-packages (from python-dateutil>=2.1->matplotlib>=2.2->seaborn) (1.15.0)\n",
      "Requirement already satisfied: tensorflow-hub>=0.8.0 in /usr/local/lib/python3.7/dist-packages (from tensorflow-text) (0.12.0)\n",
      "Requirement already satisfied: tensorflow<2.8,>=2.7.0 in /usr/local/lib/python3.7/dist-packages (from tensorflow-text) (2.7.0)\n",
      "Requirement already satisfied: wheel<1.0,>=0.32.0 in /usr/local/lib/python3.7/dist-packages (from tensorflow<2.8,>=2.7.0->tensorflow-text) (0.37.1)\n",
      "Requirement already satisfied: h5py>=2.9.0 in /usr/local/lib/python3.7/dist-packages (from tensorflow<2.8,>=2.7.0->tensorflow-text) (3.1.0)\n",
      "Requirement already satisfied: absl-py>=0.4.0 in /usr/local/lib/python3.7/dist-packages (from tensorflow<2.8,>=2.7.0->tensorflow-text) (1.0.0)\n",
      "Requirement already satisfied: opt-einsum>=2.3.2 in /usr/local/lib/python3.7/dist-packages (from tensorflow<2.8,>=2.7.0->tensorflow-text) (3.3.0)\n",
      "Requirement already satisfied: grpcio<2.0,>=1.24.3 in /usr/local/lib/python3.7/dist-packages (from tensorflow<2.8,>=2.7.0->tensorflow-text) (1.43.0)\n",
      "Requirement already satisfied: protobuf>=3.9.2 in /usr/local/lib/python3.7/dist-packages (from tensorflow<2.8,>=2.7.0->tensorflow-text) (3.17.3)\n",
      "Requirement already satisfied: wrapt>=1.11.0 in /usr/local/lib/python3.7/dist-packages (from tensorflow<2.8,>=2.7.0->tensorflow-text) (1.13.3)\n",
      "Requirement already satisfied: gast<0.5.0,>=0.2.1 in /usr/local/lib/python3.7/dist-packages (from tensorflow<2.8,>=2.7.0->tensorflow-text) (0.4.0)\n",
      "Requirement already satisfied: tensorboard~=2.6 in /usr/local/lib/python3.7/dist-packages (from tensorflow<2.8,>=2.7.0->tensorflow-text) (2.7.0)\n",
      "Requirement already satisfied: flatbuffers<3.0,>=1.12 in /usr/local/lib/python3.7/dist-packages (from tensorflow<2.8,>=2.7.0->tensorflow-text) (2.0)\n",
      "Requirement already satisfied: tensorflow-io-gcs-filesystem>=0.21.0 in /usr/local/lib/python3.7/dist-packages (from tensorflow<2.8,>=2.7.0->tensorflow-text) (0.23.1)\n",
      "Requirement already satisfied: termcolor>=1.1.0 in /usr/local/lib/python3.7/dist-packages (from tensorflow<2.8,>=2.7.0->tensorflow-text) (1.1.0)\n",
      "Requirement already satisfied: libclang>=9.0.1 in /usr/local/lib/python3.7/dist-packages (from tensorflow<2.8,>=2.7.0->tensorflow-text) (12.0.0)\n",
      "Requirement already satisfied: google-pasta>=0.1.1 in /usr/local/lib/python3.7/dist-packages (from tensorflow<2.8,>=2.7.0->tensorflow-text) (0.2.0)\n",
      "Requirement already satisfied: tensorflow-estimator<2.8,~=2.7.0rc0 in /usr/local/lib/python3.7/dist-packages (from tensorflow<2.8,>=2.7.0->tensorflow-text) (2.7.0)\n",
      "Requirement already satisfied: keras-preprocessing>=1.1.1 in /usr/local/lib/python3.7/dist-packages (from tensorflow<2.8,>=2.7.0->tensorflow-text) (1.1.2)\n",
      "Requirement already satisfied: astunparse>=1.6.0 in /usr/local/lib/python3.7/dist-packages (from tensorflow<2.8,>=2.7.0->tensorflow-text) (1.6.3)\n",
      "Requirement already satisfied: keras<2.8,>=2.7.0rc0 in /usr/local/lib/python3.7/dist-packages (from tensorflow<2.8,>=2.7.0->tensorflow-text) (2.7.0)\n",
      "Requirement already satisfied: cached-property in /usr/local/lib/python3.7/dist-packages (from h5py>=2.9.0->tensorflow<2.8,>=2.7.0->tensorflow-text) (1.5.2)\n",
      "Requirement already satisfied: tensorboard-data-server<0.7.0,>=0.6.0 in /usr/local/lib/python3.7/dist-packages (from tensorboard~=2.6->tensorflow<2.8,>=2.7.0->tensorflow-text) (0.6.1)\n",
      "Requirement already satisfied: werkzeug>=0.11.15 in /usr/local/lib/python3.7/dist-packages (from tensorboard~=2.6->tensorflow<2.8,>=2.7.0->tensorflow-text) (1.0.1)\n",
      "Requirement already satisfied: google-auth-oauthlib<0.5,>=0.4.1 in /usr/local/lib/python3.7/dist-packages (from tensorboard~=2.6->tensorflow<2.8,>=2.7.0->tensorflow-text) (0.4.6)\n",
      "Requirement already satisfied: google-auth<3,>=1.6.3 in /usr/local/lib/python3.7/dist-packages (from tensorboard~=2.6->tensorflow<2.8,>=2.7.0->tensorflow-text) (1.35.0)\n",
      "Requirement already satisfied: markdown>=2.6.8 in /usr/local/lib/python3.7/dist-packages (from tensorboard~=2.6->tensorflow<2.8,>=2.7.0->tensorflow-text) (3.3.6)\n",
      "Requirement already satisfied: tensorboard-plugin-wit>=1.6.0 in /usr/local/lib/python3.7/dist-packages (from tensorboard~=2.6->tensorflow<2.8,>=2.7.0->tensorflow-text) (1.8.1)\n",
      "Requirement already satisfied: cachetools<5.0,>=2.0.0 in /usr/local/lib/python3.7/dist-packages (from google-auth<3,>=1.6.3->tensorboard~=2.6->tensorflow<2.8,>=2.7.0->tensorflow-text) (4.2.4)\n",
      "Requirement already satisfied: rsa<5,>=3.1.4 in /usr/local/lib/python3.7/dist-packages (from google-auth<3,>=1.6.3->tensorboard~=2.6->tensorflow<2.8,>=2.7.0->tensorflow-text) (4.8)\n",
      "Requirement already satisfied: pyasn1-modules>=0.2.1 in /usr/local/lib/python3.7/dist-packages (from google-auth<3,>=1.6.3->tensorboard~=2.6->tensorflow<2.8,>=2.7.0->tensorflow-text) (0.2.8)\n",
      "Requirement already satisfied: requests-oauthlib>=0.7.0 in /usr/local/lib/python3.7/dist-packages (from google-auth-oauthlib<0.5,>=0.4.1->tensorboard~=2.6->tensorflow<2.8,>=2.7.0->tensorflow-text) (1.3.0)\n",
      "Requirement already satisfied: pyasn1<0.5.0,>=0.4.6 in /usr/local/lib/python3.7/dist-packages (from pyasn1-modules>=0.2.1->google-auth<3,>=1.6.3->tensorboard~=2.6->tensorflow<2.8,>=2.7.0->tensorflow-text) (0.4.8)\n",
      "Requirement already satisfied: oauthlib>=3.0.0 in /usr/local/lib/python3.7/dist-packages (from requests-oauthlib>=0.7.0->google-auth-oauthlib<0.5,>=0.4.1->tensorboard~=2.6->tensorflow<2.8,>=2.7.0->tensorflow-text) (3.1.1)\n",
      "Collecting yarl<2.0,>=1.0\n",
      "  Downloading yarl-1.7.2-cp37-cp37m-manylinux_2_5_x86_64.manylinux1_x86_64.manylinux_2_12_x86_64.manylinux2010_x86_64.whl (271 kB)\n",
      "\u001b[K     |████████████████████████████████| 271 kB 73.2 MB/s \n",
      "\u001b[?25hCollecting multidict<7.0,>=4.5\n",
      "  Downloading multidict-6.0.2-cp37-cp37m-manylinux_2_17_x86_64.manylinux2014_x86_64.whl (94 kB)\n",
      "\u001b[K     |████████████████████████████████| 94 kB 4.5 MB/s \n",
      "\u001b[?25hCollecting asynctest==0.13.0\n",
      "  Downloading asynctest-0.13.0-py3-none-any.whl (26 kB)\n",
      "Requirement already satisfied: charset-normalizer<3.0,>=2.0 in /usr/local/lib/python3.7/dist-packages (from aiohttp->datasets) (2.0.10)\n",
      "Collecting frozenlist>=1.1.1\n",
      "  Downloading frozenlist-1.3.0-cp37-cp37m-manylinux_2_5_x86_64.manylinux1_x86_64.manylinux_2_17_x86_64.manylinux2014_x86_64.whl (144 kB)\n",
      "\u001b[K     |████████████████████████████████| 144 kB 78.3 MB/s \n",
      "\u001b[?25hRequirement already satisfied: attrs>=17.3.0 in /usr/local/lib/python3.7/dist-packages (from aiohttp->datasets) (21.4.0)\n",
      "Collecting aiosignal>=1.1.2\n",
      "  Downloading aiosignal-1.2.0-py3-none-any.whl (8.2 kB)\n",
      "Collecting async-timeout<5.0,>=4.0.0a3\n",
      "  Downloading async_timeout-4.0.2-py3-none-any.whl (5.8 kB)\n",
      "Requirement already satisfied: MarkupSafe>=0.23 in /usr/local/lib/python3.7/dist-packages (from jinja2->spacy) (2.0.1)\n",
      "Installing collected packages: multidict, frozenlist, yarl, catalogue, asynctest, async-timeout, aiosignal, typer, srsly, pydantic, fsspec, aiohttp, xxhash, thinc, spacy-loggers, spacy-legacy, scipy, pathy, langcodes, huggingface-hub, tensorflow-text, spacy, datasets\n",
      "  Attempting uninstall: catalogue\n",
      "    Found existing installation: catalogue 1.0.0\n",
      "    Uninstalling catalogue-1.0.0:\n",
      "      Successfully uninstalled catalogue-1.0.0\n",
      "  Attempting uninstall: srsly\n",
      "    Found existing installation: srsly 1.0.5\n",
      "    Uninstalling srsly-1.0.5:\n",
      "      Successfully uninstalled srsly-1.0.5\n",
      "  Attempting uninstall: thinc\n",
      "    Found existing installation: thinc 7.4.0\n",
      "    Uninstalling thinc-7.4.0:\n",
      "      Successfully uninstalled thinc-7.4.0\n",
      "  Attempting uninstall: scipy\n",
      "    Found existing installation: scipy 1.4.1\n",
      "    Uninstalling scipy-1.4.1:\n",
      "      Successfully uninstalled scipy-1.4.1\n",
      "  Attempting uninstall: spacy\n",
      "    Found existing installation: spacy 2.2.4\n",
      "    Uninstalling spacy-2.2.4:\n",
      "      Successfully uninstalled spacy-2.2.4\n",
      "\u001b[31mERROR: pip's dependency resolver does not currently take into account all the packages that are installed. This behaviour is the source of the following dependency conflicts.\n",
      "albumentations 0.1.12 requires imgaug<0.2.7,>=0.2.5, but you have imgaug 0.2.9 which is incompatible.\u001b[0m\n",
      "Successfully installed aiohttp-3.8.1 aiosignal-1.2.0 async-timeout-4.0.2 asynctest-0.13.0 catalogue-2.0.6 datasets-1.18.2 frozenlist-1.3.0 fsspec-2022.1.0 huggingface-hub-0.4.0 langcodes-3.3.0 multidict-6.0.2 pathy-0.6.1 pydantic-1.8.2 scipy-1.7.3 spacy-3.2.1 spacy-legacy-3.0.8 spacy-loggers-1.0.1 srsly-2.4.2 tensorflow-text-2.7.3 thinc-8.0.13 typer-0.4.0 xxhash-2.0.2 yarl-1.7.2\n",
      "Collecting ru-core-news-md==3.2.0\n",
      "  Downloading https://github.com/explosion/spacy-models/releases/download/ru_core_news_md-3.2.0/ru_core_news_md-3.2.0-py3-none-any.whl (43.0 MB)\n",
      "\u001b[K     |████████████████████████████████| 43.0 MB 1.2 MB/s \n",
      "\u001b[?25hRequirement already satisfied: spacy<3.3.0,>=3.2.0 in /usr/local/lib/python3.7/dist-packages (from ru-core-news-md==3.2.0) (3.2.1)\n",
      "Requirement already satisfied: pymorphy2>=0.9 in /usr/local/lib/python3.7/dist-packages (from ru-core-news-md==3.2.0) (0.9.1)\n",
      "Requirement already satisfied: pymorphy2-dicts-ru<3.0,>=2.4 in /usr/local/lib/python3.7/dist-packages (from pymorphy2>=0.9->ru-core-news-md==3.2.0) (2.4.417127.4579844)\n",
      "Requirement already satisfied: dawg-python>=0.7.1 in /usr/local/lib/python3.7/dist-packages (from pymorphy2>=0.9->ru-core-news-md==3.2.0) (0.7.2)\n",
      "Requirement already satisfied: docopt>=0.6 in /usr/local/lib/python3.7/dist-packages (from pymorphy2>=0.9->ru-core-news-md==3.2.0) (0.6.2)\n",
      "Requirement already satisfied: pathy>=0.3.5 in /usr/local/lib/python3.7/dist-packages (from spacy<3.3.0,>=3.2.0->ru-core-news-md==3.2.0) (0.6.1)\n",
      "Requirement already satisfied: catalogue<2.1.0,>=2.0.6 in /usr/local/lib/python3.7/dist-packages (from spacy<3.3.0,>=3.2.0->ru-core-news-md==3.2.0) (2.0.6)\n",
      "Requirement already satisfied: packaging>=20.0 in /usr/local/lib/python3.7/dist-packages (from spacy<3.3.0,>=3.2.0->ru-core-news-md==3.2.0) (21.3)\n",
      "Requirement already satisfied: blis<0.8.0,>=0.4.0 in /usr/local/lib/python3.7/dist-packages (from spacy<3.3.0,>=3.2.0->ru-core-news-md==3.2.0) (0.4.1)\n",
      "Requirement already satisfied: murmurhash<1.1.0,>=0.28.0 in /usr/local/lib/python3.7/dist-packages (from spacy<3.3.0,>=3.2.0->ru-core-news-md==3.2.0) (1.0.6)\n",
      "Requirement already satisfied: typer<0.5.0,>=0.3.0 in /usr/local/lib/python3.7/dist-packages (from spacy<3.3.0,>=3.2.0->ru-core-news-md==3.2.0) (0.4.0)\n",
      "Requirement already satisfied: wasabi<1.1.0,>=0.8.1 in /usr/local/lib/python3.7/dist-packages (from spacy<3.3.0,>=3.2.0->ru-core-news-md==3.2.0) (0.9.0)\n",
      "Requirement already satisfied: langcodes<4.0.0,>=3.2.0 in /usr/local/lib/python3.7/dist-packages (from spacy<3.3.0,>=3.2.0->ru-core-news-md==3.2.0) (3.3.0)\n",
      "Requirement already satisfied: tqdm<5.0.0,>=4.38.0 in /usr/local/lib/python3.7/dist-packages (from spacy<3.3.0,>=3.2.0->ru-core-news-md==3.2.0) (4.62.3)\n",
      "Requirement already satisfied: preshed<3.1.0,>=3.0.2 in /usr/local/lib/python3.7/dist-packages (from spacy<3.3.0,>=3.2.0->ru-core-news-md==3.2.0) (3.0.6)\n",
      "Requirement already satisfied: setuptools in /usr/local/lib/python3.7/dist-packages (from spacy<3.3.0,>=3.2.0->ru-core-news-md==3.2.0) (57.4.0)\n",
      "Requirement already satisfied: spacy-loggers<2.0.0,>=1.0.0 in /usr/local/lib/python3.7/dist-packages (from spacy<3.3.0,>=3.2.0->ru-core-news-md==3.2.0) (1.0.1)\n",
      "Requirement already satisfied: thinc<8.1.0,>=8.0.12 in /usr/local/lib/python3.7/dist-packages (from spacy<3.3.0,>=3.2.0->ru-core-news-md==3.2.0) (8.0.13)\n",
      "Requirement already satisfied: numpy>=1.15.0 in /usr/local/lib/python3.7/dist-packages (from spacy<3.3.0,>=3.2.0->ru-core-news-md==3.2.0) (1.19.5)\n",
      "Requirement already satisfied: spacy-legacy<3.1.0,>=3.0.8 in /usr/local/lib/python3.7/dist-packages (from spacy<3.3.0,>=3.2.0->ru-core-news-md==3.2.0) (3.0.8)\n",
      "Requirement already satisfied: typing-extensions<4.0.0.0,>=3.7.4 in /usr/local/lib/python3.7/dist-packages (from spacy<3.3.0,>=3.2.0->ru-core-news-md==3.2.0) (3.10.0.2)\n",
      "Requirement already satisfied: jinja2 in /usr/local/lib/python3.7/dist-packages (from spacy<3.3.0,>=3.2.0->ru-core-news-md==3.2.0) (2.11.3)\n",
      "Requirement already satisfied: pydantic!=1.8,!=1.8.1,<1.9.0,>=1.7.4 in /usr/local/lib/python3.7/dist-packages (from spacy<3.3.0,>=3.2.0->ru-core-news-md==3.2.0) (1.8.2)\n",
      "Requirement already satisfied: requests<3.0.0,>=2.13.0 in /usr/local/lib/python3.7/dist-packages (from spacy<3.3.0,>=3.2.0->ru-core-news-md==3.2.0) (2.23.0)\n",
      "Requirement already satisfied: cymem<2.1.0,>=2.0.2 in /usr/local/lib/python3.7/dist-packages (from spacy<3.3.0,>=3.2.0->ru-core-news-md==3.2.0) (2.0.6)\n",
      "Requirement already satisfied: srsly<3.0.0,>=2.4.1 in /usr/local/lib/python3.7/dist-packages (from spacy<3.3.0,>=3.2.0->ru-core-news-md==3.2.0) (2.4.2)\n",
      "Requirement already satisfied: zipp>=0.5 in /usr/local/lib/python3.7/dist-packages (from catalogue<2.1.0,>=2.0.6->spacy<3.3.0,>=3.2.0->ru-core-news-md==3.2.0) (3.7.0)\n",
      "Requirement already satisfied: pyparsing!=3.0.5,>=2.0.2 in /usr/local/lib/python3.7/dist-packages (from packaging>=20.0->spacy<3.3.0,>=3.2.0->ru-core-news-md==3.2.0) (3.0.7)\n",
      "Requirement already satisfied: smart-open<6.0.0,>=5.0.0 in /usr/local/lib/python3.7/dist-packages (from pathy>=0.3.5->spacy<3.3.0,>=3.2.0->ru-core-news-md==3.2.0) (5.2.1)\n",
      "Requirement already satisfied: certifi>=2017.4.17 in /usr/local/lib/python3.7/dist-packages (from requests<3.0.0,>=2.13.0->spacy<3.3.0,>=3.2.0->ru-core-news-md==3.2.0) (2021.10.8)\n",
      "Requirement already satisfied: idna<3,>=2.5 in /usr/local/lib/python3.7/dist-packages (from requests<3.0.0,>=2.13.0->spacy<3.3.0,>=3.2.0->ru-core-news-md==3.2.0) (2.10)\n",
      "Requirement already satisfied: chardet<4,>=3.0.2 in /usr/local/lib/python3.7/dist-packages (from requests<3.0.0,>=2.13.0->spacy<3.3.0,>=3.2.0->ru-core-news-md==3.2.0) (3.0.4)\n",
      "Requirement already satisfied: urllib3!=1.25.0,!=1.25.1,<1.26,>=1.21.1 in /usr/local/lib/python3.7/dist-packages (from requests<3.0.0,>=2.13.0->spacy<3.3.0,>=3.2.0->ru-core-news-md==3.2.0) (1.24.3)\n",
      "Requirement already satisfied: click<9.0.0,>=7.1.1 in /usr/local/lib/python3.7/dist-packages (from typer<0.5.0,>=0.3.0->spacy<3.3.0,>=3.2.0->ru-core-news-md==3.2.0) (7.1.2)\n",
      "Requirement already satisfied: MarkupSafe>=0.23 in /usr/local/lib/python3.7/dist-packages (from jinja2->spacy<3.3.0,>=3.2.0->ru-core-news-md==3.2.0) (2.0.1)\n",
      "Installing collected packages: ru-core-news-md\n",
      "Successfully installed ru-core-news-md-3.2.0\n",
      "\u001b[38;5;2m✔ Download and installation successful\u001b[0m\n",
      "You can now load the package via spacy.load('ru_core_news_md')\n"
     ]
    }
   ],
   "source": [
    "!pip install razdel networkx pymorphy2[fast] nltk rouge==0.3.1 summa lexrank sumy\n",
    "!pip install --upgrade datasets razdel spacy networkx seaborn scipy tqdm tensorflow-text\n",
    "!python -m spacy download ru_core_news_md"
   ]
  },
  {
   "cell_type": "markdown",
   "metadata": {
    "id": "cCg5QbJmEtJ9"
   },
   "source": [
    "## Загрузим данные с помощью библиотеки datasets"
   ]
  },
  {
   "cell_type": "code",
   "execution_count": null,
   "metadata": {
    "colab": {
     "base_uri": "https://localhost:8080/",
     "height": 345,
     "referenced_widgets": [
      "c42d8840df8b460583212c381750f92b",
      "be7b99eb79914c078d4795009e5edd89",
      "c8efedac24b74dc7992af313cd73a864",
      "7a39e968155d43deaf621db28383be6d",
      "12d4a0ce0a3544b189b3d3a1e3a7eaca",
      "3a96f869934c402389268a2e0efee036",
      "971dc2f1d0274f2b88f1b12cfbe0f9cc",
      "0a50e8f1dee84575982ca788affbeeaa",
      "a6e47b21f3c4424ca8b99d2b1a37e91f",
      "f6a41cdb62e947cd99a276485b385e9e",
      "816cbc1eb63745039a0d5c6e91f74ff5",
      "4685729c59a841e88959efdceab5364b",
      "887203e89b734df9baa72e35e499baf8",
      "ad0b1339ea514cd0a0d86591c735fc57",
      "f47db080911d4eb9b3a07cd5836e91a3",
      "0986d41762194b8195821cead8105bbc",
      "59ee36ba22024b2099b77628ce47bdbe",
      "f11064cd4ea7473ab487f01a99c9fd56",
      "a739cea8270d4297a90b6c5fb3756250",
      "a54f2d92561e40f583adeb6c114e9a0b",
      "29496bab0482488599006bbbeaa8dad4",
      "faf3c98df82449d5b7d466030c64b397",
      "a80180c77bb947aeb231e9c777688254",
      "a929b93438c54e068326e4f621c92d40",
      "d0569f51ba4046fc83b878dcb0d71888",
      "eca671d9727f4a5084f4d9e35999b569",
      "04514c2ea22f497c8bf7490f70f62e1b",
      "8a53b4a17e3c4327a52ea0f894811456",
      "413114a67751481489a3b54239c3db64",
      "c384cbc65a564e4a82c7655e29767060",
      "e28ad5861bfb4b8c9db0857dcb7f5eef",
      "2633b1aea102451d9bddcb4d6bb7b0b6",
      "e9689a65aca7420cbf952c6b1a05d22d",
      "42684d32e2224ca69332cf3a58fc909a",
      "4e230e7db4634d77a7aa06072be99272",
      "fe7fca306d3149fa8e9f2d225c849f30",
      "bab678c4243b42239a09604fcbfb4872",
      "6d5ca877b338497db47c555f09c792a2",
      "daafd362f0414bb49686e35343f4843b",
      "2ea46f5dd5244b26b331c340891d1d4d",
      "d253016d12e64f6bba8bc435b0a92f1e",
      "24dd39e63d854f1d97f4942491c0001f",
      "1d51659bf3a64371ab63bbaca9c3f59e",
      "0c751f9de9924f1791cb5d5d6758652d",
      "c876d5b54a564fa9925bb90e6c450206",
      "5853f7f825164226b04f1a0c7b53c602",
      "061882c62efa4307b5b7818a86128fe9",
      "e15f5b1fa4d349e08595ead19f3a6384",
      "befeb590b3fb463f849ac6147263bd20",
      "b25dcd717dd8430391db91a7a1d40767",
      "146b9764ce5c43efaef12e6a5495c50e",
      "8de61b4888cf4380906a177d093a0846",
      "cfe67d676aff4ccbaeee847c5634a6e0",
      "4f357f17f9244ac6b438f1869619791a",
      "5c5e7c936b0b44df8a1a067968cf513a",
      "0949df4acc5c47f0ac9d90c4a06d9927",
      "c4fac858744a4a35940cd775927c7bc2",
      "ba66d08c3620469ab40f4e0716c66139",
      "01bd5489043448c69f584efeb038fe4e",
      "72367797143d40f4b49242d0debad78c",
      "7aef6c7d8d884835ab000bf2c4b85e68",
      "88697a3aef9a46a3ac58e53cde409abe",
      "d3d4025630114f90baa42b3f5a2af410",
      "0aff81abe7da4fbf80d334d3b3abfa9f",
      "3192f4dce2e642ebb25753b24df7401c",
      "d2e969eb7c4b44cf8c925eba8251521c",
      "41de20e25bcc43d9b8df6571be6d3c53",
      "ab446a91c8384db482dc2cae4587ebc1",
      "b9b60b57ee744f38b553f0dbc3b5c7bb",
      "7887368418704136ac1879d95d49d796",
      "33fcd04c17f4459fb598ac61da715b07",
      "cc7a37e9b0db4531bcbd3a3b7c4c6e03",
      "43d743fdbd424774894698d927826623",
      "0fcc19310cd048feb1d3702059eac11e",
      "15221fec3d114af78ad9095b45a6e867",
      "9f162990795c4d8d83bea00ddf3751d7",
      "bf922be716334bafa4f311786b4da1f6",
      "27134577ae6e4db08f6b214cd32c6e0a",
      "e595b524703743f29ac305dd1caa1281",
      "294532fa1920415a9ecec4c14ac660bd",
      "1dac54fa8d2549b38a622e746eb61aa3",
      "ed729cc894ff4992b60b2260d780df27",
      "e910d1a2543e48639150158f920b714e",
      "3235e7664c954d25b73e5e847e4ab6e2",
      "3a7eca34c89c4d239ac919cd6da759fa",
      "ff8b20f9e02546e29480012001978075",
      "cfe88785d28743859067b37ec6208cb8",
      "0c85eb11a1e54ed688fb75e8f4648dee",
      "54f43fe7a47b471290a5d3f4ba0e9cf8",
      "0e4b7aa6e2de4418b7311ca43e13b9d5",
      "d521f12888c843499ab2bb5f639e55fe",
      "c66ee7c49b744611b40e0513437a31f0",
      "f654242ddc6a4436a877cb0a3f5759a5",
      "43df1bf78d08466a90aceaf653d05d15",
      "24faf474ffb64f949bb9ff290652f67b",
      "48022a4a7f304df6b04cc791c25f2a81",
      "14172cc75c3e4b37b32bb44aad8bb039",
      "79ac74ac1617496ca66e18b55a021511",
      "b3fa7284ef184de2907657a4f9d2c1c2",
      "0a19d2d0891848fbbccd1ce22ecadb97",
      "bc91c8d929b24c8d9eadf2f7cf6e5cda",
      "f7aaf3ee7ed945eaa8576ca70f57b642",
      "e570e2f635ed4b419b632aa8f2de6968",
      "9b1760c6d7a44a88a6711157ef713da9",
      "ad4db573e8c340bc8c866361ae18226d",
      "d4cc7b161dde4b709dfd178cc2a37618",
      "53021f6f495c4988a39c595144b36d51",
      "2b6ee3112b034d85b0f3a0b1cb657f13",
      "7a437d68ef3e4203bcced9c806157516",
      "a4510ff62e3b419a9d98057bdd1caeeb",
      "2ef3709043ff461da753a94aed5bc411",
      "8b724c86093844778e7eafa1f2d1cccb",
      "02a46860c0c34c1aa29ae74a0e6f67b4",
      "fca3a57560a946c09d07f09b01974c31",
      "7a154f73a8524d18b4cf82af429e82c8",
      "7b68f03a590e4339a1eeb01979c7f62e",
      "72dcee5627ab4daa95edd542d996f6e3",
      "6e6e9a1dd259413ba4fc178186506fc6",
      "48df84fe6532421a8eb7c6fab5bbbd07",
      "6ffdd29d76c54fd39bf87cf93121bd73",
      "71f3dd7805a044f5b5fdedca54a6e89b"
     ]
    },
    "id": "q5v_CgWVEs4Q",
    "outputId": "e5021e5a-c60d-4bc1-8e5d-179a32632a93"
   },
   "outputs": [
    {
     "data": {
      "application/vnd.jupyter.widget-view+json": {
       "model_id": "c42d8840df8b460583212c381750f92b",
       "version_major": 2,
       "version_minor": 0
      },
      "text/plain": [
       "Downloading:   0%|          | 0.00/2.98k [00:00<?, ?B/s]"
      ]
     },
     "metadata": {},
     "output_type": "display_data"
    },
    {
     "data": {
      "application/vnd.jupyter.widget-view+json": {
       "model_id": "4685729c59a841e88959efdceab5364b",
       "version_major": 2,
       "version_minor": 0
      },
      "text/plain": [
       "Downloading:   0%|          | 0.00/3.87k [00:00<?, ?B/s]"
      ]
     },
     "metadata": {},
     "output_type": "display_data"
    },
    {
     "name": "stderr",
     "output_type": "stream",
     "text": [
      "No config specified, defaulting to: gazeta_dataset/default\n"
     ]
    },
    {
     "name": "stdout",
     "output_type": "stream",
     "text": [
      "Downloading and preparing dataset gazeta_dataset/default (download: 545.11 MiB, generated: 542.44 MiB, post-processed: Unknown size, total: 1.06 GiB) to /root/.cache/huggingface/datasets/IlyaGusev___gazeta_dataset/default/1.0.0/ef9349c3c0f3112ca4036520d76c4bc1b8a79d30bc29643c6cae5a094d44e457...\n"
     ]
    },
    {
     "data": {
      "application/vnd.jupyter.widget-view+json": {
       "model_id": "a80180c77bb947aeb231e9c777688254",
       "version_major": 2,
       "version_minor": 0
      },
      "text/plain": [
       "  0%|          | 0/3 [00:00<?, ?it/s]"
      ]
     },
     "metadata": {},
     "output_type": "display_data"
    },
    {
     "data": {
      "application/vnd.jupyter.widget-view+json": {
       "model_id": "42684d32e2224ca69332cf3a58fc909a",
       "version_major": 2,
       "version_minor": 0
      },
      "text/plain": [
       "Downloading:   0%|          | 0.00/471M [00:00<?, ?B/s]"
      ]
     },
     "metadata": {},
     "output_type": "display_data"
    },
    {
     "data": {
      "application/vnd.jupyter.widget-view+json": {
       "model_id": "c876d5b54a564fa9925bb90e6c450206",
       "version_major": 2,
       "version_minor": 0
      },
      "text/plain": [
       "Downloading:   0%|          | 0.00/48.6M [00:00<?, ?B/s]"
      ]
     },
     "metadata": {},
     "output_type": "display_data"
    },
    {
     "data": {
      "application/vnd.jupyter.widget-view+json": {
       "model_id": "0949df4acc5c47f0ac9d90c4a06d9927",
       "version_major": 2,
       "version_minor": 0
      },
      "text/plain": [
       "Downloading:   0%|          | 0.00/52.1M [00:00<?, ?B/s]"
      ]
     },
     "metadata": {},
     "output_type": "display_data"
    },
    {
     "data": {
      "application/vnd.jupyter.widget-view+json": {
       "model_id": "41de20e25bcc43d9b8df6571be6d3c53",
       "version_major": 2,
       "version_minor": 0
      },
      "text/plain": [
       "  0%|          | 0/3 [00:00<?, ?it/s]"
      ]
     },
     "metadata": {},
     "output_type": "display_data"
    },
    {
     "data": {
      "application/vnd.jupyter.widget-view+json": {
       "model_id": "27134577ae6e4db08f6b214cd32c6e0a",
       "version_major": 2,
       "version_minor": 0
      },
      "text/plain": [
       "0 examples [00:00, ? examples/s]"
      ]
     },
     "metadata": {},
     "output_type": "display_data"
    },
    {
     "data": {
      "application/vnd.jupyter.widget-view+json": {
       "model_id": "54f43fe7a47b471290a5d3f4ba0e9cf8",
       "version_major": 2,
       "version_minor": 0
      },
      "text/plain": [
       "0 examples [00:00, ? examples/s]"
      ]
     },
     "metadata": {},
     "output_type": "display_data"
    },
    {
     "data": {
      "application/vnd.jupyter.widget-view+json": {
       "model_id": "0a19d2d0891848fbbccd1ce22ecadb97",
       "version_major": 2,
       "version_minor": 0
      },
      "text/plain": [
       "0 examples [00:00, ? examples/s]"
      ]
     },
     "metadata": {},
     "output_type": "display_data"
    },
    {
     "name": "stdout",
     "output_type": "stream",
     "text": [
      "Dataset gazeta_dataset downloaded and prepared to /root/.cache/huggingface/datasets/IlyaGusev___gazeta_dataset/default/1.0.0/ef9349c3c0f3112ca4036520d76c4bc1b8a79d30bc29643c6cae5a094d44e457. Subsequent calls will reuse this data.\n"
     ]
    },
    {
     "data": {
      "application/vnd.jupyter.widget-view+json": {
       "model_id": "2ef3709043ff461da753a94aed5bc411",
       "version_major": 2,
       "version_minor": 0
      },
      "text/plain": [
       "  0%|          | 0/3 [00:00<?, ?it/s]"
      ]
     },
     "metadata": {},
     "output_type": "display_data"
    }
   ],
   "source": [
    "# по сути данные те же можно пользоваться любым способом загрузки\n",
    "from datasets import load_dataset\n",
    "\n",
    "dataset = load_dataset('IlyaGusev/gazeta', revision=\"v1.0\")[\"test\"]"
   ]
  },
  {
   "cell_type": "markdown",
   "metadata": {
    "id": "liva5vCf3pVQ"
   },
   "source": [
    "## EDA (Exploratory data analysis)"
   ]
  },
  {
   "cell_type": "markdown",
   "metadata": {
    "id": "Wa0NfryxbPUP"
   },
   "source": [
    "### Dataset"
   ]
  },
  {
   "cell_type": "markdown",
   "metadata": {
    "id": "eesnclfDDV3F"
   },
   "source": [
    "Посмотрим на то, как устроен датасет"
   ]
  },
  {
   "cell_type": "code",
   "execution_count": null,
   "metadata": {
    "colab": {
     "base_uri": "https://localhost:8080/"
    },
    "id": "Mz6CZYKQhnd-",
    "outputId": "7b015e16-655c-4d87-9adb-1259a9f65336"
   },
   "outputs": [
    {
     "name": "stdout",
     "output_type": "stream",
     "text": [
      "{\"url\": \"https://www.gazeta.ru/financial/2011/11/30/3852658.shtml\", \"text\": \"«По итогам 2011 года чистый отток может составить примерно $80 млрд, в следующем году — около $20 млрд. При этом мы ожидаем, что со второго полугодия 2012 года начнется приток капитала», — заявил «Интерфаксу» замминистра экономического развития Андрей Клепач. Официальные прогнозы по выводу капитала из России становятся все пессимистичными: еще летом власти полагали, что из страны уйдет не более $35 млрд, в сентябре Минэкономразвития назвал цифру $50 млрд, в начале ноября Центробанк пересмотрел оценку до $70 млрд. Очередное изменение прогноза было ожидаемо: по расчетам Центробанка , за январь — октябрь чистый отток капитала достиг $64 млрд, причем в последние месяцы он ускорился: в сентябре он составил $14 млрд, в октябре — $13 млрд против среднего ежемесячного оттока в $6—8 млрд в первом полугодии. «После октябрьских данных Минэкономразвития вынуждено было изменить оценку, настаивать на $70 млрд означало ожидать серьезного замедления оттока капитала на непонятно каких причинах», — говорит главный экономист BNP Paribas Юлия Цепляева. «В последние два месяца отток капитала ускорится, на декабрь приходится значительная часть выплат по внешним долгам, что приводит к усилению оттока, особенно если они не рефинансируются новыми кредитами», — соглашается главный экономист ФК «Открытие» Владимир Тихомиров. Прогнозируемый Минэкономразвития отток капитала — один из самых высоких за последние 20 лет. Больше ушло лишь в 2008 году на фоне разрастания финансового кризиса и российско-грузинской войны — $133,7 млрд. В кризисный 2009 год из России утекло $56,1 млрд. Главный фактор ускорения оттока капитала в 2011 году — нестабильность на внешних финансовых рынках и рост опасений относительно второй волны рецессии. «Это реакция на неуверенность, которую генерирует Европа с долговыми проблемами. В случае новой волны глобальной турбулентности Россия — одна из самых уязвимых стран», — говорит Цепляева. Еще одна причина — ослабление рубля. «Привлекательность вложений снижается на фоне того, что рубль перестал укрепляться, а ставки по депозитам достаточно низкие. В результате экспортеры не полностью возвращают экспортную выручку», — говорит Тихомиров. Внутри страны эксперты не видят особых причин для бегства капитала. «Ситуация выглядит достаточно позитивно, очень хорошие макроэкономические результаты за год, особенно на фоне других стран. С политической точки зрения все достаточно понятно и предсказуемо, итог выборов очевиден», — говорит экономист ИК «Тройка Диалог» Антон Струченевский. Тем не менее политический фактор играет роль. «Бизнесу важно не только, кто будет президентом, он ждет ясности с перестановками в правительстве. В наших условиях административный ресурс важнее всего для успешности бизнеса», — говорит Цепляева, добавляя, что отток капитала продолжится до завершения президентских выборов.\", \"title\": \"Прогноз не успевает за оттоком\", \"summary\": \"В 2011 году из России уйдет $80 млрд, считают в Минэкономразвития. Менее месяца назад Центробанк давал оценку $70 млрд, повысив первоначальный прогноз вдвое. Отток капитала из страны усиливается из-за кризиса в Европе, а в декабре российским компаниям выплачивать внешние долги. На движение капитала повлияли и выборы: несмотря на их предсказуемость, бизнес хочет ясности с перестановками в правительстве.\", \"date\": \"2011-11-30 18:33:39\"}\n",
      "52400\n",
      "5265\n",
      "5770\n"
     ]
    }
   ],
   "source": [
    "!head -n 1 gazeta_train.txt\n",
    "!cat gazeta_train.txt | wc -l\n",
    "!cat gazeta_val.txt | wc -l\n",
    "!cat gazeta_test.txt | wc -l"
   ]
  },
  {
   "cell_type": "code",
   "execution_count": null,
   "metadata": {
    "id": "5pZ2UGS2DGjH"
   },
   "outputs": [],
   "source": [
    "import json\n",
    "import random\n",
    "\n",
    "def read_gazeta_records(file_name, shuffle=True, sort_by_date=False):\n",
    "    assert shuffle != sort_by_date\n",
    "    records = []\n",
    "    with open(file_name, \"r\") as r:\n",
    "        for line in r:\n",
    "            records.append(json.loads(line))\n",
    "    if sort_by_date:\n",
    "        records.sort(key=lambda x: x[\"date\"])\n",
    "    if shuffle:\n",
    "        random.shuffle\n",
    "    return records"
   ]
  },
  {
   "cell_type": "code",
   "execution_count": null,
   "metadata": {
    "id": "GNDp-BunEA91"
   },
   "outputs": [],
   "source": [
    "train_records = read_gazeta_records(\"gazeta_train.txt\")\n",
    "val_records = read_gazeta_records(\"gazeta_val.txt\")\n",
    "test_records = read_gazeta_records(\"gazeta_test.txt\")"
   ]
  },
  {
   "cell_type": "code",
   "execution_count": null,
   "metadata": {
    "colab": {
     "base_uri": "https://localhost:8080/"
    },
    "id": "j8G8Fv8W3gWt",
    "outputId": "ff44bc0f-3acf-42cd-a0ae-34124ac20764"
   },
   "outputs": [
    {
     "data": {
      "text/plain": [
       "{'date': '2020-02-14 16:39:11',\n",
       " 'summary': 'В NASA назвали четыре миссии в дальний космос, которые в этом десятилетии могут быть запущены американцами. Среди них — две миссии по изучению Венеры, полет к спутнику Юпитера и экспедиция к Тритону, спутнику Нептуна.',\n",
       " 'text': 'Американское аэрокосмическое агентство NASA огласило названия четырех космических миссий, которые в скором времени могут быть выбраны для реализации и запуск которых может состояться уже в конце этого десятилетия. Эти четыре проекта стали полуфиналистами конкурса, объявленного среди американских научных команд, в котором участвовало более десяти миссий. Все они были отобраны по критериям потенциальной пользы для науки и технической осуществимости проекта. В рамках программы Discovery NASA занимается планированием миссий, которые призваны дать ответы на фундаментальные вопросы о происхождении тел Солнечной системы и возможному наличию жизни на них. «Эти выбранные миссии могут трансформировать наше восприятие некоторых из наиболее активных и сложных миров в Солнечной системе, — заявил Томас Зурбучен, помощник директора NASA по науке. — Исследование каждого из этих небесных тел поможет раскрыть секреты о том, как они и им подобные объекты образовались в космосе». Каждый проект из выбранных полуфиналистов получит $3 млн на проработку концепции. Из четырех выбранных проектов NASA планирует отобрать две в 2021 году, чтобы профинансировать работу по их реализации в рамках программы Discovery. Два из четырех проектов посвящены исследованию Венеры, куда аппараты NASA не отправлялись уже свыше тридцати лет — с 1989 года, когда к этой планете был запущен зонд Magellan. Миссия VERITAS ( Venus Emissivity, Radio Science, InSAR, Topography, and Spectroscopy) призвана картировать поверхность Венеры для лучшего понимания геологической истории планеты и получения ответа на вопрос о причинах ее кардинальных отличий от Земли. Карта будет построена при помощи радара, установленного на орбитальном аппарате. В ходе миссии планируется узнать, продолжаются ли в наши дни на Венере тектонические и вулканические процессы. Кроме того, планируется картировать поверхность планеты в инфракрасном диапазоне. Миссия DAVINCI+ (Deep Atmosphere Venus Investigation of Noble gases, Chemistry and Imaging Plus) задумана для того, чтобы исследовать состав атмосферы Венеры, понять, как она формировалась и эволюционировала в прошлом, и ответить на вопрос о существовании когда-либо на планете жидкого океана. Сделать это планируется при помощи спускаемого аппарата, который будет проводить измерения от верхних слоев атмосферы до самой поверхности. Научные инструменты аппарата будут размещены внутри герметичного сферического корпуса, который должен защитить их от разрушительного воздействия высокой температуры атмосферы. + в названии миссии говорит о наличии в ее составе камер, которые будут присутствовать на борту орбитального и спускаемого аппаратов. «Проект DAVINCI+ пересекается по целям с российской миссией «Венера-Д», обе нацелены на посадку, поэтому в будущем возможно их совмещение в одном совместном проекте», — сказал «Газете.Ru» основатель проекта «Открытый космос» Виталий Егоров. Миссия TRIDENT должна исследовать Тритон — ледяной спутник Нептуна, известный ученым своей активностью. Данные, полученные американским зондом Voyager 2, показали, что поверхность Тритона активно обновляется. Ученые считают, что Тритон, на котором выпадает «снег» из органических веществ, может оказаться отличной целью для понимания вопросов происхождения аналогичных тел в Солнечной системе. Пролетев мимо Тритона, аппарат попытается картировать его поверхность, изучить активные процессы на его поверхности и определить, есть ли под его поверхностью жидкий океан. Миссия IVO (Io Volcano Observer) должна направиться к одному из самых интересных спутников Юпитера — Ио. Это тело с наиболее мощной вулканической активностью в Солнечной системе, которая поддерживается за счет мощного приливного воздействия со стороны Юпитера. Во время нескольких близких пролетов аппарат выяснит, как формируется лава на поверхности спутника.',\n",
       " 'title': 'Венера, Ио или Тритон: куда полетит NASA',\n",
       " 'url': 'https://www.gazeta.ru/science/2020/02/14_a_12960289.shtml'}"
      ]
     },
     "execution_count": 8,
     "metadata": {},
     "output_type": "execute_result"
    }
   ],
   "source": [
    "test_records[0]"
   ]
  },
  {
   "cell_type": "code",
   "execution_count": null,
   "metadata": {
    "colab": {
     "base_uri": "https://localhost:8080/"
    },
    "id": "E6TWOSgmC4Ln",
    "outputId": "7799970d-9195-4bc9-a7e7-19aebaef9364"
   },
   "outputs": [
    {
     "data": {
      "text/plain": [
       "dict_keys(['url', 'text', 'title', 'summary', 'date'])"
      ]
     },
     "execution_count": 9,
     "metadata": {},
     "output_type": "execute_result"
    }
   ],
   "source": [
    "train_records[0].keys()"
   ]
  },
  {
   "cell_type": "code",
   "execution_count": null,
   "metadata": {
    "colab": {
     "base_uri": "https://localhost:8080/"
    },
    "id": "sMNEBp7HRjE3",
    "outputId": "708f778a-703b-4c2e-f85e-02dd1b255a71"
   },
   "outputs": [
    {
     "name": "stdout",
     "output_type": "stream",
     "text": [
      "2010-06-01 10:35:49 - 2019-05-31 23:56:26\n",
      "2019-06-01 08:30:00 - 2019-09-30 23:11:23\n",
      "2019-10-01 08:23:02 - 2020-03-23 22:16:23\n"
     ]
    }
   ],
   "source": [
    "print(min([record[\"date\"] for record in train_records]), end=' - ')\n",
    "print(max([record[\"date\"] for record in train_records]))\n",
    "print(min([record[\"date\"] for record in val_records]), end=' - ')\n",
    "print(max([record[\"date\"] for record in val_records]))\n",
    "print(min([record[\"date\"] for record in test_records]), end=' - ')\n",
    "print(max([record[\"date\"] for record in test_records]))"
   ]
  },
  {
   "cell_type": "markdown",
   "metadata": {
    "id": "ofODVTVWbTbK"
   },
   "source": [
    "### Statistics"
   ]
  },
  {
   "cell_type": "markdown",
   "metadata": {
    "id": "D_Nji-B4q8BJ"
   },
   "source": [
    "[Проблемы токенизации](https://natasha.github.io/razdel/)"
   ]
  },
  {
   "cell_type": "markdown",
   "metadata": {
    "id": "zhvC35t2omnd"
   },
   "source": [
    "![image.png](data:image/png;base64,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)"
   ]
  },
  {
   "cell_type": "code",
   "execution_count": null,
   "metadata": {
    "id": "5dT0JlEMbV_b"
   },
   "outputs": [],
   "source": [
    "from collections import Counter, namedtuple\n",
    "import razdel\n",
    "import pymorphy2\n",
    "\n",
    "Stats = namedtuple(\"Stats\", \"vocabulary,lemma_vocabulary,words_counts,unique_words_counts\")\n",
    "\n",
    "def collect_stats(records, lower=True, text_max_words=3000, summary_max_words=100, nrows=1000):\n",
    "    morph = pymorphy2.MorphAnalyzer()\n",
    "    \n",
    "    text_stats = Stats(Counter(),  Counter(), list(), list())\n",
    "    summary_stats = Stats(Counter(),  Counter(), list(), list())\n",
    "\n",
    "    def update_record_field_stats(field, stats, max_words):\n",
    "        words = [word.text for word in razdel.tokenize(field)][:max_words]\n",
    "        lemmas = [morph.parse(word)[0].normal_form for word in words]\n",
    "        stats.vocabulary.update(words)\n",
    "        stats.lemma_vocabulary.update(lemmas)\n",
    "        stats.words_counts.append(len(words))\n",
    "        stats.unique_words_counts.append(len(set(words)))\n",
    "\n",
    "    for i, record in enumerate(records):\n",
    "        if i >= nrows:\n",
    "            break\n",
    "        text = record[\"text\"]\n",
    "        text = text if not lower else text.lower()\n",
    "        update_record_field_stats(text, text_stats, text_max_words)\n",
    "\n",
    "        summary = record[\"summary\"]\n",
    "        summary = summary if not lower else summary.lower()\n",
    "        summary_words = [word.text for word in razdel.tokenize(summary)]\n",
    "        update_record_field_stats(summary, summary_stats, summary_max_words)\n",
    "    return text_stats, summary_stats"
   ]
  },
  {
   "cell_type": "code",
   "execution_count": null,
   "metadata": {
    "colab": {
     "base_uri": "https://localhost:8080/"
    },
    "id": "f9eUIjKmeYcK",
    "outputId": "f76d8905-fd2d-4c35-cfd4-d2e8931d1bb3"
   },
   "outputs": [
    {
     "name": "stdout",
     "output_type": "stream",
     "text": [
      "Train texts vocabulary size:  82978\n",
      "Train texts lemma vocabulary size:  37851\n",
      "Train summaries vocabulary size:  15441\n",
      "Train summaries lemma vocabulary size:  9030\n",
      "Train common lemmas summary vs text:  8652\n"
     ]
    }
   ],
   "source": [
    "train_text_stats, train_summary_stats = collect_stats(train_records)\n",
    "print(\"Train texts vocabulary size: \", len(train_text_stats.vocabulary))\n",
    "print(\"Train texts lemma vocabulary size: \", len(train_text_stats.lemma_vocabulary))\n",
    "print(\"Train summaries vocabulary size: \", len(train_summary_stats.vocabulary))\n",
    "print(\"Train summaries lemma vocabulary size: \", len(train_summary_stats.lemma_vocabulary))\n",
    "print(\"Train common lemmas summary vs text: \", len(set(train_text_stats.lemma_vocabulary.keys()) & set(train_summary_stats.lemma_vocabulary.keys())))"
   ]
  },
  {
   "cell_type": "code",
   "execution_count": null,
   "metadata": {
    "colab": {
     "base_uri": "https://localhost:8080/",
     "height": 336
    },
    "id": "WLKtXt3Tehsr",
    "outputId": "64d22ecf-7916-438d-dac5-aec27f6c3188"
   },
   "outputs": [
    {
     "data": {
      "image/png": "[encoded data removed]",
      "text/plain": [
       "<Figure size 1440x360 with 2 Axes>"
      ]
     },
     "metadata": {
      "needs_background": "light"
     },
     "output_type": "display_data"
    }
   ],
   "source": [
    "import matplotlib.pyplot as plt\n",
    "\n",
    "fig, axs = plt.subplots(1, 2, figsize=(20, 5))\n",
    "axs[0].hist(train_text_stats.words_counts, 20)\n",
    "axs[0].set_title('# Words in texts')\n",
    "\n",
    "axs[1].hist(train_summary_stats.words_counts, 20)\n",
    "axs[1].set_title('# Words in summary')\n",
    "plt.show()"
   ]
  },
  {
   "cell_type": "markdown",
   "metadata": {
    "id": "_1sl7s2qB-N_"
   },
   "source": [
    "## Lead-3"
   ]
  },
  {
   "cell_type": "markdown",
   "metadata": {
    "id": "gBNeldXoDevM"
   },
   "source": [
    "Первый baseline - первые 3 предложения текста в качестве summary.\n"
   ]
  },
  {
   "cell_type": "markdown",
   "metadata": {
    "id": "J-gEkSkQDk0P"
   },
   "source": [
    "В качестве метрик здесь и далее используем BLEU и [ROUGE](https://).<br><br>\n",
    "\n",
    "* **ROUGE-N** – measures unigram, bigram, trigram and higher order n-gram overlap\n",
    "* **ROUGE-L** – measures longest matching sequence of words using LCS. An advantage of using LCS is thatit does not require consecutive matches but in-sequence matches that reflect sentence level wordorder. Since it automatically includes longest in-sequence common n-grams, you don’t need apredefined n-gram length."
   ]
  },
  {
   "cell_type": "code",
   "execution_count": null,
   "metadata": {
    "id": "8fVfdfCyCALH"
   },
   "outputs": [],
   "source": [
    "from nltk.translate.bleu_score import corpus_bleu\n",
    "from rouge import Rouge\n",
    "\n",
    "def calc_scores(references, predictions, metric=\"all\"):\n",
    "    print(\"Count:\", len(predictions))\n",
    "    print(\"Ref:\", references[-1])\n",
    "    print(\"Hyp:\", predictions[-1])\n",
    "\n",
    "    if metric in (\"bleu\", \"all\"):\n",
    "        print(\"BLEU: \", corpus_bleu([[r] for r in references], predictions))\n",
    "    if metric in (\"rouge\", \"all\"):\n",
    "        rouge = Rouge()\n",
    "        scores = rouge.get_scores(predictions, references, avg=True)\n",
    "        print(\"ROUGE: \", scores)"
   ]
  },
  {
   "cell_type": "code",
   "execution_count": null,
   "metadata": {
    "colab": {
     "base_uri": "https://localhost:8080/"
    },
    "id": "zAo9zv_rPtb6",
    "outputId": "bf940cec-13f9-4570-f9b4-fe99e144711f"
   },
   "outputs": [
    {
     "name": "stdout",
     "output_type": "stream",
     "text": [
      "Count: 1000\n",
      "Ref: телеканал «спас» запускает реалити-шоу «остров», участникам которого предстоит месяц жить и работать в нило-столобенской пустыни на озере селигер. организаторы отметили, что это беспрецедентный подобный проект на телевидении. участникам шоу будет, где поработать — в монастыре работают свечной, молочный и столярный цеха, есть коровник, конюшня, пасека.\n",
      "Hyp: православный телеканал «спас», учредителем которого является московская патриархия, запускает реалити-шоу «остров», участникам которого предстоит месяц жить и работать в нило-столобенской пустыни на озере селигер в тверской области.\n",
      "BLEU:  0.19177311186434495\n",
      "ROUGE:  {'rouge-1': {'f': 0.23804097238957525, 'p': 0.22208274285774904, 'r': 0.37762764047433917}, 'rouge-2': {'f': 0.10027796832321115, 'p': 0.09647636782929753, 'r': 0.15833772153385062}, 'rouge-l': {'f': 0.1835646488408507, 'p': 0.2022959168891477, 'r': 0.34937017731940756}}\n"
     ]
    }
   ],
   "source": [
    "import razdel\n",
    "\n",
    "def calc_lead_n_score(records, n=3, lower=True, nrows=1000):\n",
    "    references = []\n",
    "    predictions = []\n",
    "\n",
    "    for i, record in enumerate(records):\n",
    "        if i >= nrows:\n",
    "            break\n",
    "\n",
    "        summary = record[\"summary\"]\n",
    "        summary = summary if not lower else summary.lower()\n",
    "        references.append(summary)\n",
    "\n",
    "        text = record[\"text\"]\n",
    "        text = text if not lower else text.lower()\n",
    "        sentences = [sentence.text for sentence in razdel.sentenize(text)]\n",
    "        prediction = \" \".join(sentences[:n])\n",
    "        predictions.append(prediction)\n",
    "\n",
    "    calc_scores(references, predictions)\n",
    "\n",
    "calc_lead_n_score(test_records, n=1)"
   ]
  },
  {
   "cell_type": "code",
   "execution_count": null,
   "metadata": {
    "id": "20UztAARGGUZ"
   },
   "outputs": [],
   "source": []
  },
  {
   "cell_type": "markdown",
   "metadata": {
    "id": "Nqf3NKAuGHNv"
   },
   "source": [
    "## Метод Луна"
   ]
  },
  {
   "cell_type": "markdown",
   "metadata": {
    "id": "qDoEj6kcGzEi"
   },
   "source": [
    "Метод Луна — первый эвристический метод автоматического реферирования. Он был описан в 1958 году в статье Ханса Петера Луна и реализован на IBM 704.\n",
    "\n",
    "В современных терминах алгоритм звучит так:\n",
    "\n",
    "\n",
    "* Вычисляем значимые слова документа:\n",
    "    * Делаем стемминг или лемматизацию слов: разные словоформы одной леммы должны считаться как одно слово.\n",
    "    * Считаем частоты слов, формируем список слов по убыванию частоты.\n",
    "    * Убираем стоп-слова: частотные слова, у которых нет отдельной смысловой нагрузки, например предлоги и частицы.\n",
    "    * Убираем слишком редкие слова, например такие, которые встречаются только 1 раз, либо убираем какой-то перцентиль слов по частоте.\n",
    "    * Все оставшиеся слова считаем значимыми.\n",
    "* Считаем значимость для предложений:\n",
    "    * Предложение делим на промежутки, которые начинаются и заканчиваются значимыми словами. В промежутке могут быть и незначимые слова, но не более 4 подряд.\n",
    "    * Значимость промежутка — квадрат количества значимых слов в промежутке, делённый на размер промежутка.\n",
    "    * Значимость предложения — максимум из значимостей промежутков.\n",
    "* Берём в качестве реферата предложения со значимостью выше определённого порога.\n",
    "\n",
    "Пример вычисления значимости предложения приведён на рисунке ниже. Красным обозначены стоп-слова, фиолетовым — незначимые слова, а зелёным — значимые слова.\n",
    "\n"
   ]
  },
  {
   "cell_type": "markdown",
   "metadata": {
    "id": "rWQ_fpNTHtJT"
   },
   "source": [
    "![image.png](data:image/png;base64,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)"
   ]
  },
  {
   "cell_type": "markdown",
   "metadata": {
    "id": "9sDYdKLLIIbh"
   },
   "source": [
    "Несмотря на свою простоту, метод Луна до сих используется в современных программных комплексах.\n"
   ]
  },
  {
   "cell_type": "code",
   "execution_count": null,
   "metadata": {
    "colab": {
     "base_uri": "https://localhost:8080/"
    },
    "id": "7vLv8JRCJM2V",
    "outputId": "215ff468-ecef-4d46-fece-923df1d5cac8"
   },
   "outputs": [
    {
     "name": "stdout",
     "output_type": "stream",
     "text": [
      "['американский', 'аэрокосмический', 'агентство', 'nasa', 'огласить', 'название', 'четыре', 'космический', 'миссия', 'которые', 'скорый', 'время', 'мочь', 'быть', 'выбрать', 'реализация', 'запуск', 'которых', 'мочь', 'состояться', 'конец', 'десятилетие']\n",
      "['американский', 'аэрокосмический', 'агентство', 'nasa', 'огласить', 'название', 'четыре', 'космический', 'миссия', 'которые', 'скорый', 'время', 'мочь', 'быть', 'выбрать', 'реализация', 'запуск', 'которых', 'мочь', 'состояться', 'конец', 'десятилетие', 'четыре', 'проект', 'стать', 'полуфиналист', 'конкурс', 'объявить', 'американский', 'научный', 'команда', 'котором', 'участвовать', 'десять', 'миссия', 'они', 'были', 'отобрать', 'критерий', 'потенциальный', 'польза', 'наука', 'технический', 'осуществимость', 'проект', 'рамка', 'программа', 'discovery', 'nasa', 'заниматься', 'планирование', 'миссия', 'которые', 'призваны', 'дать', 'ответ', 'фундаментальный', 'вопрос', 'происхождение', 'тело', 'солнечный', 'система', 'возможный', 'наличие', 'жизнь', 'них', 'выбрать', 'миссия', 'мочь', 'трансформировать', 'восприятие', 'активный', 'сложный', 'мир', 'солнечный', 'система', 'заявить', 'томас', 'зурбучен', 'помощник', 'директор', 'nasa', 'наука', 'исследование', 'небесный', 'тело', 'помочь', 'раскрыть', 'секрет', 'том', 'они', 'подобный', 'объект', 'образоваться', 'космос', 'проект', 'выбрать', 'полуфиналист', 'получить', 'млн', 'проработка', 'концепция', 'четыре', 'выбрать', 'проект', 'nasa', 'планировать', 'отобрать', 'два', '2021', 'год', 'чтобы', 'профинансировать', 'работа', 'реализация', 'рамка', 'программа', 'discovery', 'два', 'четыре', 'проект', 'посвятить', 'исследование', 'венера', 'аппарат', 'nasa', 'отправляться', 'тридцать', 'год', '1989', 'год', 'планета', 'был', 'запустить', 'зонд', 'magellan', 'миссия', 'veritas', 'venus', 'emissivity', 'radio', 'science', 'insar', 'topography', 'and', 'spectroscopy', 'призвана', 'картировать', 'поверхность', 'венера', 'хороший', 'понимание', 'геологический', 'история', 'планета', 'получение', 'ответ', 'вопрос', 'причина', 'кардинальный', 'отличие', 'земля', 'карта', 'будет', 'построить', 'помощь', 'радар', 'установить', 'орбитальный', 'аппарат', 'ход', 'миссия', 'планироваться', 'узнать', 'продолжаться', 'день', 'венера', 'тектонический', 'вулканический', 'процесс', 'того', 'планироваться', 'картировать', 'поверхность', 'планета', 'инфракрасный', 'диапазон', 'миссия', 'davinci+', 'deep', 'atmosphere', 'venus', 'investigation', 'noble', 'gases', 'chemistry', 'and', 'imaging', 'plus', 'задумать', 'того', 'чтобы', 'исследовать', 'состав', 'атмосфера', 'венера', 'понять', 'она', 'формироваться', 'эволюционировать', 'прошлое', 'ответить', 'вопрос', 'существование', 'планета', 'жидкий', 'океан', 'сделать', 'это', 'планироваться', 'помощь', 'спускаемого', 'аппарат', 'который', 'будет', 'проводить', 'измерение', 'верхний', 'слой', 'атмосфера', 'самой', 'поверхность', 'научный', 'инструмент', 'аппарат', 'будут', 'разместить', 'герметичный', 'сферический', 'корпус', 'который', 'должный', 'защитить', 'разрушительный', 'воздействие', 'высокий', 'температура', 'атмосфера', 'название', 'миссия', 'говорить', 'наличие', 'состав', 'камера', 'которые', 'будут', 'присутствовать', 'борт', 'орбитальный', 'спускаемого', 'аппарат', 'проект', 'davinci+', 'пересекаться', 'цель', 'российский', 'миссия', 'венера', 'оба', 'нацелить', 'посадка', 'будущее', 'возможный', 'совмещение', 'одном', 'совместный', 'проект', 'сказать', 'газета', 'основатель', 'проект', 'открытый', 'космос', 'виталий', 'егоров', 'миссия', 'trident', 'должный', 'исследовать', 'тритон', 'ледяной', 'спутник', 'нептун', 'известный', 'учёный', 'активность', 'данные', 'получить', 'американский', 'зонд', 'voyager', 'показать', 'что', 'поверхность', 'тритон', 'обновляться', 'учёный', 'считать', 'что', 'тритон', 'котором', 'выпадать', 'снег', 'органический', 'вещество', 'мочь', 'оказаться', 'отличный', 'цель', 'понимание', 'вопрос', 'происхождение', 'аналогичный', 'тело', 'солнечный', 'система', 'пролететь', 'тритон', 'аппарат', 'попытаться', 'картировать', 'поверхность', 'изучить', 'активный', 'процесс', 'поверхность', 'определить', 'быть', 'поверхность', 'жидкий', 'океан', 'миссия', 'ivo', 'volcano', 'observer', 'должный', 'направиться', 'одному', 'самых', 'интересный', 'спутник', 'юпитер', 'тело', 'мощный', 'вулканический', 'активность', 'солнечный', 'система', 'которая', 'поддерживаться', 'счёт', 'мощный', 'приливный', 'воздействие', 'сторона', 'юпитер', 'время', 'несколько', 'близкий', 'пролёт', 'аппарат', 'выяснить', 'формироваться', 'лава', 'поверхность', 'спутник']\n"
     ]
    }
   ],
   "source": [
    "# Делаем предобработку\n",
    "\n",
    "import razdel\n",
    "import spacy\n",
    "\n",
    "# Список частей речи, которые мы не хотим считать значимыми.\n",
    "# Подбирался на глаз.\n",
    "BAD_POS = (\"PREP\", \"NPRO\", \"CONJ\", \"PRCL\", \"NUMR\", \"PRED\", \"INTJ\", \"PUNCT\", \"CCONJ\", \"ADP\", \"DET\", \"ADV\")\n",
    "\n",
    "# Загрузка модели для частеречной разметки.\n",
    "spacy_model = spacy.load(\"ru_core_news_md\")\n",
    "\n",
    "\n",
    "# Метод для разбиения текста на предложения.\n",
    "def sentenize(text):\n",
    "    return [s.text for s in razdel.sentenize(text)]\n",
    "\n",
    "\n",
    "# Метод для токенизации предложения.\n",
    "def tokenize_sentence(sentence):\n",
    "    sentence = sentence.strip().replace(\"\\xa0\", \"\")\n",
    "    tokens = [token.lemma_ for token in spacy_model(sentence) if token.pos_ not in BAD_POS]\n",
    "    tokens = [token for token in tokens if len(token) > 2]\n",
    "    return tokens\n",
    "\n",
    "\n",
    "# Метод для токенизации всего текста.\n",
    "def tokenize_text(text):\n",
    "    all_tokens = []\n",
    "    for sentence in sentenize(text):\n",
    "        all_tokens.extend(tokenize_sentence(sentence))\n",
    "    return all_tokens\n",
    "\n",
    "\n",
    "# Пример работы обоих методов.\n",
    "text = test_records[0][\"text\"]\n",
    "sentences = sentenize(text)\n",
    "print(tokenize_sentence(sentences[0]))\n",
    "print(tokenize_text(text))"
   ]
  },
  {
   "cell_type": "code",
   "execution_count": null,
   "metadata": {
    "id": "TpyYmznCGGQr"
   },
   "outputs": [],
   "source": [
    "from collections import Counter\n",
    "\n",
    "class LuhnSummarizer:\n",
    "    \"\"\"\n",
    "    Метод Луна.\n",
    "    Основано на https://github.com/miso-belica/sumy/blob/main/sumy/summarizers/luhn.py\n",
    "    Оригинальная статья: https://courses.ischool.berkeley.edu/i256/f06/papers/luhn58.pdf\n",
    "    \"\"\"\n",
    "    def __init__(\n",
    "        self,\n",
    "        significant_percentage = 0.4, # 40% самых частотных токенов мы считаем значимыми.\n",
    "        min_token_freq = 2, # Кроме того, слова должны встречаться минимум 2 раза.\n",
    "        max_gap_size = 4, # Максимальное количество подряд идущих незначимых токенов в промежутках.\n",
    "        verbose = False # Отладочный вывод для наглядности.\n",
    "    ):\n",
    "        self.significant_percentage = significant_percentage\n",
    "        self.min_token_freq = min_token_freq\n",
    "        self.max_gap_size = max_gap_size\n",
    "        self.chunk_ending_mask = [0] * self.max_gap_size\n",
    "        self.verbose = verbose\n",
    "\n",
    "    def __call__(self, text, target_sentences_count):\n",
    "        # Считаем значимые токены.\n",
    "        all_significant_tokens = self._get_significant_tokens(text)\n",
    "        if self.verbose:\n",
    "            print(\"Значимые токены: \", all_significant_tokens)\n",
    "\n",
    "        # Считаем значимости предложений.\n",
    "        ratings = []\n",
    "        for sentence_index, sentence in enumerate(sentenize(text)):\n",
    "            # Значимость предложений - максимум из значимостей промежутков.\n",
    "            sentence_rating = max(self._get_chunk_ratings(sentence, all_significant_tokens))\n",
    "            if self.verbose:\n",
    "                print(\"\\tПРЕДЛОЖЕНИЕ. Значимость: {}, текст: {}\".format(sentence_rating, sentence))\n",
    "            ratings.append((sentence_rating, sentence_index))\n",
    "\n",
    "        # Сортируем предложения по значимости.\n",
    "        ratings.sort(reverse=True)\n",
    "\n",
    "        # Оставляем топовые и собираем реферат.\n",
    "        ratings = ratings[:target_sentences_count]\n",
    "        indices = [index for _, index in ratings]\n",
    "        indices.sort()\n",
    "        return \" \".join([sentences[index] for index in indices])\n",
    "\n",
    "    def _get_significant_tokens(self, text):\n",
    "        \"\"\" Метод для подсчёта того, какие токены являются значимыми. \"\"\"\n",
    "        tokens_counter = Counter(tokenize_text(text))\n",
    "        significant_tokens_max_count = int(len(tokens_counter) * self.significant_percentage)\n",
    "        significant_tokens = tokens_counter.most_common(significant_tokens_max_count)\n",
    "        significant_tokens = {token for token, cnt in significant_tokens if cnt >= self.min_token_freq}\n",
    "        return significant_tokens\n",
    "\n",
    "    def _get_chunk_ratings(self, sentence, significant_tokens):\n",
    "        \"\"\" Разбиваем предложение на промежтуки и считаем их значимости. \"\"\"\n",
    "\n",
    "        tokens = tokenize_sentence(sentence)\n",
    "\n",
    "        chunks, masks = [], []\n",
    "        in_chunk = False\n",
    "        for token in tokens:\n",
    "            is_significant_token = token in significant_tokens\n",
    "            \n",
    "            if is_significant_token and not in_chunk:\n",
    "                in_chunk = True\n",
    "                masks.append([int(is_significant_token)])\n",
    "                chunks.append([token])\n",
    "            elif in_chunk:\n",
    "                last_mask = masks[-1]\n",
    "                last_mask.append(int(is_significant_token))\n",
    "                last_chunk = chunks[-1]\n",
    "                last_chunk.append(token)\n",
    "            if not chunks:\n",
    "                continue\n",
    "\n",
    "            # Проверяем на наличие 4 подряд идущих незначимых токенов.\n",
    "            # Если встретили - завершаем промежуток.\n",
    "            last_chunk_ending_mask = masks[-1][-self.max_gap_size:]\n",
    "            if last_chunk_ending_mask == self.chunk_ending_mask:\n",
    "                in_chunk = False\n",
    "        \n",
    "        ratings = []\n",
    "        for chunk, mask in zip(chunks, masks):\n",
    "            rating = self._get_chunk_rating(mask, chunk)\n",
    "            ratings.append(rating)\n",
    "        return ratings\n",
    "\n",
    "    def _get_chunk_rating(self, original_mask, chunk): \n",
    "        \"\"\" Подсчёт значимости одного промежутка \"\"\"\n",
    "\n",
    "        # Убираем незначимые токены в конце промежутка\n",
    "        original_mask = \"\".join(map(str, original_mask))\n",
    "        mask = original_mask.rstrip(\"0\")\n",
    "\n",
    "        end_index = original_mask.rfind(\"1\") + 1\n",
    "        chunk = chunk[:end_index]\n",
    "        assert len(mask) == len(chunk)\n",
    "        chunk = \" \".join(chunk)\n",
    "\n",
    "        # Считаем значимость\n",
    "        words_count = len(mask)\n",
    "        assert words_count > 0\n",
    "        significant_words_count = mask.count(\"1\")\n",
    "        assert significant_words_count > 0\n",
    "\n",
    "        rating = significant_words_count * significant_words_count / words_count\n",
    "        if self.verbose:\n",
    "            print(\"ПРОМЕЖУТОК. Значимость: {}, маска: {}, текст: {}\".format(rating, mask, chunk))\n",
    "        return rating"
   ]
  },
  {
   "cell_type": "code",
   "execution_count": null,
   "metadata": {
    "colab": {
     "base_uri": "https://localhost:8080/"
    },
    "id": "R79LCXhvGF4C",
    "outputId": "db803d2c-6853-4e0c-ceac-b45edae851f4"
   },
   "outputs": [
    {
     "name": "stdout",
     "output_type": "stream",
     "text": [
      "\n",
      "Текст: Американское аэрокосмическое агентство NASA огласило названия четырех космических миссий, которые в скором времени могут быть выбраны для реализации и запуск которых может состояться уже в конце этого десятилетия. Эти четыре проекта стали полуфиналистами конкурса, объявленного среди американских научных команд, в котором участвовало более десяти миссий. Все они были отобраны по критериям потенциальной пользы для науки и технической осуществимости проекта. В рамках программы Discovery NASA занимается планированием миссий, которые призваны дать ответы на фундаментальные вопросы о происхождении тел Солнечной системы и возможному наличию жизни на них. «Эти выбранные миссии могут трансформировать наше восприятие некоторых из наиболее активных и сложных миров в Солнечной системе, — заявил Томас Зурбучен, помощник директора NASA по науке. — Исследование каждого из этих небесных тел поможет раскрыть секреты о том, как они и им подобные объекты образовались в космосе». Каждый проект из выбранных полуфиналистов получит $3 млн на проработку концепции. Из четырех выбранных проектов NASA планирует отобрать две в 2021 году, чтобы профинансировать работу по их реализации в рамках программы Discovery. Два из четырех проектов посвящены исследованию Венеры, куда аппараты NASA не отправлялись уже свыше тридцати лет — с 1989 года, когда к этой планете был запущен зонд Magellan. Миссия VERITAS ( Venus Emissivity, Radio Science, InSAR, Topography, and Spectroscopy) призвана картировать поверхность Венеры для лучшего понимания геологической истории планеты и получения ответа на вопрос о причинах ее кардинальных отличий от Земли. Карта будет построена при помощи радара, установленного на орбитальном аппарате. В ходе миссии планируется узнать, продолжаются ли в наши дни на Венере тектонические и вулканические процессы. Кроме того, планируется картировать поверхность планеты в инфракрасном диапазоне. Миссия DAVINCI+ (Deep Atmosphere Venus Investigation of Noble gases, Chemistry and Imaging Plus) задумана для того, чтобы исследовать состав атмосферы Венеры, понять, как она формировалась и эволюционировала в прошлом, и ответить на вопрос о существовании когда-либо на планете жидкого океана. Сделать это планируется при помощи спускаемого аппарата, который будет проводить измерения от верхних слоев атмосферы до самой поверхности. Научные инструменты аппарата будут размещены внутри герметичного сферического корпуса, который должен защитить их от разрушительного воздействия высокой температуры атмосферы. + в названии миссии говорит о наличии в ее составе камер, которые будут присутствовать на борту орбитального и спускаемого аппаратов. «Проект DAVINCI+ пересекается по целям с российской миссией «Венера-Д», обе нацелены на посадку, поэтому в будущем возможно их совмещение в одном совместном проекте», — сказал «Газете.Ru» основатель проекта «Открытый космос» Виталий Егоров. Миссия TRIDENT должна исследовать Тритон — ледяной спутник Нептуна, известный ученым своей активностью. Данные, полученные американским зондом Voyager 2, показали, что поверхность Тритона активно обновляется. Ученые считают, что Тритон, на котором выпадает «снег» из органических веществ, может оказаться отличной целью для понимания вопросов происхождения аналогичных тел в Солнечной системе. Пролетев мимо Тритона, аппарат попытается картировать его поверхность, изучить активные процессы на его поверхности и определить, есть ли под его поверхностью жидкий океан. Миссия IVO (Io Volcano Observer) должна направиться к одному из самых интересных спутников Юпитера — Ио. Это тело с наиболее мощной вулканической активностью в Солнечной системе, которая поддерживается за счет мощного приливного воздействия со стороны Юпитера. Во время нескольких близких пролетов аппарат выяснит, как формируется лава на поверхности спутника.\n",
      "Итоговый реферат: В рамках программы Discovery NASA занимается планированием миссий, которые призваны дать ответы на фундаментальные вопросы о происхождении тел Солнечной системы и возможному наличию жизни на них. Из четырех выбранных проектов NASA планирует отобрать две в 2021 году, чтобы профинансировать работу по их реализации в рамках программы Discovery. Пролетев мимо Тритона, аппарат попытается картировать его поверхность, изучить активные процессы на его поверхности и определить, есть ли под его поверхностью жидкий океан.\n",
      "Правильный реферат: В NASA назвали четыре миссии в дальний космос, которые в этом десятилетии могут быть запущены американцами. Среди них — две миссии по изучению Венеры, полет к спутнику Юпитера и экспедиция к Тритону, спутнику Нептуна.\n"
     ]
    }
   ],
   "source": [
    "luhn = LuhnSummarizer(verbose=False)\n",
    "summary = luhn(text, 3)\n",
    "print()\n",
    "print(\"Текст: {}\".format(test_records[0][\"text\"]))\n",
    "print(\"Итоговый реферат: {}\".format(summary))\n",
    "print(\"Правильный реферат: {}\".format(test_records[0][\"summary\"]))"
   ]
  },
  {
   "cell_type": "markdown",
   "metadata": {
    "id": "QsAcVSli3r3S"
   },
   "source": [
    "## TextRank\n",
    "\n",
    "https://habr.com/ru/post/455762/"
   ]
  },
  {
   "cell_type": "markdown",
   "metadata": {
    "id": "c7jAQp-_Ds98"
   },
   "source": [
    "TextRank - unsupervised метод для составления кратких выжимок из текста. \n",
    "Описание метода:\n",
    "\n",
    "1. Сплитим текст по предложениям\n",
    "2. Считаем \"похожесть\" предложений между собой\n",
    "3. Строим граф предложений с взвешенными ребрами\n",
    "4. С помощью алгоритм PageRank получаем наиболее важные предложения, на основе которых делаем summary."
   ]
  },
  {
   "cell_type": "markdown",
   "metadata": {
    "id": "bOatiZ-hFJT-"
   },
   "source": [
    "### Самописный TextRank"
   ]
  },
  {
   "cell_type": "code",
   "execution_count": null,
   "metadata": {
    "colab": {
     "base_uri": "https://localhost:8080/",
     "height": 171,
     "referenced_widgets": [
      "40105106f38349efa791ee80b5d86ed4",
      "66ea605e267a4ccaba7fe0fd87556a23",
      "9f09e081ec924a5ca640a944f87d4e3a",
      "76b790fc63db44789353df1ca7c6e796",
      "84afd01699a84dba8a3a3518ff1ae5f1",
      "bb49c21b85d5402f8674f17e266363d7",
      "d2e746b614104768ae8618bc009fb7b8",
      "f1ad6703003148b2bc46849327c988f9"
     ]
    },
    "id": "m2GwyRrMPAzS",
    "outputId": "55217255-335f-4471-f9d3-98b91a4e5d96"
   },
   "outputs": [
    {
     "data": {
      "application/vnd.jupyter.widget-view+json": {
       "model_id": "40105106f38349efa791ee80b5d86ed4",
       "version_major": 2,
       "version_minor": 0
      },
      "text/plain": [
       "HBox(children=(FloatProgress(value=1.0, bar_style='info', max=1.0), HTML(value='')))"
      ]
     },
     "metadata": {
      "tags": []
     },
     "output_type": "display_data"
    },
    {
     "name": "stdout",
     "output_type": "stream",
     "text": [
      "Mean number of sents in summary: 3.276\n",
      "Count: 1000\n",
      "Ref: телеканал «спас» запускает реалити-шоу «остров», участникам которого предстоит месяц жить и работать в нило-столобенской пустыни на озере селигер. организаторы отметили, что это беспрецедентный подобный проект на телевидении. участникам шоу будет, где поработать — в монастыре работают свечной, молочный и столярный цеха, есть коровник, конюшня, пасека.\n",
      "Hyp: в комментарии также отмечается, что это беспрецедентный подобный проект на телевидении. съемки начнутся уже в ноябре», — указывается в анонсе. от «зенита» до «спартака», — сказал священник. в июне нынешнего года сообщалось, что рпц планирует сделать из сергиева посада «православный ватикан».\n",
      "BLEU:  0.3508755059541153\n",
      "ROUGE:  {'rouge-1': {'f': 0.15466400887322831, 'p': 0.16298929023222172, 'r': 0.15602281048791292}, 'rouge-2': {'f': 0.030615979709094604, 'p': 0.031077035455225686, 'r': 0.032019614611385826}, 'rouge-l': {'f': 0.13373567967669006, 'p': 0.14775573752428653, 'r': 0.14127533878751564}}\n"
     ]
    }
   ],
   "source": [
    "from itertools import combinations\n",
    "import networkx as nx\n",
    "import pymorphy2\n",
    "import numpy as np\n",
    "from tqdm.notebook import tqdm\n",
    "\n",
    "def unique_words_similarity(words1, words2):\n",
    "    '''\n",
    "    Функция подсчёта близости предложений на основе пересечения слов\n",
    "    ''' \n",
    "    words1 = set(words1)\n",
    "    words2 = set(words2)\n",
    "    if not len(words1) or not len(words2):\n",
    "        return 0.0\n",
    "    return len(words1.intersection(words2)) / (len(words1) + len(words2))\n",
    "    #return len(words1.intersection(words2)) / (np.log10(len(words1)) + np.log10(len(words2)))\n",
    "\n",
    "def gen_text_rank_summary(text, calc_similarity=unique_words_similarity, summary_part=0.1, lower=True, morph=None):\n",
    "    '''\n",
    "    Составление summary с помощью TextRank\n",
    "    '''\n",
    "    # Разбиваем текст на предложения\n",
    "    sentences = [sentence.text for sentence in razdel.sentenize(text)]\n",
    "    n_sentences = len(sentences)\n",
    "\n",
    "    # Токенизируем предложения\n",
    "    sentences_words = [[token.text.lower() if lower else token.text for token in razdel.tokenize(sentence)] for sentence in sentences]\n",
    "\n",
    "    # При необходимости лемматизируем слова\n",
    "    if morph is not None:\n",
    "        sentences_words = [[morph.parse(word)[0].normal_form for word in words] for words in sentences_words]\n",
    "\n",
    "    # Для каждой пары предложений считаем близость\n",
    "    pairs = combinations(range(n_sentences), 2)\n",
    "    scores = [(i, j, calc_similarity(sentences_words[i], sentences_words[j])) for i, j in pairs]\n",
    "\n",
    "    # Строим граф с рёбрами, равными близости между предложениями\n",
    "    g = nx.Graph()\n",
    "    g.add_weighted_edges_from(scores)\n",
    "\n",
    "    # Считаем PageRank\n",
    "    \n",
    "    pr = nx.pagerank(g)\n",
    "    result = [(i, pr[i], s) for i, s in enumerate(sentences) if i in pr]\n",
    "    result.sort(key=lambda x: x[1], reverse=True)\n",
    "\n",
    "    # Выбираем топ предложений\n",
    "    n_summary_sentences = max(int(n_sentences * summary_part), 1)\n",
    "    result = result[:BLEU:  0.531336150784986n_summary_sentences]\n",
    "\n",
    "    # Восстанавливаем оригинальный их порядок\n",
    "    result.sort(key=lambda x: x[0])\n",
    "    \n",
    "    num_sents = len(result)\n",
    "    # Восстанавливаем текст выжимки\n",
    "    predicted_summary = \" \".join([sentence for i, proba, sentence in result])\n",
    "    predicted_summary = predicted_summary.lower() if lower else predicted_summary\n",
    "    return predicted_summary, num_sents\n",
    "\n",
    "def calc_text_rank_score(records, calc_similarity=unique_words_similarity, summary_part=0.1, lower=True, nrows=1000, morph=None):\n",
    "    references = []\n",
    "    predictions = []\n",
    "    length_sents = [] \n",
    "\n",
    "    for i, record in tqdm(enumerate(records)):\n",
    "        if i >= nrows:\n",
    "            break\n",
    "\n",
    "        summary = record[\"summary\"]\n",
    "        summary = summary if not lower else summary.lower()\n",
    "        references.append(summary)\n",
    "\n",
    "        text = record[\"text\"]\n",
    "        predicted_summary, num_sents = gen_text_rank_summary(text, calc_similarity, summary_part, lower, morph=morph)\n",
    "        length_sents.append(num_sents)\n",
    "        text = text if not lower else text.lower()\n",
    "        predictions.append(predicted_summary)\n",
    "\n",
    "    print(f'Mean number of sents in summary: {np.mean(length_sents)}')\n",
    "    calc_scores(references, predictions)\n",
    "\n",
    "morph = pymorphy2.MorphAnalyzer()\n",
    "calc_text_rank_score(test_records)"
   ]
  },
  {
   "cell_type": "markdown",
   "metadata": {
    "id": "Ac8UYVqJOLg6"
   },
   "source": [
    "Сделаем TextRank с другой мерой близости предложений: по FastText, ELMo или BERT эмбеддингам"
   ]
  },
  {
   "cell_type": "code",
   "execution_count": null,
   "metadata": {
    "colab": {
     "base_uri": "https://localhost:8080/"
    },
    "id": "krW7EZnhy6O0",
    "outputId": "fbd4d5a4-887f-41c0-c85c-ea64bd85089a"
   },
   "outputs": [
    {
     "name": "stdout",
     "output_type": "stream",
     "text": [
      "Collecting navec\n",
      "  Downloading navec-0.10.0-py3-none-any.whl (23 kB)\n",
      "Requirement already satisfied: numpy in /usr/local/lib/python3.7/dist-packages (from navec) (1.19.5)\n",
      "Installing collected packages: navec\n",
      "Successfully installed navec-0.10.0\n"
     ]
    }
   ],
   "source": [
    "!pip install navec"
   ]
  },
  {
   "cell_type": "markdown",
   "metadata": {
    "id": "lg2dMwsqyebT"
   },
   "source": [
    "\n",
    "<img src=\"https://raw.githubusercontent.com/natasha/natasha-logos/master/navec.svg\">\n",
    "<br>\n"
   ]
  },
  {
   "cell_type": "markdown",
   "metadata": {
    "id": "eodJCCAyy2xa"
   },
   "source": [
    "[Navec](https://github.com/natasha/navec)"
   ]
  },
  {
   "cell_type": "markdown",
   "metadata": {
    "id": "iGY6TKcEMXza"
   },
   "source": [
    "можно сделать то же но на трансформерах, взять бертовые эмбединги"
   ]
  },
  {
   "cell_type": "code",
   "execution_count": null,
   "metadata": {
    "colab": {
     "base_uri": "https://localhost:8080/"
    },
    "id": "465MgMnQzUtD",
    "outputId": "f4b211f8-acea-41c5-e51f-f84ab4c2b1d2"
   },
   "outputs": [
    {
     "name": "stdout",
     "output_type": "stream",
     "text": [
      "--2021-07-28 15:34:03--  https://storage.yandexcloud.net/natasha-navec/packs/navec_news_v1_1B_250K_300d_100q.tar\n",
      "Resolving storage.yandexcloud.net (storage.yandexcloud.net)... 213.180.193.243, 2a02:6b8::1d9\n",
      "Connecting to storage.yandexcloud.net (storage.yandexcloud.net)|213.180.193.243|:443... connected.\n",
      "HTTP request sent, awaiting response... 200 OK\n",
      "Length: 26634240 (25M) [application/x-tar]\n",
      "Saving to: ‘navec_news_v1_1B_250K_300d_100q.tar’\n",
      "\n",
      "navec_news_v1_1B_25 100%[===================>]  25.40M  9.55MB/s    in 2.7s    \n",
      "\n",
      "2021-07-28 15:34:06 (9.55 MB/s) - ‘navec_news_v1_1B_250K_300d_100q.tar’ saved [26634240/26634240]\n",
      "\n"
     ]
    }
   ],
   "source": [
    "!wget https://storage.yandexcloud.net/natasha-navec/packs/navec_news_v1_1B_250K_300d_100q.tar"
   ]
  },
  {
   "cell_type": "code",
   "execution_count": null,
   "metadata": {
    "id": "lwNSP0xH_ASe"
   },
   "outputs": [],
   "source": [
    "from navec import Navec\n",
    "\n",
    "path = 'navec_news_v1_1B_250K_300d_100q.tar'\n",
    "navec = Navec.load(path) "
   ]
  },
  {
   "cell_type": "code",
   "execution_count": null,
   "metadata": {
    "id": "EBZhqZ4ZCVc-"
   },
   "outputs": [],
   "source": [
    "from numpy.linalg import norm\n",
    "def vectorize_sum(words, embeddings):\n",
    "\n",
    "    embedding_dim = embeddings['example'].shape[0]\n",
    "    features = np.zeros([embedding_dim], dtype='float32')\n",
    "\n",
    "    num_known_words = 0\n",
    "    for word in words:\n",
    "        if word in embeddings:\n",
    "            num_known_words += 1\n",
    "            features += embeddings[f'{word}']\n",
    "\n",
    "    if num_known_words:\n",
    "        return features / num_known_words\n",
    "    else: return features\n",
    "\n",
    "def my_sim(text1, text2, embeddings=navec, kind='cos'):\n",
    "\n",
    "    v1, v2 = vectorize_sum(text1, embeddings), vectorize_sum(text2, embeddings)\n",
    "    if np.sum(v1) == 0.0 or np.sum(v2) == 0.0:\n",
    "        return 0 \n",
    "\n",
    "    return np.abs(np.dot(v1, v2) / norm(v1) / norm(v2))"
   ]
  },
  {
   "cell_type": "code",
   "execution_count": null,
   "metadata": {
    "colab": {
     "base_uri": "https://localhost:8080/",
     "height": 171,
     "referenced_widgets": [
      "ce93cf6f1a2f4147a8c009467ace33a6",
      "360b7de64ad347e38a4c0ef1eb06561a",
      "85993ef3dccc412585cdb4acdbc8481e",
      "35847a13383d4005935baee615575335",
      "3815f7b694eb41708bacca52ccea41bd",
      "2dd75e38fea64200a2ab4cca67af327c",
      "46060e05cd1442b384a20f2e1ddb9bb7",
      "737f5d07a6264095a09b18afbdcb4635"
     ]
    },
    "id": "XksJ0ACzZ3N-",
    "outputId": "28d62684-1710-46c5-8f31-47824c49697c"
   },
   "outputs": [
    {
     "data": {
      "application/vnd.jupyter.widget-view+json": {
       "model_id": "ce93cf6f1a2f4147a8c009467ace33a6",
       "version_major": 2,
       "version_minor": 0
      },
      "text/plain": [
       "HBox(children=(FloatProgress(value=1.0, bar_style='info', max=1.0), HTML(value='')))"
      ]
     },
     "metadata": {
      "tags": []
     },
     "output_type": "display_data"
    },
    {
     "name": "stdout",
     "output_type": "stream",
     "text": [
      "Mean number of sents in summary: 3.276\n",
      "Count: 1000\n",
      "Ref: телеканал «спас» запускает реалити-шоу «остров», участникам которого предстоит месяц жить и работать в нило-столобенской пустыни на озере селигер. организаторы отметили, что это беспрецедентный подобный проект на телевидении. участникам шоу будет, где поработать — в монастыре работают свечной, молочный и столярный цеха, есть коровник, конюшня, пасека.\n",
      "Hyp: «у нас же даже многие журналисты не знают и не понимают многого, связанного с религиозными ценностями, а здесь — попытка обратить их внимание на это, может быть, им будет интересно. и это что — жизнь, что ли? «если человеку невоцерковленному, далекому от церкви, в двух словах сказать, для чего нужна церковь — церковь… нужна для того, чтобы был силен дух нашего народа», — говорил предстоятель. по словам патриарха, им станет тот, кто будет стоять «во главе всемирной паутины».\n",
      "BLEU:  0.2736838350215274\n",
      "ROUGE:  {'rouge-1': {'f': 0.15109432683062032, 'p': 0.12445104194115493, 'r': 0.2067175779156157}, 'rouge-2': {'f': 0.02910654855037842, 'p': 0.02362873481435433, 'r': 0.040905522596281385}, 'rouge-l': {'f': 0.11744405071398917, 'p': 0.10873594173831783, 'r': 0.18105647779450523}}\n"
     ]
    }
   ],
   "source": [
    "calc_text_rank_score(test_records, calc_similarity=my_sim, morph=morph)"
   ]
  },
  {
   "cell_type": "markdown",
   "metadata": {
    "id": "0oaXuQKKwGBg"
   },
   "source": [
    "## Lexrank\n",
    "* Original paper: https://arxiv.org/pdf/1109.2128.pdf\n",
    "* lexrank library: https://github.com/crabcamp/lexrank"
   ]
  },
  {
   "cell_type": "code",
   "execution_count": null,
   "metadata": {
    "id": "PDftXQFt2XdU"
   },
   "outputs": [],
   "source": [
    "def calc_method_score(records, predict_func, nrows=1000):\n",
    "    references = []\n",
    "    predictions = []\n",
    "\n",
    "    for i, record in enumerate(records):\n",
    "        if nrows is not None and i >= nrows:\n",
    "            break\n",
    "        summary = record[\"summary\"]\n",
    "        text = record[\"text\"]\n",
    "        prediction = predict_func(text, summary)\n",
    "        references.append(summary)\n",
    "        predictions.append(prediction)\n",
    "\n",
    "    calc_scores(references, predictions)"
   ]
  },
  {
   "cell_type": "code",
   "execution_count": null,
   "metadata": {
    "colab": {
     "base_uri": "https://localhost:8080/"
    },
    "id": "OyUyIIVIv6BJ",
    "outputId": "ad96e4f2-8096-4282-a0d1-1f87fc687ed2"
   },
   "outputs": [
    {
     "name": "stdout",
     "output_type": "stream",
     "text": [
      "Count: 1000\n",
      "Ref: Телеканал «Спас» запускает реалити-шоу «Остров», участникам которого предстоит месяц жить и работать в Нило-Столобенской пустыни на озере Селигер. Организаторы отметили, что это беспрецедентный подобный проект на телевидении. Участникам шоу будет, где поработать — в монастыре работают свечной, молочный и столярный цеха, есть коровник, конюшня, пасека.\n",
      "Hyp: РПЦ же нередко критикует СМИ. Критиковали в РПЦ и популярность футбола – об этом заявлял также Смирнов. В июне нынешнего года сообщалось, что РПЦ планирует сделать из Сергиева Посада «православный Ватикан».\n",
      "BLEU:  0.3585872220880093\n",
      "ROUGE:  {'rouge-1': {'f': 0.1866598392888999, 'p': 0.18137864753781832, 'r': 0.2055701577098893}, 'rouge-2': {'f': 0.05775558829470266, 'p': 0.05407660852215697, 'r': 0.06670656927927147}, 'rouge-l': {'f': 0.16173754022433068, 'p': 0.16619633248764337, 'r': 0.18766952121068614}}\n"
     ]
    }
   ],
   "source": [
    "import lexrank\n",
    "from lexrank import LexRank\n",
    "from lexrank.mappings.stopwords import STOPWORDS\n",
    "\n",
    "\n",
    "def predict_lex_rank(text, summary, lxr, summary_size=3, threshold=None):\n",
    "    sentences = [s.text for s in razdel.sentenize(text)]\n",
    "    prediction = lxr.get_summary(sentences, summary_size=summary_size, threshold=threshold)\n",
    "    prediction = \" \".join(prediction)\n",
    "    return prediction\n",
    "    \n",
    "\n",
    "sentences = [[s.text for s in razdel.sentenize(r[\"text\"])] for r in test_records]\n",
    "lxr = LexRank(sentences, stopwords=STOPWORDS['ru'])\n",
    "calc_method_score(test_records, lambda x, y: predict_lex_rank(x, y, lxr))"
   ]
  },
  {
   "cell_type": "markdown",
   "metadata": {
    "id": "hXpnKC7FwSMs"
   },
   "source": [
    "## LSA\n",
    "* One of the original papers: https://www.cs.bham.ac.uk/~pxt/IDA/text_summary.pdf\n",
    "* sumy library: https://github.com/miso-belica/sumy"
   ]
  },
  {
   "cell_type": "code",
   "execution_count": null,
   "metadata": {
    "colab": {
     "base_uri": "https://localhost:8080/"
    },
    "id": "-CCGozXDv51Q",
    "outputId": "4cae3260-d609-41db-dceb-f925f9071dd5"
   },
   "outputs": [
    {
     "name": "stdout",
     "output_type": "stream",
     "text": [
      "[nltk_data] Downloading package punkt to /root/nltk_data...\n",
      "[nltk_data]   Unzipping tokenizers/punkt.zip.\n",
      "Count: 1000\n",
      "Ref: Телеканал «Спас» запускает реалити-шоу «Остров», участникам которого предстоит месяц жить и работать в Нило-Столобенской пустыни на озере Селигер. Организаторы отметили, что это беспрецедентный подобный проект на телевидении. Участникам шоу будет, где поработать — в монастыре работают свечной, молочный и столярный цеха, есть коровник, конюшня, пасека.\n",
      "Hyp: Проживи месяц в Ниловой пустыни, выполняя послушания, и найди ответы на вопросы, которые давно беспокоят», — так анонсирует телеканал свой проект. Известный миссионер, председатель Синодального отдела МП по взаимодействию с Вооруженными силами и правоохранительными учреждениями протоиерей Дмитрий Смирнов выразил надежду, что проект даст благие результаты. По его словам, такая зависимость сродни алкогольной или наркотической — электронные устройства лишают человека свободы и приводят к «дегуманизации» личности, уводя в виртуальную реальность.\n",
      "BLEU:  0.2886431184833744\n",
      "ROUGE:  {'rouge-1': {'f': 0.1424397778644531, 'p': 0.1173371022001974, 'r': 0.1891427242098306}, 'rouge-2': {'f': 0.030363569130715865, 'p': 0.02487039227669263, 'r': 0.040812931333090385}, 'rouge-l': {'f': 0.11585933911445374, 'p': 0.10584658880999742, 'r': 0.17026135852625016}}\n"
     ]
    }
   ],
   "source": [
    "from sumy.summarizers.lsa import LsaSummarizer\n",
    "from sumy.nlp.tokenizers import Tokenizer\n",
    "from sumy.parsers.plaintext import PlaintextParser\n",
    "import nltk; nltk.download('punkt');\n",
    "\n",
    "\n",
    "def predict_lsa(text, summary, lsa_summarizer, tokenizer, summary_size=3):\n",
    "    parser = PlaintextParser.from_string(text, tokenizer)\n",
    "    predicted_summary = lsa_summarizer(parser.document, summary_size)\n",
    "    predicted_summary = \" \".join([str(s) for s in predicted_summary])\n",
    "    return predicted_summary\n",
    "\n",
    "lsa_summarizer = LsaSummarizer()\n",
    "tokenizer = Tokenizer(\"russian\")\n",
    "calc_method_score(test_records, lambda x, y: predict_lsa(x, y, lsa_summarizer, tokenizer))"
   ]
  },
  {
   "cell_type": "markdown",
   "metadata": {
    "id": "yGFTmGLLFOGw"
   },
   "source": [
    "### Summa"
   ]
  },
  {
   "cell_type": "code",
   "execution_count": null,
   "metadata": {
    "colab": {
     "base_uri": "https://localhost:8080/",
     "height": 154,
     "referenced_widgets": [
      "e6575addf2ef4978a658ac2aea152db1",
      "5f017c44136f49c88321d948b393425e",
      "0eb101f4bce34abaaa110d78bdfdcba3",
      "dcf488f814d44fe4938a2e63e0fdeae0",
      "b80ab530a06c49e9a277e6c22d6e3f01",
      "4d465cec6b54451ea4705d547ab8bc2e",
      "29bcaa029ee44972b0fc706aefd8dadd",
      "0cecab585bcd41ddb254f7edef1b82d5"
     ]
    },
    "id": "fQiUDH8fVN3h",
    "outputId": "c232f65b-b6c1-4ccb-8d3e-bdf1265e2365"
   },
   "outputs": [
    {
     "data": {
      "application/vnd.jupyter.widget-view+json": {
       "model_id": "e6575addf2ef4978a658ac2aea152db1",
       "version_major": 2,
       "version_minor": 0
      },
      "text/plain": [
       "HBox(children=(FloatProgress(value=1.0, bar_style='info', max=1.0), HTML(value='')))"
      ]
     },
     "metadata": {
      "tags": []
     },
     "output_type": "display_data"
    },
    {
     "name": "stdout",
     "output_type": "stream",
     "text": [
      "Count: 1000\n",
      "Ref: телеканал «спас» запускает реалити-шоу «остров», участникам которого предстоит месяц жить и работать в нило-столобенской пустыни на озере селигер. организаторы отметили, что это беспрецедентный подобный проект на телевидении. участникам шоу будет, где поработать — в монастыре работают свечной, молочный и столярный цеха, есть коровник, конюшня, пасека.\n",
      "Hyp: проживи месяц в ниловой пустыни, выполняя послушания, и найди ответы на вопросы, которые давно беспокоят», — так анонсирует телеканал свой проект. «у нас же даже многие журналисты не знают и не понимают многого, связанного с религиозными ценностями, а здесь — попытка обратить их внимание на это, может быть, им будет интересно. стоит отметить, что участникам шоу будет, где поработать — в монастыре работают свечной, молочный и столярный цеха, есть коровник, конюшня, пасека. и это что — жизнь, что ли?\n",
      "BLEU:  0.2762958192799957\n",
      "ROUGE:  {'rouge-1': {'f': 0.1770425497877709, 'p': 0.14391909693539454, 'r': 0.24737876331285494}, 'rouge-2': {'f': 0.047316399226292105, 'p': 0.03775600414501152, 'r': 0.06889084948510987}, 'rouge-l': {'f': 0.13869575224542852, 'p': 0.12795603134013936, 'r': 0.2198206686289155}}\n"
     ]
    }
   ],
   "source": [
    "from summa.summarizer import summarize\n",
    "\n",
    "def calc_summa_score(records, summary_part=0.1, lower=True, nrows=1000):\n",
    "    references = []\n",
    "    predictions = []\n",
    "\n",
    "    for i, record in tqdm(enumerate(records)):\n",
    "        if i >= nrows:\n",
    "            break\n",
    "\n",
    "        summary = record[\"summary\"]\n",
    "        summary = summary if not lower else summary.lower()\n",
    "        references.append(summary)\n",
    "\n",
    "        text = record[\"text\"]\n",
    "        text = text if not lower else text.lower()\n",
    "        predicted_summary = summarize(text, ratio=summary_part, language='russian').replace(\"\\n\", \" \")\n",
    "        predictions.append(predicted_summary)\n",
    "\n",
    "    calc_scores(references, predictions)\n",
    "\n",
    "calc_summa_score(test_records)"
   ]
  },
  {
   "cell_type": "markdown",
   "metadata": {
    "id": "xdTrfxycB7cd"
   },
   "source": [
    "## Oracle summary"
   ]
  },
  {
   "cell_type": "markdown",
   "metadata": {
    "id": "6Q7DeHDYFSjX"
   },
   "source": [
    "Для сведения задачи к extractive summarization мы должны выбрать те предложения из оригинального текста, которые наиболее похожи на наше целевое summary по нашим метрикам."
   ]
  },
  {
   "cell_type": "code",
   "execution_count": null,
   "metadata": {
    "id": "Sxsc0Orf8hGq"
   },
   "outputs": [],
   "source": [
    "import copy\n",
    "\n",
    "def build_oracle_summary_greedy(text, gold_summary, calc_score, lower=True, max_sentences=30):\n",
    "    '''\n",
    "    Жадное построение oracle summary\n",
    "    '''\n",
    "    gold_summary = gold_summary.lower() if lower else gold_summary\n",
    "    # Делим текст на предложения\n",
    "    sentences = [sentence.text.lower() if lower else sentence.text for sentence in razdel.sentenize(text)][:max_sentences]\n",
    "    n_sentences = len(sentences)\n",
    "    oracle_summary_sentences = set()\n",
    "    \n",
    "    score = -1.0\n",
    "    summaries = []\n",
    "    for _ in range(n_sentences):\n",
    "        for i in range(n_sentences):\n",
    "            if i in oracle_summary_sentences:\n",
    "                continue\n",
    "            current_summary_sentences = copy.copy(oracle_summary_sentences)\n",
    "            # Добавляем какое-то предложения к уже существующему summary\n",
    "            current_summary_sentences.add(i)\n",
    "            current_summary = \" \".join([sentences[index] for index in sorted(list(current_summary_sentences))])\n",
    "            # Считаем метрики\n",
    "            current_score = calc_score(current_summary, gold_summary)\n",
    "            summaries.append((current_score, current_summary_sentences))\n",
    "        # Если получилось улучшить метрики с добавлением какого-либо предложения, то пробуем добавить ещё\n",
    "        # Иначе на этом заканчиваем\n",
    "        best_summary_score, best_summary_sentences = max(summaries)\n",
    "        if best_summary_score <= score:\n",
    "            break\n",
    "        oracle_summary_sentences = best_summary_sentences\n",
    "        score = best_summary_score\n",
    "    oracle_summary = \" \".join([sentences[index] for index in sorted(list(oracle_summary_sentences))])\n",
    "    return oracle_summary, oracle_summary_sentences\n",
    "\n",
    "def calc_single_score(pred_summary, gold_summary, rouge):\n",
    "    return rouge.get_scores([pred_summary], [gold_summary], avg=True)['rouge-2']['f']"
   ]
  },
  {
   "cell_type": "code",
   "execution_count": null,
   "metadata": {
    "colab": {
     "base_uri": "https://localhost:8080/",
     "height": 154,
     "referenced_widgets": [
      "2f6fbaaa65154ca6afb4239f998c0fc5",
      "ffb69d295e7b49d48df87e6d3bea8567",
      "1c1755f7796941138f3cc7233217a33d",
      "510d520823ea4057b56e636cbb97db4d",
      "f9edd6ab9c184982b607758c3a39bb6b",
      "dff9fa4709d0494b90d187cb0613bc39",
      "70e37f48a96a4eeb94d314f87ee79010",
      "56b7eb8a43034cc2befb8439df419478"
     ]
    },
    "id": "7T_ak-KDB8rp",
    "outputId": "73f8382a-6242-49b3-f5cb-82bb6f16c61b"
   },
   "outputs": [
    {
     "data": {
      "application/vnd.jupyter.widget-view+json": {
       "model_id": "2f6fbaaa65154ca6afb4239f998c0fc5",
       "version_major": 2,
       "version_minor": 0
      },
      "text/plain": [
       "HBox(children=(FloatProgress(value=1.0, bar_style='info', max=1.0), HTML(value='')))"
      ]
     },
     "metadata": {
      "tags": []
     },
     "output_type": "display_data"
    },
    {
     "name": "stdout",
     "output_type": "stream",
     "text": [
      "Count: 1000\n",
      "Ref: телеканал «спас» запускает реалити-шоу «остров», участникам которого предстоит месяц жить и работать в нило-столобенской пустыни на озере селигер. организаторы отметили, что это беспрецедентный подобный проект на телевидении. участникам шоу будет, где поработать — в монастыре работают свечной, молочный и столярный цеха, есть коровник, конюшня, пасека.\n",
      "Hyp: православный телеканал «спас», учредителем которого является московская патриархия, запускает реалити-шоу «остров», участникам которого предстоит месяц жить и работать в нило-столобенской пустыни на озере селигер в тверской области. в комментарии также отмечается, что это беспрецедентный подобный проект на телевидении. стоит отметить, что участникам шоу будет, где поработать — в монастыре работают свечной, молочный и столярный цеха, есть коровник, конюшня, пасека.\n",
      "BLEU:  0.531336150784986\n",
      "ROUGE:  {'rouge-1': {'f': 0.36951810858804146, 'p': 0.4053281117404892, 'r': 0.3661389123393327}, 'rouge-2': {'f': 0.2087846693590912, 'p': 0.23400300931194973, 'r': 0.20594499639015063}, 'rouge-l': {'f': 0.32342889691715343, 'p': 0.3777106006444112, 'r': 0.33982247044123787}}\n"
     ]
    }
   ],
   "source": [
    "from tqdm.notebook import tqdm\n",
    "import razdel\n",
    "\n",
    "def calc_oracle_score(records, nrows=1000, lower=True):\n",
    "    references = []\n",
    "    predictions = []\n",
    "    rouge = Rouge()\n",
    "  \n",
    "    for i, record in tqdm(enumerate(records)):\n",
    "        if i >= nrows:\n",
    "            break\n",
    "\n",
    "        summary = record[\"summary\"]\n",
    "        summary = summary if not lower else summary.lower()\n",
    "        references.append(summary)\n",
    "\n",
    "        text = record[\"text\"]\n",
    "        predicted_summary, _ = build_oracle_summary_greedy(text, summary, calc_score=lambda x, y: calc_single_score(x, y, rouge))\n",
    "        predictions.append(predicted_summary)\n",
    "\n",
    "    calc_scores(references, predictions)\n",
    "\n",
    "\n",
    "calc_oracle_score(test_records)"
   ]
  },
  {
   "cell_type": "code",
   "execution_count": null,
   "metadata": {
    "id": "buHrCuyr8L8l"
   },
   "outputs": [],
   "source": []
  },
  {
   "cell_type": "code",
   "execution_count": null,
   "metadata": {
    "id": "v77UzHzU8LjH"
   },
   "outputs": [],
   "source": []
  },
  {
   "cell_type": "markdown",
   "metadata": {
    "id": "foLYftYTCAkS"
   },
   "source": [
    "## RNN"
   ]
  },
  {
   "cell_type": "code",
   "execution_count": null,
   "metadata": {
    "id": "SCAtnhmzzW2U"
   },
   "outputs": [],
   "source": [
    "import pandas as pd"
   ]
  },
  {
   "cell_type": "code",
   "execution_count": null,
   "metadata": {
    "id": "g4nt6C8AzWpJ"
   },
   "outputs": [],
   "source": [
    "df_train = pd.DataFrame(train_records)"
   ]
  },
  {
   "cell_type": "code",
   "execution_count": null,
   "metadata": {
    "colab": {
     "base_uri": "https://localhost:8080/",
     "height": 138
    },
    "id": "yx4ko_5X46Mx",
    "outputId": "ceed2f85-89ba-4244-9223-5ab49c4b83ee"
   },
   "outputs": [
    {
     "data": {
      "text/html": [
       "<div>\n",
       "<style scoped>\n",
       "    .dataframe tbody tr th:only-of-type {\n",
       "        vertical-align: middle;\n",
       "    }\n",
       "\n",
       "    .dataframe tbody tr th {\n",
       "        vertical-align: top;\n",
       "    }\n",
       "\n",
       "    .dataframe thead th {\n",
       "        text-align: right;\n",
       "    }\n",
       "</style>\n",
       "<table border=\"1\" class=\"dataframe\">\n",
       "  <thead>\n",
       "    <tr style=\"text-align: right;\">\n",
       "      <th></th>\n",
       "      <th>url</th>\n",
       "      <th>text</th>\n",
       "      <th>title</th>\n",
       "      <th>summary</th>\n",
       "      <th>date</th>\n",
       "    </tr>\n",
       "  </thead>\n",
       "  <tbody>\n",
       "    <tr>\n",
       "      <th>0</th>\n",
       "      <td>https://www.gazeta.ru/science/2020/02/14_a_129...</td>\n",
       "      <td>Американское аэрокосмическое агентство NASA ог...</td>\n",
       "      <td>Венера, Ио или Тритон: куда полетит NASA</td>\n",
       "      <td>В NASA назвали четыре миссии в дальний космос,...</td>\n",
       "      <td>2020-02-14 16:39:11</td>\n",
       "    </tr>\n",
       "    <tr>\n",
       "      <th>1</th>\n",
       "      <td>https://www.gazeta.ru/social/2020/02/28/129806...</td>\n",
       "      <td>Около 11 тысяч зрителей увидели все самое лучш...</td>\n",
       "      <td>«Люди в Бурятии очень талантливые»</td>\n",
       "      <td>25 и 26 февраля в Кремлевском дворце съездов п...</td>\n",
       "      <td>2020-02-28 10:44:13</td>\n",
       "    </tr>\n",
       "    <tr>\n",
       "      <th>2</th>\n",
       "      <td>https://www.gazeta.ru/politics/2019/11/07_a_12...</td>\n",
       "      <td>7 ноября в Белоруссии прошли выборы членов сов...</td>\n",
       "      <td>Вспомнить СССР: как Лукашенко провел выборы</td>\n",
       "      <td>В Белоруссии в день годовщины Октябрьской рево...</td>\n",
       "      <td>2019-11-07 19:55:08</td>\n",
       "    </tr>\n",
       "  </tbody>\n",
       "</table>\n",
       "</div>"
      ],
      "text/plain": [
       "                                                 url  ...                 date\n",
       "0  https://www.gazeta.ru/science/2020/02/14_a_129...  ...  2020-02-14 16:39:11\n",
       "1  https://www.gazeta.ru/social/2020/02/28/129806...  ...  2020-02-28 10:44:13\n",
       "2  https://www.gazeta.ru/politics/2019/11/07_a_12...  ...  2019-11-07 19:55:08\n",
       "\n",
       "[3 rows x 5 columns]"
      ]
     },
     "execution_count": 7,
     "metadata": {
      "tags": []
     },
     "output_type": "execute_result"
    }
   ],
   "source": [
    "df_test = pd.DataFrame(test_records)\n",
    "df_test[:3]"
   ]
  },
  {
   "cell_type": "code",
   "execution_count": null,
   "metadata": {
    "colab": {
     "base_uri": "https://localhost:8080/",
     "height": 267
    },
    "id": "i_HaDfNtzBz7",
    "outputId": "c2ed28f9-0317-4d41-8a07-37f657d176c2"
   },
   "outputs": [
    {
     "data": {
      "text/html": [
       "<div>\n",
       "<style scoped>\n",
       "    .dataframe tbody tr th:only-of-type {\n",
       "        vertical-align: middle;\n",
       "    }\n",
       "\n",
       "    .dataframe tbody tr th {\n",
       "        vertical-align: top;\n",
       "    }\n",
       "\n",
       "    .dataframe thead th {\n",
       "        text-align: right;\n",
       "    }\n",
       "</style>\n",
       "<table border=\"1\" class=\"dataframe\">\n",
       "  <thead>\n",
       "    <tr style=\"text-align: right;\">\n",
       "      <th></th>\n",
       "      <th>url</th>\n",
       "      <th>text</th>\n",
       "      <th>title</th>\n",
       "      <th>summary</th>\n",
       "      <th>date</th>\n",
       "    </tr>\n",
       "  </thead>\n",
       "  <tbody>\n",
       "    <tr>\n",
       "      <th>0</th>\n",
       "      <td>https://www.gazeta.ru/financial/2011/11/30/385...</td>\n",
       "      <td>«По итогам 2011 года чистый отток может состав...</td>\n",
       "      <td>Прогноз не успевает за оттоком</td>\n",
       "      <td>В 2011 году из России уйдет $80 млрд, считают ...</td>\n",
       "      <td>2011-11-30 18:33:39</td>\n",
       "    </tr>\n",
       "    <tr>\n",
       "      <th>1</th>\n",
       "      <td>https://www.gazeta.ru/business/2013/01/24/4939...</td>\n",
       "      <td>Российское подразделение интернет-корпорации G...</td>\n",
       "      <td>Google закончил поиск</td>\n",
       "      <td>Юлия Соловьева, экс-директор холдинга «Профмед...</td>\n",
       "      <td>2013-01-24 18:20:09</td>\n",
       "    </tr>\n",
       "    <tr>\n",
       "      <th>2</th>\n",
       "      <td>https://www.gazeta.ru/social/2018/02/06/116393...</td>\n",
       "      <td>Басманный районный суд Москвы вечером 6 феврал...</td>\n",
       "      <td>«Фигуранты дела могут давить на свидетелей»</td>\n",
       "      <td>Суд арестовал на два месяца четверых экс-чинов...</td>\n",
       "      <td>2018-02-06 21:21:14</td>\n",
       "    </tr>\n",
       "    <tr>\n",
       "      <th>3</th>\n",
       "      <td>https://www.gazeta.ru/business/2013/06/21/5388...</td>\n",
       "      <td>Как повлияло вступление в ВТО на конкурентносп...</td>\n",
       "      <td>«С последних традиционно «отжимают» больше»</td>\n",
       "      <td>Мнения предпринимателей по поводу вступления в...</td>\n",
       "      <td>2013-06-21 17:43:50</td>\n",
       "    </tr>\n",
       "    <tr>\n",
       "      <th>4</th>\n",
       "      <td>https://www.gazeta.ru/culture/2014/12/27/a_636...</td>\n",
       "      <td>К третьему сезону «Голос» на Первом канале ста...</td>\n",
       "      <td>Третий «Голос» за Градского</td>\n",
       "      <td>На Первом канале завершился третий сезон шоу «...</td>\n",
       "      <td>2014-12-27 01:10:01</td>\n",
       "    </tr>\n",
       "  </tbody>\n",
       "</table>\n",
       "</div>"
      ],
      "text/plain": [
       "                                                 url  ...                 date\n",
       "0  https://www.gazeta.ru/financial/2011/11/30/385...  ...  2011-11-30 18:33:39\n",
       "1  https://www.gazeta.ru/business/2013/01/24/4939...  ...  2013-01-24 18:20:09\n",
       "2  https://www.gazeta.ru/social/2018/02/06/116393...  ...  2018-02-06 21:21:14\n",
       "3  https://www.gazeta.ru/business/2013/06/21/5388...  ...  2013-06-21 17:43:50\n",
       "4  https://www.gazeta.ru/culture/2014/12/27/a_636...  ...  2014-12-27 01:10:01\n",
       "\n",
       "[5 rows x 5 columns]"
      ]
     },
     "execution_count": 8,
     "metadata": {
      "tags": []
     },
     "output_type": "execute_result"
    }
   ],
   "source": [
    "df_train[:5]"
   ]
  },
  {
   "cell_type": "code",
   "execution_count": null,
   "metadata": {
    "colab": {
     "base_uri": "https://localhost:8080/"
    },
    "id": "jD9kF6lwzr8J",
    "outputId": "3576d277-c78d-458c-a5fe-c8055a53efcc"
   },
   "outputs": [
    {
     "data": {
      "text/plain": [
       "0    BOS В 2011 году из России уйдет $80 млрд, счит...\n",
       "1    BOS Юлия Соловьева, экс-директор холдинга «Про...\n",
       "2    BOS Суд арестовал на два месяца четверых экс-ч...\n",
       "3    BOS Мнения предпринимателей по поводу вступлен...\n",
       "4    BOS На Первом канале завершился третий сезон ш...\n",
       "Name: summary_clean, dtype: object"
      ]
     },
     "execution_count": 9,
     "metadata": {
      "tags": []
     },
     "output_type": "execute_result"
    }
   ],
   "source": [
    "df_train['summary_clean'] = df_train['summary'].apply(lambda v: 'BOS ' + v + ' EOS')\n",
    "df_test['summary_clean'] = df_test['summary'].apply(lambda v: 'BOS ' + v + ' EOS')\n",
    "df_train['summary_clean'][:5]"
   ]
  },
  {
   "cell_type": "code",
   "execution_count": null,
   "metadata": {
    "id": "FWO1EnaTDPqh"
   },
   "outputs": [],
   "source": [
    "MAX_TRAIN_SAMPLE = 1000\n",
    "MAX_TEST_SAMPLE = 200\n",
    "\n",
    "df_train = df_train[:MAX_TRAIN_SAMPLE]\n",
    "df_test = df_test[:MAX_TEST_SAMPLE]"
   ]
  },
  {
   "cell_type": "code",
   "execution_count": null,
   "metadata": {
    "id": "dCbJUCuT2JY1"
   },
   "outputs": [],
   "source": [
    "import tensorflow as tf\n",
    "\n",
    "from tensorflow.keras.preprocessing.text import Tokenizer\n",
    "from tensorflow.keras.preprocessing.text import text_to_word_sequence\n",
    "from tensorflow.keras.preprocessing.sequence import pad_sequences"
   ]
  },
  {
   "cell_type": "code",
   "execution_count": null,
   "metadata": {
    "id": "q7HYhQWq8ZRc"
   },
   "outputs": [],
   "source": [
    "max_len_text = 700\n",
    "max_len_sum = 70"
   ]
  },
  {
   "cell_type": "code",
   "execution_count": null,
   "metadata": {
    "id": "TeUOwToJ2JPd"
   },
   "outputs": [],
   "source": [
    "#tok_text = Tokenizer(oov_token='UNK')\n",
    "tok_text = Tokenizer()\n",
    "tok_text.fit_on_texts(df_train['text'])\n",
    "x_train_tok = tok_text.texts_to_sequences(df_train['text'])\n",
    "x_test_tok = tok_text.texts_to_sequences(df_test['text'])"
   ]
  },
  {
   "cell_type": "code",
   "execution_count": null,
   "metadata": {
    "id": "xCmffRh7zrff"
   },
   "outputs": [],
   "source": [
    "text_vocab_size=len(tok_text.word_index)+1\n",
    "\n",
    "padded_x_train = pad_sequences(x_train_tok, maxlen=max_len_text, padding='post', truncating='post')\n",
    "padded_x_test = pad_sequences(x_test_tok, maxlen=max_len_text, padding='post', truncating='post')"
   ]
  },
  {
   "cell_type": "code",
   "execution_count": null,
   "metadata": {
    "id": "_52YN24B9n0Y"
   },
   "outputs": [],
   "source": [
    "#tok_sum = Tokenizer(oov_token='UNK')\n",
    "tok_sum = Tokenizer()\n",
    "tok_sum.fit_on_texts(df_train['summary_clean'])\n",
    "x_train_sum = tok_sum.texts_to_sequences(df_train['summary_clean'])\n",
    "x_test_sum = tok_sum.texts_to_sequences(df_test['summary_clean'])\n",
    "\n",
    "sum_vocab_size=len(tok_sum.word_index)+1\n",
    "\n",
    "padded_x_train_sum = pad_sequences(x_train_sum, maxlen=max_len_sum, padding='post', truncating='post')\n",
    "padded_x_test_sum = pad_sequences(x_test_sum, maxlen=max_len_sum, padding='post', truncating='post')"
   ]
  },
  {
   "cell_type": "code",
   "execution_count": null,
   "metadata": {
    "colab": {
     "base_uri": "https://localhost:8080/"
    },
    "id": "XJBGvxIJ9nuf",
    "outputId": "b6b62cd1-1949-48c2-ea7b-f6a07aa29d60"
   },
   "outputs": [
    {
     "data": {
      "text/plain": [
       "(1000, 70)"
      ]
     },
     "execution_count": 16,
     "metadata": {
      "tags": []
     },
     "output_type": "execute_result"
    }
   ],
   "source": [
    "padded_x_train_sum.shape"
   ]
  },
  {
   "cell_type": "code",
   "execution_count": null,
   "metadata": {
    "id": "ebofpz6n9nrA"
   },
   "outputs": [],
   "source": [
    "reverse_text_index=tok_text.index_word\n",
    "reverse_sum_index=tok_sum.index_word\n",
    "sum_wordindex=tok_sum.word_index"
   ]
  },
  {
   "cell_type": "markdown",
   "metadata": {
    "id": "B-dm-CTQBArg"
   },
   "source": [
    "### Model"
   ]
  },
  {
   "cell_type": "code",
   "execution_count": null,
   "metadata": {
    "id": "g7AF42ZIDSZF"
   },
   "outputs": [],
   "source": [
    "from tensorflow.keras.layers import Input, LSTM, GRU, Embedding, TimeDistributed, Softmax, Dense, RepeatVector, Concatenate, Dense\n",
    "from tensorflow.keras.models import Model"
   ]
  },
  {
   "cell_type": "code",
   "execution_count": null,
   "metadata": {
    "colab": {
     "base_uri": "https://localhost:8080/"
    },
    "id": "9-ZXReP49nmr",
    "outputId": "666a8e9f-7e03-4735-ddaa-aedaa9bc5773"
   },
   "outputs": [
    {
     "name": "stdout",
     "output_type": "stream",
     "text": [
      "WARNING:tensorflow:Layer lstm will not use cuDNN kernels since it doesn't meet the criteria. It will use a generic GPU kernel as fallback when running on GPU.\n",
      "WARNING:tensorflow:Layer lstm_1 will not use cuDNN kernels since it doesn't meet the criteria. It will use a generic GPU kernel as fallback when running on GPU.\n",
      "WARNING:tensorflow:Layer lstm_2 will not use cuDNN kernels since it doesn't meet the criteria. It will use a generic GPU kernel as fallback when running on GPU.\n",
      "WARNING:tensorflow:Layer lstm_3 will not use cuDNN kernels since it doesn't meet the criteria. It will use a generic GPU kernel as fallback when running on GPU.\n",
      "Model: \"model\"\n",
      "__________________________________________________________________________________________________\n",
      "Layer (type)                    Output Shape         Param #     Connected to                     \n",
      "==================================================================================================\n",
      "input_1 (InputLayer)            [(None, 700)]        0                                            \n",
      "__________________________________________________________________________________________________\n",
      "embedding (Embedding)           (None, 700, 200)     17664000    input_1[0][0]                    \n",
      "__________________________________________________________________________________________________\n",
      "lstm (LSTM)                     [(None, 700, 300), ( 601200      embedding[0][0]                  \n",
      "__________________________________________________________________________________________________\n",
      "input_2 (InputLayer)            [(None, None)]       0                                            \n",
      "__________________________________________________________________________________________________\n",
      "lstm_1 (LSTM)                   [(None, 700, 300), ( 721200      lstm[0][0]                       \n",
      "__________________________________________________________________________________________________\n",
      "embedding_1 (Embedding)         (None, None, 200)    3126000     input_2[0][0]                    \n",
      "__________________________________________________________________________________________________\n",
      "lstm_2 (LSTM)                   [(None, 700, 300), ( 721200      lstm_1[0][0]                     \n",
      "__________________________________________________________________________________________________\n",
      "lstm_3 (LSTM)                   [(None, None, 300),  601200      embedding_1[0][0]                \n",
      "                                                                 lstm_2[0][1]                     \n",
      "                                                                 lstm_2[0][2]                     \n",
      "__________________________________________________________________________________________________\n",
      "time_distributed (TimeDistribut (None, None, 15630)  4704630     lstm_3[0][0]                     \n",
      "==================================================================================================\n",
      "Total params: 28,139,430\n",
      "Trainable params: 28,139,430\n",
      "Non-trainable params: 0\n",
      "__________________________________________________________________________________________________\n"
     ]
    }
   ],
   "source": [
    "latent_dim = 300\n",
    "embedding_dim=200\n",
    "\n",
    "# Encoder\n",
    "encoder_inputs = Input(shape=(max_len_text,))\n",
    "\n",
    "#embedding layer\n",
    "enc_emb =  Embedding(text_vocab_size, embedding_dim, trainable=True)(encoder_inputs)\n",
    "\n",
    "#encoder lstm 1\n",
    "encoder_lstm1 = LSTM(latent_dim, return_sequences=True, return_state=True, dropout=0.4, recurrent_dropout=0.4)\n",
    "encoder_output1, state_h1, state_c1 = encoder_lstm1(enc_emb)\n",
    "\n",
    "#encoder lstm 2\n",
    "encoder_lstm2 = LSTM(latent_dim, return_sequences=True,return_state=True,dropout=0.4, recurrent_dropout=0.4)\n",
    "encoder_output2, state_h2, state_c2 = encoder_lstm2(encoder_output1)\n",
    "\n",
    "#encoder lstm 3\n",
    "encoder_lstm3=LSTM(latent_dim, return_state=True, return_sequences=True,dropout=0.4,recurrent_dropout=0.4)\n",
    "encoder_outputs, state_h, state_c= encoder_lstm3(encoder_output2) #encoder_lstm3(encoder_output2)\n",
    "\n",
    "# Set up the decoder, using `encoder_states` as initial state.\n",
    "decoder_inputs = Input(shape=(None,))\n",
    "\n",
    "#embedding layer\n",
    "dec_emb_layer = Embedding(sum_vocab_size, embedding_dim, trainable=True)\n",
    "dec_emb = dec_emb_layer(decoder_inputs)\n",
    "\n",
    "decoder_lstm = LSTM(latent_dim, return_sequences=True, return_state=True,dropout=0.4,recurrent_dropout=0.2)\n",
    "decoder_outputs, decoder_fwd_state, decoder_back_state = decoder_lstm(dec_emb, initial_state=[state_h, state_c])\n",
    "\n",
    "#dense layer\n",
    "decoder_dense =  TimeDistributed(Dense(sum_vocab_size, activation='softmax'))\n",
    "decoder_outputs = decoder_dense(decoder_outputs)\n",
    "\n",
    "# Define the model \n",
    "model = Model([encoder_inputs, decoder_inputs], decoder_outputs)\n",
    "\n",
    "model.summary()\n"
   ]
  },
  {
   "cell_type": "code",
   "execution_count": null,
   "metadata": {
    "id": "9-1XGsoxDPqj"
   },
   "outputs": [],
   "source": [
    "optimizer = tf.keras.optimizers.Adam(learning_rate=0.0005)"
   ]
  },
  {
   "cell_type": "code",
   "execution_count": null,
   "metadata": {
    "id": "80ZV5ocOD1lJ"
   },
   "outputs": [],
   "source": [
    "model.compile(optimizer='Adam',loss='sparse_categorical_crossentropy', metrics=['accuracy'])"
   ]
  },
  {
   "cell_type": "code",
   "execution_count": null,
   "metadata": {
    "colab": {
     "base_uri": "https://localhost:8080/"
    },
    "id": "fdCv0FqlD1g_",
    "outputId": "2df19d3b-eb91-45cd-b9c9-ca6c3d4a26d2"
   },
   "outputs": [
    {
     "name": "stdout",
     "output_type": "stream",
     "text": [
      "Epoch 1/10\n",
      "63/63 [==============================] - 474s 8s/step - loss: 5.9352 - accuracy: 0.3842 - val_loss: 4.1845 - val_accuracy: 0.5136\n",
      "Epoch 2/10\n",
      "63/63 [==============================] - 471s 7s/step - loss: 5.2514 - accuracy: 0.4008 - val_loss: 3.9034 - val_accuracy: 0.5278\n",
      "Epoch 3/10\n",
      "63/63 [==============================] - 472s 7s/step - loss: 5.0898 - accuracy: 0.4118 - val_loss: 3.8779 - val_accuracy: 0.5309\n",
      "Epoch 4/10\n",
      "63/63 [==============================] - 468s 7s/step - loss: 4.9923 - accuracy: 0.4151 - val_loss: 3.8889 - val_accuracy: 0.5314\n",
      "Epoch 5/10\n",
      "63/63 [==============================] - 468s 7s/step - loss: 4.9407 - accuracy: 0.4141 - val_loss: 3.8956 - val_accuracy: 0.5317\n",
      "Epoch 6/10\n",
      "63/63 [==============================] - 470s 7s/step - loss: 4.8538 - accuracy: 0.4154 - val_loss: 3.9152 - val_accuracy: 0.5300\n",
      "Epoch 7/10\n",
      "63/63 [==============================] - 469s 7s/step - loss: 4.7675 - accuracy: 0.4169 - val_loss: 3.9526 - val_accuracy: 0.5260\n",
      "Epoch 8/10\n",
      "63/63 [==============================] - 470s 7s/step - loss: 4.7002 - accuracy: 0.4173 - val_loss: 3.9670 - val_accuracy: 0.5255\n",
      "Epoch 9/10\n",
      "63/63 [==============================] - 471s 7s/step - loss: 4.6267 - accuracy: 0.4180 - val_loss: 3.9910 - val_accuracy: 0.5225\n",
      "Epoch 10/10\n",
      "63/63 [==============================] - 468s 7s/step - loss: 4.5512 - accuracy: 0.4186 - val_loss: 4.0242 - val_accuracy: 0.5204\n"
     ]
    }
   ],
   "source": [
    "history = model.fit([padded_x_train, padded_x_train_sum[:,:-1]], padded_x_train_sum.reshape(padded_x_train_sum.shape[0],padded_x_train_sum.shape[1], 1)[:,1:],\n",
    "                    epochs=10,\n",
    "                    validation_data=([padded_x_test, padded_x_test_sum[:,:-1]], padded_x_test_sum.reshape(padded_x_test_sum.shape[0], padded_x_test_sum.shape[1], 1)[:,1:]),\n",
    "                    batch_size=16)"
   ]
  },
  {
   "cell_type": "code",
   "execution_count": null,
   "metadata": {
    "id": "YlXAzhq0D1bw"
   },
   "outputs": [],
   "source": [
    "# Encode the input sequence to get the feature vector\n",
    "encoder_model = Model(inputs=encoder_inputs,outputs=[encoder_outputs, state_h, state_c])\n",
    "\n",
    "# Decoder setup\n",
    "# Below tensors will hold the states of the previous time step\n",
    "decoder_state_input_h = Input(shape=(latent_dim,))\n",
    "decoder_state_input_c = Input(shape=(latent_dim,))\n",
    "decoder_hidden_state_input = Input(shape=(max_len_text, latent_dim))\n",
    "\n",
    "# Get the embeddings of the decoder sequence\n",
    "dec_emb2= dec_emb_layer(decoder_inputs) \n",
    "# To predict the next word in the sequence, set the initial states to the states from the previous time step\n",
    "decoder_outputs2, state_h2, state_c2 = decoder_lstm(dec_emb2, initial_state=[decoder_state_input_h, decoder_state_input_c])\n",
    "\n",
    "# A dense softmax layer to generate prob dist. over the target vocabulary\n",
    "decoder_outputs2 = decoder_dense(decoder_outputs2) \n",
    "\n",
    "# Final decoder model\n",
    "decoder_model = Model(\n",
    "    [decoder_inputs] + [decoder_hidden_state_input, decoder_state_input_h, decoder_state_input_c],\n",
    "    [decoder_outputs2] + [state_h2, state_c2])"
   ]
  },
  {
   "cell_type": "code",
   "execution_count": null,
   "metadata": {
    "id": "yIzvmp5WD1RV"
   },
   "outputs": [],
   "source": [
    "import numpy as np\n",
    "\n",
    "def decode_sequence(input_seq):\n",
    "    # Encode the input as state vectors.\n",
    "    e_out, e_h, e_c = encoder_model.predict(input_seq)\n",
    "    \n",
    "    # Generate empty target sequence of length 1.\n",
    "    target_seq = np.zeros((1,1))\n",
    "    \n",
    "    # Populate the first word of target sequence with the start word.\n",
    "    target_seq[0, 0] = sum_wordindex['bos']\n",
    "\n",
    "    stop_condition = False\n",
    "    decoded_sentence = ''\n",
    "    while not stop_condition:\n",
    "      \n",
    "        output_tokens, h, c = decoder_model.predict([target_seq] + [e_out, e_h, e_c])\n",
    "\n",
    "        # Sample a token\n",
    "        sampled_token_index = np.argmax(output_tokens[0, -1, :])\n",
    "        sampled_token = reverse_sum_index[sampled_token_index]\n",
    "        \n",
    "        if(sampled_token!='eos'):\n",
    "            decoded_sentence += ' '+sampled_token\n",
    "\n",
    "        # Exit condition: either hit max length or find stop word.\n",
    "        if (sampled_token == 'eos'  or len(decoded_sentence.split()) >= (max_len_sum - 1)):\n",
    "            stop_condition = True\n",
    "\n",
    "        # Update the target sequence (of length 1).\n",
    "        target_seq = np.zeros((1,1))\n",
    "        target_seq[0, 0] = sampled_token_index\n",
    "\n",
    "        # Update internal states\n",
    "        e_h, e_c = h, c\n",
    "\n",
    "    return decoded_sentence"
   ]
  },
  {
   "cell_type": "code",
   "execution_count": null,
   "metadata": {
    "id": "QwTgCrgCDPqk"
   },
   "outputs": [],
   "source": [
    "def seq2summary(input_seq):\n",
    "    newString=''\n",
    "    for i in input_seq:\n",
    "        if((i!=0 and i!=sum_wordindex['bos']) and i!=sum_wordindex['eos']):\n",
    "            newString=newString+reverse_sum_index[i]+' '\n",
    "    return newString\n",
    "\n",
    "def seq2text(input_seq):\n",
    "    newString=''\n",
    "    for i in input_seq:\n",
    "        if(i!=0):\n",
    "            newString=newString+reverse_text_index[i]+' '\n",
    "    return newString\n"
   ]
  },
  {
   "cell_type": "code",
   "execution_count": null,
   "metadata": {
    "colab": {
     "base_uri": "https://localhost:8080/"
    },
    "id": "3CSmExqvDPqk",
    "outputId": "e80530d4-c824-4804-fbe7-a4a2d3857e57"
   },
   "outputs": [
    {
     "name": "stdout",
     "output_type": "stream",
     "text": [
      "Original summary: в nasa назвали четыре миссии в космос которые в этом могут быть американцами среди них — две миссии по полет к и к \n",
      "Predicted summary:  в москве в москве в участием главного в матче и матче и матче и два и словам и словам и словам и словам и словам и словам а и словам а а а\n",
      "\n",
      "\n",
      "Original summary: 25 и 26 февраля в праздновали — новый год центр российского и один из регионов страны где новый год официально дважды \n",
      "Predicted summary:  в москве в москве в участием главного в матче и матче и матче и два и словам и два и словам и словам и словам и словам и словам и словам а и илья\n",
      "\n",
      "\n",
      "Original summary: в белоруссии в день революции выбрали членов палаты парламента сегодняшнее голосование — основной части процесса через десять дней в республике пройдут выборы в палату представителей которые станут для александра лукашенко ведь за ними будут следить на западе \n",
      "Predicted summary:  в москве в москве в участием главного в матче и матче и матче и два и словам и два и словам и словам и словам и словам и словам и словам а и илья\n",
      "\n",
      "\n"
     ]
    }
   ],
   "source": [
    "for i in range(0, 3):\n",
    "    #print(\"Review:\",seq2text(padded_x_test[i]))\n",
    "    print(\"Original summary:\",seq2summary(padded_x_test_sum[i]))\n",
    "\n",
    "    print(\"Predicted summary:\",decode_sequence(padded_x_test[i].reshape(1, max_len_text)))\n",
    "    print(\"\\n\")"
   ]
  },
  {
   "cell_type": "code",
   "execution_count": null,
   "metadata": {
    "id": "j8_LkXx5DPqk"
   },
   "outputs": [],
   "source": []
  },
  {
   "cell_type": "markdown",
   "metadata": {
    "id": "5CvCWHESDPql"
   },
   "source": [
    "## Attention"
   ]
  },
  {
   "cell_type": "code",
   "execution_count": null,
   "metadata": {
    "id": "R2AlFeuUDPql"
   },
   "outputs": [],
   "source": [
    "from tensorflow.keras.layers import GRU, AdditiveAttention"
   ]
  },
  {
   "cell_type": "code",
   "execution_count": null,
   "metadata": {
    "id": "6u3YcauYDPql"
   },
   "outputs": [],
   "source": []
  },
  {
   "cell_type": "code",
   "execution_count": null,
   "metadata": {
    "id": "bYWN9tGxDPql",
    "outputId": "c175e941-d8c7-4456-ea78-389eee1233bc"
   },
   "outputs": [
    {
     "data": {
      "text/plain": [
       "0       BOS В 2011 году из России уйдет $80 млрд, счит...\n",
       "1       BOS Юлия Соловьева, экс-директор холдинга «Про...\n",
       "2       BOS Суд арестовал на два месяца четверых экс-ч...\n",
       "3       BOS Мнения предпринимателей по поводу вступлен...\n",
       "4       BOS На Первом канале завершился третий сезон ш...\n",
       "                              ...                        \n",
       "1995    BOS Практически половина американских военносл...\n",
       "1996    BOS Семь человек, находившиеся в салоне «Жигул...\n",
       "1997    BOS Участники детской Таврической ассамблеи вм...\n",
       "1998    BOS Дмитрий Медведев едет с однодневным визито...\n",
       "1999    BOS Мать супруги Александра Кержакова Миланы р...\n",
       "Name: summary_clean, Length: 2000, dtype: object"
      ]
     },
     "execution_count": 51,
     "metadata": {
      "tags": []
     },
     "output_type": "execute_result"
    }
   ],
   "source": [
    "df_train['text'],\n",
    "df_train['summary_clean']"
   ]
  },
  {
   "cell_type": "code",
   "execution_count": null,
   "metadata": {
    "id": "_TtJl_HnDPql"
   },
   "outputs": [],
   "source": []
  },
  {
   "cell_type": "code",
   "execution_count": null,
   "metadata": {
    "id": "Fu55nxsyDPql"
   },
   "outputs": [],
   "source": [
    "BUFFER_SIZE = len(padded_x_train)\n",
    "BATCH_SIZE = 32\n",
    "steps_per_epoch = len(padded_x_train)//BATCH_SIZE\n",
    "\n",
    "dataset = tf.data.Dataset.from_tensor_slices((padded_x_train, padded_x_train_sum)).shuffle(BUFFER_SIZE)\n",
    "dataset = dataset.batch(BATCH_SIZE, drop_remainder=True)"
   ]
  },
  {
   "cell_type": "code",
   "execution_count": null,
   "metadata": {
    "id": "F15NPw_gDPqm",
    "outputId": "e78ee196-e928-4268-c72d-ef99c931de60"
   },
   "outputs": [
    {
     "data": {
      "text/plain": [
       "(TensorShape([32, 700]), TensorShape([32, 70]))"
      ]
     },
     "execution_count": 41,
     "metadata": {
      "tags": []
     },
     "output_type": "execute_result"
    }
   ],
   "source": [
    "example_input_batch, example_target_batch = next(iter(dataset))\n",
    "example_input_batch.shape, example_target_batch.shape"
   ]
  },
  {
   "cell_type": "code",
   "execution_count": null,
   "metadata": {
    "id": "GT56T0CBDPqm"
   },
   "outputs": [],
   "source": [
    "class Encoder(tf.keras.Model):\n",
    "    def __init__(self, vocab_size, embedding_dim, enc_units, batch_sz):\n",
    "        super(Encoder, self).__init__()\n",
    "        self.batch_sz = batch_sz\n",
    "        self.enc_units = enc_units\n",
    "        self.embedding = tf.keras.layers.Embedding(vocab_size, embedding_dim)\n",
    "        self.gru1 = tf.keras.layers.GRU(self.enc_units,\n",
    "                                       return_sequences=True,\n",
    "                                       return_state=True,\n",
    "                                       recurrent_initializer='glorot_uniform')\n",
    "        self.gru2 = tf.keras.layers.GRU(self.enc_units,\n",
    "                                       return_sequences=True,\n",
    "                                       return_state=True,\n",
    "                                       recurrent_initializer='glorot_uniform')\n",
    "\n",
    "    def call(self, x, hidden):\n",
    "        x = self.embedding(x)\n",
    "        output, state = self.gru1(x, initial_state = hidden)\n",
    "        output, state = self.gru2(output, initial_state = state)\n",
    "        return output, state\n",
    "\n",
    "    def initialize_hidden_state(self):\n",
    "        return tf.zeros((self.batch_sz, self.enc_units))\n",
    "    \n",
    "class Decoder(tf.keras.Model):\n",
    "    def __init__(self, vocab_size, embedding_dim, dec_units, batch_sz):\n",
    "        super(Decoder, self).__init__()\n",
    "        self.batch_sz = batch_sz\n",
    "        self.dec_units = dec_units\n",
    "        self.embedding = tf.keras.layers.Embedding(vocab_size, embedding_dim)\n",
    "        self.gru = tf.keras.layers.GRU(self.dec_units,\n",
    "                                       return_sequences=True,\n",
    "                                       return_state=True,\n",
    "                                       recurrent_initializer='glorot_uniform')\n",
    "        self.fc = tf.keras.layers.Dense(vocab_size)\n",
    "\n",
    "        # used for attention\n",
    "        self.attention = tf.keras.layers.AdditiveAttention()\n",
    "\n",
    "    def call(self, x, query, value):\n",
    "        # enc_output shape == (batch_size, max_length, hidden_size)\n",
    "        #attention_weights = self.attention([ tf.expand_dims(query, 1), value,])\n",
    "        context_vector = self.attention([tf.expand_dims(query, 1), value,])\n",
    "        #context_vector = tf.squeeze(context_vector)\n",
    "\n",
    "\n",
    "        # x shape after passing through embedding == (batch_size, 1, embedding_dim)\n",
    "        x = self.embedding(x)\n",
    "        # x shape after concatenation == (batch_size, 1, embedding_dim + hidden_size)\n",
    "        x = tf.concat([context_vector, x], axis=-1)\n",
    "\n",
    "        # passing the concatenated vector to the GRU\n",
    "        output, state = self.gru(x)\n",
    "\n",
    "        # output shape == (batch_size * 1, hidden_size)\n",
    "        output = tf.reshape(output, (-1, output.shape[2]))\n",
    "\n",
    "        # output shape == (batch_size, vocab)\n",
    "        x = self.fc(output)\n",
    "\n",
    "        return x, state"
   ]
  },
  {
   "cell_type": "code",
   "execution_count": null,
   "metadata": {
    "id": "uw7Kj7XODPqm"
   },
   "outputs": [],
   "source": [
    "latent_dim = 300\n",
    "embedding_dim=200"
   ]
  },
  {
   "cell_type": "code",
   "execution_count": null,
   "metadata": {
    "id": "X42yVzrFDPqm"
   },
   "outputs": [],
   "source": [
    "encoder = Encoder(text_vocab_size, embedding_dim, latent_dim, BATCH_SIZE)\n",
    "decoder = Decoder(sum_vocab_size, embedding_dim, latent_dim, BATCH_SIZE)\n",
    "\n",
    "# sample input\n",
    "sample_hidden = encoder.initialize_hidden_state()\n",
    "sample_output, sample_hidden = encoder(example_input_batch, sample_hidden)"
   ]
  },
  {
   "cell_type": "code",
   "execution_count": null,
   "metadata": {
    "id": "0L1U8Ka6DPqm"
   },
   "outputs": [],
   "source": [
    "optimizer = tf.keras.optimizers.Adam()\n",
    "loss_object = tf.keras.losses.SparseCategoricalCrossentropy(\n",
    "    from_logits=True, reduction='none')\n",
    "\n",
    "def loss_function(real, pred):\n",
    "  mask = tf.math.logical_not(tf.math.equal(real, 0))\n",
    "  loss_ = loss_object(real, pred)\n",
    "\n",
    "  mask = tf.cast(mask, dtype=loss_.dtype)\n",
    "  loss_ *= mask\n",
    "\n",
    "  return tf.reduce_mean(loss_)"
   ]
  },
  {
   "cell_type": "code",
   "execution_count": null,
   "metadata": {
    "id": "FFYAO9HsDPqn"
   },
   "outputs": [],
   "source": [
    "@tf.function\n",
    "def train_step(inp, targ, enc_hidden):\n",
    "    loss = 0\n",
    "\n",
    "    with tf.GradientTape() as tape:\n",
    "        enc_output, enc_hidden = encoder(inp, enc_hidden)\n",
    "\n",
    "        dec_hidden = enc_hidden\n",
    "\n",
    "        dec_input = tf.expand_dims([sum_wordindex['bos']] * BATCH_SIZE, 1)\n",
    "\n",
    "        # Teacher forcing - feeding the target as the next input\n",
    "        for t in range(1, targ.shape[1]):\n",
    "            # passing enc_output to the decoder\n",
    "            predictions, dec_hidden = decoder(dec_input, dec_hidden, enc_output)\n",
    "\n",
    "            loss += loss_function(targ[:, t], predictions)\n",
    "\n",
    "            # using teacher forcing\n",
    "            dec_input = tf.expand_dims(targ[:, t], 1)\n",
    "\n",
    "    batch_loss = (loss / int(targ.shape[1]))\n",
    "\n",
    "    variables = encoder.trainable_variables + decoder.trainable_variables\n",
    "\n",
    "    gradients = tape.gradient(loss, variables)\n",
    "\n",
    "    optimizer.apply_gradients(zip(gradients, variables))\n",
    "\n",
    "    return batch_loss"
   ]
  },
  {
   "cell_type": "code",
   "execution_count": null,
   "metadata": {
    "id": "ZwJlvI9UDPqn"
   },
   "outputs": [],
   "source": [
    "import unicodedata\n",
    "import re\n",
    "import numpy as np\n",
    "import os\n",
    "import io\n",
    "import time"
   ]
  },
  {
   "cell_type": "code",
   "execution_count": null,
   "metadata": {
    "id": "tMMw5lBcDPqn"
   },
   "outputs": [],
   "source": [
    "checkpoint_dir = './training_summ_checkpoints'\n",
    "checkpoint_prefix = os.path.join(checkpoint_dir, \"ckpt\")\n",
    "checkpoint = tf.train.Checkpoint(optimizer=optimizer,\n",
    "                                 encoder=encoder,\n",
    "                                 decoder=decoder)"
   ]
  },
  {
   "cell_type": "code",
   "execution_count": null,
   "metadata": {
    "id": "WKO8GJ-SDPqn",
    "scrolled": true
   },
   "outputs": [],
   "source": [
    "EPOCHS = 100\n",
    "\n",
    "for epoch in range(EPOCHS):\n",
    "    start = time.time()\n",
    "\n",
    "    enc_hidden = encoder.initialize_hidden_state()\n",
    "    total_loss = 0\n",
    "\n",
    "    for (batch, (inp, targ)) in enumerate(dataset.take(steps_per_epoch)):\n",
    "        batch_loss = train_step(inp, targ, enc_hidden)\n",
    "        total_loss += batch_loss\n",
    "\n",
    "        if batch % 10 == 0:\n",
    "            print('Epoch {} Batch {} Loss {:.4f}'.format(epoch + 1,\n",
    "                                                     batch,\n",
    "                                                     batch_loss.numpy()))\n",
    "    # saving (checkpoint) the model every 2 epochs\n",
    "    if (epoch + 1) % 2 == 0:\n",
    "        checkpoint.save(file_prefix = checkpoint_prefix)\n",
    "\n",
    "    print('Epoch {} Loss {:.4f}'.format(epoch + 1,\n",
    "                                      total_loss / steps_per_epoch))\n",
    "    print('Time taken for 1 epoch {} sec\\n'.format(time.time() - start))"
   ]
  },
  {
   "cell_type": "code",
   "execution_count": null,
   "metadata": {
    "id": "1KV_GkgqDPqo"
   },
   "outputs": [],
   "source": [
    "tok_sum.word_index"
   ]
  },
  {
   "cell_type": "code",
   "execution_count": null,
   "metadata": {
    "id": "50we9_n1DPqo"
   },
   "outputs": [],
   "source": []
  },
  {
   "cell_type": "code",
   "execution_count": null,
   "metadata": {
    "id": "B0PbHG3uDPqo"
   },
   "outputs": [],
   "source": [
    "def evaluate(sentence):\n",
    "    inputs = [tok_text.word_index[i] for i in sentence.split(' ') if i !='']\n",
    "    inputs = tf.keras.preprocessing.sequence.pad_sequences([inputs],\n",
    "                                                           maxlen=max_len_text,\n",
    "                                                           padding='post')\n",
    "    inputs = tf.convert_to_tensor(inputs)\n",
    "\n",
    "    result = ''\n",
    "\n",
    "    hidden = [tf.zeros((1, latent_dim))]\n",
    "    enc_out, enc_hidden = encoder(inputs, hidden)\n",
    "\n",
    "    dec_hidden = enc_hidden\n",
    "    dec_input = tf.expand_dims([tok_sum.word_index['bos']], 0)\n",
    "\n",
    "    for t in range(max_len_sum):\n",
    "        predictions, dec_hidden = decoder(dec_input,\n",
    "                                                             dec_hidden,\n",
    "                                                             enc_out)\n",
    "\n",
    "\n",
    "\n",
    "        predicted_id = tf.argmax(predictions[0]).numpy()\n",
    "\n",
    "        result += tok_sum.index_word[predicted_id] + ' '\n",
    "\n",
    "        if tok_sum.index_word[predicted_id] == 'eos':\n",
    "            return result, sentence\n",
    "\n",
    "        # the predicted ID is fed back into the model\n",
    "        dec_input = tf.expand_dims([predicted_id], 0)\n",
    "\n",
    "    return result, sentence"
   ]
  },
  {
   "cell_type": "code",
   "execution_count": null,
   "metadata": {
    "id": "Zq9v8j6RDPqo"
   },
   "outputs": [],
   "source": [
    "def summ(sentence):\n",
    "    result, sentence = evaluate(sentence)\n",
    "\n",
    "    return result"
   ]
  },
  {
   "cell_type": "code",
   "execution_count": null,
   "metadata": {
    "id": "FEAvu1IPDPqo",
    "outputId": "51f30ea9-3ca1-4728-9be9-7006e9e6f0ba"
   },
   "outputs": [
    {
     "name": "stdout",
     "output_type": "stream",
     "text": [
      "Original summary: народная артистка рсфср надежда в интервью откровенно рассказала о своей жизни в частности певица объяснила почему ее гражданский муж переживает по поводу об их отношениях а также не смогла сдержать слез говоря о смерти младшего брата \n",
      "Predicted summary:  супруга своего окружения и телеведущая ксения собчак извинилась перед комиссией действующий адвокат журналиста в киеве по его словам актрисы агаты муцениеце мариам халилова заявила что предпосылки к поклонникам в киеве по его словам актрисы агаты муцениеце мариам халилова заявила что предпосылки к поклонникам в киеве по его словам актрисы агаты муцениеце мариам халилова заявила что предпосылки к поклонникам в киеве по его словам актрисы агаты муцениеце мариам халилова заявила что \n",
      "\n",
      "\n",
      "Original summary: украина не должна выплачивать пенсии жителям днр и лнр поскольку они могут поддерживать россию заявила депутат верховной рады от партии «слуга народа» елизавета она выступила против закона о праве на получение пособий от государства для жителей донбасса по ее словам это плевок в сторону тех кто уехал на украину и ничего не получил \n",
      "Predicted summary:  в киеве 6 млрд а также nasa eos \n",
      "\n",
      "\n",
      "Original summary: датского журналиста активность россии в арктике как и новый патрульный корабль ледового класса «иван он был спущен на воду в конце октября и обратил на себя внимание представителей сми тем что может быть вооружен как пушками так и ракетами стрелять по другим кораблям \n",
      "Predicted summary:  доверие пользователей» к переосмыслению голливудом вопроса обнаженных съемок в gm и утверждалась стратегия поведения российской армии на которой можно определить нехитрой формулой «перемены без перемен» цб eos \n",
      "\n",
      "\n"
     ]
    }
   ],
   "source": [
    "for i in range(3, 6):\n",
    "    text2 = seq2text(padded_x_test[i])\n",
    "    #print(\"Review:\",seq2text(padded_x_test[i]))\n",
    "    print(\"Original summary:\", seq2summary(padded_x_test_sum[i]))\n",
    "    print(\"Predicted summary: \", summ(text2.strip()))\n",
    "    print(\"\\n\")"
   ]
  },
  {
   "cell_type": "code",
   "execution_count": null,
   "metadata": {
    "id": "3lsYsOy7DPqp"
   },
   "outputs": [],
   "source": []
  },
  {
   "cell_type": "code",
   "execution_count": null,
   "metadata": {
    "id": "fSfokVTcvntC"
   },
   "outputs": [],
   "source": []
  },
  {
   "cell_type": "markdown",
   "metadata": {
    "id": "A8-1jbUTPDDf"
   },
   "source": [
    "## mBART huggingface\n",
    "* BART paper: https://arxiv.org/abs/1910.13461\n",
    "* mBART paper: https://arxiv.org/abs/2001.08210\n",
    "* Model: https://huggingface.co/IlyaGusev/mbart_ru_sum_gazeta"
   ]
  },
  {
   "cell_type": "code",
   "execution_count": null,
   "metadata": {
    "id": "chSf-XX1Pufi"
   },
   "outputs": [],
   "source": [
    "!pip install transformers"
   ]
  },
  {
   "cell_type": "code",
   "execution_count": null,
   "metadata": {
    "id": "A_GuOP-JPDiM"
   },
   "outputs": [],
   "source": [
    "import json\n",
    "import torch\n",
    "from tqdm.notebook import tqdm\n",
    "from transformers import MBartTokenizer, MBartForConditionalGeneration\n",
    "\n",
    "\n",
    "def gen_batch(inputs, batch_size):\n",
    "    batch_start = 0\n",
    "    while batch_start < len(inputs):\n",
    "        yield inputs[batch_start: batch_start + batch_size]\n",
    "        batch_start += batch_size\n",
    "\n",
    "\n",
    "def predict(\n",
    "    model_name,\n",
    "    test_file,\n",
    "    predictions_file,\n",
    "    targets_file,\n",
    "    max_source_tokens_count=600,\n",
    "    max_target_tokens_count=160,\n",
    "    use_cuda=True,\n",
    "    batch_size=4\n",
    "):\n",
    "    inputs = []\n",
    "    targets = []\n",
    "    with open(test_file, \"r\") as r:\n",
    "        for line in r:\n",
    "            record = json.loads(line)\n",
    "            inputs.append(record[\"text\"])\n",
    "            targets.append(record[\"summary\"].replace(\"\\n\", \" \"))\n",
    "\n",
    "    tokenizer = MBartTokenizer.from_pretrained(model_name)\n",
    "    device = torch.device(\"cuda:0\") if use_cuda else torch.device(\"cpu\")\n",
    "    model = MBartForConditionalGeneration.from_pretrained(model_name).to(device)\n",
    "    predictions = []\n",
    "    for batch in tqdm(gen_batch(inputs, batch_size)):\n",
    "        input_ids = tokenizer.prepare_seq2seq_batch(\n",
    "            batch,\n",
    "            src_lang=\"en_XX\",\n",
    "            return_tensors=\"pt\",\n",
    "            padding=\"max_length\",\n",
    "            truncation=True,\n",
    "            max_length=max_source_tokens_count\n",
    "        )[\"input_ids\"].to(device)\n",
    "        output_ids = model.generate(\n",
    "            input_ids=input_ids,\n",
    "            max_length=max_target_tokens_count + 2,\n",
    "            no_repeat_ngram_size=3,\n",
    "            num_beams=5,\n",
    "            top_k=0\n",
    "        )\n",
    "        summaries = tokenizer.batch_decode(output_ids, skip_special_tokens=True, clean_up_tokenization_spaces=False)\n",
    "        predictions.extend(summaries)\n",
    "    with open(predictions_file, \"w\") as w:\n",
    "        for p in predictions:\n",
    "            w.write(p.strip() + \"\\n\")\n",
    "    with open(targets_file, \"w\") as w:\n",
    "        for t in targets:\n",
    "            w.write(t.strip() + \"\\n\")\n",
    "\n",
    "predict(\"IlyaGusev/mbart_ru_sum_gazeta\", \"gazeta_test.txt\", \"predictions.txt\", \"targets.txt\")"
   ]
  },
  {
   "cell_type": "code",
   "execution_count": null,
   "metadata": {
    "colab": {
     "base_uri": "https://localhost:8080/"
    },
    "id": "MOR-5PKNPIdo",
    "outputId": "4864227a-3165-4208-f01d-12f9e61b5dc1"
   },
   "outputs": [
    {
     "name": "stdout",
     "output_type": "stream",
     "text": [
      "gazeta_test.txt  gazeta_train.txt  gazeta_val.txt  sample_data\n"
     ]
    }
   ],
   "source": [
    "!ls"
   ]
  },
  {
   "cell_type": "code",
   "execution_count": null,
   "metadata": {
    "id": "mRaj6fpAP-UC"
   },
   "outputs": [],
   "source": []
  }
 ],
 "metadata": {
  "accelerator": "GPU",
  "colab": {
   "collapsed_sections": [],
   "name": "summarization_gazeta.ipynb",
   "provenance": []
  },
  "kernelspec": {
   "display_name": "Python 3 (ipykernel)",
   "language": "python",
   "name": "python3"
  },
  "language_info": {
   "codemirror_mode": {
    "name": "ipython",
    "version": 3
   },
   "file_extension": ".py",
   "mimetype": "text/x-python",
   "name": "python",
   "nbconvert_exporter": "python",
   "pygments_lexer": "ipython3",
   "version": "3.11.3"
  },
  "widgets": {
   "application/vnd.jupyter.widget-state+json": {
    "01bd5489043448c69f584efeb038fe4e": {
     "model_module": "@jupyter-widgets/controls",
     "model_module_version": "1.5.0",
     "model_name": "FloatProgressModel",
     "state": {
      "_dom_classes": [],
      "_model_module": "@jupyter-widgets/controls",
      "_model_module_version": "1.5.0",
      "_model_name": "FloatProgressModel",
      "_view_count": null,
      "_view_module": "@jupyter-widgets/controls",
      "_view_module_version": "1.5.0",
      "_view_name": "ProgressView",
      "bar_style": "success",
      "description": "",
      "description_tooltip": null,
      "layout": "IPY_MODEL_0aff81abe7da4fbf80d334d3b3abfa9f",
      "max": 52142626,
      "min": 0,
      "orientation": "horizontal",
      "style": "IPY_MODEL_d3d4025630114f90baa42b3f5a2af410",
      "value": 52142626
     }
    },
    "02a46860c0c34c1aa29ae74a0e6f67b4": {
     "model_module": "@jupyter-widgets/controls",
     "model_module_version": "1.5.0",
     "model_name": "HTMLModel",
     "state": {
      "_dom_classes": [],
      "_model_module": "@jupyter-widgets/controls",
      "_model_module_version": "1.5.0",
      "_model_name": "HTMLModel",
      "_view_count": null,
      "_view_module": "@jupyter-widgets/controls",
      "_view_module_version": "1.5.0",
      "_view_name": "HTMLView",
      "description": "",
      "description_tooltip": null,
      "layout": "IPY_MODEL_72dcee5627ab4daa95edd542d996f6e3",
      "placeholder": "​",
      "style": "IPY_MODEL_7b68f03a590e4339a1eeb01979c7f62e",
      "value": "100%"
     }
    },
    "04514c2ea22f497c8bf7490f70f62e1b": {
     "model_module": "@jupyter-widgets/controls",
     "model_module_version": "1.5.0",
     "model_name": "HTMLModel",
     "state": {
      "_dom_classes": [],
      "_model_module": "@jupyter-widgets/controls",
      "_model_module_version": "1.5.0",
      "_model_name": "HTMLModel",
      "_view_count": null,
      "_view_module": "@jupyter-widgets/controls",
      "_view_module_version": "1.5.0",
      "_view_name": "HTMLView",
      "description": "",
      "description_tooltip": null,
      "layout": "IPY_MODEL_e9689a65aca7420cbf952c6b1a05d22d",
      "placeholder": "​",
      "style": "IPY_MODEL_2633b1aea102451d9bddcb4d6bb7b0b6",
      "value": " 3/3 [00:19&lt;00:00,  5.16s/it]"
     }
    },
    "061882c62efa4307b5b7818a86128fe9": {
     "model_module": "@jupyter-widgets/controls",
     "model_module_version": "1.5.0",
     "model_name": "HTMLModel",
     "state": {
      "_dom_classes": [],
      "_model_module": "@jupyter-widgets/controls",
      "_model_module_version": "1.5.0",
      "_model_name": "HTMLModel",
      "_view_count": null,
      "_view_module": "@jupyter-widgets/controls",
      "_view_module_version": "1.5.0",
      "_view_name": "HTMLView",
      "description": "",
      "description_tooltip": null,
      "layout": "IPY_MODEL_146b9764ce5c43efaef12e6a5495c50e",
      "placeholder": "​",
      "style": "IPY_MODEL_b25dcd717dd8430391db91a7a1d40767",
      "value": "Downloading: 100%"
     }
    },
    "0949df4acc5c47f0ac9d90c4a06d9927": {
     "model_module": "@jupyter-widgets/controls",
     "model_module_version": "1.5.0",
     "model_name": "HBoxModel",
     "state": {
      "_dom_classes": [],
      "_model_module": "@jupyter-widgets/controls",
      "_model_module_version": "1.5.0",
      "_model_name": "HBoxModel",
      "_view_count": null,
      "_view_module": "@jupyter-widgets/controls",
      "_view_module_version": "1.5.0",
      "_view_name": "HBoxView",
      "box_style": "",
      "children": [
       "IPY_MODEL_ba66d08c3620469ab40f4e0716c66139",
       "IPY_MODEL_01bd5489043448c69f584efeb038fe4e",
       "IPY_MODEL_72367797143d40f4b49242d0debad78c"
      ],
      "layout": "IPY_MODEL_c4fac858744a4a35940cd775927c7bc2"
     }
    },
    "0986d41762194b8195821cead8105bbc": {
     "model_module": "@jupyter-widgets/controls",
     "model_module_version": "1.5.0",
     "model_name": "HTMLModel",
     "state": {
      "_dom_classes": [],
      "_model_module": "@jupyter-widgets/controls",
      "_model_module_version": "1.5.0",
      "_model_name": "HTMLModel",
      "_view_count": null,
      "_view_module": "@jupyter-widgets/controls",
      "_view_module_version": "1.5.0",
      "_view_name": "HTMLView",
      "description": "",
      "description_tooltip": null,
      "layout": "IPY_MODEL_faf3c98df82449d5b7d466030c64b397",
      "placeholder": "​",
      "style": "IPY_MODEL_29496bab0482488599006bbbeaa8dad4",
      "value": " 3.87k/3.87k [00:00&lt;00:00, 87.8kB/s]"
     }
    },
    "0a19d2d0891848fbbccd1ce22ecadb97": {
     "model_module": "@jupyter-widgets/controls",
     "model_module_version": "1.5.0",
     "model_name": "HBoxModel",
     "state": {
      "_dom_classes": [],
      "_model_module": "@jupyter-widgets/controls",
      "_model_module_version": "1.5.0",
      "_model_name": "HBoxModel",
      "_view_count": null,
      "_view_module": "@jupyter-widgets/controls",
      "_view_module_version": "1.5.0",
      "_view_name": "HBoxView",
      "box_style": "",
      "children": [
       "IPY_MODEL_f7aaf3ee7ed945eaa8576ca70f57b642",
       "IPY_MODEL_e570e2f635ed4b419b632aa8f2de6968",
       "IPY_MODEL_9b1760c6d7a44a88a6711157ef713da9"
      ],
      "layout": "IPY_MODEL_bc91c8d929b24c8d9eadf2f7cf6e5cda"
     }
    },
    "0a50e8f1dee84575982ca788affbeeaa": {
     "model_module": "@jupyter-widgets/controls",
     "model_module_version": "1.5.0",
     "model_name": "ProgressStyleModel",
     "state": {
      "_model_module": "@jupyter-widgets/controls",
      "_model_module_version": "1.5.0",
      "_model_name": "ProgressStyleModel",
      "_view_count": null,
      "_view_module": "@jupyter-widgets/base",
      "_view_module_version": "1.2.0",
      "_view_name": "StyleView",
      "bar_color": null,
      "description_width": ""
     }
    },
    "0aff81abe7da4fbf80d334d3b3abfa9f": {
     "model_module": "@jupyter-widgets/base",
     "model_module_version": "1.2.0",
     "model_name": "LayoutModel",
     "state": {
      "_model_module": "@jupyter-widgets/base",
      "_model_module_version": "1.2.0",
      "_model_name": "LayoutModel",
      "_view_count": null,
      "_view_module": "@jupyter-widgets/base",
      "_view_module_version": "1.2.0",
      "_view_name": "LayoutView",
      "align_content": null,
      "align_items": null,
      "align_self": null,
      "border": null,
      "bottom": null,
      "display": null,
      "flex": null,
      "flex_flow": null,
      "grid_area": null,
      "grid_auto_columns": null,
      "grid_auto_flow": null,
      "grid_auto_rows": null,
      "grid_column": null,
      "grid_gap": null,
      "grid_row": null,
      "grid_template_areas": null,
      "grid_template_columns": null,
      "grid_template_rows": null,
      "height": null,
      "justify_content": null,
      "justify_items": null,
      "left": null,
      "margin": null,
      "max_height": null,
      "max_width": null,
      "min_height": null,
      "min_width": null,
      "object_fit": null,
      "object_position": null,
      "order": null,
      "overflow": null,
      "overflow_x": null,
      "overflow_y": null,
      "padding": null,
      "right": null,
      "top": null,
      "visibility": null,
      "width": null
     }
    },
    "0c751f9de9924f1791cb5d5d6758652d": {
     "model_module": "@jupyter-widgets/base",
     "model_module_version": "1.2.0",
     "model_name": "LayoutModel",
     "state": {
      "_model_module": "@jupyter-widgets/base",
      "_model_module_version": "1.2.0",
      "_model_name": "LayoutModel",
      "_view_count": null,
      "_view_module": "@jupyter-widgets/base",
      "_view_module_version": "1.2.0",
      "_view_name": "LayoutView",
      "align_content": null,
      "align_items": null,
      "align_self": null,
      "border": null,
      "bottom": null,
      "display": null,
      "flex": null,
      "flex_flow": null,
      "grid_area": null,
      "grid_auto_columns": null,
      "grid_auto_flow": null,
      "grid_auto_rows": null,
      "grid_column": null,
      "grid_gap": null,
      "grid_row": null,
      "grid_template_areas": null,
      "grid_template_columns": null,
      "grid_template_rows": null,
      "height": null,
      "justify_content": null,
      "justify_items": null,
      "left": null,
      "margin": null,
      "max_height": null,
      "max_width": null,
      "min_height": null,
      "min_width": null,
      "object_fit": null,
      "object_position": null,
      "order": null,
      "overflow": null,
      "overflow_x": null,
      "overflow_y": null,
      "padding": null,
      "right": null,
      "top": null,
      "visibility": null,
      "width": null
     }
    },
    "0c85eb11a1e54ed688fb75e8f4648dee": {
     "model_module": "@jupyter-widgets/base",
     "model_module_version": "1.2.0",
     "model_name": "LayoutModel",
     "state": {
      "_model_module": "@jupyter-widgets/base",
      "_model_module_version": "1.2.0",
      "_model_name": "LayoutModel",
      "_view_count": null,
      "_view_module": "@jupyter-widgets/base",
      "_view_module_version": "1.2.0",
      "_view_name": "LayoutView",
      "align_content": null,
      "align_items": null,
      "align_self": null,
      "border": null,
      "bottom": null,
      "display": null,
      "flex": null,
      "flex_flow": null,
      "grid_area": null,
      "grid_auto_columns": null,
      "grid_auto_flow": null,
      "grid_auto_rows": null,
      "grid_column": null,
      "grid_gap": null,
      "grid_row": null,
      "grid_template_areas": null,
      "grid_template_columns": null,
      "grid_template_rows": null,
      "height": null,
      "justify_content": null,
      "justify_items": null,
      "left": null,
      "margin": null,
      "max_height": null,
      "max_width": null,
      "min_height": null,
      "min_width": null,
      "object_fit": null,
      "object_position": null,
      "order": null,
      "overflow": null,
      "overflow_x": null,
      "overflow_y": null,
      "padding": null,
      "right": null,
      "top": null,
      "visibility": null,
      "width": null
     }
    },
    "0cecab585bcd41ddb254f7edef1b82d5": {
     "model_module": "@jupyter-widgets/base",
     "model_module_version": "1.2.0",
     "model_name": "LayoutModel",
     "state": {
      "_model_module": "@jupyter-widgets/base",
      "_model_module_version": "1.2.0",
      "_model_name": "LayoutModel",
      "_view_count": null,
      "_view_module": "@jupyter-widgets/base",
      "_view_module_version": "1.2.0",
      "_view_name": "LayoutView",
      "align_content": null,
      "align_items": null,
      "align_self": null,
      "border": null,
      "bottom": null,
      "display": null,
      "flex": null,
      "flex_flow": null,
      "grid_area": null,
      "grid_auto_columns": null,
      "grid_auto_flow": null,
      "grid_auto_rows": null,
      "grid_column": null,
      "grid_gap": null,
      "grid_row": null,
      "grid_template_areas": null,
      "grid_template_columns": null,
      "grid_template_rows": null,
      "height": null,
      "justify_content": null,
      "justify_items": null,
      "left": null,
      "margin": null,
      "max_height": null,
      "max_width": null,
      "min_height": null,
      "min_width": null,
      "object_fit": null,
      "object_position": null,
      "order": null,
      "overflow": null,
      "overflow_x": null,
      "overflow_y": null,
      "padding": null,
      "right": null,
      "top": null,
      "visibility": null,
      "width": null
     }
    },
    "0e4b7aa6e2de4418b7311ca43e13b9d5": {
     "model_module": "@jupyter-widgets/base",
     "model_module_version": "1.2.0",
     "model_name": "LayoutModel",
     "state": {
      "_model_module": "@jupyter-widgets/base",
      "_model_module_version": "1.2.0",
      "_model_name": "LayoutModel",
      "_view_count": null,
      "_view_module": "@jupyter-widgets/base",
      "_view_module_version": "1.2.0",
      "_view_name": "LayoutView",
      "align_content": null,
      "align_items": null,
      "align_self": null,
      "border": null,
      "bottom": null,
      "display": null,
      "flex": null,
      "flex_flow": null,
      "grid_area": null,
      "grid_auto_columns": null,
      "grid_auto_flow": null,
      "grid_auto_rows": null,
      "grid_column": null,
      "grid_gap": null,
      "grid_row": null,
      "grid_template_areas": null,
      "grid_template_columns": null,
      "grid_template_rows": null,
      "height": null,
      "justify_content": null,
      "justify_items": null,
      "left": null,
      "margin": null,
      "max_height": null,
      "max_width": null,
      "min_height": null,
      "min_width": null,
      "object_fit": null,
      "object_position": null,
      "order": null,
      "overflow": null,
      "overflow_x": null,
      "overflow_y": null,
      "padding": null,
      "right": null,
      "top": null,
      "visibility": null,
      "width": null
     }
    },
    "0eb101f4bce34abaaa110d78bdfdcba3": {
     "model_module": "@jupyter-widgets/controls",
     "model_module_version": "1.5.0",
     "model_name": "FloatProgressModel",
     "state": {
      "_dom_classes": [],
      "_model_module": "@jupyter-widgets/controls",
      "_model_module_version": "1.5.0",
      "_model_name": "FloatProgressModel",
      "_view_count": null,
      "_view_module": "@jupyter-widgets/controls",
      "_view_module_version": "1.5.0",
      "_view_name": "ProgressView",
      "bar_style": "danger",
      "description": "",
      "description_tooltip": null,
      "layout": "IPY_MODEL_4d465cec6b54451ea4705d547ab8bc2e",
      "max": 1,
      "min": 0,
      "orientation": "horizontal",
      "style": "IPY_MODEL_b80ab530a06c49e9a277e6c22d6e3f01",
      "value": 1
     }
    },
    "0fcc19310cd048feb1d3702059eac11e": {
     "model_module": "@jupyter-widgets/controls",
     "model_module_version": "1.5.0",
     "model_name": "ProgressStyleModel",
     "state": {
      "_model_module": "@jupyter-widgets/controls",
      "_model_module_version": "1.5.0",
      "_model_name": "ProgressStyleModel",
      "_view_count": null,
      "_view_module": "@jupyter-widgets/base",
      "_view_module_version": "1.2.0",
      "_view_name": "StyleView",
      "bar_color": null,
      "description_width": ""
     }
    },
    "12d4a0ce0a3544b189b3d3a1e3a7eaca": {
     "model_module": "@jupyter-widgets/controls",
     "model_module_version": "1.5.0",
     "model_name": "HTMLModel",
     "state": {
      "_dom_classes": [],
      "_model_module": "@jupyter-widgets/controls",
      "_model_module_version": "1.5.0",
      "_model_name": "HTMLModel",
      "_view_count": null,
      "_view_module": "@jupyter-widgets/controls",
      "_view_module_version": "1.5.0",
      "_view_name": "HTMLView",
      "description": "",
      "description_tooltip": null,
      "layout": "IPY_MODEL_816cbc1eb63745039a0d5c6e91f74ff5",
      "placeholder": "​",
      "style": "IPY_MODEL_f6a41cdb62e947cd99a276485b385e9e",
      "value": " 2.98k/2.98k [00:00&lt;00:00, 66.6kB/s]"
     }
    },
    "14172cc75c3e4b37b32bb44aad8bb039": {
     "model_module": "@jupyter-widgets/base",
     "model_module_version": "1.2.0",
     "model_name": "LayoutModel",
     "state": {
      "_model_module": "@jupyter-widgets/base",
      "_model_module_version": "1.2.0",
      "_model_name": "LayoutModel",
      "_view_count": null,
      "_view_module": "@jupyter-widgets/base",
      "_view_module_version": "1.2.0",
      "_view_name": "LayoutView",
      "align_content": null,
      "align_items": null,
      "align_self": null,
      "border": null,
      "bottom": null,
      "display": null,
      "flex": null,
      "flex_flow": null,
      "grid_area": null,
      "grid_auto_columns": null,
      "grid_auto_flow": null,
      "grid_auto_rows": null,
      "grid_column": null,
      "grid_gap": null,
      "grid_row": null,
      "grid_template_areas": null,
      "grid_template_columns": null,
      "grid_template_rows": null,
      "height": null,
      "justify_content": null,
      "justify_items": null,
      "left": null,
      "margin": null,
      "max_height": null,
      "max_width": null,
      "min_height": null,
      "min_width": null,
      "object_fit": null,
      "object_position": null,
      "order": null,
      "overflow": null,
      "overflow_x": null,
      "overflow_y": null,
      "padding": null,
      "right": null,
      "top": null,
      "visibility": null,
      "width": "20px"
     }
    },
    "146b9764ce5c43efaef12e6a5495c50e": {
     "model_module": "@jupyter-widgets/base",
     "model_module_version": "1.2.0",
     "model_name": "LayoutModel",
     "state": {
      "_model_module": "@jupyter-widgets/base",
      "_model_module_version": "1.2.0",
      "_model_name": "LayoutModel",
      "_view_count": null,
      "_view_module": "@jupyter-widgets/base",
      "_view_module_version": "1.2.0",
      "_view_name": "LayoutView",
      "align_content": null,
      "align_items": null,
      "align_self": null,
      "border": null,
      "bottom": null,
      "display": null,
      "flex": null,
      "flex_flow": null,
      "grid_area": null,
      "grid_auto_columns": null,
      "grid_auto_flow": null,
      "grid_auto_rows": null,
      "grid_column": null,
      "grid_gap": null,
      "grid_row": null,
      "grid_template_areas": null,
      "grid_template_columns": null,
      "grid_template_rows": null,
      "height": null,
      "justify_content": null,
      "justify_items": null,
      "left": null,
      "margin": null,
      "max_height": null,
      "max_width": null,
      "min_height": null,
      "min_width": null,
      "object_fit": null,
      "object_position": null,
      "order": null,
      "overflow": null,
      "overflow_x": null,
      "overflow_y": null,
      "padding": null,
      "right": null,
      "top": null,
      "visibility": null,
      "width": null
     }
    },
    "15221fec3d114af78ad9095b45a6e867": {
     "model_module": "@jupyter-widgets/base",
     "model_module_version": "1.2.0",
     "model_name": "LayoutModel",
     "state": {
      "_model_module": "@jupyter-widgets/base",
      "_model_module_version": "1.2.0",
      "_model_name": "LayoutModel",
      "_view_count": null,
      "_view_module": "@jupyter-widgets/base",
      "_view_module_version": "1.2.0",
      "_view_name": "LayoutView",
      "align_content": null,
      "align_items": null,
      "align_self": null,
      "border": null,
      "bottom": null,
      "display": null,
      "flex": null,
      "flex_flow": null,
      "grid_area": null,
      "grid_auto_columns": null,
      "grid_auto_flow": null,
      "grid_auto_rows": null,
      "grid_column": null,
      "grid_gap": null,
      "grid_row": null,
      "grid_template_areas": null,
      "grid_template_columns": null,
      "grid_template_rows": null,
      "height": null,
      "justify_content": null,
      "justify_items": null,
      "left": null,
      "margin": null,
      "max_height": null,
      "max_width": null,
      "min_height": null,
      "min_width": null,
      "object_fit": null,
      "object_position": null,
      "order": null,
      "overflow": null,
      "overflow_x": null,
      "overflow_y": null,
      "padding": null,
      "right": null,
      "top": null,
      "visibility": null,
      "width": null
     }
    },
    "1c1755f7796941138f3cc7233217a33d": {
     "model_module": "@jupyter-widgets/controls",
     "model_module_version": "1.5.0",
     "model_name": "FloatProgressModel",
     "state": {
      "_dom_classes": [],
      "_model_module": "@jupyter-widgets/controls",
      "_model_module_version": "1.5.0",
      "_model_name": "FloatProgressModel",
      "_view_count": null,
      "_view_module": "@jupyter-widgets/controls",
      "_view_module_version": "1.5.0",
      "_view_name": "ProgressView",
      "bar_style": "danger",
      "description": "",
      "description_tooltip": null,
      "layout": "IPY_MODEL_dff9fa4709d0494b90d187cb0613bc39",
      "max": 1,
      "min": 0,
      "orientation": "horizontal",
      "style": "IPY_MODEL_f9edd6ab9c184982b607758c3a39bb6b",
      "value": 1
     }
    },
    "1d51659bf3a64371ab63bbaca9c3f59e": {
     "model_module": "@jupyter-widgets/controls",
     "model_module_version": "1.5.0",
     "model_name": "DescriptionStyleModel",
     "state": {
      "_model_module": "@jupyter-widgets/controls",
      "_model_module_version": "1.5.0",
      "_model_name": "DescriptionStyleModel",
      "_view_count": null,
      "_view_module": "@jupyter-widgets/base",
      "_view_module_version": "1.2.0",
      "_view_name": "StyleView",
      "description_width": ""
     }
    },
    "1dac54fa8d2549b38a622e746eb61aa3": {
     "model_module": "@jupyter-widgets/controls",
     "model_module_version": "1.5.0",
     "model_name": "FloatProgressModel",
     "state": {
      "_dom_classes": [],
      "_model_module": "@jupyter-widgets/controls",
      "_model_module_version": "1.5.0",
      "_model_name": "FloatProgressModel",
      "_view_count": null,
      "_view_module": "@jupyter-widgets/controls",
      "_view_module_version": "1.5.0",
      "_view_name": "ProgressView",
      "bar_style": "info",
      "description": "",
      "description_tooltip": null,
      "layout": "IPY_MODEL_ff8b20f9e02546e29480012001978075",
      "max": 1,
      "min": 0,
      "orientation": "horizontal",
      "style": "IPY_MODEL_3a7eca34c89c4d239ac919cd6da759fa",
      "value": 1
     }
    },
    "24dd39e63d854f1d97f4942491c0001f": {
     "model_module": "@jupyter-widgets/base",
     "model_module_version": "1.2.0",
     "model_name": "LayoutModel",
     "state": {
      "_model_module": "@jupyter-widgets/base",
      "_model_module_version": "1.2.0",
      "_model_name": "LayoutModel",
      "_view_count": null,
      "_view_module": "@jupyter-widgets/base",
      "_view_module_version": "1.2.0",
      "_view_name": "LayoutView",
      "align_content": null,
      "align_items": null,
      "align_self": null,
      "border": null,
      "bottom": null,
      "display": null,
      "flex": null,
      "flex_flow": null,
      "grid_area": null,
      "grid_auto_columns": null,
      "grid_auto_flow": null,
      "grid_auto_rows": null,
      "grid_column": null,
      "grid_gap": null,
      "grid_row": null,
      "grid_template_areas": null,
      "grid_template_columns": null,
      "grid_template_rows": null,
      "height": null,
      "justify_content": null,
      "justify_items": null,
      "left": null,
      "margin": null,
      "max_height": null,
      "max_width": null,
      "min_height": null,
      "min_width": null,
      "object_fit": null,
      "object_position": null,
      "order": null,
      "overflow": null,
      "overflow_x": null,
      "overflow_y": null,
      "padding": null,
      "right": null,
      "top": null,
      "visibility": null,
      "width": null
     }
    },
    "24faf474ffb64f949bb9ff290652f67b": {
     "model_module": "@jupyter-widgets/base",
     "model_module_version": "1.2.0",
     "model_name": "LayoutModel",
     "state": {
      "_model_module": "@jupyter-widgets/base",
      "_model_module_version": "1.2.0",
      "_model_name": "LayoutModel",
      "_view_count": null,
      "_view_module": "@jupyter-widgets/base",
      "_view_module_version": "1.2.0",
      "_view_name": "LayoutView",
      "align_content": null,
      "align_items": null,
      "align_self": null,
      "border": null,
      "bottom": null,
      "display": null,
      "flex": null,
      "flex_flow": null,
      "grid_area": null,
      "grid_auto_columns": null,
      "grid_auto_flow": null,
      "grid_auto_rows": null,
      "grid_column": null,
      "grid_gap": null,
      "grid_row": null,
      "grid_template_areas": null,
      "grid_template_columns": null,
      "grid_template_rows": null,
      "height": null,
      "justify_content": null,
      "justify_items": null,
      "left": null,
      "margin": null,
      "max_height": null,
      "max_width": null,
      "min_height": null,
      "min_width": null,
      "object_fit": null,
      "object_position": null,
      "order": null,
      "overflow": null,
      "overflow_x": null,
      "overflow_y": null,
      "padding": null,
      "right": null,
      "top": null,
      "visibility": null,
      "width": null
     }
    },
    "2633b1aea102451d9bddcb4d6bb7b0b6": {
     "model_module": "@jupyter-widgets/controls",
     "model_module_version": "1.5.0",
     "model_name": "DescriptionStyleModel",
     "state": {
      "_model_module": "@jupyter-widgets/controls",
      "_model_module_version": "1.5.0",
      "_model_name": "DescriptionStyleModel",
      "_view_count": null,
      "_view_module": "@jupyter-widgets/base",
      "_view_module_version": "1.2.0",
      "_view_name": "StyleView",
      "description_width": ""
     }
    },
    "27134577ae6e4db08f6b214cd32c6e0a": {
     "model_module": "@jupyter-widgets/controls",
     "model_module_version": "1.5.0",
     "model_name": "HBoxModel",
     "state": {
      "_dom_classes": [],
      "_model_module": "@jupyter-widgets/controls",
      "_model_module_version": "1.5.0",
      "_model_name": "HBoxModel",
      "_view_count": null,
      "_view_module": "@jupyter-widgets/controls",
      "_view_module_version": "1.5.0",
      "_view_name": "HBoxView",
      "box_style": "",
      "children": [
       "IPY_MODEL_294532fa1920415a9ecec4c14ac660bd",
       "IPY_MODEL_1dac54fa8d2549b38a622e746eb61aa3",
       "IPY_MODEL_ed729cc894ff4992b60b2260d780df27"
      ],
      "layout": "IPY_MODEL_e595b524703743f29ac305dd1caa1281"
     }
    },
    "294532fa1920415a9ecec4c14ac660bd": {
     "model_module": "@jupyter-widgets/controls",
     "model_module_version": "1.5.0",
     "model_name": "HTMLModel",
     "state": {
      "_dom_classes": [],
      "_model_module": "@jupyter-widgets/controls",
      "_model_module_version": "1.5.0",
      "_model_name": "HTMLModel",
      "_view_count": null,
      "_view_module": "@jupyter-widgets/controls",
      "_view_module_version": "1.5.0",
      "_view_name": "HTMLView",
      "description": "",
      "description_tooltip": null,
      "layout": "IPY_MODEL_3235e7664c954d25b73e5e847e4ab6e2",
      "placeholder": "​",
      "style": "IPY_MODEL_e910d1a2543e48639150158f920b714e",
      "value": ""
     }
    },
    "29496bab0482488599006bbbeaa8dad4": {
     "model_module": "@jupyter-widgets/controls",
     "model_module_version": "1.5.0",
     "model_name": "DescriptionStyleModel",
     "state": {
      "_model_module": "@jupyter-widgets/controls",
      "_model_module_version": "1.5.0",
      "_model_name": "DescriptionStyleModel",
      "_view_count": null,
      "_view_module": "@jupyter-widgets/base",
      "_view_module_version": "1.2.0",
      "_view_name": "StyleView",
      "description_width": ""
     }
    },
    "29bcaa029ee44972b0fc706aefd8dadd": {
     "model_module": "@jupyter-widgets/controls",
     "model_module_version": "1.5.0",
     "model_name": "DescriptionStyleModel",
     "state": {
      "_model_module": "@jupyter-widgets/controls",
      "_model_module_version": "1.5.0",
      "_model_name": "DescriptionStyleModel",
      "_view_count": null,
      "_view_module": "@jupyter-widgets/base",
      "_view_module_version": "1.2.0",
      "_view_name": "StyleView",
      "description_width": ""
     }
    },
    "2b6ee3112b034d85b0f3a0b1cb657f13": {
     "model_module": "@jupyter-widgets/base",
     "model_module_version": "1.2.0",
     "model_name": "LayoutModel",
     "state": {
      "_model_module": "@jupyter-widgets/base",
      "_model_module_version": "1.2.0",
      "_model_name": "LayoutModel",
      "_view_count": null,
      "_view_module": "@jupyter-widgets/base",
      "_view_module_version": "1.2.0",
      "_view_name": "LayoutView",
      "align_content": null,
      "align_items": null,
      "align_self": null,
      "border": null,
      "bottom": null,
      "display": null,
      "flex": null,
      "flex_flow": null,
      "grid_area": null,
      "grid_auto_columns": null,
      "grid_auto_flow": null,
      "grid_auto_rows": null,
      "grid_column": null,
      "grid_gap": null,
      "grid_row": null,
      "grid_template_areas": null,
      "grid_template_columns": null,
      "grid_template_rows": null,
      "height": null,
      "justify_content": null,
      "justify_items": null,
      "left": null,
      "margin": null,
      "max_height": null,
      "max_width": null,
      "min_height": null,
      "min_width": null,
      "object_fit": null,
      "object_position": null,
      "order": null,
      "overflow": null,
      "overflow_x": null,
      "overflow_y": null,
      "padding": null,
      "right": null,
      "top": null,
      "visibility": null,
      "width": "20px"
     }
    },
    "2dd75e38fea64200a2ab4cca67af327c": {
     "model_module": "@jupyter-widgets/base",
     "model_module_version": "1.2.0",
     "model_name": "LayoutModel",
     "state": {
      "_model_module": "@jupyter-widgets/base",
      "_model_module_version": "1.2.0",
      "_model_name": "LayoutModel",
      "_view_count": null,
      "_view_module": "@jupyter-widgets/base",
      "_view_module_version": "1.2.0",
      "_view_name": "LayoutView",
      "align_content": null,
      "align_items": null,
      "align_self": null,
      "border": null,
      "bottom": null,
      "display": null,
      "flex": null,
      "flex_flow": null,
      "grid_area": null,
      "grid_auto_columns": null,
      "grid_auto_flow": null,
      "grid_auto_rows": null,
      "grid_column": null,
      "grid_gap": null,
      "grid_row": null,
      "grid_template_areas": null,
      "grid_template_columns": null,
      "grid_template_rows": null,
      "height": null,
      "justify_content": null,
      "justify_items": null,
      "left": null,
      "margin": null,
      "max_height": null,
      "max_width": null,
      "min_height": null,
      "min_width": null,
      "object_fit": null,
      "object_position": null,
      "order": null,
      "overflow": null,
      "overflow_x": null,
      "overflow_y": null,
      "padding": null,
      "right": null,
      "top": null,
      "visibility": null,
      "width": null
     }
    },
    "2ea46f5dd5244b26b331c340891d1d4d": {
     "model_module": "@jupyter-widgets/base",
     "model_module_version": "1.2.0",
     "model_name": "LayoutModel",
     "state": {
      "_model_module": "@jupyter-widgets/base",
      "_model_module_version": "1.2.0",
      "_model_name": "LayoutModel",
      "_view_count": null,
      "_view_module": "@jupyter-widgets/base",
      "_view_module_version": "1.2.0",
      "_view_name": "LayoutView",
      "align_content": null,
      "align_items": null,
      "align_self": null,
      "border": null,
      "bottom": null,
      "display": null,
      "flex": null,
      "flex_flow": null,
      "grid_area": null,
      "grid_auto_columns": null,
      "grid_auto_flow": null,
      "grid_auto_rows": null,
      "grid_column": null,
      "grid_gap": null,
      "grid_row": null,
      "grid_template_areas": null,
      "grid_template_columns": null,
      "grid_template_rows": null,
      "height": null,
      "justify_content": null,
      "justify_items": null,
      "left": null,
      "margin": null,
      "max_height": null,
      "max_width": null,
      "min_height": null,
      "min_width": null,
      "object_fit": null,
      "object_position": null,
      "order": null,
      "overflow": null,
      "overflow_x": null,
      "overflow_y": null,
      "padding": null,
      "right": null,
      "top": null,
      "visibility": null,
      "width": null
     }
    },
    "2ef3709043ff461da753a94aed5bc411": {
     "model_module": "@jupyter-widgets/controls",
     "model_module_version": "1.5.0",
     "model_name": "HBoxModel",
     "state": {
      "_dom_classes": [],
      "_model_module": "@jupyter-widgets/controls",
      "_model_module_version": "1.5.0",
      "_model_name": "HBoxModel",
      "_view_count": null,
      "_view_module": "@jupyter-widgets/controls",
      "_view_module_version": "1.5.0",
      "_view_name": "HBoxView",
      "box_style": "",
      "children": [
       "IPY_MODEL_02a46860c0c34c1aa29ae74a0e6f67b4",
       "IPY_MODEL_fca3a57560a946c09d07f09b01974c31",
       "IPY_MODEL_7a154f73a8524d18b4cf82af429e82c8"
      ],
      "layout": "IPY_MODEL_8b724c86093844778e7eafa1f2d1cccb"
     }
    },
    "2f6fbaaa65154ca6afb4239f998c0fc5": {
     "model_module": "@jupyter-widgets/controls",
     "model_module_version": "1.5.0",
     "model_name": "HBoxModel",
     "state": {
      "_dom_classes": [],
      "_model_module": "@jupyter-widgets/controls",
      "_model_module_version": "1.5.0",
      "_model_name": "HBoxModel",
      "_view_count": null,
      "_view_module": "@jupyter-widgets/controls",
      "_view_module_version": "1.5.0",
      "_view_name": "HBoxView",
      "box_style": "",
      "children": [
       "IPY_MODEL_1c1755f7796941138f3cc7233217a33d",
       "IPY_MODEL_510d520823ea4057b56e636cbb97db4d"
      ],
      "layout": "IPY_MODEL_ffb69d295e7b49d48df87e6d3bea8567"
     }
    },
    "3192f4dce2e642ebb25753b24df7401c": {
     "model_module": "@jupyter-widgets/controls",
     "model_module_version": "1.5.0",
     "model_name": "DescriptionStyleModel",
     "state": {
      "_model_module": "@jupyter-widgets/controls",
      "_model_module_version": "1.5.0",
      "_model_name": "DescriptionStyleModel",
      "_view_count": null,
      "_view_module": "@jupyter-widgets/base",
      "_view_module_version": "1.2.0",
      "_view_name": "StyleView",
      "description_width": ""
     }
    },
    "3235e7664c954d25b73e5e847e4ab6e2": {
     "model_module": "@jupyter-widgets/base",
     "model_module_version": "1.2.0",
     "model_name": "LayoutModel",
     "state": {
      "_model_module": "@jupyter-widgets/base",
      "_model_module_version": "1.2.0",
      "_model_name": "LayoutModel",
      "_view_count": null,
      "_view_module": "@jupyter-widgets/base",
      "_view_module_version": "1.2.0",
      "_view_name": "LayoutView",
      "align_content": null,
      "align_items": null,
      "align_self": null,
      "border": null,
      "bottom": null,
      "display": null,
      "flex": null,
      "flex_flow": null,
      "grid_area": null,
      "grid_auto_columns": null,
      "grid_auto_flow": null,
      "grid_auto_rows": null,
      "grid_column": null,
      "grid_gap": null,
      "grid_row": null,
      "grid_template_areas": null,
      "grid_template_columns": null,
      "grid_template_rows": null,
      "height": null,
      "justify_content": null,
      "justify_items": null,
      "left": null,
      "margin": null,
      "max_height": null,
      "max_width": null,
      "min_height": null,
      "min_width": null,
      "object_fit": null,
      "object_position": null,
      "order": null,
      "overflow": null,
      "overflow_x": null,
      "overflow_y": null,
      "padding": null,
      "right": null,
      "top": null,
      "visibility": null,
      "width": null
     }
    },
    "33fcd04c17f4459fb598ac61da715b07": {
     "model_module": "@jupyter-widgets/controls",
     "model_module_version": "1.5.0",
     "model_name": "HTMLModel",
     "state": {
      "_dom_classes": [],
      "_model_module": "@jupyter-widgets/controls",
      "_model_module_version": "1.5.0",
      "_model_name": "HTMLModel",
      "_view_count": null,
      "_view_module": "@jupyter-widgets/controls",
      "_view_module_version": "1.5.0",
      "_view_name": "HTMLView",
      "description": "",
      "description_tooltip": null,
      "layout": "IPY_MODEL_bf922be716334bafa4f311786b4da1f6",
      "placeholder": "​",
      "style": "IPY_MODEL_9f162990795c4d8d83bea00ddf3751d7",
      "value": " 3/3 [00:00&lt;00:00, 81.66it/s]"
     }
    },
    "35847a13383d4005935baee615575335": {
     "model_module": "@jupyter-widgets/controls",
     "model_module_version": "1.5.0",
     "model_name": "HTMLModel",
     "state": {
      "_dom_classes": [],
      "_model_module": "@jupyter-widgets/controls",
      "_model_module_version": "1.5.0",
      "_model_name": "HTMLModel",
      "_view_count": null,
      "_view_module": "@jupyter-widgets/controls",
      "_view_module_version": "1.5.0",
      "_view_name": "HTMLView",
      "description": "",
      "description_tooltip": null,
      "layout": "IPY_MODEL_737f5d07a6264095a09b18afbdcb4635",
      "placeholder": "​",
      "style": "IPY_MODEL_46060e05cd1442b384a20f2e1ddb9bb7",
      "value": " 1000/? [04:49&lt;00:00,  3.93it/s]"
     }
    },
    "360b7de64ad347e38a4c0ef1eb06561a": {
     "model_module": "@jupyter-widgets/base",
     "model_module_version": "1.2.0",
     "model_name": "LayoutModel",
     "state": {
      "_model_module": "@jupyter-widgets/base",
      "_model_module_version": "1.2.0",
      "_model_name": "LayoutModel",
      "_view_count": null,
      "_view_module": "@jupyter-widgets/base",
      "_view_module_version": "1.2.0",
      "_view_name": "LayoutView",
      "align_content": null,
      "align_items": null,
      "align_self": null,
      "border": null,
      "bottom": null,
      "display": null,
      "flex": null,
      "flex_flow": null,
      "grid_area": null,
      "grid_auto_columns": null,
      "grid_auto_flow": null,
      "grid_auto_rows": null,
      "grid_column": null,
      "grid_gap": null,
      "grid_row": null,
      "grid_template_areas": null,
      "grid_template_columns": null,
      "grid_template_rows": null,
      "height": null,
      "justify_content": null,
      "justify_items": null,
      "left": null,
      "margin": null,
      "max_height": null,
      "max_width": null,
      "min_height": null,
      "min_width": null,
      "object_fit": null,
      "object_position": null,
      "order": null,
      "overflow": null,
      "overflow_x": null,
      "overflow_y": null,
      "padding": null,
      "right": null,
      "top": null,
      "visibility": null,
      "width": null
     }
    },
    "3815f7b694eb41708bacca52ccea41bd": {
     "model_module": "@jupyter-widgets/controls",
     "model_module_version": "1.5.0",
     "model_name": "ProgressStyleModel",
     "state": {
      "_model_module": "@jupyter-widgets/controls",
      "_model_module_version": "1.5.0",
      "_model_name": "ProgressStyleModel",
      "_view_count": null,
      "_view_module": "@jupyter-widgets/base",
      "_view_module_version": "1.2.0",
      "_view_name": "StyleView",
      "bar_color": null,
      "description_width": "initial"
     }
    },
    "3a7eca34c89c4d239ac919cd6da759fa": {
     "model_module": "@jupyter-widgets/controls",
     "model_module_version": "1.5.0",
     "model_name": "ProgressStyleModel",
     "state": {
      "_model_module": "@jupyter-widgets/controls",
      "_model_module_version": "1.5.0",
      "_model_name": "ProgressStyleModel",
      "_view_count": null,
      "_view_module": "@jupyter-widgets/base",
      "_view_module_version": "1.2.0",
      "_view_name": "StyleView",
      "bar_color": null,
      "description_width": ""
     }
    },
    "3a96f869934c402389268a2e0efee036": {
     "model_module": "@jupyter-widgets/controls",
     "model_module_version": "1.5.0",
     "model_name": "DescriptionStyleModel",
     "state": {
      "_model_module": "@jupyter-widgets/controls",
      "_model_module_version": "1.5.0",
      "_model_name": "DescriptionStyleModel",
      "_view_count": null,
      "_view_module": "@jupyter-widgets/base",
      "_view_module_version": "1.2.0",
      "_view_name": "StyleView",
      "description_width": ""
     }
    },
    "40105106f38349efa791ee80b5d86ed4": {
     "model_module": "@jupyter-widgets/controls",
     "model_module_version": "1.5.0",
     "model_name": "HBoxModel",
     "state": {
      "_dom_classes": [],
      "_model_module": "@jupyter-widgets/controls",
      "_model_module_version": "1.5.0",
      "_model_name": "HBoxModel",
      "_view_count": null,
      "_view_module": "@jupyter-widgets/controls",
      "_view_module_version": "1.5.0",
      "_view_name": "HBoxView",
      "box_style": "",
      "children": [
       "IPY_MODEL_9f09e081ec924a5ca640a944f87d4e3a",
       "IPY_MODEL_76b790fc63db44789353df1ca7c6e796"
      ],
      "layout": "IPY_MODEL_66ea605e267a4ccaba7fe0fd87556a23"
     }
    },
    "413114a67751481489a3b54239c3db64": {
     "model_module": "@jupyter-widgets/base",
     "model_module_version": "1.2.0",
     "model_name": "LayoutModel",
     "state": {
      "_model_module": "@jupyter-widgets/base",
      "_model_module_version": "1.2.0",
      "_model_name": "LayoutModel",
      "_view_count": null,
      "_view_module": "@jupyter-widgets/base",
      "_view_module_version": "1.2.0",
      "_view_name": "LayoutView",
      "align_content": null,
      "align_items": null,
      "align_self": null,
      "border": null,
      "bottom": null,
      "display": null,
      "flex": null,
      "flex_flow": null,
      "grid_area": null,
      "grid_auto_columns": null,
      "grid_auto_flow": null,
      "grid_auto_rows": null,
      "grid_column": null,
      "grid_gap": null,
      "grid_row": null,
      "grid_template_areas": null,
      "grid_template_columns": null,
      "grid_template_rows": null,
      "height": null,
      "justify_content": null,
      "justify_items": null,
      "left": null,
      "margin": null,
      "max_height": null,
      "max_width": null,
      "min_height": null,
      "min_width": null,
      "object_fit": null,
      "object_position": null,
      "order": null,
      "overflow": null,
      "overflow_x": null,
      "overflow_y": null,
      "padding": null,
      "right": null,
      "top": null,
      "visibility": null,
      "width": null
     }
    },
    "41de20e25bcc43d9b8df6571be6d3c53": {
     "model_module": "@jupyter-widgets/controls",
     "model_module_version": "1.5.0",
     "model_name": "HBoxModel",
     "state": {
      "_dom_classes": [],
      "_model_module": "@jupyter-widgets/controls",
      "_model_module_version": "1.5.0",
      "_model_name": "HBoxModel",
      "_view_count": null,
      "_view_module": "@jupyter-widgets/controls",
      "_view_module_version": "1.5.0",
      "_view_name": "HBoxView",
      "box_style": "",
      "children": [
       "IPY_MODEL_b9b60b57ee744f38b553f0dbc3b5c7bb",
       "IPY_MODEL_7887368418704136ac1879d95d49d796",
       "IPY_MODEL_33fcd04c17f4459fb598ac61da715b07"
      ],
      "layout": "IPY_MODEL_ab446a91c8384db482dc2cae4587ebc1"
     }
    },
    "42684d32e2224ca69332cf3a58fc909a": {
     "model_module": "@jupyter-widgets/controls",
     "model_module_version": "1.5.0",
     "model_name": "HBoxModel",
     "state": {
      "_dom_classes": [],
      "_model_module": "@jupyter-widgets/controls",
      "_model_module_version": "1.5.0",
      "_model_name": "HBoxModel",
      "_view_count": null,
      "_view_module": "@jupyter-widgets/controls",
      "_view_module_version": "1.5.0",
      "_view_name": "HBoxView",
      "box_style": "",
      "children": [
       "IPY_MODEL_fe7fca306d3149fa8e9f2d225c849f30",
       "IPY_MODEL_bab678c4243b42239a09604fcbfb4872",
       "IPY_MODEL_6d5ca877b338497db47c555f09c792a2"
      ],
      "layout": "IPY_MODEL_4e230e7db4634d77a7aa06072be99272"
     }
    },
    "43d743fdbd424774894698d927826623": {
     "model_module": "@jupyter-widgets/base",
     "model_module_version": "1.2.0",
     "model_name": "LayoutModel",
     "state": {
      "_model_module": "@jupyter-widgets/base",
      "_model_module_version": "1.2.0",
      "_model_name": "LayoutModel",
      "_view_count": null,
      "_view_module": "@jupyter-widgets/base",
      "_view_module_version": "1.2.0",
      "_view_name": "LayoutView",
      "align_content": null,
      "align_items": null,
      "align_self": null,
      "border": null,
      "bottom": null,
      "display": null,
      "flex": null,
      "flex_flow": null,
      "grid_area": null,
      "grid_auto_columns": null,
      "grid_auto_flow": null,
      "grid_auto_rows": null,
      "grid_column": null,
      "grid_gap": null,
      "grid_row": null,
      "grid_template_areas": null,
      "grid_template_columns": null,
      "grid_template_rows": null,
      "height": null,
      "justify_content": null,
      "justify_items": null,
      "left": null,
      "margin": null,
      "max_height": null,
      "max_width": null,
      "min_height": null,
      "min_width": null,
      "object_fit": null,
      "object_position": null,
      "order": null,
      "overflow": null,
      "overflow_x": null,
      "overflow_y": null,
      "padding": null,
      "right": null,
      "top": null,
      "visibility": null,
      "width": null
     }
    },
    "43df1bf78d08466a90aceaf653d05d15": {
     "model_module": "@jupyter-widgets/controls",
     "model_module_version": "1.5.0",
     "model_name": "DescriptionStyleModel",
     "state": {
      "_model_module": "@jupyter-widgets/controls",
      "_model_module_version": "1.5.0",
      "_model_name": "DescriptionStyleModel",
      "_view_count": null,
      "_view_module": "@jupyter-widgets/base",
      "_view_module_version": "1.2.0",
      "_view_name": "StyleView",
      "description_width": ""
     }
    },
    "46060e05cd1442b384a20f2e1ddb9bb7": {
     "model_module": "@jupyter-widgets/controls",
     "model_module_version": "1.5.0",
     "model_name": "DescriptionStyleModel",
     "state": {
      "_model_module": "@jupyter-widgets/controls",
      "_model_module_version": "1.5.0",
      "_model_name": "DescriptionStyleModel",
      "_view_count": null,
      "_view_module": "@jupyter-widgets/base",
      "_view_module_version": "1.2.0",
      "_view_name": "StyleView",
      "description_width": ""
     }
    },
    "4685729c59a841e88959efdceab5364b": {
     "model_module": "@jupyter-widgets/controls",
     "model_module_version": "1.5.0",
     "model_name": "HBoxModel",
     "state": {
      "_dom_classes": [],
      "_model_module": "@jupyter-widgets/controls",
      "_model_module_version": "1.5.0",
      "_model_name": "HBoxModel",
      "_view_count": null,
      "_view_module": "@jupyter-widgets/controls",
      "_view_module_version": "1.5.0",
      "_view_name": "HBoxView",
      "box_style": "",
      "children": [
       "IPY_MODEL_ad0b1339ea514cd0a0d86591c735fc57",
       "IPY_MODEL_f47db080911d4eb9b3a07cd5836e91a3",
       "IPY_MODEL_0986d41762194b8195821cead8105bbc"
      ],
      "layout": "IPY_MODEL_887203e89b734df9baa72e35e499baf8"
     }
    },
    "48022a4a7f304df6b04cc791c25f2a81": {
     "model_module": "@jupyter-widgets/controls",
     "model_module_version": "1.5.0",
     "model_name": "ProgressStyleModel",
     "state": {
      "_model_module": "@jupyter-widgets/controls",
      "_model_module_version": "1.5.0",
      "_model_name": "ProgressStyleModel",
      "_view_count": null,
      "_view_module": "@jupyter-widgets/base",
      "_view_module_version": "1.2.0",
      "_view_name": "StyleView",
      "bar_color": null,
      "description_width": ""
     }
    },
    "48df84fe6532421a8eb7c6fab5bbbd07": {
     "model_module": "@jupyter-widgets/base",
     "model_module_version": "1.2.0",
     "model_name": "LayoutModel",
     "state": {
      "_model_module": "@jupyter-widgets/base",
      "_model_module_version": "1.2.0",
      "_model_name": "LayoutModel",
      "_view_count": null,
      "_view_module": "@jupyter-widgets/base",
      "_view_module_version": "1.2.0",
      "_view_name": "LayoutView",
      "align_content": null,
      "align_items": null,
      "align_self": null,
      "border": null,
      "bottom": null,
      "display": null,
      "flex": null,
      "flex_flow": null,
      "grid_area": null,
      "grid_auto_columns": null,
      "grid_auto_flow": null,
      "grid_auto_rows": null,
      "grid_column": null,
      "grid_gap": null,
      "grid_row": null,
      "grid_template_areas": null,
      "grid_template_columns": null,
      "grid_template_rows": null,
      "height": null,
      "justify_content": null,
      "justify_items": null,
      "left": null,
      "margin": null,
      "max_height": null,
      "max_width": null,
      "min_height": null,
      "min_width": null,
      "object_fit": null,
      "object_position": null,
      "order": null,
      "overflow": null,
      "overflow_x": null,
      "overflow_y": null,
      "padding": null,
      "right": null,
      "top": null,
      "visibility": null,
      "width": null
     }
    },
    "4d465cec6b54451ea4705d547ab8bc2e": {
     "model_module": "@jupyter-widgets/base",
     "model_module_version": "1.2.0",
     "model_name": "LayoutModel",
     "state": {
      "_model_module": "@jupyter-widgets/base",
      "_model_module_version": "1.2.0",
      "_model_name": "LayoutModel",
      "_view_count": null,
      "_view_module": "@jupyter-widgets/base",
      "_view_module_version": "1.2.0",
      "_view_name": "LayoutView",
      "align_content": null,
      "align_items": null,
      "align_self": null,
      "border": null,
      "bottom": null,
      "display": null,
      "flex": null,
      "flex_flow": null,
      "grid_area": null,
      "grid_auto_columns": null,
      "grid_auto_flow": null,
      "grid_auto_rows": null,
      "grid_column": null,
      "grid_gap": null,
      "grid_row": null,
      "grid_template_areas": null,
      "grid_template_columns": null,
      "grid_template_rows": null,
      "height": null,
      "justify_content": null,
      "justify_items": null,
      "left": null,
      "margin": null,
      "max_height": null,
      "max_width": null,
      "min_height": null,
      "min_width": null,
      "object_fit": null,
      "object_position": null,
      "order": null,
      "overflow": null,
      "overflow_x": null,
      "overflow_y": null,
      "padding": null,
      "right": null,
      "top": null,
      "visibility": null,
      "width": null
     }
    },
    "4e230e7db4634d77a7aa06072be99272": {
     "model_module": "@jupyter-widgets/base",
     "model_module_version": "1.2.0",
     "model_name": "LayoutModel",
     "state": {
      "_model_module": "@jupyter-widgets/base",
      "_model_module_version": "1.2.0",
      "_model_name": "LayoutModel",
      "_view_count": null,
      "_view_module": "@jupyter-widgets/base",
      "_view_module_version": "1.2.0",
      "_view_name": "LayoutView",
      "align_content": null,
      "align_items": null,
      "align_self": null,
      "border": null,
      "bottom": null,
      "display": null,
      "flex": null,
      "flex_flow": null,
      "grid_area": null,
      "grid_auto_columns": null,
      "grid_auto_flow": null,
      "grid_auto_rows": null,
      "grid_column": null,
      "grid_gap": null,
      "grid_row": null,
      "grid_template_areas": null,
      "grid_template_columns": null,
      "grid_template_rows": null,
      "height": null,
      "justify_content": null,
      "justify_items": null,
      "left": null,
      "margin": null,
      "max_height": null,
      "max_width": null,
      "min_height": null,
      "min_width": null,
      "object_fit": null,
      "object_position": null,
      "order": null,
      "overflow": null,
      "overflow_x": null,
      "overflow_y": null,
      "padding": null,
      "right": null,
      "top": null,
      "visibility": null,
      "width": null
     }
    },
    "4f357f17f9244ac6b438f1869619791a": {
     "model_module": "@jupyter-widgets/controls",
     "model_module_version": "1.5.0",
     "model_name": "DescriptionStyleModel",
     "state": {
      "_model_module": "@jupyter-widgets/controls",
      "_model_module_version": "1.5.0",
      "_model_name": "DescriptionStyleModel",
      "_view_count": null,
      "_view_module": "@jupyter-widgets/base",
      "_view_module_version": "1.2.0",
      "_view_name": "StyleView",
      "description_width": ""
     }
    },
    "510d520823ea4057b56e636cbb97db4d": {
     "model_module": "@jupyter-widgets/controls",
     "model_module_version": "1.5.0",
     "model_name": "HTMLModel",
     "state": {
      "_dom_classes": [],
      "_model_module": "@jupyter-widgets/controls",
      "_model_module_version": "1.5.0",
      "_model_name": "HTMLModel",
      "_view_count": null,
      "_view_module": "@jupyter-widgets/controls",
      "_view_module_version": "1.5.0",
      "_view_name": "HTMLView",
      "description": "",
      "description_tooltip": null,
      "layout": "IPY_MODEL_56b7eb8a43034cc2befb8439df419478",
      "placeholder": "​",
      "style": "IPY_MODEL_70e37f48a96a4eeb94d314f87ee79010",
      "value": " 1000/? [03:10&lt;00:00,  5.00it/s]"
     }
    },
    "53021f6f495c4988a39c595144b36d51": {
     "model_module": "@jupyter-widgets/controls",
     "model_module_version": "1.5.0",
     "model_name": "ProgressStyleModel",
     "state": {
      "_model_module": "@jupyter-widgets/controls",
      "_model_module_version": "1.5.0",
      "_model_name": "ProgressStyleModel",
      "_view_count": null,
      "_view_module": "@jupyter-widgets/base",
      "_view_module_version": "1.2.0",
      "_view_name": "StyleView",
      "bar_color": null,
      "description_width": ""
     }
    },
    "54f43fe7a47b471290a5d3f4ba0e9cf8": {
     "model_module": "@jupyter-widgets/controls",
     "model_module_version": "1.5.0",
     "model_name": "HBoxModel",
     "state": {
      "_dom_classes": [],
      "_model_module": "@jupyter-widgets/controls",
      "_model_module_version": "1.5.0",
      "_model_name": "HBoxModel",
      "_view_count": null,
      "_view_module": "@jupyter-widgets/controls",
      "_view_module_version": "1.5.0",
      "_view_name": "HBoxView",
      "box_style": "",
      "children": [
       "IPY_MODEL_d521f12888c843499ab2bb5f639e55fe",
       "IPY_MODEL_c66ee7c49b744611b40e0513437a31f0",
       "IPY_MODEL_f654242ddc6a4436a877cb0a3f5759a5"
      ],
      "layout": "IPY_MODEL_0e4b7aa6e2de4418b7311ca43e13b9d5"
     }
    },
    "56b7eb8a43034cc2befb8439df419478": {
     "model_module": "@jupyter-widgets/base",
     "model_module_version": "1.2.0",
     "model_name": "LayoutModel",
     "state": {
      "_model_module": "@jupyter-widgets/base",
      "_model_module_version": "1.2.0",
      "_model_name": "LayoutModel",
      "_view_count": null,
      "_view_module": "@jupyter-widgets/base",
      "_view_module_version": "1.2.0",
      "_view_name": "LayoutView",
      "align_content": null,
      "align_items": null,
      "align_self": null,
      "border": null,
      "bottom": null,
      "display": null,
      "flex": null,
      "flex_flow": null,
      "grid_area": null,
      "grid_auto_columns": null,
      "grid_auto_flow": null,
      "grid_auto_rows": null,
      "grid_column": null,
      "grid_gap": null,
      "grid_row": null,
      "grid_template_areas": null,
      "grid_template_columns": null,
      "grid_template_rows": null,
      "height": null,
      "justify_content": null,
      "justify_items": null,
      "left": null,
      "margin": null,
      "max_height": null,
      "max_width": null,
      "min_height": null,
      "min_width": null,
      "object_fit": null,
      "object_position": null,
      "order": null,
      "overflow": null,
      "overflow_x": null,
      "overflow_y": null,
      "padding": null,
      "right": null,
      "top": null,
      "visibility": null,
      "width": null
     }
    },
    "5853f7f825164226b04f1a0c7b53c602": {
     "model_module": "@jupyter-widgets/base",
     "model_module_version": "1.2.0",
     "model_name": "LayoutModel",
     "state": {
      "_model_module": "@jupyter-widgets/base",
      "_model_module_version": "1.2.0",
      "_model_name": "LayoutModel",
      "_view_count": null,
      "_view_module": "@jupyter-widgets/base",
      "_view_module_version": "1.2.0",
      "_view_name": "LayoutView",
      "align_content": null,
      "align_items": null,
      "align_self": null,
      "border": null,
      "bottom": null,
      "display": null,
      "flex": null,
      "flex_flow": null,
      "grid_area": null,
      "grid_auto_columns": null,
      "grid_auto_flow": null,
      "grid_auto_rows": null,
      "grid_column": null,
      "grid_gap": null,
      "grid_row": null,
      "grid_template_areas": null,
      "grid_template_columns": null,
      "grid_template_rows": null,
      "height": null,
      "justify_content": null,
      "justify_items": null,
      "left": null,
      "margin": null,
      "max_height": null,
      "max_width": null,
      "min_height": null,
      "min_width": null,
      "object_fit": null,
      "object_position": null,
      "order": null,
      "overflow": null,
      "overflow_x": null,
      "overflow_y": null,
      "padding": null,
      "right": null,
      "top": null,
      "visibility": null,
      "width": null
     }
    },
    "59ee36ba22024b2099b77628ce47bdbe": {
     "model_module": "@jupyter-widgets/controls",
     "model_module_version": "1.5.0",
     "model_name": "DescriptionStyleModel",
     "state": {
      "_model_module": "@jupyter-widgets/controls",
      "_model_module_version": "1.5.0",
      "_model_name": "DescriptionStyleModel",
      "_view_count": null,
      "_view_module": "@jupyter-widgets/base",
      "_view_module_version": "1.2.0",
      "_view_name": "StyleView",
      "description_width": ""
     }
    },
    "5c5e7c936b0b44df8a1a067968cf513a": {
     "model_module": "@jupyter-widgets/base",
     "model_module_version": "1.2.0",
     "model_name": "LayoutModel",
     "state": {
      "_model_module": "@jupyter-widgets/base",
      "_model_module_version": "1.2.0",
      "_model_name": "LayoutModel",
      "_view_count": null,
      "_view_module": "@jupyter-widgets/base",
      "_view_module_version": "1.2.0",
      "_view_name": "LayoutView",
      "align_content": null,
      "align_items": null,
      "align_self": null,
      "border": null,
      "bottom": null,
      "display": null,
      "flex": null,
      "flex_flow": null,
      "grid_area": null,
      "grid_auto_columns": null,
      "grid_auto_flow": null,
      "grid_auto_rows": null,
      "grid_column": null,
      "grid_gap": null,
      "grid_row": null,
      "grid_template_areas": null,
      "grid_template_columns": null,
      "grid_template_rows": null,
      "height": null,
      "justify_content": null,
      "justify_items": null,
      "left": null,
      "margin": null,
      "max_height": null,
      "max_width": null,
      "min_height": null,
      "min_width": null,
      "object_fit": null,
      "object_position": null,
      "order": null,
      "overflow": null,
      "overflow_x": null,
      "overflow_y": null,
      "padding": null,
      "right": null,
      "top": null,
      "visibility": null,
      "width": null
     }
    },
    "5f017c44136f49c88321d948b393425e": {
     "model_module": "@jupyter-widgets/base",
     "model_module_version": "1.2.0",
     "model_name": "LayoutModel",
     "state": {
      "_model_module": "@jupyter-widgets/base",
      "_model_module_version": "1.2.0",
      "_model_name": "LayoutModel",
      "_view_count": null,
      "_view_module": "@jupyter-widgets/base",
      "_view_module_version": "1.2.0",
      "_view_name": "LayoutView",
      "align_content": null,
      "align_items": null,
      "align_self": null,
      "border": null,
      "bottom": null,
      "display": null,
      "flex": null,
      "flex_flow": null,
      "grid_area": null,
      "grid_auto_columns": null,
      "grid_auto_flow": null,
      "grid_auto_rows": null,
      "grid_column": null,
      "grid_gap": null,
      "grid_row": null,
      "grid_template_areas": null,
      "grid_template_columns": null,
      "grid_template_rows": null,
      "height": null,
      "justify_content": null,
      "justify_items": null,
      "left": null,
      "margin": null,
      "max_height": null,
      "max_width": null,
      "min_height": null,
      "min_width": null,
      "object_fit": null,
      "object_position": null,
      "order": null,
      "overflow": null,
      "overflow_x": null,
      "overflow_y": null,
      "padding": null,
      "right": null,
      "top": null,
      "visibility": null,
      "width": null
     }
    },
    "66ea605e267a4ccaba7fe0fd87556a23": {
     "model_module": "@jupyter-widgets/base",
     "model_module_version": "1.2.0",
     "model_name": "LayoutModel",
     "state": {
      "_model_module": "@jupyter-widgets/base",
      "_model_module_version": "1.2.0",
      "_model_name": "LayoutModel",
      "_view_count": null,
      "_view_module": "@jupyter-widgets/base",
      "_view_module_version": "1.2.0",
      "_view_name": "LayoutView",
      "align_content": null,
      "align_items": null,
      "align_self": null,
      "border": null,
      "bottom": null,
      "display": null,
      "flex": null,
      "flex_flow": null,
      "grid_area": null,
      "grid_auto_columns": null,
      "grid_auto_flow": null,
      "grid_auto_rows": null,
      "grid_column": null,
      "grid_gap": null,
      "grid_row": null,
      "grid_template_areas": null,
      "grid_template_columns": null,
      "grid_template_rows": null,
      "height": null,
      "justify_content": null,
      "justify_items": null,
      "left": null,
      "margin": null,
      "max_height": null,
      "max_width": null,
      "min_height": null,
      "min_width": null,
      "object_fit": null,
      "object_position": null,
      "order": null,
      "overflow": null,
      "overflow_x": null,
      "overflow_y": null,
      "padding": null,
      "right": null,
      "top": null,
      "visibility": null,
      "width": null
     }
    },
    "6d5ca877b338497db47c555f09c792a2": {
     "model_module": "@jupyter-widgets/controls",
     "model_module_version": "1.5.0",
     "model_name": "HTMLModel",
     "state": {
      "_dom_classes": [],
      "_model_module": "@jupyter-widgets/controls",
      "_model_module_version": "1.5.0",
      "_model_name": "HTMLModel",
      "_view_count": null,
      "_view_module": "@jupyter-widgets/controls",
      "_view_module_version": "1.5.0",
      "_view_name": "HTMLView",
      "description": "",
      "description_tooltip": null,
      "layout": "IPY_MODEL_0c751f9de9924f1791cb5d5d6758652d",
      "placeholder": "​",
      "style": "IPY_MODEL_1d51659bf3a64371ab63bbaca9c3f59e",
      "value": " 471M/471M [00:14&lt;00:00, 32.7MB/s]"
     }
    },
    "6e6e9a1dd259413ba4fc178186506fc6": {
     "model_module": "@jupyter-widgets/controls",
     "model_module_version": "1.5.0",
     "model_name": "ProgressStyleModel",
     "state": {
      "_model_module": "@jupyter-widgets/controls",
      "_model_module_version": "1.5.0",
      "_model_name": "ProgressStyleModel",
      "_view_count": null,
      "_view_module": "@jupyter-widgets/base",
      "_view_module_version": "1.2.0",
      "_view_name": "StyleView",
      "bar_color": null,
      "description_width": ""
     }
    },
    "6ffdd29d76c54fd39bf87cf93121bd73": {
     "model_module": "@jupyter-widgets/controls",
     "model_module_version": "1.5.0",
     "model_name": "DescriptionStyleModel",
     "state": {
      "_model_module": "@jupyter-widgets/controls",
      "_model_module_version": "1.5.0",
      "_model_name": "DescriptionStyleModel",
      "_view_count": null,
      "_view_module": "@jupyter-widgets/base",
      "_view_module_version": "1.2.0",
      "_view_name": "StyleView",
      "description_width": ""
     }
    },
    "70e37f48a96a4eeb94d314f87ee79010": {
     "model_module": "@jupyter-widgets/controls",
     "model_module_version": "1.5.0",
     "model_name": "DescriptionStyleModel",
     "state": {
      "_model_module": "@jupyter-widgets/controls",
      "_model_module_version": "1.5.0",
      "_model_name": "DescriptionStyleModel",
      "_view_count": null,
      "_view_module": "@jupyter-widgets/base",
      "_view_module_version": "1.2.0",
      "_view_name": "StyleView",
      "description_width": ""
     }
    },
    "71f3dd7805a044f5b5fdedca54a6e89b": {
     "model_module": "@jupyter-widgets/base",
     "model_module_version": "1.2.0",
     "model_name": "LayoutModel",
     "state": {
      "_model_module": "@jupyter-widgets/base",
      "_model_module_version": "1.2.0",
      "_model_name": "LayoutModel",
      "_view_count": null,
      "_view_module": "@jupyter-widgets/base",
      "_view_module_version": "1.2.0",
      "_view_name": "LayoutView",
      "align_content": null,
      "align_items": null,
      "align_self": null,
      "border": null,
      "bottom": null,
      "display": null,
      "flex": null,
      "flex_flow": null,
      "grid_area": null,
      "grid_auto_columns": null,
      "grid_auto_flow": null,
      "grid_auto_rows": null,
      "grid_column": null,
      "grid_gap": null,
      "grid_row": null,
      "grid_template_areas": null,
      "grid_template_columns": null,
      "grid_template_rows": null,
      "height": null,
      "justify_content": null,
      "justify_items": null,
      "left": null,
      "margin": null,
      "max_height": null,
      "max_width": null,
      "min_height": null,
      "min_width": null,
      "object_fit": null,
      "object_position": null,
      "order": null,
      "overflow": null,
      "overflow_x": null,
      "overflow_y": null,
      "padding": null,
      "right": null,
      "top": null,
      "visibility": null,
      "width": null
     }
    },
    "72367797143d40f4b49242d0debad78c": {
     "model_module": "@jupyter-widgets/controls",
     "model_module_version": "1.5.0",
     "model_name": "HTMLModel",
     "state": {
      "_dom_classes": [],
      "_model_module": "@jupyter-widgets/controls",
      "_model_module_version": "1.5.0",
      "_model_name": "HTMLModel",
      "_view_count": null,
      "_view_module": "@jupyter-widgets/controls",
      "_view_module_version": "1.5.0",
      "_view_name": "HTMLView",
      "description": "",
      "description_tooltip": null,
      "layout": "IPY_MODEL_d2e969eb7c4b44cf8c925eba8251521c",
      "placeholder": "​",
      "style": "IPY_MODEL_3192f4dce2e642ebb25753b24df7401c",
      "value": " 52.1M/52.1M [00:01&lt;00:00, 31.0MB/s]"
     }
    },
    "72dcee5627ab4daa95edd542d996f6e3": {
     "model_module": "@jupyter-widgets/base",
     "model_module_version": "1.2.0",
     "model_name": "LayoutModel",
     "state": {
      "_model_module": "@jupyter-widgets/base",
      "_model_module_version": "1.2.0",
      "_model_name": "LayoutModel",
      "_view_count": null,
      "_view_module": "@jupyter-widgets/base",
      "_view_module_version": "1.2.0",
      "_view_name": "LayoutView",
      "align_content": null,
      "align_items": null,
      "align_self": null,
      "border": null,
      "bottom": null,
      "display": null,
      "flex": null,
      "flex_flow": null,
      "grid_area": null,
      "grid_auto_columns": null,
      "grid_auto_flow": null,
      "grid_auto_rows": null,
      "grid_column": null,
      "grid_gap": null,
      "grid_row": null,
      "grid_template_areas": null,
      "grid_template_columns": null,
      "grid_template_rows": null,
      "height": null,
      "justify_content": null,
      "justify_items": null,
      "left": null,
      "margin": null,
      "max_height": null,
      "max_width": null,
      "min_height": null,
      "min_width": null,
      "object_fit": null,
      "object_position": null,
      "order": null,
      "overflow": null,
      "overflow_x": null,
      "overflow_y": null,
      "padding": null,
      "right": null,
      "top": null,
      "visibility": null,
      "width": null
     }
    },
    "737f5d07a6264095a09b18afbdcb4635": {
     "model_module": "@jupyter-widgets/base",
     "model_module_version": "1.2.0",
     "model_name": "LayoutModel",
     "state": {
      "_model_module": "@jupyter-widgets/base",
      "_model_module_version": "1.2.0",
      "_model_name": "LayoutModel",
      "_view_count": null,
      "_view_module": "@jupyter-widgets/base",
      "_view_module_version": "1.2.0",
      "_view_name": "LayoutView",
      "align_content": null,
      "align_items": null,
      "align_self": null,
      "border": null,
      "bottom": null,
      "display": null,
      "flex": null,
      "flex_flow": null,
      "grid_area": null,
      "grid_auto_columns": null,
      "grid_auto_flow": null,
      "grid_auto_rows": null,
      "grid_column": null,
      "grid_gap": null,
      "grid_row": null,
      "grid_template_areas": null,
      "grid_template_columns": null,
      "grid_template_rows": null,
      "height": null,
      "justify_content": null,
      "justify_items": null,
      "left": null,
      "margin": null,
      "max_height": null,
      "max_width": null,
      "min_height": null,
      "min_width": null,
      "object_fit": null,
      "object_position": null,
      "order": null,
      "overflow": null,
      "overflow_x": null,
      "overflow_y": null,
      "padding": null,
      "right": null,
      "top": null,
      "visibility": null,
      "width": null
     }
    },
    "76b790fc63db44789353df1ca7c6e796": {
     "model_module": "@jupyter-widgets/controls",
     "model_module_version": "1.5.0",
     "model_name": "HTMLModel",
     "state": {
      "_dom_classes": [],
      "_model_module": "@jupyter-widgets/controls",
      "_model_module_version": "1.5.0",
      "_model_name": "HTMLModel",
      "_view_count": null,
      "_view_module": "@jupyter-widgets/controls",
      "_view_module_version": "1.5.0",
      "_view_name": "HTMLView",
      "description": "",
      "description_tooltip": null,
      "layout": "IPY_MODEL_f1ad6703003148b2bc46849327c988f9",
      "placeholder": "​",
      "style": "IPY_MODEL_d2e746b614104768ae8618bc009fb7b8",
      "value": " 998/? [00:50&lt;00:00, 37.04it/s]"
     }
    },
    "7887368418704136ac1879d95d49d796": {
     "model_module": "@jupyter-widgets/controls",
     "model_module_version": "1.5.0",
     "model_name": "FloatProgressModel",
     "state": {
      "_dom_classes": [],
      "_model_module": "@jupyter-widgets/controls",
      "_model_module_version": "1.5.0",
      "_model_name": "FloatProgressModel",
      "_view_count": null,
      "_view_module": "@jupyter-widgets/controls",
      "_view_module_version": "1.5.0",
      "_view_name": "ProgressView",
      "bar_style": "success",
      "description": "",
      "description_tooltip": null,
      "layout": "IPY_MODEL_15221fec3d114af78ad9095b45a6e867",
      "max": 3,
      "min": 0,
      "orientation": "horizontal",
      "style": "IPY_MODEL_0fcc19310cd048feb1d3702059eac11e",
      "value": 3
     }
    },
    "79ac74ac1617496ca66e18b55a021511": {
     "model_module": "@jupyter-widgets/controls",
     "model_module_version": "1.5.0",
     "model_name": "DescriptionStyleModel",
     "state": {
      "_model_module": "@jupyter-widgets/controls",
      "_model_module_version": "1.5.0",
      "_model_name": "DescriptionStyleModel",
      "_view_count": null,
      "_view_module": "@jupyter-widgets/base",
      "_view_module_version": "1.2.0",
      "_view_name": "StyleView",
      "description_width": ""
     }
    },
    "7a154f73a8524d18b4cf82af429e82c8": {
     "model_module": "@jupyter-widgets/controls",
     "model_module_version": "1.5.0",
     "model_name": "HTMLModel",
     "state": {
      "_dom_classes": [],
      "_model_module": "@jupyter-widgets/controls",
      "_model_module_version": "1.5.0",
      "_model_name": "HTMLModel",
      "_view_count": null,
      "_view_module": "@jupyter-widgets/controls",
      "_view_module_version": "1.5.0",
      "_view_name": "HTMLView",
      "description": "",
      "description_tooltip": null,
      "layout": "IPY_MODEL_71f3dd7805a044f5b5fdedca54a6e89b",
      "placeholder": "​",
      "style": "IPY_MODEL_6ffdd29d76c54fd39bf87cf93121bd73",
      "value": " 3/3 [00:00&lt;00:00,  8.47it/s]"
     }
    },
    "7a39e968155d43deaf621db28383be6d": {
     "model_module": "@jupyter-widgets/controls",
     "model_module_version": "1.5.0",
     "model_name": "FloatProgressModel",
     "state": {
      "_dom_classes": [],
      "_model_module": "@jupyter-widgets/controls",
      "_model_module_version": "1.5.0",
      "_model_name": "FloatProgressModel",
      "_view_count": null,
      "_view_module": "@jupyter-widgets/controls",
      "_view_module_version": "1.5.0",
      "_view_name": "ProgressView",
      "bar_style": "success",
      "description": "",
      "description_tooltip": null,
      "layout": "IPY_MODEL_a6e47b21f3c4424ca8b99d2b1a37e91f",
      "max": 2982,
      "min": 0,
      "orientation": "horizontal",
      "style": "IPY_MODEL_0a50e8f1dee84575982ca788affbeeaa",
      "value": 2982
     }
    },
    "7a437d68ef3e4203bcced9c806157516": {
     "model_module": "@jupyter-widgets/controls",
     "model_module_version": "1.5.0",
     "model_name": "DescriptionStyleModel",
     "state": {
      "_model_module": "@jupyter-widgets/controls",
      "_model_module_version": "1.5.0",
      "_model_name": "DescriptionStyleModel",
      "_view_count": null,
      "_view_module": "@jupyter-widgets/base",
      "_view_module_version": "1.2.0",
      "_view_name": "StyleView",
      "description_width": ""
     }
    },
    "7aef6c7d8d884835ab000bf2c4b85e68": {
     "model_module": "@jupyter-widgets/controls",
     "model_module_version": "1.5.0",
     "model_name": "DescriptionStyleModel",
     "state": {
      "_model_module": "@jupyter-widgets/controls",
      "_model_module_version": "1.5.0",
      "_model_name": "DescriptionStyleModel",
      "_view_count": null,
      "_view_module": "@jupyter-widgets/base",
      "_view_module_version": "1.2.0",
      "_view_name": "StyleView",
      "description_width": ""
     }
    },
    "7b68f03a590e4339a1eeb01979c7f62e": {
     "model_module": "@jupyter-widgets/controls",
     "model_module_version": "1.5.0",
     "model_name": "DescriptionStyleModel",
     "state": {
      "_model_module": "@jupyter-widgets/controls",
      "_model_module_version": "1.5.0",
      "_model_name": "DescriptionStyleModel",
      "_view_count": null,
      "_view_module": "@jupyter-widgets/base",
      "_view_module_version": "1.2.0",
      "_view_name": "StyleView",
      "description_width": ""
     }
    },
    "816cbc1eb63745039a0d5c6e91f74ff5": {
     "model_module": "@jupyter-widgets/base",
     "model_module_version": "1.2.0",
     "model_name": "LayoutModel",
     "state": {
      "_model_module": "@jupyter-widgets/base",
      "_model_module_version": "1.2.0",
      "_model_name": "LayoutModel",
      "_view_count": null,
      "_view_module": "@jupyter-widgets/base",
      "_view_module_version": "1.2.0",
      "_view_name": "LayoutView",
      "align_content": null,
      "align_items": null,
      "align_self": null,
      "border": null,
      "bottom": null,
      "display": null,
      "flex": null,
      "flex_flow": null,
      "grid_area": null,
      "grid_auto_columns": null,
      "grid_auto_flow": null,
      "grid_auto_rows": null,
      "grid_column": null,
      "grid_gap": null,
      "grid_row": null,
      "grid_template_areas": null,
      "grid_template_columns": null,
      "grid_template_rows": null,
      "height": null,
      "justify_content": null,
      "justify_items": null,
      "left": null,
      "margin": null,
      "max_height": null,
      "max_width": null,
      "min_height": null,
      "min_width": null,
      "object_fit": null,
      "object_position": null,
      "order": null,
      "overflow": null,
      "overflow_x": null,
      "overflow_y": null,
      "padding": null,
      "right": null,
      "top": null,
      "visibility": null,
      "width": null
     }
    },
    "84afd01699a84dba8a3a3518ff1ae5f1": {
     "model_module": "@jupyter-widgets/controls",
     "model_module_version": "1.5.0",
     "model_name": "ProgressStyleModel",
     "state": {
      "_model_module": "@jupyter-widgets/controls",
      "_model_module_version": "1.5.0",
      "_model_name": "ProgressStyleModel",
      "_view_count": null,
      "_view_module": "@jupyter-widgets/base",
      "_view_module_version": "1.2.0",
      "_view_name": "StyleView",
      "bar_color": null,
      "description_width": "initial"
     }
    },
    "85993ef3dccc412585cdb4acdbc8481e": {
     "model_module": "@jupyter-widgets/controls",
     "model_module_version": "1.5.0",
     "model_name": "FloatProgressModel",
     "state": {
      "_dom_classes": [],
      "_model_module": "@jupyter-widgets/controls",
      "_model_module_version": "1.5.0",
      "_model_name": "FloatProgressModel",
      "_view_count": null,
      "_view_module": "@jupyter-widgets/controls",
      "_view_module_version": "1.5.0",
      "_view_name": "ProgressView",
      "bar_style": "danger",
      "description": "",
      "description_tooltip": null,
      "layout": "IPY_MODEL_2dd75e38fea64200a2ab4cca67af327c",
      "max": 1,
      "min": 0,
      "orientation": "horizontal",
      "style": "IPY_MODEL_3815f7b694eb41708bacca52ccea41bd",
      "value": 1
     }
    },
    "88697a3aef9a46a3ac58e53cde409abe": {
     "model_module": "@jupyter-widgets/base",
     "model_module_version": "1.2.0",
     "model_name": "LayoutModel",
     "state": {
      "_model_module": "@jupyter-widgets/base",
      "_model_module_version": "1.2.0",
      "_model_name": "LayoutModel",
      "_view_count": null,
      "_view_module": "@jupyter-widgets/base",
      "_view_module_version": "1.2.0",
      "_view_name": "LayoutView",
      "align_content": null,
      "align_items": null,
      "align_self": null,
      "border": null,
      "bottom": null,
      "display": null,
      "flex": null,
      "flex_flow": null,
      "grid_area": null,
      "grid_auto_columns": null,
      "grid_auto_flow": null,
      "grid_auto_rows": null,
      "grid_column": null,
      "grid_gap": null,
      "grid_row": null,
      "grid_template_areas": null,
      "grid_template_columns": null,
      "grid_template_rows": null,
      "height": null,
      "justify_content": null,
      "justify_items": null,
      "left": null,
      "margin": null,
      "max_height": null,
      "max_width": null,
      "min_height": null,
      "min_width": null,
      "object_fit": null,
      "object_position": null,
      "order": null,
      "overflow": null,
      "overflow_x": null,
      "overflow_y": null,
      "padding": null,
      "right": null,
      "top": null,
      "visibility": null,
      "width": null
     }
    },
    "887203e89b734df9baa72e35e499baf8": {
     "model_module": "@jupyter-widgets/base",
     "model_module_version": "1.2.0",
     "model_name": "LayoutModel",
     "state": {
      "_model_module": "@jupyter-widgets/base",
      "_model_module_version": "1.2.0",
      "_model_name": "LayoutModel",
      "_view_count": null,
      "_view_module": "@jupyter-widgets/base",
      "_view_module_version": "1.2.0",
      "_view_name": "LayoutView",
      "align_content": null,
      "align_items": null,
      "align_self": null,
      "border": null,
      "bottom": null,
      "display": null,
      "flex": null,
      "flex_flow": null,
      "grid_area": null,
      "grid_auto_columns": null,
      "grid_auto_flow": null,
      "grid_auto_rows": null,
      "grid_column": null,
      "grid_gap": null,
      "grid_row": null,
      "grid_template_areas": null,
      "grid_template_columns": null,
      "grid_template_rows": null,
      "height": null,
      "justify_content": null,
      "justify_items": null,
      "left": null,
      "margin": null,
      "max_height": null,
      "max_width": null,
      "min_height": null,
      "min_width": null,
      "object_fit": null,
      "object_position": null,
      "order": null,
      "overflow": null,
      "overflow_x": null,
      "overflow_y": null,
      "padding": null,
      "right": null,
      "top": null,
      "visibility": null,
      "width": null
     }
    },
    "8a53b4a17e3c4327a52ea0f894811456": {
     "model_module": "@jupyter-widgets/controls",
     "model_module_version": "1.5.0",
     "model_name": "DescriptionStyleModel",
     "state": {
      "_model_module": "@jupyter-widgets/controls",
      "_model_module_version": "1.5.0",
      "_model_name": "DescriptionStyleModel",
      "_view_count": null,
      "_view_module": "@jupyter-widgets/base",
      "_view_module_version": "1.2.0",
      "_view_name": "StyleView",
      "description_width": ""
     }
    },
    "8b724c86093844778e7eafa1f2d1cccb": {
     "model_module": "@jupyter-widgets/base",
     "model_module_version": "1.2.0",
     "model_name": "LayoutModel",
     "state": {
      "_model_module": "@jupyter-widgets/base",
      "_model_module_version": "1.2.0",
      "_model_name": "LayoutModel",
      "_view_count": null,
      "_view_module": "@jupyter-widgets/base",
      "_view_module_version": "1.2.0",
      "_view_name": "LayoutView",
      "align_content": null,
      "align_items": null,
      "align_self": null,
      "border": null,
      "bottom": null,
      "display": null,
      "flex": null,
      "flex_flow": null,
      "grid_area": null,
      "grid_auto_columns": null,
      "grid_auto_flow": null,
      "grid_auto_rows": null,
      "grid_column": null,
      "grid_gap": null,
      "grid_row": null,
      "grid_template_areas": null,
      "grid_template_columns": null,
      "grid_template_rows": null,
      "height": null,
      "justify_content": null,
      "justify_items": null,
      "left": null,
      "margin": null,
      "max_height": null,
      "max_width": null,
      "min_height": null,
      "min_width": null,
      "object_fit": null,
      "object_position": null,
      "order": null,
      "overflow": null,
      "overflow_x": null,
      "overflow_y": null,
      "padding": null,
      "right": null,
      "top": null,
      "visibility": null,
      "width": null
     }
    },
    "8de61b4888cf4380906a177d093a0846": {
     "model_module": "@jupyter-widgets/controls",
     "model_module_version": "1.5.0",
     "model_name": "ProgressStyleModel",
     "state": {
      "_model_module": "@jupyter-widgets/controls",
      "_model_module_version": "1.5.0",
      "_model_name": "ProgressStyleModel",
      "_view_count": null,
      "_view_module": "@jupyter-widgets/base",
      "_view_module_version": "1.2.0",
      "_view_name": "StyleView",
      "bar_color": null,
      "description_width": ""
     }
    },
    "971dc2f1d0274f2b88f1b12cfbe0f9cc": {
     "model_module": "@jupyter-widgets/base",
     "model_module_version": "1.2.0",
     "model_name": "LayoutModel",
     "state": {
      "_model_module": "@jupyter-widgets/base",
      "_model_module_version": "1.2.0",
      "_model_name": "LayoutModel",
      "_view_count": null,
      "_view_module": "@jupyter-widgets/base",
      "_view_module_version": "1.2.0",
      "_view_name": "LayoutView",
      "align_content": null,
      "align_items": null,
      "align_self": null,
      "border": null,
      "bottom": null,
      "display": null,
      "flex": null,
      "flex_flow": null,
      "grid_area": null,
      "grid_auto_columns": null,
      "grid_auto_flow": null,
      "grid_auto_rows": null,
      "grid_column": null,
      "grid_gap": null,
      "grid_row": null,
      "grid_template_areas": null,
      "grid_template_columns": null,
      "grid_template_rows": null,
      "height": null,
      "justify_content": null,
      "justify_items": null,
      "left": null,
      "margin": null,
      "max_height": null,
      "max_width": null,
      "min_height": null,
      "min_width": null,
      "object_fit": null,
      "object_position": null,
      "order": null,
      "overflow": null,
      "overflow_x": null,
      "overflow_y": null,
      "padding": null,
      "right": null,
      "top": null,
      "visibility": null,
      "width": null
     }
    },
    "9b1760c6d7a44a88a6711157ef713da9": {
     "model_module": "@jupyter-widgets/controls",
     "model_module_version": "1.5.0",
     "model_name": "HTMLModel",
     "state": {
      "_dom_classes": [],
      "_model_module": "@jupyter-widgets/controls",
      "_model_module_version": "1.5.0",
      "_model_name": "HTMLModel",
      "_view_count": null,
      "_view_module": "@jupyter-widgets/controls",
      "_view_module_version": "1.5.0",
      "_view_name": "HTMLView",
      "description": "",
      "description_tooltip": null,
      "layout": "IPY_MODEL_a4510ff62e3b419a9d98057bdd1caeeb",
      "placeholder": "​",
      "style": "IPY_MODEL_7a437d68ef3e4203bcced9c806157516",
      "value": " 4775/0 [00:00&lt;00:00, 7498.59 examples/s]"
     }
    },
    "9f09e081ec924a5ca640a944f87d4e3a": {
     "model_module": "@jupyter-widgets/controls",
     "model_module_version": "1.5.0",
     "model_name": "FloatProgressModel",
     "state": {
      "_dom_classes": [],
      "_model_module": "@jupyter-widgets/controls",
      "_model_module_version": "1.5.0",
      "_model_name": "FloatProgressModel",
      "_view_count": null,
      "_view_module": "@jupyter-widgets/controls",
      "_view_module_version": "1.5.0",
      "_view_name": "ProgressView",
      "bar_style": "danger",
      "description": "",
      "description_tooltip": null,
      "layout": "IPY_MODEL_bb49c21b85d5402f8674f17e266363d7",
      "max": 1,
      "min": 0,
      "orientation": "horizontal",
      "style": "IPY_MODEL_84afd01699a84dba8a3a3518ff1ae5f1",
      "value": 1
     }
    },
    "9f162990795c4d8d83bea00ddf3751d7": {
     "model_module": "@jupyter-widgets/controls",
     "model_module_version": "1.5.0",
     "model_name": "DescriptionStyleModel",
     "state": {
      "_model_module": "@jupyter-widgets/controls",
      "_model_module_version": "1.5.0",
      "_model_name": "DescriptionStyleModel",
      "_view_count": null,
      "_view_module": "@jupyter-widgets/base",
      "_view_module_version": "1.2.0",
      "_view_name": "StyleView",
      "description_width": ""
     }
    },
    "a4510ff62e3b419a9d98057bdd1caeeb": {
     "model_module": "@jupyter-widgets/base",
     "model_module_version": "1.2.0",
     "model_name": "LayoutModel",
     "state": {
      "_model_module": "@jupyter-widgets/base",
      "_model_module_version": "1.2.0",
      "_model_name": "LayoutModel",
      "_view_count": null,
      "_view_module": "@jupyter-widgets/base",
      "_view_module_version": "1.2.0",
      "_view_name": "LayoutView",
      "align_content": null,
      "align_items": null,
      "align_self": null,
      "border": null,
      "bottom": null,
      "display": null,
      "flex": null,
      "flex_flow": null,
      "grid_area": null,
      "grid_auto_columns": null,
      "grid_auto_flow": null,
      "grid_auto_rows": null,
      "grid_column": null,
      "grid_gap": null,
      "grid_row": null,
      "grid_template_areas": null,
      "grid_template_columns": null,
      "grid_template_rows": null,
      "height": null,
      "justify_content": null,
      "justify_items": null,
      "left": null,
      "margin": null,
      "max_height": null,
      "max_width": null,
      "min_height": null,
      "min_width": null,
      "object_fit": null,
      "object_position": null,
      "order": null,
      "overflow": null,
      "overflow_x": null,
      "overflow_y": null,
      "padding": null,
      "right": null,
      "top": null,
      "visibility": null,
      "width": null
     }
    },
    "a54f2d92561e40f583adeb6c114e9a0b": {
     "model_module": "@jupyter-widgets/base",
     "model_module_version": "1.2.0",
     "model_name": "LayoutModel",
     "state": {
      "_model_module": "@jupyter-widgets/base",
      "_model_module_version": "1.2.0",
      "_model_name": "LayoutModel",
      "_view_count": null,
      "_view_module": "@jupyter-widgets/base",
      "_view_module_version": "1.2.0",
      "_view_name": "LayoutView",
      "align_content": null,
      "align_items": null,
      "align_self": null,
      "border": null,
      "bottom": null,
      "display": null,
      "flex": null,
      "flex_flow": null,
      "grid_area": null,
      "grid_auto_columns": null,
      "grid_auto_flow": null,
      "grid_auto_rows": null,
      "grid_column": null,
      "grid_gap": null,
      "grid_row": null,
      "grid_template_areas": null,
      "grid_template_columns": null,
      "grid_template_rows": null,
      "height": null,
      "justify_content": null,
      "justify_items": null,
      "left": null,
      "margin": null,
      "max_height": null,
      "max_width": null,
      "min_height": null,
      "min_width": null,
      "object_fit": null,
      "object_position": null,
      "order": null,
      "overflow": null,
      "overflow_x": null,
      "overflow_y": null,
      "padding": null,
      "right": null,
      "top": null,
      "visibility": null,
      "width": null
     }
    },
    "a6e47b21f3c4424ca8b99d2b1a37e91f": {
     "model_module": "@jupyter-widgets/base",
     "model_module_version": "1.2.0",
     "model_name": "LayoutModel",
     "state": {
      "_model_module": "@jupyter-widgets/base",
      "_model_module_version": "1.2.0",
      "_model_name": "LayoutModel",
      "_view_count": null,
      "_view_module": "@jupyter-widgets/base",
      "_view_module_version": "1.2.0",
      "_view_name": "LayoutView",
      "align_content": null,
      "align_items": null,
      "align_self": null,
      "border": null,
      "bottom": null,
      "display": null,
      "flex": null,
      "flex_flow": null,
      "grid_area": null,
      "grid_auto_columns": null,
      "grid_auto_flow": null,
      "grid_auto_rows": null,
      "grid_column": null,
      "grid_gap": null,
      "grid_row": null,
      "grid_template_areas": null,
      "grid_template_columns": null,
      "grid_template_rows": null,
      "height": null,
      "justify_content": null,
      "justify_items": null,
      "left": null,
      "margin": null,
      "max_height": null,
      "max_width": null,
      "min_height": null,
      "min_width": null,
      "object_fit": null,
      "object_position": null,
      "order": null,
      "overflow": null,
      "overflow_x": null,
      "overflow_y": null,
      "padding": null,
      "right": null,
      "top": null,
      "visibility": null,
      "width": null
     }
    },
    "a739cea8270d4297a90b6c5fb3756250": {
     "model_module": "@jupyter-widgets/controls",
     "model_module_version": "1.5.0",
     "model_name": "ProgressStyleModel",
     "state": {
      "_model_module": "@jupyter-widgets/controls",
      "_model_module_version": "1.5.0",
      "_model_name": "ProgressStyleModel",
      "_view_count": null,
      "_view_module": "@jupyter-widgets/base",
      "_view_module_version": "1.2.0",
      "_view_name": "StyleView",
      "bar_color": null,
      "description_width": ""
     }
    },
    "a80180c77bb947aeb231e9c777688254": {
     "model_module": "@jupyter-widgets/controls",
     "model_module_version": "1.5.0",
     "model_name": "HBoxModel",
     "state": {
      "_dom_classes": [],
      "_model_module": "@jupyter-widgets/controls",
      "_model_module_version": "1.5.0",
      "_model_name": "HBoxModel",
      "_view_count": null,
      "_view_module": "@jupyter-widgets/controls",
      "_view_module_version": "1.5.0",
      "_view_name": "HBoxView",
      "box_style": "",
      "children": [
       "IPY_MODEL_d0569f51ba4046fc83b878dcb0d71888",
       "IPY_MODEL_eca671d9727f4a5084f4d9e35999b569",
       "IPY_MODEL_04514c2ea22f497c8bf7490f70f62e1b"
      ],
      "layout": "IPY_MODEL_a929b93438c54e068326e4f621c92d40"
     }
    },
    "a929b93438c54e068326e4f621c92d40": {
     "model_module": "@jupyter-widgets/base",
     "model_module_version": "1.2.0",
     "model_name": "LayoutModel",
     "state": {
      "_model_module": "@jupyter-widgets/base",
      "_model_module_version": "1.2.0",
      "_model_name": "LayoutModel",
      "_view_count": null,
      "_view_module": "@jupyter-widgets/base",
      "_view_module_version": "1.2.0",
      "_view_name": "LayoutView",
      "align_content": null,
      "align_items": null,
      "align_self": null,
      "border": null,
      "bottom": null,
      "display": null,
      "flex": null,
      "flex_flow": null,
      "grid_area": null,
      "grid_auto_columns": null,
      "grid_auto_flow": null,
      "grid_auto_rows": null,
      "grid_column": null,
      "grid_gap": null,
      "grid_row": null,
      "grid_template_areas": null,
      "grid_template_columns": null,
      "grid_template_rows": null,
      "height": null,
      "justify_content": null,
      "justify_items": null,
      "left": null,
      "margin": null,
      "max_height": null,
      "max_width": null,
      "min_height": null,
      "min_width": null,
      "object_fit": null,
      "object_position": null,
      "order": null,
      "overflow": null,
      "overflow_x": null,
      "overflow_y": null,
      "padding": null,
      "right": null,
      "top": null,
      "visibility": null,
      "width": null
     }
    },
    "ab446a91c8384db482dc2cae4587ebc1": {
     "model_module": "@jupyter-widgets/base",
     "model_module_version": "1.2.0",
     "model_name": "LayoutModel",
     "state": {
      "_model_module": "@jupyter-widgets/base",
      "_model_module_version": "1.2.0",
      "_model_name": "LayoutModel",
      "_view_count": null,
      "_view_module": "@jupyter-widgets/base",
      "_view_module_version": "1.2.0",
      "_view_name": "LayoutView",
      "align_content": null,
      "align_items": null,
      "align_self": null,
      "border": null,
      "bottom": null,
      "display": null,
      "flex": null,
      "flex_flow": null,
      "grid_area": null,
      "grid_auto_columns": null,
      "grid_auto_flow": null,
      "grid_auto_rows": null,
      "grid_column": null,
      "grid_gap": null,
      "grid_row": null,
      "grid_template_areas": null,
      "grid_template_columns": null,
      "grid_template_rows": null,
      "height": null,
      "justify_content": null,
      "justify_items": null,
      "left": null,
      "margin": null,
      "max_height": null,
      "max_width": null,
      "min_height": null,
      "min_width": null,
      "object_fit": null,
      "object_position": null,
      "order": null,
      "overflow": null,
      "overflow_x": null,
      "overflow_y": null,
      "padding": null,
      "right": null,
      "top": null,
      "visibility": null,
      "width": null
     }
    },
    "ad0b1339ea514cd0a0d86591c735fc57": {
     "model_module": "@jupyter-widgets/controls",
     "model_module_version": "1.5.0",
     "model_name": "HTMLModel",
     "state": {
      "_dom_classes": [],
      "_model_module": "@jupyter-widgets/controls",
      "_model_module_version": "1.5.0",
      "_model_name": "HTMLModel",
      "_view_count": null,
      "_view_module": "@jupyter-widgets/controls",
      "_view_module_version": "1.5.0",
      "_view_name": "HTMLView",
      "description": "",
      "description_tooltip": null,
      "layout": "IPY_MODEL_f11064cd4ea7473ab487f01a99c9fd56",
      "placeholder": "​",
      "style": "IPY_MODEL_59ee36ba22024b2099b77628ce47bdbe",
      "value": "Downloading: 100%"
     }
    },
    "ad4db573e8c340bc8c866361ae18226d": {
     "model_module": "@jupyter-widgets/controls",
     "model_module_version": "1.5.0",
     "model_name": "DescriptionStyleModel",
     "state": {
      "_model_module": "@jupyter-widgets/controls",
      "_model_module_version": "1.5.0",
      "_model_name": "DescriptionStyleModel",
      "_view_count": null,
      "_view_module": "@jupyter-widgets/base",
      "_view_module_version": "1.2.0",
      "_view_name": "StyleView",
      "description_width": ""
     }
    },
    "b25dcd717dd8430391db91a7a1d40767": {
     "model_module": "@jupyter-widgets/controls",
     "model_module_version": "1.5.0",
     "model_name": "DescriptionStyleModel",
     "state": {
      "_model_module": "@jupyter-widgets/controls",
      "_model_module_version": "1.5.0",
      "_model_name": "DescriptionStyleModel",
      "_view_count": null,
      "_view_module": "@jupyter-widgets/base",
      "_view_module_version": "1.2.0",
      "_view_name": "StyleView",
      "description_width": ""
     }
    },
    "b3fa7284ef184de2907657a4f9d2c1c2": {
     "model_module": "@jupyter-widgets/base",
     "model_module_version": "1.2.0",
     "model_name": "LayoutModel",
     "state": {
      "_model_module": "@jupyter-widgets/base",
      "_model_module_version": "1.2.0",
      "_model_name": "LayoutModel",
      "_view_count": null,
      "_view_module": "@jupyter-widgets/base",
      "_view_module_version": "1.2.0",
      "_view_name": "LayoutView",
      "align_content": null,
      "align_items": null,
      "align_self": null,
      "border": null,
      "bottom": null,
      "display": null,
      "flex": null,
      "flex_flow": null,
      "grid_area": null,
      "grid_auto_columns": null,
      "grid_auto_flow": null,
      "grid_auto_rows": null,
      "grid_column": null,
      "grid_gap": null,
      "grid_row": null,
      "grid_template_areas": null,
      "grid_template_columns": null,
      "grid_template_rows": null,
      "height": null,
      "justify_content": null,
      "justify_items": null,
      "left": null,
      "margin": null,
      "max_height": null,
      "max_width": null,
      "min_height": null,
      "min_width": null,
      "object_fit": null,
      "object_position": null,
      "order": null,
      "overflow": null,
      "overflow_x": null,
      "overflow_y": null,
      "padding": null,
      "right": null,
      "top": null,
      "visibility": null,
      "width": null
     }
    },
    "b80ab530a06c49e9a277e6c22d6e3f01": {
     "model_module": "@jupyter-widgets/controls",
     "model_module_version": "1.5.0",
     "model_name": "ProgressStyleModel",
     "state": {
      "_model_module": "@jupyter-widgets/controls",
      "_model_module_version": "1.5.0",
      "_model_name": "ProgressStyleModel",
      "_view_count": null,
      "_view_module": "@jupyter-widgets/base",
      "_view_module_version": "1.2.0",
      "_view_name": "StyleView",
      "bar_color": null,
      "description_width": "initial"
     }
    },
    "b9b60b57ee744f38b553f0dbc3b5c7bb": {
     "model_module": "@jupyter-widgets/controls",
     "model_module_version": "1.5.0",
     "model_name": "HTMLModel",
     "state": {
      "_dom_classes": [],
      "_model_module": "@jupyter-widgets/controls",
      "_model_module_version": "1.5.0",
      "_model_name": "HTMLModel",
      "_view_count": null,
      "_view_module": "@jupyter-widgets/controls",
      "_view_module_version": "1.5.0",
      "_view_name": "HTMLView",
      "description": "",
      "description_tooltip": null,
      "layout": "IPY_MODEL_43d743fdbd424774894698d927826623",
      "placeholder": "​",
      "style": "IPY_MODEL_cc7a37e9b0db4531bcbd3a3b7c4c6e03",
      "value": "100%"
     }
    },
    "ba66d08c3620469ab40f4e0716c66139": {
     "model_module": "@jupyter-widgets/controls",
     "model_module_version": "1.5.0",
     "model_name": "HTMLModel",
     "state": {
      "_dom_classes": [],
      "_model_module": "@jupyter-widgets/controls",
      "_model_module_version": "1.5.0",
      "_model_name": "HTMLModel",
      "_view_count": null,
      "_view_module": "@jupyter-widgets/controls",
      "_view_module_version": "1.5.0",
      "_view_name": "HTMLView",
      "description": "",
      "description_tooltip": null,
      "layout": "IPY_MODEL_88697a3aef9a46a3ac58e53cde409abe",
      "placeholder": "​",
      "style": "IPY_MODEL_7aef6c7d8d884835ab000bf2c4b85e68",
      "value": "Downloading: 100%"
     }
    },
    "bab678c4243b42239a09604fcbfb4872": {
     "model_module": "@jupyter-widgets/controls",
     "model_module_version": "1.5.0",
     "model_name": "FloatProgressModel",
     "state": {
      "_dom_classes": [],
      "_model_module": "@jupyter-widgets/controls",
      "_model_module_version": "1.5.0",
      "_model_name": "FloatProgressModel",
      "_view_count": null,
      "_view_module": "@jupyter-widgets/controls",
      "_view_module_version": "1.5.0",
      "_view_name": "ProgressView",
      "bar_style": "success",
      "description": "",
      "description_tooltip": null,
      "layout": "IPY_MODEL_24dd39e63d854f1d97f4942491c0001f",
      "max": 470816510,
      "min": 0,
      "orientation": "horizontal",
      "style": "IPY_MODEL_d253016d12e64f6bba8bc435b0a92f1e",
      "value": 470816510
     }
    },
    "bb49c21b85d5402f8674f17e266363d7": {
     "model_module": "@jupyter-widgets/base",
     "model_module_version": "1.2.0",
     "model_name": "LayoutModel",
     "state": {
      "_model_module": "@jupyter-widgets/base",
      "_model_module_version": "1.2.0",
      "_model_name": "LayoutModel",
      "_view_count": null,
      "_view_module": "@jupyter-widgets/base",
      "_view_module_version": "1.2.0",
      "_view_name": "LayoutView",
      "align_content": null,
      "align_items": null,
      "align_self": null,
      "border": null,
      "bottom": null,
      "display": null,
      "flex": null,
      "flex_flow": null,
      "grid_area": null,
      "grid_auto_columns": null,
      "grid_auto_flow": null,
      "grid_auto_rows": null,
      "grid_column": null,
      "grid_gap": null,
      "grid_row": null,
      "grid_template_areas": null,
      "grid_template_columns": null,
      "grid_template_rows": null,
      "height": null,
      "justify_content": null,
      "justify_items": null,
      "left": null,
      "margin": null,
      "max_height": null,
      "max_width": null,
      "min_height": null,
      "min_width": null,
      "object_fit": null,
      "object_position": null,
      "order": null,
      "overflow": null,
      "overflow_x": null,
      "overflow_y": null,
      "padding": null,
      "right": null,
      "top": null,
      "visibility": null,
      "width": null
     }
    },
    "bc91c8d929b24c8d9eadf2f7cf6e5cda": {
     "model_module": "@jupyter-widgets/base",
     "model_module_version": "1.2.0",
     "model_name": "LayoutModel",
     "state": {
      "_model_module": "@jupyter-widgets/base",
      "_model_module_version": "1.2.0",
      "_model_name": "LayoutModel",
      "_view_count": null,
      "_view_module": "@jupyter-widgets/base",
      "_view_module_version": "1.2.0",
      "_view_name": "LayoutView",
      "align_content": null,
      "align_items": null,
      "align_self": null,
      "border": null,
      "bottom": null,
      "display": null,
      "flex": null,
      "flex_flow": null,
      "grid_area": null,
      "grid_auto_columns": null,
      "grid_auto_flow": null,
      "grid_auto_rows": null,
      "grid_column": null,
      "grid_gap": null,
      "grid_row": null,
      "grid_template_areas": null,
      "grid_template_columns": null,
      "grid_template_rows": null,
      "height": null,
      "justify_content": null,
      "justify_items": null,
      "left": null,
      "margin": null,
      "max_height": null,
      "max_width": null,
      "min_height": null,
      "min_width": null,
      "object_fit": null,
      "object_position": null,
      "order": null,
      "overflow": null,
      "overflow_x": null,
      "overflow_y": null,
      "padding": null,
      "right": null,
      "top": null,
      "visibility": null,
      "width": null
     }
    },
    "be7b99eb79914c078d4795009e5edd89": {
     "model_module": "@jupyter-widgets/base",
     "model_module_version": "1.2.0",
     "model_name": "LayoutModel",
     "state": {
      "_model_module": "@jupyter-widgets/base",
      "_model_module_version": "1.2.0",
      "_model_name": "LayoutModel",
      "_view_count": null,
      "_view_module": "@jupyter-widgets/base",
      "_view_module_version": "1.2.0",
      "_view_name": "LayoutView",
      "align_content": null,
      "align_items": null,
      "align_self": null,
      "border": null,
      "bottom": null,
      "display": null,
      "flex": null,
      "flex_flow": null,
      "grid_area": null,
      "grid_auto_columns": null,
      "grid_auto_flow": null,
      "grid_auto_rows": null,
      "grid_column": null,
      "grid_gap": null,
      "grid_row": null,
      "grid_template_areas": null,
      "grid_template_columns": null,
      "grid_template_rows": null,
      "height": null,
      "justify_content": null,
      "justify_items": null,
      "left": null,
      "margin": null,
      "max_height": null,
      "max_width": null,
      "min_height": null,
      "min_width": null,
      "object_fit": null,
      "object_position": null,
      "order": null,
      "overflow": null,
      "overflow_x": null,
      "overflow_y": null,
      "padding": null,
      "right": null,
      "top": null,
      "visibility": null,
      "width": null
     }
    },
    "befeb590b3fb463f849ac6147263bd20": {
     "model_module": "@jupyter-widgets/controls",
     "model_module_version": "1.5.0",
     "model_name": "HTMLModel",
     "state": {
      "_dom_classes": [],
      "_model_module": "@jupyter-widgets/controls",
      "_model_module_version": "1.5.0",
      "_model_name": "HTMLModel",
      "_view_count": null,
      "_view_module": "@jupyter-widgets/controls",
      "_view_module_version": "1.5.0",
      "_view_name": "HTMLView",
      "description": "",
      "description_tooltip": null,
      "layout": "IPY_MODEL_5c5e7c936b0b44df8a1a067968cf513a",
      "placeholder": "​",
      "style": "IPY_MODEL_4f357f17f9244ac6b438f1869619791a",
      "value": " 48.6M/48.6M [00:01&lt;00:00, 36.0MB/s]"
     }
    },
    "bf922be716334bafa4f311786b4da1f6": {
     "model_module": "@jupyter-widgets/base",
     "model_module_version": "1.2.0",
     "model_name": "LayoutModel",
     "state": {
      "_model_module": "@jupyter-widgets/base",
      "_model_module_version": "1.2.0",
      "_model_name": "LayoutModel",
      "_view_count": null,
      "_view_module": "@jupyter-widgets/base",
      "_view_module_version": "1.2.0",
      "_view_name": "LayoutView",
      "align_content": null,
      "align_items": null,
      "align_self": null,
      "border": null,
      "bottom": null,
      "display": null,
      "flex": null,
      "flex_flow": null,
      "grid_area": null,
      "grid_auto_columns": null,
      "grid_auto_flow": null,
      "grid_auto_rows": null,
      "grid_column": null,
      "grid_gap": null,
      "grid_row": null,
      "grid_template_areas": null,
      "grid_template_columns": null,
      "grid_template_rows": null,
      "height": null,
      "justify_content": null,
      "justify_items": null,
      "left": null,
      "margin": null,
      "max_height": null,
      "max_width": null,
      "min_height": null,
      "min_width": null,
      "object_fit": null,
      "object_position": null,
      "order": null,
      "overflow": null,
      "overflow_x": null,
      "overflow_y": null,
      "padding": null,
      "right": null,
      "top": null,
      "visibility": null,
      "width": null
     }
    },
    "c384cbc65a564e4a82c7655e29767060": {
     "model_module": "@jupyter-widgets/controls",
     "model_module_version": "1.5.0",
     "model_name": "ProgressStyleModel",
     "state": {
      "_model_module": "@jupyter-widgets/controls",
      "_model_module_version": "1.5.0",
      "_model_name": "ProgressStyleModel",
      "_view_count": null,
      "_view_module": "@jupyter-widgets/base",
      "_view_module_version": "1.2.0",
      "_view_name": "StyleView",
      "bar_color": null,
      "description_width": ""
     }
    },
    "c42d8840df8b460583212c381750f92b": {
     "model_module": "@jupyter-widgets/controls",
     "model_module_version": "1.5.0",
     "model_name": "HBoxModel",
     "state": {
      "_dom_classes": [],
      "_model_module": "@jupyter-widgets/controls",
      "_model_module_version": "1.5.0",
      "_model_name": "HBoxModel",
      "_view_count": null,
      "_view_module": "@jupyter-widgets/controls",
      "_view_module_version": "1.5.0",
      "_view_name": "HBoxView",
      "box_style": "",
      "children": [
       "IPY_MODEL_c8efedac24b74dc7992af313cd73a864",
       "IPY_MODEL_7a39e968155d43deaf621db28383be6d",
       "IPY_MODEL_12d4a0ce0a3544b189b3d3a1e3a7eaca"
      ],
      "layout": "IPY_MODEL_be7b99eb79914c078d4795009e5edd89"
     }
    },
    "c4fac858744a4a35940cd775927c7bc2": {
     "model_module": "@jupyter-widgets/base",
     "model_module_version": "1.2.0",
     "model_name": "LayoutModel",
     "state": {
      "_model_module": "@jupyter-widgets/base",
      "_model_module_version": "1.2.0",
      "_model_name": "LayoutModel",
      "_view_count": null,
      "_view_module": "@jupyter-widgets/base",
      "_view_module_version": "1.2.0",
      "_view_name": "LayoutView",
      "align_content": null,
      "align_items": null,
      "align_self": null,
      "border": null,
      "bottom": null,
      "display": null,
      "flex": null,
      "flex_flow": null,
      "grid_area": null,
      "grid_auto_columns": null,
      "grid_auto_flow": null,
      "grid_auto_rows": null,
      "grid_column": null,
      "grid_gap": null,
      "grid_row": null,
      "grid_template_areas": null,
      "grid_template_columns": null,
      "grid_template_rows": null,
      "height": null,
      "justify_content": null,
      "justify_items": null,
      "left": null,
      "margin": null,
      "max_height": null,
      "max_width": null,
      "min_height": null,
      "min_width": null,
      "object_fit": null,
      "object_position": null,
      "order": null,
      "overflow": null,
      "overflow_x": null,
      "overflow_y": null,
      "padding": null,
      "right": null,
      "top": null,
      "visibility": null,
      "width": null
     }
    },
    "c66ee7c49b744611b40e0513437a31f0": {
     "model_module": "@jupyter-widgets/controls",
     "model_module_version": "1.5.0",
     "model_name": "FloatProgressModel",
     "state": {
      "_dom_classes": [],
      "_model_module": "@jupyter-widgets/controls",
      "_model_module_version": "1.5.0",
      "_model_name": "FloatProgressModel",
      "_view_count": null,
      "_view_module": "@jupyter-widgets/controls",
      "_view_module_version": "1.5.0",
      "_view_name": "ProgressView",
      "bar_style": "info",
      "description": "",
      "description_tooltip": null,
      "layout": "IPY_MODEL_14172cc75c3e4b37b32bb44aad8bb039",
      "max": 1,
      "min": 0,
      "orientation": "horizontal",
      "style": "IPY_MODEL_48022a4a7f304df6b04cc791c25f2a81",
      "value": 1
     }
    },
    "c876d5b54a564fa9925bb90e6c450206": {
     "model_module": "@jupyter-widgets/controls",
     "model_module_version": "1.5.0",
     "model_name": "HBoxModel",
     "state": {
      "_dom_classes": [],
      "_model_module": "@jupyter-widgets/controls",
      "_model_module_version": "1.5.0",
      "_model_name": "HBoxModel",
      "_view_count": null,
      "_view_module": "@jupyter-widgets/controls",
      "_view_module_version": "1.5.0",
      "_view_name": "HBoxView",
      "box_style": "",
      "children": [
       "IPY_MODEL_061882c62efa4307b5b7818a86128fe9",
       "IPY_MODEL_e15f5b1fa4d349e08595ead19f3a6384",
       "IPY_MODEL_befeb590b3fb463f849ac6147263bd20"
      ],
      "layout": "IPY_MODEL_5853f7f825164226b04f1a0c7b53c602"
     }
    },
    "c8efedac24b74dc7992af313cd73a864": {
     "model_module": "@jupyter-widgets/controls",
     "model_module_version": "1.5.0",
     "model_name": "HTMLModel",
     "state": {
      "_dom_classes": [],
      "_model_module": "@jupyter-widgets/controls",
      "_model_module_version": "1.5.0",
      "_model_name": "HTMLModel",
      "_view_count": null,
      "_view_module": "@jupyter-widgets/controls",
      "_view_module_version": "1.5.0",
      "_view_name": "HTMLView",
      "description": "",
      "description_tooltip": null,
      "layout": "IPY_MODEL_971dc2f1d0274f2b88f1b12cfbe0f9cc",
      "placeholder": "​",
      "style": "IPY_MODEL_3a96f869934c402389268a2e0efee036",
      "value": "Downloading: 100%"
     }
    },
    "cc7a37e9b0db4531bcbd3a3b7c4c6e03": {
     "model_module": "@jupyter-widgets/controls",
     "model_module_version": "1.5.0",
     "model_name": "DescriptionStyleModel",
     "state": {
      "_model_module": "@jupyter-widgets/controls",
      "_model_module_version": "1.5.0",
      "_model_name": "DescriptionStyleModel",
      "_view_count": null,
      "_view_module": "@jupyter-widgets/base",
      "_view_module_version": "1.2.0",
      "_view_name": "StyleView",
      "description_width": ""
     }
    },
    "ce93cf6f1a2f4147a8c009467ace33a6": {
     "model_module": "@jupyter-widgets/controls",
     "model_module_version": "1.5.0",
     "model_name": "HBoxModel",
     "state": {
      "_dom_classes": [],
      "_model_module": "@jupyter-widgets/controls",
      "_model_module_version": "1.5.0",
      "_model_name": "HBoxModel",
      "_view_count": null,
      "_view_module": "@jupyter-widgets/controls",
      "_view_module_version": "1.5.0",
      "_view_name": "HBoxView",
      "box_style": "",
      "children": [
       "IPY_MODEL_85993ef3dccc412585cdb4acdbc8481e",
       "IPY_MODEL_35847a13383d4005935baee615575335"
      ],
      "layout": "IPY_MODEL_360b7de64ad347e38a4c0ef1eb06561a"
     }
    },
    "cfe67d676aff4ccbaeee847c5634a6e0": {
     "model_module": "@jupyter-widgets/base",
     "model_module_version": "1.2.0",
     "model_name": "LayoutModel",
     "state": {
      "_model_module": "@jupyter-widgets/base",
      "_model_module_version": "1.2.0",
      "_model_name": "LayoutModel",
      "_view_count": null,
      "_view_module": "@jupyter-widgets/base",
      "_view_module_version": "1.2.0",
      "_view_name": "LayoutView",
      "align_content": null,
      "align_items": null,
      "align_self": null,
      "border": null,
      "bottom": null,
      "display": null,
      "flex": null,
      "flex_flow": null,
      "grid_area": null,
      "grid_auto_columns": null,
      "grid_auto_flow": null,
      "grid_auto_rows": null,
      "grid_column": null,
      "grid_gap": null,
      "grid_row": null,
      "grid_template_areas": null,
      "grid_template_columns": null,
      "grid_template_rows": null,
      "height": null,
      "justify_content": null,
      "justify_items": null,
      "left": null,
      "margin": null,
      "max_height": null,
      "max_width": null,
      "min_height": null,
      "min_width": null,
      "object_fit": null,
      "object_position": null,
      "order": null,
      "overflow": null,
      "overflow_x": null,
      "overflow_y": null,
      "padding": null,
      "right": null,
      "top": null,
      "visibility": null,
      "width": null
     }
    },
    "cfe88785d28743859067b37ec6208cb8": {
     "model_module": "@jupyter-widgets/controls",
     "model_module_version": "1.5.0",
     "model_name": "DescriptionStyleModel",
     "state": {
      "_model_module": "@jupyter-widgets/controls",
      "_model_module_version": "1.5.0",
      "_model_name": "DescriptionStyleModel",
      "_view_count": null,
      "_view_module": "@jupyter-widgets/base",
      "_view_module_version": "1.2.0",
      "_view_name": "StyleView",
      "description_width": ""
     }
    },
    "d0569f51ba4046fc83b878dcb0d71888": {
     "model_module": "@jupyter-widgets/controls",
     "model_module_version": "1.5.0",
     "model_name": "HTMLModel",
     "state": {
      "_dom_classes": [],
      "_model_module": "@jupyter-widgets/controls",
      "_model_module_version": "1.5.0",
      "_model_name": "HTMLModel",
      "_view_count": null,
      "_view_module": "@jupyter-widgets/controls",
      "_view_module_version": "1.5.0",
      "_view_name": "HTMLView",
      "description": "",
      "description_tooltip": null,
      "layout": "IPY_MODEL_413114a67751481489a3b54239c3db64",
      "placeholder": "​",
      "style": "IPY_MODEL_8a53b4a17e3c4327a52ea0f894811456",
      "value": "100%"
     }
    },
    "d253016d12e64f6bba8bc435b0a92f1e": {
     "model_module": "@jupyter-widgets/controls",
     "model_module_version": "1.5.0",
     "model_name": "ProgressStyleModel",
     "state": {
      "_model_module": "@jupyter-widgets/controls",
      "_model_module_version": "1.5.0",
      "_model_name": "ProgressStyleModel",
      "_view_count": null,
      "_view_module": "@jupyter-widgets/base",
      "_view_module_version": "1.2.0",
      "_view_name": "StyleView",
      "bar_color": null,
      "description_width": ""
     }
    },
    "d2e746b614104768ae8618bc009fb7b8": {
     "model_module": "@jupyter-widgets/controls",
     "model_module_version": "1.5.0",
     "model_name": "DescriptionStyleModel",
     "state": {
      "_model_module": "@jupyter-widgets/controls",
      "_model_module_version": "1.5.0",
      "_model_name": "DescriptionStyleModel",
      "_view_count": null,
      "_view_module": "@jupyter-widgets/base",
      "_view_module_version": "1.2.0",
      "_view_name": "StyleView",
      "description_width": ""
     }
    },
    "d2e969eb7c4b44cf8c925eba8251521c": {
     "model_module": "@jupyter-widgets/base",
     "model_module_version": "1.2.0",
     "model_name": "LayoutModel",
     "state": {
      "_model_module": "@jupyter-widgets/base",
      "_model_module_version": "1.2.0",
      "_model_name": "LayoutModel",
      "_view_count": null,
      "_view_module": "@jupyter-widgets/base",
      "_view_module_version": "1.2.0",
      "_view_name": "LayoutView",
      "align_content": null,
      "align_items": null,
      "align_self": null,
      "border": null,
      "bottom": null,
      "display": null,
      "flex": null,
      "flex_flow": null,
      "grid_area": null,
      "grid_auto_columns": null,
      "grid_auto_flow": null,
      "grid_auto_rows": null,
      "grid_column": null,
      "grid_gap": null,
      "grid_row": null,
      "grid_template_areas": null,
      "grid_template_columns": null,
      "grid_template_rows": null,
      "height": null,
      "justify_content": null,
      "justify_items": null,
      "left": null,
      "margin": null,
      "max_height": null,
      "max_width": null,
      "min_height": null,
      "min_width": null,
      "object_fit": null,
      "object_position": null,
      "order": null,
      "overflow": null,
      "overflow_x": null,
      "overflow_y": null,
      "padding": null,
      "right": null,
      "top": null,
      "visibility": null,
      "width": null
     }
    },
    "d3d4025630114f90baa42b3f5a2af410": {
     "model_module": "@jupyter-widgets/controls",
     "model_module_version": "1.5.0",
     "model_name": "ProgressStyleModel",
     "state": {
      "_model_module": "@jupyter-widgets/controls",
      "_model_module_version": "1.5.0",
      "_model_name": "ProgressStyleModel",
      "_view_count": null,
      "_view_module": "@jupyter-widgets/base",
      "_view_module_version": "1.2.0",
      "_view_name": "StyleView",
      "bar_color": null,
      "description_width": ""
     }
    },
    "d4cc7b161dde4b709dfd178cc2a37618": {
     "model_module": "@jupyter-widgets/base",
     "model_module_version": "1.2.0",
     "model_name": "LayoutModel",
     "state": {
      "_model_module": "@jupyter-widgets/base",
      "_model_module_version": "1.2.0",
      "_model_name": "LayoutModel",
      "_view_count": null,
      "_view_module": "@jupyter-widgets/base",
      "_view_module_version": "1.2.0",
      "_view_name": "LayoutView",
      "align_content": null,
      "align_items": null,
      "align_self": null,
      "border": null,
      "bottom": null,
      "display": null,
      "flex": null,
      "flex_flow": null,
      "grid_area": null,
      "grid_auto_columns": null,
      "grid_auto_flow": null,
      "grid_auto_rows": null,
      "grid_column": null,
      "grid_gap": null,
      "grid_row": null,
      "grid_template_areas": null,
      "grid_template_columns": null,
      "grid_template_rows": null,
      "height": null,
      "justify_content": null,
      "justify_items": null,
      "left": null,
      "margin": null,
      "max_height": null,
      "max_width": null,
      "min_height": null,
      "min_width": null,
      "object_fit": null,
      "object_position": null,
      "order": null,
      "overflow": null,
      "overflow_x": null,
      "overflow_y": null,
      "padding": null,
      "right": null,
      "top": null,
      "visibility": null,
      "width": null
     }
    },
    "d521f12888c843499ab2bb5f639e55fe": {
     "model_module": "@jupyter-widgets/controls",
     "model_module_version": "1.5.0",
     "model_name": "HTMLModel",
     "state": {
      "_dom_classes": [],
      "_model_module": "@jupyter-widgets/controls",
      "_model_module_version": "1.5.0",
      "_model_name": "HTMLModel",
      "_view_count": null,
      "_view_module": "@jupyter-widgets/controls",
      "_view_module_version": "1.5.0",
      "_view_name": "HTMLView",
      "description": "",
      "description_tooltip": null,
      "layout": "IPY_MODEL_24faf474ffb64f949bb9ff290652f67b",
      "placeholder": "​",
      "style": "IPY_MODEL_43df1bf78d08466a90aceaf653d05d15",
      "value": ""
     }
    },
    "daafd362f0414bb49686e35343f4843b": {
     "model_module": "@jupyter-widgets/controls",
     "model_module_version": "1.5.0",
     "model_name": "DescriptionStyleModel",
     "state": {
      "_model_module": "@jupyter-widgets/controls",
      "_model_module_version": "1.5.0",
      "_model_name": "DescriptionStyleModel",
      "_view_count": null,
      "_view_module": "@jupyter-widgets/base",
      "_view_module_version": "1.2.0",
      "_view_name": "StyleView",
      "description_width": ""
     }
    },
    "dcf488f814d44fe4938a2e63e0fdeae0": {
     "model_module": "@jupyter-widgets/controls",
     "model_module_version": "1.5.0",
     "model_name": "HTMLModel",
     "state": {
      "_dom_classes": [],
      "_model_module": "@jupyter-widgets/controls",
      "_model_module_version": "1.5.0",
      "_model_name": "HTMLModel",
      "_view_count": null,
      "_view_module": "@jupyter-widgets/controls",
      "_view_module_version": "1.5.0",
      "_view_name": "HTMLView",
      "description": "",
      "description_tooltip": null,
      "layout": "IPY_MODEL_0cecab585bcd41ddb254f7edef1b82d5",
      "placeholder": "​",
      "style": "IPY_MODEL_29bcaa029ee44972b0fc706aefd8dadd",
      "value": " 998/? [01:01&lt;00:00, 21.61it/s]"
     }
    },
    "dff9fa4709d0494b90d187cb0613bc39": {
     "model_module": "@jupyter-widgets/base",
     "model_module_version": "1.2.0",
     "model_name": "LayoutModel",
     "state": {
      "_model_module": "@jupyter-widgets/base",
      "_model_module_version": "1.2.0",
      "_model_name": "LayoutModel",
      "_view_count": null,
      "_view_module": "@jupyter-widgets/base",
      "_view_module_version": "1.2.0",
      "_view_name": "LayoutView",
      "align_content": null,
      "align_items": null,
      "align_self": null,
      "border": null,
      "bottom": null,
      "display": null,
      "flex": null,
      "flex_flow": null,
      "grid_area": null,
      "grid_auto_columns": null,
      "grid_auto_flow": null,
      "grid_auto_rows": null,
      "grid_column": null,
      "grid_gap": null,
      "grid_row": null,
      "grid_template_areas": null,
      "grid_template_columns": null,
      "grid_template_rows": null,
      "height": null,
      "justify_content": null,
      "justify_items": null,
      "left": null,
      "margin": null,
      "max_height": null,
      "max_width": null,
      "min_height": null,
      "min_width": null,
      "object_fit": null,
      "object_position": null,
      "order": null,
      "overflow": null,
      "overflow_x": null,
      "overflow_y": null,
      "padding": null,
      "right": null,
      "top": null,
      "visibility": null,
      "width": null
     }
    },
    "e15f5b1fa4d349e08595ead19f3a6384": {
     "model_module": "@jupyter-widgets/controls",
     "model_module_version": "1.5.0",
     "model_name": "FloatProgressModel",
     "state": {
      "_dom_classes": [],
      "_model_module": "@jupyter-widgets/controls",
      "_model_module_version": "1.5.0",
      "_model_name": "FloatProgressModel",
      "_view_count": null,
      "_view_module": "@jupyter-widgets/controls",
      "_view_module_version": "1.5.0",
      "_view_name": "ProgressView",
      "bar_style": "success",
      "description": "",
      "description_tooltip": null,
      "layout": "IPY_MODEL_cfe67d676aff4ccbaeee847c5634a6e0",
      "max": 48626461,
      "min": 0,
      "orientation": "horizontal",
      "style": "IPY_MODEL_8de61b4888cf4380906a177d093a0846",
      "value": 48626461
     }
    },
    "e28ad5861bfb4b8c9db0857dcb7f5eef": {
     "model_module": "@jupyter-widgets/base",
     "model_module_version": "1.2.0",
     "model_name": "LayoutModel",
     "state": {
      "_model_module": "@jupyter-widgets/base",
      "_model_module_version": "1.2.0",
      "_model_name": "LayoutModel",
      "_view_count": null,
      "_view_module": "@jupyter-widgets/base",
      "_view_module_version": "1.2.0",
      "_view_name": "LayoutView",
      "align_content": null,
      "align_items": null,
      "align_self": null,
      "border": null,
      "bottom": null,
      "display": null,
      "flex": null,
      "flex_flow": null,
      "grid_area": null,
      "grid_auto_columns": null,
      "grid_auto_flow": null,
      "grid_auto_rows": null,
      "grid_column": null,
      "grid_gap": null,
      "grid_row": null,
      "grid_template_areas": null,
      "grid_template_columns": null,
      "grid_template_rows": null,
      "height": null,
      "justify_content": null,
      "justify_items": null,
      "left": null,
      "margin": null,
      "max_height": null,
      "max_width": null,
      "min_height": null,
      "min_width": null,
      "object_fit": null,
      "object_position": null,
      "order": null,
      "overflow": null,
      "overflow_x": null,
      "overflow_y": null,
      "padding": null,
      "right": null,
      "top": null,
      "visibility": null,
      "width": null
     }
    },
    "e570e2f635ed4b419b632aa8f2de6968": {
     "model_module": "@jupyter-widgets/controls",
     "model_module_version": "1.5.0",
     "model_name": "FloatProgressModel",
     "state": {
      "_dom_classes": [],
      "_model_module": "@jupyter-widgets/controls",
      "_model_module_version": "1.5.0",
      "_model_name": "FloatProgressModel",
      "_view_count": null,
      "_view_module": "@jupyter-widgets/controls",
      "_view_module_version": "1.5.0",
      "_view_name": "ProgressView",
      "bar_style": "info",
      "description": "",
      "description_tooltip": null,
      "layout": "IPY_MODEL_2b6ee3112b034d85b0f3a0b1cb657f13",
      "max": 1,
      "min": 0,
      "orientation": "horizontal",
      "style": "IPY_MODEL_53021f6f495c4988a39c595144b36d51",
      "value": 1
     }
    },
    "e595b524703743f29ac305dd1caa1281": {
     "model_module": "@jupyter-widgets/base",
     "model_module_version": "1.2.0",
     "model_name": "LayoutModel",
     "state": {
      "_model_module": "@jupyter-widgets/base",
      "_model_module_version": "1.2.0",
      "_model_name": "LayoutModel",
      "_view_count": null,
      "_view_module": "@jupyter-widgets/base",
      "_view_module_version": "1.2.0",
      "_view_name": "LayoutView",
      "align_content": null,
      "align_items": null,
      "align_self": null,
      "border": null,
      "bottom": null,
      "display": null,
      "flex": null,
      "flex_flow": null,
      "grid_area": null,
      "grid_auto_columns": null,
      "grid_auto_flow": null,
      "grid_auto_rows": null,
      "grid_column": null,
      "grid_gap": null,
      "grid_row": null,
      "grid_template_areas": null,
      "grid_template_columns": null,
      "grid_template_rows": null,
      "height": null,
      "justify_content": null,
      "justify_items": null,
      "left": null,
      "margin": null,
      "max_height": null,
      "max_width": null,
      "min_height": null,
      "min_width": null,
      "object_fit": null,
      "object_position": null,
      "order": null,
      "overflow": null,
      "overflow_x": null,
      "overflow_y": null,
      "padding": null,
      "right": null,
      "top": null,
      "visibility": null,
      "width": null
     }
    },
    "e6575addf2ef4978a658ac2aea152db1": {
     "model_module": "@jupyter-widgets/controls",
     "model_module_version": "1.5.0",
     "model_name": "HBoxModel",
     "state": {
      "_dom_classes": [],
      "_model_module": "@jupyter-widgets/controls",
      "_model_module_version": "1.5.0",
      "_model_name": "HBoxModel",
      "_view_count": null,
      "_view_module": "@jupyter-widgets/controls",
      "_view_module_version": "1.5.0",
      "_view_name": "HBoxView",
      "box_style": "",
      "children": [
       "IPY_MODEL_0eb101f4bce34abaaa110d78bdfdcba3",
       "IPY_MODEL_dcf488f814d44fe4938a2e63e0fdeae0"
      ],
      "layout": "IPY_MODEL_5f017c44136f49c88321d948b393425e"
     }
    },
    "e910d1a2543e48639150158f920b714e": {
     "model_module": "@jupyter-widgets/controls",
     "model_module_version": "1.5.0",
     "model_name": "DescriptionStyleModel",
     "state": {
      "_model_module": "@jupyter-widgets/controls",
      "_model_module_version": "1.5.0",
      "_model_name": "DescriptionStyleModel",
      "_view_count": null,
      "_view_module": "@jupyter-widgets/base",
      "_view_module_version": "1.2.0",
      "_view_name": "StyleView",
      "description_width": ""
     }
    },
    "e9689a65aca7420cbf952c6b1a05d22d": {
     "model_module": "@jupyter-widgets/base",
     "model_module_version": "1.2.0",
     "model_name": "LayoutModel",
     "state": {
      "_model_module": "@jupyter-widgets/base",
      "_model_module_version": "1.2.0",
      "_model_name": "LayoutModel",
      "_view_count": null,
      "_view_module": "@jupyter-widgets/base",
      "_view_module_version": "1.2.0",
      "_view_name": "LayoutView",
      "align_content": null,
      "align_items": null,
      "align_self": null,
      "border": null,
      "bottom": null,
      "display": null,
      "flex": null,
      "flex_flow": null,
      "grid_area": null,
      "grid_auto_columns": null,
      "grid_auto_flow": null,
      "grid_auto_rows": null,
      "grid_column": null,
      "grid_gap": null,
      "grid_row": null,
      "grid_template_areas": null,
      "grid_template_columns": null,
      "grid_template_rows": null,
      "height": null,
      "justify_content": null,
      "justify_items": null,
      "left": null,
      "margin": null,
      "max_height": null,
      "max_width": null,
      "min_height": null,
      "min_width": null,
      "object_fit": null,
      "object_position": null,
      "order": null,
      "overflow": null,
      "overflow_x": null,
      "overflow_y": null,
      "padding": null,
      "right": null,
      "top": null,
      "visibility": null,
      "width": null
     }
    },
    "eca671d9727f4a5084f4d9e35999b569": {
     "model_module": "@jupyter-widgets/controls",
     "model_module_version": "1.5.0",
     "model_name": "FloatProgressModel",
     "state": {
      "_dom_classes": [],
      "_model_module": "@jupyter-widgets/controls",
      "_model_module_version": "1.5.0",
      "_model_name": "FloatProgressModel",
      "_view_count": null,
      "_view_module": "@jupyter-widgets/controls",
      "_view_module_version": "1.5.0",
      "_view_name": "ProgressView",
      "bar_style": "success",
      "description": "",
      "description_tooltip": null,
      "layout": "IPY_MODEL_e28ad5861bfb4b8c9db0857dcb7f5eef",
      "max": 3,
      "min": 0,
      "orientation": "horizontal",
      "style": "IPY_MODEL_c384cbc65a564e4a82c7655e29767060",
      "value": 3
     }
    },
    "ed729cc894ff4992b60b2260d780df27": {
     "model_module": "@jupyter-widgets/controls",
     "model_module_version": "1.5.0",
     "model_name": "HTMLModel",
     "state": {
      "_dom_classes": [],
      "_model_module": "@jupyter-widgets/controls",
      "_model_module_version": "1.5.0",
      "_model_name": "HTMLModel",
      "_view_count": null,
      "_view_module": "@jupyter-widgets/controls",
      "_view_module_version": "1.5.0",
      "_view_name": "HTMLView",
      "description": "",
      "description_tooltip": null,
      "layout": "IPY_MODEL_0c85eb11a1e54ed688fb75e8f4648dee",
      "placeholder": "​",
      "style": "IPY_MODEL_cfe88785d28743859067b37ec6208cb8",
      "value": " 52054/0 [00:10&lt;00:00, 4222.62 examples/s]"
     }
    },
    "f11064cd4ea7473ab487f01a99c9fd56": {
     "model_module": "@jupyter-widgets/base",
     "model_module_version": "1.2.0",
     "model_name": "LayoutModel",
     "state": {
      "_model_module": "@jupyter-widgets/base",
      "_model_module_version": "1.2.0",
      "_model_name": "LayoutModel",
      "_view_count": null,
      "_view_module": "@jupyter-widgets/base",
      "_view_module_version": "1.2.0",
      "_view_name": "LayoutView",
      "align_content": null,
      "align_items": null,
      "align_self": null,
      "border": null,
      "bottom": null,
      "display": null,
      "flex": null,
      "flex_flow": null,
      "grid_area": null,
      "grid_auto_columns": null,
      "grid_auto_flow": null,
      "grid_auto_rows": null,
      "grid_column": null,
      "grid_gap": null,
      "grid_row": null,
      "grid_template_areas": null,
      "grid_template_columns": null,
      "grid_template_rows": null,
      "height": null,
      "justify_content": null,
      "justify_items": null,
      "left": null,
      "margin": null,
      "max_height": null,
      "max_width": null,
      "min_height": null,
      "min_width": null,
      "object_fit": null,
      "object_position": null,
      "order": null,
      "overflow": null,
      "overflow_x": null,
      "overflow_y": null,
      "padding": null,
      "right": null,
      "top": null,
      "visibility": null,
      "width": null
     }
    },
    "f1ad6703003148b2bc46849327c988f9": {
     "model_module": "@jupyter-widgets/base",
     "model_module_version": "1.2.0",
     "model_name": "LayoutModel",
     "state": {
      "_model_module": "@jupyter-widgets/base",
      "_model_module_version": "1.2.0",
      "_model_name": "LayoutModel",
      "_view_count": null,
      "_view_module": "@jupyter-widgets/base",
      "_view_module_version": "1.2.0",
      "_view_name": "LayoutView",
      "align_content": null,
      "align_items": null,
      "align_self": null,
      "border": null,
      "bottom": null,
      "display": null,
      "flex": null,
      "flex_flow": null,
      "grid_area": null,
      "grid_auto_columns": null,
      "grid_auto_flow": null,
      "grid_auto_rows": null,
      "grid_column": null,
      "grid_gap": null,
      "grid_row": null,
      "grid_template_areas": null,
      "grid_template_columns": null,
      "grid_template_rows": null,
      "height": null,
      "justify_content": null,
      "justify_items": null,
      "left": null,
      "margin": null,
      "max_height": null,
      "max_width": null,
      "min_height": null,
      "min_width": null,
      "object_fit": null,
      "object_position": null,
      "order": null,
      "overflow": null,
      "overflow_x": null,
      "overflow_y": null,
      "padding": null,
      "right": null,
      "top": null,
      "visibility": null,
      "width": null
     }
    },
    "f47db080911d4eb9b3a07cd5836e91a3": {
     "model_module": "@jupyter-widgets/controls",
     "model_module_version": "1.5.0",
     "model_name": "FloatProgressModel",
     "state": {
      "_dom_classes": [],
      "_model_module": "@jupyter-widgets/controls",
      "_model_module_version": "1.5.0",
      "_model_name": "FloatProgressModel",
      "_view_count": null,
      "_view_module": "@jupyter-widgets/controls",
      "_view_module_version": "1.5.0",
      "_view_name": "ProgressView",
      "bar_style": "success",
      "description": "",
      "description_tooltip": null,
      "layout": "IPY_MODEL_a54f2d92561e40f583adeb6c114e9a0b",
      "max": 3867,
      "min": 0,
      "orientation": "horizontal",
      "style": "IPY_MODEL_a739cea8270d4297a90b6c5fb3756250",
      "value": 3867
     }
    },
    "f654242ddc6a4436a877cb0a3f5759a5": {
     "model_module": "@jupyter-widgets/controls",
     "model_module_version": "1.5.0",
     "model_name": "HTMLModel",
     "state": {
      "_dom_classes": [],
      "_model_module": "@jupyter-widgets/controls",
      "_model_module_version": "1.5.0",
      "_model_name": "HTMLModel",
      "_view_count": null,
      "_view_module": "@jupyter-widgets/controls",
      "_view_module_version": "1.5.0",
      "_view_name": "HTMLView",
      "description": "",
      "description_tooltip": null,
      "layout": "IPY_MODEL_b3fa7284ef184de2907657a4f9d2c1c2",
      "placeholder": "​",
      "style": "IPY_MODEL_79ac74ac1617496ca66e18b55a021511",
      "value": " 5213/0 [00:00&lt;00:00, 7264.70 examples/s]"
     }
    },
    "f6a41cdb62e947cd99a276485b385e9e": {
     "model_module": "@jupyter-widgets/controls",
     "model_module_version": "1.5.0",
     "model_name": "DescriptionStyleModel",
     "state": {
      "_model_module": "@jupyter-widgets/controls",
      "_model_module_version": "1.5.0",
      "_model_name": "DescriptionStyleModel",
      "_view_count": null,
      "_view_module": "@jupyter-widgets/base",
      "_view_module_version": "1.2.0",
      "_view_name": "StyleView",
      "description_width": ""
     }
    },
    "f7aaf3ee7ed945eaa8576ca70f57b642": {
     "model_module": "@jupyter-widgets/controls",
     "model_module_version": "1.5.0",
     "model_name": "HTMLModel",
     "state": {
      "_dom_classes": [],
      "_model_module": "@jupyter-widgets/controls",
      "_model_module_version": "1.5.0",
      "_model_name": "HTMLModel",
      "_view_count": null,
      "_view_module": "@jupyter-widgets/controls",
      "_view_module_version": "1.5.0",
      "_view_name": "HTMLView",
      "description": "",
      "description_tooltip": null,
      "layout": "IPY_MODEL_d4cc7b161dde4b709dfd178cc2a37618",
      "placeholder": "​",
      "style": "IPY_MODEL_ad4db573e8c340bc8c866361ae18226d",
      "value": ""
     }
    },
    "f9edd6ab9c184982b607758c3a39bb6b": {
     "model_module": "@jupyter-widgets/controls",
     "model_module_version": "1.5.0",
     "model_name": "ProgressStyleModel",
     "state": {
      "_model_module": "@jupyter-widgets/controls",
      "_model_module_version": "1.5.0",
      "_model_name": "ProgressStyleModel",
      "_view_count": null,
      "_view_module": "@jupyter-widgets/base",
      "_view_module_version": "1.2.0",
      "_view_name": "StyleView",
      "bar_color": null,
      "description_width": "initial"
     }
    },
    "faf3c98df82449d5b7d466030c64b397": {
     "model_module": "@jupyter-widgets/base",
     "model_module_version": "1.2.0",
     "model_name": "LayoutModel",
     "state": {
      "_model_module": "@jupyter-widgets/base",
      "_model_module_version": "1.2.0",
      "_model_name": "LayoutModel",
      "_view_count": null,
      "_view_module": "@jupyter-widgets/base",
      "_view_module_version": "1.2.0",
      "_view_name": "LayoutView",
      "align_content": null,
      "align_items": null,
      "align_self": null,
      "border": null,
      "bottom": null,
      "display": null,
      "flex": null,
      "flex_flow": null,
      "grid_area": null,
      "grid_auto_columns": null,
      "grid_auto_flow": null,
      "grid_auto_rows": null,
      "grid_column": null,
      "grid_gap": null,
      "grid_row": null,
      "grid_template_areas": null,
      "grid_template_columns": null,
      "grid_template_rows": null,
      "height": null,
      "justify_content": null,
      "justify_items": null,
      "left": null,
      "margin": null,
      "max_height": null,
      "max_width": null,
      "min_height": null,
      "min_width": null,
      "object_fit": null,
      "object_position": null,
      "order": null,
      "overflow": null,
      "overflow_x": null,
      "overflow_y": null,
      "padding": null,
      "right": null,
      "top": null,
      "visibility": null,
      "width": null
     }
    },
    "fca3a57560a946c09d07f09b01974c31": {
     "model_module": "@jupyter-widgets/controls",
     "model_module_version": "1.5.0",
     "model_name": "FloatProgressModel",
     "state": {
      "_dom_classes": [],
      "_model_module": "@jupyter-widgets/controls",
      "_model_module_version": "1.5.0",
      "_model_name": "FloatProgressModel",
      "_view_count": null,
      "_view_module": "@jupyter-widgets/controls",
      "_view_module_version": "1.5.0",
      "_view_name": "ProgressView",
      "bar_style": "success",
      "description": "",
      "description_tooltip": null,
      "layout": "IPY_MODEL_48df84fe6532421a8eb7c6fab5bbbd07",
      "max": 3,
      "min": 0,
      "orientation": "horizontal",
      "style": "IPY_MODEL_6e6e9a1dd259413ba4fc178186506fc6",
      "value": 3
     }
    },
    "fe7fca306d3149fa8e9f2d225c849f30": {
     "model_module": "@jupyter-widgets/controls",
     "model_module_version": "1.5.0",
     "model_name": "HTMLModel",
     "state": {
      "_dom_classes": [],
      "_model_module": "@jupyter-widgets/controls",
      "_model_module_version": "1.5.0",
      "_model_name": "HTMLModel",
      "_view_count": null,
      "_view_module": "@jupyter-widgets/controls",
      "_view_module_version": "1.5.0",
      "_view_name": "HTMLView",
      "description": "",
      "description_tooltip": null,
      "layout": "IPY_MODEL_2ea46f5dd5244b26b331c340891d1d4d",
      "placeholder": "​",
      "style": "IPY_MODEL_daafd362f0414bb49686e35343f4843b",
      "value": "Downloading: 100%"
     }
    },
    "ff8b20f9e02546e29480012001978075": {
     "model_module": "@jupyter-widgets/base",
     "model_module_version": "1.2.0",
     "model_name": "LayoutModel",
     "state": {
      "_model_module": "@jupyter-widgets/base",
      "_model_module_version": "1.2.0",
      "_model_name": "LayoutModel",
      "_view_count": null,
      "_view_module": "@jupyter-widgets/base",
      "_view_module_version": "1.2.0",
      "_view_name": "LayoutView",
      "align_content": null,
      "align_items": null,
      "align_self": null,
      "border": null,
      "bottom": null,
      "display": null,
      "flex": null,
      "flex_flow": null,
      "grid_area": null,
      "grid_auto_columns": null,
      "grid_auto_flow": null,
      "grid_auto_rows": null,
      "grid_column": null,
      "grid_gap": null,
      "grid_row": null,
      "grid_template_areas": null,
      "grid_template_columns": null,
      "grid_template_rows": null,
      "height": null,
      "justify_content": null,
      "justify_items": null,
      "left": null,
      "margin": null,
      "max_height": null,
      "max_width": null,
      "min_height": null,
      "min_width": null,
      "object_fit": null,
      "object_position": null,
      "order": null,
      "overflow": null,
      "overflow_x": null,
      "overflow_y": null,
      "padding": null,
      "right": null,
      "top": null,
      "visibility": null,
      "width": "20px"
     }
    },
    "ffb69d295e7b49d48df87e6d3bea8567": {
     "model_module": "@jupyter-widgets/base",
     "model_module_version": "1.2.0",
     "model_name": "LayoutModel",
     "state": {
      "_model_module": "@jupyter-widgets/base",
      "_model_module_version": "1.2.0",
      "_model_name": "LayoutModel",
      "_view_count": null,
      "_view_module": "@jupyter-widgets/base",
      "_view_module_version": "1.2.0",
      "_view_name": "LayoutView",
      "align_content": null,
      "align_items": null,
      "align_self": null,
      "border": null,
      "bottom": null,
      "display": null,
      "flex": null,
      "flex_flow": null,
      "grid_area": null,
      "grid_auto_columns": null,
      "grid_auto_flow": null,
      "grid_auto_rows": null,
      "grid_column": null,
      "grid_gap": null,
      "grid_row": null,
      "grid_template_areas": null,
      "grid_template_columns": null,
      "grid_template_rows": null,
      "height": null,
      "justify_content": null,
      "justify_items": null,
      "left": null,
      "margin": null,
      "max_height": null,
      "max_width": null,
      "min_height": null,
      "min_width": null,
      "object_fit": null,
      "object_position": null,
      "order": null,
      "overflow": null,
      "overflow_x": null,
      "overflow_y": null,
      "padding": null,
      "right": null,
      "top": null,
      "visibility": null,
      "width": null
     }
    }
   }
  }
 },
 "nbformat": 4,
 "nbformat_minor": 1
}
