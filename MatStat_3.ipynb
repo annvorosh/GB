{
 "cells": [
  {
   "cell_type": "markdown",
   "id": "4ddd3e34",
   "metadata": {},
   "source": [
    "### Урок 3. Описательная статистика. Качественные и количественные характеристики популяции. Графическое представление данных\n",
    "#### 1. Даны значения зарплат из выборки выпускников: 100, 80, 75, 77, 89, 33, 45, 25, 65, 17, 30, 24, 57, 55, 70, 75, 65, 84, 90, 150. Посчитать (желательно без использования статистических методов наподобие std, var, mean) среднее арифметическое, среднее квадратичное отклонение, смещенную и несмещенную оценки дисперсий для данной выборки."
   ]
  },
  {
   "cell_type": "code",
   "execution_count": 178,
   "id": "75bc9da8",
   "metadata": {},
   "outputs": [],
   "source": [
    "import numpy as np\n",
    "\n",
    "z = np.array([100, 80, 75, 77, 89, 33, 45, 25, 65, 17, 30, 24, 57, 55, 70, 75, 65, 84, 90, 150])"
   ]
  },
  {
   "cell_type": "code",
   "execution_count": 179,
   "id": "229d112f",
   "metadata": {},
   "outputs": [
    {
     "data": {
      "text/plain": [
       "array([ 17,  24,  25,  30,  33,  45,  55,  57,  65,  65,  70,  75,  75,\n",
       "        77,  80,  84,  89,  90, 100, 150])"
      ]
     },
     "execution_count": 179,
     "metadata": {},
     "output_type": "execute_result"
    }
   ],
   "source": [
    "z_sort = np.sort(z)\n",
    "z_sort"
   ]
  },
  {
   "cell_type": "code",
   "execution_count": 180,
   "id": "23fc8d4d",
   "metadata": {},
   "outputs": [
    {
     "data": {
      "text/plain": [
       "20"
      ]
     },
     "execution_count": 180,
     "metadata": {},
     "output_type": "execute_result"
    }
   ],
   "source": [
    "n = len(z)\n",
    "n"
   ]
  },
  {
   "cell_type": "code",
   "execution_count": 181,
   "id": "e9f50623",
   "metadata": {},
   "outputs": [
    {
     "data": {
      "text/plain": [
       "65.3"
      ]
     },
     "execution_count": 181,
     "metadata": {},
     "output_type": "execute_result"
    }
   ],
   "source": [
    "z_mean = sum(z)/n #среднее арифметическое\n",
    "z_mean"
   ]
  },
  {
   "cell_type": "code",
   "execution_count": 182,
   "id": "e5e4f0ab",
   "metadata": {},
   "outputs": [
    {
     "data": {
      "text/plain": [
       "65.3"
      ]
     },
     "execution_count": 182,
     "metadata": {},
     "output_type": "execute_result"
    }
   ],
   "source": [
    "z.mean() #среднее арифметическое"
   ]
  },
  {
   "cell_type": "code",
   "execution_count": 183,
   "id": "b7ff59db",
   "metadata": {},
   "outputs": [
    {
     "name": "stdout",
     "output_type": "stream",
     "text": [
      "30.823854398825596 - смещенное стандартное отклонение\n",
      "30.823854398825596\n",
      "950.11 - смещенная оценка дисперсии S^2\n"
     ]
    },
    {
     "data": {
      "text/plain": [
       "950.11"
      ]
     },
     "execution_count": 183,
     "metadata": {},
     "output_type": "execute_result"
    }
   ],
   "source": [
    "# среднее квадратичное отклонение\n",
    "st_dev_z = np.sqrt(sum((z - 65.3)**2) / n)\n",
    "print(f'{np.std(z)} - смещенное стандартное отклонение')\n",
    "print(st_dev_z)\n",
    "\n",
    "# смещенная оценка дисперсии S^2\n",
    "st_dev_z = (sum((z - 65.3)**2) / n)\n",
    "print(f'{np.var(z)} - смещенная оценка дисперсии S^2')\n",
    "st_dev_z"
   ]
  },
  {
   "cell_type": "code",
   "execution_count": 184,
   "id": "66a81125",
   "metadata": {},
   "outputs": [
    {
     "name": "stdout",
     "output_type": "stream",
     "text": [
      "1000.1157894736842 - несмещенная оценка дисперсии S^2\n"
     ]
    },
    {
     "data": {
      "text/plain": [
       "1000.1157894736842"
      ]
     },
     "execution_count": 184,
     "metadata": {},
     "output_type": "execute_result"
    }
   ],
   "source": [
    "nst_dev_z = (sum((z - 65.3)**2) / (n-1)) # несмещенная оценка дисперсии S^2\n",
    "print(f'{np.var(z, ddof = 1)} - несмещенная оценка дисперсии S^2')    \n",
    "nst_dev_z"
   ]
  },
  {
   "cell_type": "code",
   "execution_count": 185,
   "id": "f4db5f0a",
   "metadata": {},
   "outputs": [
    {
     "name": "stdout",
     "output_type": "stream",
     "text": [
      "31.624607341019814 - несмещенное стандартное отклонение\n"
     ]
    }
   ],
   "source": [
    "print(f'{np.std(z, ddof = 1)} - несмещенное стандартное отклонение')"
   ]
  },
  {
   "cell_type": "markdown",
   "id": "2f364c1e",
   "metadata": {},
   "source": [
    "#### 2. В первом ящике находится 8 мячей, из которых 5 - белые. Во втором ящике - 12 мячей, из которых 5 белых. Из первого ящика вытаскивают случайным образом два мяча, из второго - 4. Какова вероятность того, что 3 мяча белые?\n",
    "1 ящик  [0000 0111]\n",
    "\n",
    "2 ящик  [0000 0111 1111]"
   ]
  },
  {
   "cell_type": "code",
   "execution_count": 186,
   "id": "36b7b236",
   "metadata": {},
   "outputs": [],
   "source": [
    "from math import factorial\n",
    "\n",
    "def combinations(n, k):\n",
    "    return int(factorial(n) / (factorial(k) * factorial(n-k)))"
   ]
  },
  {
   "cell_type": "code",
   "execution_count": 187,
   "id": "80260f60",
   "metadata": {},
   "outputs": [
    {
     "data": {
      "text/plain": [
       "0.01515151515151515"
      ]
     },
     "execution_count": 187,
     "metadata": {},
     "output_type": "execute_result"
    }
   ],
   "source": [
    "# 0 белых их первого ящика и 3 белых из второго ящика\n",
    "p1 = (combinations(3, 2) / combinations(8, 2)) * ((combinations(5, 3) * combinations(7,1)) / combinations(12, 4))\n",
    "p1"
   ]
  },
  {
   "cell_type": "code",
   "execution_count": 188,
   "id": "f55e1a11",
   "metadata": {},
   "outputs": [
    {
     "data": {
      "text/plain": [
       "0.12626262626262627"
      ]
     },
     "execution_count": 188,
     "metadata": {},
     "output_type": "execute_result"
    }
   ],
   "source": [
    "# 2 белых их первого ящика и 1 белый из второго ящика\n",
    "p2 = (combinations(5, 2) / combinations(8, 2)) * ((combinations(5, 1) * combinations(7,3)) / combinations(12, 4))\n",
    "p2"
   ]
  },
  {
   "cell_type": "code",
   "execution_count": 189,
   "id": "26f898d8",
   "metadata": {},
   "outputs": [
    {
     "data": {
      "text/plain": [
       "0.22727272727272727"
      ]
     },
     "execution_count": 189,
     "metadata": {},
     "output_type": "execute_result"
    }
   ],
   "source": [
    "# 1 белый их первого ящика и 2 белых из второго ящика\n",
    "p3 = ((combinations(5, 1) * combinations(3, 1)) / combinations(8, 2)) * ((combinations(5, 2) * combinations(7, 2)) / combinations(12, 4))\n",
    "p3"
   ]
  },
  {
   "cell_type": "code",
   "execution_count": 190,
   "id": "a62001c8",
   "metadata": {},
   "outputs": [
    {
     "name": "stdout",
     "output_type": "stream",
     "text": [
      "Bероятность того, что 3 мяча белые: 36%\n"
     ]
    }
   ],
   "source": [
    "p = p1 + p2 + p3\n",
    "print(f'Bероятность того, что 3 мяча белые: {int(p*100)}%')"
   ]
  },
  {
   "cell_type": "markdown",
   "id": "d651f6bf",
   "metadata": {},
   "source": [
    "#### 3. На соревновании по биатлону один из трех спортсменов стреляет и попадает в мишень. Вероятность попадания для первого спортсмена равна 0.9, для второго — 0.8, для третьего — 0.6. Найти вероятность того, что выстрел произведен: a). первым спортсменом б). вторым спортсменом в). третьим спортсменом."
   ]
  },
  {
   "cell_type": "code",
   "execution_count": 191,
   "id": "97e55215",
   "metadata": {},
   "outputs": [],
   "source": [
    "# 1/3 - вероятность выстрела для каждого из стрелков\n",
    "p1 = 0.9 # Вероятность попадания для первого спортсмена\n",
    "p2 = 0.8 # Вероятность попадания для второго спортсмена\n",
    "p3 = 0.6 # Вероятность попадания для третьего спортсмена"
   ]
  },
  {
   "cell_type": "code",
   "execution_count": 192,
   "id": "183881ac",
   "metadata": {},
   "outputs": [
    {
     "name": "stdout",
     "output_type": "stream",
     "text": [
      "0.7666666666666666\n",
      "Вероятность того, что выстрел произведен: \n",
      "a). первым спортсменом 39% \n",
      "б). вторым спортсменом 34% \n",
      "в). третьим спортсменом 26%\n"
     ]
    }
   ],
   "source": [
    "p = (1/3) * p1 + (1/3) * p2 + (1/3) * p3 # вероятность попадания в мишень, если кто-то один выстрелит (неизвестно кто)\n",
    "print(p)\n",
    "# Вероятность того, что выстрел произведен: a). первым спортсменом \n",
    "pp1 = (1/3) * p1 / p\n",
    "# б). вторым спортсменом \n",
    "pp2 = (1/3) * p2 / p\n",
    "# в). третьим спортсменом.\n",
    "pp3 = (1/3) * p3 / p\n",
    "\n",
    "print(f'Вероятность того, что выстрел произведен: \\na). первым спортсменом {int(pp1*100)}% \\nб). вторым спортсменом {int(pp2*100)}% \\nв). третьим спортсменом {int(100*pp3)}%')"
   ]
  },
  {
   "cell_type": "markdown",
   "id": "8f9af83f",
   "metadata": {},
   "source": [
    "#### 4. В университет на факультеты A и B поступило равное количество студентов, а на факультет C студентов поступило столько же, сколько на A и B вместе. Вероятность того, что студент факультета A сдаст первую сессию, равна 0.8. Для студента факультета B эта вероятность равна 0.7, а для студента факультета C - 0.9. Студент сдал первую сессию. Какова вероятность, что он учится: a). на факультете A б). на факультете B в). на факультете C?"
   ]
  },
  {
   "cell_type": "code",
   "execution_count": 193,
   "id": "c81f1428",
   "metadata": {},
   "outputs": [
    {
     "name": "stdout",
     "output_type": "stream",
     "text": [
      "Вероятность, что cтудент, сдавший экзамен, учится: \n",
      "a). на факультете A: 24% \n",
      "б). на факультете B: 21% \n",
      "в). на факультете C: 55% \n",
      "\n"
     ]
    }
   ],
   "source": [
    "pA = 0.8\n",
    "pB = 0.7\n",
    "pC = 0.9\n",
    "\n",
    "p = 1/4 * pA + 1/4 * pB + 2/4 *pC\n",
    "\n",
    "# вероятность, что он учится: a). на факультете A \n",
    "p_A = (1/4 * pA) / p\n",
    "# б). на факультете B \n",
    "p_B = (1/4 * pB) / p\n",
    "# в). на факультете C\n",
    "p_C = (1/2 * pC) / p\n",
    "\n",
    "print(f'Вероятность, что cтудент, сдавший экзамен, учится: \\na). на факультете A: {round(p_A*100)}% \\nб). на факультете B: {round(p_B*100)}% \\nв). на факультете C: {round(p_C*100)}% \\n')"
   ]
  },
  {
   "cell_type": "code",
   "execution_count": null,
   "id": "74b57638",
   "metadata": {},
   "outputs": [],
   "source": []
  },
  {
   "cell_type": "markdown",
   "id": "6f649fd6",
   "metadata": {},
   "source": [
    "#### 5. Устройство состоит из трех деталей. Для первой детали вероятность выйти из строя в первый месяц равна 0.1, для второй - 0.2, для третьей - 0.25. Какова вероятность того, что в первый месяц выйдут из строя: а). все детали б). только две детали в). хотя бы одна деталь г). от одной до двух деталей?"
   ]
  },
  {
   "cell_type": "code",
   "execution_count": 194,
   "id": "222ae0f5",
   "metadata": {},
   "outputs": [
    {
     "name": "stdout",
     "output_type": "stream",
     "text": [
      "Вероятность того, что в первый месяц выйдут из строя:\n",
      "а). все детали 0.5% \n",
      "б). только две детали 8% \n",
      "в). хотя бы одна деталь 37% \n",
      "г). от одной до двух деталей 45%\n"
     ]
    }
   ],
   "source": [
    "p1 = 0.1\n",
    "p2 = 0.2\n",
    "p3 = 0.25\n",
    "# Вероятности НЕвыхождения из строя\n",
    "q1 = 1 - p1 \n",
    "q2 = 1 - p2 \n",
    "q3 = 1 - p3 \n",
    "\n",
    "p_all = p1 * p2 * p3\n",
    "p_2 = p1 * p2 * q3 + p1 * q2 * p3 + q1 * p2 * p3\n",
    "p_1 = p1 * q2 * q3 + q1 * p2 * q3 + q1 * q2 * p3\n",
    "p_1_2 = p_1 + p_2\n",
    "\n",
    "print(f'Вероятность того, что в первый месяц выйдут из строя:\\nа). все детали {round((p_all*100),2)}% \\nб). только две детали {int(100*p_2)}% \\nв). хотя бы одна деталь {int(100*p_1)}% \\nг). от одной до двух деталей {int(100*p_1_2)}%')"
   ]
  },
  {
   "cell_type": "code",
   "execution_count": null,
   "id": "98c5a6b5",
   "metadata": {},
   "outputs": [],
   "source": []
  }
 ],
 "metadata": {
  "kernelspec": {
   "display_name": "Python 3",
   "language": "python",
   "name": "python3"
  },
  "language_info": {
   "codemirror_mode": {
    "name": "ipython",
    "version": 3
   },
   "file_extension": ".py",
   "mimetype": "text/x-python",
   "name": "python",
   "nbconvert_exporter": "python",
   "pygments_lexer": "ipython3",
   "version": "3.8.8"
  }
 },
 "nbformat": 4,
 "nbformat_minor": 5
}
