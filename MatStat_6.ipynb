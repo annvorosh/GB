{
 "cells": [
  {
   "cell_type": "markdown",
   "id": "4f3bf118",
   "metadata": {},
   "source": [
    "## Урок 6. Взаимосвязь величин. Параметрические и непараметрические показатели корреляции. Корреляционный анализ.\n",
    "##### 1. Даны значения величины заработной платы заемщиков банка (zp) и значения их поведенческого кредитного скоринга (ks):zp = [35, 45, 190, 200, 40, 70, 54, 150, 120, 110], ks = [401, 574, 874, 919, 459, 739, 653, 902, 746, 832] \n",
    "##### Найдите ковариацию этих двух величин с помощью элементарных действий, а затем с помощью функции cov из numpy Полученные значения должны быть равны. \n",
    "##### Найдите коэффициент корреляции Пирсона с помощью ковариации и среднеквадратичных отклонений двух признаков, а затем с использованием функций из библиотек numpy и pandas."
   ]
  },
  {
   "cell_type": "code",
   "execution_count": 2,
   "id": "ff436e54",
   "metadata": {},
   "outputs": [
    {
     "data": {
      "text/plain": [
       "array([ 14035,  25830, 166060, 183800,  18360,  51730,  35262, 135300,\n",
       "        89520,  91520])"
      ]
     },
     "execution_count": 2,
     "metadata": {},
     "output_type": "execute_result"
    }
   ],
   "source": [
    "import numpy as np\n",
    "\n",
    "zp = np.array([35, 45, 190, 200, 40, 70, 54, 150, 120, 110])\n",
    "ks = np.array([401, 574, 874, 919, 459, 739, 653, 902, 746, 832])"
   ]
  },
  {
   "cell_type": "code",
   "execution_count": 5,
   "id": "7e4bb01d",
   "metadata": {},
   "outputs": [
    {
     "data": {
      "text/plain": [
       "9157.839999999997"
      ]
     },
     "execution_count": 5,
     "metadata": {},
     "output_type": "execute_result"
    }
   ],
   "source": [
    "zk = zp * ks\n",
    "cov_man = zk.mean() - zp.mean() * ks.mean() # Ковариация  - величина , определяющая зависимость двух случайных величин.\n",
    "cov_man"
   ]
  },
  {
   "cell_type": "code",
   "execution_count": 10,
   "id": "53127915",
   "metadata": {},
   "outputs": [
    {
     "data": {
      "text/plain": [
       "array([[ 3494.64,  9157.84],\n",
       "       [ 9157.84, 30468.89]])"
      ]
     },
     "execution_count": 10,
     "metadata": {},
     "output_type": "execute_result"
    }
   ],
   "source": [
    "np.cov(zp, ks, ddof = 0) # смещенная ковариация"
   ]
  },
  {
   "cell_type": "code",
   "execution_count": 11,
   "id": "d448cbb1",
   "metadata": {},
   "outputs": [
    {
     "data": {
      "text/plain": [
       "59.115480206118605"
      ]
     },
     "execution_count": 11,
     "metadata": {},
     "output_type": "execute_result"
    }
   ],
   "source": [
    "np.std(zp)"
   ]
  },
  {
   "cell_type": "code",
   "execution_count": 12,
   "id": "728dea6a",
   "metadata": {},
   "outputs": [
    {
     "data": {
      "text/plain": [
       "174.55340157098058"
      ]
     },
     "execution_count": 12,
     "metadata": {},
     "output_type": "execute_result"
    }
   ],
   "source": [
    "np.std(ks)"
   ]
  },
  {
   "cell_type": "code",
   "execution_count": 17,
   "id": "9a89ce38",
   "metadata": {},
   "outputs": [
    {
     "data": {
      "text/plain": [
       "0.8874900920739158"
      ]
     },
     "execution_count": 17,
     "metadata": {},
     "output_type": "execute_result"
    }
   ],
   "source": [
    "cor_man = 9157.839999999997 / (np.std(zp) * np.std(ks))\n",
    "cor_man"
   ]
  },
  {
   "cell_type": "code",
   "execution_count": 18,
   "id": "507e6632",
   "metadata": {},
   "outputs": [
    {
     "data": {
      "text/plain": [
       "array([[1.        , 0.88749009],\n",
       "       [0.88749009, 1.        ]])"
      ]
     },
     "execution_count": 18,
     "metadata": {},
     "output_type": "execute_result"
    }
   ],
   "source": [
    "np.corrcoef(zp, ks)"
   ]
  },
  {
   "cell_type": "markdown",
   "id": "29d5aaec",
   "metadata": {},
   "source": [
    "##### 2. Измерены значения IQ выборки студентов, обучающихся в местных технических вузах: 131, 125, 115, 122, 131, 115, 107, 99, 125, 111. Известно, что в генеральной совокупности IQ распределен нормально. Найдите доверительный интервал для математического ожидания с надежностью 0.95."
   ]
  },
  {
   "cell_type": "code",
   "execution_count": 20,
   "id": "1ac6bf79",
   "metadata": {},
   "outputs": [],
   "source": [
    "iq_v = np.array([131, 125, 115, 122, 131, 115, 107, 99, 125, 111])"
   ]
  },
  {
   "cell_type": "code",
   "execution_count": 21,
   "id": "86d98f06",
   "metadata": {},
   "outputs": [
    {
     "data": {
      "text/plain": [
       "118.1"
      ]
     },
     "execution_count": 21,
     "metadata": {},
     "output_type": "execute_result"
    }
   ],
   "source": [
    "iq_v.mean() # выборочное среднее"
   ]
  },
  {
   "cell_type": "code",
   "execution_count": 22,
   "id": "be69be0a",
   "metadata": {},
   "outputs": [
    {
     "data": {
      "text/plain": [
       "10.54566788359614"
      ]
     },
     "execution_count": 22,
     "metadata": {},
     "output_type": "execute_result"
    }
   ],
   "source": [
    "np.std(iq_v, ddof = 1) # несмещенное стандартное отклонение"
   ]
  },
  {
   "cell_type": "code",
   "execution_count": 26,
   "id": "12d23654",
   "metadata": {},
   "outputs": [
    {
     "name": "stdout",
     "output_type": "stream",
     "text": [
      "доверительный интервал для математического ожидания с надежностью 0.95: [(110.56327742907362, 125.63672257092637)]\n"
     ]
    }
   ],
   "source": [
    "z_tabl = 2.26 # для l/2\n",
    "interval_1 = iq_v.mean() - z_tabl * np.std(iq_v, ddof = 1) / np.sqrt(len(iq_v))\n",
    "interval_2 = iq_v.mean() + z_tabl * np.std(iq_v, ddof = 1) / np.sqrt(len(iq_v))\n",
    "print(f'доверительный интервал для математического ожидания с надежностью 0.95: [{interval_1, interval_2}]')"
   ]
  },
  {
   "cell_type": "markdown",
   "id": "5151337c",
   "metadata": {},
   "source": [
    "##### 3. Известно, что рост футболистов в сборной распределен нормально с дисперсией генеральной совокупности, равной 25 кв.см. Объем выборки равен 27, среднее выборочное составляет 174.2. Найдите доверительный интервал для математического ожидания с надежностью 0.95."
   ]
  },
  {
   "cell_type": "code",
   "execution_count": 27,
   "id": "bce43266",
   "metadata": {},
   "outputs": [
    {
     "name": "stdout",
     "output_type": "stream",
     "text": [
      "доверительный интервал для математического ожидания с надежностью 0.95: [(172.31398912064722, 176.08601087935276)]\n"
     ]
    }
   ],
   "source": [
    "D = 25 # дисперсией генеральной совокупности\n",
    "n = 27 # Объем выборки\n",
    "x_mean = 174.2 #  среднее выборочное\n",
    "z_tabl = 1.96 # накопленное нормальное распределение для 0.05/2 по таблице (надежность 0.95)\n",
    "int_1 = x_mean - z_tabl * np.sqrt(D / n)\n",
    "int_2 = x_mean + z_tabl * np.sqrt(D / n)\n",
    "print(f'доверительный интервал для математического ожидания с надежностью 0.95: [{int_1, int_2}]')"
   ]
  },
  {
   "cell_type": "code",
   "execution_count": null,
   "id": "82ca068a",
   "metadata": {},
   "outputs": [],
   "source": []
  }
 ],
 "metadata": {
  "kernelspec": {
   "display_name": "Python 3",
   "language": "python",
   "name": "python3"
  },
  "language_info": {
   "codemirror_mode": {
    "name": "ipython",
    "version": 3
   },
   "file_extension": ".py",
   "mimetype": "text/x-python",
   "name": "python",
   "nbconvert_exporter": "python",
   "pygments_lexer": "ipython3",
   "version": "3.8.8"
  }
 },
 "nbformat": 4,
 "nbformat_minor": 5
}
