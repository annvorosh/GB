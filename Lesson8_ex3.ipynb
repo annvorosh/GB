{
 "cells": [
  {
   "cell_type": "code",
   "execution_count": 2,
   "id": "f6110f51",
   "metadata": {},
   "outputs": [
    {
     "name": "stdout",
     "output_type": "stream",
     "text": [
      "1.2733020645285607 1.662039122427856 1\n"
     ]
    }
   ],
   "source": [
    "import numpy as np\n",
    "from scipy.optimize import fsolve, broyden2\n",
    "import math\n",
    "\n",
    "\n",
    "def equations(p):\n",
    "    x , y = p\n",
    "    return x**2 - y**2 + 3 * x * y**3 - 2 * x**2 * y**2 + 2 * x - 3 * y - 5 , 3 * y**3 - 2 * x**2 + 2 * x**3 * y - 5 * x**2 * y**2 + 5\n",
    "\n",
    "\n",
    "(x, y), info, ier, mesg = fsolve(equations, (5, 5), full_output = True)\n",
    "   \n",
    "print(x, y, ier)        \n"
   ]
  },
  {
   "cell_type": "code",
   "execution_count": null,
   "id": "b797f13d",
   "metadata": {},
   "outputs": [],
   "source": []
  }
 ],
 "metadata": {
  "kernelspec": {
   "display_name": "Python 3",
   "language": "python",
   "name": "python3"
  },
  "language_info": {
   "codemirror_mode": {
    "name": "ipython",
    "version": 3
   },
   "file_extension": ".py",
   "mimetype": "text/x-python",
   "name": "python",
   "nbconvert_exporter": "python",
   "pygments_lexer": "ipython3",
   "version": "3.8.8"
  }
 },
 "nbformat": 4,
 "nbformat_minor": 5
}
