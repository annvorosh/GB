{
 "cells": [
  {
   "cell_type": "code",
   "execution_count": 51,
   "id": "d98cadfc",
   "metadata": {},
   "outputs": [
    {
     "name": "stdout",
     "output_type": "stream",
     "text": [
      "Численное значение предела: 0.5928377620958291,\n",
      "Погрешность: 2.110316588144201e-09, \n",
      "Член последовательности с ε < 10^(-7): 22-ой\n"
     ]
    }
   ],
   "source": [
    "import math\n",
    "from math import *\n",
    "\n",
    "eps = 10**(-7) # допустимая погрешность\n",
    "lim = 1\n",
    "n = 40\n",
    "a = [0] * n\n",
    "\n",
    "a[1] = sin(1) / 2**1\n",
    "# print(a[1])\n",
    "\n",
    "while lim > eps: \n",
    "    for i in range(2, n, 1):\n",
    "        a[i] = a[i-1] + sin(i) / 2**(i) \n",
    "        lim = abs(a[i-1] - a[i])\n",
    "        # print(lim)\n",
    "        if lim < eps:\n",
    "            print(f'Численное значение предела: {a[i]},\\nПогрешность: {lim}, \\nЧлен последовательности с ε < 10^(-7): {i}-ой')\n",
    "            break\n",
    "# print(a)           "
   ]
  },
  {
   "cell_type": "code",
   "execution_count": null,
   "id": "fdc5d993",
   "metadata": {},
   "outputs": [],
   "source": []
  },
  {
   "cell_type": "code",
   "execution_count": null,
   "id": "b125da34",
   "metadata": {},
   "outputs": [],
   "source": []
  },
  {
   "cell_type": "code",
   "execution_count": null,
   "id": "5f793070",
   "metadata": {},
   "outputs": [],
   "source": []
  }
 ],
 "metadata": {
  "kernelspec": {
   "display_name": "Python 3",
   "language": "python",
   "name": "python3"
  },
  "language_info": {
   "codemirror_mode": {
    "name": "ipython",
    "version": 3
   },
   "file_extension": ".py",
   "mimetype": "text/x-python",
   "name": "python",
   "nbconvert_exporter": "python",
   "pygments_lexer": "ipython3",
   "version": "3.8.8"
  }
 },
 "nbformat": 4,
 "nbformat_minor": 5
}
