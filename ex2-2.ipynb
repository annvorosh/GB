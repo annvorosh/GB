{
 "cells": [
  {
   "cell_type": "code",
   "execution_count": 49,
   "id": "e9eea780",
   "metadata": {},
   "outputs": [
    {
     "name": "stdout",
     "output_type": "stream",
     "text": [
      "x0 = [8 4 6 3 9 0 4 3 8 4]\n",
      "x1 = [0 5 0 4 6 5 7 5 5 7]\n",
      "x2 = [3 2 2 9 7 4 5 7 0 8]\n",
      "x3 = [9 3 0 1 8 7 4 2 1 7]\n",
      "x4 = [3 0 5 9 4 4 9 4 1 0]\n",
      "x5 = [7 2 0 1 1 3 2 0 8 9]\n",
      "x6 = [6 9 1 7 7 5 0 3 8 7]\n",
      "x7 = [8 1 3 4 1 7 2 0 6 2]\n",
      "x8 = [9 8 6 8 2 2 0 6 0 3]\n",
      "x9 = [9 7 9 5 2 6 8 0 9 4]\n",
      "Случайные суммы allsums = [49, 44, 47, 42, 39, 33, 53, 34, 44, 59]\n"
     ]
    },
    {
     "data": {
      "text/plain": [
       "Text(0.5, 1.0, 'Histogram\\n\\nВероятность (количество раз) попадания\\n значания случайной суммы в интервал X\\n')"
      ]
     },
     "execution_count": 49,
     "metadata": {},
     "output_type": "execute_result"
    },
    {
     "data": {
      "image/png": "[encoded data removed]",
      "text/plain": [
       "<Figure size 432x288 with 1 Axes>"
      ]
     },
     "metadata": {
      "needs_background": "light"
     },
     "output_type": "display_data"
    }
   ],
   "source": [
    "#Сгенерируйте десять выборок случайных чисел х0, …, х9.\n",
    "#и постройте гистограмму распределения случайной суммы  +х0+ …+ х 9. \n",
    "\n",
    "%matplotlib inline\n",
    "import numpy as np\n",
    "import matplotlib.pyplot as plt\n",
    "import matplotlib.mlab as mlab\n",
    "\n",
    "allsums=[]\n",
    "for i in range(10):\n",
    "    x = np.random.randint(0, 10, size = 10)  #np.random.randint - создание массива целых случайных чисел\n",
    "    print(f'x{i} = {x}')\n",
    "    allsums.append(sum(x))\n",
    "num_bins = 10\n",
    "plt.hist(allsums, num_bins)\n",
    "print(f'Случайные суммы allsums = {allsums}')\n",
    "plt.xlabel('Summa')\n",
    "plt.ylabel('Probability')\n",
    "plt.title('Histogram\\n\\nВероятность (количество раз) попадания\\n значания случайной суммы в интервал X\\n')\n"
   ]
  },
  {
   "cell_type": "code",
   "execution_count": null,
   "id": "d27015d5",
   "metadata": {},
   "outputs": [],
   "source": []
  },
  {
   "cell_type": "code",
   "execution_count": null,
   "id": "ea1724b4",
   "metadata": {},
   "outputs": [],
   "source": []
  }
 ],
 "metadata": {
  "kernelspec": {
   "display_name": "Python 3",
   "language": "python",
   "name": "python3"
  },
  "language_info": {
   "codemirror_mode": {
    "name": "ipython",
    "version": 3
   },
   "file_extension": ".py",
   "mimetype": "text/x-python",
   "name": "python",
   "nbconvert_exporter": "python",
   "pygments_lexer": "ipython3",
   "version": "3.8.8"
  }
 },
 "nbformat": 4,
 "nbformat_minor": 5
}
