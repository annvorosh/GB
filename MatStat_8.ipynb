{
 "cells": [
  {
   "cell_type": "markdown",
   "id": "328e2dee",
   "metadata": {},
   "source": [
    "### Урок 8. Дисперсионный анализ. Логистическая регрессия\n",
    "##### Провести дисперсионный анализ для определения того, есть ли различия среднего роста среди взрослых футболистов, хоккеистов и штангистов. Даны значения роста в трех группах случайно выбранных спортсменов: Футболисты: 173, 175, 180, 178, 177, 185, 183, 182. Хоккеисты: 177, 179, 180, 188, 177, 172, 171, 184, 180. Штангисты: 172, 173, 169, 177, 166, 180, 178, 177, 172, 166, 170."
   ]
  },
  {
   "cell_type": "code",
   "execution_count": 77,
   "id": "82013353",
   "metadata": {},
   "outputs": [],
   "source": [
    "import numpy as np\n",
    "from scipy import stats\n"
   ]
  },
  {
   "cell_type": "code",
   "execution_count": 78,
   "id": "6f6dc511",
   "metadata": {},
   "outputs": [],
   "source": [
    "f = np.array([173, 175, 180, 178, 177, 185, 183, 182])\n",
    "h = np.array([177, 179, 180, 188, 177, 172, 171, 184, 180])\n",
    "wl = np.array([172, 173, 169, 177, 166, 180, 178, 177, 172, 166, 170])"
   ]
  },
  {
   "cell_type": "code",
   "execution_count": 79,
   "id": "029c019a",
   "metadata": {},
   "outputs": [
    {
     "data": {
      "text/plain": [
       "5.500053450812596"
      ]
     },
     "execution_count": 79,
     "metadata": {},
     "output_type": "execute_result"
    }
   ],
   "source": [
    "F, p = stats.f_oneway(f, h, wl)\n",
    "F"
   ]
  },
  {
   "cell_type": "code",
   "execution_count": 80,
   "id": "188d6c3a",
   "metadata": {},
   "outputs": [
    {
     "name": "stdout",
     "output_type": "stream",
     "text": [
      "n = 28, df1 = 2, df2 = 25\n"
     ]
    }
   ],
   "source": [
    "k = 3\n",
    "n = len(f) + len(h) + len(wl)\n",
    "df1 = k - 1\n",
    "df2 = n - k\n",
    "print(f'n = {n}, df1 = {df1}, df2 = {df2}')"
   ]
  },
  {
   "cell_type": "code",
   "execution_count": 81,
   "id": "fbb077d9",
   "metadata": {},
   "outputs": [
    {
     "data": {
      "text/plain": [
       "3.3851899614491687"
      ]
     },
     "execution_count": 81,
     "metadata": {},
     "output_type": "execute_result"
    }
   ],
   "source": [
    "F_test = stats.f.ppf(0.95, df1, df2)\n",
    "F_test"
   ]
  },
  {
   "cell_type": "code",
   "execution_count": 82,
   "id": "df9f8817",
   "metadata": {},
   "outputs": [
    {
     "name": "stdout",
     "output_type": "stream",
     "text": [
      "Есть различия среднего роста среди взрослых футболистов, хоккеистов и штангистов.\n"
     ]
    }
   ],
   "source": [
    "if F >= F_test:\n",
    "    print('Есть различия среднего роста среди взрослых футболистов, хоккеистов и штангистов.')\n",
    "else:\n",
    "    print('Различий среднего роста среди взрослых футболистов, хоккеистов и штангистов НЕТ')"
   ]
  },
  {
   "cell_type": "code",
   "execution_count": 83,
   "id": "e8549de5",
   "metadata": {},
   "outputs": [
    {
     "data": {
      "text/plain": [
       "2.5283054327176626"
      ]
     },
     "execution_count": 83,
     "metadata": {},
     "output_type": "execute_result"
    }
   ],
   "source": [
    "F_test = stats.f.ppf(0.90, df1, df2)\n",
    "F_test"
   ]
  },
  {
   "cell_type": "code",
   "execution_count": 84,
   "id": "90c729a0",
   "metadata": {},
   "outputs": [
    {
     "name": "stdout",
     "output_type": "stream",
     "text": [
      "Есть различия среднего роста среди взрослых футболистов, хоккеистов и штангистов.\n"
     ]
    }
   ],
   "source": [
    "if F >= F_test:\n",
    "    print('Есть различия среднего роста среди взрослых футболистов, хоккеистов и штангистов.')\n",
    "else:\n",
    "    print('Различий среднего роста среди взрослых футболистов, хоккеистов и штангистов НЕТ')"
   ]
  },
  {
   "cell_type": "markdown",
   "id": "a1972aff",
   "metadata": {},
   "source": [
    "*** Вывод: вид спорта оказывает статистически значимый эффект на рост спортсмена. ***"
   ]
  },
  {
   "cell_type": "code",
   "execution_count": null,
   "id": "82029086",
   "metadata": {},
   "outputs": [],
   "source": []
  },
  {
   "cell_type": "code",
   "execution_count": null,
   "id": "5e5216d4",
   "metadata": {},
   "outputs": [],
   "source": []
  }
 ],
 "metadata": {
  "kernelspec": {
   "display_name": "Python 3",
   "language": "python",
   "name": "python3"
  },
  "language_info": {
   "codemirror_mode": {
    "name": "ipython",
    "version": 3
   },
   "file_extension": ".py",
   "mimetype": "text/x-python",
   "name": "python",
   "nbconvert_exporter": "python",
   "pygments_lexer": "ipython3",
   "version": "3.8.8"
  }
 },
 "nbformat": 4,
 "nbformat_minor": 5
}
