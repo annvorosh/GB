{
 "cells": [
  {
   "cell_type": "markdown",
   "id": "6229bc9c",
   "metadata": {},
   "source": [
    "## ПРАКТИЧЕСКОЕ ЗАДАНИЕ"
   ]
  },
  {
   "cell_type": "markdown",
   "id": "ff54e5ca",
   "metadata": {},
   "source": [
    "1. Найдите посредством NumPy SVD для матрицы:\n",
    "\n",
    "$$\\begin{pmatrix}\n",
    "1 & 2 & 0\\\\ \n",
    "0 & 0 & 5\\\\ \n",
    "3 & -4 & 2\\\\ \n",
    "1 & 6 & 5\\\\ \n",
    "0 & 1 & 0\n",
    "\\end{pmatrix}.$$\n",
    "\n",
    "\n",
    "2. Для матрицы из предыдущего задания найдите:\n",
    "\n",
    "    а) евклидову норму;\n",
    "    \n",
    "    б) норму Фробениуса."
   ]
  },
  {
   "cell_type": "code",
   "execution_count": 3,
   "id": "f3785cb7",
   "metadata": {},
   "outputs": [],
   "source": [
    "import numpy as np\n",
    "np.set_printoptions(precision=2, suppress=True)"
   ]
  },
  {
   "cell_type": "code",
   "execution_count": 6,
   "id": "bec871c7",
   "metadata": {},
   "outputs": [
    {
     "name": "stdout",
     "output_type": "stream",
     "text": [
      "[[ 1  2  0]\n",
      " [ 0  0  5]\n",
      " [ 3 -4  2]\n",
      " [ 1  6  5]\n",
      " [ 0  1  0]]\n"
     ]
    }
   ],
   "source": [
    "A = np.array([[1, 2, 0], [0, 0, 5], [3, -4, 2], [1, 6, 5], [0, 1, 0]])\n",
    "print(A)"
   ]
  },
  {
   "cell_type": "code",
   "execution_count": 15,
   "id": "26852849",
   "metadata": {},
   "outputs": [
    {
     "name": "stdout",
     "output_type": "stream",
     "text": [
      "матрица U:\n",
      "[[ 0.17  0.16 -0.53 -0.8  -0.16]\n",
      " [ 0.39 -0.53  0.61 -0.43  0.03]\n",
      " [-0.14 -0.82 -0.52  0.14  0.07]\n",
      " [ 0.89  0.06 -0.25  0.38 -0.06]\n",
      " [ 0.08  0.11 -0.08 -0.11  0.98]]\n",
      "\n",
      "Сингулярные числа - список диагональных элементов s:\n",
      "[8.82 6.14 2.53]\n",
      "\n",
      "матрица W:\n",
      "[[ 0.07  0.72  0.69]\n",
      " [-0.37  0.67 -0.65]\n",
      " [-0.93 -0.21  0.31]]\n"
     ]
    }
   ],
   "source": [
    "U, s, W = np.linalg.svd(A)\n",
    "print(f'матрица U:\\n{U}\\n')\n",
    "print(f'Сингулярные числа - список диагональных элементов s:\\n{s}\\n')\n",
    "print(f'матрица W:\\n{W}')"
   ]
  },
  {
   "cell_type": "code",
   "execution_count": 16,
   "id": "6ce8a0da",
   "metadata": {},
   "outputs": [
    {
     "name": "stdout",
     "output_type": "stream",
     "text": [
      "матрица V:\n",
      "[[ 0.07 -0.37 -0.93]\n",
      " [ 0.72  0.67 -0.21]\n",
      " [ 0.69 -0.65  0.31]]\n",
      "\n"
     ]
    }
   ],
   "source": [
    "V = W.T\n",
    "print(f'матрица V:\\n{V}\\n')"
   ]
  },
  {
   "cell_type": "code",
   "execution_count": 35,
   "id": "1fcbeb29",
   "metadata": {},
   "outputs": [
    {
     "name": "stdout",
     "output_type": "stream",
     "text": [
      "Cингулярные числа в виде матрицы D:\n",
      "[[8.82 0.   0.  ]\n",
      " [0.   6.14 0.  ]\n",
      " [0.   0.   2.53]\n",
      " [0.   0.   0.  ]\n",
      " [0.   0.   0.  ]]\n",
      "\n"
     ]
    }
   ],
   "source": [
    "D = np.zeros_like(A, dtype=float)\n",
    "D[np.diag_indices(min(A.shape))] = s\n",
    "print(f'Cингулярные числа в виде матрицы D:\\n{D}\\n')"
   ]
  },
  {
   "cell_type": "code",
   "execution_count": 21,
   "id": "493f339d",
   "metadata": {},
   "outputs": [
    {
     "data": {
      "text/plain": [
       "array([[ 1.,  0.,  0.],\n",
       "       [ 0.,  1., -0.],\n",
       "       [ 0., -0.,  1.]])"
      ]
     },
     "execution_count": 21,
     "metadata": {},
     "output_type": "execute_result"
    }
   ],
   "source": [
    "np.dot(V.T, V) #проверка ортогональности"
   ]
  },
  {
   "cell_type": "code",
   "execution_count": 50,
   "id": "7be301b6",
   "metadata": {},
   "outputs": [
    {
     "name": "stdout",
     "output_type": "stream",
     "text": [
      "матрица A_result:\n",
      "[[ 1.  2.  0.]\n",
      " [ 0. -0.  5.]\n",
      " [ 3. -4.  2.]\n",
      " [ 1.  6.  5.]\n",
      " [-0.  1.  0.]]\n",
      "\n",
      "матрица A:\n",
      "[[ 1  2  0]\n",
      " [ 0  0  5]\n",
      " [ 3 -4  2]\n",
      " [ 1  6  5]\n",
      " [ 0  1  0]]\n",
      "\n"
     ]
    },
    {
     "data": {
      "text/plain": [
       "array([[ True,  True,  True],\n",
       "       [ True,  True,  True],\n",
       "       [ True,  True,  True],\n",
       "       [ True,  True,  True],\n",
       "       [ True,  True,  True]])"
      ]
     },
     "execution_count": 50,
     "metadata": {},
     "output_type": "execute_result"
    }
   ],
   "source": [
    "# Проведем проверку\n",
    "A_result = np.dot(np.dot(U, D), V.T)\n",
    "A_result = np.round(A_result)\n",
    "print(f'матрица A_result:\\n{A_result}\\n')\n",
    "print(f'матрица A:\\n{A}\\n')\n",
    "A == A_result"
   ]
  },
  {
   "cell_type": "code",
   "execution_count": 57,
   "id": "3ded888d",
   "metadata": {},
   "outputs": [
    {
     "name": "stdout",
     "output_type": "stream",
     "text": [
      "Евклидова норма матрицы равна евклидовой норме диагональной матрицы из её сингулярных чисел  𝐷 . Максимальное значение полученного отношения будет равно максимальному сингулярному числу  𝜇𝑚𝑎𝑥 , и, принимая во внимание факт сортировки по убыванию сингулярных чисел, получим:\n",
      "Евклидова норма:  8.824868854820442\n"
     ]
    }
   ],
   "source": [
    "print('Евклидова норма матрицы равна евклидовой норме диагональной матрицы из её сингулярных чисел  𝐷 . Максимальное значение полученного отношения будет равно максимальному сингулярному числу  𝜇𝑚𝑎𝑥 , и, принимая во внимание факт сортировки по убыванию сингулярных чисел, получим:')\n",
    "A_E = D[0, 0]\n",
    "print(f'Евклидова норма:  {A_E}')"
   ]
  },
  {
   "cell_type": "markdown",
   "id": "908c7870",
   "metadata": {},
   "source": [
    "Есть также _норма Фробениуса_, определяемая как:\n",
    "\n",
    "$$\\left \\| A \\right \\|_{F}=\\sqrt{\\sum_{i=1}^{m}\\sum_{j=1}^{n}a_{ij}^{2}}.$$"
   ]
  },
  {
   "cell_type": "code",
   "execution_count": 83,
   "id": "fb1dc2f9",
   "metadata": {},
   "outputs": [
    {
     "data": {
      "text/plain": [
       "11.045361017187261"
      ]
     },
     "execution_count": 83,
     "metadata": {},
     "output_type": "execute_result"
    }
   ],
   "source": [
    "A_F = np.sqrt(np.sum((A)**2))\n",
    "A_F"
   ]
  },
  {
   "cell_type": "markdown",
   "id": "5ce40f0d",
   "metadata": {
    "id": "Pd2mgUPqCzr0"
   },
   "source": [
    "Когда известно сингулярное разложение матрицы, её норма Фробениуса вычисляется как:\n",
    "\n",
    "$$\\left \\| A \\right \\|_{F}=\\sqrt{\\sum_{k=1}^{r}\\mu_{k}^{2}}.$$"
   ]
  },
  {
   "cell_type": "code",
   "execution_count": 85,
   "id": "3900619c",
   "metadata": {},
   "outputs": [
    {
     "data": {
      "text/plain": [
       "11.045361017187261"
      ]
     },
     "execution_count": 85,
     "metadata": {},
     "output_type": "execute_result"
    }
   ],
   "source": [
    "A_F = np.sqrt(np.sum(np.diag(D**2)))\n",
    "A_F"
   ]
  },
  {
   "cell_type": "code",
   "execution_count": 88,
   "id": "627a7b36",
   "metadata": {},
   "outputs": [
    {
     "data": {
      "text/plain": [
       "11.045361017187261"
      ]
     },
     "execution_count": 88,
     "metadata": {},
     "output_type": "execute_result"
    }
   ],
   "source": [
    "np.linalg.norm(A)"
   ]
  },
  {
   "cell_type": "code",
   "execution_count": 90,
   "id": "84dac1e9",
   "metadata": {},
   "outputs": [
    {
     "data": {
      "text/plain": [
       "True"
      ]
     },
     "execution_count": 90,
     "metadata": {},
     "output_type": "execute_result"
    }
   ],
   "source": [
    "np.linalg.norm(A) == A_F"
   ]
  },
  {
   "cell_type": "code",
   "execution_count": null,
   "id": "9c8aba38",
   "metadata": {},
   "outputs": [],
   "source": []
  }
 ],
 "metadata": {
  "kernelspec": {
   "display_name": "Python 3",
   "language": "python",
   "name": "python3"
  },
  "language_info": {
   "codemirror_mode": {
    "name": "ipython",
    "version": 3
   },
   "file_extension": ".py",
   "mimetype": "text/x-python",
   "name": "python",
   "nbconvert_exporter": "python",
   "pygments_lexer": "ipython3",
   "version": "3.8.8"
  }
 },
 "nbformat": 4,
 "nbformat_minor": 5
}
