{
 "cells": [
  {
   "cell_type": "markdown",
   "id": "c3ffd5c8",
   "metadata": {},
   "source": [
    "### Тема “Вычисления с помощью Numpy”\n",
    "\n",
    "#### Задание 1\n",
    "Импортируйте библиотеку Numpy и дайте ей псевдоним np.\n",
    "Создайте массив Numpy под названием a размером 5x2, то есть состоящий из 5 строк и 2 столбцов. Первый столбец должен содержать числа 1, 2, 3, 3, 1, а второй - числа 6, 8, 11, 10, 7. Будем считать, что каждый столбец - это признак, а строка - наблюдение. Затем найдите среднее значение по каждому признаку, используя метод mean массива Numpy. Результат запишите в массив mean_a, в нем должно быть 2 элемента.\n"
   ]
  },
  {
   "cell_type": "code",
   "execution_count": 49,
   "id": "44ccac8f",
   "metadata": {},
   "outputs": [
    {
     "name": "stdout",
     "output_type": "stream",
     "text": [
      "Столбцы признаков: \n",
      "[[ 1  6]\n",
      " [ 2  8]\n",
      " [ 3 11]\n",
      " [ 3 10]\n",
      " [ 1  7]]\n",
      "Среднее значение по каждому признаку: [2.  8.4]\n"
     ]
    }
   ],
   "source": [
    "import numpy as np\n",
    "\n",
    "a = np.array([[1, 2, 3, 3, 1], \n",
    "              [6, 8, 11, 10, 7]])\n",
    "\n",
    "a = a.T\n",
    "\n",
    "print(f'Столбцы признаков: \\n{a}')\n",
    "\n",
    "mean_a = np.array([np.mean(a[:, 0]), np.mean(a[:, 1])])\n",
    "\n",
    "print(f'Среднее значение по каждому признаку: {mean_a}')"
   ]
  },
  {
   "cell_type": "markdown",
   "id": "f7d58dc3",
   "metadata": {},
   "source": [
    "#### Задание 2\n",
    "Вычислите массив a_centered, отняв от значений массива “а” средние значения соответствующих признаков, содержащиеся в массиве mean_a. Вычисление должно производиться в одно действие. Получившийся массив должен иметь размер 5x2.\n"
   ]
  },
  {
   "cell_type": "code",
   "execution_count": 25,
   "id": "d1a2b6c1",
   "metadata": {},
   "outputs": [
    {
     "data": {
      "text/plain": [
       "array([[-1. , -2.4],\n",
       "       [ 0. , -0.4],\n",
       "       [ 1. ,  2.6],\n",
       "       [ 1. ,  1.6],\n",
       "       [-1. , -1.4]])"
      ]
     },
     "execution_count": 25,
     "metadata": {},
     "output_type": "execute_result"
    }
   ],
   "source": [
    "a_centered = a - mean_a\n",
    "a_centered"
   ]
  },
  {
   "cell_type": "markdown",
   "id": "4bb724a0",
   "metadata": {},
   "source": [
    "#### Задание 3\n",
    "Найдите скалярное произведение столбцов массива a_centered. В результате должна получиться величина a_centered_sp. Затем поделите a_centered_sp на N-1, где N - число наблюдений.\n"
   ]
  },
  {
   "cell_type": "code",
   "execution_count": 50,
   "id": "40cb1818",
   "metadata": {},
   "outputs": [
    {
     "name": "stdout",
     "output_type": "stream",
     "text": [
      "Скалярное произведение двух столбцов массива a_centered равно: 8.0\n",
      "Скалярное произведение (2й способ) двух столбцов массива a_centered равно: 8.0\n",
      "\n",
      "Число наблюдений a_centered равно: 5\n",
      "Ковариация двух признаков, содержащихся в массиве \"а\" равна: 2.0\n"
     ]
    }
   ],
   "source": [
    "a_centered_sp = a_centered[:,0] @ a_centered[:,1]\n",
    "print(f'Скалярное произведение двух столбцов массива a_centered равно: {a_centered_sp}')\n",
    "\n",
    "a_centered_sp1 = a_centered[:,0].dot(a_centered[:,1])\n",
    "print(f'Скалярное произведение (2й способ) двух столбцов массива a_centered равно: {a_centered_sp1}\\n')\n",
    "\n",
    "num_obs = a_centered.shape\n",
    "print(f'Число наблюдений a_centered равно: {num_obs[0]}')\n",
    "\n",
    "cov = a_centered_sp / (num_obs[0] - 1)\n",
    "print(f'Ковариация двух признаков, содержащихся в массиве \"а\" равна: {cov}')"
   ]
  },
  {
   "cell_type": "markdown",
   "id": "a7a182bc",
   "metadata": {},
   "source": [
    "### Задание 4**\n",
    "Число, которое мы получили в конце задания 3 является ковариацией двух признаков, содержащихся в массиве “а”. В задании 4 мы делили сумму произведений центрированных признаков на N-1, а не на N, поэтому полученная нами величина является несмещенной оценкой ковариации.\n",
    "Подробнее узнать о ковариации можно здесь:\n",
    "Выборочная ковариация и выборочная дисперсия — Студопедия\n",
    "В этом задании проверьте получившееся число, вычислив ковариацию еще одним способом - с помощью функции np.cov. В качестве аргумента m функция np.cov должна принимать транспонированный массив “a”. В получившейся ковариационной матрице (массив Numpy размером 2x2) искомое значение ковариации будет равно элементу в строке с индексом 0 и столбце с индексом 1.\n"
   ]
  },
  {
   "cell_type": "code",
   "execution_count": 47,
   "id": "27a64a3e",
   "metadata": {},
   "outputs": [
    {
     "name": "stdout",
     "output_type": "stream",
     "text": [
      "Ковариационная матрица: \n",
      "[[1.  2. ]\n",
      " [2.  4.3]]\n",
      "Искомое значение ковариации: 2.0\n"
     ]
    }
   ],
   "source": [
    "cov1 = np.cov(a.T)\n",
    "print(f'Ковариационная матрица: \\n{cov1}')\n",
    "cov1 = cov1[0, 1]\n",
    "print(f'Искомое значение ковариации: {cov1}')"
   ]
  },
  {
   "cell_type": "code",
   "execution_count": null,
   "id": "d7b7c9c6",
   "metadata": {},
   "outputs": [],
   "source": []
  }
 ],
 "metadata": {
  "kernelspec": {
   "display_name": "Python 3",
   "language": "python",
   "name": "python3"
  },
  "language_info": {
   "codemirror_mode": {
    "name": "ipython",
    "version": 3
   },
   "file_extension": ".py",
   "mimetype": "text/x-python",
   "name": "python",
   "nbconvert_exporter": "python",
   "pygments_lexer": "ipython3",
   "version": "3.8.8"
  }
 },
 "nbformat": 4,
 "nbformat_minor": 5
}
