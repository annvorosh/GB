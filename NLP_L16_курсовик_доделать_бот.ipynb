{
 "cells": [
  {
   "cell_type": "markdown",
   "metadata": {
    "id": "mu3csxfQcbe7"
   },
   "source": [
    "**NLP КУРСОВОЙ ПРОЕКТ**\n",
    "\n",
    "**Задание**\n",
    "\n",
    "#### Реализовать сценарии поведения для диалоговой системы\n",
    "- 1-ый сценарий болталка:\n",
    "медицинская вопросно-ответную систему, датасет https://huggingface.co/datasets/blinoff/medical_qa_ru_data\n",
    "- 2-ой погода в городе\n",
    "- 3-тий праздники\n",
    "- 4-ый фильмы\n",
    "- 5-ый покупка товара"
   ]
  },
  {
   "cell_type": "code",
   "execution_count": 62,
   "metadata": {
    "colab": {
     "base_uri": "https://localhost:8080/"
    },
    "id": "f0Sqj8x2Uwhu",
    "outputId": "756babcf-78ee-4d92-bf9e-1843ee381dcc"
   },
   "outputs": [
    {
     "name": "stdout",
     "output_type": "stream",
     "text": [
      "\u001b[33mWARNING: Skipping /opt/homebrew/lib/python3.11/site-packages/numpy-1.24.2-py3.11.egg-info due to invalid metadata entry 'name'\u001b[0m\u001b[33m\n",
      "\u001b[0m\u001b[33mWARNING: Skipping /opt/homebrew/lib/python3.11/site-packages/numpy-1.24.2-py3.11.egg-info due to invalid metadata entry 'name'\u001b[0m\u001b[33m\n",
      "\u001b[0mRequirement already satisfied: transformers in /opt/homebrew/lib/python3.11/site-packages (4.33.0)\n",
      "Requirement already satisfied: torch in /opt/homebrew/lib/python3.11/site-packages (2.0.0)\n",
      "Requirement already satisfied: torchvision in /opt/homebrew/lib/python3.11/site-packages (0.15.1)\n",
      "Requirement already satisfied: torchaudio in /opt/homebrew/lib/python3.11/site-packages (2.0.1)\n",
      "Requirement already satisfied: filelock in /opt/homebrew/lib/python3.11/site-packages (from transformers) (3.11.0)\n",
      "Requirement already satisfied: huggingface-hub<1.0,>=0.15.1 in /opt/homebrew/lib/python3.11/site-packages (from transformers) (0.16.4)\n",
      "Requirement already satisfied: numpy>=1.17 in /opt/homebrew/lib/python3.11/site-packages (from transformers) (1.24.3)\n",
      "Requirement already satisfied: packaging>=20.0 in /opt/homebrew/lib/python3.11/site-packages (from transformers) (23.1)\n",
      "Requirement already satisfied: pyyaml>=5.1 in /opt/homebrew/lib/python3.11/site-packages (from transformers) (6.0)\n",
      "Requirement already satisfied: regex!=2019.12.17 in /opt/homebrew/lib/python3.11/site-packages (from transformers) (2023.6.3)\n",
      "Requirement already satisfied: requests in /opt/homebrew/lib/python3.11/site-packages (from transformers) (2.28.2)\n",
      "Requirement already satisfied: tokenizers!=0.11.3,<0.14,>=0.11.1 in /opt/homebrew/lib/python3.11/site-packages (from transformers) (0.13.3)\n",
      "Requirement already satisfied: safetensors>=0.3.1 in /opt/homebrew/lib/python3.11/site-packages (from transformers) (0.3.3)\n",
      "Requirement already satisfied: tqdm>=4.27 in /opt/homebrew/lib/python3.11/site-packages (from transformers) (4.65.0)\n",
      "Requirement already satisfied: typing-extensions in /opt/homebrew/lib/python3.11/site-packages (from torch) (4.7.1)\n",
      "Requirement already satisfied: sympy in /opt/homebrew/lib/python3.11/site-packages (from torch) (1.11.1)\n",
      "Requirement already satisfied: networkx in /opt/homebrew/lib/python3.11/site-packages (from torch) (3.1)\n",
      "Requirement already satisfied: jinja2 in /opt/homebrew/lib/python3.11/site-packages (from torch) (3.1.2)\n",
      "Requirement already satisfied: pillow!=8.3.*,>=5.3.0 in /opt/homebrew/lib/python3.11/site-packages (from torchvision) (9.5.0)\n",
      "Requirement already satisfied: fsspec in /opt/homebrew/lib/python3.11/site-packages (from huggingface-hub<1.0,>=0.15.1->transformers) (2023.6.0)\n",
      "Requirement already satisfied: MarkupSafe>=2.0 in /opt/homebrew/lib/python3.11/site-packages (from jinja2->torch) (2.1.2)\n",
      "Requirement already satisfied: charset-normalizer<4,>=2 in /opt/homebrew/lib/python3.11/site-packages (from requests->transformers) (3.1.0)\n",
      "Requirement already satisfied: idna<4,>=2.5 in /opt/homebrew/lib/python3.11/site-packages (from requests->transformers) (3.4)\n",
      "Requirement already satisfied: urllib3<1.27,>=1.21.1 in /opt/homebrew/lib/python3.11/site-packages (from requests->transformers) (1.26.15)\n",
      "Requirement already satisfied: certifi>=2017.4.17 in /opt/homebrew/lib/python3.11/site-packages (from requests->transformers) (2022.12.7)\n",
      "Requirement already satisfied: mpmath>=0.19 in /opt/homebrew/lib/python3.11/site-packages (from sympy->torch) (1.3.0)\n",
      "\u001b[33mWARNING: Skipping /opt/homebrew/lib/python3.11/site-packages/numpy-1.24.2-py3.11.egg-info due to invalid metadata entry 'name'\u001b[0m\u001b[33m\n",
      "\u001b[0m\u001b[33mWARNING: Skipping /opt/homebrew/lib/python3.11/site-packages/numpy-1.24.2-py3.11.egg-info due to invalid metadata entry 'name'\u001b[0m\u001b[33m\n",
      "\u001b[0m\u001b[33mWARNING: Skipping /opt/homebrew/lib/python3.11/site-packages/numpy-1.24.2-py3.11.egg-info due to invalid metadata entry 'name'\u001b[0m\u001b[33m\n",
      "\u001b[0m\u001b[33mWARNING: Skipping /opt/homebrew/lib/python3.11/site-packages/numpy-1.24.2-py3.11.egg-info due to invalid metadata entry 'name'\u001b[0m\u001b[33m\n",
      "\u001b[0m"
     ]
    }
   ],
   "source": [
    "!pip3 install transformers torch  torchvision torchaudio"
   ]
  },
  {
   "cell_type": "code",
   "execution_count": 63,
   "metadata": {},
   "outputs": [
    {
     "name": "stdout",
     "output_type": "stream",
     "text": [
      "\u001b[33mWARNING: Skipping /opt/homebrew/lib/python3.11/site-packages/numpy-1.24.2-py3.11.egg-info due to invalid metadata entry 'name'\u001b[0m\u001b[33m\n",
      "\u001b[0m\u001b[33mWARNING: Skipping /opt/homebrew/lib/python3.11/site-packages/numpy-1.24.2-py3.11.egg-info due to invalid metadata entry 'name'\u001b[0m\u001b[33m\n",
      "\u001b[0m\u001b[31mERROR: Could not find a version that satisfies the requirement torch==1.12.1 (from versions: 2.0.0, 2.0.1)\u001b[0m\u001b[31m\n",
      "\u001b[0m\u001b[31mERROR: No matching distribution found for torch==1.12.1\u001b[0m\u001b[31m\n",
      "\u001b[0m\u001b[33mWARNING: Skipping /opt/homebrew/lib/python3.11/site-packages/numpy-1.24.2-py3.11.egg-info due to invalid metadata entry 'name'\u001b[0m\u001b[33m\n",
      "\u001b[0m\u001b[33mWARNING: Skipping /opt/homebrew/lib/python3.11/site-packages/numpy-1.24.2-py3.11.egg-info due to invalid metadata entry 'name'\u001b[0m\u001b[33m\n",
      "\u001b[0m\u001b[33mWARNING: Skipping /opt/homebrew/lib/python3.11/site-packages/numpy-1.24.2-py3.11.egg-info due to invalid metadata entry 'name'\u001b[0m\u001b[33m\n",
      "\u001b[0m"
     ]
    }
   ],
   "source": [
    "!pip3 install torch==1.12.1 torchvision==0.13.1 torchaudio==0.12.1"
   ]
  },
  {
   "cell_type": "code",
   "execution_count": 64,
   "metadata": {
    "id": "0koRjKobU1b3"
   },
   "outputs": [],
   "source": [
    "from transformers import GPT2LMHeadModel, GPT2Tokenizer\n",
    "import torch\n",
    "\n",
    "model_name_or_path = \"sberbank-ai/rugpt3large_based_on_gpt2\"\n",
    "tokenizer = GPT2Tokenizer.from_pretrained(model_name_or_path)\n",
    "model = GPT2LMHeadModel.from_pretrained(model_name_or_path)\n"
   ]
  },
  {
   "cell_type": "code",
   "execution_count": 73,
   "metadata": {
    "id": "lLStPgD3dwfL"
   },
   "outputs": [],
   "source": [
    "def generate_response(question, max_response_length=200):\n",
    "    input_text = \"Вопрос:\" + question  # Префикс \"вопрос:\" для указания модели на вопрос\n",
    "    input_ids = tokenizer.encode(input_text, return_tensors=\"pt\")\n",
    "\n",
    "    # Генерация ответа\n",
    "    with torch.no_grad():\n",
    "        output = model.generate(input_ids, max_length=max_response_length, num_return_sequences=1, no_repeat_ngram_size=2, top_k=50, top_p=0.95)\n",
    "\n",
    "    response = tokenizer.decode(output[0], skip_special_tokens=True)\n",
    "    \n",
    "    print(\"Сгенерированный ответ:\", response)\n",
    "    return response"
   ]
  },
  {
   "cell_type": "code",
   "execution_count": 74,
   "metadata": {},
   "outputs": [
    {
     "name": "stderr",
     "output_type": "stream",
     "text": [
      "The attention mask and the pad token id were not set. As a consequence, you may observe unexpected behavior. Please pass your input's `attention_mask` to obtain reliable results.\n",
      "Setting `pad_token_id` to `eos_token_id`:50256 for open-end generation.\n"
     ]
    },
    {
     "name": "stdout",
     "output_type": "stream",
     "text": [
      "Сгенерированный ответ: Вопрос:Какие блюда готовят на Рош-А-Шана?\n",
      "\n",
      "ОТВЕТ:\n",
      "Рош А-Шаны готовят из мяса, рыбы, овощей, зелени, фруктов, орехов, семян, меда, пряностей, специй, а также из яиц, молока, яиц и молочных продуктов.\n",
      "В Роше-шанах можно найти блюда из риса, бобов, картофеля, моркови, свеклы, лука, чеснока, петрушки, сельдерея, укропа, кинзы, базилика, зеленого лука и других растений. В Роша-шане можно также найти различные блюда, приготовленные из овощей и фруктов. Роши-шан готовят с добавлением молока и яиц.<s>\n",
      "Праздник к нам приходит... \n",
      "\n",
      "С праздником, дорогие друзья!\n",
      "Пусть в этот день все будет хорошо!<s>\tПолезные советы для тех, кто хочет похудеть \n",
      "\t\n",
      "1. Не ешьте после шести. Это вредно\n",
      "Вопрос:Какие блюда готовят на Рош-А-Шана?\n",
      "\n",
      "ОТВЕТ:\n",
      "Рош А-Шаны готовят из мяса, рыбы, овощей, зелени, фруктов, орехов, семян, меда, пряностей, специй, а также из яиц, молока, яиц и молочных продуктов.\n",
      "В Роше-шанах можно найти блюда из риса, бобов, картофеля, моркови, свеклы, лука, чеснока, петрушки, сельдерея, укропа, кинзы, базилика, зеленого лука и других растений. В Роша-шане можно также найти различные блюда, приготовленные из овощей и фруктов. Роши-шан готовят с добавлением молока и яиц.<s>\n",
      "Праздник к нам приходит... \n",
      "\n",
      "С праздником, дорогие друзья!\n",
      "Пусть в этот день все будет хорошо!<s>\tПолезные советы для тех, кто хочет похудеть \n",
      "\t\n",
      "1. Не ешьте после шести. Это вредно\n"
     ]
    }
   ],
   "source": [
    "# Пример использования\n",
    "user_question = \"Какие блюда готовят на Рош-А-Шана?\"\n",
    "answer = generate_response(user_question)\n",
    "print(answer)"
   ]
  },
  {
   "cell_type": "code",
   "execution_count": 67,
   "metadata": {},
   "outputs": [],
   "source": [
    "# Загрузка медицинских данных из CSV файла\n",
    "data = pd.read_csv(\"medical_qa_ru_data.csv\")"
   ]
  },
  {
   "cell_type": "code",
   "execution_count": 68,
   "metadata": {},
   "outputs": [],
   "source": [
    "import pandas as pd\n",
    "import numpy as np\n",
    "from sklearn.feature_extraction.text import TfidfVectorizer\n",
    "from sklearn.metrics.pairwise import cosine_similarity\n",
    "from transformers import GPT2LMHeadModel, GPT2Tokenizer\n",
    "import torch\n",
    "\n",
    "\n",
    "# Функция для получения ответа на медицинский вопрос\n",
    "def generate_medical_response(question, max_response_length=200):\n",
    "    input_text = \"вопрос:\" + question  # Префикс \"вопрос:\" для указания модели на вопрос\n",
    "    input_ids = tokenizer.encode(input_text, return_tensors=\"pt\")\n",
    "\n",
    "    # Генерация ответа\n",
    "    with torch.no_grad():\n",
    "        output = model.generate(input_ids, max_length=max_response_length, num_return_sequences=1, no_repeat_ngram_size=2, top_k=50, top_p=0.95)\n",
    "\n",
    "    response = tokenizer.decode(output[0], skip_special_tokens=True)\n",
    "    \n",
    "    # Остановка генерации перед вторым словом \"Вопрос\"\n",
    "    response = response.split(\"Вопрос:\", 1)[0]\n",
    "    \n",
    "    print(\"\\n\\nСгенерированный ответ:\", response)\n",
    "    return response\n",
    "\n",
    "\n",
    "\n",
    "# Функция для выбора ближайших соседей на основе TF-IDF и косинусной метрики\n",
    "def choose_best_answer(question, dataset, num_neighbors=1):\n",
    "    # Токенизация вопроса пользователя\n",
    "    question_tokens = tokenizer.tokenize(question)\n",
    "    question_text = \" \".join(question_tokens)\n",
    "\n",
    "    # Предварительная обработка текста в \"desc\" из датасета\n",
    "    dataset_tokens = [tokenizer.tokenize(desc) if isinstance(desc, str) else [] for desc in dataset]\n",
    "    dataset_text = [\" \".join(tokens) for tokens in dataset_tokens]\n",
    "\n",
    "    # Вычисление TF-IDF векторов для текстов в \"desc\"\n",
    "    vectorizer = TfidfVectorizer()\n",
    "    tfidf_matrix = vectorizer.fit_transform(dataset_text)\n",
    "\n",
    "    # Вычисление TF-IDF вектора для вопроса пользователя\n",
    "    question_tfidf = vectorizer.transform([question_text])\n",
    "\n",
    "    # Вычисление косинусных сходств между вопросом пользователя и текстами в \"desc\"\n",
    "    cosine_similarities = cosine_similarity(question_tfidf, tfidf_matrix)\n",
    "\n",
    "    # Пороговое значение метрики сходства\n",
    "    threshold_similarity = 0.5  # Настройте это значение по вашему усмотрению    \n",
    "    \n",
    "    # Выбор ближайших соседей из \"desc\"\n",
    "    best_indices = np.argsort(cosine_similarities, axis=1)[:, -num_neighbors:][:, ::-1]\n",
    "    best_descs = [[dataset[idx] for idx in indices] for indices in best_indices]\n",
    "\n",
    "    # Собираем ответы на основе \"ans\" для каждого текста из \"best_descs\"\n",
    "    answers = []\n",
    "    for desc_list in best_descs:\n",
    "        answer_list = []\n",
    "        for desc in desc_list:\n",
    "            matching_rows = data[data[\"desc\"] == desc]\n",
    "            if not matching_rows.empty and \"ans\" in matching_rows.columns:\n",
    "                answer = matching_rows[\"ans\"].values[0]\n",
    "                answer_list.append(answer)\n",
    "        answers.append(answer_list)\n",
    "\n",
    "    # Пример: выводим ответы\n",
    "    for i, answer_list in enumerate(answers):\n",
    "        print(f\"Ответ на основе ближайших соседей:\\n\")\n",
    "        for j, answer in enumerate(answer_list):\n",
    "            print(f\"{j + 1}. {answer}\")\n",
    "\n",
    "    return best_descs\n"
   ]
  },
  {
   "cell_type": "code",
   "execution_count": 69,
   "metadata": {},
   "outputs": [
    {
     "name": "stderr",
     "output_type": "stream",
     "text": [
      "/opt/homebrew/lib/python3.11/site-packages/transformers/generation/configuration_utils.py:367: UserWarning: `do_sample` is set to `False`. However, `top_p` is set to `0.95` -- this flag is only used in sample-based generation modes. You should set `do_sample=True` or unset `top_p`.\n",
      "  warnings.warn(\n",
      "The attention mask and the pad token id were not set. As a consequence, you may observe unexpected behavior. Please pass your input's `attention_mask` to obtain reliable results.\n",
      "Setting `pad_token_id` to `eos_token_id`:50256 for open-end generation.\n"
     ]
    },
    {
     "name": "stdout",
     "output_type": "stream",
     "text": [
      "Ответ на основе ближайших соседей:\n",
      "\n",
      "1. Приглашайте педиатра на дом.;\n",
      "Покажите ребенка педиатру.;\n",
      "Необходимо показать ребенка врачу.\n",
      "\n",
      "\n",
      "Сгенерированный ответ: вопрос:Ребенок плачет, что делать? \n",
      "Ответ:\n",
      "Рекомендую вам обратиться к психологу.\n",
      "\n",
      "\n"
     ]
    }
   ],
   "source": [
    "# Пример использования\n",
    "user_question = \"Ребенок плачет, что делать? \"\n",
    "\n",
    "# Выбор ответов на основе ближайших соседей\n",
    "best_descs = choose_best_answer(user_question, data[\"desc\"])\n",
    "\n",
    "# Если нет близких соседей, использовать generate_medical_response\n",
    "answer = generate_medical_response(user_question)\n"
   ]
  },
  {
   "cell_type": "code",
   "execution_count": null,
   "metadata": {},
   "outputs": [],
   "source": []
  },
  {
   "cell_type": "markdown",
   "metadata": {
    "id": "OoLQkuICb8t_"
   },
   "source": [
    "# Bot"
   ]
  },
  {
   "cell_type": "code",
   "execution_count": 70,
   "metadata": {
    "colab": {
     "base_uri": "https://localhost:8080/"
    },
    "id": "cCSOWNUIr8hA",
    "outputId": "c5734db8-c987-4846-9bc4-0e491bdb7632"
   },
   "outputs": [
    {
     "name": "stdout",
     "output_type": "stream",
     "text": [
      "\u001b[33mWARNING: Skipping /opt/homebrew/lib/python3.11/site-packages/numpy-1.24.2-py3.11.egg-info due to invalid metadata entry 'name'\u001b[0m\u001b[33m\n",
      "\u001b[0m\u001b[33mWARNING: Skipping /opt/homebrew/lib/python3.11/site-packages/numpy-1.24.2-py3.11.egg-info due to invalid metadata entry 'name'\u001b[0m\u001b[33m\n",
      "\u001b[0mRequirement already satisfied: pytelegrambotapi in /opt/homebrew/lib/python3.11/site-packages (4.13.0)\n",
      "Requirement already satisfied: requests in /opt/homebrew/lib/python3.11/site-packages (from pytelegrambotapi) (2.28.2)\n",
      "Requirement already satisfied: charset-normalizer<4,>=2 in /opt/homebrew/lib/python3.11/site-packages (from requests->pytelegrambotapi) (3.1.0)\n",
      "Requirement already satisfied: idna<4,>=2.5 in /opt/homebrew/lib/python3.11/site-packages (from requests->pytelegrambotapi) (3.4)\n",
      "Requirement already satisfied: urllib3<1.27,>=1.21.1 in /opt/homebrew/lib/python3.11/site-packages (from requests->pytelegrambotapi) (1.26.15)\n",
      "Requirement already satisfied: certifi>=2017.4.17 in /opt/homebrew/lib/python3.11/site-packages (from requests->pytelegrambotapi) (2022.12.7)\n",
      "\u001b[33mWARNING: Skipping /opt/homebrew/lib/python3.11/site-packages/numpy-1.24.2-py3.11.egg-info due to invalid metadata entry 'name'\u001b[0m\u001b[33m\n",
      "\u001b[0m\u001b[33mWARNING: Skipping /opt/homebrew/lib/python3.11/site-packages/numpy-1.24.2-py3.11.egg-info due to invalid metadata entry 'name'\u001b[0m\u001b[33m\n",
      "\u001b[0m\u001b[33mWARNING: Skipping /opt/homebrew/lib/python3.11/site-packages/numpy-1.24.2-py3.11.egg-info due to invalid metadata entry 'name'\u001b[0m\u001b[33m\n",
      "\u001b[0m\u001b[33mWARNING: Skipping /opt/homebrew/lib/python3.11/site-packages/numpy-1.24.2-py3.11.egg-info due to invalid metadata entry 'name'\u001b[0m\u001b[33m\n",
      "\u001b[0m"
     ]
    }
   ],
   "source": [
    "!pip install pytelegrambotapi"
   ]
  },
  {
   "cell_type": "code",
   "execution_count": 81,
   "metadata": {},
   "outputs": [
    {
     "ename": "ImportError",
     "evalue": "cannot import name 'Filters' from 'telegram.ext' (/opt/homebrew/lib/python3.11/site-packages/telegram/ext/__init__.py)",
     "output_type": "error",
     "traceback": [
      "\u001b[0;31m---------------------------------------------------------------------------\u001b[0m",
      "\u001b[0;31mImportError\u001b[0m                               Traceback (most recent call last)",
      "Cell \u001b[0;32mIn[81], line 4\u001b[0m\n\u001b[1;32m      1\u001b[0m \u001b[38;5;28;01mimport\u001b[39;00m \u001b[38;5;21;01mlogging\u001b[39;00m\n\u001b[1;32m      3\u001b[0m \u001b[38;5;28;01mfrom\u001b[39;00m \u001b[38;5;21;01mtelegram\u001b[39;00m \u001b[38;5;28;01mimport\u001b[39;00m Update\n\u001b[0;32m----> 4\u001b[0m \u001b[38;5;28;01mfrom\u001b[39;00m \u001b[38;5;21;01mtelegram\u001b[39;00m\u001b[38;5;21;01m.\u001b[39;00m\u001b[38;5;21;01mext\u001b[39;00m \u001b[38;5;28;01mimport\u001b[39;00m Updater, CommandHandler, MessageHandler, Filters, CallbackContext\n\u001b[1;32m      6\u001b[0m \u001b[38;5;28;01mimport\u001b[39;00m \u001b[38;5;21;01mdialogflow\u001b[39;00m\n",
      "\u001b[0;31mImportError\u001b[0m: cannot import name 'Filters' from 'telegram.ext' (/opt/homebrew/lib/python3.11/site-packages/telegram/ext/__init__.py)"
     ]
    }
   ],
   "source": [
    "import logging\n",
    "\n",
    "from telegram import Update\n",
    "from telegram.ext import Updater, CommandHandler, MessageHandler, Filters, CallbackContext\n",
    "\n",
    "import dialogflow"
   ]
  },
  {
   "cell_type": "code",
   "execution_count": 75,
   "metadata": {
    "id": "MdmxBx-rEBvt"
   },
   "outputs": [
    {
     "ename": "NameError",
     "evalue": "name 'Update' is not defined",
     "output_type": "error",
     "traceback": [
      "\u001b[0;31m---------------------------------------------------------------------------\u001b[0m",
      "\u001b[0;31mNameError\u001b[0m                                 Traceback (most recent call last)",
      "Cell \u001b[0;32mIn[75], line 3\u001b[0m\n\u001b[1;32m      1\u001b[0m \u001b[38;5;66;03m# Define a few command handlers. These usually take the two arguments update and\u001b[39;00m\n\u001b[1;32m      2\u001b[0m \u001b[38;5;66;03m# context. Error handlers also receive the raised TelegramError object in error.\u001b[39;00m\n\u001b[0;32m----> 3\u001b[0m \u001b[38;5;28;01mdef\u001b[39;00m \u001b[38;5;21mstart\u001b[39m(update: \u001b[43mUpdate\u001b[49m, context: CallbackContext):\n\u001b[1;32m      4\u001b[0m     update\u001b[38;5;241m.\u001b[39mmessage\u001b[38;5;241m.\u001b[39mreply_text(\u001b[38;5;124m'\u001b[39m\u001b[38;5;124mHi!\u001b[39m\u001b[38;5;124m'\u001b[39m)\n\u001b[1;32m      6\u001b[0m \u001b[38;5;28;01mdef\u001b[39;00m \u001b[38;5;21mecho\u001b[39m(update: Update, context: CallbackContext):\n",
      "\u001b[0;31mNameError\u001b[0m: name 'Update' is not defined"
     ]
    }
   ],
   "source": [
    "# Define a few command handlers. These usually take the two arguments update and\n",
    "# context. Error handlers also receive the raised TelegramError object in error.\n",
    "def start(update: Update, context: CallbackContext):\n",
    "    update.message.reply_text('Hi!')\n",
    "\n",
    "def echo(update: Update, context: CallbackContext):\n",
    "    txt = update.message.text\n",
    "\n",
    "    update.message.reply_text('Ваше сообщение! ' + update.message.text)\n",
    "    reply_text = model_ru([text], [update.message.text])\n",
    "\n",
    "    #.encode('utf8')\n",
    "    reply_text = reply_text[0][0] \n",
    "    \n",
    "    update.message.reply_text(reply_text)"
   ]
  },
  {
   "cell_type": "code",
   "execution_count": 76,
   "metadata": {
    "id": "BJNBeKlgr7OI"
   },
   "outputs": [
    {
     "ename": "NameError",
     "evalue": "name 'Updater' is not defined",
     "output_type": "error",
     "traceback": [
      "\u001b[0;31m---------------------------------------------------------------------------\u001b[0m",
      "\u001b[0;31mNameError\u001b[0m                                 Traceback (most recent call last)",
      "Cell \u001b[0;32mIn[76], line 1\u001b[0m\n\u001b[0;32m----> 1\u001b[0m updater \u001b[38;5;241m=\u001b[39m \u001b[43mUpdater\u001b[49m(my_token, use_context\u001b[38;5;241m=\u001b[39m\u001b[38;5;28;01mTrue\u001b[39;00m)\n\u001b[1;32m      2\u001b[0m dispatcher \u001b[38;5;241m=\u001b[39m updater\u001b[38;5;241m.\u001b[39mdispatcher\n\u001b[1;32m      4\u001b[0m \u001b[38;5;66;03m# on different commands - answer in Telegram\u001b[39;00m\n",
      "\u001b[0;31mNameError\u001b[0m: name 'Updater' is not defined"
     ]
    }
   ],
   "source": [
    "updater = Updater(my_token, use_context=True)\n",
    "dispatcher = updater.dispatcher\n",
    "\n",
    "# on different commands - answer in Telegram\n",
    "dispatcher.add_handler(CommandHandler(\"start\", start))\n",
    "dispatcher.add_handler(MessageHandler(Filters.text & ~Filters.command, echo))\n",
    "\n",
    "# Start the Bot\n",
    "updater.start_polling()\n",
    "updater.idle()"
   ]
  },
  {
   "cell_type": "code",
   "execution_count": null,
   "metadata": {},
   "outputs": [],
   "source": []
  }
 ],
 "metadata": {
  "colab": {
   "provenance": []
  },
  "gpuClass": "standard",
  "kernelspec": {
   "display_name": "Python 3 (ipykernel)",
   "language": "python",
   "name": "python3"
  },
  "language_info": {
   "codemirror_mode": {
    "name": "ipython",
    "version": 3
   },
   "file_extension": ".py",
   "mimetype": "text/x-python",
   "name": "python",
   "nbconvert_exporter": "python",
   "pygments_lexer": "ipython3",
   "version": "3.11.3"
  }
 },
 "nbformat": 4,
 "nbformat_minor": 1
}
