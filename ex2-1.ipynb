{
 "cells": [
  {
   "cell_type": "code",
   "execution_count": 55,
   "id": "e9eea780",
   "metadata": {},
   "outputs": [
    {
     "name": "stdout",
     "output_type": "stream",
     "text": [
      "\u001b[31mRED SUM = 460\u001b[0m\n",
      "\u001b[30mBLACK SUM = 502\u001b[0m\n",
      "\u001b[32mZERO SUM = 38\u001b[0m\n",
      "\u001b[31m\n",
      "Красное выпало в 46.0% случаях\u001b[0m\n",
      "\u001b[30mЧерное выпало в 50.2% случаях\u001b[0m\n",
      "\u001b[32mZERO выпало в 3.8% случаях\u001b[0m\n",
      "Теорема: \n",
      "\"Если G, R, Z - полная группа несовместных событий, то P(G)+P(R)+P(Z)=1\"\n",
      "на практике верна\n",
      "P_sum = 1.0\n"
     ]
    }
   ],
   "source": [
    "#Проверка теоремы:\n",
    "# Если G, R, Z - полная группа несовместных событий, то P(G)+P(R)+P(Z)=1\n",
    "\n",
    "%matplotlib inline\n",
    "import numpy as np\n",
    "\n",
    "#!pip install termcolor\n",
    "\n",
    "from termcolor import colored, cprint\n",
    "\n",
    "red_sum = []\n",
    "black_sum = []\n",
    "zero = []\n",
    "    \n",
    "for i in range(0, 1000):\n",
    "    num = int(np.random.uniform(0, 36))\n",
    "    red = [1, 3, 5, 7, 9, 12, 14, 16, 18, 19, 21, 23, 25, 27, 30, 32, 34, 36]\n",
    "    black = [2, 4, 6, 8, 10, 11, 13, 15, 17, 20, 22, 24, 26, 28, 29, 31, 33, 35]\n",
    "    \n",
    "    if num == 0:\n",
    "        zero.append(num)\n",
    "        #cprint(\" ZERO  GREEN \", on_color='on_green')\n",
    "    elif num in red:\n",
    "        red_sum.append(num)\n",
    "        #cprint(f\"{num} RED\", color='grey', on_color='on_red')\n",
    "    elif num in black:\n",
    "        black_sum.append(num)\n",
    "        #cprint(f\"{num} BLACK\", color='white', on_color='on_grey')\n",
    "    else:\n",
    "        print('something wrong')\n",
    "cprint(f'RED SUM = {len(red_sum)}', color='red')\n",
    "cprint(f'BLACK SUM = {len(black_sum)}', color='grey')\n",
    "cprint(f'ZERO SUM = {len(zero)}', color='green')\n",
    "\n",
    "real_R = 100 * len(red_sum) / 1000\n",
    "cprint(f'\\nКрасное выпало в {real_R}% случаях', 'red')\n",
    "real_B = 100 * len(black_sum) / 1000\n",
    "cprint(f'Черное выпало в {real_B}% случаях', 'grey')\n",
    "real_Z = 100 * len(zero) / 1000\n",
    "cprint(f'ZERO выпало в {real_Z}% случаях', 'green')\n",
    "real_sum = (real_R + real_B + real_Z) / 100\n",
    "if real_sum == 1:\n",
    "    print(f'Теорема: \\n\"Если G, R, Z - полная группа несовместных событий, то P(G)+P(R)+P(Z)=1\"\\nна практике верна')\n",
    "else:\n",
    "    False\n",
    "\n",
    "P_R = 18 / 37\n",
    "P_B = 18 / 37\n",
    "P_Z = 1 / 37\n",
    "P_sum = P_R + P_B + P_Z\n",
    "if P_sum == 1:\n",
    "    print(f'P_sum = {P_sum}')\n",
    "else:\n",
    "    print(P_sum)\n"
   ]
  },
  {
   "cell_type": "code",
   "execution_count": null,
   "id": "d27015d5",
   "metadata": {},
   "outputs": [],
   "source": []
  },
  {
   "cell_type": "code",
   "execution_count": null,
   "id": "ea1724b4",
   "metadata": {},
   "outputs": [],
   "source": []
  }
 ],
 "metadata": {
  "kernelspec": {
   "display_name": "Python 3",
   "language": "python",
   "name": "python3"
  },
  "language_info": {
   "codemirror_mode": {
    "name": "ipython",
    "version": 3
   },
   "file_extension": ".py",
   "mimetype": "text/x-python",
   "name": "python",
   "nbconvert_exporter": "python",
   "pygments_lexer": "ipython3",
   "version": "3.8.8"
  }
 },
 "nbformat": 4,
 "nbformat_minor": 5
}
