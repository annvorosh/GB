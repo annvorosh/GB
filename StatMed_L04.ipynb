{
  "nbformat": 4,
  "nbformat_minor": 0,
  "metadata": {
    "colab": {
      "provenance": [],
      "authorship_tag": "ABX9TyOSbcu9enrKu2z/dFWn15M4",
      "include_colab_link": true
    },
    "kernelspec": {
      "name": "ir",
      "display_name": "R"
    },
    "language_info": {
      "name": "R"
    }
  },
  "cells": [
    {
      "cell_type": "markdown",
      "metadata": {
        "id": "view-in-github",
        "colab_type": "text"
      },
      "source": [
        "<a href=\"https://colab.research.google.com/github/annvorosh/GB/blob/StatMed/StatMed_L04.ipynb\" target=\"_parent\"><img src=\"https://colab.research.google.com/assets/colab-badge.svg\" alt=\"Open In Colab\"/></a>"
      ]
    },
    {
      "cell_type": "markdown",
      "source": [
        "*Курсив*\n",
        "# Урок 4. Тесты для трех и более групп сравнения, post-hoc тестирование\n",
        "\n",
        "Поработаем с таблицами, для которых на предыдущем занятии вы изучали описательные статистики.\n",
        "\n",
        "### Сформулируйте несколько гипотез для 2 групп, которые можно проверить на имеющихся данных. Укажите, зависимые или независимые выборки, ЗП, НП.\n",
        "\n",
        "Выберите подходящий тест и проверьте ваши предположения.\n",
        "Задание выполняется на языке R и предоставляется в формате Google Colab.\n"
      ],
      "metadata": {
        "id": "zQyWig0-znWf"
      }
    },
    {
      "cell_type": "code",
      "execution_count": 17,
      "metadata": {
        "colab": {
          "base_uri": "https://localhost:8080/"
        },
        "id": "NVGQpBPxhHGL",
        "outputId": "852e5a5e-7a85-42c2-e8ea-2cff0d382776"
      },
      "outputs": [
        {
          "output_type": "stream",
          "name": "stderr",
          "text": [
            "Installing package into ‘/usr/local/lib/R/site-library’\n",
            "(as ‘lib’ is unspecified)\n",
            "\n",
            "Installing package into ‘/usr/local/lib/R/site-library’\n",
            "(as ‘lib’ is unspecified)\n",
            "\n"
          ]
        }
      ],
      "source": [
        "install.packages ('tidyverse')\n",
        "install.packages ('readxl')"
      ]
    },
    {
      "cell_type": "code",
      "source": [
        "library (tidyverse)\n",
        "require (readxl)"
      ],
      "metadata": {
        "id": "Ju3oPhjm0Dh4"
      },
      "execution_count": 18,
      "outputs": []
    },
    {
      "cell_type": "code",
      "source": [
        "# Read high density lipids data\n",
        "hdl <- read_tsv('/content/high_density_lipids.tsv') %>%\n",
        "  select(-Name) %>%\n",
        "  mutate(Patient.number = as.factor(Patient.number),\n",
        "         Vial.number = as.factor(Vial.number))\n",
        "\n",
        "# Read low density lipids data\n",
        "ldl <- read_tsv('/content/low_density_lipids.tsv') %>%\n",
        "  select(-Name) %>%\n",
        "  mutate(Patient.number = as.factor(Patient.number),\n",
        "         Vial.number = as.factor(Vial.number))\n",
        "\n",
        "# Read metadata\n",
        "meta <- read_xlsx('/content/metadata.xlsx', sheet = 1) %>%\n",
        "  rename_with(make.names)\n",
        "\n",
        "# Read descriptive metadata\n",
        "descriptive <- read_xlsx('/content/metadata.xlsx', sheet = 2) %>%\n",
        "  rename ('Variable' = '...1', 'Description' = '...2')\n",
        "# Drop rows with missing values\n",
        "descriptive <- drop_na(descriptive)\n",
        "\n",
        "\n",
        "# Join high density lipids and low density lipids data\n",
        "lipids <- full_join(hdl, ldl, by = c('Vial.number', 'Patient.number'), suffix = c('_hdl', '_ldl'))\n"
      ],
      "metadata": {
        "colab": {
          "base_uri": "https://localhost:8080/"
        },
        "id": "YJ9esGVJ0Zf8",
        "outputId": "fdd678b5-0537-4fe7-e350-a8aafa15b839"
      },
      "execution_count": 19,
      "outputs": [
        {
          "output_type": "stream",
          "name": "stderr",
          "text": [
            "\u001b[1mRows: \u001b[22m\u001b[34m27\u001b[39m \u001b[1mColumns: \u001b[22m\u001b[34m38\u001b[39m\n",
            "\u001b[36m──\u001b[39m \u001b[1mColumn specification\u001b[22m \u001b[36m────────────────────────────────────────────────────────\u001b[39m\n",
            "\u001b[1mDelimiter:\u001b[22m \"\\t\"\n",
            "\u001b[31mchr\u001b[39m  (1): Name\n",
            "\u001b[32mdbl\u001b[39m (37): Vial.number, Patient.number, GPHDL1, GPHDL2, GPHDL3, GPHDL4, GPHDL...\n",
            "\n",
            "\u001b[36mℹ\u001b[39m Use `spec()` to retrieve the full column specification for this data.\n",
            "\u001b[36mℹ\u001b[39m Specify the column types or set `show_col_types = FALSE` to quiet this message.\n",
            "\u001b[1mRows: \u001b[22m\u001b[34m29\u001b[39m \u001b[1mColumns: \u001b[22m\u001b[34m38\u001b[39m\n",
            "\u001b[36m──\u001b[39m \u001b[1mColumn specification\u001b[22m \u001b[36m────────────────────────────────────────────────────────\u001b[39m\n",
            "\u001b[1mDelimiter:\u001b[22m \"\\t\"\n",
            "\u001b[31mchr\u001b[39m  (1): Name\n",
            "\u001b[32mdbl\u001b[39m (37): Vial.number, Patient.number, GPLDL1, GPLDL2, GPLDL3, GPLDL4, GPLDL...\n",
            "\n",
            "\u001b[36mℹ\u001b[39m Use `spec()` to retrieve the full column specification for this data.\n",
            "\u001b[36mℹ\u001b[39m Specify the column types or set `show_col_types = FALSE` to quiet this message.\n"
          ]
        }
      ]
    },
    {
      "cell_type": "code",
      "source": [
        "head(meta)\n"
      ],
      "metadata": {
        "id": "QBWP85xx9suF",
        "colab": {
          "base_uri": "https://localhost:8080/",
          "height": 511
        },
        "outputId": "06bc46f1-0937-422b-dc07-384120eb6fc2"
      },
      "execution_count": 50,
      "outputs": [
        {
          "output_type": "display_data",
          "data": {
            "text/html": [
              "<table class=\"dataframe\">\n",
              "<caption>A tibble: 6 × 49</caption>\n",
              "<thead>\n",
              "\t<tr><th scope=col>Vial.number</th><th scope=col>Patient.number</th><th scope=col>Sucrose</th><th scope=col>Group</th><th scope=col>Date</th><th scope=col>Age</th><th scope=col>Plasma.volume</th><th scope=col>Ht</th><th scope=col>Wt</th><th scope=col>BMI</th><th scope=col>⋯</th><th scope=col>r.ant.max</th><th scope=col>r.pos.max</th><th scope=col>l.lat.max</th><th scope=col>l.ant.max</th><th scope=col>l.pos.max</th><th scope=col>carotid.IMT.mean</th><th scope=col>Plaque</th><th scope=col>Statins</th><th scope=col>comorbidities</th><th scope=col>Age_Group</th></tr>\n",
              "\t<tr><th scope=col>&lt;dbl&gt;</th><th scope=col>&lt;dbl&gt;</th><th scope=col>&lt;fct&gt;</th><th scope=col>&lt;fct&gt;</th><th scope=col>&lt;dttm&gt;</th><th scope=col>&lt;dbl&gt;</th><th scope=col>&lt;dbl&gt;</th><th scope=col>&lt;dbl&gt;</th><th scope=col>&lt;dbl&gt;</th><th scope=col>&lt;dbl&gt;</th><th scope=col>⋯</th><th scope=col>&lt;dbl&gt;</th><th scope=col>&lt;dbl&gt;</th><th scope=col>&lt;dbl&gt;</th><th scope=col>&lt;dbl&gt;</th><th scope=col>&lt;dbl&gt;</th><th scope=col>&lt;dbl&gt;</th><th scope=col>&lt;fct&gt;</th><th scope=col>&lt;fct&gt;</th><th scope=col>&lt;fct&gt;</th><th scope=col>&lt;fct&gt;</th></tr>\n",
              "</thead>\n",
              "<tbody>\n",
              "\t<tr><td>1</td><td>50</td><td>0</td><td>0</td><td>2022-03-26</td><td>63</td><td>6.5</td><td>163</td><td> 84.0</td><td>31.61579</td><td>⋯</td><td>0.80</td><td>0.80</td><td>0.81</td><td>0.78</td><td>0.80</td><td>0.6425000</td><td>1</td><td>1</td><td>NA                                                                                       </td><td>61-70</td></tr>\n",
              "\t<tr><td>2</td><td>51</td><td>0</td><td>0</td><td>2023-12-23</td><td>47</td><td>5.5</td><td>179</td><td>111.0</td><td>34.64311</td><td>⋯</td><td>0.92</td><td>1.03</td><td>1.03</td><td>1.03</td><td>1.09</td><td>0.8400000</td><td>1</td><td>0</td><td>NA                                                                                       </td><td>40-50</td></tr>\n",
              "\t<tr><td>3</td><td>52</td><td>0</td><td>1</td><td>2022-10-10</td><td>57</td><td>7.0</td><td>164</td><td> 80.0</td><td>29.74420</td><td>⋯</td><td>0.90</td><td>0.95</td><td>0.85</td><td>0.90</td><td>0.90</td><td>0.8500000</td><td>3</td><td>1</td><td>Type 2 diabetes mellitus; MI - 2016                                                      </td><td>51-60</td></tr>\n",
              "\t<tr><td>4</td><td>53</td><td>0</td><td>1</td><td>2022-12-21</td><td>72</td><td>5.0</td><td>160</td><td> 58.8</td><td>22.96875</td><td>⋯</td><td>0.97</td><td>0.98</td><td>0.86</td><td>0.74</td><td>0.80</td><td>0.8241667</td><td>2</td><td>0</td><td>1-2 times per year hypertensive crises (Corinfar)                                        </td><td>71+  </td></tr>\n",
              "\t<tr><td>5</td><td>54</td><td>0</td><td>1</td><td>2023-03-16</td><td>57</td><td>5.0</td><td>180</td><td> 71.0</td><td>21.91358</td><td>⋯</td><td>1.20</td><td>1.25</td><td>1.10</td><td>1.30</td><td>1.13</td><td>1.0983333</td><td>1</td><td>1</td><td>NA                                                                                       </td><td>51-60</td></tr>\n",
              "\t<tr><td>6</td><td>55</td><td>0</td><td>1</td><td>2023-03-25</td><td>79</td><td>6.2</td><td>160</td><td> 64.0</td><td>25.00000</td><td>⋯</td><td>0.80</td><td>0.90</td><td>1.07</td><td>1.00</td><td>1.30</td><td>0.8475000</td><td>2</td><td>0</td><td>Cholecystitis, gastritis without exacerbation. Diffuse focal changes in the thyroid gland</td><td>71+  </td></tr>\n",
              "</tbody>\n",
              "</table>\n"
            ],
            "text/markdown": "\nA tibble: 6 × 49\n\n| Vial.number &lt;dbl&gt; | Patient.number &lt;dbl&gt; | Sucrose &lt;fct&gt; | Group &lt;fct&gt; | Date &lt;dttm&gt; | Age &lt;dbl&gt; | Plasma.volume &lt;dbl&gt; | Ht &lt;dbl&gt; | Wt &lt;dbl&gt; | BMI &lt;dbl&gt; | ⋯ ⋯ | r.ant.max &lt;dbl&gt; | r.pos.max &lt;dbl&gt; | l.lat.max &lt;dbl&gt; | l.ant.max &lt;dbl&gt; | l.pos.max &lt;dbl&gt; | carotid.IMT.mean &lt;dbl&gt; | Plaque &lt;fct&gt; | Statins &lt;fct&gt; | comorbidities &lt;fct&gt; | Age_Group &lt;fct&gt; |\n|---|---|---|---|---|---|---|---|---|---|---|---|---|---|---|---|---|---|---|---|---|\n| 1 | 50 | 0 | 0 | 2022-03-26 | 63 | 6.5 | 163 |  84.0 | 31.61579 | ⋯ | 0.80 | 0.80 | 0.81 | 0.78 | 0.80 | 0.6425000 | 1 | 1 | NA                                                                                        | 61-70 |\n| 2 | 51 | 0 | 0 | 2023-12-23 | 47 | 5.5 | 179 | 111.0 | 34.64311 | ⋯ | 0.92 | 1.03 | 1.03 | 1.03 | 1.09 | 0.8400000 | 1 | 0 | NA                                                                                        | 40-50 |\n| 3 | 52 | 0 | 1 | 2022-10-10 | 57 | 7.0 | 164 |  80.0 | 29.74420 | ⋯ | 0.90 | 0.95 | 0.85 | 0.90 | 0.90 | 0.8500000 | 3 | 1 | Type 2 diabetes mellitus; MI - 2016                                                       | 51-60 |\n| 4 | 53 | 0 | 1 | 2022-12-21 | 72 | 5.0 | 160 |  58.8 | 22.96875 | ⋯ | 0.97 | 0.98 | 0.86 | 0.74 | 0.80 | 0.8241667 | 2 | 0 | 1-2 times per year hypertensive crises (Corinfar)                                         | 71+   |\n| 5 | 54 | 0 | 1 | 2023-03-16 | 57 | 5.0 | 180 |  71.0 | 21.91358 | ⋯ | 1.20 | 1.25 | 1.10 | 1.30 | 1.13 | 1.0983333 | 1 | 1 | NA                                                                                        | 51-60 |\n| 6 | 55 | 0 | 1 | 2023-03-25 | 79 | 6.2 | 160 |  64.0 | 25.00000 | ⋯ | 0.80 | 0.90 | 1.07 | 1.00 | 1.30 | 0.8475000 | 2 | 0 | Cholecystitis, gastritis without exacerbation. Diffuse focal changes in the thyroid gland | 71+   |\n\n",
            "text/latex": "A tibble: 6 × 49\n\\begin{tabular}{lllllllllllllllllllll}\n Vial.number & Patient.number & Sucrose & Group & Date & Age & Plasma.volume & Ht & Wt & BMI & ⋯ & r.ant.max & r.pos.max & l.lat.max & l.ant.max & l.pos.max & carotid.IMT.mean & Plaque & Statins & comorbidities & Age\\_Group\\\\\n <dbl> & <dbl> & <fct> & <fct> & <dttm> & <dbl> & <dbl> & <dbl> & <dbl> & <dbl> & ⋯ & <dbl> & <dbl> & <dbl> & <dbl> & <dbl> & <dbl> & <fct> & <fct> & <fct> & <fct>\\\\\n\\hline\n\t 1 & 50 & 0 & 0 & 2022-03-26 & 63 & 6.5 & 163 &  84.0 & 31.61579 & ⋯ & 0.80 & 0.80 & 0.81 & 0.78 & 0.80 & 0.6425000 & 1 & 1 & NA                                                                                        & 61-70\\\\\n\t 2 & 51 & 0 & 0 & 2023-12-23 & 47 & 5.5 & 179 & 111.0 & 34.64311 & ⋯ & 0.92 & 1.03 & 1.03 & 1.03 & 1.09 & 0.8400000 & 1 & 0 & NA                                                                                        & 40-50\\\\\n\t 3 & 52 & 0 & 1 & 2022-10-10 & 57 & 7.0 & 164 &  80.0 & 29.74420 & ⋯ & 0.90 & 0.95 & 0.85 & 0.90 & 0.90 & 0.8500000 & 3 & 1 & Type 2 diabetes mellitus; MI - 2016                                                       & 51-60\\\\\n\t 4 & 53 & 0 & 1 & 2022-12-21 & 72 & 5.0 & 160 &  58.8 & 22.96875 & ⋯ & 0.97 & 0.98 & 0.86 & 0.74 & 0.80 & 0.8241667 & 2 & 0 & 1-2 times per year hypertensive crises (Corinfar)                                         & 71+  \\\\\n\t 5 & 54 & 0 & 1 & 2023-03-16 & 57 & 5.0 & 180 &  71.0 & 21.91358 & ⋯ & 1.20 & 1.25 & 1.10 & 1.30 & 1.13 & 1.0983333 & 1 & 1 & NA                                                                                        & 51-60\\\\\n\t 6 & 55 & 0 & 1 & 2023-03-25 & 79 & 6.2 & 160 &  64.0 & 25.00000 & ⋯ & 0.80 & 0.90 & 1.07 & 1.00 & 1.30 & 0.8475000 & 2 & 0 & Cholecystitis, gastritis without exacerbation. Diffuse focal changes in the thyroid gland & 71+  \\\\\n\\end{tabular}\n",
            "text/plain": [
              "  Vial.number Patient.number Sucrose Group Date       Age Plasma.volume Ht \n",
              "1 1           50             0       0     2022-03-26 63  6.5           163\n",
              "2 2           51             0       0     2023-12-23 47  5.5           179\n",
              "3 3           52             0       1     2022-10-10 57  7.0           164\n",
              "4 4           53             0       1     2022-12-21 72  5.0           160\n",
              "5 5           54             0       1     2023-03-16 57  5.0           180\n",
              "6 6           55             0       1     2023-03-25 79  6.2           160\n",
              "  Wt    BMI      ⋯ r.ant.max r.pos.max l.lat.max l.ant.max l.pos.max\n",
              "1  84.0 31.61579 ⋯ 0.80      0.80      0.81      0.78      0.80     \n",
              "2 111.0 34.64311 ⋯ 0.92      1.03      1.03      1.03      1.09     \n",
              "3  80.0 29.74420 ⋯ 0.90      0.95      0.85      0.90      0.90     \n",
              "4  58.8 22.96875 ⋯ 0.97      0.98      0.86      0.74      0.80     \n",
              "5  71.0 21.91358 ⋯ 1.20      1.25      1.10      1.30      1.13     \n",
              "6  64.0 25.00000 ⋯ 0.80      0.90      1.07      1.00      1.30     \n",
              "  carotid.IMT.mean Plaque Statins\n",
              "1 0.6425000        1      1      \n",
              "2 0.8400000        1      0      \n",
              "3 0.8500000        3      1      \n",
              "4 0.8241667        2      0      \n",
              "5 1.0983333        1      1      \n",
              "6 0.8475000        2      0      \n",
              "  comorbidities                                                                            \n",
              "1 NA                                                                                       \n",
              "2 NA                                                                                       \n",
              "3 Type 2 diabetes mellitus; MI - 2016                                                      \n",
              "4 1-2 times per year hypertensive crises (Corinfar)                                        \n",
              "5 NA                                                                                       \n",
              "6 Cholecystitis, gastritis without exacerbation. Diffuse focal changes in the thyroid gland\n",
              "  Age_Group\n",
              "1 61-70    \n",
              "2 40-50    \n",
              "3 51-60    \n",
              "4 71+      \n",
              "5 51-60    \n",
              "6 71+      "
            ]
          },
          "metadata": {}
        }
      ]
    },
    {
      "cell_type": "code",
      "source": [
        "# Вывод первых нескольких строк таблицы lipids\n",
        "head(lipids)"
      ],
      "metadata": {
        "id": "KKz1lOgc9rCs",
        "colab": {
          "base_uri": "https://localhost:8080/",
          "height": 297
        },
        "outputId": "825b0ead-aeea-4c5d-e7ba-9d984b078376"
      },
      "execution_count": 21,
      "outputs": [
        {
          "output_type": "display_data",
          "data": {
            "text/html": [
              "<table class=\"dataframe\">\n",
              "<caption>A tibble: 6 × 72</caption>\n",
              "<thead>\n",
              "\t<tr><th scope=col>Vial.number</th><th scope=col>Patient.number</th><th scope=col>GPHDL1</th><th scope=col>GPHDL2</th><th scope=col>GPHDL3</th><th scope=col>GPHDL4</th><th scope=col>GPHDL5</th><th scope=col>GPHDL6</th><th scope=col>GPHDL7</th><th scope=col>GPHDL8</th><th scope=col>⋯</th><th scope=col>G1_ldl</th><th scope=col>G2_ldl</th><th scope=col>G3_ldl</th><th scope=col>S0_ldl</th><th scope=col>S1_ldl</th><th scope=col>S2_ldl</th><th scope=col>S3_ldl</th><th scope=col>B_ldl</th><th scope=col>F_ldl</th><th scope=col>HM_ldl</th></tr>\n",
              "\t<tr><th scope=col>&lt;fct&gt;</th><th scope=col>&lt;fct&gt;</th><th scope=col>&lt;dbl&gt;</th><th scope=col>&lt;dbl&gt;</th><th scope=col>&lt;dbl&gt;</th><th scope=col>&lt;dbl&gt;</th><th scope=col>&lt;dbl&gt;</th><th scope=col>&lt;dbl&gt;</th><th scope=col>&lt;dbl&gt;</th><th scope=col>&lt;dbl&gt;</th><th scope=col>⋯</th><th scope=col>&lt;dbl&gt;</th><th scope=col>&lt;dbl&gt;</th><th scope=col>&lt;dbl&gt;</th><th scope=col>&lt;dbl&gt;</th><th scope=col>&lt;dbl&gt;</th><th scope=col>&lt;dbl&gt;</th><th scope=col>&lt;dbl&gt;</th><th scope=col>&lt;dbl&gt;</th><th scope=col>&lt;dbl&gt;</th><th scope=col>&lt;dbl&gt;</th></tr>\n",
              "</thead>\n",
              "<tbody>\n",
              "\t<tr><td>1</td><td>50</td><td>0.38</td><td>1.78</td><td>0.14</td><td>0.05</td><td>0.73</td><td>2.90</td><td>1.57</td><td>2.57</td><td>⋯</td><td>4.09</td><td>68.91</td><td>3.57</td><td>3.98</td><td>28.18</td><td>42.46</td><td>1.95</td><td>0.02</td><td>1.67</td><td>13.02</td></tr>\n",
              "\t<tr><td>3</td><td>52</td><td>0.43</td><td>1.30</td><td>0.23</td><td>0.05</td><td>0.59</td><td>2.62</td><td>1.62</td><td>3.86</td><td>⋯</td><td>5.16</td><td>68.22</td><td>3.11</td><td>4.64</td><td>30.43</td><td>39.86</td><td>1.56</td><td>0.02</td><td>1.69</td><td>14.16</td></tr>\n",
              "\t<tr><td>4</td><td>53</td><td>0.41</td><td>3.86</td><td>0.31</td><td>0.10</td><td>0.96</td><td>3.19</td><td>2.42</td><td>3.75</td><td>⋯</td><td>3.95</td><td>68.03</td><td>4.50</td><td>3.78</td><td>29.37</td><td>41.13</td><td>2.20</td><td>0.02</td><td>1.89</td><td>13.89</td></tr>\n",
              "\t<tr><td>5</td><td>54</td><td>0.50</td><td>1.79</td><td>0.23</td><td>0.06</td><td>0.77</td><td>2.96</td><td>1.76</td><td>3.00</td><td>⋯</td><td>4.63</td><td>66.91</td><td>4.03</td><td>4.44</td><td>28.54</td><td>40.64</td><td>1.95</td><td>0.02</td><td>2.03</td><td>14.25</td></tr>\n",
              "\t<tr><td>6</td><td>55</td><td>0.40</td><td>3.69</td><td>0.17</td><td>0.03</td><td>0.80</td><td>3.04</td><td>1.62</td><td>3.23</td><td>⋯</td><td>4.05</td><td>64.01</td><td>5.27</td><td>3.72</td><td>26.71</td><td>40.39</td><td>2.51</td><td>0.02</td><td>2.70</td><td>16.06</td></tr>\n",
              "\t<tr><td>7</td><td>56</td><td>0.37</td><td>2.96</td><td>0.22</td><td>0.05</td><td>1.00</td><td>3.00</td><td>2.11</td><td>3.06</td><td>⋯</td><td>4.10</td><td>65.99</td><td>4.70</td><td>4.03</td><td>28.44</td><td>39.99</td><td>2.33</td><td>0.02</td><td>1.61</td><td>13.82</td></tr>\n",
              "</tbody>\n",
              "</table>\n"
            ],
            "text/markdown": "\nA tibble: 6 × 72\n\n| Vial.number &lt;fct&gt; | Patient.number &lt;fct&gt; | GPHDL1 &lt;dbl&gt; | GPHDL2 &lt;dbl&gt; | GPHDL3 &lt;dbl&gt; | GPHDL4 &lt;dbl&gt; | GPHDL5 &lt;dbl&gt; | GPHDL6 &lt;dbl&gt; | GPHDL7 &lt;dbl&gt; | GPHDL8 &lt;dbl&gt; | ⋯ ⋯ | G1_ldl &lt;dbl&gt; | G2_ldl &lt;dbl&gt; | G3_ldl &lt;dbl&gt; | S0_ldl &lt;dbl&gt; | S1_ldl &lt;dbl&gt; | S2_ldl &lt;dbl&gt; | S3_ldl &lt;dbl&gt; | B_ldl &lt;dbl&gt; | F_ldl &lt;dbl&gt; | HM_ldl &lt;dbl&gt; |\n|---|---|---|---|---|---|---|---|---|---|---|---|---|---|---|---|---|---|---|---|---|\n| 1 | 50 | 0.38 | 1.78 | 0.14 | 0.05 | 0.73 | 2.90 | 1.57 | 2.57 | ⋯ | 4.09 | 68.91 | 3.57 | 3.98 | 28.18 | 42.46 | 1.95 | 0.02 | 1.67 | 13.02 |\n| 3 | 52 | 0.43 | 1.30 | 0.23 | 0.05 | 0.59 | 2.62 | 1.62 | 3.86 | ⋯ | 5.16 | 68.22 | 3.11 | 4.64 | 30.43 | 39.86 | 1.56 | 0.02 | 1.69 | 14.16 |\n| 4 | 53 | 0.41 | 3.86 | 0.31 | 0.10 | 0.96 | 3.19 | 2.42 | 3.75 | ⋯ | 3.95 | 68.03 | 4.50 | 3.78 | 29.37 | 41.13 | 2.20 | 0.02 | 1.89 | 13.89 |\n| 5 | 54 | 0.50 | 1.79 | 0.23 | 0.06 | 0.77 | 2.96 | 1.76 | 3.00 | ⋯ | 4.63 | 66.91 | 4.03 | 4.44 | 28.54 | 40.64 | 1.95 | 0.02 | 2.03 | 14.25 |\n| 6 | 55 | 0.40 | 3.69 | 0.17 | 0.03 | 0.80 | 3.04 | 1.62 | 3.23 | ⋯ | 4.05 | 64.01 | 5.27 | 3.72 | 26.71 | 40.39 | 2.51 | 0.02 | 2.70 | 16.06 |\n| 7 | 56 | 0.37 | 2.96 | 0.22 | 0.05 | 1.00 | 3.00 | 2.11 | 3.06 | ⋯ | 4.10 | 65.99 | 4.70 | 4.03 | 28.44 | 39.99 | 2.33 | 0.02 | 1.61 | 13.82 |\n\n",
            "text/latex": "A tibble: 6 × 72\n\\begin{tabular}{lllllllllllllllllllll}\n Vial.number & Patient.number & GPHDL1 & GPHDL2 & GPHDL3 & GPHDL4 & GPHDL5 & GPHDL6 & GPHDL7 & GPHDL8 & ⋯ & G1\\_ldl & G2\\_ldl & G3\\_ldl & S0\\_ldl & S1\\_ldl & S2\\_ldl & S3\\_ldl & B\\_ldl & F\\_ldl & HM\\_ldl\\\\\n <fct> & <fct> & <dbl> & <dbl> & <dbl> & <dbl> & <dbl> & <dbl> & <dbl> & <dbl> & ⋯ & <dbl> & <dbl> & <dbl> & <dbl> & <dbl> & <dbl> & <dbl> & <dbl> & <dbl> & <dbl>\\\\\n\\hline\n\t 1 & 50 & 0.38 & 1.78 & 0.14 & 0.05 & 0.73 & 2.90 & 1.57 & 2.57 & ⋯ & 4.09 & 68.91 & 3.57 & 3.98 & 28.18 & 42.46 & 1.95 & 0.02 & 1.67 & 13.02\\\\\n\t 3 & 52 & 0.43 & 1.30 & 0.23 & 0.05 & 0.59 & 2.62 & 1.62 & 3.86 & ⋯ & 5.16 & 68.22 & 3.11 & 4.64 & 30.43 & 39.86 & 1.56 & 0.02 & 1.69 & 14.16\\\\\n\t 4 & 53 & 0.41 & 3.86 & 0.31 & 0.10 & 0.96 & 3.19 & 2.42 & 3.75 & ⋯ & 3.95 & 68.03 & 4.50 & 3.78 & 29.37 & 41.13 & 2.20 & 0.02 & 1.89 & 13.89\\\\\n\t 5 & 54 & 0.50 & 1.79 & 0.23 & 0.06 & 0.77 & 2.96 & 1.76 & 3.00 & ⋯ & 4.63 & 66.91 & 4.03 & 4.44 & 28.54 & 40.64 & 1.95 & 0.02 & 2.03 & 14.25\\\\\n\t 6 & 55 & 0.40 & 3.69 & 0.17 & 0.03 & 0.80 & 3.04 & 1.62 & 3.23 & ⋯ & 4.05 & 64.01 & 5.27 & 3.72 & 26.71 & 40.39 & 2.51 & 0.02 & 2.70 & 16.06\\\\\n\t 7 & 56 & 0.37 & 2.96 & 0.22 & 0.05 & 1.00 & 3.00 & 2.11 & 3.06 & ⋯ & 4.10 & 65.99 & 4.70 & 4.03 & 28.44 & 39.99 & 2.33 & 0.02 & 1.61 & 13.82\\\\\n\\end{tabular}\n",
            "text/plain": [
              "  Vial.number Patient.number GPHDL1 GPHDL2 GPHDL3 GPHDL4 GPHDL5 GPHDL6 GPHDL7\n",
              "1 1           50             0.38   1.78   0.14   0.05   0.73   2.90   1.57  \n",
              "2 3           52             0.43   1.30   0.23   0.05   0.59   2.62   1.62  \n",
              "3 4           53             0.41   3.86   0.31   0.10   0.96   3.19   2.42  \n",
              "4 5           54             0.50   1.79   0.23   0.06   0.77   2.96   1.76  \n",
              "5 6           55             0.40   3.69   0.17   0.03   0.80   3.04   1.62  \n",
              "6 7           56             0.37   2.96   0.22   0.05   1.00   3.00   2.11  \n",
              "  GPHDL8 ⋯ G1_ldl G2_ldl G3_ldl S0_ldl S1_ldl S2_ldl S3_ldl B_ldl F_ldl HM_ldl\n",
              "1 2.57   ⋯ 4.09   68.91  3.57   3.98   28.18  42.46  1.95   0.02  1.67  13.02 \n",
              "2 3.86   ⋯ 5.16   68.22  3.11   4.64   30.43  39.86  1.56   0.02  1.69  14.16 \n",
              "3 3.75   ⋯ 3.95   68.03  4.50   3.78   29.37  41.13  2.20   0.02  1.89  13.89 \n",
              "4 3.00   ⋯ 4.63   66.91  4.03   4.44   28.54  40.64  1.95   0.02  2.03  14.25 \n",
              "5 3.23   ⋯ 4.05   64.01  5.27   3.72   26.71  40.39  2.51   0.02  2.70  16.06 \n",
              "6 3.06   ⋯ 4.10   65.99  4.70   4.03   28.44  39.99  2.33   0.02  1.61  13.82 "
            ]
          },
          "metadata": {}
        }
      ]
    },
    {
      "cell_type": "code",
      "source": [
        "# Вывод первых нескольких строк таблицы descriptive\n",
        "print(descriptive, n = Inf)\n"
      ],
      "metadata": {
        "id": "KqBO91De5ey5",
        "colab": {
          "base_uri": "https://localhost:8080/"
        },
        "outputId": "ad2373e7-6af5-4ff5-ac12-154b32ef71ad"
      },
      "execution_count": 22,
      "outputs": [
        {
          "output_type": "stream",
          "name": "stdout",
          "text": [
            "\u001b[90m# A tibble: 25 × 2\u001b[39m\n",
            "   Variable Description                                      \n",
            "   \u001b[3m\u001b[90m<chr>\u001b[39m\u001b[23m    \u001b[3m\u001b[90m<chr>\u001b[39m\u001b[23m                                            \n",
            "\u001b[90m 1\u001b[39m Ht       growth                                           \n",
            "\u001b[90m 2\u001b[39m Wt       the weight                                       \n",
            "\u001b[90m 3\u001b[39m BMI      body mass index                                  \n",
            "\u001b[90m 4\u001b[39m Sys      Systolic blood pressure                          \n",
            "\u001b[90m 5\u001b[39m Dia      Diastolic blood pressure                         \n",
            "\u001b[90m 6\u001b[39m PR       pulse                                            \n",
            "\u001b[90m 7\u001b[39m Sm       smoking                                          \n",
            "\u001b[90m 8\u001b[39m Dm       diabetes                                         \n",
            "\u001b[90m 9\u001b[39m HT       hypertension                                     \n",
            "\u001b[90m10\u001b[39m LVG      Left ventricular hypertrophy by electrocardiogram\n",
            "\u001b[90m11\u001b[39m AP       CAD                                              \n",
            "\u001b[90m12\u001b[39m MI       medical history of infarction                    \n",
            "\u001b[90m13\u001b[39m Str      medical history of stroke                        \n",
            "\u001b[90m14\u001b[39m A_C      family history of CAD                            \n",
            "\u001b[90m15\u001b[39m A_H      family history hypertension                      \n",
            "\u001b[90m16\u001b[39m A_D      family history diabetes                          \n",
            "\u001b[90m17\u001b[39m Choi     cholesterol                                      \n",
            "\u001b[90m18\u001b[39m Tgi      Triglycerides                                    \n",
            "\u001b[90m19\u001b[39m HDLi     High density lipoprotein                         \n",
            "\u001b[90m20\u001b[39m LDLi     Low density lipoprotein                          \n",
            "\u001b[90m21\u001b[39m AI       Atherogenicity index                             \n",
            "\u001b[90m22\u001b[39m CICi     Cholesterol circulating immune complexes         \n",
            "\u001b[90m23\u001b[39m P-cor    Risk of myocardial infarction                    \n",
            "\u001b[90m24\u001b[39m f-P-cor  Risk of CAD                                      \n",
            "\u001b[90m25\u001b[39m ?        unknown, information will be later               \n"
          ]
        }
      ]
    },
    {
      "cell_type": "markdown",
      "source": [
        "Деанонимизация данных: в отдельную таблицу patient_data отнесём данные о номере пробирки, ід пациента, его имени, дате\n",
        "рождения и значение целевой группы по наличию атеросклеротического поражения каротидных артерий шеи. Из таблицы meta уберём соответсвующие столбцы."
      ],
      "metadata": {
        "id": "mrRrlyDk_CUO"
      }
    },
    {
      "cell_type": "code",
      "source": [
        "# Создание таблицы patient_data\n",
        "patient_data <- meta %>%\n",
        "  select(Vial.number, Patient.number, Name, Age, Group)\n",
        "\n",
        "# Удаление соответствующих столбцов из таблицы meta\n",
        "meta <- meta %>%\n",
        "  select( -Name)"
      ],
      "metadata": {
        "id": "pBo72afJ5yaN"
      },
      "execution_count": 23,
      "outputs": []
    },
    {
      "cell_type": "markdown",
      "source": [
        "При помощи присвоения аттрибута \"label\" столбцам в таблице meta определили переменные и их описания в таблице descriptive, а затем присвоим атрибуты \"label\" столбцам таблицы meta в соответствии с этими описаниями."
      ],
      "metadata": {
        "id": "ORMYXiVC_PG5"
      }
    },
    {
      "cell_type": "code",
      "source": [
        "# Исправление опечатки в названии переменной\n",
        "descriptive[10, \"Variable\"] <- 'LVG'\n",
        "\n",
        "# Присвоение атрибутов \"label\" столбцам таблицы meta\n",
        "attr(meta$Ht, \"label\") <- \"growth\"\n",
        "attr(meta$Wt, \"label\") <- \"the weight\"\n",
        "attr(meta$BMI, \"label\") <- \"body mass index\"\n",
        "attr(meta$Sys, \"label\") <- \"Systolic blood pressure\"\n",
        "attr(meta$Dia, \"label\") <- \"Diastolic blood pressure\"\n",
        "attr(meta$PR, \"label\") <- \"pulse\"\n",
        "attr(meta$Sm, \"label\") <- \"smoking\"\n",
        "attr(meta$Dm, \"label\") <- \"diabetes\"\n",
        "attr(meta$HT, \"label\") <- \"hypertension\"\n",
        "attr(meta$LVH, \"label\") <- \"Left ventricular hypertrophy by electrocardiogram\"\n",
        "attr(meta$MI, \"label\") <- \"medical history of infarction\"\n",
        "attr(meta$Str, \"label\") <- \"medical history of stroke\"\n",
        "attr(meta$A_C, \"label\") <- \"family history of CAD\"\n",
        "attr(meta$A_H, \"label\") <- \"family history hypertension\"\n",
        "attr(meta$A_D, \"label\") <- \"family history diabetes\"\n",
        "attr(meta$Choi...25, \"label\") <- \"cholesterol\"\n",
        "attr(meta$Choi...29, \"label\") <- \"cholesterol\"\n",
        "attr(meta$Tgi...26, \"label\") <- \"Triglycerides\"\n",
        "attr(meta$Tgi...30, \"label\") <- \"Triglycerides\"\n",
        "attr(meta$HDLi...27, \"label\") <- \"High density lipoprotein\"\n",
        "attr(meta$HDLi...31, \"label\") <- \"High density lipoprotein\"\n",
        "attr(meta$LDLi...28, \"label\") <- \"Low density lipoprotein\"\n",
        "attr(meta$LDLi...32, \"label\") <- \"Low density lipoprotein\"\n",
        "attr(meta$AI, \"label\") <- \"Atherogenicity index\"\n"
      ],
      "metadata": {
        "id": "a9OciF_mHQnd"
      },
      "execution_count": 24,
      "outputs": []
    },
    {
      "cell_type": "code",
      "source": [
        "head(meta)\n"
      ],
      "metadata": {
        "id": "QgfDB8ObiLwo",
        "colab": {
          "base_uri": "https://localhost:8080/",
          "height": 511
        },
        "outputId": "09897b57-4b5d-49e6-d8ae-03facef85d88"
      },
      "execution_count": 25,
      "outputs": [
        {
          "output_type": "display_data",
          "data": {
            "text/html": [
              "<table class=\"dataframe\">\n",
              "<caption>A tibble: 6 × 48</caption>\n",
              "<thead>\n",
              "\t<tr><th scope=col>Vial.number</th><th scope=col>Patient.number</th><th scope=col>Sucrose</th><th scope=col>Group</th><th scope=col>Date</th><th scope=col>Age</th><th scope=col>Plasma.volume</th><th scope=col>Ht</th><th scope=col>Wt</th><th scope=col>BMI</th><th scope=col>⋯</th><th scope=col>r.lat.max</th><th scope=col>r.ant.max</th><th scope=col>r.pos.max</th><th scope=col>l.lat.max</th><th scope=col>l.ant.max</th><th scope=col>l.pos.max</th><th scope=col>carotid.IMT.mean</th><th scope=col>Plaque</th><th scope=col>Statins</th><th scope=col>comorbidities</th></tr>\n",
              "\t<tr><th scope=col>&lt;dbl&gt;</th><th scope=col>&lt;dbl&gt;</th><th scope=col>&lt;dbl&gt;</th><th scope=col>&lt;dbl&gt;</th><th scope=col>&lt;dttm&gt;</th><th scope=col>&lt;dbl&gt;</th><th scope=col>&lt;dbl&gt;</th><th scope=col>&lt;dbl&gt;</th><th scope=col>&lt;dbl&gt;</th><th scope=col>&lt;dbl&gt;</th><th scope=col>⋯</th><th scope=col>&lt;dbl&gt;</th><th scope=col>&lt;dbl&gt;</th><th scope=col>&lt;dbl&gt;</th><th scope=col>&lt;dbl&gt;</th><th scope=col>&lt;dbl&gt;</th><th scope=col>&lt;dbl&gt;</th><th scope=col>&lt;dbl&gt;</th><th scope=col>&lt;dbl&gt;</th><th scope=col>&lt;dbl&gt;</th><th scope=col>&lt;chr&gt;</th></tr>\n",
              "</thead>\n",
              "<tbody>\n",
              "\t<tr><td>1</td><td>50</td><td>0</td><td>0</td><td>2022-03-26</td><td>63</td><td>6.5</td><td>163</td><td> 84.0</td><td>31.61579</td><td>⋯</td><td>0.65</td><td>0.80</td><td>0.80</td><td>0.81</td><td>0.78</td><td>0.80</td><td>0.6425000</td><td>1</td><td>1</td><td>NA                                                                                       </td></tr>\n",
              "\t<tr><td>2</td><td>51</td><td>0</td><td>0</td><td>2023-12-23</td><td>47</td><td>5.5</td><td>179</td><td>111.0</td><td>34.64311</td><td>⋯</td><td>1.03</td><td>0.92</td><td>1.03</td><td>1.03</td><td>1.03</td><td>1.09</td><td>0.8400000</td><td>1</td><td>0</td><td>NA                                                                                       </td></tr>\n",
              "\t<tr><td>3</td><td>52</td><td>0</td><td>1</td><td>2022-10-10</td><td>57</td><td>7.0</td><td>164</td><td> 80.0</td><td>29.74420</td><td>⋯</td><td>1.00</td><td>0.90</td><td>0.95</td><td>0.85</td><td>0.90</td><td>0.90</td><td>0.8500000</td><td>3</td><td>1</td><td>Type 2 diabetes mellitus; MI - 2016                                                      </td></tr>\n",
              "\t<tr><td>4</td><td>53</td><td>0</td><td>1</td><td>2022-12-21</td><td>72</td><td>5.0</td><td>160</td><td> 58.8</td><td>22.96875</td><td>⋯</td><td>0.91</td><td>0.97</td><td>0.98</td><td>0.86</td><td>0.74</td><td>0.80</td><td>0.8241667</td><td>2</td><td>0</td><td>1-2 times per year hypertensive crises (Corinfar)                                        </td></tr>\n",
              "\t<tr><td>5</td><td>54</td><td>0</td><td>1</td><td>2023-03-16</td><td>57</td><td>5.0</td><td>180</td><td> 71.0</td><td>21.91358</td><td>⋯</td><td>1.20</td><td>1.20</td><td>1.25</td><td>1.10</td><td>1.30</td><td>1.13</td><td>1.0983333</td><td>1</td><td>1</td><td>NA                                                                                       </td></tr>\n",
              "\t<tr><td>6</td><td>55</td><td>0</td><td>1</td><td>2023-03-25</td><td>79</td><td>6.2</td><td>160</td><td> 64.0</td><td>25.00000</td><td>⋯</td><td>0.88</td><td>0.80</td><td>0.90</td><td>1.07</td><td>1.00</td><td>1.30</td><td>0.8475000</td><td>2</td><td>0</td><td>Cholecystitis, gastritis without exacerbation. Diffuse focal changes in the thyroid gland</td></tr>\n",
              "</tbody>\n",
              "</table>\n"
            ],
            "text/markdown": "\nA tibble: 6 × 48\n\n| Vial.number &lt;dbl&gt; | Patient.number &lt;dbl&gt; | Sucrose &lt;dbl&gt; | Group &lt;dbl&gt; | Date &lt;dttm&gt; | Age &lt;dbl&gt; | Plasma.volume &lt;dbl&gt; | Ht &lt;dbl&gt; | Wt &lt;dbl&gt; | BMI &lt;dbl&gt; | ⋯ ⋯ | r.lat.max &lt;dbl&gt; | r.ant.max &lt;dbl&gt; | r.pos.max &lt;dbl&gt; | l.lat.max &lt;dbl&gt; | l.ant.max &lt;dbl&gt; | l.pos.max &lt;dbl&gt; | carotid.IMT.mean &lt;dbl&gt; | Plaque &lt;dbl&gt; | Statins &lt;dbl&gt; | comorbidities &lt;chr&gt; |\n|---|---|---|---|---|---|---|---|---|---|---|---|---|---|---|---|---|---|---|---|---|\n| 1 | 50 | 0 | 0 | 2022-03-26 | 63 | 6.5 | 163 |  84.0 | 31.61579 | ⋯ | 0.65 | 0.80 | 0.80 | 0.81 | 0.78 | 0.80 | 0.6425000 | 1 | 1 | NA                                                                                        |\n| 2 | 51 | 0 | 0 | 2023-12-23 | 47 | 5.5 | 179 | 111.0 | 34.64311 | ⋯ | 1.03 | 0.92 | 1.03 | 1.03 | 1.03 | 1.09 | 0.8400000 | 1 | 0 | NA                                                                                        |\n| 3 | 52 | 0 | 1 | 2022-10-10 | 57 | 7.0 | 164 |  80.0 | 29.74420 | ⋯ | 1.00 | 0.90 | 0.95 | 0.85 | 0.90 | 0.90 | 0.8500000 | 3 | 1 | Type 2 diabetes mellitus; MI - 2016                                                       |\n| 4 | 53 | 0 | 1 | 2022-12-21 | 72 | 5.0 | 160 |  58.8 | 22.96875 | ⋯ | 0.91 | 0.97 | 0.98 | 0.86 | 0.74 | 0.80 | 0.8241667 | 2 | 0 | 1-2 times per year hypertensive crises (Corinfar)                                         |\n| 5 | 54 | 0 | 1 | 2023-03-16 | 57 | 5.0 | 180 |  71.0 | 21.91358 | ⋯ | 1.20 | 1.20 | 1.25 | 1.10 | 1.30 | 1.13 | 1.0983333 | 1 | 1 | NA                                                                                        |\n| 6 | 55 | 0 | 1 | 2023-03-25 | 79 | 6.2 | 160 |  64.0 | 25.00000 | ⋯ | 0.88 | 0.80 | 0.90 | 1.07 | 1.00 | 1.30 | 0.8475000 | 2 | 0 | Cholecystitis, gastritis without exacerbation. Diffuse focal changes in the thyroid gland |\n\n",
            "text/latex": "A tibble: 6 × 48\n\\begin{tabular}{lllllllllllllllllllll}\n Vial.number & Patient.number & Sucrose & Group & Date & Age & Plasma.volume & Ht & Wt & BMI & ⋯ & r.lat.max & r.ant.max & r.pos.max & l.lat.max & l.ant.max & l.pos.max & carotid.IMT.mean & Plaque & Statins & comorbidities\\\\\n <dbl> & <dbl> & <dbl> & <dbl> & <dttm> & <dbl> & <dbl> & <dbl> & <dbl> & <dbl> & ⋯ & <dbl> & <dbl> & <dbl> & <dbl> & <dbl> & <dbl> & <dbl> & <dbl> & <dbl> & <chr>\\\\\n\\hline\n\t 1 & 50 & 0 & 0 & 2022-03-26 & 63 & 6.5 & 163 &  84.0 & 31.61579 & ⋯ & 0.65 & 0.80 & 0.80 & 0.81 & 0.78 & 0.80 & 0.6425000 & 1 & 1 & NA                                                                                       \\\\\n\t 2 & 51 & 0 & 0 & 2023-12-23 & 47 & 5.5 & 179 & 111.0 & 34.64311 & ⋯ & 1.03 & 0.92 & 1.03 & 1.03 & 1.03 & 1.09 & 0.8400000 & 1 & 0 & NA                                                                                       \\\\\n\t 3 & 52 & 0 & 1 & 2022-10-10 & 57 & 7.0 & 164 &  80.0 & 29.74420 & ⋯ & 1.00 & 0.90 & 0.95 & 0.85 & 0.90 & 0.90 & 0.8500000 & 3 & 1 & Type 2 diabetes mellitus; MI - 2016                                                      \\\\\n\t 4 & 53 & 0 & 1 & 2022-12-21 & 72 & 5.0 & 160 &  58.8 & 22.96875 & ⋯ & 0.91 & 0.97 & 0.98 & 0.86 & 0.74 & 0.80 & 0.8241667 & 2 & 0 & 1-2 times per year hypertensive crises (Corinfar)                                        \\\\\n\t 5 & 54 & 0 & 1 & 2023-03-16 & 57 & 5.0 & 180 &  71.0 & 21.91358 & ⋯ & 1.20 & 1.20 & 1.25 & 1.10 & 1.30 & 1.13 & 1.0983333 & 1 & 1 & NA                                                                                       \\\\\n\t 6 & 55 & 0 & 1 & 2023-03-25 & 79 & 6.2 & 160 &  64.0 & 25.00000 & ⋯ & 0.88 & 0.80 & 0.90 & 1.07 & 1.00 & 1.30 & 0.8475000 & 2 & 0 & Cholecystitis, gastritis without exacerbation. Diffuse focal changes in the thyroid gland\\\\\n\\end{tabular}\n",
            "text/plain": [
              "  Vial.number Patient.number Sucrose Group Date       Age Plasma.volume Ht \n",
              "1 1           50             0       0     2022-03-26 63  6.5           163\n",
              "2 2           51             0       0     2023-12-23 47  5.5           179\n",
              "3 3           52             0       1     2022-10-10 57  7.0           164\n",
              "4 4           53             0       1     2022-12-21 72  5.0           160\n",
              "5 5           54             0       1     2023-03-16 57  5.0           180\n",
              "6 6           55             0       1     2023-03-25 79  6.2           160\n",
              "  Wt    BMI      ⋯ r.lat.max r.ant.max r.pos.max l.lat.max l.ant.max l.pos.max\n",
              "1  84.0 31.61579 ⋯ 0.65      0.80      0.80      0.81      0.78      0.80     \n",
              "2 111.0 34.64311 ⋯ 1.03      0.92      1.03      1.03      1.03      1.09     \n",
              "3  80.0 29.74420 ⋯ 1.00      0.90      0.95      0.85      0.90      0.90     \n",
              "4  58.8 22.96875 ⋯ 0.91      0.97      0.98      0.86      0.74      0.80     \n",
              "5  71.0 21.91358 ⋯ 1.20      1.20      1.25      1.10      1.30      1.13     \n",
              "6  64.0 25.00000 ⋯ 0.88      0.80      0.90      1.07      1.00      1.30     \n",
              "  carotid.IMT.mean Plaque Statins\n",
              "1 0.6425000        1      1      \n",
              "2 0.8400000        1      0      \n",
              "3 0.8500000        3      1      \n",
              "4 0.8241667        2      0      \n",
              "5 1.0983333        1      1      \n",
              "6 0.8475000        2      0      \n",
              "  comorbidities                                                                            \n",
              "1 NA                                                                                       \n",
              "2 NA                                                                                       \n",
              "3 Type 2 diabetes mellitus; MI - 2016                                                      \n",
              "4 1-2 times per year hypertensive crises (Corinfar)                                        \n",
              "5 NA                                                                                       \n",
              "6 Cholecystitis, gastritis without exacerbation. Diffuse focal changes in the thyroid gland"
            ]
          },
          "metadata": {}
        }
      ]
    },
    {
      "cell_type": "markdown",
      "source": [
        "Цель исследования\n",
        "\n",
        "по имеющимся данным лабораторных и инструментальных исследований (биохимический анализ крови, данные храматографии липидов, результаты ультразвукового исследования брахиоцефальных артерий шеи) определить влияние последних на риск развития атеросклеротического поражения артерий у пациента\n",
        "\n",
        "Анализ датасета\n",
        "\n",
        "• в таблице metadata.xlsx на первом листе отражены данные о пациенте, результатах биохимического анализа крови, показателей систолического и диастолического давления, величины пульса, антропометрических показателей пациента (рост, вес), ИМТ, ультразвукового исследования брахиоцефальных и коронарных артерий, факторы риска, такие как курение, диабет, наличие семейно-сцепленных заболеваний и др.\n",
        "\n",
        "• в таблице metadata.xlsx на втором листе отражены данные об наименованиях столбцов первогол листа (колонка variable) и их расшифровка (колонка descriptive) а также интерпретация категорий отнесения пациентов относительно поражения артерий атеросклерозом.\n",
        "\n",
        "• в таблицах high_density_lipids.tsv и low_density_lipids.tsv отражены данные об различных показателях хроматографии липопротеидв высокой и низкой плотности.\n",
        "\n",
        "Конечные точки\n",
        "1. степень стоноза бляшкой каротидных сосудов\n",
        "2. plaque score\n",
        "3. факт наличия ИБС\n",
        "\n",
        "Тип проводимого исследования\n",
        "\n",
        "• обсервационное аналитическое исследование. Случай-контроль\n",
        "\n",
        "\n",
        "Типы шкал\n",
        "\n",
        "• Количественные непрерывные шкалы:\n",
        "Интервальная шкала (нет представительства в датасете)\n",
        "\n",
        "• Шкала отношений (возраст, вес, рост, показатели систолического и диастолического давления)\n",
        "\n",
        "• Качественные дискретные шкалы:\n",
        "\n",
        "1. Номинальная шкала(диагнозы, указанные в столбце comorbidities)\n",
        "\n",
        "2. Порядковая шкала(показатель Plaque - степень выраженности АТС-бляшки)\n",
        "\n",
        "Составить несколько\n",
        "эмпирических гипотез, которые можно осмысленно проверить на этих данных\n",
        "\n",
        "• Приводит ли фактор курения к поражению атеросклерозом артерий\n",
        "\n",
        "• Приводит ли повышение уровня триглициридов крови к поражению атеросклерозом артерий.\n",
        "\n",
        "• Приводит ли повышение уровня холестерина крови к поражению атеросклерозом артерий\n",
        "\n",
        "• Приводит ли повышение уровня липопротеидов высокой плотности крови к снижению риска развития атеросклероза артерий."
      ],
      "metadata": {
        "id": "XlrxeyYNPhAc"
      }
    },
    {
      "cell_type": "markdown",
      "source": [
        "# описательные статистики"
      ],
      "metadata": {
        "id": "azLkhqyyh6cA"
      }
    },
    {
      "cell_type": "code",
      "source": [
        "summary(meta)"
      ],
      "metadata": {
        "id": "AZ-zvjromjFP",
        "colab": {
          "base_uri": "https://localhost:8080/",
          "height": 1000
        },
        "outputId": "ed60bc7b-bf0d-446d-937c-c22bc062d079"
      },
      "execution_count": 26,
      "outputs": [
        {
          "output_type": "display_data",
          "data": {
            "text/plain": [
              "  Vial.number    Patient.number     Sucrose           Group       \n",
              " Min.   : 1.00   Min.   :25.00   Min.   :0.0000   Min.   :0.0000  \n",
              " 1st Qu.:10.25   1st Qu.:36.25   1st Qu.:0.0000   1st Qu.:0.0000  \n",
              " Median :19.50   Median :41.50   Median :1.0000   Median :1.0000  \n",
              " Mean   :19.50   Mean   :43.76   Mean   :0.6316   Mean   :0.6316  \n",
              " 3rd Qu.:28.75   3rd Qu.:53.75   3rd Qu.:1.0000   3rd Qu.:1.0000  \n",
              " Max.   :38.00   Max.   :63.00   Max.   :1.0000   Max.   :1.0000  \n",
              "                                                                  \n",
              "      Date                             Age        Plasma.volume   \n",
              " Min.   :2022-01-01 00:00:00.00   Min.   :47.00   Min.   : 5.000  \n",
              " 1st Qu.:2022-05-16 12:00:00.00   1st Qu.:60.25   1st Qu.: 6.500  \n",
              " Median :2022-08-14 00:00:00.00   Median :65.00   Median :10.250  \n",
              " Mean   :2022-10-18 10:06:18.95   Mean   :65.58   Mean   : 9.453  \n",
              " 3rd Qu.:2023-03-14 00:00:00.00   3rd Qu.:70.00   3rd Qu.:11.875  \n",
              " Max.   :2023-12-23 00:00:00.00   Max.   :83.00   Max.   :13.000  \n",
              "                                                                  \n",
              "       Ht              Wt              BMI             Sys       \n",
              " Min.   :150.0   Min.   : 56.50   Min.   :20.28   Min.   :100.0  \n",
              " 1st Qu.:161.0   1st Qu.: 63.25   1st Qu.:23.00   1st Qu.:121.0  \n",
              " Median :165.0   Median : 72.50   Median :27.68   Median :132.0  \n",
              " Mean   :165.0   Mean   : 74.86   Mean   :27.55   Mean   :131.7  \n",
              " 3rd Qu.:168.8   3rd Qu.: 83.50   3rd Qu.:30.29   3rd Qu.:136.8  \n",
              " Max.   :180.0   Max.   :111.00   Max.   :38.87   Max.   :188.0  \n",
              "                                                                 \n",
              "      Dia               PR              Sm                Dm        \n",
              " Min.   : 57.00   Min.   :54.00   Min.   :0.00000   Min.   :0.0000  \n",
              " 1st Qu.: 75.00   1st Qu.:68.00   1st Qu.:0.00000   1st Qu.:0.0000  \n",
              " Median : 80.00   Median :73.00   Median :0.00000   Median :0.0000  \n",
              " Mean   : 80.08   Mean   :73.66   Mean   :0.07895   Mean   :0.1053  \n",
              " 3rd Qu.: 85.75   3rd Qu.:78.75   3rd Qu.:0.00000   3rd Qu.:0.0000  \n",
              " Max.   :105.00   Max.   :92.00   Max.   :1.00000   Max.   :1.0000  \n",
              "                                                                    \n",
              "       HT              LVH              IHD            MI        \n",
              " Min.   :0.0000   Min.   :0.0000   Min.   :0.0   Min.   :0.0000  \n",
              " 1st Qu.:0.0000   1st Qu.:0.0000   1st Qu.:0.0   1st Qu.:0.0000  \n",
              " Median :1.0000   Median :0.0000   Median :0.5   Median :0.0000  \n",
              " Mean   :0.6053   Mean   :0.3684   Mean   :0.5   Mean   :0.1053  \n",
              " 3rd Qu.:1.0000   3rd Qu.:1.0000   3rd Qu.:1.0   3rd Qu.:0.0000  \n",
              " Max.   :1.0000   Max.   :1.0000   Max.   :1.0   Max.   :1.0000  \n",
              "                                                                 \n",
              "      Str               A_C              A_H              A_D        \n",
              " Min.   :0.00000   Min.   :0.0000   Min.   :0.0000   Min.   :0.0000  \n",
              " 1st Qu.:0.00000   1st Qu.:0.0000   1st Qu.:0.0000   1st Qu.:0.0000  \n",
              " Median :0.00000   Median :0.0000   Median :0.0000   Median :0.0000  \n",
              " Mean   :0.05263   Mean   :0.3947   Mean   :0.4211   Mean   :0.1842  \n",
              " 3rd Qu.:0.00000   3rd Qu.:1.0000   3rd Qu.:1.0000   3rd Qu.:0.0000  \n",
              " Max.   :1.00000   Max.   :1.0000   Max.   :1.0000   Max.   :1.0000  \n",
              "                                                                     \n",
              "   Choi...25        Tgi...26        HDLi...27        LDLi...28    \n",
              " Min.   :164.0   Min.   : 35.00   Min.   : 38.60   Min.   : 61.1  \n",
              " 1st Qu.:208.5   1st Qu.: 82.75   1st Qu.: 51.45   1st Qu.:113.2  \n",
              " Median :240.0   Median :115.50   Median : 62.40   Median :152.0  \n",
              " Mean   :240.6   Mean   :123.39   Mean   : 63.80   Mean   :152.3  \n",
              " 3rd Qu.:270.0   3rd Qu.:145.25   3rd Qu.: 68.38   3rd Qu.:188.0  \n",
              " Max.   :322.0   Max.   :317.00   Max.   :108.00   Max.   :236.0  \n",
              "                                                                  \n",
              "   Choi...29        Tgi...30        HDLi...31       LDLi...32    \n",
              " Min.   :4.260   Min.   :0.3846   Min.   :1.003   Min.   :1.587  \n",
              " 1st Qu.:5.416   1st Qu.:0.9093   1st Qu.:1.336   1st Qu.:2.942  \n",
              " Median :6.234   Median :1.2692   Median :1.621   Median :3.948  \n",
              " Mean   :6.249   Mean   :1.3560   Mean   :1.657   Mean   :3.957  \n",
              " 3rd Qu.:7.013   3rd Qu.:1.5962   3rd Qu.:1.776   3rd Qu.:4.883  \n",
              " Max.   :8.364   Max.   :3.4835   Max.   :2.805   Max.   :6.130  \n",
              "                                                                 \n",
              "       AI           r.lat.min        r.ant.min       r.pos.min     \n",
              " Min.   :0.5657   Min.   :0.4200   Min.   :0.460   Min.   :0.4600  \n",
              " 1st Qu.:1.8497   1st Qu.:0.6050   1st Qu.:0.570   1st Qu.:0.6200  \n",
              " Median :2.3405   Median :0.7000   Median :0.690   Median :0.7200  \n",
              " Mean   :2.5670   Mean   :0.6816   Mean   :0.695   Mean   :0.7142  \n",
              " 3rd Qu.:3.2252   3rd Qu.:0.7475   3rd Qu.:0.800   3rd Qu.:0.8000  \n",
              " Max.   :4.4595   Max.   :1.0000   Max.   :1.030   Max.   :1.1000  \n",
              "                                                                   \n",
              "   l.lat.min        l.ant.min        l.pos.min        r.lat.max     \n",
              " Min.   :0.3700   Min.   :0.4400   Min.   :0.4100   Min.   :0.5600  \n",
              " 1st Qu.:0.5400   1st Qu.:0.5725   1st Qu.:0.6000   1st Qu.:0.7500  \n",
              " Median :0.7000   Median :0.6950   Median :0.7050   Median :0.9000  \n",
              " Mean   :0.6871   Mean   :0.6903   Mean   :0.7237   Mean   :0.8803  \n",
              " 3rd Qu.:0.8000   3rd Qu.:0.8000   3rd Qu.:0.8000   3rd Qu.:1.0000  \n",
              " Max.   :0.9000   Max.   :1.0000   Max.   :1.0000   Max.   :1.2500  \n",
              "                                                                    \n",
              "   r.ant.max        r.pos.max        l.lat.max        l.ant.max     \n",
              " Min.   :0.6200   Min.   :0.6500   Min.   :0.5800   Min.   :0.5600  \n",
              " 1st Qu.:0.8000   1st Qu.:0.8225   1st Qu.:0.8000   1st Qu.:0.7425  \n",
              " Median :0.9150   Median :0.9550   Median :0.8550   Median :0.8800  \n",
              " Mean   :0.9355   Mean   :0.9411   Mean   :0.8874   Mean   :0.8887  \n",
              " 3rd Qu.:1.0300   3rd Qu.:1.0300   3rd Qu.:1.0225   3rd Qu.:1.0150  \n",
              " Max.   :1.3200   Max.   :1.2500   Max.   :1.3200   Max.   :1.3000  \n",
              "                                                                    \n",
              "   l.pos.max      carotid.IMT.mean     Plaque         Statins      \n",
              " Min.   :0.6000   Min.   :0.5833   Min.   :0.000   Min.   :0.0000  \n",
              " 1st Qu.:0.8125   1st Qu.:0.7202   1st Qu.:1.000   1st Qu.:0.0000  \n",
              " Median :0.9600   Median :0.8250   Median :2.000   Median :0.0000  \n",
              " Mean   :0.9650   Mean   :0.8075   Mean   :1.526   Mean   :0.3514  \n",
              " 3rd Qu.:1.0900   3rd Qu.:0.8804   3rd Qu.:2.000   3rd Qu.:1.0000  \n",
              " Max.   :1.6000   Max.   :1.0983   Max.   :3.000   Max.   :1.0000  \n",
              "                                                   NA's   :1       \n",
              " comorbidities     \n",
              " Length:38         \n",
              " Class :character  \n",
              " Mode  :character  \n",
              "                   \n",
              "                   \n",
              "                   \n",
              "                   "
            ]
          },
          "metadata": {}
        }
      ]
    },
    {
      "cell_type": "code",
      "source": [
        "summary(meta$Age)"
      ],
      "metadata": {
        "id": "JAgczfoyjWM_",
        "colab": {
          "base_uri": "https://localhost:8080/",
          "height": 49
        },
        "outputId": "27a770b8-a3a4-4c37-ed2d-a96e21688558"
      },
      "execution_count": 27,
      "outputs": [
        {
          "output_type": "display_data",
          "data": {
            "text/plain": [
              "   Min. 1st Qu.  Median    Mean 3rd Qu.    Max. \n",
              "  47.00   60.25   65.00   65.58   70.00   83.00 "
            ]
          },
          "metadata": {}
        }
      ]
    },
    {
      "cell_type": "code",
      "source": [
        "# Создание нового столбца \"Age_Group\" на основе возрастных групп\n",
        "meta$Age_Group <- cut(meta$Age, breaks = c(40, 50, 60, 70, Inf), labels = c(\"40-50\", \"51-60\", \"61-70\", \"71+\"))\n"
      ],
      "metadata": {
        "id": "QcZZwCyFmMQf"
      },
      "execution_count": 28,
      "outputs": []
    },
    {
      "cell_type": "code",
      "source": [
        "# Для перевода числовых переменных в факторы применим функцию factor()\n",
        "meta$Sucrose <- factor(meta$Sucrose)\n",
        "meta$Group <- factor(meta$Group)\n",
        "meta$HT <- factor(meta$HT)\n",
        "meta$LVH <- factor(meta$LVH)\n",
        "meta$IHD <- factor(meta$IHD)\n",
        "meta$MI <- factor(meta$MI)\n",
        "meta$Str <- factor(meta$Str)\n",
        "meta$A_C <- factor(meta$A_C)\n",
        "meta$A_H <- factor(meta$A_H)\n",
        "meta$A_D <- factor(meta$A_D)\n",
        "meta$Plaque <- factor(meta$Plaque)\n",
        "meta$Statins <- factor(meta$Statins)\n",
        "meta$comorbidities <- factor(meta$comorbidities)\n",
        "meta$Age_Group <- factor(meta$Age_Group)\n"
      ],
      "metadata": {
        "id": "hYh0zEg1nZgr"
      },
      "execution_count": 29,
      "outputs": []
    },
    {
      "cell_type": "markdown",
      "source": [
        "Будем использовать skimr для вычисления сводных статистик для факторных и числовых переменных в вашем наборе данных."
      ],
      "metadata": {
        "id": "t3O2nydNoRZm"
      }
    },
    {
      "cell_type": "code",
      "source": [
        "install.packages(\"skimr\")\n",
        "\n",
        "library(skimr)\n",
        "\n",
        "# Вычисление сводных статистик для факторных переменных\n",
        "factor_desc_stats <- skimr::skim(select(meta, where(is.factor))) %>%\n",
        "  select(skim_variable, factor.top_counts)\n",
        "\n",
        "factor_desc_stats"
      ],
      "metadata": {
        "id": "1ess2LQPDYLx",
        "colab": {
          "base_uri": "https://localhost:8080/",
          "height": 398
        },
        "outputId": "1f2c3ea8-7ea9-4575-804a-f0be4e56636d"
      },
      "execution_count": 30,
      "outputs": [
        {
          "output_type": "stream",
          "name": "stderr",
          "text": [
            "Installing package into ‘/usr/local/lib/R/site-library’\n",
            "(as ‘lib’ is unspecified)\n",
            "\n"
          ]
        },
        {
          "output_type": "stream",
          "name": "stdout",
          "text": [
            "\u001b[90m# A tibble: 14 × 2\u001b[39m\n",
            "   skim_variable factor.top_counts              \n",
            "   \u001b[3m\u001b[90m<chr>\u001b[39m\u001b[23m         \u001b[3m\u001b[90m<chr>\u001b[39m\u001b[23m                          \n",
            "\u001b[90m 1\u001b[39m Sucrose       1: 24, 0: 14                   \n",
            "\u001b[90m 2\u001b[39m Group         1: 24, 0: 14                   \n",
            "\u001b[90m 3\u001b[39m HT            1: 23, 0: 15                   \n",
            "\u001b[90m 4\u001b[39m LVH           0: 24, 1: 14                   \n",
            "\u001b[90m 5\u001b[39m IHD           0: 19, 1: 19                   \n",
            "\u001b[90m 6\u001b[39m MI            0: 34, 1: 4                    \n",
            "\u001b[90m 7\u001b[39m Str           0: 36, 1: 2                    \n",
            "\u001b[90m 8\u001b[39m A_C           0: 23, 1: 15                   \n",
            "\u001b[90m 9\u001b[39m A_H           0: 22, 1: 16                   \n",
            "\u001b[90m10\u001b[39m A_D           0: 31, 1: 7                    \n",
            "\u001b[90m11\u001b[39m Plaque        2: 17, 1: 15, 0: 3, 3: 3       \n",
            "\u001b[90m12\u001b[39m Statins       0: 24, 1: 13                   \n",
            "\u001b[90m13\u001b[39m comorbidities 1-2: 1, 2/2: 1, App: 1, CAD: 1 \n",
            "\u001b[90m14\u001b[39m Age_Group     61-: 19, 71+: 9, 51-: 8, 40-: 2\n"
          ]
        },
        {
          "output_type": "error",
          "ename": "ERROR",
          "evalue": "Error in is.null(text_repr) || nchar(text_repr) == 0L: 'length = 2' in coercion to 'logical(1)'\n",
          "traceback": [
            "Error in is.null(text_repr) || nchar(text_repr) == 0L: 'length = 2' in coercion to 'logical(1)'\nTraceback:\n"
          ]
        }
      ]
    },
    {
      "cell_type": "code",
      "source": [
        "# Вычисление сводных статистик для числовых переменных\n",
        "num_desc_stats <- skimr::skim(select(meta, where(is.numeric)))\n",
        "num_desc_stats"
      ],
      "metadata": {
        "id": "0k9iDeu0o_YH",
        "colab": {
          "base_uri": "https://localhost:8080/",
          "height": 1000
        },
        "outputId": "4f00d66d-f6b5-479e-8aff-73b0abe5385a"
      },
      "execution_count": 31,
      "outputs": [
        {
          "output_type": "stream",
          "name": "stdout",
          "text": [
            "── Data Summary ────────────────────────\n",
            "                           Values                      \n",
            "Name                       select(meta, where(is.num...\n",
            "Number of rows             38                          \n",
            "Number of columns          34                          \n",
            "_______________________                                \n",
            "Column type frequency:                                 \n",
            "  numeric                  34                          \n",
            "________________________                               \n",
            "Group variables            None                        \n",
            "\n",
            "── Variable type: numeric ──────────────────────────────────────────────────────\n",
            "   skim_variable    n_missing complete_rate     mean     sd      p0     p25\n",
            "\u001b[90m 1\u001b[39m Vial.number              0             1  19.5    11.1     1      10.2  \n",
            "\u001b[90m 2\u001b[39m Patient.number           0             1  43.8    11.1    25      36.2  \n",
            "\u001b[90m 3\u001b[39m Age                      0             1  65.6     8.67   47      60.2  \n",
            "\u001b[90m 4\u001b[39m Plasma.volume            0             1   9.45    2.88    5       6.5  \n",
            "\u001b[90m 5\u001b[39m Ht                       0             1 165       6.31  150     161    \n",
            "\u001b[90m 6\u001b[39m Wt                       0             1  74.9    14.3    56.5    63.2  \n",
            "\u001b[90m 7\u001b[39m BMI                      0             1  27.5     5.23   20.3    23.0  \n",
            "\u001b[90m 8\u001b[39m Sys                      0             1 132.     16.0   100     121    \n",
            "\u001b[90m 9\u001b[39m Dia                      0             1  80.1    10.8    57      75    \n",
            "\u001b[90m10\u001b[39m PR                       0             1  73.7     8.57   54      68    \n",
            "\u001b[90m11\u001b[39m Sm                       0             1   0.078\u001b[4m9\u001b[24m  0.273   0       0    \n",
            "\u001b[90m12\u001b[39m Dm                       0             1   0.105   0.311   0       0    \n",
            "\u001b[90m13\u001b[39m Choi...25                0             1 241.     41.2   164     208.   \n",
            "\u001b[90m14\u001b[39m Tgi...26                 0             1 123.     60.6    35      82.8  \n",
            "\u001b[90m15\u001b[39m HDLi...27                0             1  63.8    16.2    38.6    51.4  \n",
            "\u001b[90m16\u001b[39m LDLi...28                0             1 152.     40.2    61.1   113.   \n",
            "\u001b[90m17\u001b[39m Choi...29                0             1   6.25    1.07    4.26    5.42 \n",
            "\u001b[90m18\u001b[39m Tgi...30                 0             1   1.36    0.666   0.385   0.909\n",
            "\u001b[90m19\u001b[39m HDLi...31                0             1   1.66    0.421   1.00    1.34 \n",
            "\u001b[90m20\u001b[39m LDLi...32                0             1   3.96    1.04    1.59    2.94 \n",
            "\u001b[90m21\u001b[39m AI                       0             1   2.57    0.957   0.566   1.85 \n",
            "\u001b[90m22\u001b[39m r.lat.min                0             1   0.682   0.134   0.42    0.605\n",
            "\u001b[90m23\u001b[39m r.ant.min                0             1   0.695   0.153   0.46    0.57 \n",
            "\u001b[90m24\u001b[39m r.pos.min                0             1   0.714   0.142   0.46    0.62 \n",
            "\u001b[90m25\u001b[39m l.lat.min                0             1   0.687   0.141   0.37    0.54 \n",
            "\u001b[90m26\u001b[39m l.ant.min                0             1   0.690   0.153   0.44    0.572\n",
            "\u001b[90m27\u001b[39m l.pos.min                0             1   0.724   0.152   0.41    0.6  \n",
            "\u001b[90m28\u001b[39m r.lat.max                0             1   0.880   0.175   0.56    0.75 \n",
            "\u001b[90m29\u001b[39m r.ant.max                0             1   0.936   0.165   0.62    0.8  \n",
            "\u001b[90m30\u001b[39m r.pos.max                0             1   0.941   0.159   0.65    0.822\n",
            "\u001b[90m31\u001b[39m l.lat.max                0             1   0.887   0.175   0.58    0.8  \n",
            "\u001b[90m32\u001b[39m l.ant.max                0             1   0.889   0.193   0.56    0.742\n",
            "\u001b[90m33\u001b[39m l.pos.max                0             1   0.965   0.207   0.6     0.813\n",
            "\u001b[90m34\u001b[39m carotid.IMT.mean         0             1   0.807   0.124   0.583   0.720\n",
            "       p50     p75   p100 hist \n",
            "\u001b[90m 1\u001b[39m  19.5    28.8    38    ▇▇▇▇▇\n",
            "\u001b[90m 2\u001b[39m  41.5    53.8    63    ▃▇▃▃▅\n",
            "\u001b[90m 3\u001b[39m  65      70      83    ▂▅▇▅▃\n",
            "\u001b[90m 4\u001b[39m  10.2    11.9    13    ▆▂▁▅▇\n",
            "\u001b[90m 5\u001b[39m 165     169.    180    ▁▇▇▅▂\n",
            "\u001b[90m 6\u001b[39m  72.5    83.5   111    ▇▆▅▁▂\n",
            "\u001b[90m 7\u001b[39m  27.7    30.3    38.9  ▇▃▆▅▁\n",
            "\u001b[90m 8\u001b[39m 132     137.    188    ▂▇▃▁▁\n",
            "\u001b[90m 9\u001b[39m  80      85.8   105    ▂▇▇▅▂\n",
            "\u001b[90m10\u001b[39m  73      78.8    92    ▁▆▇▃▃\n",
            "\u001b[90m11\u001b[39m   0       0       1    ▇▁▁▁▁\n",
            "\u001b[90m12\u001b[39m   0       0       1    ▇▁▁▁▁\n",
            "\u001b[90m13\u001b[39m 240     270     322    ▃▇▅▇▂\n",
            "\u001b[90m14\u001b[39m 116.    145.    317    ▅▇▂▁▁\n",
            "\u001b[90m15\u001b[39m  62.4    68.4   108    ▇▇▅▃▁\n",
            "\u001b[90m16\u001b[39m 152     188     236    ▁▇▇▇▁\n",
            "\u001b[90m17\u001b[39m   6.23    7.01    8.36 ▃▇▅▇▂\n",
            "\u001b[90m18\u001b[39m   1.27    1.60    3.48 ▅▇▂▁▁\n",
            "\u001b[90m19\u001b[39m   1.62    1.78    2.81 ▇▇▅▃▁\n",
            "\u001b[90m20\u001b[39m   3.95    4.88    6.13 ▁▇▇▇▁\n",
            "\u001b[90m21\u001b[39m   2.34    3.23    4.46 ▃▆▇▇▃\n",
            "\u001b[90m22\u001b[39m   0.7     0.748   1    ▅▃▇▂▂\n",
            "\u001b[90m23\u001b[39m   0.69    0.8     1.03 ▆▃▇▁▂\n",
            "\u001b[90m24\u001b[39m   0.72    0.8     1.1  ▅▇▇▃▁\n",
            "\u001b[90m25\u001b[39m   0.7     0.8     0.9  ▁▅▂▅▇\n",
            "\u001b[90m26\u001b[39m   0.695   0.8     1    ▅▇▅▆▃\n",
            "\u001b[90m27\u001b[39m   0.705   0.8     1    ▂▅▇▂▆\n",
            "\u001b[90m28\u001b[39m   0.9     1       1.25 ▃▇▇▆▃\n",
            "\u001b[90m29\u001b[39m   0.915   1.03    1.32 ▃▇▇▂▂\n",
            "\u001b[90m30\u001b[39m   0.955   1.03    1.25 ▃▃▇▃▃\n",
            "\u001b[90m31\u001b[39m   0.855   1.02    1.32 ▃▇▃▅▁\n",
            "\u001b[90m32\u001b[39m   0.88    1.02    1.3  ▅▇▇▅▃\n",
            "\u001b[90m33\u001b[39m   0.96    1.09    1.6  ▆▇▇▂▁\n",
            "\u001b[90m34\u001b[39m   0.825   0.880   1.10 ▅▃▇▂▂\n"
          ]
        },
        {
          "output_type": "error",
          "ename": "ERROR",
          "evalue": "Error in is.null(text_repr) || nchar(text_repr) == 0L: 'length = 12' in coercion to 'logical(1)'\n",
          "traceback": [
            "Error in is.null(text_repr) || nchar(text_repr) == 0L: 'length = 12' in coercion to 'logical(1)'\nTraceback:\n"
          ]
        }
      ]
    },
    {
      "cell_type": "markdown",
      "source": [
        "Исходя из предоставленных описательных статистик, можно сделать следующие выводы:\n",
        "\n",
        "1. Возраст (Age): Средний возраст участников составляет около 65.6 лет, с минимальным значением 47 и максимальным 83. Распределение возраста кажется нормальным, без явных выбросов.\n",
        "2. Вес (Wt): Средний вес составляет около 74.9 кг, с минимальным значением 56.5 кг и максимальным 111 кг. Распределение веса также кажется нормальным.\n",
        "3. Индекс массы тела (BMI): Средний BMI составляет около 27.5, что указывает на наличие избыточного веса у участников исследования. Распределение BMI также кажется нормальным.\n",
        "4. Давление (Sys, Dia): Среднее систолическое давление (Sys) составляет около 132 мм ртутного столба, а среднее диастолическое давление (Dia) - около 80.1 мм ртутного столба. Оба параметра имеют нормальное распределение.\n",
        "\n",
        "\n",
        "Теперь мы можем построить гистограммы для этих и некоторых других переменных, чтобы точнее визуально оценить их распределение."
      ],
      "metadata": {
        "id": "1TGl2wZxrKvN"
      }
    },
    {
      "cell_type": "code",
      "source": [
        "library(ggplot2)\n",
        "\n",
        "# Функция для построения гистограммы с использованием ggplot2\n",
        "histogram_plot_ggplot <- function(data, variable, label) {\n",
        "  ggplot(data, aes(x = !!sym(variable))) +\n",
        "    geom_histogram(binwidth = 1, fill = \"skyblue\", color = \"black\") +\n",
        "    labs(title = paste(\"Histogram of\", label),\n",
        "         x = label, y = \"Frequency\") +\n",
        "    theme_minimal()\n",
        "}\n",
        "\n",
        "# Список выбранных переменных и их названий\n",
        "selected_variables <- c(\"Age\", \"Ht\", \"Wt\", \"BMI\", \"PR\", \"Sm\", \"Choi...29\")\n",
        "selected_labels <- c(\"Age\", \"Height\", \"Weight\", \"Body Mass Index\", \"Pulse\", \"Smoking\", \"Cholesterol\")\n",
        "\n",
        "# Построение гистограмм с использованием ggplot2 для выбранных переменных\n",
        "hist_plots_ggplot <- mapply(histogram_plot_ggplot,\n",
        "                             data = list(meta),\n",
        "                             variable = selected_variables,\n",
        "                             label = selected_labels,\n",
        "                             SIMPLIFY = FALSE)\n",
        "\n",
        "# Показать гистограммы\n",
        "hist_plots_ggplot\n"
      ],
      "metadata": {
        "id": "JspWb6Qaomtp",
        "colab": {
          "base_uri": "https://localhost:8080/",
          "height": 1000
        },
        "outputId": "0233a616-2dec-47be-c499-2c034d16509f"
      },
      "execution_count": 32,
      "outputs": [
        {
          "output_type": "display_data",
          "data": {
            "text/plain": [
              "plot without title"
            ],
            "image/png": "[encoded data removed]"
          },
          "metadata": {
            "image/png": {
              "width": 420,
              "height": 420
            }
          }
        },
        {
          "output_type": "display_data",
          "data": {
            "text/plain": [
              "plot without title"
            ],
            "image/png": "[encoded data removed]"
          },
          "metadata": {
            "image/png": {
              "width": 420,
              "height": 420
            }
          }
        },
        {
          "output_type": "display_data",
          "data": {
            "text/plain": [
              "plot without title"
            ],
            "image/png": "[encoded data removed]"
          },
          "metadata": {
            "image/png": {
              "width": 420,
              "height": 420
            }
          }
        },
        {
          "output_type": "display_data",
          "data": {
            "text/plain": [
              "plot without title"
            ],
            "image/png": "[encoded data removed]"
          },
          "metadata": {
            "image/png": {
              "width": 420,
              "height": 420
            }
          }
        },
        {
          "output_type": "display_data",
          "data": {
            "text/plain": [
              "plot without title"
            ],
            "image/png": "[encoded data removed]"
          },
          "metadata": {
            "image/png": {
              "width": 420,
              "height": 420
            }
          }
        },
        {
          "output_type": "display_data",
          "data": {
            "text/plain": [
              "[[1]]\n",
              "\n",
              "[[2]]\n",
              "\n",
              "[[3]]\n",
              "\n",
              "[[4]]\n",
              "\n",
              "[[5]]\n",
              "\n",
              "[[6]]\n",
              "\n",
              "[[7]]\n"
            ]
          },
          "metadata": {}
        },
        {
          "output_type": "display_data",
          "data": {
            "text/plain": [
              "plot without title"
            ],
            "image/png": "[encoded data removed]"
          },
          "metadata": {
            "image/png": {
              "width": 420,
              "height": 420
            }
          }
        },
        {
          "output_type": "display_data",
          "data": {
            "text/plain": [
              "plot without title"
            ],
            "image/png": "[encoded data removed]"
          },
          "metadata": {
            "image/png": {
              "width": 420,
              "height": 420
            }
          }
        }
      ]
    },
    {
      "cell_type": "markdown",
      "source": [
        "Smoking:  Имеет распределение Бернули."
      ],
      "metadata": {
        "id": "sBUfZYrP3oJw"
      }
    },
    {
      "cell_type": "code",
      "source": [
        "# Проверка нормальности распределения переменной Age\n",
        "shapiro.test(meta$Age)\n",
        "shapiro.test(meta$Ht)\n",
        "shapiro.test(meta$Wt)\n",
        "shapiro.test(meta$BMI)\n",
        "shapiro.test(meta$PR)\n",
        "shapiro.test(meta$Choi...25)"
      ],
      "metadata": {
        "id": "Gf0lIWsQyM1T",
        "colab": {
          "base_uri": "https://localhost:8080/",
          "height": 510
        },
        "outputId": "f83ad9a8-11a2-4ec2-d003-0ee327c71729"
      },
      "execution_count": 33,
      "outputs": [
        {
          "output_type": "display_data",
          "data": {
            "text/plain": [
              "\n",
              "\tShapiro-Wilk normality test\n",
              "\n",
              "data:  meta$Age\n",
              "W = 0.9835, p-value = 0.8362\n"
            ]
          },
          "metadata": {}
        },
        {
          "output_type": "display_data",
          "data": {
            "text/plain": [
              "\n",
              "\tShapiro-Wilk normality test\n",
              "\n",
              "data:  meta$Ht\n",
              "W = 0.9761, p-value = 0.5801\n"
            ]
          },
          "metadata": {}
        },
        {
          "output_type": "display_data",
          "data": {
            "text/plain": [
              "\n",
              "\tShapiro-Wilk normality test\n",
              "\n",
              "data:  meta$Wt\n",
              "W = 0.93095, p-value = 0.02149\n"
            ]
          },
          "metadata": {}
        },
        {
          "output_type": "display_data",
          "data": {
            "text/plain": [
              "\n",
              "\tShapiro-Wilk normality test\n",
              "\n",
              "data:  meta$BMI\n",
              "W = 0.93281, p-value = 0.02462\n"
            ]
          },
          "metadata": {}
        },
        {
          "output_type": "display_data",
          "data": {
            "text/plain": [
              "\n",
              "\tShapiro-Wilk normality test\n",
              "\n",
              "data:  meta$PR\n",
              "W = 0.96442, p-value = 0.2634\n"
            ]
          },
          "metadata": {}
        },
        {
          "output_type": "display_data",
          "data": {
            "text/plain": [
              "\n",
              "\tShapiro-Wilk normality test\n",
              "\n",
              "data:  meta$Choi...25\n",
              "W = 0.96942, p-value = 0.3763\n"
            ]
          },
          "metadata": {}
        }
      ]
    },
    {
      "cell_type": "markdown",
      "source": [
        "Результаты теста Шапиро-Уилка для каждой из переменных:\n",
        "\n",
        "Age: p-значение = 0.8362. Имеет нормальное распределение.\n",
        "\n",
        "Ht: p-значение = 0.5801. Имеет нормальное распределение.\n",
        "\n",
        "Wt: p-значение = 0.02149. Имеет ненормальное распределение, визуально похоже на бимодальное.\n",
        "\n",
        "BMI: p-значение = 0.02462. Нулевая гипотеза о нормальности распределения отвергается на уровне значимости 0.05. Имеет ненормальное распределение.\n",
        "\n",
        "PR: p-значение = 0.2634. Имеет нормальное распределение.\n",
        "\n",
        "Choi...25: p-значение = 0.3763. Имеет нормальное распределение.\n",
        "\n",
        "При интерпретации результатов следует обратить внимание на значение p-значения и уровень значимости. Если p-значение меньше выбранного уровня значимости (обычно 0.05), тогда нулевая гипотеза отвергается, и данные не считаются нормально распределенными."
      ],
      "metadata": {
        "id": "9lVDbT63yi0a"
      }
    },
    {
      "cell_type": "code",
      "source": [
        "\n",
        "# Построение гистограммы для переменной Wt\n",
        "ggplot(as.data.frame(meta), aes(x = Wt)) +\n",
        "  geom_histogram(color = 'black', fill = \"lightblue\") +\n",
        "  ggtitle(\"Distribution of Wt level\") +\n",
        "  scale_x_continuous(name = \"Wt\") +\n",
        "  scale_y_continuous(name = \"Frequency\")\n",
        "\n",
        "# Построение гистограммы для логарифмически преобразованной переменной Wt_log\n",
        "ggplot(as.data.frame(meta), aes(x = log(Wt))) +\n",
        "  geom_histogram(color = 'black', fill = \"lightblue\") +\n",
        "  ggtitle(\"Distribution of log-transformed Wt level\") +\n",
        "  scale_x_continuous(name = \"log Wt\") +\n",
        "  scale_y_continuous(name = \"Frequency\")\n"
      ],
      "metadata": {
        "id": "T1huM1PI1MFT",
        "colab": {
          "base_uri": "https://localhost:8080/",
          "height": 889
        },
        "outputId": "1a142500-569e-46a0-db80-7e239ee57767"
      },
      "execution_count": 34,
      "outputs": [
        {
          "output_type": "stream",
          "name": "stderr",
          "text": [
            "\u001b[1m\u001b[22m`stat_bin()` using `bins = 30`. Pick better value with `binwidth`.\n",
            "\u001b[1m\u001b[22m`stat_bin()` using `bins = 30`. Pick better value with `binwidth`.\n"
          ]
        },
        {
          "output_type": "display_data",
          "data": {
            "text/plain": [
              "plot without title"
            ],
            "image/png": "[encoded data removed]"
          },
          "metadata": {
            "image/png": {
              "width": 420,
              "height": 420
            }
          }
        },
        {
          "output_type": "display_data",
          "data": {
            "text/plain": [
              "plot without title"
            ],
            "image/png": "[encoded data removed]"
          },
          "metadata": {
            "image/png": {
              "width": 420,
              "height": 420
            }
          }
        }
      ]
    },
    {
      "cell_type": "code",
      "source": [
        "# Построение гистограммы для переменной BMI\n",
        "ggplot(as.data.frame(meta), aes(x = BMI)) +\n",
        "  geom_histogram(color = 'black', fill = \"lightblue\") +\n",
        "  ggtitle(\"Distribution of BMI level\") +\n",
        "  scale_x_continuous(name = \"BMI\") +\n",
        "  scale_y_continuous(name = \"Frequency\")\n",
        "\n",
        "# Построение гистограммы для логарифмически преобразованной переменной BMI_log\n",
        "ggplot(as.data.frame(meta), aes(x = log(BMI))) +\n",
        "  geom_histogram(color = 'black', fill = \"lightblue\") +\n",
        "  ggtitle(\"Distribution of log-transformed BMI level\") +\n",
        "  scale_x_continuous(name = \"log BMI\") +\n",
        "  scale_y_continuous(name = \"Frequency\")"
      ],
      "metadata": {
        "id": "zI2F17a82LVd",
        "colab": {
          "base_uri": "https://localhost:8080/",
          "height": 889
        },
        "outputId": "2b73af92-d7d7-4d06-981d-abff9eef2c1c"
      },
      "execution_count": 35,
      "outputs": [
        {
          "output_type": "stream",
          "name": "stderr",
          "text": [
            "\u001b[1m\u001b[22m`stat_bin()` using `bins = 30`. Pick better value with `binwidth`.\n",
            "\u001b[1m\u001b[22m`stat_bin()` using `bins = 30`. Pick better value with `binwidth`.\n"
          ]
        },
        {
          "output_type": "display_data",
          "data": {
            "text/plain": [
              "plot without title"
            ],
            "image/png": "[encoded data removed]"
          },
          "metadata": {
            "image/png": {
              "width": 420,
              "height": 420
            }
          }
        },
        {
          "output_type": "display_data",
          "data": {
            "text/plain": [
              "plot without title"
            ],
            "image/png": "[encoded data removed]"
          },
          "metadata": {
            "image/png": {
              "width": 420,
              "height": 420
            }
          }
        }
      ]
    },
    {
      "cell_type": "markdown",
      "source": [
        "### Cформулируем несколько гипотез на основе данных:\n",
        "\n",
        "### Гипотеза 1: Средний возраст пациентов с диабетом отличается от среднего возраста пациентов без диабета.\n",
        "- Группы: пациенты с диабетом и пациенты без диабета.\n",
        "- Зависимость: независимые выборки.\n",
        "- Переменная: возраст (Age).\n",
        "- Тест: двухвыборочный t-тест.\n",
        "\n",
        "### Гипотеза 2: Средний индекс массы тела (BMI) у курящих и некурящих пациентов различается.\n",
        "- Группы: курящие и некурящие пациенты.\n",
        "- Зависимость: независимые выборки.\n",
        "- Переменная: индекс массы тела (BMI).\n",
        "- Тест: двухвыборочный t-тест.\n",
        "\n",
        "### Гипотеза 3: Присутствует ли связь между уровнем холестерина (Choi...25) и наличием инфаркта миокарда (MI) у пациентов.\n",
        "- Группы: пациенты с инфарктом миокарда и без инфаркта миокарда.\n",
        "- Зависимость: независимые выборки.\n",
        "- Переменные: уровень холестерина и наличие инфаркта миокарда.\n",
        "- Тест: двухвыборочный t-тест."
      ],
      "metadata": {
        "id": "oX98lbdN8r7O"
      }
    },
    {
      "cell_type": "code",
      "source": [
        "# Гипотеза 1: средний возраст пациентов с диабетом отличается от среднего возраста пациентов без диабета\n",
        "t.test(meta$Age ~ meta$Dm)\n",
        "\n",
        "# Гипотеза 2: средний индекс массы тела (BMI) у курящих и некурящих пациентов различается\n",
        "t.test(meta$BMI ~ meta$Sm)\n",
        "\n",
        "# Гипотеза 3: связь между уровнем холестерина и наличием инфаркта миокарда\n",
        "t.test(meta$Choi...25 ~ meta$MI)\n"
      ],
      "metadata": {
        "id": "5pR3Jvzf7M8F",
        "colab": {
          "base_uri": "https://localhost:8080/",
          "height": 560
        },
        "outputId": "9231d468-bbc3-48f3-f3cc-0665ca35de37"
      },
      "execution_count": 36,
      "outputs": [
        {
          "output_type": "display_data",
          "data": {
            "text/plain": [
              "\n",
              "\tWelch Two Sample t-test\n",
              "\n",
              "data:  meta$Age by meta$Dm\n",
              "t = 1.0045, df = 3.9032, p-value = 0.3733\n",
              "alternative hypothesis: true difference in means between group 0 and group 1 is not equal to 0\n",
              "95 percent confidence interval:\n",
              " -7.66496 16.22378\n",
              "sample estimates:\n",
              "mean in group 0 mean in group 1 \n",
              "       66.02941        61.75000 \n"
            ]
          },
          "metadata": {}
        },
        {
          "output_type": "display_data",
          "data": {
            "text/plain": [
              "\n",
              "\tWelch Two Sample t-test\n",
              "\n",
              "data:  meta$BMI by meta$Sm\n",
              "t = 1.5451, df = 2.694, p-value = 0.23\n",
              "alternative hypothesis: true difference in means between group 0 and group 1 is not equal to 0\n",
              "95 percent confidence interval:\n",
              " -4.422713 11.802707\n",
              "sample estimates:\n",
              "mean in group 0 mean in group 1 \n",
              "       27.83793        24.14793 \n"
            ]
          },
          "metadata": {}
        },
        {
          "output_type": "display_data",
          "data": {
            "text/plain": [
              "\n",
              "\tWelch Two Sample t-test\n",
              "\n",
              "data:  meta$Choi...25 by meta$MI\n",
              "t = -0.3302, df = 3.3571, p-value = 0.7608\n",
              "alternative hypothesis: true difference in means between group 0 and group 1 is not equal to 0\n",
              "95 percent confidence interval:\n",
              " -97.42093  78.09740\n",
              "sample estimates:\n",
              "mean in group 0 mean in group 1 \n",
              "       239.5882        249.2500 \n"
            ]
          },
          "metadata": {}
        }
      ]
    },
    {
      "cell_type": "markdown",
      "source": [
        "#Выводы:\n",
        "\n",
        "##Возраст (Age) и наличие диабета (Dm):\n",
        "Нет статистически значимой разницы в среднем возрасте между группами пациентов с диабетом (группа 1) и без него (группа 0) (t(3.9032) = 1.0045, p = 0.3733, 95% ДИ [-7.66496, 16.22378]). Следовательно, наличие диабета не оказывает значимого влияния на средний возраст пациентов.\n",
        "##Индекс массы тела (BMI) и курение (Sm):\n",
        "Средний BMI в группе курильщиков (группа 1) ниже, чем у некурящих (группа 0), однако разница не является статистически значимой (t(2.694) = 1.5451, p = 0.23, 95% ДИ [-4.422713, 11.802707]). Это означает, что наличие курения не связано с значимым изменением среднего значения BMI.\n",
        "##Уровень холестерина (Choi...25) и наличие инфаркта миокарда (MI):\n",
        "Нет статистически значимой разницы в среднем уровне холестерина между группами пациентов с и без инфаркта миокарда (t(3.3571) = -0.3302, p = 0.7608, 95% ДИ [-97.42093, 78.09740]). Это означает, что наличие инфаркта миокарда не связано с изменением среднего уровня холестерина."
      ],
      "metadata": {
        "id": "c95dMo9A_DRQ"
      }
    },
    {
      "cell_type": "code",
      "source": [
        "unique(meta$Group)\n",
        "unique(meta$Plaque)\n"
      ],
      "metadata": {
        "id": "xiMRc9cSBI_x",
        "colab": {
          "base_uri": "https://localhost:8080/",
          "height": 82
        },
        "outputId": "8d2920c9-db5f-4f5a-fd1e-6c264d34a491"
      },
      "execution_count": 37,
      "outputs": [
        {
          "output_type": "display_data",
          "data": {
            "text/html": [
              "<style>\n",
              ".list-inline {list-style: none; margin:0; padding: 0}\n",
              ".list-inline>li {display: inline-block}\n",
              ".list-inline>li:not(:last-child)::after {content: \"\\00b7\"; padding: 0 .5ex}\n",
              "</style>\n",
              "<ol class=list-inline><li>0</li><li>1</li></ol>\n",
              "\n",
              "<details>\n",
              "\t<summary style=display:list-item;cursor:pointer>\n",
              "\t\t<strong>Levels</strong>:\n",
              "\t</summary>\n",
              "\t<style>\n",
              "\t.list-inline {list-style: none; margin:0; padding: 0}\n",
              "\t.list-inline>li {display: inline-block}\n",
              "\t.list-inline>li:not(:last-child)::after {content: \"\\00b7\"; padding: 0 .5ex}\n",
              "\t</style>\n",
              "\t<ol class=list-inline><li>'0'</li><li>'1'</li></ol>\n",
              "</details>"
            ],
            "text/markdown": "1. 0\n2. 1\n\n\n\n**Levels**: 1. '0'\n2. '1'\n\n\n",
            "text/latex": "\\begin{enumerate*}\n\\item 0\n\\item 1\n\\end{enumerate*}\n\n\\emph{Levels}: \\begin{enumerate*}\n\\item '0'\n\\item '1'\n\\end{enumerate*}\n",
            "text/plain": [
              "[1] 0 1\n",
              "Levels: 0 1"
            ]
          },
          "metadata": {}
        },
        {
          "output_type": "display_data",
          "data": {
            "text/html": [
              "<style>\n",
              ".list-inline {list-style: none; margin:0; padding: 0}\n",
              ".list-inline>li {display: inline-block}\n",
              ".list-inline>li:not(:last-child)::after {content: \"\\00b7\"; padding: 0 .5ex}\n",
              "</style>\n",
              "<ol class=list-inline><li>1</li><li>3</li><li>2</li><li>0</li></ol>\n",
              "\n",
              "<details>\n",
              "\t<summary style=display:list-item;cursor:pointer>\n",
              "\t\t<strong>Levels</strong>:\n",
              "\t</summary>\n",
              "\t<style>\n",
              "\t.list-inline {list-style: none; margin:0; padding: 0}\n",
              "\t.list-inline>li {display: inline-block}\n",
              "\t.list-inline>li:not(:last-child)::after {content: \"\\00b7\"; padding: 0 .5ex}\n",
              "\t</style>\n",
              "\t<ol class=list-inline><li>'0'</li><li>'1'</li><li>'2'</li><li>'3'</li></ol>\n",
              "</details>"
            ],
            "text/markdown": "1. 1\n2. 3\n3. 2\n4. 0\n\n\n\n**Levels**: 1. '0'\n2. '1'\n3. '2'\n4. '3'\n\n\n",
            "text/latex": "\\begin{enumerate*}\n\\item 1\n\\item 3\n\\item 2\n\\item 0\n\\end{enumerate*}\n\n\\emph{Levels}: \\begin{enumerate*}\n\\item '0'\n\\item '1'\n\\item '2'\n\\item '3'\n\\end{enumerate*}\n",
            "text/plain": [
              "[1] 1 3 2 0\n",
              "Levels: 0 1 2 3"
            ]
          },
          "metadata": {}
        }
      ]
    },
    {
      "cell_type": "code",
      "source": [
        "# Создание трехмерной таблицы\n",
        "ctable_meta <- meta %>%\n",
        "  filter(!is.na(Group) & !is.na(Plaque)) %>%\n",
        "  xtabs(~ Group + Plaque, data = .)\n",
        "\n",
        "# Вывод трехмерной таблицы\n",
        "ctable_meta\n",
        "\n",
        "# Визуализация трехмерной таблицы\n",
        "mosaicplot(ctable_meta)\n",
        "\n",
        "# Тест хи-квадрат\n",
        "chisq.test(ctable_meta)\n",
        "\n",
        "# Тест Фишера\n",
        "fisher.test(ctable_meta)\n"
      ],
      "metadata": {
        "id": "EFjox2MoBeXd",
        "colab": {
          "base_uri": "https://localhost:8080/",
          "height": 716
        },
        "outputId": "0048440a-1c86-4c28-df49-16acf30e880f"
      },
      "execution_count": 38,
      "outputs": [
        {
          "output_type": "display_data",
          "data": {
            "text/plain": [
              "     Plaque\n",
              "Group  0  1  2  3\n",
              "    0  3 11  0  0\n",
              "    1  0  4 17  3"
            ]
          },
          "metadata": {}
        },
        {
          "output_type": "stream",
          "name": "stderr",
          "text": [
            "Warning message in chisq.test(ctable_meta):\n",
            "“Chi-squared approximation may be incorrect”\n"
          ]
        },
        {
          "output_type": "display_data",
          "data": {
            "text/plain": [
              "\n",
              "\tPearson's Chi-squared test\n",
              "\n",
              "data:  ctable_meta\n",
              "X-squared = 25.394, df = 3, p-value = 1.277e-05\n"
            ]
          },
          "metadata": {}
        },
        {
          "output_type": "display_data",
          "data": {
            "text/plain": [
              "\n",
              "\tFisher's Exact Test for Count Data\n",
              "\n",
              "data:  ctable_meta\n",
              "p-value = 7.017e-07\n",
              "alternative hypothesis: two.sided\n"
            ]
          },
          "metadata": {}
        },
        {
          "output_type": "display_data",
          "data": {
            "text/plain": [
              "Plot with title “ctable_meta”"
            ],
            "image/png": "[encoded data removed]"
          },
          "metadata": {
            "image/png": {
              "width": 420,
              "height": 420
            }
          }
        }
      ]
    },
    {
      "cell_type": "markdown",
      "source": [
        "Результаты тестов на независимость переменных \"Group\" и \"Plaque\" показывают, что существует статистически значимая связь между этими переменными.\n",
        "\n",
        "Примечание: В медико-биологических исследованиях в качестве критического порога значимости традиционно выбирается уровень 0,05, что допускает наличие ошибки первого рода 5 раз в 100 сравнениях. При р≤ α различия принимаются статистически значимыми.\n",
        "\n",
        "- Тест хи-квадрат дал значимое значение p < 0.05 (p = 1.277e-05), что указывает на то, что мы отвергаем нулевую гипотезу о независимости переменных.\n",
        "- Тест Фишера также дал значимое значение p < 0.05 (p = 7.017e-07), подтверждая статистическую значимость связи между переменными.\n",
        "\n",
        "Эти результаты говорят о том, что наличие или отсутствие атеросклеротического налета (Plaque) может зависеть от группы риска (Group)."
      ],
      "metadata": {
        "id": "9w00H7aGBy7r"
      }
    },
    {
      "cell_type": "code",
      "source": [
        "install.packages(\"GGally\")\n"
      ],
      "metadata": {
        "id": "hQHmFbKoEO_N",
        "colab": {
          "base_uri": "https://localhost:8080/"
        },
        "outputId": "96e14981-84f2-4f15-8406-1c35b6dd5c28"
      },
      "execution_count": 39,
      "outputs": [
        {
          "output_type": "stream",
          "name": "stderr",
          "text": [
            "Installing package into ‘/usr/local/lib/R/site-library’\n",
            "(as ‘lib’ is unspecified)\n",
            "\n",
            "also installing the dependencies ‘labelled’, ‘broom.helpers’, ‘patchwork’, ‘Rcpp’, ‘ggstats’, ‘plyr’\n",
            "\n",
            "\n"
          ]
        }
      ]
    },
    {
      "cell_type": "code",
      "source": [
        "library(GGally)\n",
        "library(dplyr)\n",
        "\n",
        "pdf(\"pair_plot_meta.pdf\", height = 12, width = 12)\n",
        "\n",
        "# Отфильтруем строки с NA значениями в нужных столбцах\n",
        "filtered_data <- meta %>%\n",
        "  drop_na(Age, BMI, Choi...25, Sm, Sys, Dia, MI, Str)\n",
        "\n",
        "# Выберем нужные столбцы\n",
        "selected_data <- filtered_data %>%\n",
        "  dplyr::select(Age, BMI, Choi...25, Sm, Sys, Dia, MI, Str)\n",
        "\n",
        "# Создадим матрицу точечных диаграмм и сохраняем в PDF\n",
        "ggpairs(selected_data,\n",
        "        upper = list(continuous = wrap(\"cor\", size = 3)),\n",
        "        lower = list(continuous = wrap(\"smooth\", alpha = 0.3, size = 0.1)))\n",
        "\n",
        "dev.off()  # Закрываем PDF файл\n"
      ],
      "metadata": {
        "id": "6fkaLfJiEGFF",
        "colab": {
          "base_uri": "https://localhost:8080/",
          "height": 296
        },
        "outputId": "6f3ad18a-2bf8-4816-c94e-0e2d7e28b351"
      },
      "execution_count": 40,
      "outputs": [
        {
          "output_type": "stream",
          "name": "stderr",
          "text": [
            "Registered S3 method overwritten by 'GGally':\n",
            "  method from   \n",
            "  +.gg   ggplot2\n",
            "\n",
            "\u001b[1m\u001b[22m`stat_bin()` using `bins = 30`. Pick better value with `binwidth`.\n",
            "\u001b[1m\u001b[22m`stat_bin()` using `bins = 30`. Pick better value with `binwidth`.\n",
            "\u001b[1m\u001b[22m`stat_bin()` using `bins = 30`. Pick better value with `binwidth`.\n",
            "\u001b[1m\u001b[22m`stat_bin()` using `bins = 30`. Pick better value with `binwidth`.\n",
            "\u001b[1m\u001b[22m`stat_bin()` using `bins = 30`. Pick better value with `binwidth`.\n",
            "\u001b[1m\u001b[22m`stat_bin()` using `bins = 30`. Pick better value with `binwidth`.\n",
            "\u001b[1m\u001b[22m`stat_bin()` using `bins = 30`. Pick better value with `binwidth`.\n",
            "\u001b[1m\u001b[22m`stat_bin()` using `bins = 30`. Pick better value with `binwidth`.\n",
            "\u001b[1m\u001b[22m`stat_bin()` using `bins = 30`. Pick better value with `binwidth`.\n",
            "\u001b[1m\u001b[22m`stat_bin()` using `bins = 30`. Pick better value with `binwidth`.\n",
            "\u001b[1m\u001b[22m`stat_bin()` using `bins = 30`. Pick better value with `binwidth`.\n",
            "\u001b[1m\u001b[22m`stat_bin()` using `bins = 30`. Pick better value with `binwidth`.\n"
          ]
        },
        {
          "output_type": "display_data",
          "data": {
            "text/html": [
              "<strong>png:</strong> 2"
            ],
            "text/markdown": "**png:** 2",
            "text/latex": "\\textbf{png:} 2",
            "text/plain": [
              "png \n",
              "  2 "
            ]
          },
          "metadata": {}
        }
      ]
    },
    {
      "cell_type": "code",
      "source": [
        "# Проверка типа данных и длины переменной meta$Sys\n",
        "class(meta$Sys)\n",
        "length(meta$Sys)\n",
        "table(lengths(meta$Sys))"
      ],
      "metadata": {
        "colab": {
          "base_uri": "https://localhost:8080/",
          "height": 98
        },
        "id": "GU3QqqkXYpsf",
        "outputId": "5a603897-07bb-4037-8828-07d750261851"
      },
      "execution_count": 51,
      "outputs": [
        {
          "output_type": "display_data",
          "data": {
            "text/html": [
              "'numeric'"
            ],
            "text/markdown": "'numeric'",
            "text/latex": "'numeric'",
            "text/plain": [
              "[1] \"numeric\""
            ]
          },
          "metadata": {}
        },
        {
          "output_type": "display_data",
          "data": {
            "text/html": [
              "38"
            ],
            "text/markdown": "38",
            "text/latex": "38",
            "text/plain": [
              "[1] 38"
            ]
          },
          "metadata": {}
        },
        {
          "output_type": "display_data",
          "data": {
            "text/plain": [
              "\n",
              " 1 \n",
              "38 "
            ]
          },
          "metadata": {}
        }
      ]
    },
    {
      "cell_type": "code",
      "source": [
        "class(meta$Sys)"
      ],
      "metadata": {
        "colab": {
          "base_uri": "https://localhost:8080/",
          "height": 32
        },
        "id": "69HF3m0OZunj",
        "outputId": "53fa43d1-ef92-4389-fa17-79c1377785c1"
      },
      "execution_count": 53,
      "outputs": [
        {
          "output_type": "display_data",
          "data": {
            "text/html": [
              "'list'"
            ],
            "text/markdown": "'list'",
            "text/latex": "'list'",
            "text/plain": [
              "[1] \"list\""
            ]
          },
          "metadata": {}
        }
      ]
    },
    {
      "cell_type": "code",
      "source": [
        "meta$Sys <- unlist(meta$Sys)"
      ],
      "metadata": {
        "id": "RL26arUAaJjG"
      },
      "execution_count": 54,
      "outputs": []
    },
    {
      "cell_type": "code",
      "source": [
        "class(meta$Sys)"
      ],
      "metadata": {
        "colab": {
          "base_uri": "https://localhost:8080/",
          "height": 32
        },
        "id": "g4V6ITGqaL-w",
        "outputId": "551f0585-7a0a-475a-f832-c92f8395e00d"
      },
      "execution_count": 55,
      "outputs": [
        {
          "output_type": "display_data",
          "data": {
            "text/html": [
              "'numeric'"
            ],
            "text/markdown": "'numeric'",
            "text/latex": "'numeric'",
            "text/plain": [
              "[1] \"numeric\""
            ]
          },
          "metadata": {}
        }
      ]
    },
    {
      "cell_type": "code",
      "source": [
        "install.packages(\"fitdistrplus\")\n",
        "\n",
        "\n",
        "# Загрузка пакета fitdistrplus\n",
        "library(fitdistrplus)\n",
        "\n",
        "# Создание списка возможных распределений\n",
        "possible_distributions <- c(\"norm\", \"lnorm\", \"exp\", \"gamma\", \"weibull\", \"logis\", \"pois\")\n",
        "\n",
        "# Итеративный анализ каждого распределения\n",
        "fits <- lapply(possible_distributions, function(dist) fitdist(meta$Sys, dist))\n",
        "\n",
        "# Сводная таблица результатов\n",
        "results_summary <- lapply(fits, summary)\n",
        "results_summary"
      ],
      "metadata": {
        "id": "-Eas_ZhbGgTq",
        "colab": {
          "base_uri": "https://localhost:8080/",
          "height": 1000
        },
        "outputId": "836cd553-ad05-4744-a705-547bd611dd14"
      },
      "execution_count": 56,
      "outputs": [
        {
          "output_type": "stream",
          "name": "stderr",
          "text": [
            "Installing package into ‘/usr/local/lib/R/site-library’\n",
            "(as ‘lib’ is unspecified)\n",
            "\n"
          ]
        },
        {
          "output_type": "display_data",
          "data": {
            "text/plain": [
              "[[1]]\n",
              "Fitting of the distribution ' norm ' by maximum likelihood \n",
              "Parameters : \n",
              "      estimate Std. Error\n",
              "mean 131.73684   2.565131\n",
              "sd    15.81253   1.813821\n",
              "Loglikelihood:  -158.8302   AIC:  321.6603   BIC:  324.9355 \n",
              "Correlation matrix:\n",
              "     mean sd\n",
              "mean    1  0\n",
              "sd      0  1\n",
              "\n",
              "\n",
              "[[2]]\n",
              "Fitting of the distribution ' lnorm ' by maximum likelihood \n",
              "Parameters : \n",
              "         estimate Std. Error\n",
              "meanlog 4.8739290 0.01886955\n",
              "sdlog   0.1163197 0.01333835\n",
              "Loglikelihood:  -157.3753   AIC:  318.7505   BIC:  322.0257 \n",
              "Correlation matrix:\n",
              "              meanlog         sdlog\n",
              "meanlog  1.000000e+00 -1.788355e-12\n",
              "sdlog   -1.788355e-12  1.000000e+00\n",
              "\n",
              "\n",
              "[[3]]\n",
              "Fitting of the distribution ' exp ' by maximum likelihood \n",
              "Parameters : \n",
              "        estimate  Std. Error\n",
              "rate 0.007590891 0.001209585\n",
              "Loglikelihood:  -223.4706   AIC:  448.9413   BIC:  450.5789 \n",
              "\n",
              "[[4]]\n",
              "Fitting of the distribution ' gamma ' by maximum likelihood \n",
              "Parameters : \n",
              "        estimate Std. Error\n",
              "shape 72.8704139 16.6743128\n",
              "rate   0.5531571  0.1270093\n",
              "Loglikelihood:  -157.7313   AIC:  319.4627   BIC:  322.7378 \n",
              "Correlation matrix:\n",
              "          shape      rate\n",
              "shape 1.0000000 0.9965691\n",
              "rate  0.9965691 1.0000000\n",
              "\n",
              "\n",
              "[[5]]\n",
              "Fitting of the distribution ' weibull ' by maximum likelihood \n",
              "Parameters : \n",
              "        estimate Std. Error\n",
              "shape   7.416103  0.7912167\n",
              "scale 138.992264  3.2338248\n",
              "Loglikelihood:  -164.1263   AIC:  332.2525   BIC:  335.5277 \n",
              "Correlation matrix:\n",
              "          shape     scale\n",
              "shape 1.0000000 0.3410605\n",
              "scale 0.3410605 1.0000000\n",
              "\n",
              "\n",
              "[[6]]\n",
              "Fitting of the distribution ' logis ' by maximum likelihood \n",
              "Parameters : \n",
              "           estimate Std. Error\n",
              "location 130.930638   2.242502\n",
              "scale      8.126431   1.122572\n",
              "Loglikelihood:  -156.5729   AIC:  317.1458   BIC:  320.421 \n",
              "Correlation matrix:\n",
              "            location       scale\n",
              "location 1.000000000 0.008763418\n",
              "scale    0.008763418 1.000000000\n",
              "\n",
              "\n",
              "[[7]]\n",
              "Fitting of the distribution ' pois ' by maximum likelihood \n",
              "Parameters : \n",
              "       estimate Std. Error\n",
              "lambda 131.7368   1.861923\n",
              "Loglikelihood:  -162.6006   AIC:  327.2013   BIC:  328.8388 \n"
            ]
          },
          "metadata": {}
        }
      ]
    },
    {
      "cell_type": "markdown",
      "source": [
        "Из представленных результатов можно заключить, что нормальное, логнормальное, гамма- и вейбулловское распределения лучше всего соответствуют данным, в то время как экспоненциальное распределение, распределение Пуассона и логистическое распределение демонстрируют более слабое соответствие."
      ],
      "metadata": {
        "id": "E-YM-z6ebQgK"
      }
    },
    {
      "cell_type": "code",
      "source": [
        "# Построим модель дисперсионного анализа с двумя зависимыми переменными Sys и Dia\n",
        "# ANOVA с двумя зависимыми переменными и двумя факторами:\n",
        "model <- aov(cbind(Sys, Dia) ~ Group * HT, data = meta)\n",
        "\n",
        "# Проведение ANOVA анализа\n",
        "summary(model)\n"
      ],
      "metadata": {
        "colab": {
          "base_uri": "https://localhost:8080/",
          "height": 230
        },
        "id": "13Ic36U9XoRC",
        "outputId": "309a78c8-e0c3-4025-b794-66f88af3bb85"
      },
      "execution_count": 59,
      "outputs": [
        {
          "output_type": "display_data",
          "data": {
            "text/plain": [
              " Response Sys :\n",
              "            Df Sum Sq Mean Sq F value Pr(>F)\n",
              "Group        1  658.7  658.68  2.6909 0.1101\n",
              "HT           1  385.2  385.22  1.5737 0.2182\n",
              "Group:HT     1  134.9  134.94  0.5513 0.4629\n",
              "Residuals   34 8322.5  244.78               \n",
              "\n",
              " Response Dia :\n",
              "            Df Sum Sq Mean Sq F value Pr(>F)\n",
              "Group        1  210.1 210.138  1.8267 0.1854\n",
              "HT           1    7.2   7.245  0.0630 0.8034\n",
              "Group:HT     1  212.1 212.076  1.8435 0.1835\n",
              "Residuals   34 3911.3 115.038               \n"
            ]
          },
          "metadata": {}
        }
      ]
    },
    {
      "cell_type": "markdown",
      "source": [
        "Ни один из этих факторов не оказывает статистически значимого влияния на переменные Sys и Dia, так как все значения p-value выше уровня значимости 0.05."
      ],
      "metadata": {
        "id": "AlphOOqCc1V-"
      }
    },
    {
      "cell_type": "code",
      "source": [
        "# Проведение MANOVA анализа\n",
        "model <- manova(cbind(Dia, Sys) ~ Group * HT, data = meta)\n",
        "\n",
        "# Вывод результатов MANOVA анализа\n",
        "summary(model)\n"
      ],
      "metadata": {
        "colab": {
          "base_uri": "https://localhost:8080/",
          "height": 98
        },
        "id": "ktaoQDg5bjp4",
        "outputId": "039951ee-cb7c-496f-8f5a-d69cb3aaab6d"
      },
      "execution_count": 60,
      "outputs": [
        {
          "output_type": "display_data",
          "data": {
            "text/plain": [
              "          Df   Pillai approx F num Df den Df Pr(>F)\n",
              "Group      1 0.084007  1.51323      2     33 0.2351\n",
              "HT         1 0.068270  1.20899      2     33 0.3114\n",
              "Group:HT   1 0.051777  0.90097      2     33 0.4159\n",
              "Residuals 34                                       "
            ]
          },
          "metadata": {}
        }
      ]
    },
    {
      "cell_type": "markdown",
      "source": [
        "Эти результаты указывают на отсутствие статистически значимых различий между группами и временем гипертензии в отношении переменных Sys и Dia."
      ],
      "metadata": {
        "id": "JxR_RzsMdU2p"
      }
    },
    {
      "cell_type": "markdown",
      "source": [
        "## Итак, мы проверили несколько гипотез:\n",
        "\n",
        "1. **Гипотеза о влиянии группы на переменные Sys и Dia:**\n",
        "   - **Гипотеза:** Существует статистически значимое различие между группами в отношении переменных Sys и Dia.\n",
        "   - **Результат:** Результаты ANOVA и MANOVA показывают, что влияние группы на переменные Sys и Dia не является статистически значимым (p > 0.05). Это означает, что нет достаточных доказательств для того, чтобы отвергнуть нулевую гипотезу о том, что средние значения Sys и Dia не различаются между группами.\n",
        "\n",
        "2. **Гипотеза о влиянии времени гипертензии на переменные Sys и Dia:**\n",
        "   - **Гипотеза:** Существует статистически значимое различие в переменных Sys и Dia в зависимости от времени гипертензии.\n",
        "   - **Результат:** Результаты ANOVA и MANOVA также не показывают статистически значимого влияния времени гипертензии на переменные Sys и Dia (p > 0.05). Таким образом, нет достаточных доказательств для того, чтобы отвергнуть нулевую гипотезу о том, что средние значения Sys и Dia не различаются в зависимости от времени гипертензии.\n",
        "\n",
        "3. **Гипотеза о взаимодействии группы и времени гипертензии на переменные Sys и Dia:**\n",
        "   - **Гипотеза:** Существует статистически значимое взаимодействие между группой и временем гипертензии в отношении переменных Sys и Dia.\n",
        "   - **Результат:** Результаты ANOVA и MANOVA не подтверждают статистически значимого взаимодействия между группой и временем гипертензии в отношении переменных Sys и Dia (p > 0.05). Таким образом, нет достаточных доказательств для того, чтобы отвергнуть нулевую гипотезу о том, что влияние группы и времени гипертензии на переменные Sys и Dia не зависит друг от друга.\n",
        "\n",
        "Таким образом, на основании результатов ANOVA и MANOVA, мы не можем отвергнуть нулевые гипотезы о том, что средние значения переменных Sys и Dia не различаются между группами, в разные периоды времени гипертензии, а также в их взаимодействии."
      ],
      "metadata": {
        "id": "T39m3IDDfD0_"
      }
    },
    {
      "cell_type": "markdown",
      "source": [
        "## Проверим еще несколько гипотез"
      ],
      "metadata": {
        "id": "qWclQo-8gAiO"
      }
    },
    {
      "cell_type": "markdown",
      "source": [
        "4. **Гипотеза 4: Средний возраст пациентов с диабетом отличается от среднего возраста пациентов без диабета.**"
      ],
      "metadata": {
        "id": "ryzrsKhkgXAu"
      }
    },
    {
      "cell_type": "code",
      "source": [
        "\n",
        "# Проведение ANOVA\n",
        "model_age <- aov(Age ~ Group, data = meta)\n",
        "\n",
        "# Вывод результатов\n",
        "summary(model_age)"
      ],
      "metadata": {
        "colab": {
          "base_uri": "https://localhost:8080/",
          "height": 98
        },
        "id": "mjWhp9nJeSYc",
        "outputId": "0e41de18-d10c-40f9-9f24-d2c7a00f6f5a"
      },
      "execution_count": 65,
      "outputs": [
        {
          "output_type": "display_data",
          "data": {
            "text/plain": [
              "            Df Sum Sq Mean Sq F value Pr(>F)  \n",
              "Group        1    220   220.0    3.09 0.0873 .\n",
              "Residuals   36   2563    71.2                 \n",
              "---\n",
              "Signif. codes:  0 ‘***’ 0.001 ‘**’ 0.01 ‘*’ 0.05 ‘.’ 0.1 ‘ ’ 1"
            ]
          },
          "metadata": {}
        }
      ]
    },
    {
      "cell_type": "markdown",
      "source": [
        "Значение p больше уровня значимости 0.05, что означает, что нет статистически значимых различий в среднем возрасте между группами пациентов с диабетом и без диабета на уровне значимости 0.05. Однако, p-value равно 0.0873, что меньше 0.1, поэтому мы можем наблюдать тенденцию к различию между группами.\n",
        "\n",
        "Таким образом, на основании результатов ANOVA нет достаточных доказательств для того, чтобы отвергнуть нулевую гипотезу о том, что средний возраст пациентов с диабетом не отличается от среднего возраста пациентов без диабета на уровне значимости 0.05. Однако, результаты могут быть интерпретированы с осторожностью, так как значение p находится близко к уровню значимости 0.05."
      ],
      "metadata": {
        "id": "bFUkSJX2h-Tx"
      }
    },
    {
      "cell_type": "markdown",
      "source": [
        "5. **Гипотеза 5: Средний индекс массы тела (BMI) у курящих и некурящих пациентов различается.**"
      ],
      "metadata": {
        "id": "a4vn5EMjg4-h"
      }
    },
    {
      "cell_type": "code",
      "source": [
        "# Проведение ANOVA\n",
        "model_bmi <- aov(BMI ~ Sm, data = meta)\n",
        "\n",
        "# Вывод результатов\n",
        "summary(model_bmi)"
      ],
      "metadata": {
        "colab": {
          "base_uri": "https://localhost:8080/",
          "height": 65
        },
        "id": "YC5KkZVRgTsT",
        "outputId": "10da80b6-6057-47bb-e577-aaf7f9890aed"
      },
      "execution_count": 68,
      "outputs": [
        {
          "output_type": "display_data",
          "data": {
            "text/plain": [
              "            Df Sum Sq Mean Sq F value Pr(>F)\n",
              "Sm           1   37.6   37.62   1.392  0.246\n",
              "Residuals   36  973.1   27.03               "
            ]
          },
          "metadata": {}
        }
      ]
    },
    {
      "cell_type": "markdown",
      "source": [
        "Значение p больше уровня значимости 0.05, что означает, что нет статистически значимых различий в среднем индексе массы тела между курящими и некурящими пациентами на уровне значимости 0.05.\n",
        "\n",
        "Таким образом, на основании результатов ANOVA нет достаточных доказательств для того, чтобы отвергнуть нулевую гипотезу о том, что средний индекс массы тела не отличается у курящих и некурящих пациентов на уровне значимости 0.05."
      ],
      "metadata": {
        "id": "v09A4PEMi1t5"
      }
    },
    {
      "cell_type": "markdown",
      "source": [
        "6. **Гипотеза 6: Присутствует ли связь между уровнем холестерина и наличием инфаркта миокарда у пациентов..**"
      ],
      "metadata": {
        "id": "HB5Ih-KthN8B"
      }
    },
    {
      "cell_type": "code",
      "source": [
        "# Проведение ANOVA\n",
        "model_cholesterol <- aov(Choi...25 ~ MI, data = meta)\n",
        "\n",
        "# Вывод результатов\n",
        "summary(model_cholesterol)"
      ],
      "metadata": {
        "colab": {
          "base_uri": "https://localhost:8080/",
          "height": 65
        },
        "id": "ZKfw7BVJhFl4",
        "outputId": "61dc1540-d487-4c12-bd3f-7070f0ecfa15"
      },
      "execution_count": 69,
      "outputs": [
        {
          "output_type": "display_data",
          "data": {
            "text/plain": [
              "            Df Sum Sq Mean Sq F value Pr(>F)\n",
              "MI           1    334   334.1   0.193  0.663\n",
              "Residuals   36  62377  1732.7               "
            ]
          },
          "metadata": {}
        }
      ]
    },
    {
      "cell_type": "markdown",
      "source": [
        "Значение p больше уровня значимости 0.05, что означает, что нет статистически значимых различий в уровне холестерина между пациентами с инфарктом миокарда и пациентами без инфаркта миокарда на уровне значимости 0.05.\n",
        "\n",
        "Таким образом, на основании результатов ANOVA нет достаточных доказательств для того, чтобы отвергнуть нулевую гипотезу о том, что уровень холестерина не различается у пациентов с инфарктом миокарда и пациентов без инфаркта миокарда на уровне значимости 0.05.\n"
      ],
      "metadata": {
        "id": "vxG-pCx1jJDY"
      }
    },
    {
      "cell_type": "code",
      "source": [],
      "metadata": {
        "id": "254rTsqOhZBa"
      },
      "execution_count": null,
      "outputs": []
    }
  ]
}