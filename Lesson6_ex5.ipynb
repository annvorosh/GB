{
 "cells": [
  {
   "cell_type": "code",
   "execution_count": 4,
   "id": "77c61bce",
   "metadata": {},
   "outputs": [
    {
     "data": {
      "image/png": "[encoded data removed]",
      "text/latex": [
       "$\\displaystyle \\frac{2.71828182845905^{- x} \\left(2 - x^{2}\\right)^{3} \\left(x - 1\\right)^{2}}{2 x^{3} - 3 x}$"
      ],
      "text/plain": [
       "                           3         \n",
       "                -x ⎛     2⎞         2\n",
       "2.71828182845905  ⋅⎝2 - x ⎠ ⋅(x - 1) \n",
       "─────────────────────────────────────\n",
       "                 3                   \n",
       "              2⋅x  - 3⋅x             "
      ]
     },
     "execution_count": 4,
     "metadata": {},
     "output_type": "execute_result"
    }
   ],
   "source": [
    "from sympy import *\n",
    "import math\n",
    "init_printing()\n",
    "\n",
    "x = Symbol('x')\n",
    "y = ((2 - x**2)**3) * ((x - 1)**2) / ((2 * x**3 - 3*x) * math.e**x)\n",
    "y"
   ]
  },
  {
   "cell_type": "code",
   "execution_count": 5,
   "id": "c7ecba81",
   "metadata": {},
   "outputs": [
    {
     "data": {
      "image/png": "[encoded data removed]",
      "text/latex": [
       "$\\displaystyle - \\frac{6 \\cdot 2.71828182845905^{- x} x \\left(2 - x^{2}\\right)^{2} \\left(x - 1\\right)^{2}}{2 x^{3} - 3 x} + \\frac{2.71828182845905^{- x} \\left(2 - x^{2}\\right)^{3} \\left(3 - 6 x^{2}\\right) \\left(x - 1\\right)^{2}}{\\left(2 x^{3} - 3 x\\right)^{2}} - \\frac{1.0 \\cdot 2.71828182845905^{- x} \\left(2 - x^{2}\\right)^{3} \\left(x - 1\\right)^{2}}{2 x^{3} - 3 x} + \\frac{2.71828182845905^{- x} \\left(2 - x^{2}\\right)^{3} \\left(2 x - 2\\right)}{2 x^{3} - 3 x}$"
      ],
      "text/plain": [
       "                                 2                                       3    \n",
       "                    -x   ⎛     2⎞         2                   -x ⎛     2⎞  ⎛  \n",
       "  6⋅2.71828182845905  ⋅x⋅⎝2 - x ⎠ ⋅(x - 1)    2.71828182845905  ⋅⎝2 - x ⎠ ⋅⎝3 \n",
       "- ───────────────────────────────────────── + ────────────────────────────────\n",
       "                     3                                                     2  \n",
       "                  2⋅x  - 3⋅x                                   ⎛   3      ⎞   \n",
       "                                                               ⎝2⋅x  - 3⋅x⎠   \n",
       "\n",
       "                                              3                               \n",
       "     2⎞        2                   -x ⎛     2⎞         2                   -x \n",
       "- 6⋅x ⎠⋅(x - 1)    2.71828182845905  ⋅⎝2 - x ⎠ ⋅(x - 1)    2.71828182845905  ⋅\n",
       "──────────────── - ───────────────────────────────────── + ───────────────────\n",
       "                                    3                                       3 \n",
       "                                 2⋅x  - 3⋅x                              2⋅x  \n",
       "                                                                              \n",
       "\n",
       "        3          \n",
       "⎛     2⎞           \n",
       "⎝2 - x ⎠ ⋅(2⋅x - 2)\n",
       "───────────────────\n",
       "                   \n",
       "- 3⋅x              \n",
       "                   "
      ]
     },
     "execution_count": 5,
     "metadata": {},
     "output_type": "execute_result"
    }
   ],
   "source": [
    "diff(y, x)"
   ]
  },
  {
   "cell_type": "code",
   "execution_count": null,
   "id": "3dc708e5",
   "metadata": {},
   "outputs": [],
   "source": []
  },
  {
   "cell_type": "code",
   "execution_count": null,
   "id": "2b864095",
   "metadata": {},
   "outputs": [],
   "source": []
  },
  {
   "cell_type": "code",
   "execution_count": null,
   "id": "5025b8fd",
   "metadata": {},
   "outputs": [],
   "source": []
  }
 ],
 "metadata": {
  "kernelspec": {
   "display_name": "Python 3",
   "language": "python",
   "name": "python3"
  },
  "language_info": {
   "codemirror_mode": {
    "name": "ipython",
    "version": 3
   },
   "file_extension": ".py",
   "mimetype": "text/x-python",
   "name": "python",
   "nbconvert_exporter": "python",
   "pygments_lexer": "ipython3",
   "version": "3.8.8"
  }
 },
 "nbformat": 4,
 "nbformat_minor": 5
}
