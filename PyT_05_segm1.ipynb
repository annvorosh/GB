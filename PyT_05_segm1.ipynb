{
 "cells": [
  {
   "cell_type": "markdown",
   "id": "d7b0e4a9",
   "metadata": {},
   "source": [
    "## Домашнее задание\n",
    "\n",
    "1. Необходимо подготовить датасет https://www.kaggle.com/olekslu/makeup-lips-segmentation-28k-samples для обучения модели на сегментацию губ\n",
    "2. Обучить модель на выбор из [segmentation_models_pytorch](https://segmentation-modelspytorch.readthedocs.io/en/latest/index.html)"
   ]
  },
  {
   "cell_type": "code",
   "execution_count": 29,
   "id": "25a169d5",
   "metadata": {},
   "outputs": [
    {
     "name": "stdout",
     "output_type": "stream",
     "text": [
      "Requirement already satisfied: segmentation-models-pytorch in /Users/annvorosh/miniconda3/envs/torch-gpu/lib/python3.8/site-packages (0.3.2)\n",
      "Requirement already satisfied: pretrainedmodels==0.7.4 in /Users/annvorosh/miniconda3/envs/torch-gpu/lib/python3.8/site-packages (from segmentation-models-pytorch) (0.7.4)\n",
      "Requirement already satisfied: efficientnet-pytorch==0.7.1 in /Users/annvorosh/miniconda3/envs/torch-gpu/lib/python3.8/site-packages (from segmentation-models-pytorch) (0.7.1)\n",
      "Requirement already satisfied: timm==0.6.12 in /Users/annvorosh/miniconda3/envs/torch-gpu/lib/python3.8/site-packages (from segmentation-models-pytorch) (0.6.12)\n",
      "Requirement already satisfied: pillow in /Users/annvorosh/miniconda3/envs/torch-gpu/lib/python3.8/site-packages (from segmentation-models-pytorch) (9.5.0)\n",
      "Requirement already satisfied: torchvision>=0.5.0 in /Users/annvorosh/miniconda3/envs/torch-gpu/lib/python3.8/site-packages (from segmentation-models-pytorch) (0.15.1)\n",
      "Requirement already satisfied: tqdm in /Users/annvorosh/miniconda3/envs/torch-gpu/lib/python3.8/site-packages (from segmentation-models-pytorch) (4.65.0)\n",
      "Requirement already satisfied: torch in /Users/annvorosh/miniconda3/envs/torch-gpu/lib/python3.8/site-packages (from efficientnet-pytorch==0.7.1->segmentation-models-pytorch) (2.0.0)\n",
      "Requirement already satisfied: munch in /Users/annvorosh/miniconda3/envs/torch-gpu/lib/python3.8/site-packages (from pretrainedmodels==0.7.4->segmentation-models-pytorch) (2.5.0)\n",
      "Requirement already satisfied: pyyaml in /Users/annvorosh/miniconda3/envs/torch-gpu/lib/python3.8/site-packages (from timm==0.6.12->segmentation-models-pytorch) (6.0)\n",
      "Requirement already satisfied: huggingface-hub in /Users/annvorosh/miniconda3/envs/torch-gpu/lib/python3.8/site-packages (from timm==0.6.12->segmentation-models-pytorch) (0.14.1)\n",
      "Requirement already satisfied: requests in /Users/annvorosh/miniconda3/envs/torch-gpu/lib/python3.8/site-packages (from torchvision>=0.5.0->segmentation-models-pytorch) (2.28.2)\n",
      "Requirement already satisfied: numpy in /Users/annvorosh/miniconda3/envs/torch-gpu/lib/python3.8/site-packages (from torchvision>=0.5.0->segmentation-models-pytorch) (1.24.2)\n",
      "Requirement already satisfied: jinja2 in /Users/annvorosh/miniconda3/envs/torch-gpu/lib/python3.8/site-packages (from torch->efficientnet-pytorch==0.7.1->segmentation-models-pytorch) (3.1.2)\n",
      "Requirement already satisfied: networkx in /Users/annvorosh/miniconda3/envs/torch-gpu/lib/python3.8/site-packages (from torch->efficientnet-pytorch==0.7.1->segmentation-models-pytorch) (3.1)\n",
      "Requirement already satisfied: typing-extensions in /Users/annvorosh/miniconda3/envs/torch-gpu/lib/python3.8/site-packages (from torch->efficientnet-pytorch==0.7.1->segmentation-models-pytorch) (4.5.0)\n",
      "Requirement already satisfied: sympy in /Users/annvorosh/miniconda3/envs/torch-gpu/lib/python3.8/site-packages (from torch->efficientnet-pytorch==0.7.1->segmentation-models-pytorch) (1.11.1)\n",
      "Requirement already satisfied: filelock in /Users/annvorosh/miniconda3/envs/torch-gpu/lib/python3.8/site-packages (from torch->efficientnet-pytorch==0.7.1->segmentation-models-pytorch) (3.11.0)\n",
      "Requirement already satisfied: fsspec in /Users/annvorosh/miniconda3/envs/torch-gpu/lib/python3.8/site-packages (from huggingface-hub->timm==0.6.12->segmentation-models-pytorch) (2023.4.0)\n",
      "Requirement already satisfied: packaging>=20.9 in /Users/annvorosh/miniconda3/envs/torch-gpu/lib/python3.8/site-packages (from huggingface-hub->timm==0.6.12->segmentation-models-pytorch) (23.0)\n",
      "Requirement already satisfied: six in /Users/annvorosh/miniconda3/envs/torch-gpu/lib/python3.8/site-packages (from munch->pretrainedmodels==0.7.4->segmentation-models-pytorch) (1.16.0)\n",
      "Requirement already satisfied: certifi>=2017.4.17 in /Users/annvorosh/miniconda3/envs/torch-gpu/lib/python3.8/site-packages (from requests->torchvision>=0.5.0->segmentation-models-pytorch) (2022.12.7)\n",
      "Requirement already satisfied: charset-normalizer<4,>=2 in /Users/annvorosh/miniconda3/envs/torch-gpu/lib/python3.8/site-packages (from requests->torchvision>=0.5.0->segmentation-models-pytorch) (3.1.0)\n",
      "Requirement already satisfied: idna<4,>=2.5 in /Users/annvorosh/miniconda3/envs/torch-gpu/lib/python3.8/site-packages (from requests->torchvision>=0.5.0->segmentation-models-pytorch) (3.4)\n",
      "Requirement already satisfied: urllib3<1.27,>=1.21.1 in /Users/annvorosh/miniconda3/envs/torch-gpu/lib/python3.8/site-packages (from requests->torchvision>=0.5.0->segmentation-models-pytorch) (1.26.15)\n",
      "Requirement already satisfied: MarkupSafe>=2.0 in /Users/annvorosh/miniconda3/envs/torch-gpu/lib/python3.8/site-packages (from jinja2->torch->efficientnet-pytorch==0.7.1->segmentation-models-pytorch) (2.1.2)\n",
      "Requirement already satisfied: mpmath>=0.19 in /Users/annvorosh/miniconda3/envs/torch-gpu/lib/python3.8/site-packages (from sympy->torch->efficientnet-pytorch==0.7.1->segmentation-models-pytorch) (1.3.0)\n"
     ]
    }
   ],
   "source": [
    "!pip install segmentation-models-pytorch\n",
    "\n",
    "import torch\n",
    "import torchvision.transforms as transforms\n",
    "from torch.utils.data import Dataset, DataLoader\n",
    "from PIL import Image\n",
    "import numpy as np\n",
    "import os\n",
    "from segmentation_models_pytorch import Unet\n",
    "import torch.nn.functional as F\n",
    "from torch import optim"
   ]
  },
  {
   "cell_type": "code",
   "execution_count": 30,
   "id": "c62e2476",
   "metadata": {},
   "outputs": [],
   "source": [
    "class LipDataset(Dataset):\n",
    "    def __init__(self, images_dir, masks_dir, transform=None):\n",
    "        self.images_dir = images_dir\n",
    "        self.masks_dir = masks_dir\n",
    "        self.transform = transform\n",
    "\n",
    "        self.image_files = os.listdir(images_dir)\n",
    "        self.mask_files = os.listdir(masks_dir)\n",
    "\n",
    "    def __len__(self):\n",
    "        return len(self.image_files)\n",
    "\n",
    "    def __getitem__(self, idx):\n",
    "        image_path = os.path.join(self.images_dir, self.image_files[idx])\n",
    "        mask_path = os.path.join(self.masks_dir, self.mask_files[idx])\n",
    "\n",
    "        image = Image.open(image_path)\n",
    "        mask = Image.open(mask_path).convert('L')  # изменение режима изображения на 'L'\n",
    "\n",
    "        if self.transform:\n",
    "            image = self.transform(image)\n",
    "            mask = self.transform(mask)\n",
    "\n",
    "        return image, mask"
   ]
  },
  {
   "cell_type": "code",
   "execution_count": 31,
   "id": "79626253",
   "metadata": {},
   "outputs": [],
   "source": [
    "# путь к папке с изображениями губ\n",
    "images_dir = \"/Users/annvorosh/Documents/GB/PyTorch/set-lipstick-original/720p\"\n",
    "\n",
    "# путь к папке с масками губ\n",
    "masks_dir = \"/Users/annvorosh/Documents/GB/PyTorch/set-lipstick-original/mask\""
   ]
  },
  {
   "cell_type": "code",
   "execution_count": 32,
   "id": "63a2bf82",
   "metadata": {},
   "outputs": [],
   "source": [
    "# размер изображений и масок\n",
    "image_size = (256, 256)\n",
    "\n",
    "# загрузка датасета и разделение на тренировочную и валидационную выборки\n",
    "dataset = LipDataset(images_dir, masks_dir, transform=transforms.Compose([transforms.Resize(image_size),\n",
    "                                                                           transforms.ToTensor()]))\n",
    "train_size = int(0.8 * len(dataset))\n",
    "val_size = len(dataset) - train_size\n",
    "train_dataset, val_dataset = torch.utils.data.random_split(dataset, [train_size, val_size])\n",
    "\n",
    "# загрузка тренировочной и валидационной выборки в DataLoader\n",
    "train_loader = DataLoader(train_dataset, batch_size=4, shuffle=True)\n",
    "val_loader = DataLoader(val_dataset, batch_size=4, shuffle=False)"
   ]
  },
  {
   "cell_type": "code",
   "execution_count": 33,
   "id": "0011b948",
   "metadata": {},
   "outputs": [],
   "source": [
    "# создание экземпляра модели UNet и определение функции потерь\n",
    "model = Unet('resnet34', encoder_weights='imagenet', classes=1, activation=None)\n",
    "criterion = F.binary_cross_entropy_with_logits\n",
    "\n",
    "# определение оптимизатора и scheduler\n",
    "optimizer = optim.Adam(model.parameters(), lr=1e-3)\n",
    "scheduler = optim.lr_scheduler.ReduceLROnPlateau(optimizer, factor=0.1, patience=5)"
   ]
  },
  {
   "cell_type": "code",
   "execution_count": null,
   "id": "1f40631a",
   "metadata": {},
   "outputs": [],
   "source": [
    "# обучение модели\n",
    "for epoch in range(2):\n",
    "    train_loss = 0\n",
    "    val_loss = 0\n",
    "\n",
    "    # тренировочный этап\n",
    "    model.train()\n",
    "    for images, masks in train_loader:\n",
    "        optimizer.zero_grad()\n",
    "\n",
    "        output_masks = model(images)\n",
    "        loss = criterion(output_masks, masks)\n",
    "        loss.backward()\n",
    "        optimizer.step()\n",
    "\n",
    "        train_loss += loss.item() * images.size(0)\n",
    "\n",
    "    # валидационный этап\n",
    "    model.eval()\n",
    "    with torch.no_grad():\n",
    "        for images, masks in val_loader:\n",
    "            output_masks = model(images)\n",
    "            loss = criterion(output_masks, masks)\n",
    "            val_loss += loss.item() * images.size(0)\n",
    "\n",
    "    # выводим средний loss на каждой эпохе\n",
    "    train_loss /= len(train_loader.dataset)\n",
    "    val_loss /= len(val_loader.dataset)\n",
    "    print(f\"Epoch {epoch+1}. Train loss: {train_loss:.4f}. Val loss: {val_loss:.4f}\")\n",
    "\n",
    "    # обновление scheduler\n",
    "    scheduler.step(val_loss)"
   ]
  },
  {
   "cell_type": "code",
   "execution_count": null,
   "id": "69aaeffa",
   "metadata": {},
   "outputs": [],
   "source": [
    "# сохранение обученной модели\n",
    "torch.save(model.state_dict(), \"lip_segmentation_model.pth\")"
   ]
  }
 ],
 "metadata": {
  "kernelspec": {
   "display_name": "Python 3 (ipykernel)",
   "language": "python",
   "name": "python3"
  },
  "language_info": {
   "codemirror_mode": {
    "name": "ipython",
    "version": 3
   },
   "file_extension": ".py",
   "mimetype": "text/x-python",
   "name": "python",
   "nbconvert_exporter": "python",
   "pygments_lexer": "ipython3",
   "version": "3.8.16"
  }
 },
 "nbformat": 4,
 "nbformat_minor": 5
}
