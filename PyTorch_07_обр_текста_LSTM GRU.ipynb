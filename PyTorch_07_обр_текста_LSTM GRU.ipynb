{
 "cells": [
  {
   "cell_type": "markdown",
   "metadata": {
    "id": "9eHK0K1Lw6nb"
   },
   "source": [
    "# Домашнее задание\n",
    "\n",
    "1. Попробуйте обучить нейронную сеть GRU/LSTM для предсказания сентимента сообщений с твитера на примере https://www.kaggle.com/datasets/arkhoshghalb/twitter-sentiment-analysis-hatred-speech\n",
    "\n",
    "2. Опишите, какой результат вы получили? Что помогло вам улучшить ее точность?\n",
    "\n",
    "У кого нет возможности работать через каггл (нет верификации), то можете данные взять по ссылке: https://disk.yandex.ru/d/LV1cYS1orMyRWA"
   ]
  },
  {
   "cell_type": "code",
   "execution_count": 18,
   "metadata": {
    "id": "2H5tFUEMCE7d"
   },
   "outputs": [],
   "source": [
    "max_words = 3000\n",
    "max_len = 10\n",
    "num_classes = 1\n",
    "\n",
    "# Training\n",
    "epochs = 20\n",
    "batch_size = 512\n",
    "print_batch_n = 100"
   ]
  },
  {
   "cell_type": "code",
   "execution_count": 19,
   "metadata": {
    "id": "LUCk-5M2yg3S"
   },
   "outputs": [],
   "source": [
    "import pandas as pd\n",
    "\n",
    "# Загрузка данных\n",
    "df_train = pd.read_csv('train.csv', encoding='latin-1')\n",
    "df_val = pd.read_csv('test.csv', encoding='latin-1')"
   ]
  },
  {
   "cell_type": "code",
   "execution_count": 20,
   "metadata": {
    "colab": {
     "base_uri": "https://localhost:8080/",
     "height": 206
    },
    "id": "KBSf-OfDzWOI",
    "outputId": "f6d237d7-20a4-4918-b00f-a53f4de02f36"
   },
   "outputs": [
    {
     "data": {
      "text/html": [
       "<div>\n",
       "<style scoped>\n",
       "    .dataframe tbody tr th:only-of-type {\n",
       "        vertical-align: middle;\n",
       "    }\n",
       "\n",
       "    .dataframe tbody tr th {\n",
       "        vertical-align: top;\n",
       "    }\n",
       "\n",
       "    .dataframe thead th {\n",
       "        text-align: right;\n",
       "    }\n",
       "</style>\n",
       "<table border=\"1\" class=\"dataframe\">\n",
       "  <thead>\n",
       "    <tr style=\"text-align: right;\">\n",
       "      <th></th>\n",
       "      <th>id</th>\n",
       "      <th>label</th>\n",
       "      <th>tweet</th>\n",
       "    </tr>\n",
       "  </thead>\n",
       "  <tbody>\n",
       "    <tr>\n",
       "      <th>0</th>\n",
       "      <td>1</td>\n",
       "      <td>0</td>\n",
       "      <td>@user when a father is dysfunctional and is s...</td>\n",
       "    </tr>\n",
       "    <tr>\n",
       "      <th>1</th>\n",
       "      <td>2</td>\n",
       "      <td>0</td>\n",
       "      <td>@user @user thanks for #lyft credit i can't us...</td>\n",
       "    </tr>\n",
       "    <tr>\n",
       "      <th>2</th>\n",
       "      <td>3</td>\n",
       "      <td>0</td>\n",
       "      <td>bihday your majesty</td>\n",
       "    </tr>\n",
       "    <tr>\n",
       "      <th>3</th>\n",
       "      <td>4</td>\n",
       "      <td>0</td>\n",
       "      <td>#model   i love u take with u all the time in ...</td>\n",
       "    </tr>\n",
       "    <tr>\n",
       "      <th>4</th>\n",
       "      <td>5</td>\n",
       "      <td>0</td>\n",
       "      <td>factsguide: society now    #motivation</td>\n",
       "    </tr>\n",
       "  </tbody>\n",
       "</table>\n",
       "</div>"
      ],
      "text/plain": [
       "   id  label                                              tweet\n",
       "0   1      0   @user when a father is dysfunctional and is s...\n",
       "1   2      0  @user @user thanks for #lyft credit i can't us...\n",
       "2   3      0                                bihday your majesty\n",
       "3   4      0  #model   i love u take with u all the time in ...\n",
       "4   5      0             factsguide: society now    #motivation"
      ]
     },
     "execution_count": 20,
     "metadata": {},
     "output_type": "execute_result"
    }
   ],
   "source": [
    "df_train.head()"
   ]
  },
  {
   "cell_type": "markdown",
   "metadata": {
    "id": "CRaO-Ub5e8hx"
   },
   "source": [
    "0 - negative<br>\n",
    "1 - positive"
   ]
  },
  {
   "cell_type": "code",
   "execution_count": 21,
   "metadata": {
    "colab": {
     "base_uri": "https://localhost:8080/"
    },
    "id": "8lYmshAoT57x",
    "outputId": "1f7f299e-98f6-4086-8624-1dafd43d16b1"
   },
   "outputs": [
    {
     "data": {
      "text/plain": [
       "31962"
      ]
     },
     "execution_count": 21,
     "metadata": {},
     "output_type": "execute_result"
    }
   ],
   "source": [
    "df_train['label'].value_counts().sum()"
   ]
  },
  {
   "cell_type": "code",
   "execution_count": 22,
   "metadata": {
    "colab": {
     "base_uri": "https://localhost:8080/",
     "height": 206
    },
    "id": "_9l0iHhaI0O1",
    "outputId": "4437b31b-22cf-491f-a050-b965e96fee52"
   },
   "outputs": [
    {
     "data": {
      "text/html": [
       "<div>\n",
       "<style scoped>\n",
       "    .dataframe tbody tr th:only-of-type {\n",
       "        vertical-align: middle;\n",
       "    }\n",
       "\n",
       "    .dataframe tbody tr th {\n",
       "        vertical-align: top;\n",
       "    }\n",
       "\n",
       "    .dataframe thead th {\n",
       "        text-align: right;\n",
       "    }\n",
       "</style>\n",
       "<table border=\"1\" class=\"dataframe\">\n",
       "  <thead>\n",
       "    <tr style=\"text-align: right;\">\n",
       "      <th></th>\n",
       "      <th>id</th>\n",
       "      <th>tweet</th>\n",
       "    </tr>\n",
       "  </thead>\n",
       "  <tbody>\n",
       "    <tr>\n",
       "      <th>17192</th>\n",
       "      <td>49155</td>\n",
       "      <td>thought factory: left-right polarisation! #tru...</td>\n",
       "    </tr>\n",
       "    <tr>\n",
       "      <th>17193</th>\n",
       "      <td>49156</td>\n",
       "      <td>feeling like a mermaid Ã°ÂÂÂ #hairflip #nev...</td>\n",
       "    </tr>\n",
       "    <tr>\n",
       "      <th>17194</th>\n",
       "      <td>49157</td>\n",
       "      <td>#hillary #campaigned today in #ohio((omg)) &amp;am...</td>\n",
       "    </tr>\n",
       "    <tr>\n",
       "      <th>17195</th>\n",
       "      <td>49158</td>\n",
       "      <td>happy, at work conference: right mindset leads...</td>\n",
       "    </tr>\n",
       "    <tr>\n",
       "      <th>17196</th>\n",
       "      <td>49159</td>\n",
       "      <td>my   song \"so glad\" free download!  #shoegaze ...</td>\n",
       "    </tr>\n",
       "  </tbody>\n",
       "</table>\n",
       "</div>"
      ],
      "text/plain": [
       "          id                                              tweet\n",
       "17192  49155  thought factory: left-right polarisation! #tru...\n",
       "17193  49156  feeling like a mermaid Ã°ÂÂÂ #hairflip #nev...\n",
       "17194  49157  #hillary #campaigned today in #ohio((omg)) &am...\n",
       "17195  49158  happy, at work conference: right mindset leads...\n",
       "17196  49159  my   song \"so glad\" free download!  #shoegaze ..."
      ]
     },
     "execution_count": 22,
     "metadata": {},
     "output_type": "execute_result"
    }
   ],
   "source": [
    "df_val.tail()"
   ]
  },
  {
   "cell_type": "code",
   "execution_count": 23,
   "metadata": {
    "colab": {
     "base_uri": "https://localhost:8080/"
    },
    "id": "F3lecy8oT-rJ",
    "outputId": "ce3187c6-ccdd-404c-fc72-92121ccc6475"
   },
   "outputs": [
    {
     "name": "stdout",
     "output_type": "stream",
     "text": [
      "Количество отсутствующих значений в столбце 'label': 0\n"
     ]
    }
   ],
   "source": [
    "missing_data = df_train['label'].isnull().sum()\n",
    "print(\"Количество отсутствующих значений в столбце 'label':\", missing_data)"
   ]
  },
  {
   "cell_type": "markdown",
   "metadata": {
    "id": "qEyvOxoOJDTP"
   },
   "source": [
    "### Предобработка"
   ]
  },
  {
   "cell_type": "code",
   "execution_count": 24,
   "metadata": {
    "colab": {
     "base_uri": "https://localhost:8080/"
    },
    "id": "JimEynHhitb4",
    "outputId": "77149a6f-7cd0-447b-a890-8f5d29d8f7c4"
   },
   "outputs": [],
   "source": [
    "# !pip install nltk"
   ]
  },
  {
   "cell_type": "code",
   "execution_count": 25,
   "metadata": {},
   "outputs": [],
   "source": [
    "# !pip install spacy && python -m spacy download en_core_web_sm"
   ]
  },
  {
   "cell_type": "code",
   "execution_count": 26,
   "metadata": {
    "id": "zuPoTViZRHlM"
   },
   "outputs": [],
   "source": [
    "from string import punctuation\n",
    "import spacy\n",
    "import re"
   ]
  },
  {
   "cell_type": "code",
   "execution_count": 27,
   "metadata": {
    "id": "MrICmUgeRHlO"
   },
   "outputs": [],
   "source": [
    "puncts = set(punctuation)"
   ]
  },
  {
   "cell_type": "code",
   "execution_count": null,
   "metadata": {
    "colab": {
     "base_uri": "https://localhost:8080/"
    },
    "id": "Kdmt_DVPjN4j",
    "outputId": "4620f938-24fd-4e28-be7a-b5ebc67dd537"
   },
   "outputs": [],
   "source": []
  },
  {
   "cell_type": "markdown",
   "metadata": {
    "id": "hdO_4D8_kPWm"
   },
   "source": [
    "**ПОЗАВТРАКАЛИ**\n",
    "\n",
    "Стемминг (убираем лишнии куски слова):\n",
    "**завтрак**<br>\n",
    "Очень быстро, очень дешево и очень слабо.\n",
    "\n",
    "spaCy не имеет инструмента для стемминга, поскольку в нём отдаётся предпочтение лемматизации\n",
    "\n",
    "Лемматизация (перевод в неопределенную форму для гл. и в им.падеж для сущ.):\n",
    "**позавтракать**<br>\n",
    "Небыстро, сложно."
   ]
  },
  {
   "cell_type": "code",
   "execution_count": 28,
   "metadata": {
    "colab": {
     "base_uri": "https://localhost:8080/",
     "height": 36
    },
    "id": "Q2nWhCfzkTCH",
    "outputId": "dd386a9e-d757-487e-976b-7061543cd77e"
   },
   "outputs": [],
   "source": [
    "nlp = spacy.load('en_core_web_sm')\n",
    "\n",
    "stop_words = nlp.Defaults.stop_words # Загрузка списка стоп-слов"
   ]
  },
  {
   "cell_type": "code",
   "execution_count": 29,
   "metadata": {
    "id": "A5aTsDZxjPym"
   },
   "outputs": [],
   "source": [
    "def preprocess_text(txt):\n",
    "    txt = str(txt)\n",
    "#     txt = re.sub(r\"'t\\s\", \" not\", txt) # Функция re.sub заменяет \"'t__\" на \" not\" без пробела.   \n",
    "#     txt = re.sub(r\"(\\bnot\\b)\", \"\\bnot\", txt)\n",
    "    txt = \"\".join(c for c in txt if c not in puncts)\n",
    "    txt = txt.lower()\n",
    "    \n",
    "    txt = ' '.join([word for word in txt.split() if word.lower() not in stop_words]) # Удаление стоп-слов\n",
    "    txt = [token.lemma_ for token in nlp(txt)] # Лемматизация слов\n",
    "    \n",
    "    return \" \".join(txt)"
   ]
  },
  {
   "cell_type": "code",
   "execution_count": 30,
   "metadata": {
    "colab": {
     "base_uri": "https://localhost:8080/"
    },
    "id": "6J4Ybdk-jC-n",
    "outputId": "680c7a0c-4804-4465-c2e7-2b2bbfb13777"
   },
   "outputs": [
    {
     "data": {
      "text/plain": [
       "array([' @user when a father is dysfunctional and is so selfish he drags his kids into his dysfunction.   #run',\n",
       "       \"@user @user thanks for #lyft credit i can't use cause they don't offer wheelchair vans in pdx.    #disapointed #getthanked\"],\n",
       "      dtype=object)"
      ]
     },
     "execution_count": 30,
     "metadata": {},
     "output_type": "execute_result"
    }
   ],
   "source": [
    "df_train['tweet'].iloc[:2].values"
   ]
  },
  {
   "cell_type": "code",
   "execution_count": 31,
   "metadata": {
    "colab": {
     "base_uri": "https://localhost:8080/"
    },
    "id": "UFDyfZLpi8BR",
    "outputId": "ef101574-91d6-4f5c-83e1-bcfe7651683d"
   },
   "outputs": [
    {
     "data": {
      "text/plain": [
       "array(['user father dysfunctional selfish drag kid dysfunction run',\n",
       "       'user user thank lyft credit can not use cause do not offer wheelchair van pdx disapointe getthanke'],\n",
       "      dtype=object)"
      ]
     },
     "execution_count": 31,
     "metadata": {},
     "output_type": "execute_result"
    }
   ],
   "source": [
    "df_train['tweet'].iloc[:2].apply(preprocess_text).values"
   ]
  },
  {
   "cell_type": "code",
   "execution_count": 32,
   "metadata": {
    "colab": {
     "base_uri": "https://localhost:8080/"
    },
    "id": "iWrPbjNzi7pB",
    "outputId": "be3ded5b-7aca-4bb5-d7db-10fa837339cc"
   },
   "outputs": [
    {
     "name": "stderr",
     "output_type": "stream",
     "text": [
      "100%|████████████████████████████████████| 31962/31962 [01:57<00:00, 272.69it/s]\n",
      "100%|████████████████████████████████████| 17197/17197 [01:00<00:00, 285.28it/s]\n"
     ]
    }
   ],
   "source": [
    "from tqdm import tqdm \n",
    "tqdm.pandas()\n",
    "\n",
    "df_train['tweet'] = df_train['tweet'].progress_apply(preprocess_text)\n",
    "df_val['tweet'] = df_val['tweet'].progress_apply(preprocess_text)"
   ]
  },
  {
   "cell_type": "code",
   "execution_count": 33,
   "metadata": {
    "id": "C4o9QgmWI3Pw"
   },
   "outputs": [],
   "source": [
    "train_corpus = \" \".join(df_train[\"tweet\"])\n",
    "train_corpus = train_corpus.lower()"
   ]
  },
  {
   "cell_type": "code",
   "execution_count": 34,
   "metadata": {
    "colab": {
     "base_uri": "https://localhost:8080/"
    },
    "id": "Hed2ySbwJH6B",
    "outputId": "270b8ebc-f38a-4d21-8e53-d74b26395c44"
   },
   "outputs": [
    {
     "name": "stderr",
     "output_type": "stream",
     "text": [
      "[nltk_data] Downloading package punkt to /Users/annvorosh/nltk_data...\n",
      "[nltk_data]   Package punkt is already up-to-date!\n"
     ]
    },
    {
     "data": {
      "text/plain": [
       "['user', 'father', 'dysfunctional', 'selfish', 'drag']"
      ]
     },
     "execution_count": 34,
     "metadata": {},
     "output_type": "execute_result"
    }
   ],
   "source": [
    "import nltk\n",
    "from nltk.tokenize import word_tokenize\n",
    "nltk.download(\"punkt\")\n",
    "\n",
    "tokens = word_tokenize(train_corpus)\n",
    "tokens[:5]"
   ]
  },
  {
   "cell_type": "markdown",
   "metadata": {
    "id": "yJ8T0fwYJYJX"
   },
   "source": [
    "Отфильтруем данные\n",
    "\n",
    "и соберём в корпус N наиболее частых токенов"
   ]
  },
  {
   "cell_type": "code",
   "execution_count": 35,
   "metadata": {
    "id": "EXOLVK1tJLT8"
   },
   "outputs": [],
   "source": [
    "tokens_filtered = [word for word in tokens if word.isalnum()]"
   ]
  },
  {
   "cell_type": "code",
   "execution_count": 36,
   "metadata": {
    "colab": {
     "base_uri": "https://localhost:8080/"
    },
    "id": "8qCQH5nIJoiB",
    "outputId": "a10c74c5-e562-4a28-d2d2-259baa63222f"
   },
   "outputs": [
    {
     "data": {
      "text/plain": [
       "2999"
      ]
     },
     "execution_count": 36,
     "metadata": {},
     "output_type": "execute_result"
    }
   ],
   "source": [
    "from nltk.probability import FreqDist\n",
    "\n",
    "dist = FreqDist(tokens_filtered)\n",
    "tokens_filtered_top = [pair[0] for pair in dist.most_common(max_words-1)]  # вычитание 1 для padding\n",
    "len(tokens_filtered_top)"
   ]
  },
  {
   "cell_type": "code",
   "execution_count": 37,
   "metadata": {
    "colab": {
     "base_uri": "https://localhost:8080/"
    },
    "id": "bRQ-6wwjJrGo",
    "outputId": "c857ae2e-9f99-4d9d-a0fe-74b59dcb1257"
   },
   "outputs": [
    {
     "data": {
      "text/plain": [
       "['user', 'ã', 'love', 'day', 'not', 'happy', 'amp', 'i', 'good', 'm']"
      ]
     },
     "execution_count": 37,
     "metadata": {},
     "output_type": "execute_result"
    }
   ],
   "source": [
    "tokens_filtered_top[:10]"
   ]
  },
  {
   "cell_type": "code",
   "execution_count": 38,
   "metadata": {
    "colab": {
     "base_uri": "https://localhost:8080/"
    },
    "id": "Tdk777qGJtz4",
    "outputId": "c0e44a59-6bc2-4781-8d0c-a93f7396cc8c"
   },
   "outputs": [
    {
     "data": {
      "text/plain": [
       "{'user': 1,\n",
       " 'ã': 2,\n",
       " 'love': 3,\n",
       " 'day': 4,\n",
       " 'not': 5,\n",
       " 'happy': 6,\n",
       " 'amp': 7,\n",
       " 'i': 8,\n",
       " 'good': 9,\n",
       " 'm': 10,\n",
       " 'time': 11,\n",
       " 'life': 12,\n",
       " 'u': 13,\n",
       " 'like': 14,\n",
       " 'today': 15,\n",
       " 'do': 16,\n",
       " 'new': 17,\n",
       " 'positive': 18,\n",
       " 'thankful': 19,\n",
       " 'father': 20,\n",
       " 'people': 21,\n",
       " 'go': 22,\n",
       " 'smile': 23,\n",
       " 'bihday': 24,\n",
       " 'can': 25,\n",
       " 'get': 26,\n",
       " 's': 27,\n",
       " 'want': 28,\n",
       " 'work': 29,\n",
       " 'come': 30,\n",
       " 'look': 31,\n",
       " 'feel': 32,\n",
       " 'friend': 33,\n",
       " 'need': 34,\n",
       " 'wait': 35,\n",
       " 'weekend': 36,\n",
       " 'healthy': 37,\n",
       " 'girl': 38,\n",
       " 'thank': 39,\n",
       " 'family': 40,\n",
       " 'think': 41,\n",
       " 'week': 42,\n",
       " 'fun': 43,\n",
       " 'way': 44,\n",
       " 'know': 45,\n",
       " 'find': 46,\n",
       " 'great': 47,\n",
       " 'summer': 48,\n",
       " 'you': 49,\n",
       " 'friday': 50,\n",
       " 'live': 51,\n",
       " '2': 52,\n",
       " 'bull': 53,\n",
       " 'year': 54,\n",
       " 'beautiful': 55,\n",
       " 'thing': 56,\n",
       " 'morning': 57,\n",
       " 'music': 58,\n",
       " 'watch': 59,\n",
       " 'world': 60,\n",
       " 'home': 61,\n",
       " 'tomorrow': 62,\n",
       " 'make': 63,\n",
       " 'affirmation': 64,\n",
       " 'fathersday': 65,\n",
       " 'sad': 66,\n",
       " 'dad': 67,\n",
       " 'cute': 68,\n",
       " 'orlando': 69,\n",
       " 're': 70,\n",
       " 'right': 71,\n",
       " 'blog': 72,\n",
       " 'night': 73,\n",
       " 'model': 74,\n",
       " 'happiness': 75,\n",
       " 'man': 76,\n",
       " 'trump': 77,\n",
       " 'sunday': 78,\n",
       " 'play': 79,\n",
       " 'leave': 80,\n",
       " 've': 81,\n",
       " 'follow': 82,\n",
       " 'finally': 83,\n",
       " 'pay': 84,\n",
       " 'urã': 85,\n",
       " 'say': 86,\n",
       " 'gold': 87,\n",
       " 'amazing': 88,\n",
       " 'tonight': 89,\n",
       " 'let': 90,\n",
       " 'guy': 91,\n",
       " 'iam': 92,\n",
       " 'selfie': 93,\n",
       " 'silver': 94,\n",
       " 'sta': 95,\n",
       " 'ready': 96,\n",
       " 'enjoy': 97,\n",
       " 'altwaystoheal': 98,\n",
       " 'hope': 99,\n",
       " 'quote': 100,\n",
       " 'little': 101,\n",
       " 'bless': 102,\n",
       " 'wish': 103,\n",
       " '4': 104,\n",
       " 'bear': 105,\n",
       " 'have': 106,\n",
       " 'old': 107,\n",
       " 'woman': 108,\n",
       " 'game': 109,\n",
       " 'free': 110,\n",
       " 'help': 111,\n",
       " 'black': 112,\n",
       " 'dog': 113,\n",
       " 'forex': 114,\n",
       " 'stop': 115,\n",
       " 'miss': 116,\n",
       " 'baby': 117,\n",
       " 'hate': 118,\n",
       " 'see': 119,\n",
       " 'lose': 120,\n",
       " 'be': 121,\n",
       " 'try': 122,\n",
       " '1': 123,\n",
       " 'food': 124,\n",
       " 'place': 125,\n",
       " 'bad': 126,\n",
       " 'kid': 127,\n",
       " 'climb': 128,\n",
       " 'race': 129,\n",
       " 'god': 130,\n",
       " 'book': 131,\n",
       " 'city': 132,\n",
       " 'change': 133,\n",
       " 'peace': 134,\n",
       " 'big': 135,\n",
       " 'well': 136,\n",
       " 'd': 137,\n",
       " 'video': 138,\n",
       " 'tweet': 139,\n",
       " '2016': 140,\n",
       " 'white': 141,\n",
       " '3': 142,\n",
       " 'happen': 143,\n",
       " 'news': 144,\n",
       " 'long': 145,\n",
       " 'end': 146,\n",
       " 'saturday': 147,\n",
       " 'sun': 148,\n",
       " 'school': 149,\n",
       " 'believe': 150,\n",
       " 'hour': 151,\n",
       " 'that': 152,\n",
       " 'win': 153,\n",
       " 'polar': 154,\n",
       " 'funny': 155,\n",
       " 'boy': 156,\n",
       " 'run': 157,\n",
       " 'lol': 158,\n",
       " 'holiday': 159,\n",
       " 'nice': 160,\n",
       " 'travel': 161,\n",
       " 'instagood': 162,\n",
       " 'angry': 163,\n",
       " 'attack': 164,\n",
       " 'month': 165,\n",
       " 'child': 166,\n",
       " 'to': 167,\n",
       " 'break': 168,\n",
       " 'face': 169,\n",
       " 'beach': 170,\n",
       " 'awesome': 171,\n",
       " 'yes': 172,\n",
       " 'hea': 173,\n",
       " 'take': 174,\n",
       " 'read': 175,\n",
       " 'lot': 176,\n",
       " 'direct': 177,\n",
       " 'moment': 178,\n",
       " 'grateful': 179,\n",
       " 'word': 180,\n",
       " 'soon': 181,\n",
       " 'team': 182,\n",
       " 'wedding': 183,\n",
       " 'hear': 184,\n",
       " 'tell': 185,\n",
       " 'n': 186,\n",
       " 'dominate': 187,\n",
       " 'meet': 188,\n",
       " 'buy': 189,\n",
       " 'strong': 190,\n",
       " 'cool': 191,\n",
       " 'head': 192,\n",
       " 'proud': 193,\n",
       " 'check': 194,\n",
       " 'america': 195,\n",
       " 'dream': 196,\n",
       " 'photo': 197,\n",
       " 'motivation': 198,\n",
       " 'monday': 199,\n",
       " 'true': 200,\n",
       " 'tear': 201,\n",
       " 'job': 202,\n",
       " 'kill': 203,\n",
       " 'give': 204,\n",
       " 'away': 205,\n",
       " 'talk': 206,\n",
       " 'listen': 207,\n",
       " 'forward': 208,\n",
       " 'real': 209,\n",
       " 'sleep': 210,\n",
       " 'post': 211,\n",
       " 'rip': 212,\n",
       " 'shoot': 213,\n",
       " 'person': 214,\n",
       " 'libtard': 215,\n",
       " 'stay': 216,\n",
       " 'hot': 217,\n",
       " 'hard': 218,\n",
       " 'yeah': 219,\n",
       " 'oh': 220,\n",
       " 'bing': 221,\n",
       " 'late': 222,\n",
       " 'lovely': 223,\n",
       " '5': 224,\n",
       " 'bong': 225,\n",
       " 'photooftheday': 226,\n",
       " 'fan': 227,\n",
       " 'mean': 228,\n",
       " 'fuck': 229,\n",
       " 'song': 230,\n",
       " 'mindset': 231,\n",
       " 'sex': 232,\n",
       " 'followme': 233,\n",
       " 'racist': 234,\n",
       " 'cat': 235,\n",
       " 'dance': 236,\n",
       " 'fashion': 237,\n",
       " 'gun': 238,\n",
       " 'hair': 239,\n",
       " 'cry': 240,\n",
       " 'open': 241,\n",
       " 'twitter': 242,\n",
       " 'buffalo': 243,\n",
       " 'celebrate': 244,\n",
       " 'healing': 245,\n",
       " 'young': 246,\n",
       " 'wow': 247,\n",
       " 'ill': 248,\n",
       " 'will': 249,\n",
       " 'story': 250,\n",
       " 'joy': 251,\n",
       " 'die': 252,\n",
       " 'sexy': 253,\n",
       " 'june': 254,\n",
       " 'mom': 255,\n",
       " 'na': 256,\n",
       " 'flower': 257,\n",
       " 'relax': 258,\n",
       " 'gay': 259,\n",
       " 'money': 260,\n",
       " 'movie': 261,\n",
       " 'share': 262,\n",
       " 'health': 263,\n",
       " 'reach': 264,\n",
       " 'house': 265,\n",
       " 'excited': 266,\n",
       " 'r': 267,\n",
       " 'tbt': 268,\n",
       " 'euro2016': 269,\n",
       " 'success': 270,\n",
       " 'ur': 271,\n",
       " 'country': 272,\n",
       " 'mind': 273,\n",
       " 'gorilla': 274,\n",
       " 'walk': 275,\n",
       " 'body': 276,\n",
       " '10': 277,\n",
       " 'london': 278,\n",
       " 'poetry': 279,\n",
       " 'couple': 280,\n",
       " 'ticket': 281,\n",
       " 'conference': 282,\n",
       " 'shop': 283,\n",
       " 'pretty': 284,\n",
       " 'depression': 285,\n",
       " 'pa': 286,\n",
       " 'care': 287,\n",
       " 'use': 288,\n",
       " 'call': 289,\n",
       " 'obama': 290,\n",
       " 'lt3': 291,\n",
       " 'beauty': 292,\n",
       " 'politic': 293,\n",
       " 'truth': 294,\n",
       " 'w': 295,\n",
       " 'liberal': 296,\n",
       " 'porn': 297,\n",
       " 'environment': 298,\n",
       " 'season': 299,\n",
       " 'omg': 300,\n",
       " 'inspiration': 301,\n",
       " 'retweet': 302,\n",
       " 'heal': 303,\n",
       " 'thursday': 304,\n",
       " 'order': 305,\n",
       " 'he': 306,\n",
       " 'high': 307,\n",
       " 'perfect': 308,\n",
       " 'shit': 309,\n",
       " 'learn': 310,\n",
       " 'lead': 311,\n",
       " 'turn': 312,\n",
       " 'bring': 313,\n",
       " 'what': 314,\n",
       " 'laugh': 315,\n",
       " 'cold': 316,\n",
       " 'simulator': 317,\n",
       " 'adapt': 318,\n",
       " 'close': 319,\n",
       " 'gift': 320,\n",
       " 'arrive': 321,\n",
       " 'eat': 322,\n",
       " 'x': 323,\n",
       " 'simulation': 324,\n",
       " 'nude': 325,\n",
       " 'remember': 326,\n",
       " 'finish': 327,\n",
       " 'super': 328,\n",
       " 'fitness': 329,\n",
       " 'drink': 330,\n",
       " 'son': 331,\n",
       " 'wonderful': 332,\n",
       " 'act': 333,\n",
       " 'send': 334,\n",
       " 'rest': 335,\n",
       " 'mood': 336,\n",
       " 'business': 337,\n",
       " 'pray': 338,\n",
       " 'fact': 339,\n",
       " 'thought': 340,\n",
       " 'pic': 341,\n",
       " 'join': 342,\n",
       " 'update': 343,\n",
       " 'crazy': 344,\n",
       " 'hey': 345,\n",
       " 'comment': 346,\n",
       " 'matter': 347,\n",
       " 'yay': 348,\n",
       " 'set': 349,\n",
       " 'medium': 350,\n",
       " 'car': 351,\n",
       " 'dead': 352,\n",
       " 'visit': 353,\n",
       " 'wake': 354,\n",
       " 'ask': 355,\n",
       " 'reason': 356,\n",
       " 'event': 357,\n",
       " 'till': 358,\n",
       " 'picture': 359,\n",
       " 'trip': 360,\n",
       " 'kind': 361,\n",
       " 'coffee': 362,\n",
       " 'ppl': 363,\n",
       " 'wednesday': 364,\n",
       " 'delete': 365,\n",
       " 'app': 366,\n",
       " 'choose': 367,\n",
       " 'cause': 368,\n",
       " 'blue': 369,\n",
       " 'begin': 370,\n",
       " '7': 371,\n",
       " 'complete': 372,\n",
       " 'they': 373,\n",
       " 'single': 374,\n",
       " 'lie': 375,\n",
       " 'sweet': 376,\n",
       " 'bird': 377,\n",
       " 'toptag': 378,\n",
       " 'point': 379,\n",
       " 'far': 380,\n",
       " 'usa': 381,\n",
       " 'animal': 382,\n",
       " 'follower': 383,\n",
       " 'allahsoil': 384,\n",
       " 'rain': 385,\n",
       " 'sign': 386,\n",
       " 'vacation': 387,\n",
       " 'tired': 388,\n",
       " 'bed': 389,\n",
       " 'wrong': 390,\n",
       " 'power': 391,\n",
       " 'gym': 392,\n",
       " 'date': 393,\n",
       " 'lifestyle': 394,\n",
       " 'tgif': 395,\n",
       " 'sunshine': 396,\n",
       " 'feeling': 397,\n",
       " 'spend': 398,\n",
       " 'excite': 399,\n",
       " 'victim': 400,\n",
       " 'forget': 401,\n",
       " 'sorry': 402,\n",
       " 'vote': 403,\n",
       " 'prayfororlando': 404,\n",
       " 'plan': 405,\n",
       " 'actually': 406,\n",
       " 'sick': 407,\n",
       " 'hand': 408,\n",
       " 'minute': 409,\n",
       " 'view': 410,\n",
       " 'light': 411,\n",
       " 'fall': 412,\n",
       " 'useful': 413,\n",
       " 'social': 414,\n",
       " 'show': 415,\n",
       " 'daughter': 416,\n",
       " 'write': 417,\n",
       " 'aww': 418,\n",
       " 'early': 419,\n",
       " 'sure': 420,\n",
       " 'got': 421,\n",
       " 'tuesday': 422,\n",
       " 'favorite': 423,\n",
       " 'evening': 424,\n",
       " 'forever': 425,\n",
       " 'customer': 426,\n",
       " 'yesterday': 427,\n",
       " 'special': 428,\n",
       " 'color': 429,\n",
       " 'hardcore': 430,\n",
       " 'photography': 431,\n",
       " 'anymore': 432,\n",
       " 'hit': 433,\n",
       " 'grow': 434,\n",
       " 'save': 435,\n",
       " 'deletetweet': 436,\n",
       " '1st': 437,\n",
       " '6': 438,\n",
       " 'lgbt': 439,\n",
       " 'speak': 440,\n",
       " 'film': 441,\n",
       " 'daily': 442,\n",
       " 'daddy': 443,\n",
       " 'design': 444,\n",
       " 'pm': 445,\n",
       " 'impoant': 446,\n",
       " 'eye': 447,\n",
       " 'suppo': 448,\n",
       " 'hello': 449,\n",
       " 'goal': 450,\n",
       " 'understand': 451,\n",
       " 'death': 452,\n",
       " 'anxiety': 453,\n",
       " 'release': 454,\n",
       " 'easy': 455,\n",
       " 'fly': 456,\n",
       " 'human': 457,\n",
       " 'nervous': 458,\n",
       " 'nature': 459,\n",
       " 'hu': 460,\n",
       " 'football': 461,\n",
       " 'lunch': 462,\n",
       " 'uk': 463,\n",
       " 'student': 464,\n",
       " 'all': 465,\n",
       " 'goodmorning': 466,\n",
       " 'there': 467,\n",
       " 'hold': 468,\n",
       " 'parent': 469,\n",
       " 'ago': 470,\n",
       " 'target': 471,\n",
       " 'present': 472,\n",
       " 'move': 473,\n",
       " 'y': 474,\n",
       " 'guess': 475,\n",
       " 'red': 476,\n",
       " 'style': 477,\n",
       " 'episode': 478,\n",
       " 'history': 479,\n",
       " 'prayer': 480,\n",
       " 'sjw': 481,\n",
       " 'park': 482,\n",
       " 'instagram': 483,\n",
       " 'fight': 484,\n",
       " 'shooting': 485,\n",
       " 'racism': 486,\n",
       " 'launch': 487,\n",
       " 'brother': 488,\n",
       " 'lover': 489,\n",
       " 'sister': 490,\n",
       " 'conce': 491,\n",
       " 'organization': 492,\n",
       " 'vine': 493,\n",
       " 'ok': 494,\n",
       " 'able': 495,\n",
       " 'sunny': 496,\n",
       " 'green': 497,\n",
       " 'ass': 498,\n",
       " 'damn': 499,\n",
       " 'star': 500,\n",
       " 'future': 501,\n",
       " 'treat': 502,\n",
       " 'flag': 503,\n",
       " 'pass': 504,\n",
       " 'control': 505,\n",
       " 'state': 506,\n",
       " 'safe': 507,\n",
       " 'lucky': 508,\n",
       " 'problem': 509,\n",
       " 'lady': 510,\n",
       " 'group': 511,\n",
       " 'everyday': 512,\n",
       " 'final': 513,\n",
       " '8': 514,\n",
       " 'create': 515,\n",
       " 'bitch': 516,\n",
       " 'chill': 517,\n",
       " 'tv': 518,\n",
       " 'realize': 519,\n",
       " 'garden': 520,\n",
       " 'b': 521,\n",
       " 'vs': 522,\n",
       " 'mother': 523,\n",
       " 'sale': 524,\n",
       " '20': 525,\n",
       " 'later': 526,\n",
       " 'welcome': 527,\n",
       " '50': 528,\n",
       " 'snapchat': 529,\n",
       " 'youtube': 530,\n",
       " 'education': 531,\n",
       " 'decide': 532,\n",
       " 'joke': 533,\n",
       " 'gt': 534,\n",
       " 'agree': 535,\n",
       " 'service': 536,\n",
       " 'florida': 537,\n",
       " 'xxx': 538,\n",
       " 'll': 539,\n",
       " 'dear': 540,\n",
       " 'sit': 541,\n",
       " 'cantwait': 542,\n",
       " '12': 543,\n",
       " 'brexit': 544,\n",
       " 'teen': 545,\n",
       " 'president': 546,\n",
       " 'police': 547,\n",
       " 'despite': 548,\n",
       " 'survive': 549,\n",
       " 'mountain': 550,\n",
       " 'anniversary': 551,\n",
       " 'fast': 552,\n",
       " 'cultureofdevelopment': 553,\n",
       " 'freedom': 554,\n",
       " 'afternoon': 555,\n",
       " 'club': 556,\n",
       " 'soul': 557,\n",
       " 'bit': 558,\n",
       " 'boyfriend': 559,\n",
       " 'stand': 560,\n",
       " 'fail': 561,\n",
       " 'bday': 562,\n",
       " 'experience': 563,\n",
       " 'picoftheday': 564,\n",
       " 'line': 565,\n",
       " 'disney': 566,\n",
       " 'list': 567,\n",
       " 'phone': 568,\n",
       " '30': 569,\n",
       " 'rock': 570,\n",
       " 'dinner': 571,\n",
       " 'nyc': 572,\n",
       " 'source': 573,\n",
       " 'cake': 574,\n",
       " 'cheer': 575,\n",
       " 'voice': 576,\n",
       " 'choice': 577,\n",
       " 'smh': 578,\n",
       " 'tragedy': 579,\n",
       " 'card': 580,\n",
       " 'hill': 581,\n",
       " 'add': 582,\n",
       " 'suppoer': 583,\n",
       " 'yo': 584,\n",
       " 'wife': 585,\n",
       " 'fresh': 586,\n",
       " 'count': 587,\n",
       " 'mad': 588,\n",
       " 'half': 589,\n",
       " 'class': 590,\n",
       " 'pathetic': 591,\n",
       " 'friendship': 592,\n",
       " 'water': 593,\n",
       " 'sea': 594,\n",
       " 'accept': 595,\n",
       " 'step': 596,\n",
       " 'wan': 597,\n",
       " 'thankyou': 598,\n",
       " 'stuff': 599,\n",
       " 'ride': 600,\n",
       " 'question': 601,\n",
       " 'fucking': 602,\n",
       " 'cover': 603,\n",
       " 'vicinity': 604,\n",
       " 'pain': 605,\n",
       " 'simple': 606,\n",
       " 'inspire': 607,\n",
       " 'actor': 608,\n",
       " 'keep': 609,\n",
       " 'idea': 610,\n",
       " 'maybe': 611,\n",
       " '2nd': 612,\n",
       " 'nasty': 613,\n",
       " 'shopping': 614,\n",
       " 'drive': 615,\n",
       " 'sky': 616,\n",
       " 'ramadan': 617,\n",
       " '9': 618,\n",
       " 'respect': 619,\n",
       " 'july': 620,\n",
       " 'we': 621,\n",
       " 'course': 622,\n",
       " 'truly': 623,\n",
       " 'muslim': 624,\n",
       " 'small': 625,\n",
       " 'beer': 626,\n",
       " 'breakfast': 627,\n",
       " 'room': 628,\n",
       " 'issue': 629,\n",
       " 'hell': 630,\n",
       " 'makeup': 631,\n",
       " 'fear': 632,\n",
       " '2017': 633,\n",
       " 'surprise': 634,\n",
       " 'fire': 635,\n",
       " 'she': 636,\n",
       " 'gbp': 637,\n",
       " 'pick': 638,\n",
       " 'community': 639,\n",
       " 'beat': 640,\n",
       " 'client': 641,\n",
       " 'yoga': 642,\n",
       " 'england': 643,\n",
       " 'deserve': 644,\n",
       " 'lighttherapy': 645,\n",
       " 'could': 646,\n",
       " 'officially': 647,\n",
       " 'account': 648,\n",
       " 'wonder': 649,\n",
       " 'sound': 650,\n",
       " 'oil': 651,\n",
       " 'test': 652,\n",
       " 'slut': 653,\n",
       " 'lawofattraction': 654,\n",
       " '3d': 655,\n",
       " 'violence': 656,\n",
       " 'leadership': 657,\n",
       " 'train': 658,\n",
       " 'americans': 659,\n",
       " 'sell': 660,\n",
       " 'allow': 661,\n",
       " 'adventure': 662,\n",
       " 'expect': 663,\n",
       " 'dj': 664,\n",
       " 'relationship': 665,\n",
       " 'kick': 666,\n",
       " 'different': 667,\n",
       " 'murder': 668,\n",
       " 'flight': 669,\n",
       " 'sunset': 670,\n",
       " 'wear': 671,\n",
       " 'announce': 672,\n",
       " 'chase': 673,\n",
       " 'blogger': 674,\n",
       " 'low': 675,\n",
       " 'festival': 676,\n",
       " 'dress': 677,\n",
       " 'orlandoshoote': 678,\n",
       " 'receive': 679,\n",
       " 'one': 680,\n",
       " 'wet': 681,\n",
       " 'oitnb': 682,\n",
       " 'husband': 683,\n",
       " 'india': 684,\n",
       " 'task': 685,\n",
       " 'gop': 686,\n",
       " 'glad': 687,\n",
       " 'udtapunjab': 688,\n",
       " 'la': 689,\n",
       " '100': 690,\n",
       " 'past': 691,\n",
       " 'puppy': 692,\n",
       " 'naughty': 693,\n",
       " 'pop': 694,\n",
       " 'reality': 695,\n",
       " 'ahead': 696,\n",
       " 'dark': 697,\n",
       " 'bc': 698,\n",
       " 'national': 699,\n",
       " 'cut': 700,\n",
       " 'who': 701,\n",
       " 'memory': 702,\n",
       " 'horny': 703,\n",
       " 'shy': 704,\n",
       " 'fantastic': 705,\n",
       " 'ignore': 706,\n",
       " 'catch': 707,\n",
       " 'tragic': 708,\n",
       " 'hillary': 709,\n",
       " 'mass': 710,\n",
       " 'war': 711,\n",
       " 'continue': 712,\n",
       " 'message': 713,\n",
       " 'blur': 714,\n",
       " 'product': 715,\n",
       " 'wine': 716,\n",
       " 'lonely': 717,\n",
       " 'second': 718,\n",
       " 'pussy': 719,\n",
       " 'emotion': 720,\n",
       " 'folk': 721,\n",
       " 'american': 722,\n",
       " 'street': 723,\n",
       " 'draw': 724,\n",
       " 'secret': 725,\n",
       " 'celebration': 726,\n",
       " 'tip': 727,\n",
       " 'blonde': 728,\n",
       " 'stupid': 729,\n",
       " 'deal': 730,\n",
       " 'workout': 731,\n",
       " 'action': 732,\n",
       " 'exciting': 733,\n",
       " 'kinky': 734,\n",
       " 'shoe': 735,\n",
       " 'meeting': 736,\n",
       " 'worry': 737,\n",
       " 'euro': 738,\n",
       " 'rooster': 739,\n",
       " 'vast': 740,\n",
       " 'camp': 741,\n",
       " 'queen': 742,\n",
       " 'wtf': 743,\n",
       " 'result': 744,\n",
       " 'would': 745,\n",
       " 'apple': 746,\n",
       " 'female': 747,\n",
       " 'instead': 748,\n",
       " 'pack': 749,\n",
       " 'stomp': 750,\n",
       " 'gorgeous': 751,\n",
       " 'return': 752,\n",
       " 'expanse': 753,\n",
       " 'loss': 754,\n",
       " 'official': 755,\n",
       " 'aist': 756,\n",
       " 'content': 757,\n",
       " 'local': 758,\n",
       " 'offer': 759,\n",
       " 'finger': 760,\n",
       " 'trust': 761,\n",
       " 'tech': 762,\n",
       " 'nbafinal': 763,\n",
       " 'france': 764,\n",
       " 'law': 765,\n",
       " 'bag': 766,\n",
       " 'road': 767,\n",
       " 'age': 768,\n",
       " 'haha': 769,\n",
       " 'facebook': 770,\n",
       " 'university': 771,\n",
       " 'trend': 772,\n",
       " 'sho': 773,\n",
       " 'countdown': 774,\n",
       " 'poor': 775,\n",
       " 'training': 776,\n",
       " 'clean': 777,\n",
       " 'fit': 778,\n",
       " 'luck': 779,\n",
       " 'depress': 780,\n",
       " 'award': 781,\n",
       " 'member': 782,\n",
       " '15': 783,\n",
       " 'block': 784,\n",
       " 'self': 785,\n",
       " 'vegan': 786,\n",
       " 'notice': 787,\n",
       " 'online': 788,\n",
       " 'series': 789,\n",
       " 'review': 790,\n",
       " 'political': 791,\n",
       " 'vibe': 792,\n",
       " 'tune': 793,\n",
       " 'islam': 794,\n",
       " 'sense': 795,\n",
       " 'seriously': 796,\n",
       " 'york': 797,\n",
       " 'heabroken': 798,\n",
       " 'page': 799,\n",
       " 'hero': 800,\n",
       " 'weather': 801,\n",
       " 'album': 802,\n",
       " 'answer': 803,\n",
       " 'pet': 804,\n",
       " 'pizza': 805,\n",
       " 'busy': 806,\n",
       " 'woh': 807,\n",
       " 'college': 808,\n",
       " 'waste': 809,\n",
       " 'king': 810,\n",
       " 'huge': 811,\n",
       " 'blame': 812,\n",
       " 'ripchristina': 813,\n",
       " 'internet': 814,\n",
       " 'deep': 815,\n",
       " 'united': 816,\n",
       " 'pride': 817,\n",
       " 'donald': 818,\n",
       " 'yummy': 819,\n",
       " 'hi': 820,\n",
       " 'shame': 821,\n",
       " 'stage': 822,\n",
       " 'here': 823,\n",
       " 'literally': 824,\n",
       " 'nail': 825,\n",
       " 'chance': 826,\n",
       " 'bike': 827,\n",
       " 'suck': 828,\n",
       " 'terrorist': 829,\n",
       " 'remain': 830,\n",
       " 'instamood': 831,\n",
       " 'idiot': 832,\n",
       " 'project': 833,\n",
       " 'ice': 834,\n",
       " 'absolutely': 835,\n",
       " 'germany': 836,\n",
       " 'company': 837,\n",
       " 'energy': 838,\n",
       " 'spos': 839,\n",
       " 'fill': 840,\n",
       " 'office': 841,\n",
       " 'punjab': 842,\n",
       " 'pink': 843,\n",
       " 'e': 844,\n",
       " 'land': 845,\n",
       " 'previous': 846,\n",
       " 'prove': 847,\n",
       " 'naked': 848,\n",
       " 'pool': 849,\n",
       " 'bestfriend': 850,\n",
       " 'probably': 851,\n",
       " 'stick': 852,\n",
       " 'kiss': 853,\n",
       " 'appreciate': 854,\n",
       " 'leader': 855,\n",
       " 'staff': 856,\n",
       " 'case': 857,\n",
       " 'weak': 858,\n",
       " 'hungry': 859,\n",
       " 'key': 860,\n",
       " 'stae': 861,\n",
       " 'hatred': 862,\n",
       " 'session': 863,\n",
       " 'drop': 864,\n",
       " 'meme': 865,\n",
       " 'nba': 866,\n",
       " 'space': 867,\n",
       " 'hug': 868,\n",
       " 'vegas': 869,\n",
       " 'inspirational': 870,\n",
       " 'number': 871,\n",
       " 'teach': 872,\n",
       " 'instalike': 873,\n",
       " 'p': 874,\n",
       " 'e32016': 875,\n",
       " 'congratulation': 876,\n",
       " 'melancholy': 877,\n",
       " 'campaign': 878,\n",
       " 'inside': 879,\n",
       " 'tour': 880,\n",
       " 'link': 881,\n",
       " 'ff': 882,\n",
       " 'mr': 883,\n",
       " 'store': 884,\n",
       " 'depressed': 885,\n",
       " 'snapshot': 886,\n",
       " 'staed': 887,\n",
       " 'foot': 888,\n",
       " 'poem': 889,\n",
       " 'church': 890,\n",
       " 'email': 891,\n",
       " 'nation': 892,\n",
       " 'box': 893,\n",
       " 'upset': 894,\n",
       " 'inshot': 895,\n",
       " 'lovelife': 896,\n",
       " 'like4like': 897,\n",
       " 'eah': 898,\n",
       " 'million': 899,\n",
       " 't': 900,\n",
       " 'stream': 901,\n",
       " 'lyric': 902,\n",
       " 'calm': 903,\n",
       " 'glass': 904,\n",
       " 'brand': 905,\n",
       " 'nofilter': 906,\n",
       " 'faith': 907,\n",
       " 'alive': 908,\n",
       " 'f': 909,\n",
       " 'leakage': 910,\n",
       " 'marriage': 911,\n",
       " 'favourite': 912,\n",
       " 'okay': 913,\n",
       " 'especially': 914,\n",
       " 'cavs': 915,\n",
       " 'build': 916,\n",
       " 'benefit': 917,\n",
       " 'touch': 918,\n",
       " 'shock': 919,\n",
       " 'o': 920,\n",
       " 'l': 921,\n",
       " 'instadaily': 922,\n",
       " 'pig': 923,\n",
       " 'study': 924,\n",
       " 'e3': 925,\n",
       " 'everybody': 926,\n",
       " 'pulse': 927,\n",
       " 'v': 928,\n",
       " 'bride': 929,\n",
       " 'culture': 930,\n",
       " 'asian': 931,\n",
       " 'fake': 932,\n",
       " 'horrible': 933,\n",
       " 'diet': 934,\n",
       " 'focus': 935,\n",
       " 'gif': 936,\n",
       " 'dude': 937,\n",
       " 'piece': 938,\n",
       " 'player': 939,\n",
       " 'ball': 940,\n",
       " 'dory': 941,\n",
       " 'level': 942,\n",
       " 'available': 943,\n",
       " 'successful': 944,\n",
       " 'christmas': 945,\n",
       " 'melancholymusic': 946,\n",
       " 'coach': 947,\n",
       " 'newyork': 948,\n",
       " 'hang': 949,\n",
       " 'graduation': 950,\n",
       " 'staing': 951,\n",
       " 'emotional': 952,\n",
       " 'record': 953,\n",
       " 'anger': 954,\n",
       " 'til': 955,\n",
       " 'website': 956,\n",
       " 'exam': 957,\n",
       " 'public': 958,\n",
       " 'journey': 959,\n",
       " 'japan': 960,\n",
       " 'claim': 961,\n",
       " 'tampa': 962,\n",
       " 'bigot': 963,\n",
       " 'throw': 964,\n",
       " 'totally': 965,\n",
       " 'gamer': 966,\n",
       " 'xx': 967,\n",
       " 'paris': 968,\n",
       " 'tea': 969,\n",
       " 'town': 970,\n",
       " 'miami': 971,\n",
       " 'orange': 972,\n",
       " 'blm': 973,\n",
       " 'positivity': 974,\n",
       " 'goodnight': 975,\n",
       " 'role': 976,\n",
       " 'netflix': 977,\n",
       " 'challenge': 978,\n",
       " 'adult': 979,\n",
       " 'sing': 980,\n",
       " 'door': 981,\n",
       " 'stress': 982,\n",
       " 'double': 983,\n",
       " 'marry': 984,\n",
       " 'track': 985,\n",
       " 'nearly': 986,\n",
       " 'click': 987,\n",
       " 'condemn': 988,\n",
       " 'lack': 989,\n",
       " 'politician': 990,\n",
       " 'wisdom': 991,\n",
       " 'california': 992,\n",
       " 'legend': 993,\n",
       " 'exercise': 994,\n",
       " 'wakeup': 995,\n",
       " 'wild': 996,\n",
       " 'religion': 997,\n",
       " 'generation': 998,\n",
       " 'winner': 999,\n",
       " 'girlfriend': 1000,\n",
       " ...}"
      ]
     },
     "execution_count": 38,
     "metadata": {},
     "output_type": "execute_result"
    }
   ],
   "source": [
    "vocabulary = {v: k for k, v in dict(enumerate(tokens_filtered_top, 1)).items()}\n",
    "vocabulary"
   ]
  },
  {
   "cell_type": "code",
   "execution_count": 39,
   "metadata": {
    "id": "5OULZgvkJzpj"
   },
   "outputs": [],
   "source": [
    "import numpy as np\n",
    "\n",
    "\n",
    "def text_to_sequence(text, maxlen):\n",
    "    result = []\n",
    "    tokens = word_tokenize(text.lower())\n",
    "    tokens_filtered = [word for word in tokens if word.isalnum()]\n",
    "    for word in tokens_filtered:\n",
    "        if word in vocabulary:\n",
    "            result.append(vocabulary[word])\n",
    "\n",
    "    padding = [0] * (maxlen-len(result))\n",
    "    return result[-maxlen:] + padding"
   ]
  },
  {
   "cell_type": "code",
   "execution_count": 40,
   "metadata": {},
   "outputs": [],
   "source": [
    "from sklearn.model_selection import train_test_split\n",
    "df_train, df_test = train_test_split(df_train, test_size=0.2, random_state=42)"
   ]
  },
  {
   "cell_type": "code",
   "execution_count": 41,
   "metadata": {
    "colab": {
     "base_uri": "https://localhost:8080/"
    },
    "id": "pqHlf5nNJ2hl",
    "outputId": "fafe24d4-c5f5-4474-ffe1-54ead0843cbe"
   },
   "outputs": [
    {
     "name": "stdout",
     "output_type": "stream",
     "text": [
      "CPU times: user 2.02 s, sys: 9.27 ms, total: 2.02 s\n",
      "Wall time: 2.02 s\n"
     ]
    }
   ],
   "source": [
    "%%time\n",
    "x_train = np.asarray([text_to_sequence(text, max_len) for text in df_train[\"tweet\"]])\n",
    "x_test = np.asarray([text_to_sequence(text, max_len) for text in df_test[\"tweet\"]])"
   ]
  },
  {
   "cell_type": "code",
   "execution_count": 42,
   "metadata": {
    "colab": {
     "base_uri": "https://localhost:8080/"
    },
    "id": "lI4NUg_TJ6NK",
    "outputId": "32090c5f-1b2a-4cf3-9790-3412aae444c2"
   },
   "outputs": [
    {
     "data": {
      "text/plain": [
       "(25569, 10)"
      ]
     },
     "execution_count": 42,
     "metadata": {},
     "output_type": "execute_result"
    }
   ],
   "source": [
    "x_train.shape"
   ]
  },
  {
   "cell_type": "code",
   "execution_count": 43,
   "metadata": {
    "colab": {
     "base_uri": "https://localhost:8080/",
     "height": 36
    },
    "id": "0I6B2MHb81pF",
    "outputId": "19caee2c-1cf2-40bd-d853-0b45da59ace1"
   },
   "outputs": [
    {
     "data": {
      "text/plain": [
       "'user user user way youngsweet fellaindias friend ã ° â\\x9fâ\\x98â\\x9e'"
      ]
     },
     "execution_count": 43,
     "metadata": {},
     "output_type": "execute_result"
    }
   ],
   "source": [
    "df_train['tweet'].iloc[10]"
   ]
  },
  {
   "cell_type": "code",
   "execution_count": 44,
   "metadata": {
    "colab": {
     "base_uri": "https://localhost:8080/"
    },
    "id": "9QlLvXd9KDf3",
    "outputId": "2a2197d7-d51b-42c7-a213-66ce312a63fb"
   },
   "outputs": [
    {
     "data": {
      "text/plain": [
       "array([  50,    2,    2,   50,   93, 1766,  394,    0,    0,    0])"
      ]
     },
     "execution_count": 44,
     "metadata": {},
     "output_type": "execute_result"
    }
   ],
   "source": [
    "x_train[2]"
   ]
  },
  {
   "cell_type": "code",
   "execution_count": 45,
   "metadata": {
    "id": "Ynw9XOZNK4Wp"
   },
   "outputs": [],
   "source": [
    "import torch\n",
    "import torch.nn as nn\n",
    "import torch.nn.functional as F"
   ]
  },
  {
   "cell_type": "code",
   "execution_count": 46,
   "metadata": {
    "id": "PhwK7yLAK8b0"
   },
   "outputs": [],
   "source": [
    "from torch.utils.data import DataLoader, Dataset\n",
    "\n",
    "\n",
    "class DataWrapper(Dataset):\n",
    "    def __init__(self, data, target, transform=None):\n",
    "        self.data = torch.from_numpy(data).long()\n",
    "        self.target = torch.from_numpy(target).long()\n",
    "        self.transform = transform\n",
    "        \n",
    "    def __getitem__(self, index):\n",
    "        x = self.data[index]\n",
    "        y = self.target[index]\n",
    "        \n",
    "        if self.transform:\n",
    "            x = self.transform(x)\n",
    "            \n",
    "        return x, y\n",
    "    \n",
    "    def __len__(self):\n",
    "        return len(self.data)"
   ]
  },
  {
   "cell_type": "code",
   "execution_count": 47,
   "metadata": {},
   "outputs": [],
   "source": [
    "from torch.utils.data import WeightedRandomSampler\n",
    "\n",
    "# получаем балансировку весов для каждого класса\n",
    "class_counts = np.bincount(df_train['label'])\n",
    "class_weights = 1.0 / class_counts\n",
    "\n",
    "# создаем взвешенный сэмплер\n",
    "weights = [class_weights[label] for label in df_train['label']]\n",
    "sampler = WeightedRandomSampler(weights, len(df_train))\n",
    "\n",
    "# создаем DataLoader с использованием взвешенного сэмплера\n",
    "train_dataset = DataWrapper(x_train, df_train['label'].values)\n",
    "train_loader = DataLoader(train_dataset, batch_size=batch_size, shuffle=True)"
   ]
  },
  {
   "cell_type": "code",
   "execution_count": 48,
   "metadata": {},
   "outputs": [],
   "source": [
    "# Получаем балансировку весов для каждого класса в валидационном наборе данных\n",
    "class_counts_test = np.bincount(df_test['label'])\n",
    "class_weights_test = 1.0 / class_counts_test\n",
    "\n",
    "# Создаем взвешенный сэмплер для валидационного набора данных\n",
    "weights_test = [class_weights_test[label] for label in df_test['label']]\n",
    "sampler_test = WeightedRandomSampler(weights_test, len(df_test))\n",
    "\n",
    "# Создаем DataLoader с использованием взвешенного сэмплера для валидационного набора данных\n",
    "test_dataset = DataWrapper(x_test, df_test['label'].values)\n",
    "test_loader = DataLoader(test_dataset, batch_size=batch_size, shuffle=True)"
   ]
  },
  {
   "cell_type": "code",
   "execution_count": 49,
   "metadata": {},
   "outputs": [
    {
     "name": "stdout",
     "output_type": "stream",
     "text": [
      "torch.Size([512, 10])\n",
      "torch.Size([512])\n",
      "tensor(0)\n"
     ]
    }
   ],
   "source": [
    "for x, l in train_loader:\n",
    "    print(x.shape)\n",
    "    print(l.shape)\n",
    "    print(l[0])\n",
    "    break"
   ]
  },
  {
   "cell_type": "code",
   "execution_count": 50,
   "metadata": {
    "colab": {
     "base_uri": "https://localhost:8080/"
    },
    "id": "J6v8MCvfPqJN",
    "outputId": "292ded6c-48ee-4107-e70a-3b5254be1ec0"
   },
   "outputs": [
    {
     "data": {
      "text/plain": [
       "'cpu'"
      ]
     },
     "execution_count": 50,
     "metadata": {},
     "output_type": "execute_result"
    }
   ],
   "source": [
    "device = 'cuda' if torch.cuda.is_available() else 'cpu'\n",
    "device"
   ]
  },
  {
   "cell_type": "markdown",
   "metadata": {
    "id": "vOpjN8zrHIfJ"
   },
   "source": [
    "### LSTM"
   ]
  },
  {
   "cell_type": "code",
   "execution_count": 51,
   "metadata": {
    "colab": {
     "base_uri": "https://localhost:8080/"
    },
    "id": "ee9kfUQaCXpl",
    "outputId": "a12f6d00-006b-4909-a37b-9c5faee93b36"
   },
   "outputs": [],
   "source": [
    "from torch import nn\n",
    "\n",
    "\n",
    "class LSTMFixedLen(nn.Module) :\n",
    "    def __init__(self, vocab_size, embedding_dim=128, hidden_dim=128, use_last=True):\n",
    "        super().__init__()\n",
    "        self.use_last = use_last\n",
    "        self.embeddings = nn.Embedding(vocab_size, embedding_dim, padding_idx=0)\n",
    "        self.lstm = nn.LSTM(embedding_dim, hidden_dim, num_layers=2, batch_first=True)\n",
    "        self.linear = nn.Linear(hidden_dim, 1)\n",
    "        self.dropout = nn.Dropout(0.2)\n",
    "        \n",
    "    def forward(self, x):\n",
    "        x = self.embeddings(x)\n",
    "        x = self.dropout(x)\n",
    "        lstm_out, ht = self.lstm(x)\n",
    "       \n",
    "        if self.use_last:\n",
    "            last_tensor = lstm_out[:,-1,:]\n",
    "        else:\n",
    "            # use mean\n",
    "            last_tensor = torch.mean(lstm_out[:,:], dim=1)\n",
    "    \n",
    "        out = self.linear(last_tensor)\n",
    "        # print(out.shape)\n",
    "        return torch.sigmoid(out)"
   ]
  },
  {
   "cell_type": "code",
   "execution_count": 52,
   "metadata": {
    "colab": {
     "base_uri": "https://localhost:8080/",
     "height": 295
    },
    "id": "jRFEu1X4jpLU",
    "outputId": "6ab2ce7a-1a8f-4fb5-d58c-e68775fa902a"
   },
   "outputs": [],
   "source": [
    "lstm_init = LSTMFixedLen(max_words, 128, 20, use_last=False)\n",
    "optimizer = torch.optim.Adam(lstm_init.parameters(), lr=0.001)\n",
    "criterion = nn.BCELoss()"
   ]
  },
  {
   "cell_type": "code",
   "execution_count": 53,
   "metadata": {},
   "outputs": [
    {
     "name": "stdout",
     "output_type": "stream",
     "text": [
      "LSTMFixedLen(\n",
      "  (embeddings): Embedding(3000, 128, padding_idx=0)\n",
      "  (lstm): LSTM(128, 20, num_layers=2, batch_first=True)\n",
      "  (linear): Linear(in_features=20, out_features=1, bias=True)\n",
      "  (dropout): Dropout(p=0.2, inplace=False)\n",
      ")\n",
      "Parameters: 399381\n"
     ]
    }
   ],
   "source": [
    "print(lstm_init)\n",
    "print(\"Parameters:\", sum([param.nelement() for param in lstm_init.parameters()]))"
   ]
  },
  {
   "cell_type": "code",
   "execution_count": 54,
   "metadata": {},
   "outputs": [
    {
     "name": "stdout",
     "output_type": "stream",
     "text": [
      "Epoch [1/20]. Step [50/50]. Loss: 0.406. Acc: 0.930. Test loss: 0.377. Test acc: 0.929\n",
      "Epoch [2/20]. Step [50/50]. Loss: 0.266. Acc: 0.930. Test loss: 0.298. Test acc: 0.929\n",
      "Epoch [3/20]. Step [50/50]. Loss: 0.197. Acc: 0.930. Test loss: 0.189. Test acc: 0.929\n",
      "Epoch [4/20]. Step [50/50]. Loss: 0.179. Acc: 0.932. Test loss: 0.191. Test acc: 0.935\n",
      "Epoch [5/20]. Step [50/50]. Loss: 0.135. Acc: 0.940. Test loss: 0.170. Test acc: 0.941\n",
      "Epoch [6/20]. Step [50/50]. Loss: 0.143. Acc: 0.948. Test loss: 0.151. Test acc: 0.947\n",
      "Epoch [7/20]. Step [50/50]. Loss: 0.126. Acc: 0.952. Test loss: 0.256. Test acc: 0.947\n",
      "Epoch [8/20]. Step [50/50]. Loss: 0.122. Acc: 0.956. Test loss: 0.111. Test acc: 0.949\n",
      "Epoch [9/20]. Step [50/50]. Loss: 0.142. Acc: 0.959. Test loss: 0.190. Test acc: 0.950\n",
      "Epoch [10/20]. Step [50/50]. Loss: 0.121. Acc: 0.962. Test loss: 0.115. Test acc: 0.949\n",
      "Epoch [11/20]. Step [50/50]. Loss: 0.099. Acc: 0.963. Test loss: 0.163. Test acc: 0.951\n",
      "Epoch [12/20]. Step [50/50]. Loss: 0.070. Acc: 0.965. Test loss: 0.181. Test acc: 0.950\n",
      "Epoch [13/20]. Step [50/50]. Loss: 0.122. Acc: 0.968. Test loss: 0.165. Test acc: 0.952\n",
      "Epoch [14/20]. Step [50/50]. Loss: 0.089. Acc: 0.969. Test loss: 0.079. Test acc: 0.950\n",
      "Epoch [15/20]. Step [50/50]. Loss: 0.072. Acc: 0.967. Test loss: 0.132. Test acc: 0.954\n",
      "Epoch [16/20]. Step [50/50]. Loss: 0.086. Acc: 0.971. Test loss: 0.110. Test acc: 0.954\n",
      "Epoch [17/20]. Step [50/50]. Loss: 0.078. Acc: 0.972. Test loss: 0.124. Test acc: 0.954\n",
      "Epoch [18/20]. Step [50/50]. Loss: 0.110. Acc: 0.973. Test loss: 0.119. Test acc: 0.953\n",
      "Epoch [19/20]. Step [50/50]. Loss: 0.072. Acc: 0.976. Test loss: 0.131. Test acc: 0.953\n",
      "Epoch [20/20]. Step [50/50]. Loss: 0.101. Acc: 0.976. Test loss: 0.183. Test acc: 0.955\n",
      "Training is finished!\n"
     ]
    }
   ],
   "source": [
    "lstm_init = lstm_init.to(device)\n",
    "lstm_init.train()\n",
    "th = 0.5\n",
    "\n",
    "train_loss_history = []\n",
    "test_loss_history = []\n",
    "\n",
    "\n",
    "for epoch in range(epochs):  \n",
    "    lstm_init.train()\n",
    "    running_items, running_right = 0.0, 0.0\n",
    "    for i, data in enumerate(train_loader, 0):\n",
    "        inputs, labels = data[0].to(device), data[1].to(device)\n",
    "\n",
    "        # обнуляем градиент\n",
    "        optimizer.zero_grad()\n",
    "        outputs = lstm_init(inputs)\n",
    "        \n",
    "        loss = criterion(outputs, labels.float().view(-1, 1))\n",
    "        loss.backward()\n",
    "        optimizer.step()\n",
    "\n",
    "        # подсчет ошибки на обучении\n",
    "        loss = loss.item()\n",
    "        running_items += len(labels)\n",
    "        # подсчет метрики на обучении\n",
    "        pred_labels = torch.squeeze((outputs > th).int())\n",
    "        running_right += (labels == pred_labels).sum()\n",
    "        \n",
    "    # выводим статистику о процессе обучения\n",
    "    lstm_init.eval()\n",
    "    \n",
    "    print(f'Epoch [{epoch + 1}/{epochs}]. ' \\\n",
    "            f'Step [{i + 1}/{len(train_loader)}]. ' \\\n",
    "            f'Loss: {loss:.3f}. ' \\\n",
    "            f'Acc: {running_right / running_items:.3f}', end='. ')\n",
    "    running_loss, running_items, running_right = 0.0, 0.0, 0.0\n",
    "    train_loss_history.append(loss)\n",
    "\n",
    "    # выводим статистику на тестовых данных\n",
    "    test_running_right, test_running_total, test_loss = 0.0, 0.0, 0.0\n",
    "    for j, data in enumerate(test_loader):\n",
    "        test_labels = data[1].to(device)\n",
    "        test_outputs = lstm_init(data[0].to(device))\n",
    "        \n",
    "        # подсчет ошибки на тесте\n",
    "        test_loss = criterion(test_outputs, test_labels.float().view(-1, 1))\n",
    "        # подсчет метрики на тесте\n",
    "        test_running_total += len(data[1])\n",
    "        pred_test_labels = torch.squeeze((test_outputs > th).int())\n",
    "        test_running_right += (test_labels == pred_test_labels).sum()\n",
    "    \n",
    "    test_loss_history.append(test_loss.item())\n",
    "    print(f'Test loss: {test_loss:.3f}. Test acc: {test_running_right / test_running_total:.3f}')\n",
    "        \n",
    "print('Training is finished!')"
   ]
  },
  {
   "cell_type": "code",
   "execution_count": 55,
   "metadata": {},
   "outputs": [
    {
     "data": {
      "text/plain": [
       "<matplotlib.legend.Legend at 0x7fa6a43c9fd0>"
      ]
     },
     "execution_count": 55,
     "metadata": {},
     "output_type": "execute_result"
    },
    {
     "data": {
      "image/png": "[encoded data removed]",
      "text/plain": [
       "<Figure size 640x480 with 1 Axes>"
      ]
     },
     "metadata": {},
     "output_type": "display_data"
    }
   ],
   "source": [
    "import matplotlib.pyplot as plt\n",
    "\n",
    "plt.title('Loss history')\n",
    "plt.grid(True)\n",
    "plt.ylabel('Loss')\n",
    "plt.xlabel('Epoch')\n",
    "plt.plot(train_loss_history, label='train')\n",
    "plt.plot(test_loss_history, label='test')\n",
    "plt.legend()"
   ]
  },
  {
   "cell_type": "markdown",
   "metadata": {},
   "source": [
    "### GRU"
   ]
  },
  {
   "cell_type": "code",
   "execution_count": 56,
   "metadata": {},
   "outputs": [],
   "source": [
    "from torch import nn\n",
    "\n",
    "\n",
    "class GRUFixedLen(nn.Module) :\n",
    "    def __init__(self, vocab_size, embedding_dim=128, hidden_dim=128, use_last=True):\n",
    "        super().__init__()\n",
    "        self.use_last = use_last\n",
    "        self.embeddings = nn.Embedding(vocab_size, embedding_dim, padding_idx=0)\n",
    "        self.gru = nn.GRU(embedding_dim, hidden_dim, num_layers=2, batch_first=True, )\n",
    "        self.linear = nn.Linear(hidden_dim, 1)\n",
    "        self.dropout = nn.Dropout(0.2)\n",
    "        \n",
    "    def forward(self, x):\n",
    "        x = self.embeddings(x)\n",
    "        x = self.dropout(x)\n",
    "        gru_out, ht = self.gru(x)\n",
    "       \n",
    "        if self.use_last:\n",
    "            last_tensor = gru_out[:,-1,:]\n",
    "        else:\n",
    "            # use mean\n",
    "            last_tensor = torch.mean(gru_out[:,:], dim=1)\n",
    "    \n",
    "        out = self.linear(last_tensor)\n",
    "        return torch.sigmoid(out)"
   ]
  },
  {
   "cell_type": "code",
   "execution_count": 57,
   "metadata": {},
   "outputs": [],
   "source": [
    "gru_init = GRUFixedLen(max_words, 128, 20, use_last=False)\n",
    "optimizer = torch.optim.Adam(gru_init.parameters(), lr=0.001)\n",
    "criterion = nn.BCELoss()"
   ]
  },
  {
   "cell_type": "code",
   "execution_count": 58,
   "metadata": {},
   "outputs": [
    {
     "name": "stdout",
     "output_type": "stream",
     "text": [
      "GRUFixedLen(\n",
      "  (embeddings): Embedding(3000, 128, padding_idx=0)\n",
      "  (gru): GRU(128, 20, num_layers=2, batch_first=True)\n",
      "  (linear): Linear(in_features=20, out_features=1, bias=True)\n",
      "  (dropout): Dropout(p=0.2, inplace=False)\n",
      ")\n",
      "Parameters: 395541\n"
     ]
    }
   ],
   "source": [
    "print(gru_init)\n",
    "print(\"Parameters:\", sum([param.nelement() for param in gru_init.parameters()]))"
   ]
  },
  {
   "cell_type": "code",
   "execution_count": 59,
   "metadata": {},
   "outputs": [
    {
     "name": "stdout",
     "output_type": "stream",
     "text": [
      "Epoch [1/20]. Step [50/50]. Loss: 0.312. Acc: 0.899. Test loss: 0.293. Test acc: 0.929\n",
      "Epoch [2/20]. Step [50/50]. Loss: 0.279. Acc: 0.930. Test loss: 0.258. Test acc: 0.930\n",
      "Epoch [3/20]. Step [50/50]. Loss: 0.200. Acc: 0.935. Test loss: 0.247. Test acc: 0.938\n",
      "Epoch [4/20]. Step [50/50]. Loss: 0.174. Acc: 0.942. Test loss: 0.175. Test acc: 0.944\n",
      "Epoch [5/20]. Step [50/50]. Loss: 0.151. Acc: 0.948. Test loss: 0.115. Test acc: 0.947\n",
      "Epoch [6/20]. Step [50/50]. Loss: 0.152. Acc: 0.952. Test loss: 0.187. Test acc: 0.949\n",
      "Epoch [7/20]. Step [50/50]. Loss: 0.155. Acc: 0.956. Test loss: 0.143. Test acc: 0.950\n",
      "Epoch [8/20]. Step [50/50]. Loss: 0.095. Acc: 0.959. Test loss: 0.073. Test acc: 0.952\n",
      "Epoch [9/20]. Step [50/50]. Loss: 0.106. Acc: 0.961. Test loss: 0.136. Test acc: 0.952\n",
      "Epoch [10/20]. Step [50/50]. Loss: 0.107. Acc: 0.962. Test loss: 0.185. Test acc: 0.954\n",
      "Epoch [11/20]. Step [50/50]. Loss: 0.125. Acc: 0.964. Test loss: 0.195. Test acc: 0.954\n",
      "Epoch [12/20]. Step [50/50]. Loss: 0.107. Acc: 0.966. Test loss: 0.141. Test acc: 0.955\n",
      "Epoch [13/20]. Step [50/50]. Loss: 0.098. Acc: 0.967. Test loss: 0.133. Test acc: 0.955\n",
      "Epoch [14/20]. Step [50/50]. Loss: 0.097. Acc: 0.969. Test loss: 0.159. Test acc: 0.955\n",
      "Epoch [15/20]. Step [50/50]. Loss: 0.067. Acc: 0.969. Test loss: 0.110. Test acc: 0.954\n",
      "Epoch [16/20]. Step [50/50]. Loss: 0.081. Acc: 0.971. Test loss: 0.081. Test acc: 0.955\n",
      "Epoch [17/20]. Step [50/50]. Loss: 0.089. Acc: 0.971. Test loss: 0.089. Test acc: 0.955\n",
      "Epoch [18/20]. Step [50/50]. Loss: 0.102. Acc: 0.972. Test loss: 0.168. Test acc: 0.955\n",
      "Epoch [19/20]. Step [50/50]. Loss: 0.084. Acc: 0.972. Test loss: 0.157. Test acc: 0.955\n",
      "Epoch [20/20]. Step [50/50]. Loss: 0.082. Acc: 0.973. Test loss: 0.135. Test acc: 0.955\n",
      "Training is finished!\n"
     ]
    }
   ],
   "source": [
    "gru_init = gru_init.to(device)\n",
    "gru_init.train()\n",
    "th = 0.5\n",
    "\n",
    "train_loss_history = []\n",
    "test_loss_history = []\n",
    "\n",
    "\n",
    "for epoch in range(epochs): \n",
    "    gru_init.train() \n",
    "    running_items, running_right = 0.0, 0.0\n",
    "    for i, data in enumerate(train_loader, 0):\n",
    "        inputs, labels = data[0].to(device), data[1].to(device)\n",
    "\n",
    "        # обнуляем градиент\n",
    "        optimizer.zero_grad()\n",
    "        outputs = gru_init(inputs)\n",
    "        \n",
    "        loss = criterion(outputs, labels.float().view(-1, 1))\n",
    "        loss.backward()\n",
    "        optimizer.step()\n",
    "\n",
    "        # подсчет ошибки на обучении\n",
    "        loss = loss.item()\n",
    "        running_items += len(labels)\n",
    "        # подсчет метрики на обучении\n",
    "        pred_labels = torch.squeeze((outputs > th).int())\n",
    "        running_right += (labels == pred_labels).sum()\n",
    "        \n",
    "    # выводим статистику о процессе обучения\n",
    "    gru_init.eval()\n",
    "    \n",
    "    print(f'Epoch [{epoch + 1}/{epochs}]. ' \\\n",
    "          f'Step [{i + 1}/{len(train_loader)}]. ' \\\n",
    "          f'Loss: {loss:.3f}. ' \\\n",
    "          f'Acc: {running_right / running_items:.3f}', end='. ')\n",
    "    running_loss, running_items, running_right = 0.0, 0.0, 0.0\n",
    "    train_loss_history.append(loss)\n",
    "\n",
    "    # выводим статистику на тестовых данных\n",
    "    test_running_right, test_running_total, test_loss = 0.0, 0.0, 0.0\n",
    "    for j, data in enumerate(test_loader):\n",
    "        test_labels = data[1].to(device)\n",
    "        test_outputs = gru_init(data[0].to(device))\n",
    "        \n",
    "        # подсчет ошибки на тесте\n",
    "        test_loss = criterion(test_outputs, test_labels.float().view(-1, 1))\n",
    "        # подсчет метрики на тесте\n",
    "        test_running_total += len(data[1])\n",
    "        pred_test_labels = torch.squeeze((test_outputs > th).int())\n",
    "        test_running_right += (test_labels == pred_test_labels).sum()\n",
    "    \n",
    "    test_loss_history.append(test_loss.item())\n",
    "    print(f'Test loss: {test_loss:.3f}. Test acc: {test_running_right / test_running_total:.3f}')\n",
    "            \n",
    "print('Training is finished!')"
   ]
  },
  {
   "cell_type": "code",
   "execution_count": 60,
   "metadata": {},
   "outputs": [
    {
     "data": {
      "text/plain": [
       "<matplotlib.legend.Legend at 0x7fa6a4427e50>"
      ]
     },
     "execution_count": 60,
     "metadata": {},
     "output_type": "execute_result"
    },
    {
     "data": {
      "image/png": "[encoded data removed]",
      "text/plain": [
       "<Figure size 640x480 with 1 Axes>"
      ]
     },
     "metadata": {},
     "output_type": "display_data"
    }
   ],
   "source": [
    "import matplotlib.pyplot as plt\n",
    "\n",
    "plt.title('Loss history')\n",
    "plt.grid(True)\n",
    "plt.ylabel('Loss')\n",
    "plt.xlabel('Epoch')\n",
    "plt.plot(train_loss_history, label='train')\n",
    "plt.plot(test_loss_history, label='test')\n",
    "plt.legend()"
   ]
  },
  {
   "cell_type": "markdown",
   "metadata": {},
   "source": [
    "### LSTM bidirectional"
   ]
  },
  {
   "cell_type": "code",
   "execution_count": 66,
   "metadata": {},
   "outputs": [],
   "source": [
    "from torch import nn\n",
    "    \n",
    "class LSTMFixedLen(nn.Module):\n",
    "    def __init__(self, vocab_size, embedding_dim=128, hidden_dim=128, use_last=True):\n",
    "        super().__init__()\n",
    "        self.use_last = use_last\n",
    "        self.embeddings = nn.Embedding(vocab_size, embedding_dim, padding_idx=0)\n",
    "        self.lstm = nn.LSTM(embedding_dim, hidden_dim, num_layers=2, batch_first=True, bidirectional=True)\n",
    "        self.linear = nn.Linear(hidden_dim * 2, 1)  # Удваиваем размерность скрытого слоя из-за двунаправленности\n",
    "        self.dropout = nn.Dropout(0.2)\n",
    "\n",
    "    def forward(self, x):\n",
    "        x = self.embeddings(x)\n",
    "        x = self.dropout(x)\n",
    "        lstm_out, (ht, _) = self.lstm(x)\n",
    "\n",
    "        if self.use_last:\n",
    "            last_tensor = torch.cat((ht[-2, :, :], ht[-1, :, :]), dim=1)  # Конкатенируем два последних скрытых состояния\n",
    "        else:\n",
    "            # use mean\n",
    "            last_tensor = torch.mean(lstm_out[:, :, :], dim=1)\n",
    "\n",
    "        out = self.linear(last_tensor)\n",
    "        return torch.sigmoid(out)\n"
   ]
  },
  {
   "cell_type": "code",
   "execution_count": 67,
   "metadata": {},
   "outputs": [],
   "source": [
    "lstm_init = LSTMFixedLen(max_words, 128, 20, use_last=False)\n",
    "optimizer = torch.optim.Adam(lstm_init.parameters(), lr=0.001)\n",
    "criterion = nn.BCELoss()"
   ]
  },
  {
   "cell_type": "code",
   "execution_count": 68,
   "metadata": {},
   "outputs": [
    {
     "name": "stdout",
     "output_type": "stream",
     "text": [
      "LSTMFixedLen(\n",
      "  (embeddings): Embedding(3000, 128, padding_idx=0)\n",
      "  (lstm): LSTM(128, 20, num_layers=2, batch_first=True, bidirectional=True)\n",
      "  (linear): Linear(in_features=40, out_features=1, bias=True)\n",
      "  (dropout): Dropout(p=0.2, inplace=False)\n",
      ")\n",
      "Parameters: 417961\n"
     ]
    }
   ],
   "source": [
    "print(lstm_init)\n",
    "print(\"Parameters:\", sum([param.nelement() for param in lstm_init.parameters()]))"
   ]
  },
  {
   "cell_type": "code",
   "execution_count": 69,
   "metadata": {},
   "outputs": [
    {
     "name": "stdout",
     "output_type": "stream",
     "text": [
      "Epoch [1/20]. Step [50/50]. Loss: 0.212. Acc: 0.744. Test loss: 0.281. Test acc: 0.929\n",
      "Epoch [2/20]. Step [50/50]. Loss: 0.316. Acc: 0.930. Test loss: 0.263. Test acc: 0.929\n",
      "Epoch [3/20]. Step [50/50]. Loss: 0.191. Acc: 0.931. Test loss: 0.132. Test acc: 0.935\n",
      "Epoch [4/20]. Step [50/50]. Loss: 0.129. Acc: 0.939. Test loss: 0.155. Test acc: 0.943\n",
      "Epoch [5/20]. Step [50/50]. Loss: 0.115. Acc: 0.947. Test loss: 0.134. Test acc: 0.949\n",
      "Epoch [6/20]. Step [50/50]. Loss: 0.110. Acc: 0.953. Test loss: 0.151. Test acc: 0.952\n",
      "Epoch [7/20]. Step [50/50]. Loss: 0.128. Acc: 0.957. Test loss: 0.194. Test acc: 0.953\n",
      "Epoch [8/20]. Step [50/50]. Loss: 0.094. Acc: 0.962. Test loss: 0.176. Test acc: 0.953\n",
      "Epoch [9/20]. Step [50/50]. Loss: 0.111. Acc: 0.964. Test loss: 0.166. Test acc: 0.952\n",
      "Epoch [10/20]. Step [50/50]. Loss: 0.086. Acc: 0.965. Test loss: 0.176. Test acc: 0.956\n",
      "Epoch [11/20]. Step [50/50]. Loss: 0.084. Acc: 0.969. Test loss: 0.147. Test acc: 0.956\n",
      "Epoch [12/20]. Step [50/50]. Loss: 0.079. Acc: 0.972. Test loss: 0.101. Test acc: 0.957\n",
      "Epoch [13/20]. Step [50/50]. Loss: 0.086. Acc: 0.973. Test loss: 0.202. Test acc: 0.956\n",
      "Epoch [14/20]. Step [50/50]. Loss: 0.077. Acc: 0.975. Test loss: 0.132. Test acc: 0.953\n",
      "Epoch [15/20]. Step [50/50]. Loss: 0.065. Acc: 0.976. Test loss: 0.164. Test acc: 0.954\n",
      "Epoch [16/20]. Step [50/50]. Loss: 0.037. Acc: 0.977. Test loss: 0.191. Test acc: 0.956\n",
      "Epoch [17/20]. Step [50/50]. Loss: 0.051. Acc: 0.979. Test loss: 0.156. Test acc: 0.957\n",
      "Epoch [18/20]. Step [50/50]. Loss: 0.072. Acc: 0.981. Test loss: 0.109. Test acc: 0.956\n",
      "Epoch [19/20]. Step [50/50]. Loss: 0.044. Acc: 0.981. Test loss: 0.123. Test acc: 0.957\n",
      "Epoch [20/20]. Step [50/50]. Loss: 0.066. Acc: 0.981. Test loss: 0.186. Test acc: 0.956\n",
      "Training is finished!\n"
     ]
    }
   ],
   "source": [
    "lstm_init = lstm_init.to(device)\n",
    "lstm_init.train()\n",
    "th = 0.5\n",
    "\n",
    "train_loss_history = []\n",
    "test_loss_history = []\n",
    "\n",
    "\n",
    "for epoch in range(epochs):  \n",
    "    lstm_init.train()\n",
    "    running_items, running_right = 0.0, 0.0\n",
    "    for i, data in enumerate(train_loader, 0):\n",
    "        inputs, labels = data[0].to(device), data[1].to(device)\n",
    "\n",
    "        # обнуляем градиент\n",
    "        optimizer.zero_grad()\n",
    "        outputs = lstm_init(inputs)\n",
    "        \n",
    "        loss = criterion(outputs, labels.float().view(-1, 1))\n",
    "        loss.backward()\n",
    "        optimizer.step()\n",
    "\n",
    "        # подсчет ошибки на обучении\n",
    "        loss = loss.item()\n",
    "        running_items += len(labels)\n",
    "        # подсчет метрики на обучении\n",
    "        pred_labels = torch.squeeze((outputs > th).int())\n",
    "        running_right += (labels == pred_labels).sum()\n",
    "        \n",
    "    # выводим статистику о процессе обучения\n",
    "    lstm_init.eval()\n",
    "    \n",
    "    print(f'Epoch [{epoch + 1}/{epochs}]. ' \\\n",
    "            f'Step [{i + 1}/{len(train_loader)}]. ' \\\n",
    "            f'Loss: {loss:.3f}. ' \\\n",
    "            f'Acc: {running_right / running_items:.3f}', end='. ')\n",
    "    running_loss, running_items, running_right = 0.0, 0.0, 0.0\n",
    "    train_loss_history.append(loss)\n",
    "\n",
    "    # выводим статистику на тестовых данных\n",
    "    test_running_right, test_running_total, test_loss = 0.0, 0.0, 0.0\n",
    "    for j, data in enumerate(test_loader):\n",
    "        test_labels = data[1].to(device)\n",
    "        test_outputs = lstm_init(data[0].to(device))\n",
    "        \n",
    "        # подсчет ошибки на тесте\n",
    "        test_loss = criterion(test_outputs, test_labels.float().view(-1, 1))\n",
    "        # подсчет метрики на тесте\n",
    "        test_running_total += len(data[1])\n",
    "        pred_test_labels = torch.squeeze((test_outputs > th).int())\n",
    "        test_running_right += (test_labels == pred_test_labels).sum()\n",
    "    \n",
    "    test_loss_history.append(test_loss.item())\n",
    "    print(f'Test loss: {test_loss:.3f}. Test acc: {test_running_right / test_running_total:.3f}')\n",
    "        \n",
    "print('Training is finished!')"
   ]
  },
  {
   "cell_type": "code",
   "execution_count": 70,
   "metadata": {},
   "outputs": [
    {
     "data": {
      "image/png": "[encoded data removed]",
      "text/plain": [
       "<Figure size 640x480 with 1 Axes>"
      ]
     },
     "metadata": {},
     "output_type": "display_data"
    }
   ],
   "source": [
    "import matplotlib.pyplot as plt\n",
    "\n",
    "plt.title('Loss history')\n",
    "plt.grid(True)\n",
    "plt.ylabel('Loss')\n",
    "plt.xlabel('Epoch')\n",
    "plt.plot(train_loss_history, label='train')\n",
    "plt.plot(test_loss_history, label='test')\n",
    "plt.legend();"
   ]
  },
  {
   "cell_type": "markdown",
   "metadata": {},
   "source": [
    "### ВЫВОДЫ:\n",
    "\n",
    "#### для улучшения результата попробовали внести двунаправленность в сеть LSTM, но качество сети от этого не сильно изменилось\n",
    "\n",
    "#### для улучшения результата увеличели количество топовых слов с 2000 до 3000, при этом сократили длину сообщения с 20 до 10 слов. Поработали над балансировкой классов, так как наблюдался большой дисбаланс, подавая взвешенный сэмплер для каждого валидационного набора данных"
   ]
  },
  {
   "cell_type": "code",
   "execution_count": null,
   "metadata": {},
   "outputs": [],
   "source": []
  }
 ],
 "metadata": {
  "accelerator": "GPU",
  "colab": {
   "provenance": [],
   "toc_visible": true
  },
  "kernelspec": {
   "display_name": "Python 3 (ipykernel)",
   "language": "python",
   "name": "python3"
  },
  "language_info": {
   "codemirror_mode": {
    "name": "ipython",
    "version": 3
   },
   "file_extension": ".py",
   "mimetype": "text/x-python",
   "name": "python",
   "nbconvert_exporter": "python",
   "pygments_lexer": "ipython3",
   "version": "3.8.16"
  }
 },
 "nbformat": 4,
 "nbformat_minor": 1
}
