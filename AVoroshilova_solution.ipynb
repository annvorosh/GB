{
 "cells": [
  {
   "cell_type": "markdown",
   "id": "c13a6d9b",
   "metadata": {},
   "source": [
    "## <center>Практическая часть<a class=\"anchor\" id=\"practice\"></a><center>"
   ]
  },
  {
   "cell_type": "markdown",
   "id": "16817f57",
   "metadata": {
    "id": "IPCMhjF1YMiX"
   },
   "source": [
    "### Постановка задачи<a class=\"anchor\" id=\"task\"></a>"
   ]
  },
  {
   "cell_type": "markdown",
   "id": "f012a39b",
   "metadata": {
    "id": "ekMI4-DAYMij"
   },
   "source": [
    "**Задача**\n",
    "\n",
    "На основании имеющихся данных о клиентах банка требуется построить модель для прогнозирования невыполнения долговых обязательств по текущему кредиту, используя обучающий датасет. Выполнить прогноз для примеров из тестового датасета.\n",
    "\n",
    "**Наименование файлов с данными**\n",
    "\n",
    "course_project_train.csv - обучающий датасет<br>\n",
    "course_project_test.csv - тестовый датасет\n",
    "\n",
    "**Целевая переменная**\n",
    "\n",
    "Credit Default - факт невыполнения кредитных обязательств\n",
    "\n",
    "**Метрика качества**\n",
    "\n",
    "F1-score (sklearn.metrics.f1_score)\n",
    "\n",
    "**Требования к решению**\n",
    "\n",
    "*Целевая метрика*\n",
    "* F1($\\beta$ = 1) > 0.5 при Precision > 0.5 и Recall > 0.5\n",
    "* Метрика оценивается по качеству прогноза для главного класса (1 - просрочка по кредиту)\n",
    "\n",
    "*Решение должно содержать*\n",
    "1. Тетрадка Jupyter Notebook с кодом Вашего решения, названная по образцу {ФИО}\\_solution.ipynb, пример SShirkin\\_solution.ipynb\n",
    "2. Файл CSV с прогнозами целевой переменной для тестового датасета, названный по образцу {ФИО}\\_predictions.csv, пример SShirkin\\_predictions.csv\n",
    "\n",
    "*Рекомендации для файла с кодом (ipynb)*\n",
    "1. Файл должен содержать заголовки и комментарии (markdown)\n",
    "2. Повторяющиеся операции лучше оформлять в виде функций\n",
    "3. Не делать вывод большого количества строк таблиц (5-10 достаточно)\n",
    "4. По возможности добавлять графики, описывающие данные (около 3-5)\n",
    "5. Добавлять только лучшую модель, то есть не включать в код все варианты решения проекта\n",
    "6. Скрипт проекта должен отрабатывать от начала и до конца (от загрузки данных до выгрузки предсказаний)\n",
    "7. Весь проект должен быть в одном скрипте (файл ipynb).\n",
    "8. Допускается применение библиотек Python и моделей машинного обучения,\n",
    "которые были в данном курсе.\n"
   ]
  },
  {
   "cell_type": "markdown",
   "id": "94e5f135",
   "metadata": {
    "id": "qrF8sNGZYMiX"
   },
   "source": [
    "### Примерное описание этапов выполнения курсового проекта<a class=\"anchor\" id=\"course_project_steps\"></a>"
   ]
  },
  {
   "cell_type": "markdown",
   "id": "f98d44ea",
   "metadata": {},
   "source": [
    "**Построение модели классификации**\n",
    "1. Обзор обучающего датасета +\n",
    "2. Обработка пропусков +\n",
    "3. Обработка выбросов +\n",
    "4. Анализ данных +\n",
    "5. Отбор признаков \n",
    "6. Балансировка классов \n",
    "7. Подбор моделей, получение бейзлана\n",
    "8. Выбор наилучшей модели, настройка гиперпараметров\n",
    "9. Проверка качества, борьба с переобучением\n",
    "10. Интерпретация результатов\n",
    "\n",
    "**Прогнозирование на тестовом датасете**\n",
    "1. Выполнить для тестового датасета те же этапы обработки и постронияния признаков\n",
    "2. Спрогнозировать целевую переменную, используя модель, построенную на обучающем датасете\n",
    "3. Прогнозы должны быть для всех примеров из тестового датасета (для всех строк)\n",
    "4. Соблюдать исходный порядок примеров из тестового датасета"
   ]
  },
  {
   "cell_type": "code",
   "execution_count": null,
   "id": "8286e729",
   "metadata": {},
   "outputs": [],
   "source": []
  },
  {
   "cell_type": "markdown",
   "id": "b2351f78",
   "metadata": {
    "id": "Pk5AngLmYMiY"
   },
   "source": [
    "**Описание датасета**\n",
    "\n",
    "* **Home Ownership** - домовладение\n",
    "* **Annual Income** - годовой доход\n",
    "* **Years in current job** - количество лет на текущем месте работы\n",
    "* **Tax Liens** - налоговые обременения\n",
    "* **Number of Open Accounts** - количество открытых счетов\n",
    "* **Years of Credit History** - количество лет кредитной истории\n",
    "* **Maximum Open Credit** - наибольший открытый кредит\n",
    "* **Number of Credit Problems** - количество проблем с кредитом\n",
    "* **Months since last delinquent** - количество месяцев с последней просрочки платежа\n",
    "* **Bankruptcies** - банкротства\n",
    "* **Purpose** - цель кредита\n",
    "* **Term** - срок кредита\n",
    "* **Current Loan Amount** - текущая сумма кредита\n",
    "* **Current Credit Balance** - текущий кредитный баланс\n",
    "* **Monthly Debt** - ежемесячный долг\n",
    "* **Credit Score** - кредитный рейтинг\n",
    "* **Credit Default** - факт невыполнения кредитных обязательств (0 - погашен вовремя, 1 - просрочка)"
   ]
  },
  {
   "cell_type": "markdown",
   "id": "dd76d5f2",
   "metadata": {
    "id": "M7FwHwiXYMiY"
   },
   "source": [
    "**Подключение библиотек и скриптов**"
   ]
  },
  {
   "cell_type": "code",
   "execution_count": 371,
   "id": "5e08aed1",
   "metadata": {},
   "outputs": [],
   "source": [
    "import numpy as np\n",
    "import pandas as pd\n",
    "\n",
    "import seaborn as sns\n",
    "import matplotlib.pyplot as plt\n",
    "\n",
    "from scipy import stats\n",
    "\n",
    "# Нормализация данных\n",
    "from sklearn.preprocessing import StandardScaler\n",
    "\n",
    "# Балансировка целевой переменной\n",
    "# !pip install imblearn\n",
    "from imblearn.over_sampling import RandomOverSampler\n",
    "from imblearn.under_sampling import RandomUnderSampler\n",
    "\n",
    "# Индикатор пропущенных значений\n",
    "from sklearn.impute import MissingIndicator \n",
    "\n",
    "# алгоритм заполнения пропусков по К-ближайшим соседям \n",
    "from sklearn.impute import KNNImputer\n",
    "\n",
    "from scipy.stats import shapiro, probplot, mannwhitneyu\n",
    "\n",
    "from sklearn.model_selection import train_test_split, ShuffleSplit, cross_val_score, learning_curve\n",
    "from sklearn.model_selection import KFold, GridSearchCV, RandomizedSearchCV\n",
    "from sklearn.metrics import classification_report, f1_score, precision_score, recall_score\n",
    "\n",
    "from sklearn.linear_model import LogisticRegression\n",
    "from sklearn.neighbors import KNeighborsClassifier\n",
    "import xgboost as xgb \n",
    "import catboost as catb\n",
    "\n",
    "# import lightgbm as lgbm"
   ]
  },
  {
   "cell_type": "code",
   "execution_count": 372,
   "id": "d46ec814",
   "metadata": {},
   "outputs": [],
   "source": [
    "import warnings\n",
    "warnings.simplefilter('ignore')"
   ]
  },
  {
   "cell_type": "markdown",
   "id": "641fcdbf",
   "metadata": {},
   "source": [
    "**Пути к директориям и файлам**"
   ]
  },
  {
   "cell_type": "code",
   "execution_count": 373,
   "id": "f230cf4c",
   "metadata": {},
   "outputs": [],
   "source": [
    "#input\n",
    "DATASET_PATH = 'course_project/course_project_train.csv'\n",
    "\n",
    "#output\n",
    "PREP_DATASET_PATH = 'course_project/course_project_test.csv'\n"
   ]
  },
  {
   "cell_type": "markdown",
   "id": "0852c3ff",
   "metadata": {},
   "source": [
    "### Функции"
   ]
  },
  {
   "cell_type": "code",
   "execution_count": 374,
   "id": "8ca16167",
   "metadata": {},
   "outputs": [],
   "source": [
    "\n",
    "# Балансировка классов\n",
    "\n",
    "def balance_df_by_target(data, target_name, method):\n",
    "    \n",
    "    assert method in ['RandomOverSampler',  # OverSampling\n",
    "                      'RandomUnderSampler'] # UnderSampling\n",
    "                \n",
    "    target_counts = data[target_name].value_counts()\n",
    "\n",
    "    major_class_name = target_counts.argmax()\n",
    "    minor_class_name = target_counts.argmin()\n",
    "\n",
    "    disbalance_coeff = int(target_counts[major_class_name] / target_counts[minor_class_name]) - 1\n",
    "    \n",
    "    if method == 'RandomOverSampler':\n",
    "        X_RandomOverSampler, y_RandomOverSampler = RandomOverSampler().fit_sample(data.drop(columns=target_name), \n",
    "                                                                                  data[target_name])\n",
    "        data = pd.concat([X_RandomOverSampler, y_RandomOverSampler], axis=1)\n",
    "\n",
    "    elif method == 'RandomUnderSampler':\n",
    "        X_RandomUnderSampler, y_RandomUnderSampler = RandomUnderSampler().fit_sample(data.drop(columns=target_name), \n",
    "                                                                                     data[target_name])\n",
    "        data = pd.concat([X_RandomUnderSampler, y_RandomUnderSampler], axis=1)\n",
    "\n",
    "    return data.sample(frac=1) \n",
    "    "
   ]
  },
  {
   "cell_type": "code",
   "execution_count": 375,
   "id": "77c167a6",
   "metadata": {},
   "outputs": [],
   "source": [
    "def get_classification_report(y_train_true, y_train_pred, y_test_true, y_test_pred):\n",
    "    print('TRAIN\\n\\n' + classification_report(y_train_true, y_train_pred))\n",
    "    print('TEST\\n\\n' + classification_report(y_test_true, y_test_pred))\n",
    "    print('CONFUSION MATRIX\\n')\n",
    "    print(pd.crosstab(y_test_true, y_test_pred))"
   ]
  },
  {
   "cell_type": "code",
   "execution_count": 376,
   "id": "a30f1b6e",
   "metadata": {},
   "outputs": [],
   "source": [
    "def transform(data):\n",
    "    \n",
    "    for colname in CAT_FEATURE_NAMES:\n",
    "        data[colname] = data[colname].astype(str)\n",
    "        \n",
    "    # Объединим наличие кредитов на ипотеку и дом в ипотеке.    \n",
    "    data.loc[data['Home Ownership'] == 'Have Mortgage', 'Home Ownership'] = 'Home Mortgage'\n",
    "    \n",
    "    # Объединим схожие цели кредитов.\n",
    "    # путешествия и отдых\n",
    "    data.loc[data['Purpose'] == 'vacation', 'Purpose'] = 'take a trip' \n",
    "    # малый бизнес и заем на бизнес\n",
    "    data.loc[data['Purpose'] == 'small business', 'Purpose'] = 'business loan'\n",
    "    # возобновляемая энергия и прочее\n",
    "    data.loc[data['Purpose'] == 'renewable energy', 'Purpose'] = 'other'\n",
    "    \n",
    "    # корректировка значений для перевода в некатегориальный признак\n",
    "    dict_years_in_current_job = {'nan': np.NaN, \n",
    "                             '< 1 year': 0.5,\n",
    "                             '1 year': 1,\n",
    "                             '2 years': 2,\n",
    "                             '3 years': 3,\n",
    "                             '4 years': 4,\n",
    "                             '5 years': 5,\n",
    "                             '6 years': 6,\n",
    "                             '7 years': 7,\n",
    "                             '8 years': 8,\n",
    "                             '9 years': 9,\n",
    "                             '10+ years': 10}\n",
    "    data['Years in current job'].replace(dict_years_in_current_job, inplace=True)\n",
    "    \n",
    "    # добавим индикатор к пропущенным значениям\n",
    "    mi = MissingIndicator()\n",
    "    mi.fit_transform(data)\n",
    "    \n",
    "    # Введем новую фичу 'Annual Income Unknown' (годовой доход известный - 0, годовой доход неизвестный - 1)\n",
    "    data['Annual Income Unknown'] = 0\n",
    "    data.loc[(data['Annual Income'].isnull()), 'Annual Income Unknown'] = 1\n",
    "    \n",
    "    # Введем новую фичу 'Bad Background' (0 - проблем не было, 1 - небольшие проблемы, 2 - проблемы и банкротства)\n",
    "    data['Bad Background'] = True\n",
    "    data.loc[data['Number of Credit Problems'] > 0 , 'Bad Background'] = 1\n",
    "    data.loc[data['Bankruptcies'] > 0 , 'Bad Background'] = 2\n",
    "    data.loc[data['Number of Credit Problems'] == 0, 'Bad Background'] = 0\n",
    "    data['Bad Background'] = data['Bad Background'].astype(np.int8)\n",
    "    \n",
    "    # Унитарное кодирование (One Hot Encoding) преобразовываем значение каждой категории в новый столбец и \n",
    "    # присваиваем столбцу значение 1 или 0 (Истина / Ложь).\n",
    "    for cat_colname in data.select_dtypes(include='object').columns[1:]:\n",
    "        data = pd.concat([data, pd.get_dummies(data[cat_colname], prefix=cat_colname)], axis=1)\n",
    "    \n",
    "    # ПРОПУСКИ\n",
    "    # заполняем пропуски 0 нулем, так как мы стараемся минимизировать риски при выдаче кредитов\n",
    "    data['Years in current job'].fillna(0, inplace=True) \n",
    "    \n",
    "    # Заполняем nan-месяцев просрочки нулями, так как полагаем, что у этих объектов просрочек не было.\n",
    "    data.loc[:, 'Months since last delinquent'].fillna(0, inplace=True) \n",
    "    \n",
    "    # Пропуски банкротств заполняем модой или 0, а все банкротства более 1 меняем на 2 для упрощения данны\n",
    "    bankruptcies_mode = int(data['Bankruptcies'].mode())\n",
    "    data.loc[:, 'Bankruptcies'].fillna(bankruptcies_mode, inplace=True)\n",
    "    data.loc[data['Bankruptcies'] > 1, 'Bankruptcies'] = 2\n",
    "    \n",
    "    # Заполняем пропуски доходов на основе к-ближайших соседей\n",
    "    knn = KNNImputer(n_neighbors=3) # ориентируемся на трех ближайших соседей\n",
    "    # 'Annual Income'\n",
    "    knn.fit(data[['Annual Income', 'Current Credit Balance', 'Monthly Debt', 'Current Loan Amount']])\n",
    "    data1 = knn.transform(data[['Annual Income', 'Current Credit Balance', 'Monthly Debt', 'Current Loan Amount']])\n",
    "    data[['Annual Income', 'Current Credit Balance', 'Monthly Debt', 'Current Loan Amount']] = data1\n",
    "    # 'Credit score'\n",
    "    knn.fit(data[['Credit Score', 'Current Loan Amount', 'Annual Income', 'Term_Long Term']])\n",
    "    data2 = knn.transform(data[['Credit Score', 'Current Loan Amount', 'Annual Income', 'Term_Long Term']])\n",
    "    data[['Credit Score', 'Current Loan Amount', 'Annual Income', 'Term_Long Term']] = data2\n",
    "    \n",
    "    # ВЫБРОСЫ\n",
    "    Maximum_Open_Credit_max_value = np.quantile(data['Maximum Open Credit'], q = 0.95)\n",
    "    data.loc[(data['Maximum Open Credit'] > Maximum_Open_Credit_max_value), 'Maximum Open Credit'] = Maximum_Open_Credit_max_value\n",
    "    \n",
    "    Months_since_last_delinquent_max_value = np.quantile(data['Months since last delinquent'], q = 0.99)\n",
    "    data.loc[(data['Months since last delinquent'] > Months_since_last_delinquent_max_value), 'Months since last delinquent'] = Months_since_last_delinquent_max_value\n",
    "    \n",
    "    data['Current Loan Amount Out'] = (data['Current Loan Amount'] == 99999999.0) # дополнительно вводим новый признак \n",
    "    Current_Loan_Amount_max_value = np.quantile(data['Current Loan Amount'], q = 0.95) # (q = 0.95) = 99999999.0\n",
    "    Current_Loan_Amount_q75_value = np.quantile(data['Current Loan Amount'], q = 0.75)\n",
    "    data.loc[(data['Current Loan Amount'] >= Current_Loan_Amount_max_value), 'Current Loan Amount'] = Current_Loan_Amount_q75_value\n",
    "    \n",
    "    # Нормализация данных\n",
    "    scaler = StandardScaler()\n",
    "    df_norm = data.copy()\n",
    "    df_norm[NUM_FEATURE_NAMES] = scaler.fit_transform(df_norm[NUM_FEATURE_NAMES])\n",
    "    data = df_norm.copy()\n",
    "    \n",
    "    return data\n",
    "\n"
   ]
  },
  {
   "cell_type": "code",
   "execution_count": null,
   "id": "de55b555",
   "metadata": {},
   "outputs": [],
   "source": [
    "\n"
   ]
  },
  {
   "cell_type": "code",
   "execution_count": 377,
   "id": "a2e5ce2e",
   "metadata": {},
   "outputs": [],
   "source": [
    "def show_learning_curve_plot(estimator, X, y, cv=3, n_jobs=-1, train_sizes=np.linspace(.1, 1.0, 5)):\n",
    "\n",
    "    train_sizes, train_scores, test_scores = learning_curve(estimator, X, y, \n",
    "                                                            cv=cv, \n",
    "                                                            scoring='f1',\n",
    "                                                            train_sizes=train_sizes, \n",
    "                                                            n_jobs=n_jobs)\n",
    "    train_scores_mean = np.mean(train_scores, axis=1)\n",
    "    train_scores_std = np.std(train_scores, axis=1)\n",
    "    test_scores_mean = np.mean(test_scores, axis=1)\n",
    "    test_scores_std = np.std(test_scores, axis=1)\n",
    "\n",
    "    plt.figure(figsize=(15,8))\n",
    "    plt.fill_between(train_sizes, train_scores_mean - train_scores_std,\n",
    "                     train_scores_mean + train_scores_std, alpha=0.1, color=\"r\")\n",
    "    plt.fill_between(train_sizes, test_scores_mean - test_scores_std,\n",
    "                     test_scores_mean + test_scores_std, alpha=0.1, color=\"g\")\n",
    "    plt.plot(train_sizes, train_scores_mean, 'o-', color=\"r\",\n",
    "             label=\"Training score\")\n",
    "    plt.plot(train_sizes, test_scores_mean, 'o-', color=\"g\",\n",
    "             label=\"Cross-validation score\")\n",
    "\n",
    "    plt.title(f\"Learning curves ({type(estimator).__name__})\")\n",
    "    plt.xlabel(\"Training examples\")\n",
    "    plt.ylabel(\"Score\")     \n",
    "    plt.legend(loc=\"best\")\n",
    "    plt.grid()\n",
    "    plt.show()"
   ]
  },
  {
   "cell_type": "code",
   "execution_count": 378,
   "id": "b53d3445",
   "metadata": {},
   "outputs": [],
   "source": [
    "def show_feature_importances(feature_names, feature_importances, get_top=None):\n",
    "    feature_importances = pd.DataFrame({'feature': feature_names, 'importance': feature_importances})\n",
    "    feature_importances = feature_importances.sort_values('importance', ascending=False)\n",
    "       \n",
    "    plt.figure(figsize = (20, len(feature_importances) * 0.355))\n",
    "    \n",
    "    sns.barplot(feature_importances['importance'], feature_importances['feature'])\n",
    "    \n",
    "    plt.xlabel('Importance')\n",
    "    plt.title('Importance of features')\n",
    "    plt.show()\n",
    "    \n",
    "    if get_top is not None:\n",
    "        return feature_importances['feature'][:get_top].tolist()"
   ]
  },
  {
   "cell_type": "markdown",
   "id": "ba4ee9af",
   "metadata": {},
   "source": [
    "### 1. Обзор обучающего датасета\n",
    "#### Загрузка данных<a class=\"anchor\" id=\"load_data\"></a>"
   ]
  },
  {
   "cell_type": "code",
   "execution_count": 379,
   "id": "86389bd6",
   "metadata": {},
   "outputs": [],
   "source": [
    "# df = pd.read_csv('/kaggle/input/654pds2courseproject/course_project_train.csv')\n",
    "# df_test = pd.read_csv('/kaggle/input/654pds2courseproject/course_project_test.csv')\n",
    "\n",
    "df_train = pd.read_csv(DATASET_PATH)\n",
    "df_test = pd.read_csv(PREP_DATASET_PATH)"
   ]
  },
  {
   "cell_type": "code",
   "execution_count": 380,
   "id": "b257d513",
   "metadata": {
    "scrolled": true
   },
   "outputs": [
    {
     "data": {
      "text/plain": [
       "Index(['Home Ownership', 'Annual Income', 'Years in current job', 'Tax Liens',\n",
       "       'Number of Open Accounts', 'Years of Credit History',\n",
       "       'Maximum Open Credit', 'Number of Credit Problems',\n",
       "       'Months since last delinquent', 'Bankruptcies', 'Purpose', 'Term',\n",
       "       'Current Loan Amount', 'Current Credit Balance', 'Monthly Debt',\n",
       "       'Credit Score', 'Credit Default'],\n",
       "      dtype='object')"
      ]
     },
     "execution_count": 380,
     "metadata": {},
     "output_type": "execute_result"
    }
   ],
   "source": [
    "df = df_train.copy()\n",
    "df.columns"
   ]
  },
  {
   "cell_type": "code",
   "execution_count": 381,
   "id": "ca85d0ad",
   "metadata": {},
   "outputs": [],
   "source": [
    "TARGET_NAME = 'Credit Default'\n",
    "\n",
    "BASE_FEATURE_NAMES = df.columns.drop(TARGET_NAME).tolist()\n",
    "\n",
    "NUM_FEATURE_NAMES = ['Annual Income', #'Years in current job', \n",
    "                      'Tax Liens', 'Number of Open Accounts', 'Years of Credit History', 'Maximum Open Credit', \n",
    "                      'Number of Credit Problems', 'Months since last delinquent', 'Bankruptcies', \n",
    "                      'Current Loan Amount', 'Current Credit Balance', 'Monthly Debt', 'Credit Score']\n",
    "\n",
    "CAT_FEATURE_NAMES = ['Home Ownership','Purpose','Term']"
   ]
  },
  {
   "cell_type": "code",
   "execution_count": 382,
   "id": "d9da8d47",
   "metadata": {},
   "outputs": [],
   "source": [
    "for colname in CAT_FEATURE_NAMES:\n",
    "    df[colname] = df[colname].astype(str)\n",
    "    "
   ]
  },
  {
   "cell_type": "code",
   "execution_count": 383,
   "id": "f3bbf219",
   "metadata": {},
   "outputs": [
    {
     "data": {
      "text/plain": [
       "(7500, 17)"
      ]
     },
     "execution_count": 383,
     "metadata": {},
     "output_type": "execute_result"
    }
   ],
   "source": [
    "df.shape"
   ]
  },
  {
   "cell_type": "code",
   "execution_count": 384,
   "id": "9de5f29a",
   "metadata": {},
   "outputs": [
    {
     "data": {
      "text/html": [
       "<div>\n",
       "<style scoped>\n",
       "    .dataframe tbody tr th:only-of-type {\n",
       "        vertical-align: middle;\n",
       "    }\n",
       "\n",
       "    .dataframe tbody tr th {\n",
       "        vertical-align: top;\n",
       "    }\n",
       "\n",
       "    .dataframe thead th {\n",
       "        text-align: right;\n",
       "    }\n",
       "</style>\n",
       "<table border=\"1\" class=\"dataframe\">\n",
       "  <thead>\n",
       "    <tr style=\"text-align: right;\">\n",
       "      <th></th>\n",
       "      <th>0</th>\n",
       "      <th>1</th>\n",
       "      <th>2</th>\n",
       "      <th>3</th>\n",
       "      <th>4</th>\n",
       "      <th>5</th>\n",
       "      <th>6</th>\n",
       "    </tr>\n",
       "  </thead>\n",
       "  <tbody>\n",
       "    <tr>\n",
       "      <th>Home Ownership</th>\n",
       "      <td>Own Home</td>\n",
       "      <td>Own Home</td>\n",
       "      <td>Home Mortgage</td>\n",
       "      <td>Own Home</td>\n",
       "      <td>Rent</td>\n",
       "      <td>Rent</td>\n",
       "      <td>Home Mortgage</td>\n",
       "    </tr>\n",
       "    <tr>\n",
       "      <th>Annual Income</th>\n",
       "      <td>482087.0</td>\n",
       "      <td>1025487.0</td>\n",
       "      <td>751412.0</td>\n",
       "      <td>805068.0</td>\n",
       "      <td>776264.0</td>\n",
       "      <td>NaN</td>\n",
       "      <td>1511108.0</td>\n",
       "    </tr>\n",
       "    <tr>\n",
       "      <th>Years in current job</th>\n",
       "      <td>NaN</td>\n",
       "      <td>10+ years</td>\n",
       "      <td>8 years</td>\n",
       "      <td>6 years</td>\n",
       "      <td>8 years</td>\n",
       "      <td>7 years</td>\n",
       "      <td>10+ years</td>\n",
       "    </tr>\n",
       "    <tr>\n",
       "      <th>Tax Liens</th>\n",
       "      <td>0.0</td>\n",
       "      <td>0.0</td>\n",
       "      <td>0.0</td>\n",
       "      <td>0.0</td>\n",
       "      <td>0.0</td>\n",
       "      <td>0.0</td>\n",
       "      <td>0.0</td>\n",
       "    </tr>\n",
       "    <tr>\n",
       "      <th>Number of Open Accounts</th>\n",
       "      <td>11.0</td>\n",
       "      <td>15.0</td>\n",
       "      <td>11.0</td>\n",
       "      <td>8.0</td>\n",
       "      <td>13.0</td>\n",
       "      <td>12.0</td>\n",
       "      <td>9.0</td>\n",
       "    </tr>\n",
       "    <tr>\n",
       "      <th>Years of Credit History</th>\n",
       "      <td>26.3</td>\n",
       "      <td>15.3</td>\n",
       "      <td>35.0</td>\n",
       "      <td>22.5</td>\n",
       "      <td>13.6</td>\n",
       "      <td>14.6</td>\n",
       "      <td>20.3</td>\n",
       "    </tr>\n",
       "    <tr>\n",
       "      <th>Maximum Open Credit</th>\n",
       "      <td>685960.0</td>\n",
       "      <td>1181730.0</td>\n",
       "      <td>1182434.0</td>\n",
       "      <td>147400.0</td>\n",
       "      <td>385836.0</td>\n",
       "      <td>366784.0</td>\n",
       "      <td>388124.0</td>\n",
       "    </tr>\n",
       "    <tr>\n",
       "      <th>Number of Credit Problems</th>\n",
       "      <td>1.0</td>\n",
       "      <td>0.0</td>\n",
       "      <td>0.0</td>\n",
       "      <td>1.0</td>\n",
       "      <td>1.0</td>\n",
       "      <td>0.0</td>\n",
       "      <td>0.0</td>\n",
       "    </tr>\n",
       "    <tr>\n",
       "      <th>Months since last delinquent</th>\n",
       "      <td>NaN</td>\n",
       "      <td>NaN</td>\n",
       "      <td>NaN</td>\n",
       "      <td>NaN</td>\n",
       "      <td>NaN</td>\n",
       "      <td>NaN</td>\n",
       "      <td>73.0</td>\n",
       "    </tr>\n",
       "    <tr>\n",
       "      <th>Bankruptcies</th>\n",
       "      <td>1.0</td>\n",
       "      <td>0.0</td>\n",
       "      <td>0.0</td>\n",
       "      <td>1.0</td>\n",
       "      <td>0.0</td>\n",
       "      <td>0.0</td>\n",
       "      <td>0.0</td>\n",
       "    </tr>\n",
       "    <tr>\n",
       "      <th>Purpose</th>\n",
       "      <td>debt consolidation</td>\n",
       "      <td>debt consolidation</td>\n",
       "      <td>debt consolidation</td>\n",
       "      <td>debt consolidation</td>\n",
       "      <td>debt consolidation</td>\n",
       "      <td>other</td>\n",
       "      <td>home improvements</td>\n",
       "    </tr>\n",
       "    <tr>\n",
       "      <th>Term</th>\n",
       "      <td>Short Term</td>\n",
       "      <td>Long Term</td>\n",
       "      <td>Short Term</td>\n",
       "      <td>Short Term</td>\n",
       "      <td>Short Term</td>\n",
       "      <td>Long Term</td>\n",
       "      <td>Short Term</td>\n",
       "    </tr>\n",
       "    <tr>\n",
       "      <th>Current Loan Amount</th>\n",
       "      <td>99999999.0</td>\n",
       "      <td>264968.0</td>\n",
       "      <td>99999999.0</td>\n",
       "      <td>121396.0</td>\n",
       "      <td>125840.0</td>\n",
       "      <td>337304.0</td>\n",
       "      <td>99999999.0</td>\n",
       "    </tr>\n",
       "    <tr>\n",
       "      <th>Current Credit Balance</th>\n",
       "      <td>47386.0</td>\n",
       "      <td>394972.0</td>\n",
       "      <td>308389.0</td>\n",
       "      <td>95855.0</td>\n",
       "      <td>93309.0</td>\n",
       "      <td>165680.0</td>\n",
       "      <td>51623.0</td>\n",
       "    </tr>\n",
       "    <tr>\n",
       "      <th>Monthly Debt</th>\n",
       "      <td>7914.0</td>\n",
       "      <td>18373.0</td>\n",
       "      <td>13651.0</td>\n",
       "      <td>11338.0</td>\n",
       "      <td>7180.0</td>\n",
       "      <td>18692.0</td>\n",
       "      <td>2317.0</td>\n",
       "    </tr>\n",
       "    <tr>\n",
       "      <th>Credit Score</th>\n",
       "      <td>749.0</td>\n",
       "      <td>737.0</td>\n",
       "      <td>742.0</td>\n",
       "      <td>694.0</td>\n",
       "      <td>719.0</td>\n",
       "      <td>NaN</td>\n",
       "      <td>745.0</td>\n",
       "    </tr>\n",
       "    <tr>\n",
       "      <th>Credit Default</th>\n",
       "      <td>0</td>\n",
       "      <td>1</td>\n",
       "      <td>0</td>\n",
       "      <td>0</td>\n",
       "      <td>0</td>\n",
       "      <td>1</td>\n",
       "      <td>0</td>\n",
       "    </tr>\n",
       "  </tbody>\n",
       "</table>\n",
       "</div>"
      ],
      "text/plain": [
       "                                               0                   1  \\\n",
       "Home Ownership                          Own Home            Own Home   \n",
       "Annual Income                           482087.0           1025487.0   \n",
       "Years in current job                         NaN           10+ years   \n",
       "Tax Liens                                    0.0                 0.0   \n",
       "Number of Open Accounts                     11.0                15.0   \n",
       "Years of Credit History                     26.3                15.3   \n",
       "Maximum Open Credit                     685960.0           1181730.0   \n",
       "Number of Credit Problems                    1.0                 0.0   \n",
       "Months since last delinquent                 NaN                 NaN   \n",
       "Bankruptcies                                 1.0                 0.0   \n",
       "Purpose                       debt consolidation  debt consolidation   \n",
       "Term                                  Short Term           Long Term   \n",
       "Current Loan Amount                   99999999.0            264968.0   \n",
       "Current Credit Balance                   47386.0            394972.0   \n",
       "Monthly Debt                              7914.0             18373.0   \n",
       "Credit Score                               749.0               737.0   \n",
       "Credit Default                                 0                   1   \n",
       "\n",
       "                                               2                   3  \\\n",
       "Home Ownership                     Home Mortgage            Own Home   \n",
       "Annual Income                           751412.0            805068.0   \n",
       "Years in current job                     8 years             6 years   \n",
       "Tax Liens                                    0.0                 0.0   \n",
       "Number of Open Accounts                     11.0                 8.0   \n",
       "Years of Credit History                     35.0                22.5   \n",
       "Maximum Open Credit                    1182434.0            147400.0   \n",
       "Number of Credit Problems                    0.0                 1.0   \n",
       "Months since last delinquent                 NaN                 NaN   \n",
       "Bankruptcies                                 0.0                 1.0   \n",
       "Purpose                       debt consolidation  debt consolidation   \n",
       "Term                                  Short Term          Short Term   \n",
       "Current Loan Amount                   99999999.0            121396.0   \n",
       "Current Credit Balance                  308389.0             95855.0   \n",
       "Monthly Debt                             13651.0             11338.0   \n",
       "Credit Score                               742.0               694.0   \n",
       "Credit Default                                 0                   0   \n",
       "\n",
       "                                               4          5                  6  \n",
       "Home Ownership                              Rent       Rent      Home Mortgage  \n",
       "Annual Income                           776264.0        NaN          1511108.0  \n",
       "Years in current job                     8 years    7 years          10+ years  \n",
       "Tax Liens                                    0.0        0.0                0.0  \n",
       "Number of Open Accounts                     13.0       12.0                9.0  \n",
       "Years of Credit History                     13.6       14.6               20.3  \n",
       "Maximum Open Credit                     385836.0   366784.0           388124.0  \n",
       "Number of Credit Problems                    1.0        0.0                0.0  \n",
       "Months since last delinquent                 NaN        NaN               73.0  \n",
       "Bankruptcies                                 0.0        0.0                0.0  \n",
       "Purpose                       debt consolidation      other  home improvements  \n",
       "Term                                  Short Term  Long Term         Short Term  \n",
       "Current Loan Amount                     125840.0   337304.0         99999999.0  \n",
       "Current Credit Balance                   93309.0   165680.0            51623.0  \n",
       "Monthly Debt                              7180.0    18692.0             2317.0  \n",
       "Credit Score                               719.0        NaN              745.0  \n",
       "Credit Default                                 0          1                  0  "
      ]
     },
     "execution_count": 384,
     "metadata": {},
     "output_type": "execute_result"
    }
   ],
   "source": [
    "df.head(7).T"
   ]
  },
  {
   "cell_type": "markdown",
   "id": "d3be52b4",
   "metadata": {},
   "source": [
    "#### EDA Разведывательный анализ"
   ]
  },
  {
   "cell_type": "code",
   "execution_count": 385,
   "id": "915da58e",
   "metadata": {},
   "outputs": [
    {
     "data": {
      "image/png": "[encoded data removed]",
      "text/plain": [
       "<Figure size 720x576 with 1 Axes>"
      ]
     },
     "metadata": {
      "needs_background": "light"
     },
     "output_type": "display_data"
    }
   ],
   "source": [
    "corr_with_target = np.abs(df.corr().iloc[:-1, -1]).sort_values(ascending=False)\n",
    "plt.figure(figsize=(10, 8))\n",
    "sns.barplot(x=corr_with_target.values, y=corr_with_target.index)\n",
    "plt.title('Correlation with target variable')\n",
    "plt.show()"
   ]
  },
  {
   "cell_type": "code",
   "execution_count": 386,
   "id": "55ca38bd",
   "metadata": {},
   "outputs": [
    {
     "name": "stdout",
     "output_type": "stream",
     "text": [
      "<class 'pandas.core.frame.DataFrame'>\n",
      "RangeIndex: 7500 entries, 0 to 7499\n",
      "Data columns (total 17 columns):\n",
      " #   Column                        Non-Null Count  Dtype  \n",
      "---  ------                        --------------  -----  \n",
      " 0   Home Ownership                7500 non-null   object \n",
      " 1   Annual Income                 5943 non-null   float64\n",
      " 2   Years in current job          7129 non-null   object \n",
      " 3   Tax Liens                     7500 non-null   float64\n",
      " 4   Number of Open Accounts       7500 non-null   float64\n",
      " 5   Years of Credit History       7500 non-null   float64\n",
      " 6   Maximum Open Credit           7500 non-null   float64\n",
      " 7   Number of Credit Problems     7500 non-null   float64\n",
      " 8   Months since last delinquent  3419 non-null   float64\n",
      " 9   Bankruptcies                  7486 non-null   float64\n",
      " 10  Purpose                       7500 non-null   object \n",
      " 11  Term                          7500 non-null   object \n",
      " 12  Current Loan Amount           7500 non-null   float64\n",
      " 13  Current Credit Balance        7500 non-null   float64\n",
      " 14  Monthly Debt                  7500 non-null   float64\n",
      " 15  Credit Score                  5943 non-null   float64\n",
      " 16  Credit Default                7500 non-null   int64  \n",
      "dtypes: float64(12), int64(1), object(4)\n",
      "memory usage: 996.2+ KB\n"
     ]
    }
   ],
   "source": [
    "df.info()"
   ]
  },
  {
   "cell_type": "code",
   "execution_count": 387,
   "id": "7807d1de",
   "metadata": {},
   "outputs": [
    {
     "data": {
      "text/plain": [
       "0    5387\n",
       "1    2113\n",
       "Name: Credit Default, dtype: int64"
      ]
     },
     "execution_count": 387,
     "metadata": {},
     "output_type": "execute_result"
    }
   ],
   "source": [
    "# взглянем на целевую переменную\n",
    "df[TARGET_NAME].value_counts() "
   ]
  },
  {
   "cell_type": "markdown",
   "id": "8e83f130",
   "metadata": {},
   "source": [
    "Наблюдается несбалансированность классов целевой переменной. Целевой класс (просточка кредита) встречается в 2,5 раза реже нецелевого."
   ]
  },
  {
   "cell_type": "code",
   "execution_count": 388,
   "id": "7272845d",
   "metadata": {},
   "outputs": [
    {
     "data": {
      "text/plain": [
       "array([False])"
      ]
     },
     "execution_count": 388,
     "metadata": {},
     "output_type": "execute_result"
    }
   ],
   "source": [
    "# поиск дубликатов, из-за дубликатов в том числе может возникать несбалансированность\n",
    "df.duplicated().unique() # array([False]) дубликатов не обнаружено"
   ]
  },
  {
   "cell_type": "code",
   "execution_count": 389,
   "id": "8fcb9cf4",
   "metadata": {},
   "outputs": [
    {
     "data": {
      "text/html": [
       "<div>\n",
       "<style scoped>\n",
       "    .dataframe tbody tr th:only-of-type {\n",
       "        vertical-align: middle;\n",
       "    }\n",
       "\n",
       "    .dataframe tbody tr th {\n",
       "        vertical-align: top;\n",
       "    }\n",
       "\n",
       "    .dataframe thead th {\n",
       "        text-align: right;\n",
       "    }\n",
       "</style>\n",
       "<table border=\"1\" class=\"dataframe\">\n",
       "  <thead>\n",
       "    <tr style=\"text-align: right;\">\n",
       "      <th></th>\n",
       "      <th>count</th>\n",
       "      <th>mean</th>\n",
       "      <th>std</th>\n",
       "      <th>min</th>\n",
       "      <th>25%</th>\n",
       "      <th>50%</th>\n",
       "      <th>75%</th>\n",
       "      <th>max</th>\n",
       "    </tr>\n",
       "  </thead>\n",
       "  <tbody>\n",
       "    <tr>\n",
       "      <th>Annual Income</th>\n",
       "      <td>5943.0</td>\n",
       "      <td>1.366392e+06</td>\n",
       "      <td>8.453392e+05</td>\n",
       "      <td>164597.0</td>\n",
       "      <td>844341.0</td>\n",
       "      <td>1168386.0</td>\n",
       "      <td>1640137.00</td>\n",
       "      <td>1.014934e+07</td>\n",
       "    </tr>\n",
       "    <tr>\n",
       "      <th>Tax Liens</th>\n",
       "      <td>7500.0</td>\n",
       "      <td>3.013333e-02</td>\n",
       "      <td>2.716035e-01</td>\n",
       "      <td>0.0</td>\n",
       "      <td>0.0</td>\n",
       "      <td>0.0</td>\n",
       "      <td>0.00</td>\n",
       "      <td>7.000000e+00</td>\n",
       "    </tr>\n",
       "    <tr>\n",
       "      <th>Number of Open Accounts</th>\n",
       "      <td>7500.0</td>\n",
       "      <td>1.113093e+01</td>\n",
       "      <td>4.908924e+00</td>\n",
       "      <td>2.0</td>\n",
       "      <td>8.0</td>\n",
       "      <td>10.0</td>\n",
       "      <td>14.00</td>\n",
       "      <td>4.300000e+01</td>\n",
       "    </tr>\n",
       "    <tr>\n",
       "      <th>Years of Credit History</th>\n",
       "      <td>7500.0</td>\n",
       "      <td>1.831747e+01</td>\n",
       "      <td>7.041946e+00</td>\n",
       "      <td>4.0</td>\n",
       "      <td>13.5</td>\n",
       "      <td>17.0</td>\n",
       "      <td>21.80</td>\n",
       "      <td>5.770000e+01</td>\n",
       "    </tr>\n",
       "    <tr>\n",
       "      <th>Maximum Open Credit</th>\n",
       "      <td>7500.0</td>\n",
       "      <td>9.451537e+05</td>\n",
       "      <td>1.602622e+07</td>\n",
       "      <td>0.0</td>\n",
       "      <td>279229.5</td>\n",
       "      <td>478159.0</td>\n",
       "      <td>793501.50</td>\n",
       "      <td>1.304726e+09</td>\n",
       "    </tr>\n",
       "    <tr>\n",
       "      <th>Number of Credit Problems</th>\n",
       "      <td>7500.0</td>\n",
       "      <td>1.700000e-01</td>\n",
       "      <td>4.985978e-01</td>\n",
       "      <td>0.0</td>\n",
       "      <td>0.0</td>\n",
       "      <td>0.0</td>\n",
       "      <td>0.00</td>\n",
       "      <td>7.000000e+00</td>\n",
       "    </tr>\n",
       "    <tr>\n",
       "      <th>Months since last delinquent</th>\n",
       "      <td>3419.0</td>\n",
       "      <td>3.469260e+01</td>\n",
       "      <td>2.168881e+01</td>\n",
       "      <td>0.0</td>\n",
       "      <td>16.0</td>\n",
       "      <td>32.0</td>\n",
       "      <td>50.00</td>\n",
       "      <td>1.180000e+02</td>\n",
       "    </tr>\n",
       "    <tr>\n",
       "      <th>Bankruptcies</th>\n",
       "      <td>7486.0</td>\n",
       "      <td>1.171520e-01</td>\n",
       "      <td>3.471917e-01</td>\n",
       "      <td>0.0</td>\n",
       "      <td>0.0</td>\n",
       "      <td>0.0</td>\n",
       "      <td>0.00</td>\n",
       "      <td>4.000000e+00</td>\n",
       "    </tr>\n",
       "    <tr>\n",
       "      <th>Current Loan Amount</th>\n",
       "      <td>7500.0</td>\n",
       "      <td>1.187318e+07</td>\n",
       "      <td>3.192612e+07</td>\n",
       "      <td>11242.0</td>\n",
       "      <td>180169.0</td>\n",
       "      <td>309573.0</td>\n",
       "      <td>519882.00</td>\n",
       "      <td>1.000000e+08</td>\n",
       "    </tr>\n",
       "    <tr>\n",
       "      <th>Current Credit Balance</th>\n",
       "      <td>7500.0</td>\n",
       "      <td>2.898332e+05</td>\n",
       "      <td>3.178714e+05</td>\n",
       "      <td>0.0</td>\n",
       "      <td>114256.5</td>\n",
       "      <td>209323.0</td>\n",
       "      <td>360406.25</td>\n",
       "      <td>6.506797e+06</td>\n",
       "    </tr>\n",
       "    <tr>\n",
       "      <th>Monthly Debt</th>\n",
       "      <td>7500.0</td>\n",
       "      <td>1.831445e+04</td>\n",
       "      <td>1.192676e+04</td>\n",
       "      <td>0.0</td>\n",
       "      <td>10067.5</td>\n",
       "      <td>16076.5</td>\n",
       "      <td>23818.00</td>\n",
       "      <td>1.366790e+05</td>\n",
       "    </tr>\n",
       "    <tr>\n",
       "      <th>Credit Score</th>\n",
       "      <td>5943.0</td>\n",
       "      <td>1.151087e+03</td>\n",
       "      <td>1.604451e+03</td>\n",
       "      <td>585.0</td>\n",
       "      <td>711.0</td>\n",
       "      <td>731.0</td>\n",
       "      <td>743.00</td>\n",
       "      <td>7.510000e+03</td>\n",
       "    </tr>\n",
       "    <tr>\n",
       "      <th>Credit Default</th>\n",
       "      <td>7500.0</td>\n",
       "      <td>2.817333e-01</td>\n",
       "      <td>4.498740e-01</td>\n",
       "      <td>0.0</td>\n",
       "      <td>0.0</td>\n",
       "      <td>0.0</td>\n",
       "      <td>1.00</td>\n",
       "      <td>1.000000e+00</td>\n",
       "    </tr>\n",
       "  </tbody>\n",
       "</table>\n",
       "</div>"
      ],
      "text/plain": [
       "                               count          mean           std       min  \\\n",
       "Annual Income                 5943.0  1.366392e+06  8.453392e+05  164597.0   \n",
       "Tax Liens                     7500.0  3.013333e-02  2.716035e-01       0.0   \n",
       "Number of Open Accounts       7500.0  1.113093e+01  4.908924e+00       2.0   \n",
       "Years of Credit History       7500.0  1.831747e+01  7.041946e+00       4.0   \n",
       "Maximum Open Credit           7500.0  9.451537e+05  1.602622e+07       0.0   \n",
       "Number of Credit Problems     7500.0  1.700000e-01  4.985978e-01       0.0   \n",
       "Months since last delinquent  3419.0  3.469260e+01  2.168881e+01       0.0   \n",
       "Bankruptcies                  7486.0  1.171520e-01  3.471917e-01       0.0   \n",
       "Current Loan Amount           7500.0  1.187318e+07  3.192612e+07   11242.0   \n",
       "Current Credit Balance        7500.0  2.898332e+05  3.178714e+05       0.0   \n",
       "Monthly Debt                  7500.0  1.831445e+04  1.192676e+04       0.0   \n",
       "Credit Score                  5943.0  1.151087e+03  1.604451e+03     585.0   \n",
       "Credit Default                7500.0  2.817333e-01  4.498740e-01       0.0   \n",
       "\n",
       "                                   25%        50%         75%           max  \n",
       "Annual Income                 844341.0  1168386.0  1640137.00  1.014934e+07  \n",
       "Tax Liens                          0.0        0.0        0.00  7.000000e+00  \n",
       "Number of Open Accounts            8.0       10.0       14.00  4.300000e+01  \n",
       "Years of Credit History           13.5       17.0       21.80  5.770000e+01  \n",
       "Maximum Open Credit           279229.5   478159.0   793501.50  1.304726e+09  \n",
       "Number of Credit Problems          0.0        0.0        0.00  7.000000e+00  \n",
       "Months since last delinquent      16.0       32.0       50.00  1.180000e+02  \n",
       "Bankruptcies                       0.0        0.0        0.00  4.000000e+00  \n",
       "Current Loan Amount           180169.0   309573.0   519882.00  1.000000e+08  \n",
       "Current Credit Balance        114256.5   209323.0   360406.25  6.506797e+06  \n",
       "Monthly Debt                   10067.5    16076.5    23818.00  1.366790e+05  \n",
       "Credit Score                     711.0      731.0      743.00  7.510000e+03  \n",
       "Credit Default                     0.0        0.0        1.00  1.000000e+00  "
      ]
     },
     "execution_count": 389,
     "metadata": {},
     "output_type": "execute_result"
    }
   ],
   "source": [
    "df.describe().T"
   ]
  },
  {
   "cell_type": "code",
   "execution_count": 390,
   "id": "7f4f4e1a",
   "metadata": {},
   "outputs": [
    {
     "data": {
      "image/png": "[encoded data removed]",
      "text/plain": [
       "<Figure size 1152x432 with 2 Axes>"
      ]
     },
     "metadata": {
      "needs_background": "light"
     },
     "output_type": "display_data"
    }
   ],
   "source": [
    "plt.figure(figsize=(16, 6))\n",
    " \n",
    "# чтобы отобразить числовые значения корреляции на тепловой карте установим значение vmin=-1, vmax=1, annot=True. \n",
    "heatmap = sns.heatmap(df.corr(), vmin=-1, vmax=1, annot=True, cmap='BrBG') \n",
    "\n",
    "# Параметр pad (padding) определяет расстояние заголовка от верхней части тепловой карты. \n",
    "heatmap.set_title('Correlation Heatmap', fontdict={'fontsize':12}, pad=15);"
   ]
  },
  {
   "cell_type": "markdown",
   "id": "1981d8f2",
   "metadata": {},
   "source": [
    "Наблюдаем корреляцию между количеством проблем с кредитами 'Numbers of Credit Problems' и банкротством 'Bankruptcies', возможно стоит их объединить в новом признаке"
   ]
  },
  {
   "cell_type": "code",
   "execution_count": 391,
   "id": "f8b804ea",
   "metadata": {},
   "outputs": [
    {
     "data": {
      "text/plain": [
       "Home Ownership                   object\n",
       "Annual Income                   float64\n",
       "Years in current job             object\n",
       "Tax Liens                       float64\n",
       "Number of Open Accounts         float64\n",
       "Years of Credit History         float64\n",
       "Maximum Open Credit             float64\n",
       "Number of Credit Problems       float64\n",
       "Months since last delinquent    float64\n",
       "Bankruptcies                    float64\n",
       "Purpose                          object\n",
       "Term                             object\n",
       "Current Loan Amount             float64\n",
       "Current Credit Balance          float64\n",
       "Monthly Debt                    float64\n",
       "Credit Score                    float64\n",
       "Credit Default                    int64\n",
       "dtype: object"
      ]
     },
     "execution_count": 391,
     "metadata": {},
     "output_type": "execute_result"
    }
   ],
   "source": [
    "df.dtypes"
   ]
  },
  {
   "cell_type": "code",
   "execution_count": 392,
   "id": "2f1310ea",
   "metadata": {},
   "outputs": [
    {
     "name": "stdout",
     "output_type": "stream",
     "text": [
      "Home Ownership\n",
      "\n",
      "Home Mortgage    3637\n",
      "Rent             3204\n",
      "Own Home          647\n",
      "Have Mortgage      12\n",
      "Name: Home Ownership, dtype: int64\n",
      "\n",
      "****************************************************************************************************\n",
      "\n",
      "\n",
      "Years in current job\n",
      "\n",
      "10+ years    2332\n",
      "2 years       705\n",
      "3 years       620\n",
      "< 1 year      563\n",
      "5 years       516\n",
      "1 year        504\n",
      "4 years       469\n",
      "6 years       426\n",
      "7 years       396\n",
      "8 years       339\n",
      "9 years       259\n",
      "Name: Years in current job, dtype: int64\n",
      "\n",
      "****************************************************************************************************\n",
      "\n",
      "\n",
      "Purpose\n",
      "\n",
      "debt consolidation      5944\n",
      "other                    665\n",
      "home improvements        412\n",
      "business loan            129\n",
      "buy a car                 96\n",
      "medical bills             71\n",
      "major purchase            40\n",
      "take a trip               37\n",
      "buy house                 34\n",
      "small business            26\n",
      "wedding                   15\n",
      "moving                    11\n",
      "educational expenses      10\n",
      "vacation                   8\n",
      "renewable energy           2\n",
      "Name: Purpose, dtype: int64\n",
      "\n",
      "****************************************************************************************************\n",
      "\n",
      "\n",
      "Term\n",
      "\n",
      "Short Term    5556\n",
      "Long Term     1944\n",
      "Name: Term, dtype: int64\n",
      "\n",
      "****************************************************************************************************\n",
      "\n",
      "\n"
     ]
    }
   ],
   "source": [
    "# просмотрим категориальные признаки\n",
    "for cat_col in df.select_dtypes(include='object').columns:\n",
    "    print(str(cat_col) + '\\n\\n' + str(df[cat_col].value_counts()) + '\\n\\n' + 100 * '*' + '\\n\\n')"
   ]
  },
  {
   "cell_type": "markdown",
   "id": "15ff7d77",
   "metadata": {},
   "source": [
    "Объединим наличие кредитов на ипотеку и дом в ипотеке."
   ]
  },
  {
   "cell_type": "code",
   "execution_count": 393,
   "id": "3ebcd894",
   "metadata": {},
   "outputs": [
    {
     "data": {
      "text/plain": [
       "Home Mortgage    3649\n",
       "Rent             3204\n",
       "Own Home          647\n",
       "Name: Home Ownership, dtype: int64"
      ]
     },
     "execution_count": 393,
     "metadata": {},
     "output_type": "execute_result"
    }
   ],
   "source": [
    "df.loc[df['Home Ownership'] == 'Have Mortgage', 'Home Ownership'] = 'Home Mortgage'\n",
    "df['Home Ownership'].value_counts()"
   ]
  },
  {
   "cell_type": "markdown",
   "id": "ce3a1af7",
   "metadata": {},
   "source": [
    "Объединим схожие цели кредитов."
   ]
  },
  {
   "cell_type": "code",
   "execution_count": 394,
   "id": "b657d9a6",
   "metadata": {},
   "outputs": [
    {
     "data": {
      "text/plain": [
       "debt consolidation      5944\n",
       "other                    667\n",
       "home improvements        412\n",
       "business loan            155\n",
       "buy a car                 96\n",
       "medical bills             71\n",
       "take a trip               45\n",
       "major purchase            40\n",
       "buy house                 34\n",
       "wedding                   15\n",
       "moving                    11\n",
       "educational expenses      10\n",
       "Name: Purpose, dtype: int64"
      ]
     },
     "execution_count": 394,
     "metadata": {},
     "output_type": "execute_result"
    }
   ],
   "source": [
    "# путешествия и отдых\n",
    "df.loc[df['Purpose'] == 'vacation', 'Purpose'] = 'take a trip' \n",
    "# малый бизнес и заем на бизнес\n",
    "df.loc[df['Purpose'] == 'small business', 'Purpose'] = 'business loan'\n",
    "# возобновляемая энергия и прочее\n",
    "df.loc[df['Purpose'] == 'renewable energy', 'Purpose'] = 'other'\n",
    "df['Purpose'].value_counts()"
   ]
  },
  {
   "cell_type": "markdown",
   "id": "a9550bdb",
   "metadata": {},
   "source": [
    "Хочется признак 'Years in current job' сделать некатегориальным"
   ]
  },
  {
   "cell_type": "code",
   "execution_count": 395,
   "id": "fa9b1bf6",
   "metadata": {},
   "outputs": [
    {
     "data": {
      "text/plain": [
       "10.0    2332\n",
       "2.0      705\n",
       "3.0      620\n",
       "0.5      563\n",
       "5.0      516\n",
       "1.0      504\n",
       "4.0      469\n",
       "6.0      426\n",
       "7.0      396\n",
       "8.0      339\n",
       "9.0      259\n",
       "Name: Years in current job, dtype: int64"
      ]
     },
     "execution_count": 395,
     "metadata": {},
     "output_type": "execute_result"
    }
   ],
   "source": [
    "dict_years_in_current_job = {'nan': np.NaN, \n",
    "                             '< 1 year': 0.5,\n",
    "                             '1 year': 1,\n",
    "                             '2 years': 2,\n",
    "                             '3 years': 3,\n",
    "                             '4 years': 4,\n",
    "                             '5 years': 5,\n",
    "                             '6 years': 6,\n",
    "                             '7 years': 7,\n",
    "                             '8 years': 8,\n",
    "                             '9 years': 9,\n",
    "                             '10+ years': 10}\n",
    "\n",
    "df['Years in current job'].replace(dict_years_in_current_job, inplace=True)\n",
    "df['Years in current job'].value_counts()"
   ]
  },
  {
   "cell_type": "code",
   "execution_count": 396,
   "id": "ca57ad68",
   "metadata": {},
   "outputs": [
    {
     "data": {
      "text/plain": [
       "dtype('float64')"
      ]
     },
     "execution_count": 396,
     "metadata": {},
     "output_type": "execute_result"
    }
   ],
   "source": [
    "df['Years in current job'].dtypes"
   ]
  },
  {
   "cell_type": "markdown",
   "id": "99be8f24",
   "metadata": {},
   "source": [
    "### 2. Создание новых признаков<a class=\"anchor\" id=\"gaps\"></a>"
   ]
  },
  {
   "cell_type": "code",
   "execution_count": 397,
   "id": "eb30e71e",
   "metadata": {},
   "outputs": [
    {
     "data": {
      "text/plain": [
       "array(['missingindicator_Annual Income',\n",
       "       'missingindicator_Years in current job',\n",
       "       'missingindicator_Months since last delinquent',\n",
       "       'missingindicator_Bankruptcies', 'missingindicator_Credit Score'],\n",
       "      dtype=object)"
      ]
     },
     "execution_count": 397,
     "metadata": {},
     "output_type": "execute_result"
    }
   ],
   "source": [
    "# добавим индикатор к пропущенным значениям\n",
    "mi = MissingIndicator()\n",
    "mi.fit_transform(df)\n",
    "\n",
    "# вывод фичей с пропущенными значениями\n",
    "mi.get_feature_names_out()"
   ]
  },
  {
   "cell_type": "markdown",
   "id": "18145229",
   "metadata": {},
   "source": [
    "Введем новую фичу 'Annual Income Unknown' (годовой доход известный - 0, годовой доход неизвестный - 1)"
   ]
  },
  {
   "cell_type": "code",
   "execution_count": 398,
   "id": "2243ecd1",
   "metadata": {},
   "outputs": [],
   "source": [
    "df['Annual Income Unknown'] = 0\n",
    "df.loc[(df['Annual Income'].isnull()), 'Annual Income Unknown'] = 1"
   ]
  },
  {
   "cell_type": "markdown",
   "id": "1ead84c1",
   "metadata": {},
   "source": [
    "Введем новую фичу 'Bad Background' (0 - проблем не было, 1 - небольшие проблемы, 2 - проблемы и банкротства)"
   ]
  },
  {
   "cell_type": "code",
   "execution_count": 399,
   "id": "35cf3c9c",
   "metadata": {},
   "outputs": [
    {
     "data": {
      "text/plain": [
       "0    6469\n",
       "2     826\n",
       "1     205\n",
       "Name: Bad Background, dtype: int64"
      ]
     },
     "execution_count": 399,
     "metadata": {},
     "output_type": "execute_result"
    }
   ],
   "source": [
    "df['Bad Background'] = True\n",
    "df.loc[df['Number of Credit Problems'] > 0 , 'Bad Background'] = 1\n",
    "df.loc[df['Bankruptcies'] > 0 , 'Bad Background'] = 2\n",
    "df.loc[df['Number of Credit Problems'] == 0, 'Bad Background'] = 0\n",
    "df['Bad Background'] = df['Bad Background'].astype(np.int8)\n",
    "df['Bad Background'].value_counts()"
   ]
  },
  {
   "cell_type": "code",
   "execution_count": 400,
   "id": "8779ea30",
   "metadata": {},
   "outputs": [
    {
     "data": {
      "text/plain": [
       "Home Ownership                   object\n",
       "Annual Income                   float64\n",
       "Years in current job            float64\n",
       "Tax Liens                       float64\n",
       "Number of Open Accounts         float64\n",
       "Years of Credit History         float64\n",
       "Maximum Open Credit             float64\n",
       "Number of Credit Problems       float64\n",
       "Months since last delinquent    float64\n",
       "Bankruptcies                    float64\n",
       "Purpose                          object\n",
       "Term                             object\n",
       "Current Loan Amount             float64\n",
       "Current Credit Balance          float64\n",
       "Monthly Debt                    float64\n",
       "Credit Score                    float64\n",
       "Credit Default                    int64\n",
       "Annual Income Unknown             int64\n",
       "Bad Background                     int8\n",
       "dtype: object"
      ]
     },
     "execution_count": 400,
     "metadata": {},
     "output_type": "execute_result"
    }
   ],
   "source": [
    "df.dtypes"
   ]
  },
  {
   "cell_type": "code",
   "execution_count": 401,
   "id": "f88045e6",
   "metadata": {},
   "outputs": [
    {
     "data": {
      "text/plain": [
       "Index(['Home Ownership', 'Annual Income', 'Years in current job', 'Tax Liens',\n",
       "       'Number of Open Accounts', 'Years of Credit History',\n",
       "       'Maximum Open Credit', 'Number of Credit Problems',\n",
       "       'Months since last delinquent', 'Bankruptcies', 'Purpose', 'Term',\n",
       "       'Current Loan Amount', 'Current Credit Balance', 'Monthly Debt',\n",
       "       'Credit Score', 'Credit Default', 'Annual Income Unknown',\n",
       "       'Bad Background', 'Purpose_business loan', 'Purpose_buy a car',\n",
       "       'Purpose_buy house', 'Purpose_debt consolidation',\n",
       "       'Purpose_educational expenses', 'Purpose_home improvements',\n",
       "       'Purpose_major purchase', 'Purpose_medical bills', 'Purpose_moving',\n",
       "       'Purpose_other', 'Purpose_take a trip', 'Purpose_wedding',\n",
       "       'Term_Long Term', 'Term_Short Term'],\n",
       "      dtype='object')"
      ]
     },
     "execution_count": 401,
     "metadata": {},
     "output_type": "execute_result"
    }
   ],
   "source": [
    "for cat_colname in df.select_dtypes(include='object').columns[1:]:\n",
    "    df = pd.concat([df, pd.get_dummies(df[cat_colname], prefix=cat_colname)], axis=1)\n",
    "df.columns"
   ]
  },
  {
   "cell_type": "markdown",
   "id": "5ad207d2",
   "metadata": {
    "id": "oIXTRxo3YMif"
   },
   "source": [
    "### 3. Обработка пропусков<a class=\"anchor\" id=\"gaps\"></a>"
   ]
  },
  {
   "cell_type": "code",
   "execution_count": 402,
   "id": "326afe41",
   "metadata": {},
   "outputs": [
    {
     "data": {
      "text/plain": [
       "Home Ownership                     0\n",
       "Annual Income                   1557\n",
       "Years in current job             371\n",
       "Tax Liens                          0\n",
       "Number of Open Accounts            0\n",
       "Years of Credit History            0\n",
       "Maximum Open Credit                0\n",
       "Number of Credit Problems          0\n",
       "Months since last delinquent    4081\n",
       "Bankruptcies                      14\n",
       "Purpose                            0\n",
       "Term                               0\n",
       "Current Loan Amount                0\n",
       "Current Credit Balance             0\n",
       "Monthly Debt                       0\n",
       "Credit Score                    1557\n",
       "Credit Default                     0\n",
       "Annual Income Unknown              0\n",
       "Bad Background                     0\n",
       "Purpose_business loan              0\n",
       "Purpose_buy a car                  0\n",
       "Purpose_buy house                  0\n",
       "Purpose_debt consolidation         0\n",
       "Purpose_educational expenses       0\n",
       "Purpose_home improvements          0\n",
       "Purpose_major purchase             0\n",
       "Purpose_medical bills              0\n",
       "Purpose_moving                     0\n",
       "Purpose_other                      0\n",
       "Purpose_take a trip                0\n",
       "Purpose_wedding                    0\n",
       "Term_Long Term                     0\n",
       "Term_Short Term                    0\n",
       "dtype: int64"
      ]
     },
     "execution_count": 402,
     "metadata": {},
     "output_type": "execute_result"
    }
   ],
   "source": [
    "len(df) - df.count()  "
   ]
  },
  {
   "cell_type": "code",
   "execution_count": 403,
   "id": "16d0e035",
   "metadata": {},
   "outputs": [
    {
     "data": {
      "text/plain": [
       "10.0    2332\n",
       "2.0      705\n",
       "3.0      620\n",
       "0.5      563\n",
       "5.0      516\n",
       "1.0      504\n",
       "4.0      469\n",
       "6.0      426\n",
       "7.0      396\n",
       "0.0      371\n",
       "8.0      339\n",
       "9.0      259\n",
       "Name: Years in current job, dtype: int64"
      ]
     },
     "execution_count": 403,
     "metadata": {},
     "output_type": "execute_result"
    }
   ],
   "source": [
    "df['Years in current job'].fillna(0, inplace=True) # заполняем пропуски 0 нулем, так как мы стараемся минимизировать риски при выдаче кредитов\n",
    "df['Years in current job'].value_counts()"
   ]
  },
  {
   "cell_type": "code",
   "execution_count": 404,
   "id": "5927d24b",
   "metadata": {},
   "outputs": [
    {
     "data": {
      "text/plain": [
       "4081"
      ]
     },
     "execution_count": 404,
     "metadata": {},
     "output_type": "execute_result"
    }
   ],
   "source": [
    "df['Months since last delinquent'].value_counts()\n",
    "df['Months since last delinquent'].isna().sum() # количество объектов с nan - месяцев просрочки"
   ]
  },
  {
   "cell_type": "code",
   "execution_count": 405,
   "id": "d1feaa58",
   "metadata": {},
   "outputs": [
    {
     "data": {
      "text/plain": [
       "575"
      ]
     },
     "execution_count": 405,
     "metadata": {},
     "output_type": "execute_result"
    }
   ],
   "source": [
    "df[df['Months since last delinquent'] == 0].count().sum()"
   ]
  },
  {
   "cell_type": "markdown",
   "id": "5859706e",
   "metadata": {},
   "source": [
    "Заполняем nan-месяцев просрочки нулями, так как полагаем, глядя на данные (очень большой процент пропусков, при этом объектов с 0 месяцев просрочки ничтожно мало), что у этих объектов просрочек не было."
   ]
  },
  {
   "cell_type": "code",
   "execution_count": 406,
   "id": "1af5a99c",
   "metadata": {},
   "outputs": [
    {
     "data": {
      "text/plain": [
       "array([  0.,  73.,  18.,   6.,  40.,  44.,  45.,  17.,  61.,  14.,  11.,\n",
       "        32.,  75.,  65.,  10.,  28.,  35.,  29.,  13.,   8.,  71.,  54.,\n",
       "        21.,  68.,  51.,  70.,  19.,  22.,  16.,  38.,  36.,  34.,  30.,\n",
       "         3.,  52.,  72.,  63.,  23.,   5.,  60.,  59.,   1.,  74.,   4.,\n",
       "        42.,  39.,  41.,  55.,  67.,  37.,  47.,  26.,  76.,  43.,  12.,\n",
       "         7.,  77.,  48.,  79.,  80.,  31.,  64.,  78.,  20.,  58.,  49.,\n",
       "         9.,  69.,  25.,  33.,  15.,  57.,  86.,  62.,   2.,  24.,  56.,\n",
       "        82.,  66.,  46.,  27.,  50.,  53.,  81.,  83., 118.,  84.,  91.,\n",
       "        92.])"
      ]
     },
     "execution_count": 406,
     "metadata": {},
     "output_type": "execute_result"
    }
   ],
   "source": [
    "df.loc[:, 'Months since last delinquent'].fillna(0, inplace=True) \n",
    "df['Months since last delinquent'].unique()\n"
   ]
  },
  {
   "cell_type": "code",
   "execution_count": 407,
   "id": "4f6a18e9",
   "metadata": {},
   "outputs": [
    {
     "data": {
      "text/plain": [
       "0.0    6660\n",
       "1.0     786\n",
       "2.0      31\n",
       "3.0       7\n",
       "4.0       2\n",
       "Name: Bankruptcies, dtype: int64"
      ]
     },
     "execution_count": 407,
     "metadata": {},
     "output_type": "execute_result"
    }
   ],
   "source": [
    "df['Bankruptcies'].value_counts()"
   ]
  },
  {
   "cell_type": "code",
   "execution_count": 408,
   "id": "95260646",
   "metadata": {},
   "outputs": [
    {
     "data": {
      "text/plain": [
       "count    7486.000000\n",
       "mean        0.117152\n",
       "std         0.347192\n",
       "min         0.000000\n",
       "25%         0.000000\n",
       "50%         0.000000\n",
       "75%         0.000000\n",
       "max         4.000000\n",
       "Name: Bankruptcies, dtype: float64"
      ]
     },
     "execution_count": 408,
     "metadata": {},
     "output_type": "execute_result"
    }
   ],
   "source": [
    "df['Bankruptcies'].describe()"
   ]
  },
  {
   "cell_type": "code",
   "execution_count": 409,
   "id": "539d5b52",
   "metadata": {},
   "outputs": [
    {
     "data": {
      "text/plain": [
       "0"
      ]
     },
     "execution_count": 409,
     "metadata": {},
     "output_type": "execute_result"
    }
   ],
   "source": [
    "bankruptcies_mode = int(df['Bankruptcies'].mode())\n",
    "bankruptcies_mode"
   ]
  },
  {
   "cell_type": "code",
   "execution_count": 410,
   "id": "f328bf45",
   "metadata": {},
   "outputs": [],
   "source": [
    "df.loc[:, 'Bankruptcies'].fillna(bankruptcies_mode, inplace=True)"
   ]
  },
  {
   "cell_type": "code",
   "execution_count": 411,
   "id": "5b4b8118",
   "metadata": {},
   "outputs": [
    {
     "data": {
      "text/plain": [
       "0.0    6674\n",
       "1.0     786\n",
       "2.0      40\n",
       "Name: Bankruptcies, dtype: int64"
      ]
     },
     "execution_count": 411,
     "metadata": {},
     "output_type": "execute_result"
    }
   ],
   "source": [
    "df.loc[df['Bankruptcies'] > 1, 'Bankruptcies'] = 2\n",
    "df['Bankruptcies'].value_counts()"
   ]
  },
  {
   "cell_type": "markdown",
   "id": "73d309c6",
   "metadata": {},
   "source": [
    "Заполняем пропуски доходов на основе к-ближайших соседей, по матрице корреляции видим, что наибольшая зависимость 'Annual income' от 'Current Credit Balance' и 'Monthly Debt'"
   ]
  },
  {
   "cell_type": "code",
   "execution_count": 412,
   "id": "a712e742",
   "metadata": {},
   "outputs": [
    {
     "data": {
      "text/plain": [
       "Home Ownership                     0\n",
       "Annual Income                   1557\n",
       "Years in current job               0\n",
       "Tax Liens                          0\n",
       "Number of Open Accounts            0\n",
       "Years of Credit History            0\n",
       "Maximum Open Credit                0\n",
       "Number of Credit Problems          0\n",
       "Months since last delinquent       0\n",
       "Bankruptcies                       0\n",
       "Purpose                            0\n",
       "Term                               0\n",
       "Current Loan Amount                0\n",
       "Current Credit Balance             0\n",
       "Monthly Debt                       0\n",
       "Credit Score                    1557\n",
       "Credit Default                     0\n",
       "Annual Income Unknown              0\n",
       "Bad Background                     0\n",
       "Purpose_business loan              0\n",
       "Purpose_buy a car                  0\n",
       "Purpose_buy house                  0\n",
       "Purpose_debt consolidation         0\n",
       "Purpose_educational expenses       0\n",
       "Purpose_home improvements          0\n",
       "Purpose_major purchase             0\n",
       "Purpose_medical bills              0\n",
       "Purpose_moving                     0\n",
       "Purpose_other                      0\n",
       "Purpose_take a trip                0\n",
       "Purpose_wedding                    0\n",
       "Term_Long Term                     0\n",
       "Term_Short Term                    0\n",
       "dtype: int64"
      ]
     },
     "execution_count": 412,
     "metadata": {},
     "output_type": "execute_result"
    }
   ],
   "source": [
    "df.isna().sum()"
   ]
  },
  {
   "cell_type": "code",
   "execution_count": 413,
   "id": "02980c69",
   "metadata": {},
   "outputs": [
    {
     "data": {
      "image/png": "[encoded data removed]",
      "text/plain": [
       "<Figure size 720x576 with 1 Axes>"
      ]
     },
     "metadata": {
      "needs_background": "light"
     },
     "output_type": "display_data"
    }
   ],
   "source": [
    "# корреляция признаков с 'Annual Income'\n",
    "FEATURES = df.columns.drop('Annual Income').tolist()\n",
    "corr_Annual_Income = np.abs(df[FEATURES + ['Annual Income']].corr().iloc[:-1, -1]).sort_values(ascending=False)\n",
    "\n",
    "plt.figure(figsize=(10, 8))\n",
    "\n",
    "sns.barplot(x=corr_Annual_Income.values, y=corr_Annual_Income.index)\n",
    "\n",
    "plt.title('Correlation Annual Income')\n",
    "plt.show()"
   ]
  },
  {
   "cell_type": "code",
   "execution_count": 414,
   "id": "13bc27b1",
   "metadata": {},
   "outputs": [
    {
     "data": {
      "text/html": [
       "<style>#sk-container-id-9 {color: black;background-color: white;}#sk-container-id-9 pre{padding: 0;}#sk-container-id-9 div.sk-toggleable {background-color: white;}#sk-container-id-9 label.sk-toggleable__label {cursor: pointer;display: block;width: 100%;margin-bottom: 0;padding: 0.3em;box-sizing: border-box;text-align: center;}#sk-container-id-9 label.sk-toggleable__label-arrow:before {content: \"▸\";float: left;margin-right: 0.25em;color: #696969;}#sk-container-id-9 label.sk-toggleable__label-arrow:hover:before {color: black;}#sk-container-id-9 div.sk-estimator:hover label.sk-toggleable__label-arrow:before {color: black;}#sk-container-id-9 div.sk-toggleable__content {max-height: 0;max-width: 0;overflow: hidden;text-align: left;background-color: #f0f8ff;}#sk-container-id-9 div.sk-toggleable__content pre {margin: 0.2em;color: black;border-radius: 0.25em;background-color: #f0f8ff;}#sk-container-id-9 input.sk-toggleable__control:checked~div.sk-toggleable__content {max-height: 200px;max-width: 100%;overflow: auto;}#sk-container-id-9 input.sk-toggleable__control:checked~label.sk-toggleable__label-arrow:before {content: \"▾\";}#sk-container-id-9 div.sk-estimator input.sk-toggleable__control:checked~label.sk-toggleable__label {background-color: #d4ebff;}#sk-container-id-9 div.sk-label input.sk-toggleable__control:checked~label.sk-toggleable__label {background-color: #d4ebff;}#sk-container-id-9 input.sk-hidden--visually {border: 0;clip: rect(1px 1px 1px 1px);clip: rect(1px, 1px, 1px, 1px);height: 1px;margin: -1px;overflow: hidden;padding: 0;position: absolute;width: 1px;}#sk-container-id-9 div.sk-estimator {font-family: monospace;background-color: #f0f8ff;border: 1px dotted black;border-radius: 0.25em;box-sizing: border-box;margin-bottom: 0.5em;}#sk-container-id-9 div.sk-estimator:hover {background-color: #d4ebff;}#sk-container-id-9 div.sk-parallel-item::after {content: \"\";width: 100%;border-bottom: 1px solid gray;flex-grow: 1;}#sk-container-id-9 div.sk-label:hover label.sk-toggleable__label {background-color: #d4ebff;}#sk-container-id-9 div.sk-serial::before {content: \"\";position: absolute;border-left: 1px solid gray;box-sizing: border-box;top: 0;bottom: 0;left: 50%;z-index: 0;}#sk-container-id-9 div.sk-serial {display: flex;flex-direction: column;align-items: center;background-color: white;padding-right: 0.2em;padding-left: 0.2em;position: relative;}#sk-container-id-9 div.sk-item {position: relative;z-index: 1;}#sk-container-id-9 div.sk-parallel {display: flex;align-items: stretch;justify-content: center;background-color: white;position: relative;}#sk-container-id-9 div.sk-item::before, #sk-container-id-9 div.sk-parallel-item::before {content: \"\";position: absolute;border-left: 1px solid gray;box-sizing: border-box;top: 0;bottom: 0;left: 50%;z-index: -1;}#sk-container-id-9 div.sk-parallel-item {display: flex;flex-direction: column;z-index: 1;position: relative;background-color: white;}#sk-container-id-9 div.sk-parallel-item:first-child::after {align-self: flex-end;width: 50%;}#sk-container-id-9 div.sk-parallel-item:last-child::after {align-self: flex-start;width: 50%;}#sk-container-id-9 div.sk-parallel-item:only-child::after {width: 0;}#sk-container-id-9 div.sk-dashed-wrapped {border: 1px dashed gray;margin: 0 0.4em 0.5em 0.4em;box-sizing: border-box;padding-bottom: 0.4em;background-color: white;}#sk-container-id-9 div.sk-label label {font-family: monospace;font-weight: bold;display: inline-block;line-height: 1.2em;}#sk-container-id-9 div.sk-label-container {text-align: center;}#sk-container-id-9 div.sk-container {/* jupyter's `normalize.less` sets `[hidden] { display: none; }` but bootstrap.min.css set `[hidden] { display: none !important; }` so we also need the `!important` here to be able to override the default hidden behavior on the sphinx rendered scikit-learn.org. See: https://github.com/scikit-learn/scikit-learn/issues/21755 */display: inline-block !important;position: relative;}#sk-container-id-9 div.sk-text-repr-fallback {display: none;}</style><div id=\"sk-container-id-9\" class=\"sk-top-container\"><div class=\"sk-text-repr-fallback\"><pre>KNNImputer(n_neighbors=3)</pre><b>In a Jupyter environment, please rerun this cell to show the HTML representation or trust the notebook. <br />On GitHub, the HTML representation is unable to render, please try loading this page with nbviewer.org.</b></div><div class=\"sk-container\" hidden><div class=\"sk-item\"><div class=\"sk-estimator sk-toggleable\"><input class=\"sk-toggleable__control sk-hidden--visually\" id=\"sk-estimator-id-17\" type=\"checkbox\" checked><label for=\"sk-estimator-id-17\" class=\"sk-toggleable__label sk-toggleable__label-arrow\">KNNImputer</label><div class=\"sk-toggleable__content\"><pre>KNNImputer(n_neighbors=3)</pre></div></div></div></div></div>"
      ],
      "text/plain": [
       "KNNImputer(n_neighbors=3)"
      ]
     },
     "execution_count": 414,
     "metadata": {},
     "output_type": "execute_result"
    }
   ],
   "source": [
    "knn = KNNImputer(n_neighbors=3) # ориентируемся на трех ближайших соседей\n",
    "knn.fit(df[['Annual Income', 'Current Credit Balance', 'Monthly Debt', 'Current Loan Amount']])"
   ]
  },
  {
   "cell_type": "code",
   "execution_count": 415,
   "id": "20c491b3",
   "metadata": {},
   "outputs": [
    {
     "name": "stdout",
     "output_type": "stream",
     "text": [
      "CPU times: user 941 ms, sys: 564 ms, total: 1.5 s\n",
      "Wall time: 329 ms\n"
     ]
    },
    {
     "data": {
      "text/plain": [
       "array([[4.8208700e+05, 4.7386000e+04, 7.9140000e+03, 9.9999999e+07],\n",
       "       [1.0254870e+06, 3.9497200e+05, 1.8373000e+04, 2.6496800e+05],\n",
       "       [7.5141200e+05, 3.0838900e+05, 1.3651000e+04, 9.9999999e+07],\n",
       "       ...,\n",
       "       [1.8789100e+06, 4.7781200e+05, 1.2479000e+04, 9.9999999e+07],\n",
       "       [1.5626740e+06, 4.7606400e+05, 3.7118000e+04, 6.1527400e+05],\n",
       "       [1.0244040e+06, 2.8819200e+05, 9.0610000e+03, 2.6928000e+04]])"
      ]
     },
     "execution_count": 415,
     "metadata": {},
     "output_type": "execute_result"
    }
   ],
   "source": [
    "%%time\n",
    "data_ = knn.transform(df[['Annual Income', 'Current Credit Balance', 'Monthly Debt', 'Current Loan Amount']])\n",
    "data_"
   ]
  },
  {
   "cell_type": "code",
   "execution_count": 416,
   "id": "6d96184a",
   "metadata": {},
   "outputs": [],
   "source": [
    "df[['Annual Income', 'Current Credit Balance', 'Monthly Debt', 'Current Loan Amount']] = data_"
   ]
  },
  {
   "cell_type": "code",
   "execution_count": 417,
   "id": "f770a53e",
   "metadata": {},
   "outputs": [
    {
     "data": {
      "text/plain": [
       "ShapiroResult(statistic=0.7802829742431641, pvalue=0.0)"
      ]
     },
     "execution_count": 417,
     "metadata": {},
     "output_type": "execute_result"
    }
   ],
   "source": [
    "shapiro(df['Annual Income'])"
   ]
  },
  {
   "cell_type": "code",
   "execution_count": 418,
   "id": "3cb851a0",
   "metadata": {},
   "outputs": [
    {
     "data": {
      "image/png": "[encoded data removed]",
      "text/plain": [
       "<Figure size 720x288 with 2 Axes>"
      ]
     },
     "metadata": {
      "needs_background": "light"
     },
     "output_type": "display_data"
    }
   ],
   "source": [
    "plt.figure(figsize=(10,4))\n",
    "\n",
    "ax1 = plt.subplot(121)\n",
    "ax1.set_xlabel('Annual Income')\n",
    "ax1.set_ylabel('Count')\n",
    "ax1.set_title(f'Annual Income distribution')\n",
    "df['Annual Income'].hist()\n",
    "\n",
    "plt.subplot(122)\n",
    "probplot(df['Annual Income'], dist='norm', plot=plt)\n",
    "plt.grid(True)\n",
    "\n",
    "plt.show()"
   ]
  },
  {
   "cell_type": "markdown",
   "id": "f266e14c",
   "metadata": {},
   "source": [
    "Закон распределения отличный от \"нормального\", в связи с чем, мы не сможем воспользоваться критерием Стьюдента для проверки гипотезы о равности мат. ожиданий признака в группах с просроченным и непросроченным платежом, но мы сможем воспользоваться его непараметрическим аналогом - критерием Манна-Уитни, который не требователен к закону распределения."
   ]
  },
  {
   "cell_type": "code",
   "execution_count": 419,
   "id": "c7e3e856",
   "metadata": {},
   "outputs": [],
   "source": [
    "Annual_Income_with_target_s = df[['Annual Income', 'Credit Default']]\n",
    "Annual_Income_target_0 = df.loc[df['Credit Default'] == 0, ['Annual Income']]\n",
    "Annual_Income_target_1 = df.loc[df['Credit Default'] == 1, ['Annual Income']]"
   ]
  },
  {
   "cell_type": "code",
   "execution_count": 420,
   "id": "e4c9203f",
   "metadata": {},
   "outputs": [
    {
     "data": {
      "text/plain": [
       "MannwhitneyuResult(statistic=array([6241472.]), pvalue=array([6.95611107e-11]))"
      ]
     },
     "execution_count": 420,
     "metadata": {},
     "output_type": "execute_result"
    }
   ],
   "source": [
    "mannwhitneyu(Annual_Income_target_0, Annual_Income_target_1)"
   ]
  },
  {
   "cell_type": "markdown",
   "id": "8084bbe6",
   "metadata": {},
   "source": [
    "Согласно значению p-value, гипотеза о равности мат. ожиданий отвергается, но стоит ради дополнительной проверки обратиться к доверительным интервалам."
   ]
  },
  {
   "cell_type": "code",
   "execution_count": 421,
   "id": "e2fd2221",
   "metadata": {},
   "outputs": [
    {
     "data": {
      "image/png": "[encoded data removed]",
      "text/plain": [
       "<Figure size 576x360 with 1 Axes>"
      ]
     },
     "metadata": {
      "needs_background": "light"
     },
     "output_type": "display_data"
    }
   ],
   "source": [
    "plt.figure(figsize=(8, 5))\n",
    "sns.pointplot(x=TARGET_NAME, y='Annual Income', data=Annual_Income_with_target_s, capsize=.1)\n",
    "plt.title('Confidence intervals (95 %) for Annual Income')\n",
    "plt.grid(True)\n",
    "plt.show()"
   ]
  },
  {
   "cell_type": "markdown",
   "id": "010d25bc",
   "metadata": {},
   "source": [
    "По данному графику так же видно, что интервалы, в которых с 95% вероятностью должны находится истинные мат. ожидания этих двух групп, не пересекаются, что подтверждает результаты полученные с помощью критерия Манна-Уитни.\n",
    "Это означает, что группы из которых взяты данные выборки, с допускаемой нами вероятностью (95%), имеют различные распределения."
   ]
  },
  {
   "cell_type": "code",
   "execution_count": 422,
   "id": "bc85ece3",
   "metadata": {},
   "outputs": [
    {
     "data": {
      "image/png": "[encoded data removed]",
      "text/plain": [
       "<Figure size 720x576 with 1 Axes>"
      ]
     },
     "metadata": {
      "needs_background": "light"
     },
     "output_type": "display_data"
    }
   ],
   "source": [
    "# корреляция признаков с 'Credit Score'\n",
    "FEATURES = df.columns.drop('Credit Score').tolist()\n",
    "corr_Credit_Score = np.abs(df[FEATURES + ['Credit Score']].corr().iloc[:-1, -1]).sort_values(ascending=False)\n",
    "\n",
    "plt.figure(figsize=(10, 8))\n",
    "\n",
    "sns.barplot(x=corr_Credit_Score.values, y=corr_Credit_Score.index)\n",
    "\n",
    "plt.title('Correlation Credit Score')\n",
    "plt.show()"
   ]
  },
  {
   "cell_type": "code",
   "execution_count": 423,
   "id": "b2e12fa0",
   "metadata": {},
   "outputs": [],
   "source": [
    "knn = KNNImputer(n_neighbors=3) # ориентируемся на трех ближайших соседей\n",
    "knn.fit(df[['Credit Score', 'Current Loan Amount', 'Annual Income', 'Term_Long Term']])\n",
    "data_ = knn.transform(df[['Credit Score', 'Current Loan Amount', 'Annual Income', 'Term_Long Term']])\n",
    "df[['Credit Score', 'Current Loan Amount', 'Annual Income', 'Term_Long Term']] = data_"
   ]
  },
  {
   "cell_type": "markdown",
   "id": "29fcb93c",
   "metadata": {
    "id": "PXxJnfl0YMif"
   },
   "source": [
    "### 4. Обработка выбросов<a class=\"anchor\" id=\"outliers\"></a>"
   ]
  },
  {
   "cell_type": "code",
   "execution_count": 424,
   "id": "4c1b8710",
   "metadata": {},
   "outputs": [
    {
     "data": {
      "text/html": [
       "<div>\n",
       "<style scoped>\n",
       "    .dataframe tbody tr th:only-of-type {\n",
       "        vertical-align: middle;\n",
       "    }\n",
       "\n",
       "    .dataframe tbody tr th {\n",
       "        vertical-align: top;\n",
       "    }\n",
       "\n",
       "    .dataframe thead th {\n",
       "        text-align: right;\n",
       "    }\n",
       "</style>\n",
       "<table border=\"1\" class=\"dataframe\">\n",
       "  <thead>\n",
       "    <tr style=\"text-align: right;\">\n",
       "      <th></th>\n",
       "      <th>count</th>\n",
       "      <th>mean</th>\n",
       "      <th>std</th>\n",
       "      <th>min</th>\n",
       "      <th>25%</th>\n",
       "      <th>50%</th>\n",
       "      <th>75%</th>\n",
       "      <th>max</th>\n",
       "    </tr>\n",
       "  </thead>\n",
       "  <tbody>\n",
       "    <tr>\n",
       "      <th>Annual Income</th>\n",
       "      <td>7500.0</td>\n",
       "      <td>1.352293e+06</td>\n",
       "      <td>7.941416e+05</td>\n",
       "      <td>164597.0</td>\n",
       "      <td>859294.0</td>\n",
       "      <td>1.175862e+06</td>\n",
       "      <td>1616534.25</td>\n",
       "      <td>1.014934e+07</td>\n",
       "    </tr>\n",
       "    <tr>\n",
       "      <th>Years in current job</th>\n",
       "      <td>7500.0</td>\n",
       "      <td>5.627000e+00</td>\n",
       "      <td>3.698720e+00</td>\n",
       "      <td>0.0</td>\n",
       "      <td>2.0</td>\n",
       "      <td>6.000000e+00</td>\n",
       "      <td>10.00</td>\n",
       "      <td>1.000000e+01</td>\n",
       "    </tr>\n",
       "    <tr>\n",
       "      <th>Tax Liens</th>\n",
       "      <td>7500.0</td>\n",
       "      <td>3.013333e-02</td>\n",
       "      <td>2.716035e-01</td>\n",
       "      <td>0.0</td>\n",
       "      <td>0.0</td>\n",
       "      <td>0.000000e+00</td>\n",
       "      <td>0.00</td>\n",
       "      <td>7.000000e+00</td>\n",
       "    </tr>\n",
       "    <tr>\n",
       "      <th>Number of Open Accounts</th>\n",
       "      <td>7500.0</td>\n",
       "      <td>1.113093e+01</td>\n",
       "      <td>4.908924e+00</td>\n",
       "      <td>2.0</td>\n",
       "      <td>8.0</td>\n",
       "      <td>1.000000e+01</td>\n",
       "      <td>14.00</td>\n",
       "      <td>4.300000e+01</td>\n",
       "    </tr>\n",
       "    <tr>\n",
       "      <th>Years of Credit History</th>\n",
       "      <td>7500.0</td>\n",
       "      <td>1.831747e+01</td>\n",
       "      <td>7.041946e+00</td>\n",
       "      <td>4.0</td>\n",
       "      <td>13.5</td>\n",
       "      <td>1.700000e+01</td>\n",
       "      <td>21.80</td>\n",
       "      <td>5.770000e+01</td>\n",
       "    </tr>\n",
       "    <tr>\n",
       "      <th>Maximum Open Credit</th>\n",
       "      <td>7500.0</td>\n",
       "      <td>9.451537e+05</td>\n",
       "      <td>1.602622e+07</td>\n",
       "      <td>0.0</td>\n",
       "      <td>279229.5</td>\n",
       "      <td>4.781590e+05</td>\n",
       "      <td>793501.50</td>\n",
       "      <td>1.304726e+09</td>\n",
       "    </tr>\n",
       "    <tr>\n",
       "      <th>Number of Credit Problems</th>\n",
       "      <td>7500.0</td>\n",
       "      <td>1.700000e-01</td>\n",
       "      <td>4.985978e-01</td>\n",
       "      <td>0.0</td>\n",
       "      <td>0.0</td>\n",
       "      <td>0.000000e+00</td>\n",
       "      <td>0.00</td>\n",
       "      <td>7.000000e+00</td>\n",
       "    </tr>\n",
       "    <tr>\n",
       "      <th>Months since last delinquent</th>\n",
       "      <td>7500.0</td>\n",
       "      <td>1.581520e+01</td>\n",
       "      <td>2.264944e+01</td>\n",
       "      <td>0.0</td>\n",
       "      <td>0.0</td>\n",
       "      <td>0.000000e+00</td>\n",
       "      <td>29.00</td>\n",
       "      <td>1.180000e+02</td>\n",
       "    </tr>\n",
       "    <tr>\n",
       "      <th>Bankruptcies</th>\n",
       "      <td>7500.0</td>\n",
       "      <td>1.154667e-01</td>\n",
       "      <td>3.358807e-01</td>\n",
       "      <td>0.0</td>\n",
       "      <td>0.0</td>\n",
       "      <td>0.000000e+00</td>\n",
       "      <td>0.00</td>\n",
       "      <td>2.000000e+00</td>\n",
       "    </tr>\n",
       "    <tr>\n",
       "      <th>Current Loan Amount</th>\n",
       "      <td>7500.0</td>\n",
       "      <td>1.187318e+07</td>\n",
       "      <td>3.192612e+07</td>\n",
       "      <td>11242.0</td>\n",
       "      <td>180169.0</td>\n",
       "      <td>3.095730e+05</td>\n",
       "      <td>519882.00</td>\n",
       "      <td>1.000000e+08</td>\n",
       "    </tr>\n",
       "    <tr>\n",
       "      <th>Current Credit Balance</th>\n",
       "      <td>7500.0</td>\n",
       "      <td>2.898332e+05</td>\n",
       "      <td>3.178714e+05</td>\n",
       "      <td>0.0</td>\n",
       "      <td>114256.5</td>\n",
       "      <td>2.093230e+05</td>\n",
       "      <td>360406.25</td>\n",
       "      <td>6.506797e+06</td>\n",
       "    </tr>\n",
       "    <tr>\n",
       "      <th>Monthly Debt</th>\n",
       "      <td>7500.0</td>\n",
       "      <td>1.831445e+04</td>\n",
       "      <td>1.192676e+04</td>\n",
       "      <td>0.0</td>\n",
       "      <td>10067.5</td>\n",
       "      <td>1.607650e+04</td>\n",
       "      <td>23818.00</td>\n",
       "      <td>1.366790e+05</td>\n",
       "    </tr>\n",
       "    <tr>\n",
       "      <th>Credit Score</th>\n",
       "      <td>7500.0</td>\n",
       "      <td>1.161019e+03</td>\n",
       "      <td>1.493980e+03</td>\n",
       "      <td>585.0</td>\n",
       "      <td>712.0</td>\n",
       "      <td>7.303333e+02</td>\n",
       "      <td>743.00</td>\n",
       "      <td>7.510000e+03</td>\n",
       "    </tr>\n",
       "    <tr>\n",
       "      <th>Credit Default</th>\n",
       "      <td>7500.0</td>\n",
       "      <td>2.817333e-01</td>\n",
       "      <td>4.498740e-01</td>\n",
       "      <td>0.0</td>\n",
       "      <td>0.0</td>\n",
       "      <td>0.000000e+00</td>\n",
       "      <td>1.00</td>\n",
       "      <td>1.000000e+00</td>\n",
       "    </tr>\n",
       "    <tr>\n",
       "      <th>Annual Income Unknown</th>\n",
       "      <td>7500.0</td>\n",
       "      <td>2.076000e-01</td>\n",
       "      <td>4.056158e-01</td>\n",
       "      <td>0.0</td>\n",
       "      <td>0.0</td>\n",
       "      <td>0.000000e+00</td>\n",
       "      <td>0.00</td>\n",
       "      <td>1.000000e+00</td>\n",
       "    </tr>\n",
       "    <tr>\n",
       "      <th>Bad Background</th>\n",
       "      <td>7500.0</td>\n",
       "      <td>2.476000e-01</td>\n",
       "      <td>6.376638e-01</td>\n",
       "      <td>0.0</td>\n",
       "      <td>0.0</td>\n",
       "      <td>0.000000e+00</td>\n",
       "      <td>0.00</td>\n",
       "      <td>2.000000e+00</td>\n",
       "    </tr>\n",
       "    <tr>\n",
       "      <th>Purpose_business loan</th>\n",
       "      <td>7500.0</td>\n",
       "      <td>2.066667e-02</td>\n",
       "      <td>1.422753e-01</td>\n",
       "      <td>0.0</td>\n",
       "      <td>0.0</td>\n",
       "      <td>0.000000e+00</td>\n",
       "      <td>0.00</td>\n",
       "      <td>1.000000e+00</td>\n",
       "    </tr>\n",
       "    <tr>\n",
       "      <th>Purpose_buy a car</th>\n",
       "      <td>7500.0</td>\n",
       "      <td>1.280000e-02</td>\n",
       "      <td>1.124182e-01</td>\n",
       "      <td>0.0</td>\n",
       "      <td>0.0</td>\n",
       "      <td>0.000000e+00</td>\n",
       "      <td>0.00</td>\n",
       "      <td>1.000000e+00</td>\n",
       "    </tr>\n",
       "    <tr>\n",
       "      <th>Purpose_buy house</th>\n",
       "      <td>7500.0</td>\n",
       "      <td>4.533333e-03</td>\n",
       "      <td>6.718172e-02</td>\n",
       "      <td>0.0</td>\n",
       "      <td>0.0</td>\n",
       "      <td>0.000000e+00</td>\n",
       "      <td>0.00</td>\n",
       "      <td>1.000000e+00</td>\n",
       "    </tr>\n",
       "    <tr>\n",
       "      <th>Purpose_debt consolidation</th>\n",
       "      <td>7500.0</td>\n",
       "      <td>7.925333e-01</td>\n",
       "      <td>4.055196e-01</td>\n",
       "      <td>0.0</td>\n",
       "      <td>1.0</td>\n",
       "      <td>1.000000e+00</td>\n",
       "      <td>1.00</td>\n",
       "      <td>1.000000e+00</td>\n",
       "    </tr>\n",
       "    <tr>\n",
       "      <th>Purpose_educational expenses</th>\n",
       "      <td>7500.0</td>\n",
       "      <td>1.333333e-03</td>\n",
       "      <td>3.649292e-02</td>\n",
       "      <td>0.0</td>\n",
       "      <td>0.0</td>\n",
       "      <td>0.000000e+00</td>\n",
       "      <td>0.00</td>\n",
       "      <td>1.000000e+00</td>\n",
       "    </tr>\n",
       "    <tr>\n",
       "      <th>Purpose_home improvements</th>\n",
       "      <td>7500.0</td>\n",
       "      <td>5.493333e-02</td>\n",
       "      <td>2.278653e-01</td>\n",
       "      <td>0.0</td>\n",
       "      <td>0.0</td>\n",
       "      <td>0.000000e+00</td>\n",
       "      <td>0.00</td>\n",
       "      <td>1.000000e+00</td>\n",
       "    </tr>\n",
       "    <tr>\n",
       "      <th>Purpose_major purchase</th>\n",
       "      <td>7500.0</td>\n",
       "      <td>5.333333e-03</td>\n",
       "      <td>7.283952e-02</td>\n",
       "      <td>0.0</td>\n",
       "      <td>0.0</td>\n",
       "      <td>0.000000e+00</td>\n",
       "      <td>0.00</td>\n",
       "      <td>1.000000e+00</td>\n",
       "    </tr>\n",
       "    <tr>\n",
       "      <th>Purpose_medical bills</th>\n",
       "      <td>7500.0</td>\n",
       "      <td>9.466667e-03</td>\n",
       "      <td>9.684162e-02</td>\n",
       "      <td>0.0</td>\n",
       "      <td>0.0</td>\n",
       "      <td>0.000000e+00</td>\n",
       "      <td>0.00</td>\n",
       "      <td>1.000000e+00</td>\n",
       "    </tr>\n",
       "    <tr>\n",
       "      <th>Purpose_moving</th>\n",
       "      <td>7500.0</td>\n",
       "      <td>1.466667e-03</td>\n",
       "      <td>3.827154e-02</td>\n",
       "      <td>0.0</td>\n",
       "      <td>0.0</td>\n",
       "      <td>0.000000e+00</td>\n",
       "      <td>0.00</td>\n",
       "      <td>1.000000e+00</td>\n",
       "    </tr>\n",
       "    <tr>\n",
       "      <th>Purpose_other</th>\n",
       "      <td>7500.0</td>\n",
       "      <td>8.893333e-02</td>\n",
       "      <td>2.846665e-01</td>\n",
       "      <td>0.0</td>\n",
       "      <td>0.0</td>\n",
       "      <td>0.000000e+00</td>\n",
       "      <td>0.00</td>\n",
       "      <td>1.000000e+00</td>\n",
       "    </tr>\n",
       "    <tr>\n",
       "      <th>Purpose_take a trip</th>\n",
       "      <td>7500.0</td>\n",
       "      <td>6.000000e-03</td>\n",
       "      <td>7.723209e-02</td>\n",
       "      <td>0.0</td>\n",
       "      <td>0.0</td>\n",
       "      <td>0.000000e+00</td>\n",
       "      <td>0.00</td>\n",
       "      <td>1.000000e+00</td>\n",
       "    </tr>\n",
       "    <tr>\n",
       "      <th>Purpose_wedding</th>\n",
       "      <td>7500.0</td>\n",
       "      <td>2.000000e-03</td>\n",
       "      <td>4.467959e-02</td>\n",
       "      <td>0.0</td>\n",
       "      <td>0.0</td>\n",
       "      <td>0.000000e+00</td>\n",
       "      <td>0.00</td>\n",
       "      <td>1.000000e+00</td>\n",
       "    </tr>\n",
       "    <tr>\n",
       "      <th>Term_Long Term</th>\n",
       "      <td>7500.0</td>\n",
       "      <td>2.592000e-01</td>\n",
       "      <td>4.382248e-01</td>\n",
       "      <td>0.0</td>\n",
       "      <td>0.0</td>\n",
       "      <td>0.000000e+00</td>\n",
       "      <td>1.00</td>\n",
       "      <td>1.000000e+00</td>\n",
       "    </tr>\n",
       "    <tr>\n",
       "      <th>Term_Short Term</th>\n",
       "      <td>7500.0</td>\n",
       "      <td>7.408000e-01</td>\n",
       "      <td>4.382248e-01</td>\n",
       "      <td>0.0</td>\n",
       "      <td>0.0</td>\n",
       "      <td>1.000000e+00</td>\n",
       "      <td>1.00</td>\n",
       "      <td>1.000000e+00</td>\n",
       "    </tr>\n",
       "  </tbody>\n",
       "</table>\n",
       "</div>"
      ],
      "text/plain": [
       "                               count          mean           std       min  \\\n",
       "Annual Income                 7500.0  1.352293e+06  7.941416e+05  164597.0   \n",
       "Years in current job          7500.0  5.627000e+00  3.698720e+00       0.0   \n",
       "Tax Liens                     7500.0  3.013333e-02  2.716035e-01       0.0   \n",
       "Number of Open Accounts       7500.0  1.113093e+01  4.908924e+00       2.0   \n",
       "Years of Credit History       7500.0  1.831747e+01  7.041946e+00       4.0   \n",
       "Maximum Open Credit           7500.0  9.451537e+05  1.602622e+07       0.0   \n",
       "Number of Credit Problems     7500.0  1.700000e-01  4.985978e-01       0.0   \n",
       "Months since last delinquent  7500.0  1.581520e+01  2.264944e+01       0.0   \n",
       "Bankruptcies                  7500.0  1.154667e-01  3.358807e-01       0.0   \n",
       "Current Loan Amount           7500.0  1.187318e+07  3.192612e+07   11242.0   \n",
       "Current Credit Balance        7500.0  2.898332e+05  3.178714e+05       0.0   \n",
       "Monthly Debt                  7500.0  1.831445e+04  1.192676e+04       0.0   \n",
       "Credit Score                  7500.0  1.161019e+03  1.493980e+03     585.0   \n",
       "Credit Default                7500.0  2.817333e-01  4.498740e-01       0.0   \n",
       "Annual Income Unknown         7500.0  2.076000e-01  4.056158e-01       0.0   \n",
       "Bad Background                7500.0  2.476000e-01  6.376638e-01       0.0   \n",
       "Purpose_business loan         7500.0  2.066667e-02  1.422753e-01       0.0   \n",
       "Purpose_buy a car             7500.0  1.280000e-02  1.124182e-01       0.0   \n",
       "Purpose_buy house             7500.0  4.533333e-03  6.718172e-02       0.0   \n",
       "Purpose_debt consolidation    7500.0  7.925333e-01  4.055196e-01       0.0   \n",
       "Purpose_educational expenses  7500.0  1.333333e-03  3.649292e-02       0.0   \n",
       "Purpose_home improvements     7500.0  5.493333e-02  2.278653e-01       0.0   \n",
       "Purpose_major purchase        7500.0  5.333333e-03  7.283952e-02       0.0   \n",
       "Purpose_medical bills         7500.0  9.466667e-03  9.684162e-02       0.0   \n",
       "Purpose_moving                7500.0  1.466667e-03  3.827154e-02       0.0   \n",
       "Purpose_other                 7500.0  8.893333e-02  2.846665e-01       0.0   \n",
       "Purpose_take a trip           7500.0  6.000000e-03  7.723209e-02       0.0   \n",
       "Purpose_wedding               7500.0  2.000000e-03  4.467959e-02       0.0   \n",
       "Term_Long Term                7500.0  2.592000e-01  4.382248e-01       0.0   \n",
       "Term_Short Term               7500.0  7.408000e-01  4.382248e-01       0.0   \n",
       "\n",
       "                                   25%           50%         75%           max  \n",
       "Annual Income                 859294.0  1.175862e+06  1616534.25  1.014934e+07  \n",
       "Years in current job               2.0  6.000000e+00       10.00  1.000000e+01  \n",
       "Tax Liens                          0.0  0.000000e+00        0.00  7.000000e+00  \n",
       "Number of Open Accounts            8.0  1.000000e+01       14.00  4.300000e+01  \n",
       "Years of Credit History           13.5  1.700000e+01       21.80  5.770000e+01  \n",
       "Maximum Open Credit           279229.5  4.781590e+05   793501.50  1.304726e+09  \n",
       "Number of Credit Problems          0.0  0.000000e+00        0.00  7.000000e+00  \n",
       "Months since last delinquent       0.0  0.000000e+00       29.00  1.180000e+02  \n",
       "Bankruptcies                       0.0  0.000000e+00        0.00  2.000000e+00  \n",
       "Current Loan Amount           180169.0  3.095730e+05   519882.00  1.000000e+08  \n",
       "Current Credit Balance        114256.5  2.093230e+05   360406.25  6.506797e+06  \n",
       "Monthly Debt                   10067.5  1.607650e+04    23818.00  1.366790e+05  \n",
       "Credit Score                     712.0  7.303333e+02      743.00  7.510000e+03  \n",
       "Credit Default                     0.0  0.000000e+00        1.00  1.000000e+00  \n",
       "Annual Income Unknown              0.0  0.000000e+00        0.00  1.000000e+00  \n",
       "Bad Background                     0.0  0.000000e+00        0.00  2.000000e+00  \n",
       "Purpose_business loan              0.0  0.000000e+00        0.00  1.000000e+00  \n",
       "Purpose_buy a car                  0.0  0.000000e+00        0.00  1.000000e+00  \n",
       "Purpose_buy house                  0.0  0.000000e+00        0.00  1.000000e+00  \n",
       "Purpose_debt consolidation         1.0  1.000000e+00        1.00  1.000000e+00  \n",
       "Purpose_educational expenses       0.0  0.000000e+00        0.00  1.000000e+00  \n",
       "Purpose_home improvements          0.0  0.000000e+00        0.00  1.000000e+00  \n",
       "Purpose_major purchase             0.0  0.000000e+00        0.00  1.000000e+00  \n",
       "Purpose_medical bills              0.0  0.000000e+00        0.00  1.000000e+00  \n",
       "Purpose_moving                     0.0  0.000000e+00        0.00  1.000000e+00  \n",
       "Purpose_other                      0.0  0.000000e+00        0.00  1.000000e+00  \n",
       "Purpose_take a trip                0.0  0.000000e+00        0.00  1.000000e+00  \n",
       "Purpose_wedding                    0.0  0.000000e+00        0.00  1.000000e+00  \n",
       "Term_Long Term                     0.0  0.000000e+00        1.00  1.000000e+00  \n",
       "Term_Short Term                    0.0  1.000000e+00        1.00  1.000000e+00  "
      ]
     },
     "execution_count": 424,
     "metadata": {},
     "output_type": "execute_result"
    }
   ],
   "source": [
    "df.describe().T"
   ]
  },
  {
   "cell_type": "code",
   "execution_count": 425,
   "id": "f9815211",
   "metadata": {},
   "outputs": [
    {
     "data": {
      "text/plain": [
       "Index(['Home Ownership', 'Annual Income', 'Years in current job', 'Tax Liens',\n",
       "       'Number of Open Accounts', 'Years of Credit History',\n",
       "       'Maximum Open Credit', 'Number of Credit Problems',\n",
       "       'Months since last delinquent', 'Bankruptcies', 'Purpose', 'Term',\n",
       "       'Current Loan Amount', 'Current Credit Balance', 'Monthly Debt',\n",
       "       'Credit Score', 'Credit Default', 'Annual Income Unknown',\n",
       "       'Bad Background', 'Purpose_business loan', 'Purpose_buy a car',\n",
       "       'Purpose_buy house', 'Purpose_debt consolidation',\n",
       "       'Purpose_educational expenses', 'Purpose_home improvements',\n",
       "       'Purpose_major purchase', 'Purpose_medical bills', 'Purpose_moving',\n",
       "       'Purpose_other', 'Purpose_take a trip', 'Purpose_wedding',\n",
       "       'Term_Long Term', 'Term_Short Term'],\n",
       "      dtype='object')"
      ]
     },
     "execution_count": 425,
     "metadata": {},
     "output_type": "execute_result"
    }
   ],
   "source": [
    "df.columns"
   ]
  },
  {
   "cell_type": "code",
   "execution_count": 426,
   "id": "45ce7c87",
   "metadata": {},
   "outputs": [
    {
     "data": {
      "image/png": "[encoded data removed]",
      "text/plain": [
       "<Figure size 1152x360 with 1 Axes>"
      ]
     },
     "metadata": {
      "needs_background": "light"
     },
     "output_type": "display_data"
    },
    {
     "data": {
      "image/png": "[encoded data removed]",
      "text/plain": [
       "<Figure size 1152x216 with 1 Axes>"
      ]
     },
     "metadata": {
      "needs_background": "light"
     },
     "output_type": "display_data"
    }
   ],
   "source": [
    "plt.figure(figsize=(16, 5))\n",
    "sns.violinplot(df['Maximum Open Credit'])\n",
    "sns.stripplot(df['Maximum Open Credit'], color='orange')\n",
    "plt.show()\n",
    "\n",
    "plt.figure(figsize=(16, 3))\n",
    "sns.boxplot(df['Months since last delinquent'])\n",
    "sns.stripplot(df['Months since last delinquent'], color='orange')\n",
    "plt.show()"
   ]
  },
  {
   "cell_type": "code",
   "execution_count": 427,
   "id": "fb94f35f",
   "metadata": {},
   "outputs": [
    {
     "name": "stdout",
     "output_type": "stream",
     "text": [
      "Maximum_Open_Credit_max_value = 1706333.1999999997\n",
      "Months_since_last_delinquent_max_value = 79.0\n"
     ]
    }
   ],
   "source": [
    "Maximum_Open_Credit_max_value = np.quantile(df['Maximum Open Credit'], q = 0.95)\n",
    "print(f'Maximum_Open_Credit_max_value = {Maximum_Open_Credit_max_value}')\n",
    "# df.loc[(df['Maximum Open Credit'] > Maximum_Open_Credit_max_value), 'Maximum Open Credit'].count()\n",
    "df.loc[(df['Maximum Open Credit'] > Maximum_Open_Credit_max_value), 'Maximum Open Credit'] = Maximum_Open_Credit_max_value\n",
    "\n",
    "Months_since_last_delinquent_max_value = np.quantile(df['Months since last delinquent'], q = 0.99)\n",
    "print(f'Months_since_last_delinquent_max_value = {Months_since_last_delinquent_max_value}')\n",
    "# df.loc[(df['Months since last delinquent'] > Months_since_last_delinquent_max_value), 'Months since last delinquent'].count()\n",
    "df.loc[(df['Months since last delinquent'] > Months_since_last_delinquent_max_value), 'Months since last delinquent'] = Months_since_last_delinquent_max_value"
   ]
  },
  {
   "cell_type": "code",
   "execution_count": 428,
   "id": "94e74efb",
   "metadata": {},
   "outputs": [
    {
     "data": {
      "image/png": "[encoded data removed]",
      "text/plain": [
       "<Figure size 2304x144 with 1 Axes>"
      ]
     },
     "metadata": {
      "needs_background": "light"
     },
     "output_type": "display_data"
    },
    {
     "data": {
      "text/plain": [
       "99999999.0    870\n",
       "218064.0        6\n",
       "89298.0         6\n",
       "222926.0        5\n",
       "265826.0        5\n",
       "             ... \n",
       "351626.0        1\n",
       "212498.0        1\n",
       "187682.0        1\n",
       "108922.0        1\n",
       "26928.0         1\n",
       "Name: Current Loan Amount, Length: 5386, dtype: int64"
      ]
     },
     "execution_count": 428,
     "metadata": {},
     "output_type": "execute_result"
    }
   ],
   "source": [
    "plt.figure(figsize=(32, 2))\n",
    "sns.boxplot(df['Current Loan Amount'])\n",
    "sns.stripplot(df['Current Loan Amount'], color='orange')\n",
    "plt.show()\n",
    "\n",
    "df['Current Loan Amount'].value_counts()"
   ]
  },
  {
   "cell_type": "markdown",
   "id": "05d1ac77",
   "metadata": {},
   "source": [
    "Замечаем, что выброс значительный (предположим, что текущая сумма кредита 'Current Loan Amount' велика, но неясно какая) и поэтому было решено ввести новый признак для данного выброса, а сам выброс в текущем признаке заполниить третьим квартилем (75м перцентилем)"
   ]
  },
  {
   "cell_type": "code",
   "execution_count": 429,
   "id": "7763db24",
   "metadata": {},
   "outputs": [],
   "source": [
    "# Вводим новый признак\n",
    "df['Current Loan Amount Out'] = (df['Current Loan Amount'] == 99999999.0)"
   ]
  },
  {
   "cell_type": "code",
   "execution_count": 430,
   "id": "6af7d0cc",
   "metadata": {},
   "outputs": [
    {
     "name": "stdout",
     "output_type": "stream",
     "text": [
      "Current_Loan_Amount_max_value = 99999999.0\n"
     ]
    }
   ],
   "source": [
    "Current_Loan_Amount_max_value = np.quantile(df['Current Loan Amount'], q = 0.95) # (q = 0.95) = 99999999.0\n",
    "Current_Loan_Amount_q75_value = np.quantile(df['Current Loan Amount'], q = 0.75)\n",
    "print(f'Current_Loan_Amount_max_value = {Current_Loan_Amount_max_value}')\n",
    "df.loc[(df['Current Loan Amount'] >= Current_Loan_Amount_max_value), 'Current Loan Amount'] = Current_Loan_Amount_q75_value"
   ]
  },
  {
   "cell_type": "code",
   "execution_count": 431,
   "id": "a095fac5",
   "metadata": {},
   "outputs": [
    {
     "data": {
      "image/png": "[encoded data removed]",
      "text/plain": [
       "<Figure size 1152x144 with 1 Axes>"
      ]
     },
     "metadata": {
      "needs_background": "light"
     },
     "output_type": "display_data"
    },
    {
     "data": {
      "image/png": "[encoded data removed]",
      "text/plain": [
       "<Figure size 1152x216 with 1 Axes>"
      ]
     },
     "metadata": {
      "needs_background": "light"
     },
     "output_type": "display_data"
    },
    {
     "data": {
      "image/png": "[encoded data removed]",
      "text/plain": [
       "<Figure size 1152x144 with 1 Axes>"
      ]
     },
     "metadata": {
      "needs_background": "light"
     },
     "output_type": "display_data"
    }
   ],
   "source": [
    "plt.figure(figsize=(16, 2))\n",
    "sns.violinplot(df['Maximum Open Credit'])\n",
    "sns.stripplot(df['Maximum Open Credit'], color='orange')\n",
    "plt.show()\n",
    "\n",
    "plt.figure(figsize=(16, 3))\n",
    "sns.boxplot(df['Months since last delinquent'])\n",
    "sns.stripplot(df['Months since last delinquent'], color='orange')\n",
    "plt.show()\n",
    "\n",
    "plt.figure(figsize=(16, 2))\n",
    "sns.violinplot(df['Current Loan Amount'])\n",
    "sns.stripplot(df['Current Loan Amount'], color='orange')\n",
    "plt.show()"
   ]
  },
  {
   "cell_type": "code",
   "execution_count": null,
   "id": "5b377386",
   "metadata": {},
   "outputs": [],
   "source": []
  },
  {
   "cell_type": "markdown",
   "id": "ae95468e",
   "metadata": {},
   "source": [
    "##### Нормализация данных"
   ]
  },
  {
   "cell_type": "code",
   "execution_count": 432,
   "id": "686ff2dc",
   "metadata": {},
   "outputs": [],
   "source": [
    "scaler = StandardScaler()\n",
    "\n",
    "df_norm = df.copy()\n",
    "df_norm[NUM_FEATURE_NAMES] = scaler.fit_transform(df_norm[NUM_FEATURE_NAMES])\n",
    "\n",
    "df = df_norm.copy()"
   ]
  },
  {
   "cell_type": "code",
   "execution_count": 433,
   "id": "eb22c2a0",
   "metadata": {},
   "outputs": [
    {
     "data": {
      "text/plain": [
       "0    5387\n",
       "1    5387\n",
       "Name: Credit Default, dtype: int64"
      ]
     },
     "execution_count": 433,
     "metadata": {},
     "output_type": "execute_result"
    }
   ],
   "source": [
    "# Проведем балансировку по таргету\n",
    "df = balance_df_by_target(data=df, target_name=TARGET_NAME, method='RandomOverSampler')\n",
    "\n",
    "df[TARGET_NAME].value_counts()"
   ]
  },
  {
   "cell_type": "code",
   "execution_count": null,
   "id": "502c78da",
   "metadata": {},
   "outputs": [],
   "source": []
  },
  {
   "cell_type": "code",
   "execution_count": 434,
   "id": "bd247147",
   "metadata": {},
   "outputs": [],
   "source": [
    "df_train = transform(data = df_train)\n",
    "df_test = transform(data = df_test)"
   ]
  },
  {
   "cell_type": "code",
   "execution_count": 435,
   "id": "dfc22494",
   "metadata": {},
   "outputs": [],
   "source": [
    "# Проведем балансировку по таргету\n",
    "df_train = balance_df_by_target(data=df_train, target_name=TARGET_NAME, method='RandomOverSampler')"
   ]
  },
  {
   "cell_type": "code",
   "execution_count": 436,
   "id": "8eb831b4",
   "metadata": {},
   "outputs": [
    {
     "name": "stdout",
     "output_type": "stream",
     "text": [
      "<class 'pandas.core.frame.DataFrame'>\n",
      "Int64Index: 10774 entries, 10071 to 9646\n",
      "Data columns (total 34 columns):\n",
      " #   Column                        Non-Null Count  Dtype  \n",
      "---  ------                        --------------  -----  \n",
      " 0   Home Ownership                10774 non-null  object \n",
      " 1   Annual Income                 10774 non-null  float64\n",
      " 2   Years in current job          10774 non-null  float64\n",
      " 3   Tax Liens                     10774 non-null  float64\n",
      " 4   Number of Open Accounts       10774 non-null  float64\n",
      " 5   Years of Credit History       10774 non-null  float64\n",
      " 6   Maximum Open Credit           10774 non-null  float64\n",
      " 7   Number of Credit Problems     10774 non-null  float64\n",
      " 8   Months since last delinquent  10774 non-null  float64\n",
      " 9   Bankruptcies                  10774 non-null  float64\n",
      " 10  Purpose                       10774 non-null  object \n",
      " 11  Term                          10774 non-null  object \n",
      " 12  Current Loan Amount           10774 non-null  float64\n",
      " 13  Current Credit Balance        10774 non-null  float64\n",
      " 14  Monthly Debt                  10774 non-null  float64\n",
      " 15  Credit Score                  10774 non-null  float64\n",
      " 16  Annual Income Unknown         10774 non-null  int64  \n",
      " 17  Bad Background                10774 non-null  int8   \n",
      " 18  Purpose_business loan         10774 non-null  uint8  \n",
      " 19  Purpose_buy a car             10774 non-null  uint8  \n",
      " 20  Purpose_buy house             10774 non-null  uint8  \n",
      " 21  Purpose_debt consolidation    10774 non-null  uint8  \n",
      " 22  Purpose_educational expenses  10774 non-null  uint8  \n",
      " 23  Purpose_home improvements     10774 non-null  uint8  \n",
      " 24  Purpose_major purchase        10774 non-null  uint8  \n",
      " 25  Purpose_medical bills         10774 non-null  uint8  \n",
      " 26  Purpose_moving                10774 non-null  uint8  \n",
      " 27  Purpose_other                 10774 non-null  uint8  \n",
      " 28  Purpose_take a trip           10774 non-null  uint8  \n",
      " 29  Purpose_wedding               10774 non-null  uint8  \n",
      " 30  Term_Long Term                10774 non-null  float64\n",
      " 31  Term_Short Term               10774 non-null  uint8  \n",
      " 32  Current Loan Amount Out       10774 non-null  bool   \n",
      " 33  Credit Default                10774 non-null  int64  \n",
      "dtypes: bool(1), float64(14), int64(2), int8(1), object(3), uint8(13)\n",
      "memory usage: 1.8+ MB\n"
     ]
    }
   ],
   "source": [
    "df_train.info()"
   ]
  },
  {
   "cell_type": "code",
   "execution_count": 437,
   "id": "9f9cdada",
   "metadata": {},
   "outputs": [
    {
     "name": "stdout",
     "output_type": "stream",
     "text": [
      "<class 'pandas.core.frame.DataFrame'>\n",
      "RangeIndex: 2500 entries, 0 to 2499\n",
      "Data columns (total 33 columns):\n",
      " #   Column                        Non-Null Count  Dtype  \n",
      "---  ------                        --------------  -----  \n",
      " 0   Home Ownership                2500 non-null   object \n",
      " 1   Annual Income                 2500 non-null   float64\n",
      " 2   Years in current job          2500 non-null   float64\n",
      " 3   Tax Liens                     2500 non-null   float64\n",
      " 4   Number of Open Accounts       2500 non-null   float64\n",
      " 5   Years of Credit History       2500 non-null   float64\n",
      " 6   Maximum Open Credit           2500 non-null   float64\n",
      " 7   Number of Credit Problems     2500 non-null   float64\n",
      " 8   Months since last delinquent  2500 non-null   float64\n",
      " 9   Bankruptcies                  2500 non-null   float64\n",
      " 10  Purpose                       2500 non-null   object \n",
      " 11  Term                          2500 non-null   object \n",
      " 12  Current Loan Amount           2500 non-null   float64\n",
      " 13  Current Credit Balance        2500 non-null   float64\n",
      " 14  Monthly Debt                  2500 non-null   float64\n",
      " 15  Credit Score                  2500 non-null   float64\n",
      " 16  Annual Income Unknown         2500 non-null   int64  \n",
      " 17  Bad Background                2500 non-null   int8   \n",
      " 18  Purpose_business loan         2500 non-null   uint8  \n",
      " 19  Purpose_buy a car             2500 non-null   uint8  \n",
      " 20  Purpose_buy house             2500 non-null   uint8  \n",
      " 21  Purpose_debt consolidation    2500 non-null   uint8  \n",
      " 22  Purpose_educational expenses  2500 non-null   uint8  \n",
      " 23  Purpose_home improvements     2500 non-null   uint8  \n",
      " 24  Purpose_major purchase        2500 non-null   uint8  \n",
      " 25  Purpose_medical bills         2500 non-null   uint8  \n",
      " 26  Purpose_moving                2500 non-null   uint8  \n",
      " 27  Purpose_other                 2500 non-null   uint8  \n",
      " 28  Purpose_take a trip           2500 non-null   uint8  \n",
      " 29  Purpose_wedding               2500 non-null   uint8  \n",
      " 30  Term_Long Term                2500 non-null   float64\n",
      " 31  Term_Short Term               2500 non-null   uint8  \n",
      " 32  Current Loan Amount Out       2500 non-null   bool   \n",
      "dtypes: bool(1), float64(14), int64(1), int8(1), object(3), uint8(13)\n",
      "memory usage: 388.3+ KB\n"
     ]
    }
   ],
   "source": [
    "df_test.info()"
   ]
  },
  {
   "cell_type": "code",
   "execution_count": 438,
   "id": "bf44bd8d",
   "metadata": {},
   "outputs": [
    {
     "data": {
      "image/png": "[encoded data removed]",
      "text/plain": [
       "<Figure size 720x576 with 1 Axes>"
      ]
     },
     "metadata": {
      "needs_background": "light"
     },
     "output_type": "display_data"
    },
    {
     "name": "stdout",
     "output_type": "stream",
     "text": [
      "Credit Score                    0.324819\n",
      "Current Loan Amount Out         0.296384\n",
      "Term_Short Term                 0.197499\n",
      "Term_Long Term                  0.197499\n",
      "Annual Income                   0.087811\n",
      "Maximum Open Credit             0.080140\n",
      "Annual Income Unknown           0.068221\n",
      "Purpose_business loan           0.057212\n",
      "Number of Open Accounts         0.034107\n",
      "Tax Liens                       0.032798\n",
      "Years in current job            0.029209\n",
      "Current Loan Amount             0.027893\n",
      "Current Credit Balance          0.025554\n",
      "Number of Credit Problems       0.024643\n",
      "Monthly Debt                    0.020486\n",
      "Purpose_educational expenses    0.020344\n",
      "Years of Credit History         0.020030\n",
      "Purpose_medical bills           0.019457\n",
      "Purpose_buy a car               0.018347\n",
      "Purpose_debt consolidation      0.017073\n",
      "Purpose_major purchase          0.016388\n",
      "Months since last delinquent    0.014774\n",
      "Purpose_moving                  0.013368\n",
      "Purpose_other                   0.008141\n",
      "Purpose_buy house               0.007196\n",
      "Purpose_take a trip             0.006185\n",
      "Bad Background                  0.005807\n",
      "Purpose_home improvements       0.005693\n",
      "Bankruptcies                    0.003561\n",
      "Purpose_wedding                 0.002011\n",
      "Name: Credit Default, dtype: float64\n"
     ]
    }
   ],
   "source": [
    "corr_with_target = np.abs(df.corr().iloc[:-1, -1]).sort_values(ascending=False)\n",
    "plt.figure(figsize=(10, 8))\n",
    "sns.barplot(x=corr_with_target.values, y=corr_with_target.index)\n",
    "plt.title('Correlation with target variable')\n",
    "plt.show()\n",
    "\n",
    "\n",
    "print(corr_with_target)"
   ]
  },
  {
   "cell_type": "markdown",
   "id": "e97c6183",
   "metadata": {
    "colab_type": "text",
    "id": "hyO87suAZ5l1"
   },
   "source": [
    "### Разбиение на train и test<a class=\"anchor\" id=\"train_and_test\"></a>"
   ]
  },
  {
   "cell_type": "code",
   "execution_count": 439,
   "id": "6725de7f",
   "metadata": {},
   "outputs": [],
   "source": [
    "df_train = df_train.loc[:,~df_train.columns.duplicated()]\n",
    "duplicate_columns = df_train.columns[df_train.columns.duplicated()]"
   ]
  },
  {
   "cell_type": "code",
   "execution_count": 440,
   "id": "23f6e774",
   "metadata": {},
   "outputs": [],
   "source": [
    "SELECTED_FEATURE_NAMES = ['Credit Score', 'Current Loan Amount Out', 'Term_Long Term', 'Term_Short Term', \n",
    "                          'Annual Income', 'Maximum Open Credit', 'Annual Income Unknown', 'Purpose_business loan']"
   ]
  },
  {
   "cell_type": "code",
   "execution_count": 441,
   "id": "9868fc1d",
   "metadata": {},
   "outputs": [],
   "source": [
    "X = df_train[SELECTED_FEATURE_NAMES]\n",
    "y = df_train[TARGET_NAME]\n",
    "# stratify для разбиения трайна и теста равномерно без перекосов в выборках\n",
    "X_train, X_test, y_train, y_test = train_test_split(X, y, shuffle=True, test_size=0.30, random_state=21, stratify=y)"
   ]
  },
  {
   "cell_type": "markdown",
   "id": "a839ce8d",
   "metadata": {
    "colab_type": "text",
    "id": "7CSTR7IqZ5mH"
   },
   "source": [
    "### Построение и оценка базовых моделей<a class=\"anchor\" id=\"baseline_modeling\"></a> "
   ]
  },
  {
   "cell_type": "markdown",
   "id": "ad454ca0",
   "metadata": {
    "colab_type": "text",
    "id": "xnQfq0xnZ5mI"
   },
   "source": [
    "**Логистическая регрессия**"
   ]
  },
  {
   "cell_type": "code",
   "execution_count": 442,
   "id": "c6baebe6",
   "metadata": {
    "colab": {},
    "colab_type": "code",
    "id": "aQax4qZEZ5mJ",
    "outputId": "2cc168cd-31e1-445e-8307-8ec33a2d90d1"
   },
   "outputs": [
    {
     "name": "stdout",
     "output_type": "stream",
     "text": [
      "TRAIN\n",
      "\n",
      "              precision    recall  f1-score   support\n",
      "\n",
      "           0       0.64      0.77      0.70      3771\n",
      "           1       0.71      0.56      0.62      3770\n",
      "\n",
      "    accuracy                           0.67      7541\n",
      "   macro avg       0.67      0.67      0.66      7541\n",
      "weighted avg       0.67      0.67      0.66      7541\n",
      "\n",
      "TEST\n",
      "\n",
      "              precision    recall  f1-score   support\n",
      "\n",
      "           0       0.62      0.75      0.68      1616\n",
      "           1       0.68      0.54      0.61      1617\n",
      "\n",
      "    accuracy                           0.65      3233\n",
      "   macro avg       0.65      0.65      0.64      3233\n",
      "weighted avg       0.65      0.65      0.64      3233\n",
      "\n",
      "CONFUSION MATRIX\n",
      "\n",
      "col_0              0    1\n",
      "Credit Default           \n",
      "0               1208  408\n",
      "1                736  881\n",
      "\n",
      "\n",
      "f1_score = 0.6063317274604266\n"
     ]
    }
   ],
   "source": [
    "# model_lr = LogisticRegression()\n",
    "# model_lr.fit(X_train, y_train)\n",
    "\n",
    "# y_train_pred = model_lr.predict(X_train)\n",
    "# y_test_pred = model_lr.predict(X_test)\n",
    "\n",
    "# get_classification_report(y_train, y_train_pred, y_test, y_test_pred)\n",
    "# print(f'\\n\\nf1_score = {f1_score(y_test, y_test_pred)}')"
   ]
  },
  {
   "cell_type": "markdown",
   "id": "1c0fe4d8",
   "metadata": {
    "colab_type": "text",
    "id": "08_r-6fVZ5mL"
   },
   "source": [
    "**k ближайших соседей**"
   ]
  },
  {
   "cell_type": "code",
   "execution_count": 443,
   "id": "a4219c50",
   "metadata": {},
   "outputs": [
    {
     "name": "stdout",
     "output_type": "stream",
     "text": [
      "TRAIN\n",
      "\n",
      "              precision    recall  f1-score   support\n",
      "\n",
      "           0       0.85      0.76      0.80      3771\n",
      "           1       0.78      0.87      0.82      3770\n",
      "\n",
      "    accuracy                           0.81      7541\n",
      "   macro avg       0.82      0.81      0.81      7541\n",
      "weighted avg       0.82      0.81      0.81      7541\n",
      "\n",
      "TEST\n",
      "\n",
      "              precision    recall  f1-score   support\n",
      "\n",
      "           0       0.74      0.66      0.70      1616\n",
      "           1       0.69      0.76      0.73      1617\n",
      "\n",
      "    accuracy                           0.71      3233\n",
      "   macro avg       0.72      0.71      0.71      3233\n",
      "weighted avg       0.72      0.71      0.71      3233\n",
      "\n",
      "CONFUSION MATRIX\n",
      "\n",
      "col_0              0     1\n",
      "Credit Default            \n",
      "0               1073   543\n",
      "1                381  1236\n",
      "\n",
      "\n",
      "f1_score = 0.7279151943462898\n"
     ]
    }
   ],
   "source": [
    "# model_knn = KNeighborsClassifier()\n",
    "# model_knn.fit(X_train, y_train)\n",
    "\n",
    "# y_train_pred = model_knn.predict(X_train)\n",
    "# y_test_pred = model_knn.predict(X_test)\n",
    "\n",
    "# get_classification_report(y_train, y_train_pred, y_test, y_test_pred)\n",
    "\n",
    "# print(f'\\n\\nf1_score = {f1_score(y_test, y_test_pred)}')"
   ]
  },
  {
   "cell_type": "markdown",
   "id": "f129b3d0",
   "metadata": {},
   "source": [
    "**Бустинговые алгоритмы**"
   ]
  },
  {
   "cell_type": "markdown",
   "id": "062d1305",
   "metadata": {
    "colab_type": "text",
    "id": "lKykqfnvZ5mW"
   },
   "source": [
    "*CatBoost*"
   ]
  },
  {
   "cell_type": "code",
   "execution_count": 444,
   "id": "5331e0d6",
   "metadata": {},
   "outputs": [
    {
     "name": "stdout",
     "output_type": "stream",
     "text": [
      "TRAIN\n",
      "\n",
      "              precision    recall  f1-score   support\n",
      "\n",
      "           0       0.82      0.85      0.84      3771\n",
      "           1       0.85      0.82      0.83      3770\n",
      "\n",
      "    accuracy                           0.84      7541\n",
      "   macro avg       0.84      0.84      0.84      7541\n",
      "weighted avg       0.84      0.84      0.84      7541\n",
      "\n",
      "TEST\n",
      "\n",
      "              precision    recall  f1-score   support\n",
      "\n",
      "           0       0.74      0.74      0.74      1616\n",
      "           1       0.74      0.73      0.74      1617\n",
      "\n",
      "    accuracy                           0.74      3233\n",
      "   macro avg       0.74      0.74      0.74      3233\n",
      "weighted avg       0.74      0.74      0.74      3233\n",
      "\n",
      "CONFUSION MATRIX\n",
      "\n",
      "col_0              0     1\n",
      "Credit Default            \n",
      "0               1201   415\n",
      "1                429  1188\n",
      "\n",
      "\n",
      "f1_score = 0.737888198757764\n"
     ]
    }
   ],
   "source": [
    "# model_catb = catb.CatBoostClassifier(silent=True, random_state=21)\n",
    "# model_catb.fit(X_train, y_train)\n",
    "\n",
    "# y_train_pred = model_catb.predict(X_train)\n",
    "# y_test_pred = model_catb.predict(X_test)\n",
    "\n",
    "# get_classification_report(y_train, y_train_pred, y_test, y_test_pred)\n",
    "# print(f'\\n\\nf1_score = {f1_score(y_test, y_test_pred)}')"
   ]
  },
  {
   "cell_type": "markdown",
   "id": "eb7537d7",
   "metadata": {
    "colab_type": "text",
    "id": "AkSmw82uZ5mO"
   },
   "source": [
    "*XGBoost*"
   ]
  },
  {
   "cell_type": "code",
   "execution_count": 445,
   "id": "0d37b08c",
   "metadata": {},
   "outputs": [
    {
     "name": "stdout",
     "output_type": "stream",
     "text": [
      "TRAIN\n",
      "\n",
      "              precision    recall  f1-score   support\n",
      "\n",
      "           0       0.91      0.92      0.92      3771\n",
      "           1       0.92      0.91      0.92      3770\n",
      "\n",
      "    accuracy                           0.92      7541\n",
      "   macro avg       0.92      0.92      0.92      7541\n",
      "weighted avg       0.92      0.92      0.92      7541\n",
      "\n",
      "TEST\n",
      "\n",
      "              precision    recall  f1-score   support\n",
      "\n",
      "           0       0.79      0.77      0.78      1616\n",
      "           1       0.77      0.80      0.78      1617\n",
      "\n",
      "    accuracy                           0.78      3233\n",
      "   macro avg       0.78      0.78      0.78      3233\n",
      "weighted avg       0.78      0.78      0.78      3233\n",
      "\n",
      "CONFUSION MATRIX\n",
      "\n",
      "col_0              0     1\n",
      "Credit Default            \n",
      "0               1240   376\n",
      "1                330  1287\n",
      "\n",
      "\n",
      "f1_score = 0.7847560975609755\n"
     ]
    }
   ],
   "source": [
    "model_xgb = xgb.XGBClassifier(random_state=21)\n",
    "model_xgb.fit(X_train, y_train)\n",
    "\n",
    "y_train_pred = model_xgb.predict(X_train)\n",
    "y_test_pred = model_xgb.predict(X_test)\n",
    "\n",
    "get_classification_report(y_train, y_train_pred, y_test, y_test_pred)\n",
    "print(f'\\n\\nf1_score = {f1_score(y_test, y_test_pred)}')"
   ]
  },
  {
   "cell_type": "code",
   "execution_count": null,
   "id": "4e317a92",
   "metadata": {},
   "outputs": [],
   "source": []
  },
  {
   "cell_type": "code",
   "execution_count": 446,
   "id": "a3bb4819",
   "metadata": {},
   "outputs": [],
   "source": [
    "# model_lgbm = lgbm.LGBMClassifier(random_state=21)\n",
    "# model_lgbm.fit(X_train, y_train)\n",
    "\n",
    "# y_train_pred = model_lgbm.predict(X_train)\n",
    "# y_test_pred = model_lgbm.predict(X_test)\n",
    "\n",
    "# get_classification_report(y_train, y_train_pred, y_test, y_test_pred)"
   ]
  },
  {
   "cell_type": "markdown",
   "id": "f913bd6c",
   "metadata": {},
   "source": [
    "### Выбор лучшей модели и подбор гиперпараметров<a class=\"anchor\" id=\"tuning_best_model\"></a> "
   ]
  },
  {
   "cell_type": "code",
   "execution_count": 447,
   "id": "4ad811fa",
   "metadata": {},
   "outputs": [],
   "source": [
    "model_xgb = xgb.XGBClassifier(random_state=21)"
   ]
  },
  {
   "cell_type": "markdown",
   "id": "2a92351a",
   "metadata": {},
   "source": [
    "**Подбор гиперпараметров**"
   ]
  },
  {
   "cell_type": "code",
   "execution_count": 448,
   "id": "f378d0c8",
   "metadata": {},
   "outputs": [],
   "source": [
    "params = {'n_estimators':[50, 100, 200, 500, 700, 1000, 1200, 1500],\n",
    "          'max_depth':[3, 5, 7, 9], 'min_child_weight':[1, 3, 6, 9]}"
   ]
  },
  {
   "cell_type": "code",
   "execution_count": 449,
   "id": "f8b60079",
   "metadata": {},
   "outputs": [],
   "source": [
    "cv=KFold(n_splits=3, random_state=21, shuffle=True)"
   ]
  },
  {
   "cell_type": "code",
   "execution_count": 450,
   "id": "75f17f0c",
   "metadata": {},
   "outputs": [
    {
     "name": "stdout",
     "output_type": "stream",
     "text": [
      "CPU times: user 47.7 s, sys: 10.3 s, total: 58 s\n",
      "Wall time: 26.7 s\n"
     ]
    },
    {
     "data": {
      "text/html": [
       "<style>#sk-container-id-10 {color: black;background-color: white;}#sk-container-id-10 pre{padding: 0;}#sk-container-id-10 div.sk-toggleable {background-color: white;}#sk-container-id-10 label.sk-toggleable__label {cursor: pointer;display: block;width: 100%;margin-bottom: 0;padding: 0.3em;box-sizing: border-box;text-align: center;}#sk-container-id-10 label.sk-toggleable__label-arrow:before {content: \"▸\";float: left;margin-right: 0.25em;color: #696969;}#sk-container-id-10 label.sk-toggleable__label-arrow:hover:before {color: black;}#sk-container-id-10 div.sk-estimator:hover label.sk-toggleable__label-arrow:before {color: black;}#sk-container-id-10 div.sk-toggleable__content {max-height: 0;max-width: 0;overflow: hidden;text-align: left;background-color: #f0f8ff;}#sk-container-id-10 div.sk-toggleable__content pre {margin: 0.2em;color: black;border-radius: 0.25em;background-color: #f0f8ff;}#sk-container-id-10 input.sk-toggleable__control:checked~div.sk-toggleable__content {max-height: 200px;max-width: 100%;overflow: auto;}#sk-container-id-10 input.sk-toggleable__control:checked~label.sk-toggleable__label-arrow:before {content: \"▾\";}#sk-container-id-10 div.sk-estimator input.sk-toggleable__control:checked~label.sk-toggleable__label {background-color: #d4ebff;}#sk-container-id-10 div.sk-label input.sk-toggleable__control:checked~label.sk-toggleable__label {background-color: #d4ebff;}#sk-container-id-10 input.sk-hidden--visually {border: 0;clip: rect(1px 1px 1px 1px);clip: rect(1px, 1px, 1px, 1px);height: 1px;margin: -1px;overflow: hidden;padding: 0;position: absolute;width: 1px;}#sk-container-id-10 div.sk-estimator {font-family: monospace;background-color: #f0f8ff;border: 1px dotted black;border-radius: 0.25em;box-sizing: border-box;margin-bottom: 0.5em;}#sk-container-id-10 div.sk-estimator:hover {background-color: #d4ebff;}#sk-container-id-10 div.sk-parallel-item::after {content: \"\";width: 100%;border-bottom: 1px solid gray;flex-grow: 1;}#sk-container-id-10 div.sk-label:hover label.sk-toggleable__label {background-color: #d4ebff;}#sk-container-id-10 div.sk-serial::before {content: \"\";position: absolute;border-left: 1px solid gray;box-sizing: border-box;top: 0;bottom: 0;left: 50%;z-index: 0;}#sk-container-id-10 div.sk-serial {display: flex;flex-direction: column;align-items: center;background-color: white;padding-right: 0.2em;padding-left: 0.2em;position: relative;}#sk-container-id-10 div.sk-item {position: relative;z-index: 1;}#sk-container-id-10 div.sk-parallel {display: flex;align-items: stretch;justify-content: center;background-color: white;position: relative;}#sk-container-id-10 div.sk-item::before, #sk-container-id-10 div.sk-parallel-item::before {content: \"\";position: absolute;border-left: 1px solid gray;box-sizing: border-box;top: 0;bottom: 0;left: 50%;z-index: -1;}#sk-container-id-10 div.sk-parallel-item {display: flex;flex-direction: column;z-index: 1;position: relative;background-color: white;}#sk-container-id-10 div.sk-parallel-item:first-child::after {align-self: flex-end;width: 50%;}#sk-container-id-10 div.sk-parallel-item:last-child::after {align-self: flex-start;width: 50%;}#sk-container-id-10 div.sk-parallel-item:only-child::after {width: 0;}#sk-container-id-10 div.sk-dashed-wrapped {border: 1px dashed gray;margin: 0 0.4em 0.5em 0.4em;box-sizing: border-box;padding-bottom: 0.4em;background-color: white;}#sk-container-id-10 div.sk-label label {font-family: monospace;font-weight: bold;display: inline-block;line-height: 1.2em;}#sk-container-id-10 div.sk-label-container {text-align: center;}#sk-container-id-10 div.sk-container {/* jupyter's `normalize.less` sets `[hidden] { display: none; }` but bootstrap.min.css set `[hidden] { display: none !important; }` so we also need the `!important` here to be able to override the default hidden behavior on the sphinx rendered scikit-learn.org. See: https://github.com/scikit-learn/scikit-learn/issues/21755 */display: inline-block !important;position: relative;}#sk-container-id-10 div.sk-text-repr-fallback {display: none;}</style><div id=\"sk-container-id-10\" class=\"sk-top-container\"><div class=\"sk-text-repr-fallback\"><pre>RandomizedSearchCV(cv=KFold(n_splits=3, random_state=21, shuffle=True),\n",
       "                   estimator=XGBClassifier(base_score=None, booster=None,\n",
       "                                           callbacks=None,\n",
       "                                           colsample_bylevel=None,\n",
       "                                           colsample_bynode=None,\n",
       "                                           colsample_bytree=None,\n",
       "                                           early_stopping_rounds=None,\n",
       "                                           enable_categorical=False,\n",
       "                                           eval_metric=None, gamma=None,\n",
       "                                           gpu_id=None, grow_policy=None,\n",
       "                                           importance_type=None,\n",
       "                                           interaction_cons...\n",
       "                                           max_delta_step=None, max_depth=None,\n",
       "                                           max_leaves=None,\n",
       "                                           min_child_weight=None, missing=nan,\n",
       "                                           monotone_constraints=None,\n",
       "                                           n_estimators=100, n_jobs=None,\n",
       "                                           num_parallel_tree=None,\n",
       "                                           predictor=None, random_state=21,\n",
       "                                           reg_alpha=None, reg_lambda=None, ...),\n",
       "                   n_jobs=-1,\n",
       "                   param_distributions={&#x27;max_depth&#x27;: [3, 5, 7, 9],\n",
       "                                        &#x27;min_child_weight&#x27;: [1, 3, 6, 9],\n",
       "                                        &#x27;n_estimators&#x27;: [50, 100, 200, 500, 700,\n",
       "                                                         1000, 1200, 1500]},\n",
       "                   scoring=&#x27;f1&#x27;)</pre><b>In a Jupyter environment, please rerun this cell to show the HTML representation or trust the notebook. <br />On GitHub, the HTML representation is unable to render, please try loading this page with nbviewer.org.</b></div><div class=\"sk-container\" hidden><div class=\"sk-item sk-dashed-wrapped\"><div class=\"sk-label-container\"><div class=\"sk-label sk-toggleable\"><input class=\"sk-toggleable__control sk-hidden--visually\" id=\"sk-estimator-id-18\" type=\"checkbox\" ><label for=\"sk-estimator-id-18\" class=\"sk-toggleable__label sk-toggleable__label-arrow\">RandomizedSearchCV</label><div class=\"sk-toggleable__content\"><pre>RandomizedSearchCV(cv=KFold(n_splits=3, random_state=21, shuffle=True),\n",
       "                   estimator=XGBClassifier(base_score=None, booster=None,\n",
       "                                           callbacks=None,\n",
       "                                           colsample_bylevel=None,\n",
       "                                           colsample_bynode=None,\n",
       "                                           colsample_bytree=None,\n",
       "                                           early_stopping_rounds=None,\n",
       "                                           enable_categorical=False,\n",
       "                                           eval_metric=None, gamma=None,\n",
       "                                           gpu_id=None, grow_policy=None,\n",
       "                                           importance_type=None,\n",
       "                                           interaction_cons...\n",
       "                                           max_delta_step=None, max_depth=None,\n",
       "                                           max_leaves=None,\n",
       "                                           min_child_weight=None, missing=nan,\n",
       "                                           monotone_constraints=None,\n",
       "                                           n_estimators=100, n_jobs=None,\n",
       "                                           num_parallel_tree=None,\n",
       "                                           predictor=None, random_state=21,\n",
       "                                           reg_alpha=None, reg_lambda=None, ...),\n",
       "                   n_jobs=-1,\n",
       "                   param_distributions={&#x27;max_depth&#x27;: [3, 5, 7, 9],\n",
       "                                        &#x27;min_child_weight&#x27;: [1, 3, 6, 9],\n",
       "                                        &#x27;n_estimators&#x27;: [50, 100, 200, 500, 700,\n",
       "                                                         1000, 1200, 1500]},\n",
       "                   scoring=&#x27;f1&#x27;)</pre></div></div></div><div class=\"sk-parallel\"><div class=\"sk-parallel-item\"><div class=\"sk-item\"><div class=\"sk-label-container\"><div class=\"sk-label sk-toggleable\"><input class=\"sk-toggleable__control sk-hidden--visually\" id=\"sk-estimator-id-19\" type=\"checkbox\" ><label for=\"sk-estimator-id-19\" class=\"sk-toggleable__label sk-toggleable__label-arrow\">estimator: XGBClassifier</label><div class=\"sk-toggleable__content\"><pre>XGBClassifier(base_score=None, booster=None, callbacks=None,\n",
       "              colsample_bylevel=None, colsample_bynode=None,\n",
       "              colsample_bytree=None, early_stopping_rounds=None,\n",
       "              enable_categorical=False, eval_metric=None, gamma=None,\n",
       "              gpu_id=None, grow_policy=None, importance_type=None,\n",
       "              interaction_constraints=None, learning_rate=None, max_bin=None,\n",
       "              max_cat_to_onehot=None, max_delta_step=None, max_depth=None,\n",
       "              max_leaves=None, min_child_weight=None, missing=nan,\n",
       "              monotone_constraints=None, n_estimators=100, n_jobs=None,\n",
       "              num_parallel_tree=None, predictor=None, random_state=21,\n",
       "              reg_alpha=None, reg_lambda=None, ...)</pre></div></div></div><div class=\"sk-serial\"><div class=\"sk-item\"><div class=\"sk-estimator sk-toggleable\"><input class=\"sk-toggleable__control sk-hidden--visually\" id=\"sk-estimator-id-20\" type=\"checkbox\" ><label for=\"sk-estimator-id-20\" class=\"sk-toggleable__label sk-toggleable__label-arrow\">XGBClassifier</label><div class=\"sk-toggleable__content\"><pre>XGBClassifier(base_score=None, booster=None, callbacks=None,\n",
       "              colsample_bylevel=None, colsample_bynode=None,\n",
       "              colsample_bytree=None, early_stopping_rounds=None,\n",
       "              enable_categorical=False, eval_metric=None, gamma=None,\n",
       "              gpu_id=None, grow_policy=None, importance_type=None,\n",
       "              interaction_constraints=None, learning_rate=None, max_bin=None,\n",
       "              max_cat_to_onehot=None, max_delta_step=None, max_depth=None,\n",
       "              max_leaves=None, min_child_weight=None, missing=nan,\n",
       "              monotone_constraints=None, n_estimators=100, n_jobs=None,\n",
       "              num_parallel_tree=None, predictor=None, random_state=21,\n",
       "              reg_alpha=None, reg_lambda=None, ...)</pre></div></div></div></div></div></div></div></div></div></div>"
      ],
      "text/plain": [
       "RandomizedSearchCV(cv=KFold(n_splits=3, random_state=21, shuffle=True),\n",
       "                   estimator=XGBClassifier(base_score=None, booster=None,\n",
       "                                           callbacks=None,\n",
       "                                           colsample_bylevel=None,\n",
       "                                           colsample_bynode=None,\n",
       "                                           colsample_bytree=None,\n",
       "                                           early_stopping_rounds=None,\n",
       "                                           enable_categorical=False,\n",
       "                                           eval_metric=None, gamma=None,\n",
       "                                           gpu_id=None, grow_policy=None,\n",
       "                                           importance_type=None,\n",
       "                                           interaction_cons...\n",
       "                                           max_delta_step=None, max_depth=None,\n",
       "                                           max_leaves=None,\n",
       "                                           min_child_weight=None, missing=nan,\n",
       "                                           monotone_constraints=None,\n",
       "                                           n_estimators=100, n_jobs=None,\n",
       "                                           num_parallel_tree=None,\n",
       "                                           predictor=None, random_state=21,\n",
       "                                           reg_alpha=None, reg_lambda=None, ...),\n",
       "                   n_jobs=-1,\n",
       "                   param_distributions={'max_depth': [3, 5, 7, 9],\n",
       "                                        'min_child_weight': [1, 3, 6, 9],\n",
       "                                        'n_estimators': [50, 100, 200, 500, 700,\n",
       "                                                         1000, 1200, 1500]},\n",
       "                   scoring='f1')"
      ]
     },
     "execution_count": 450,
     "metadata": {},
     "output_type": "execute_result"
    }
   ],
   "source": [
    "%%time\n",
    "\n",
    "rs = RandomizedSearchCV(model_xgb, params, scoring='f1', cv=cv, n_jobs=-1)\n",
    "rs.fit(X, y)"
   ]
  },
  {
   "cell_type": "code",
   "execution_count": 451,
   "id": "b4e0fd1c",
   "metadata": {},
   "outputs": [
    {
     "data": {
      "text/plain": [
       "{'n_estimators': 1200, 'min_child_weight': 6, 'max_depth': 9}"
      ]
     },
     "execution_count": 451,
     "metadata": {},
     "output_type": "execute_result"
    }
   ],
   "source": [
    "rs.best_params_"
   ]
  },
  {
   "cell_type": "code",
   "execution_count": 452,
   "id": "f288959d",
   "metadata": {},
   "outputs": [
    {
     "data": {
      "text/plain": [
       "0.8425159561870398"
      ]
     },
     "execution_count": 452,
     "metadata": {},
     "output_type": "execute_result"
    }
   ],
   "source": [
    "rs.best_score_"
   ]
  },
  {
   "cell_type": "markdown",
   "id": "524f3ef1",
   "metadata": {},
   "source": [
    "**Обучение и оценка финальной модели**"
   ]
  },
  {
   "cell_type": "code",
   "execution_count": 467,
   "id": "2aafc4c0",
   "metadata": {},
   "outputs": [
    {
     "name": "stdout",
     "output_type": "stream",
     "text": [
      "TRAIN\n",
      "\n",
      "              precision    recall  f1-score   support\n",
      "\n",
      "           0       1.00      1.00      1.00      3771\n",
      "           1       1.00      1.00      1.00      3770\n",
      "\n",
      "    accuracy                           1.00      7541\n",
      "   macro avg       1.00      1.00      1.00      7541\n",
      "weighted avg       1.00      1.00      1.00      7541\n",
      "\n",
      "TEST\n",
      "\n",
      "              precision    recall  f1-score   support\n",
      "\n",
      "           0       0.88      0.79      0.83      1616\n",
      "           1       0.81      0.89      0.85      1617\n",
      "\n",
      "    accuracy                           0.84      3233\n",
      "   macro avg       0.84      0.84      0.84      3233\n",
      "weighted avg       0.84      0.84      0.84      3233\n",
      "\n",
      "CONFUSION MATRIX\n",
      "\n",
      "col_0              0     1\n",
      "Credit Default            \n",
      "0               1279   337\n",
      "1                181  1436\n",
      "CPU times: user 38.9 s, sys: 8.04 s, total: 46.9 s\n",
      "Wall time: 8.94 s\n"
     ]
    }
   ],
   "source": [
    "%%time\n",
    "\n",
    "final_model = xgb.XGBClassifier(n_estimators=1200, min_child_weight=6, max_depth=9, random_state=21)\n",
    "final_model.fit(X_train, y_train)\n",
    "\n",
    "y_train_pred = final_model.predict(X_train)\n",
    "y_test_pred = final_model.predict(X_test)\n",
    "\n",
    "get_classification_report(y_train, y_train_pred, y_test, y_test_pred)"
   ]
  },
  {
   "cell_type": "markdown",
   "id": "62b64d8d",
   "metadata": {},
   "source": [
    "### Снижение степени переобучения<a class=\"anchor\" id=\"lowering_overfitting\"></a>"
   ]
  },
  {
   "cell_type": "code",
   "execution_count": 468,
   "id": "45c0e826",
   "metadata": {},
   "outputs": [
    {
     "name": "stdout",
     "output_type": "stream",
     "text": [
      "TRAIN\n",
      "\n",
      "              precision    recall  f1-score   support\n",
      "\n",
      "           0       0.87      0.87      0.87      3771\n",
      "           1       0.87      0.87      0.87      3770\n",
      "\n",
      "    accuracy                           0.87      7541\n",
      "   macro avg       0.87      0.87      0.87      7541\n",
      "weighted avg       0.87      0.87      0.87      7541\n",
      "\n",
      "TEST\n",
      "\n",
      "              precision    recall  f1-score   support\n",
      "\n",
      "           0       0.75      0.76      0.76      1616\n",
      "           1       0.76      0.75      0.75      1617\n",
      "\n",
      "    accuracy                           0.75      3233\n",
      "   macro avg       0.75      0.75      0.75      3233\n",
      "weighted avg       0.75      0.75      0.75      3233\n",
      "\n",
      "CONFUSION MATRIX\n",
      "\n",
      "col_0              0     1\n",
      "Credit Default            \n",
      "0               1228   388\n",
      "1                406  1211\n",
      "CPU times: user 16.4 s, sys: 2.79 s, total: 19.2 s\n",
      "Wall time: 3.86 s\n"
     ]
    }
   ],
   "source": [
    "%%time\n",
    "# min_child_weight Используется для контроля переоборудования. Более высокие значения не позволяют модели \n",
    "# изучать отношения, которые могут быть очень специфичными для конкретной выборки, выбранной для дерева\n",
    "final_model = xgb.XGBClassifier(n_estimators=1200, min_child_weight=30, max_depth=3, random_state=21)\n",
    "final_model.fit(X_train, y_train)\n",
    "\n",
    "y_train_pred = final_model.predict(X_train)\n",
    "y_test_pred = final_model.predict(X_test)\n",
    "\n",
    "get_classification_report(y_train, y_train_pred, y_test, y_test_pred)"
   ]
  },
  {
   "cell_type": "markdown",
   "id": "e82ef25c",
   "metadata": {
    "colab_type": "text",
    "id": "Htjpm4LWaFLk"
   },
   "source": [
    "### Выбор порога вероятности для определения класса<a class=\"anchor\" id=\"threshold_calibration\"></a>"
   ]
  },
  {
   "cell_type": "code",
   "execution_count": 469,
   "id": "29881b4b",
   "metadata": {},
   "outputs": [
    {
     "data": {
      "image/png": "[encoded data removed]",
      "text/plain": [
       "<Figure size 1080x360 with 2 Axes>"
      ]
     },
     "metadata": {
      "needs_background": "light"
     },
     "output_type": "display_data"
    }
   ],
   "source": [
    "show_proba_calibration_plots(y_test_pred_probs[:, 1], y_test)"
   ]
  },
  {
   "cell_type": "markdown",
   "id": "cedb271f",
   "metadata": {},
   "source": [
    "### Важность признаков<a class=\"anchor\" id=\"feature_importances\"></a>"
   ]
  },
  {
   "cell_type": "code",
   "execution_count": 470,
   "id": "4abb98ff",
   "metadata": {},
   "outputs": [
    {
     "data": {
      "image/png": "[encoded data removed]",
      "text/plain": [
       "<Figure size 1440x204.48 with 1 Axes>"
      ]
     },
     "metadata": {
      "needs_background": "light"
     },
     "output_type": "display_data"
    }
   ],
   "source": [
    "important_features_top = show_feature_importances(X_train.columns, final_model.feature_importances_, get_top=15)"
   ]
  },
  {
   "cell_type": "code",
   "execution_count": 471,
   "id": "5c718d5f",
   "metadata": {},
   "outputs": [
    {
     "data": {
      "text/plain": [
       "['Current Loan Amount Out',\n",
       " 'Term_Long Term',\n",
       " 'Purpose_business loan',\n",
       " 'Annual Income Unknown',\n",
       " 'Credit Score',\n",
       " 'Annual Income',\n",
       " 'Maximum Open Credit',\n",
       " 'Term_Short Term']"
      ]
     },
     "execution_count": 471,
     "metadata": {},
     "output_type": "execute_result"
    }
   ],
   "source": [
    "important_features_top"
   ]
  },
  {
   "cell_type": "markdown",
   "id": "50715cb7",
   "metadata": {},
   "source": [
    "### Финальная модель<a class=\"anchor\" id=\"final_model\"></a>"
   ]
  },
  {
   "cell_type": "code",
   "execution_count": 476,
   "id": "65dce0b6",
   "metadata": {},
   "outputs": [
    {
     "name": "stdout",
     "output_type": "stream",
     "text": [
      "TRAIN\n",
      "\n",
      "              precision    recall  f1-score   support\n",
      "\n",
      "           0       0.87      0.87      0.87      3771\n",
      "           1       0.87      0.87      0.87      3770\n",
      "\n",
      "    accuracy                           0.87      7541\n",
      "   macro avg       0.87      0.87      0.87      7541\n",
      "weighted avg       0.87      0.87      0.87      7541\n",
      "\n",
      "TEST\n",
      "\n",
      "              precision    recall  f1-score   support\n",
      "\n",
      "           0       0.75      0.76      0.76      1616\n",
      "           1       0.76      0.75      0.75      1617\n",
      "\n",
      "    accuracy                           0.75      3233\n",
      "   macro avg       0.75      0.75      0.75      3233\n",
      "weighted avg       0.75      0.75      0.75      3233\n",
      "\n",
      "CONFUSION MATRIX\n",
      "\n",
      "col_0              0     1\n",
      "Credit Default            \n",
      "0               1228   388\n",
      "1                406  1211\n"
     ]
    }
   ],
   "source": [
    "final_model = xgb.XGBClassifier(n_estimators=1200, min_child_weight=30, max_depth=3, random_state=21)\n",
    "final_model.fit(X_train[important_features_top], y_train)\n",
    "\n",
    "y_train_pred = final_model.predict(X_train[important_features_top])\n",
    "y_test_pred = final_model.predict(X_test[important_features_top])\n",
    "y_test_pred_probs = final_model.predict_proba(X_test[important_features_top])\n",
    "\n",
    "get_classification_report(y_train, y_train_pred, y_test, y_test_pred)"
   ]
  },
  {
   "cell_type": "code",
   "execution_count": 477,
   "id": "e20b78bd",
   "metadata": {},
   "outputs": [
    {
     "name": "stdout",
     "output_type": "stream",
     "text": [
      "0.7531094527363185\n"
     ]
    }
   ],
   "source": [
    "print(f1_score(y_test, y_test_pred))"
   ]
  },
  {
   "cell_type": "code",
   "execution_count": 481,
   "id": "03e276c5",
   "metadata": {},
   "outputs": [
    {
     "data": {
      "text/html": [
       "<div>\n",
       "<style scoped>\n",
       "    .dataframe tbody tr th:only-of-type {\n",
       "        vertical-align: middle;\n",
       "    }\n",
       "\n",
       "    .dataframe tbody tr th {\n",
       "        vertical-align: top;\n",
       "    }\n",
       "\n",
       "    .dataframe thead th {\n",
       "        text-align: right;\n",
       "    }\n",
       "</style>\n",
       "<table border=\"1\" class=\"dataframe\">\n",
       "  <thead>\n",
       "    <tr style=\"text-align: right;\">\n",
       "      <th></th>\n",
       "      <th>Id</th>\n",
       "      <th>Credit Default</th>\n",
       "    </tr>\n",
       "  </thead>\n",
       "  <tbody>\n",
       "    <tr>\n",
       "      <th>0</th>\n",
       "      <td>0</td>\n",
       "      <td>1</td>\n",
       "    </tr>\n",
       "    <tr>\n",
       "      <th>1</th>\n",
       "      <td>1</td>\n",
       "      <td>0</td>\n",
       "    </tr>\n",
       "    <tr>\n",
       "      <th>2</th>\n",
       "      <td>2</td>\n",
       "      <td>1</td>\n",
       "    </tr>\n",
       "    <tr>\n",
       "      <th>3</th>\n",
       "      <td>3</td>\n",
       "      <td>0</td>\n",
       "    </tr>\n",
       "    <tr>\n",
       "      <th>4</th>\n",
       "      <td>4</td>\n",
       "      <td>0</td>\n",
       "    </tr>\n",
       "    <tr>\n",
       "      <th>...</th>\n",
       "      <td>...</td>\n",
       "      <td>...</td>\n",
       "    </tr>\n",
       "    <tr>\n",
       "      <th>2495</th>\n",
       "      <td>2495</td>\n",
       "      <td>0</td>\n",
       "    </tr>\n",
       "    <tr>\n",
       "      <th>2496</th>\n",
       "      <td>2496</td>\n",
       "      <td>0</td>\n",
       "    </tr>\n",
       "    <tr>\n",
       "      <th>2497</th>\n",
       "      <td>2497</td>\n",
       "      <td>0</td>\n",
       "    </tr>\n",
       "    <tr>\n",
       "      <th>2498</th>\n",
       "      <td>2498</td>\n",
       "      <td>0</td>\n",
       "    </tr>\n",
       "    <tr>\n",
       "      <th>2499</th>\n",
       "      <td>2499</td>\n",
       "      <td>1</td>\n",
       "    </tr>\n",
       "  </tbody>\n",
       "</table>\n",
       "<p>2500 rows × 2 columns</p>\n",
       "</div>"
      ],
      "text/plain": [
       "        Id  Credit Default\n",
       "0        0               1\n",
       "1        1               0\n",
       "2        2               1\n",
       "3        3               0\n",
       "4        4               0\n",
       "...    ...             ...\n",
       "2495  2495               0\n",
       "2496  2496               0\n",
       "2497  2497               0\n",
       "2498  2498               0\n",
       "2499  2499               1\n",
       "\n",
       "[2500 rows x 2 columns]"
      ]
     },
     "execution_count": 481,
     "metadata": {},
     "output_type": "execute_result"
    }
   ],
   "source": [
    "y_pred = final_model.predict(df_test[important_features_top])\n",
    "result=pd.DataFrame({'Id':np.arange(2500), 'Credit Default': y_pred})\n",
    "result"
   ]
  },
  {
   "cell_type": "markdown",
   "id": "928546c8",
   "metadata": {
    "colab_type": "text",
    "id": "LLT836LbaFLz"
   },
   "source": [
    "### Сохранение результатов<a class=\"anchor\" id=\"final_model_saving\"></a>"
   ]
  },
  {
   "cell_type": "code",
   "execution_count": 482,
   "id": "2b45ce80",
   "metadata": {},
   "outputs": [],
   "source": [
    "RESULT_PATH='./AVoroshilova_predictions.csv'\n",
    "result.to_csv(RESULT_PATH, index=False)"
   ]
  },
  {
   "cell_type": "code",
   "execution_count": null,
   "id": "c8cb1295",
   "metadata": {},
   "outputs": [],
   "source": []
  }
 ],
 "metadata": {
  "kernelspec": {
   "display_name": "Python 3 (ipykernel)",
   "language": "python",
   "name": "python3"
  },
  "language_info": {
   "codemirror_mode": {
    "name": "ipython",
    "version": 3
   },
   "file_extension": ".py",
   "mimetype": "text/x-python",
   "name": "python",
   "nbconvert_exporter": "python",
   "pygments_lexer": "ipython3",
   "version": "3.9.12"
  }
 },
 "nbformat": 4,
 "nbformat_minor": 5
}
