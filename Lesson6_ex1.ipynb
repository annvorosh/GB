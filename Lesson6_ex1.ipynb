{
 "cells": [
  {
   "cell_type": "code",
   "execution_count": 5,
   "id": "7af079ac",
   "metadata": {},
   "outputs": [
    {
     "data": {
      "image/png": "[encoded data removed]",
      "text/latex": [
       "$\\displaystyle - \\log{\\left(\\sqrt{x^{2} + y^{2}} \\right)} + \\operatorname{atan}{\\left(\\frac{y}{x} \\right)}$"
      ],
      "text/plain": [
       "     ⎛   _________⎞          \n",
       "     ⎜  ╱  2    2 ⎟       ⎛y⎞\n",
       "- log⎝╲╱  x  + y  ⎠ + atan⎜─⎟\n",
       "                          ⎝x⎠"
      ]
     },
     "execution_count": 5,
     "metadata": {},
     "output_type": "execute_result"
    }
   ],
   "source": [
    "from sympy import *\n",
    "init_printing()\n",
    "\n",
    "x, y = symbols('x y')\n",
    "f = atan(y / x) - ln(sqrt(x**2 + y**2))\n",
    "f"
   ]
  },
  {
   "cell_type": "code",
   "execution_count": 6,
   "id": "76463b75",
   "metadata": {},
   "outputs": [
    {
     "data": {
      "image/png": "[encoded data removed]",
      "text/latex": [
       "$\\displaystyle \\frac{\\frac{x}{x^{2} + y^{2}} + \\frac{y}{x^{2} \\left(1 + \\frac{y^{2}}{x^{2}}\\right)}}{- \\frac{y}{x^{2} + y^{2}} + \\frac{1}{x \\left(1 + \\frac{y^{2}}{x^{2}}\\right)}}$"
      ],
      "text/plain": [
       "   x           y      \n",
       "─────── + ─────────── \n",
       " 2    2      ⎛     2⎞ \n",
       "x  + y     2 ⎜    y ⎟ \n",
       "          x ⋅⎜1 + ──⎟ \n",
       "             ⎜     2⎟ \n",
       "             ⎝    x ⎠ \n",
       "──────────────────────\n",
       "     y          1     \n",
       "- ─────── + ──────────\n",
       "   2    2     ⎛     2⎞\n",
       "  x  + y      ⎜    y ⎟\n",
       "            x⋅⎜1 + ──⎟\n",
       "              ⎜     2⎟\n",
       "              ⎝    x ⎠"
      ]
     },
     "execution_count": 6,
     "metadata": {},
     "output_type": "execute_result"
    }
   ],
   "source": [
    "- diff(f, x) / diff(f, y)"
   ]
  },
  {
   "cell_type": "code",
   "execution_count": 11,
   "id": "30367ef6",
   "metadata": {},
   "outputs": [
    {
     "data": {
      "image/png": "[encoded data removed]",
      "text/latex": [
       "$\\displaystyle \\frac{x + y}{x - y}$"
      ],
      "text/plain": [
       "x + y\n",
       "─────\n",
       "x - y"
      ]
     },
     "execution_count": 11,
     "metadata": {},
     "output_type": "execute_result"
    }
   ],
   "source": [
    "prf = (x + y) / (x - y)\n",
    "prf"
   ]
  },
  {
   "cell_type": "code",
   "execution_count": null,
   "id": "53308cb4",
   "metadata": {},
   "outputs": [],
   "source": []
  }
 ],
 "metadata": {
  "kernelspec": {
   "display_name": "Python 3",
   "language": "python",
   "name": "python3"
  },
  "language_info": {
   "codemirror_mode": {
    "name": "ipython",
    "version": 3
   },
   "file_extension": ".py",
   "mimetype": "text/x-python",
   "name": "python",
   "nbconvert_exporter": "python",
   "pygments_lexer": "ipython3",
   "version": "3.8.8"
  }
 },
 "nbformat": 4,
 "nbformat_minor": 5
}
