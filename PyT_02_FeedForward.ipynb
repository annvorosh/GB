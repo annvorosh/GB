{
 "cells": [
  {
   "cell_type": "markdown",
   "metadata": {},
   "source": [
    "# Feed-forward neural network"
   ]
  },
  {
   "cell_type": "markdown",
   "metadata": {},
   "source": [
    "\n",
    "Давайте вспомним, что такое нейронные сети прямого распространения. \n",
    "\n",
    "Нейронные сети прямого распространения (feed forward neural networks, FF или FFNN) и перцептроны (perceptrons, P) очень прямолинейны, они передают информацию от входа к выходу. Нейронные сети часто описываются в виде слоёного торта, где каждый слой состоит из входных, скрытых или выходных клеток. Клетки одного слоя не связаны между собой, а соседние слои обычно полностью связаны. Самая простая нейронная сеть имеет две входных клетки и одну выходную, и может использоваться в качестве модели логических вентилей. FFNN обычно обучается по методу обратного распространения ошибки, в котором сеть получает множества входных и выходных данных. Этот процесс называется обучением с учителем, и он отличается от обучения без учителя тем, что во втором случае множество выходных данных сеть составляет самостоятельно. Вышеупомянутая ошибка является разницей между вводом и выводом. Если у сети есть достаточное количество скрытых нейронов, она теоретически способна смоделировать взаимодействие между входным и выходными данными. Практически такие сети используются редко, но их часто комбинируют с другими типами для получения новых.\n",
    "\n",
    "По сути - это последовательность матричных умножений"
   ]
  },
  {
   "cell_type": "markdown",
   "metadata": {},
   "source": [
    "# Домашнее задание\n",
    "\n",
    "1. Добиться хорошего результата от модели, собранной на занятии (5 угаданныx картинок из 8 предложенных). Варианты изменений:\n",
    "- изменение слоёв и их количества;\n",
    "- изменение метода оптимизации;\n",
    "- изменение процесса обучения;\n",
    "- *преобразование данных transform\n"
   ]
  },
  {
   "cell_type": "code",
   "execution_count": 1,
   "metadata": {},
   "outputs": [],
   "source": [
    "# !python3 -m pip install scikit-learn"
   ]
  },
  {
   "cell_type": "code",
   "execution_count": 2,
   "metadata": {},
   "outputs": [],
   "source": [
    "# Сделаем необходимые импорты\n",
    "import torch\n",
    "import numpy as np\n",
    "\n",
    "from torch import nn\n",
    "import torchvision\n",
    "import sklearn"
   ]
  },
  {
   "cell_type": "code",
   "execution_count": 3,
   "metadata": {},
   "outputs": [],
   "source": [
    "import torch.nn.functional as F"
   ]
  },
  {
   "cell_type": "code",
   "execution_count": null,
   "metadata": {},
   "outputs": [],
   "source": []
  },
  {
   "cell_type": "code",
   "execution_count": 4,
   "metadata": {},
   "outputs": [],
   "source": [
    "from torch import optim"
   ]
  },
  {
   "cell_type": "code",
   "execution_count": 5,
   "metadata": {},
   "outputs": [],
   "source": [
    "import torchvision.transforms as transforms\n",
    "import matplotlib.pyplot as plt ### воспользуемся для отображения изображения"
   ]
  },
  {
   "cell_type": "code",
   "execution_count": 6,
   "metadata": {},
   "outputs": [
    {
     "name": "stdout",
     "output_type": "stream",
     "text": [
      "Files already downloaded and verified\n",
      "torch.Size([3, 32, 32])\n",
      "6\n"
     ]
    }
   ],
   "source": [
    "# Загрузим датасет CIFAR-100\n",
    "\n",
    "train_dataset = torchvision.datasets.CIFAR10(root='data/',\n",
    "                                             train=True,  \n",
    "                                             transform=transforms.ToTensor(), \n",
    "                                             download=True)\n",
    "\n",
    "\n",
    "image, label = train_dataset[0]\n",
    "print (image.size())\n",
    "print (label)"
   ]
  },
  {
   "cell_type": "code",
   "execution_count": 7,
   "metadata": {},
   "outputs": [
    {
     "data": {
      "text/plain": [
       "<matplotlib.image.AxesImage at 0x7ff64cff0700>"
      ]
     },
     "execution_count": 7,
     "metadata": {},
     "output_type": "execute_result"
    },
    {
     "data": {
      "image/png": "[encoded data removed]",
      "text/plain": [
       "<Figure size 640x480 with 1 Axes>"
      ]
     },
     "metadata": {},
     "output_type": "display_data"
    }
   ],
   "source": [
    "plt.imshow(image.permute(1, 2, 0).numpy())"
   ]
  },
  {
   "cell_type": "code",
   "execution_count": 8,
   "metadata": {},
   "outputs": [],
   "source": [
    "# создадим dataloader для него\n",
    "# Если вам не хватает вычислительных ресурсов, то можно вернуться к CIFAR-10\n",
    "\n",
    "train_loader = torch.utils.data.DataLoader(dataset=train_dataset,\n",
    "                                           batch_size=64, \n",
    "                                           shuffle=True)"
   ]
  },
  {
   "cell_type": "code",
   "execution_count": 9,
   "metadata": {},
   "outputs": [
    {
     "name": "stdout",
     "output_type": "stream",
     "text": [
      "Files already downloaded and verified\n"
     ]
    }
   ],
   "source": [
    "test_dataset = torchvision.datasets.CIFAR10(root='./data', train=False,\n",
    "                                       download=True, transform=transforms.ToTensor())\n",
    "test_loader = torch.utils.data.DataLoader(test_dataset, batch_size=4,\n",
    "                                         shuffle=False)"
   ]
  },
  {
   "cell_type": "code",
   "execution_count": 10,
   "metadata": {},
   "outputs": [],
   "source": [
    "classes = ('plane', 'car', 'bird', 'cat',\n",
    "           'deer', 'dog', 'frog', 'horse', 'ship', 'truck')"
   ]
  },
  {
   "cell_type": "code",
   "execution_count": 11,
   "metadata": {},
   "outputs": [
    {
     "data": {
      "text/plain": [
       "3072"
      ]
     },
     "execution_count": 11,
     "metadata": {},
     "output_type": "execute_result"
    }
   ],
   "source": [
    "3 * 32 * 32"
   ]
  },
  {
   "cell_type": "code",
   "execution_count": 12,
   "metadata": {},
   "outputs": [],
   "source": [
    "# Создайте собственную архитектуру! Можете использовать все, что угодно, но в ограничении на использование линейные слои (пока без сверток)\n",
    "# Давайте добавим ограниченный Leaky_relu, то есть output = max(0.1x, 0.5x)\n",
    "# Ваша задача добавить его в архитектуру сети как функцию активации\n",
    "\n",
    "import torch.nn.functional as F\n",
    "\n",
    "\n",
    "class Net(nn.Module):\n",
    "    def __init__(self, input_dim, hidden_dim, output_dim):\n",
    "        super().__init__()\n",
    "        self.fc1 = nn.Linear(input_dim, 4 * hidden_dim)\n",
    "#         self.fc2 = nn.Linear(4 * hidden_dim, 4 * hidden_dim)\n",
    "        self.fc2 = nn.Linear(4 * hidden_dim, 2 * hidden_dim)\n",
    "        self.fc3 = nn.Linear(2 * hidden_dim, hidden_dim)\n",
    "        self.fc4 = nn.Linear(hidden_dim, output_dim)        # добавии еще один слой\n",
    "\n",
    "    def forward(self, x):\n",
    "        x = x.view(x.shape[0], -1)\n",
    "        x = self.fc1(x)\n",
    "        x = F.leaky_relu(x, 0.05)\n",
    "        x = self.fc2(x)\n",
    "        x = F.leaky_relu(x, 0.05)\n",
    "        x = self.fc3(x)\n",
    "        x = F.leaky_relu(x, 0.05)\n",
    "        x = self.fc4(x)\n",
    "#         x = F.leaky_relu(x, 0.05)\n",
    "#         x = self.fc5(x)                  # добавии еще один слой\n",
    "#         x = F.softmax(x)                 # предсказание вероятность кпасса\n",
    "        return x\n",
    "\n",
    "\n",
    "net = Net(3072, 100, 10)"
   ]
  },
  {
   "cell_type": "code",
   "execution_count": 13,
   "metadata": {},
   "outputs": [],
   "source": [
    "criterion = nn.CrossEntropyLoss()\n",
    "# optimizer = optim.SGD(net.parameters(), lr=0.001, momentum=0.9)\n",
    "optimizer = optim.Adam(net.parameters(), lr=0.0001)"
   ]
  },
  {
   "cell_type": "code",
   "execution_count": 14,
   "metadata": {},
   "outputs": [],
   "source": [
    "# !pip install tqdm -U"
   ]
  },
  {
   "cell_type": "code",
   "execution_count": 15,
   "metadata": {},
   "outputs": [
    {
     "name": "stdout",
     "output_type": "stream",
     "text": [
      "Model state_dict: \n",
      "fc1.weight \t torch.Size([400, 3072])\n",
      "fc1.bias \t torch.Size([400])\n",
      "fc2.weight \t torch.Size([200, 400])\n",
      "fc2.bias \t torch.Size([200])\n",
      "fc3.weight \t torch.Size([100, 200])\n",
      "fc3.bias \t torch.Size([100])\n",
      "fc4.weight \t torch.Size([10, 100])\n",
      "fc4.bias \t torch.Size([10])\n"
     ]
    }
   ],
   "source": [
    "print(\"Model state_dict: \")\n",
    "for param in net.state_dict():\n",
    "    print(param, \"\\t\", net.state_dict()[param].size())"
   ]
  },
  {
   "cell_type": "code",
   "execution_count": 16,
   "metadata": {},
   "outputs": [],
   "source": [
    "from tqdm import tqdm"
   ]
  },
  {
   "cell_type": "code",
   "execution_count": 17,
   "metadata": {},
   "outputs": [
    {
     "name": "stderr",
     "output_type": "stream",
     "text": [
      "\r",
      "  0%|                                                                                                                                                                                        | 0/40 [00:00<?, ?it/s]"
     ]
    },
    {
     "name": "stdout",
     "output_type": "stream",
     "text": [
      "[1,     1] loss: 0.001\n",
      "[1,   301] loss: 0.309\n",
      "[1,   601] loss: 0.282\n"
     ]
    },
    {
     "name": "stderr",
     "output_type": "stream",
     "text": [
      "\r",
      "  2%|████▍                                                                                                                                                                           | 1/40 [00:12<08:01, 12.36s/it]"
     ]
    },
    {
     "name": "stdout",
     "output_type": "stream",
     "text": [
      "[2,     1] loss: 0.001\n",
      "[2,   301] loss: 0.267\n",
      "[2,   601] loss: 0.262\n"
     ]
    },
    {
     "name": "stderr",
     "output_type": "stream",
     "text": [
      "\r",
      "  5%|████████▊                                                                                                                                                                       | 2/40 [00:24<07:48, 12.34s/it]"
     ]
    },
    {
     "name": "stdout",
     "output_type": "stream",
     "text": [
      "[3,     1] loss: 0.001\n",
      "[3,   301] loss: 0.251\n",
      "[3,   601] loss: 0.248\n"
     ]
    },
    {
     "name": "stderr",
     "output_type": "stream",
     "text": [
      "\r",
      "  8%|█████████████▏                                                                                                                                                                  | 3/40 [00:37<07:36, 12.35s/it]"
     ]
    },
    {
     "name": "stdout",
     "output_type": "stream",
     "text": [
      "[4,     1] loss: 0.001\n",
      "[4,   301] loss: 0.243\n",
      "[4,   601] loss: 0.236\n"
     ]
    },
    {
     "name": "stderr",
     "output_type": "stream",
     "text": [
      "\r",
      " 10%|█████████████████▌                                                                                                                                                              | 4/40 [00:49<07:24, 12.36s/it]"
     ]
    },
    {
     "name": "stdout",
     "output_type": "stream",
     "text": [
      "[5,     1] loss: 0.001\n",
      "[5,   301] loss: 0.235\n",
      "[5,   601] loss: 0.230\n"
     ]
    },
    {
     "name": "stderr",
     "output_type": "stream",
     "text": [
      "\r",
      " 12%|██████████████████████                                                                                                                                                          | 5/40 [01:01<07:12, 12.36s/it]"
     ]
    },
    {
     "name": "stdout",
     "output_type": "stream",
     "text": [
      "[6,     1] loss: 0.001\n",
      "[6,   301] loss: 0.226\n",
      "[6,   601] loss: 0.225\n"
     ]
    },
    {
     "name": "stderr",
     "output_type": "stream",
     "text": [
      "\r",
      " 15%|██████████████████████████▍                                                                                                                                                     | 6/40 [01:14<07:00, 12.36s/it]"
     ]
    },
    {
     "name": "stdout",
     "output_type": "stream",
     "text": [
      "[7,     1] loss: 0.001\n",
      "[7,   301] loss: 0.220\n",
      "[7,   601] loss: 0.222\n"
     ]
    },
    {
     "name": "stderr",
     "output_type": "stream",
     "text": [
      "\r",
      " 18%|██████████████████████████████▊                                                                                                                                                 | 7/40 [01:26<06:48, 12.37s/it]"
     ]
    },
    {
     "name": "stdout",
     "output_type": "stream",
     "text": [
      "[8,     1] loss: 0.001\n",
      "[8,   301] loss: 0.218\n",
      "[8,   601] loss: 0.216\n"
     ]
    },
    {
     "name": "stderr",
     "output_type": "stream",
     "text": [
      "\r",
      " 20%|███████████████████████████████████▏                                                                                                                                            | 8/40 [01:38<06:36, 12.38s/it]"
     ]
    },
    {
     "name": "stdout",
     "output_type": "stream",
     "text": [
      "[9,     1] loss: 0.001\n",
      "[9,   301] loss: 0.213\n",
      "[9,   601] loss: 0.213\n"
     ]
    },
    {
     "name": "stderr",
     "output_type": "stream",
     "text": [
      "\r",
      " 22%|███████████████████████████████████████▌                                                                                                                                        | 9/40 [01:51<06:23, 12.38s/it]"
     ]
    },
    {
     "name": "stdout",
     "output_type": "stream",
     "text": [
      "[10,     1] loss: 0.001\n",
      "[10,   301] loss: 0.210\n",
      "[10,   601] loss: 0.209\n"
     ]
    },
    {
     "name": "stderr",
     "output_type": "stream",
     "text": [
      "\r",
      " 25%|███████████████████████████████████████████▊                                                                                                                                   | 10/40 [02:03<06:11, 12.38s/it]"
     ]
    },
    {
     "name": "stdout",
     "output_type": "stream",
     "text": [
      "[11,     1] loss: 0.001\n",
      "[11,   301] loss: 0.207\n",
      "[11,   601] loss: 0.205\n"
     ]
    },
    {
     "name": "stderr",
     "output_type": "stream",
     "text": [
      "\r",
      " 28%|████████████████████████████████████████████████▏                                                                                                                              | 11/40 [02:16<05:59, 12.39s/it]"
     ]
    },
    {
     "name": "stdout",
     "output_type": "stream",
     "text": [
      "[12,     1] loss: 0.001\n",
      "[12,   301] loss: 0.201\n",
      "[12,   601] loss: 0.204\n"
     ]
    },
    {
     "name": "stderr",
     "output_type": "stream",
     "text": [
      "\r",
      " 30%|████████████████████████████████████████████████████▌                                                                                                                          | 12/40 [02:28<05:47, 12.39s/it]"
     ]
    },
    {
     "name": "stdout",
     "output_type": "stream",
     "text": [
      "[13,     1] loss: 0.001\n",
      "[13,   301] loss: 0.198\n",
      "[13,   601] loss: 0.199\n"
     ]
    },
    {
     "name": "stderr",
     "output_type": "stream",
     "text": [
      "\r",
      " 32%|████████████████████████████████████████████████████████▉                                                                                                                      | 13/40 [02:40<05:34, 12.39s/it]"
     ]
    },
    {
     "name": "stdout",
     "output_type": "stream",
     "text": [
      "[14,     1] loss: 0.001\n",
      "[14,   301] loss: 0.194\n",
      "[14,   601] loss: 0.197\n"
     ]
    },
    {
     "name": "stderr",
     "output_type": "stream",
     "text": [
      "\r",
      " 35%|█████████████████████████████████████████████████████████████▏                                                                                                                 | 14/40 [02:53<05:22, 12.40s/it]"
     ]
    },
    {
     "name": "stdout",
     "output_type": "stream",
     "text": [
      "[15,     1] loss: 0.001\n",
      "[15,   301] loss: 0.194\n",
      "[15,   601] loss: 0.192\n"
     ]
    },
    {
     "name": "stderr",
     "output_type": "stream",
     "text": [
      "\r",
      " 38%|█████████████████████████████████████████████████████████████████▋                                                                                                             | 15/40 [03:05<05:10, 12.41s/it]"
     ]
    },
    {
     "name": "stdout",
     "output_type": "stream",
     "text": [
      "[16,     1] loss: 0.001\n",
      "[16,   301] loss: 0.190\n",
      "[16,   601] loss: 0.190\n"
     ]
    },
    {
     "name": "stderr",
     "output_type": "stream",
     "text": [
      "\r",
      " 40%|██████████████████████████████████████████████████████████████████████                                                                                                         | 16/40 [03:18<04:57, 12.41s/it]"
     ]
    },
    {
     "name": "stdout",
     "output_type": "stream",
     "text": [
      "[17,     1] loss: 0.001\n",
      "[17,   301] loss: 0.185\n",
      "[17,   601] loss: 0.186\n"
     ]
    },
    {
     "name": "stderr",
     "output_type": "stream",
     "text": [
      "\r",
      " 42%|██████████████████████████████████████████████████████████████████████████▍                                                                                                    | 17/40 [03:30<04:45, 12.40s/it]"
     ]
    },
    {
     "name": "stdout",
     "output_type": "stream",
     "text": [
      "[18,     1] loss: 0.001\n",
      "[18,   301] loss: 0.183\n",
      "[18,   601] loss: 0.184\n"
     ]
    },
    {
     "name": "stderr",
     "output_type": "stream",
     "text": [
      "\r",
      " 45%|██████████████████████████████████████████████████████████████████████████████▊                                                                                                | 18/40 [03:42<04:32, 12.40s/it]"
     ]
    },
    {
     "name": "stdout",
     "output_type": "stream",
     "text": [
      "[19,     1] loss: 0.001\n",
      "[19,   301] loss: 0.180\n",
      "[19,   601] loss: 0.182\n"
     ]
    },
    {
     "name": "stderr",
     "output_type": "stream",
     "text": [
      "\r",
      " 48%|███████████████████████████████████████████████████████████████████████████████████▏                                                                                           | 19/40 [03:55<04:20, 12.40s/it]"
     ]
    },
    {
     "name": "stdout",
     "output_type": "stream",
     "text": [
      "[20,     1] loss: 0.001\n",
      "[20,   301] loss: 0.179\n",
      "[20,   601] loss: 0.178\n"
     ]
    },
    {
     "name": "stderr",
     "output_type": "stream",
     "text": [
      "\r",
      " 50%|███████████████████████████████████████████████████████████████████████████████████████▌                                                                                       | 20/40 [04:08<04:11, 12.60s/it]"
     ]
    },
    {
     "name": "stdout",
     "output_type": "stream",
     "text": [
      "[21,     1] loss: 0.001\n",
      "[21,   301] loss: 0.176\n",
      "[21,   601] loss: 0.176\n"
     ]
    },
    {
     "name": "stderr",
     "output_type": "stream",
     "text": [
      "\r",
      " 52%|███████████████████████████████████████████████████████████████████████████████████████████▉                                                                                   | 21/40 [04:20<03:58, 12.54s/it]"
     ]
    },
    {
     "name": "stdout",
     "output_type": "stream",
     "text": [
      "[22,     1] loss: 0.001\n",
      "[22,   301] loss: 0.174\n",
      "[22,   601] loss: 0.172\n"
     ]
    },
    {
     "name": "stderr",
     "output_type": "stream",
     "text": [
      "\r",
      " 55%|████████████████████████████████████████████████████████████████████████████████████████████████▎                                                                              | 22/40 [04:33<03:44, 12.49s/it]"
     ]
    },
    {
     "name": "stdout",
     "output_type": "stream",
     "text": [
      "[23,     1] loss: 0.000\n",
      "[23,   301] loss: 0.170\n",
      "[23,   601] loss: 0.171\n"
     ]
    },
    {
     "name": "stderr",
     "output_type": "stream",
     "text": [
      "\r",
      " 57%|████████████████████████████████████████████████████████████████████████████████████████████████████▌                                                                          | 23/40 [04:45<03:31, 12.47s/it]"
     ]
    },
    {
     "name": "stdout",
     "output_type": "stream",
     "text": [
      "[24,     1] loss: 0.001\n",
      "[24,   301] loss: 0.167\n",
      "[24,   601] loss: 0.169\n"
     ]
    },
    {
     "name": "stderr",
     "output_type": "stream",
     "text": [
      "\r",
      " 60%|█████████████████████████████████████████████████████████████████████████████████████████████████████████                                                                      | 24/40 [04:57<03:19, 12.45s/it]"
     ]
    },
    {
     "name": "stdout",
     "output_type": "stream",
     "text": [
      "[25,     1] loss: 0.001\n",
      "[25,   301] loss: 0.166\n",
      "[25,   601] loss: 0.167\n"
     ]
    },
    {
     "name": "stderr",
     "output_type": "stream",
     "text": [
      "\r",
      " 62%|█████████████████████████████████████████████████████████████████████████████████████████████████████████████▍                                                                 | 25/40 [05:10<03:06, 12.44s/it]"
     ]
    },
    {
     "name": "stdout",
     "output_type": "stream",
     "text": [
      "[26,     1] loss: 0.000\n",
      "[26,   301] loss: 0.162\n",
      "[26,   601] loss: 0.165\n"
     ]
    },
    {
     "name": "stderr",
     "output_type": "stream",
     "text": [
      "\r",
      " 65%|█████████████████████████████████████████████████████████████████████████████████████████████████████████████████▊                                                             | 26/40 [05:22<02:53, 12.43s/it]"
     ]
    },
    {
     "name": "stdout",
     "output_type": "stream",
     "text": [
      "[27,     1] loss: 0.000\n",
      "[27,   301] loss: 0.160\n",
      "[27,   601] loss: 0.162\n"
     ]
    },
    {
     "name": "stderr",
     "output_type": "stream",
     "text": [
      "\r",
      " 68%|██████████████████████████████████████████████████████████████████████████████████████████████████████████████████████▏                                                        | 27/40 [05:35<02:41, 12.43s/it]"
     ]
    },
    {
     "name": "stdout",
     "output_type": "stream",
     "text": [
      "[28,     1] loss: 0.001\n",
      "[28,   301] loss: 0.157\n",
      "[28,   601] loss: 0.161\n"
     ]
    },
    {
     "name": "stderr",
     "output_type": "stream",
     "text": [
      "\r",
      " 70%|██████████████████████████████████████████████████████████████████████████████████████████████████████████████████████████▍                                                    | 28/40 [05:47<02:29, 12.42s/it]"
     ]
    },
    {
     "name": "stdout",
     "output_type": "stream",
     "text": [
      "[29,     1] loss: 0.000\n",
      "[29,   301] loss: 0.158\n",
      "[29,   601] loss: 0.156\n"
     ]
    },
    {
     "name": "stderr",
     "output_type": "stream",
     "text": [
      "\r",
      " 72%|██████████████████████████████████████████████████████████████████████████████████████████████████████████████████████████████▉                                                | 29/40 [06:00<02:16, 12.42s/it]"
     ]
    },
    {
     "name": "stdout",
     "output_type": "stream",
     "text": [
      "[30,     1] loss: 0.000\n",
      "[30,   301] loss: 0.157\n",
      "[30,   601] loss: 0.153\n"
     ]
    },
    {
     "name": "stderr",
     "output_type": "stream",
     "text": [
      "\r",
      " 75%|███████████████████████████████████████████████████████████████████████████████████████████████████████████████████████████████████▎                                           | 30/40 [06:12<02:04, 12.44s/it]"
     ]
    },
    {
     "name": "stdout",
     "output_type": "stream",
     "text": [
      "[31,     1] loss: 0.001\n",
      "[31,   301] loss: 0.152\n",
      "[31,   601] loss: 0.155\n"
     ]
    },
    {
     "name": "stderr",
     "output_type": "stream",
     "text": [
      "\r",
      " 78%|███████████████████████████████████████████████████████████████████████████████████████████████████████████████████████████████████████▋                                       | 31/40 [06:24<01:51, 12.43s/it]"
     ]
    },
    {
     "name": "stdout",
     "output_type": "stream",
     "text": [
      "[32,     1] loss: 0.001\n",
      "[32,   301] loss: 0.150\n",
      "[32,   601] loss: 0.151\n"
     ]
    },
    {
     "name": "stderr",
     "output_type": "stream",
     "text": [
      "\r",
      " 80%|████████████████████████████████████████████████████████████████████████████████████████████████████████████████████████████████████████████                                   | 32/40 [06:37<01:39, 12.42s/it]"
     ]
    },
    {
     "name": "stdout",
     "output_type": "stream",
     "text": [
      "[33,     1] loss: 0.000\n",
      "[33,   301] loss: 0.150\n",
      "[33,   601] loss: 0.148\n"
     ]
    },
    {
     "name": "stderr",
     "output_type": "stream",
     "text": [
      "\r",
      " 82%|████████████████████████████████████████████████████████████████████████████████████████████████████████████████████████████████████████████████▍                              | 33/40 [06:49<01:26, 12.41s/it]"
     ]
    },
    {
     "name": "stdout",
     "output_type": "stream",
     "text": [
      "[34,     1] loss: 0.001\n",
      "[34,   301] loss: 0.146\n",
      "[34,   601] loss: 0.148\n"
     ]
    },
    {
     "name": "stderr",
     "output_type": "stream",
     "text": [
      "\r",
      " 85%|████████████████████████████████████████████████████████████████████████████████████████████████████████████████████████████████████████████████████▊                          | 34/40 [07:02<01:14, 12.41s/it]"
     ]
    },
    {
     "name": "stdout",
     "output_type": "stream",
     "text": [
      "[35,     1] loss: 0.000\n",
      "[35,   301] loss: 0.144\n",
      "[35,   601] loss: 0.145\n"
     ]
    },
    {
     "name": "stderr",
     "output_type": "stream",
     "text": [
      "\r",
      " 88%|█████████████████████████████████████████████████████████████████████████████████████████████████████████████████████████████████████████████████████████▏                     | 35/40 [07:14<01:02, 12.42s/it]"
     ]
    },
    {
     "name": "stdout",
     "output_type": "stream",
     "text": [
      "[36,     1] loss: 0.000\n",
      "[36,   301] loss: 0.141\n",
      "[36,   601] loss: 0.144\n"
     ]
    },
    {
     "name": "stderr",
     "output_type": "stream",
     "text": [
      "\r",
      " 90%|█████████████████████████████████████████████████████████████████████████████████████████████████████████████████████████████████████████████████████████████▌                 | 36/40 [07:26<00:49, 12.42s/it]"
     ]
    },
    {
     "name": "stdout",
     "output_type": "stream",
     "text": [
      "[37,     1] loss: 0.000\n",
      "[37,   301] loss: 0.138\n",
      "[37,   601] loss: 0.141\n"
     ]
    },
    {
     "name": "stderr",
     "output_type": "stream",
     "text": [
      "\r",
      " 92%|█████████████████████████████████████████████████████████████████████████████████████████████████████████████████████████████████████████████████████████████████▉             | 37/40 [07:39<00:37, 12.41s/it]"
     ]
    },
    {
     "name": "stdout",
     "output_type": "stream",
     "text": [
      "[38,     1] loss: 0.000\n",
      "[38,   301] loss: 0.137\n",
      "[38,   601] loss: 0.140\n"
     ]
    },
    {
     "name": "stderr",
     "output_type": "stream",
     "text": [
      "\r",
      " 95%|██████████████████████████████████████████████████████████████████████████████████████████████████████████████████████████████████████████████████████████████████████▎        | 38/40 [07:51<00:24, 12.41s/it]"
     ]
    },
    {
     "name": "stdout",
     "output_type": "stream",
     "text": [
      "[39,     1] loss: 0.001\n",
      "[39,   301] loss: 0.136\n",
      "[39,   601] loss: 0.138\n"
     ]
    },
    {
     "name": "stderr",
     "output_type": "stream",
     "text": [
      "\r",
      " 98%|██████████████████████████████████████████████████████████████████████████████████████████████████████████████████████████████████████████████████████████████████████████▋    | 39/40 [08:04<00:12, 12.42s/it]"
     ]
    },
    {
     "name": "stdout",
     "output_type": "stream",
     "text": [
      "[40,     1] loss: 0.000\n",
      "[40,   301] loss: 0.135\n",
      "[40,   601] loss: 0.134\n"
     ]
    },
    {
     "name": "stderr",
     "output_type": "stream",
     "text": [
      "100%|███████████████████████████████████████████████████████████████████████████████████████████████████████████████████████████████████████████████████████████████████████████████| 40/40 [08:16<00:00, 12.42s/it]"
     ]
    },
    {
     "name": "stdout",
     "output_type": "stream",
     "text": [
      "Training is finished!\n"
     ]
    },
    {
     "name": "stderr",
     "output_type": "stream",
     "text": [
      "\n"
     ]
    }
   ],
   "source": [
    "# Запустить обучение (по аналогии с тем, что делали на паре)\n",
    "\n",
    "for epoch in tqdm(range(40)):  \n",
    "    running_loss = 0.0\n",
    "    for i, data in enumerate(train_loader, 0):\n",
    "        inputs, labels = data[0], data[1]\n",
    "\n",
    "        # обнуляем градиент\n",
    "        optimizer.zero_grad()\n",
    "\n",
    "        outputs = net(inputs)\n",
    "        loss = criterion(outputs, labels)\n",
    "        loss.backward()\n",
    "        optimizer.step()\n",
    "\n",
    "        # выводим статистику о процессе обучения\n",
    "        running_loss += loss.item()\n",
    "        if i % 300 == 0:    # печатаем каждые 300 mini-batches\n",
    "            print('[%d, %5d] loss: %.3f' %\n",
    "                  (epoch + 1, i + 1, running_loss / 2000))\n",
    "            running_loss = 0.0\n",
    "\n",
    "print('Training is finished!')"
   ]
  },
  {
   "cell_type": "code",
   "execution_count": 18,
   "metadata": {},
   "outputs": [
    {
     "name": "stdout",
     "output_type": "stream",
     "text": [
      "['plane' 'plane' 'ship' 'frog' 'dog' 'plane' 'frog' 'plane' 'plane' 'dog'\n",
      " 'bird' 'car' 'horse' 'plane' 'horse' 'cat']\n",
      "['car' 'plane' 'plane' 'frog' 'dog' 'car' 'frog' 'cat' 'plane' 'dog'\n",
      " 'bird' 'car' 'deer' 'plane' 'horse' 'deer']\n",
      "Accuracy is 0.625\n",
      "10\n",
      "16\n"
     ]
    }
   ],
   "source": [
    "_, predicted = torch.max(outputs, 1)\n",
    "\n",
    "gt = np.array([classes[labels[j]] for j in range(len(labels))])\n",
    "pred = np.array([classes[predicted[j]] for j in range(len(labels))])\n",
    "\n",
    "print(gt)\n",
    "print(pred)\n",
    "print(f'Accuracy is {(gt == pred).sum() / len(gt)}')\n",
    "print((gt == pred).sum())\n",
    "print(len(gt))\n"
   ]
  },
  {
   "cell_type": "markdown",
   "metadata": {},
   "source": [
    "#### 10 эпох SGD\n",
    "['frog' 'truck' 'cat' 'horse' 'deer' 'bird' 'ship' 'cat' 'ship' 'bird'\n",
    " 'deer' 'dog' 'ship' 'car' 'deer' 'deer']\n",
    " \n",
    "['frog' 'truck' 'frog' 'truck' 'frog' 'frog' 'plane' 'ship' 'ship' 'frog'\n",
    " 'frog' 'frog' 'plane' 'frog' 'frog' 'ship']\n",
    " \n",
    "Accuracy is 0.1875\n",
    "\n",
    "\n",
    "['ship' 'truck' 'cat' 'bird' 'plane' 'truck' 'truck' 'bird' 'cat' 'car'\n",
    " 'bird' 'deer' 'dog' 'bird' 'frog' 'frog']\n",
    " \n",
    "['truck' 'cat' 'dog' 'frog' 'plane' 'frog' 'truck' 'truck' 'cat' 'truck'\n",
    " 'bird' 'deer' 'bird' 'plane' 'frog' 'frog']\n",
    " \n",
    "Accuracy is 0.4375\n",
    "\n",
    "\n",
    "#### 10 эпох Adam\n",
    "['horse' 'cat' 'bird' 'bird' 'ship' 'ship' 'ship' 'deer' 'truck' 'ship'\n",
    " 'cat' 'dog' 'frog' 'dog' 'car' 'ship']\n",
    " \n",
    "['bird' 'ship' 'bird' 'horse' 'ship' 'ship' 'ship' 'bird' 'truck' 'dog'\n",
    " 'frog' 'horse' 'frog' 'frog' 'car' 'ship']\n",
    " \n",
    "Accuracy is 0.5\n",
    "\n",
    "\n",
    "#### 40 эпох и увеличели слои и их количество SGD\n",
    "['horse' 'truck' 'truck' 'plane' 'horse' 'plane' 'deer' 'plane' 'plane'\n",
    " 'bird' 'car' 'truck' 'bird' 'dog' 'dog' 'horse']\n",
    " \n",
    "['dog' 'truck' 'truck' 'plane' 'plane' 'ship' 'truck' 'plane' 'ship'\n",
    " 'frog' 'dog' 'truck' 'bird' 'dog' 'dog' 'truck']\n",
    " \n",
    "Accuracy is 0.5\n",
    "\n",
    "#### 40 эпох Adam\n",
    "['plane' 'plane' 'ship' 'frog' 'dog' 'plane' 'frog' 'plane' 'plane' 'dog'\n",
    " 'bird' 'car' 'horse' 'plane' 'horse' 'cat']\n",
    " \n",
    "['car' 'plane' 'plane' 'frog' 'dog' 'car' 'frog' 'cat' 'plane' 'dog'\n",
    " 'bird' 'car' 'deer' 'plane' 'horse' 'deer']\n",
    " \n",
    "Accuracy is 0.625\n",
    "\n",
    "#### Для увеличения качества сети изменили оптимайзер и увеличили количество эпох."
   ]
  },
  {
   "cell_type": "markdown",
   "metadata": {},
   "source": [
    "#### 2. *Переписать данный туториал на PyTorch: https://www.tensorflow.org/tutorials/quickstart/beginner?hl=ru"
   ]
  },
  {
   "cell_type": "code",
   "execution_count": 19,
   "metadata": {},
   "outputs": [],
   "source": [
    "import torch\n",
    "from torch.utils.data import DataLoader\n",
    "from torch import nn, optim\n",
    "import torchvision\n",
    "from torchvision import datasets, transforms"
   ]
  },
  {
   "cell_type": "code",
   "execution_count": 20,
   "metadata": {},
   "outputs": [],
   "source": [
    "# Загрузка данных MNIST\n",
    "train_set = datasets.MNIST(\n",
    "    root='./data',\n",
    "    train=True,\n",
    "    download=True,\n",
    "    transform=transforms.Compose([transforms.ToTensor()])\n",
    ")\n",
    "\n",
    "test_set = datasets.MNIST(\n",
    "    root='./data',\n",
    "    train=False,\n",
    "    download=True,\n",
    "    transform=transforms.Compose([transforms.ToTensor()])\n",
    ")"
   ]
  },
  {
   "cell_type": "code",
   "execution_count": 21,
   "metadata": {},
   "outputs": [],
   "source": [
    "batch_size = 64\n",
    "\n",
    "# Создание загрузчиков данных\n",
    "train_loader = DataLoader(train_set, batch_size=batch_size, shuffle=True)\n",
    "test_loader = DataLoader(test_set, batch_size=batch_size, shuffle=False)"
   ]
  },
  {
   "cell_type": "code",
   "execution_count": 22,
   "metadata": {},
   "outputs": [],
   "source": [
    "# Определение модели нейронной сети\n",
    "class NeuralNet(nn.Module):\n",
    "    def __init__(self):\n",
    "        super(NeuralNet, self).__init__()\n",
    "        self.flatten = nn.Flatten()\n",
    "        self.linear_relu_stack = nn.Sequential(\n",
    "            nn.Linear(28*28, 512),\n",
    "            nn.ReLU(),\n",
    "            nn.Linear(512, 10)\n",
    "        )\n",
    "\n",
    "    def forward(self, x):\n",
    "        x = self.flatten(x)\n",
    "        logits = self.linear_relu_stack(x)\n",
    "        return logits\n",
    "\n",
    "model = NeuralNet()"
   ]
  },
  {
   "cell_type": "code",
   "execution_count": 23,
   "metadata": {},
   "outputs": [],
   "source": [
    "# Определение функции потерь и оптимизатора\n",
    "loss_fn = nn.CrossEntropyLoss()\n",
    "optimizer = optim.SGD(model.parameters(), lr=1e-3)"
   ]
  },
  {
   "cell_type": "code",
   "execution_count": 24,
   "metadata": {},
   "outputs": [],
   "source": [
    "# Обучение модели\n",
    "def train(dataloader, model, loss_fn, optimizer):\n",
    "    size = len(dataloader.dataset)\n",
    "    for batch, (images, labels) in enumerate(dataloader):\n",
    "        \n",
    "        # Предсказание и вычисление потерь\n",
    "        pred = model(images)\n",
    "        loss = loss_fn(pred, labels)\n",
    "\n",
    "        # Обратное распространение ошибки\n",
    "        optimizer.zero_grad()\n",
    "        loss.backward()\n",
    "        optimizer.step()\n",
    "\n",
    "        # Вывод прогресса обучения\n",
    "        if batch % 100 == 0:\n",
    "            loss, current = loss.item(), batch * len(images)\n",
    "            print(f\"loss: {loss:>7f}  [{current:>5d}/{size:>5d}]\")"
   ]
  },
  {
   "cell_type": "code",
   "execution_count": 25,
   "metadata": {},
   "outputs": [],
   "source": [
    "# Оценка точности модели\n",
    "def test(dataloader, model):\n",
    "    size = len(dataloader.dataset)\n",
    "    model.eval()\n",
    "    test_loss, correct = 0, 0\n",
    "    with torch.no_grad():\n",
    "        for images, labels in dataloader:\n",
    "            pred = model(images)\n",
    "            test_loss += loss_fn(pred, labels).item()\n",
    "            correct += (pred.argmax(1) == labels).type(torch.float).sum().item()\n",
    "            \n",
    "    test_loss /= size\n",
    "    correct /= size\n",
    "    print(f\"Test Error: \\n Accuracy: {(100*correct):>0.1f}%, Avg loss: {test_loss:>8f}\\n\")"
   ]
  },
  {
   "cell_type": "code",
   "execution_count": 26,
   "metadata": {},
   "outputs": [
    {
     "name": "stdout",
     "output_type": "stream",
     "text": [
      "Epoch 1\n",
      "-------------------------------\n",
      "loss: 2.292658  [    0/60000]\n",
      "loss: 2.284687  [ 6400/60000]\n",
      "loss: 2.253492  [12800/60000]\n",
      "loss: 2.262929  [19200/60000]\n",
      "loss: 2.217932  [25600/60000]\n",
      "loss: 2.209407  [32000/60000]\n",
      "loss: 2.155913  [38400/60000]\n",
      "loss: 2.131993  [44800/60000]\n",
      "loss: 2.117143  [51200/60000]\n",
      "loss: 2.066706  [57600/60000]\n",
      "Test Error: \n",
      " Accuracy: 65.2%, Avg loss: 0.032524\n",
      "\n",
      "Epoch 2\n",
      "-------------------------------\n",
      "loss: 2.085012  [    0/60000]\n",
      "loss: 2.048440  [ 6400/60000]\n",
      "loss: 2.064993  [12800/60000]\n",
      "loss: 1.981053  [19200/60000]\n",
      "loss: 1.923987  [25600/60000]\n",
      "loss: 1.936253  [32000/60000]\n",
      "loss: 1.824584  [38400/60000]\n",
      "loss: 1.872771  [44800/60000]\n",
      "loss: 1.813421  [51200/60000]\n",
      "loss: 1.765161  [57600/60000]\n",
      "Test Error: \n",
      " Accuracy: 74.0%, Avg loss: 0.027815\n",
      "\n",
      "Epoch 3\n",
      "-------------------------------\n",
      "loss: 1.779042  [    0/60000]\n",
      "loss: 1.758475  [ 6400/60000]\n",
      "loss: 1.732747  [12800/60000]\n",
      "loss: 1.647105  [19200/60000]\n",
      "loss: 1.667650  [25600/60000]\n",
      "loss: 1.587543  [32000/60000]\n",
      "loss: 1.756265  [38400/60000]\n",
      "loss: 1.478138  [44800/60000]\n",
      "loss: 1.437576  [51200/60000]\n",
      "loss: 1.460354  [57600/60000]\n",
      "Test Error: \n",
      " Accuracy: 77.5%, Avg loss: 0.022531\n",
      "\n",
      "Epoch 4\n",
      "-------------------------------\n",
      "loss: 1.511983  [    0/60000]\n",
      "loss: 1.417820  [ 6400/60000]\n",
      "loss: 1.350929  [12800/60000]\n",
      "loss: 1.479538  [19200/60000]\n",
      "loss: 1.477222  [25600/60000]\n",
      "loss: 1.271476  [32000/60000]\n",
      "loss: 1.232270  [38400/60000]\n",
      "loss: 1.270324  [44800/60000]\n",
      "loss: 1.260438  [51200/60000]\n",
      "loss: 1.177676  [57600/60000]\n",
      "Test Error: \n",
      " Accuracy: 80.8%, Avg loss: 0.018052\n",
      "\n",
      "Epoch 5\n",
      "-------------------------------\n",
      "loss: 1.159432  [    0/60000]\n",
      "loss: 1.117693  [ 6400/60000]\n",
      "loss: 1.088324  [12800/60000]\n",
      "loss: 1.202047  [19200/60000]\n",
      "loss: 0.972689  [25600/60000]\n",
      "loss: 1.097852  [32000/60000]\n",
      "loss: 0.931840  [38400/60000]\n",
      "loss: 1.011210  [44800/60000]\n",
      "loss: 0.989427  [51200/60000]\n",
      "loss: 0.910353  [57600/60000]\n",
      "Test Error: \n",
      " Accuracy: 82.5%, Avg loss: 0.014886\n",
      "\n",
      "Epoch 6\n",
      "-------------------------------\n",
      "loss: 0.959179  [    0/60000]\n",
      "loss: 1.029505  [ 6400/60000]\n",
      "loss: 0.762729  [12800/60000]\n",
      "loss: 0.913948  [19200/60000]\n",
      "loss: 0.909453  [25600/60000]\n",
      "loss: 0.809456  [32000/60000]\n",
      "loss: 0.916214  [38400/60000]\n",
      "loss: 0.835242  [44800/60000]\n",
      "loss: 0.918571  [51200/60000]\n",
      "loss: 0.872706  [57600/60000]\n",
      "Test Error: \n",
      " Accuracy: 83.8%, Avg loss: 0.012745\n",
      "\n",
      "Epoch 7\n",
      "-------------------------------\n",
      "loss: 0.771614  [    0/60000]\n",
      "loss: 0.848664  [ 6400/60000]\n",
      "loss: 0.852332  [12800/60000]\n",
      "loss: 0.785758  [19200/60000]\n",
      "loss: 0.846887  [25600/60000]\n",
      "loss: 0.655564  [32000/60000]\n",
      "loss: 0.800575  [38400/60000]\n",
      "loss: 0.877560  [44800/60000]\n",
      "loss: 0.636844  [51200/60000]\n",
      "loss: 0.919767  [57600/60000]\n",
      "Test Error: \n",
      " Accuracy: 84.9%, Avg loss: 0.011259\n",
      "\n",
      "Epoch 8\n",
      "-------------------------------\n",
      "loss: 0.747277  [    0/60000]\n",
      "loss: 0.661631  [ 6400/60000]\n",
      "loss: 0.787839  [12800/60000]\n",
      "loss: 0.687176  [19200/60000]\n",
      "loss: 0.696906  [25600/60000]\n",
      "loss: 0.711953  [32000/60000]\n",
      "loss: 0.865169  [38400/60000]\n",
      "loss: 0.804130  [44800/60000]\n",
      "loss: 0.612793  [51200/60000]\n",
      "loss: 0.701179  [57600/60000]\n",
      "Test Error: \n",
      " Accuracy: 85.7%, Avg loss: 0.010189\n",
      "\n",
      "Epoch 9\n",
      "-------------------------------\n",
      "loss: 0.652643  [    0/60000]\n",
      "loss: 0.714199  [ 6400/60000]\n",
      "loss: 0.598031  [12800/60000]\n",
      "loss: 0.632124  [19200/60000]\n",
      "loss: 0.698964  [25600/60000]\n",
      "loss: 0.711678  [32000/60000]\n",
      "loss: 0.593634  [38400/60000]\n",
      "loss: 0.592670  [44800/60000]\n",
      "loss: 0.655316  [51200/60000]\n",
      "loss: 0.644525  [57600/60000]\n",
      "Test Error: \n",
      " Accuracy: 86.4%, Avg loss: 0.009384\n",
      "\n",
      "Epoch 10\n",
      "-------------------------------\n",
      "loss: 0.674612  [    0/60000]\n",
      "loss: 0.589156  [ 6400/60000]\n",
      "loss: 0.577142  [12800/60000]\n",
      "loss: 0.664712  [19200/60000]\n",
      "loss: 0.608791  [25600/60000]\n",
      "loss: 0.543732  [32000/60000]\n",
      "loss: 0.627926  [38400/60000]\n",
      "loss: 0.525011  [44800/60000]\n",
      "loss: 0.601072  [51200/60000]\n",
      "loss: 0.604909  [57600/60000]\n",
      "Test Error: \n",
      " Accuracy: 87.1%, Avg loss: 0.008762\n",
      "\n",
      "Epoch 11\n",
      "-------------------------------\n",
      "loss: 0.471593  [    0/60000]\n",
      "loss: 0.570532  [ 6400/60000]\n",
      "loss: 0.456092  [12800/60000]\n",
      "loss: 0.600034  [19200/60000]\n",
      "loss: 0.658526  [25600/60000]\n",
      "loss: 0.493870  [32000/60000]\n",
      "loss: 0.586167  [38400/60000]\n",
      "loss: 0.564250  [44800/60000]\n",
      "loss: 0.538740  [51200/60000]\n",
      "loss: 0.435054  [57600/60000]\n",
      "Test Error: \n",
      " Accuracy: 87.5%, Avg loss: 0.008264\n",
      "\n",
      "Epoch 12\n",
      "-------------------------------\n",
      "loss: 0.635973  [    0/60000]\n",
      "loss: 0.512472  [ 6400/60000]\n",
      "loss: 0.446004  [12800/60000]\n",
      "loss: 0.564843  [19200/60000]\n",
      "loss: 0.468752  [25600/60000]\n",
      "loss: 0.532946  [32000/60000]\n",
      "loss: 0.456609  [38400/60000]\n",
      "loss: 0.438160  [44800/60000]\n",
      "loss: 0.475318  [51200/60000]\n",
      "loss: 0.583153  [57600/60000]\n",
      "Test Error: \n",
      " Accuracy: 87.9%, Avg loss: 0.007857\n",
      "\n",
      "Epoch 13\n",
      "-------------------------------\n",
      "loss: 0.530863  [    0/60000]\n",
      "loss: 0.383131  [ 6400/60000]\n",
      "loss: 0.584130  [12800/60000]\n",
      "loss: 0.464553  [19200/60000]\n",
      "loss: 0.521447  [25600/60000]\n",
      "loss: 0.450773  [32000/60000]\n",
      "loss: 0.361127  [38400/60000]\n",
      "loss: 0.310013  [44800/60000]\n",
      "loss: 0.518205  [51200/60000]\n",
      "loss: 0.519336  [57600/60000]\n",
      "Test Error: \n",
      " Accuracy: 88.2%, Avg loss: 0.007521\n",
      "\n",
      "Epoch 14\n",
      "-------------------------------\n",
      "loss: 0.510136  [    0/60000]\n",
      "loss: 0.487990  [ 6400/60000]\n",
      "loss: 0.510067  [12800/60000]\n",
      "loss: 0.508691  [19200/60000]\n",
      "loss: 0.487059  [25600/60000]\n",
      "loss: 0.560032  [32000/60000]\n",
      "loss: 0.498458  [38400/60000]\n",
      "loss: 0.636992  [44800/60000]\n",
      "loss: 0.374635  [51200/60000]\n",
      "loss: 0.448923  [57600/60000]\n",
      "Test Error: \n",
      " Accuracy: 88.5%, Avg loss: 0.007237\n",
      "\n",
      "Epoch 15\n",
      "-------------------------------\n",
      "loss: 0.378317  [    0/60000]\n",
      "loss: 0.630298  [ 6400/60000]\n",
      "loss: 0.476701  [12800/60000]\n",
      "loss: 0.546779  [19200/60000]\n",
      "loss: 0.509429  [25600/60000]\n",
      "loss: 0.520446  [32000/60000]\n",
      "loss: 0.369598  [38400/60000]\n",
      "loss: 0.510164  [44800/60000]\n",
      "loss: 0.681549  [51200/60000]\n",
      "loss: 0.372226  [57600/60000]\n",
      "Test Error: \n",
      " Accuracy: 88.8%, Avg loss: 0.006991\n",
      "\n",
      "Epoch 16\n",
      "-------------------------------\n",
      "loss: 0.420464  [    0/60000]\n",
      "loss: 0.427922  [ 6400/60000]\n",
      "loss: 0.604829  [12800/60000]\n",
      "loss: 0.484788  [19200/60000]\n",
      "loss: 0.309439  [25600/60000]\n",
      "loss: 0.339910  [32000/60000]\n",
      "loss: 0.440787  [38400/60000]\n",
      "loss: 0.338450  [44800/60000]\n",
      "loss: 0.374461  [51200/60000]\n",
      "loss: 0.433187  [57600/60000]\n",
      "Test Error: \n",
      " Accuracy: 89.0%, Avg loss: 0.006783\n",
      "\n",
      "Epoch 17\n",
      "-------------------------------\n",
      "loss: 0.532081  [    0/60000]\n",
      "loss: 0.372948  [ 6400/60000]\n",
      "loss: 0.487568  [12800/60000]\n",
      "loss: 0.522741  [19200/60000]\n",
      "loss: 0.493853  [25600/60000]\n",
      "loss: 0.421581  [32000/60000]\n",
      "loss: 0.457292  [38400/60000]\n",
      "loss: 0.594387  [44800/60000]\n",
      "loss: 0.412558  [51200/60000]\n",
      "loss: 0.471161  [57600/60000]\n",
      "Test Error: \n",
      " Accuracy: 89.1%, Avg loss: 0.006597\n",
      "\n",
      "Epoch 18\n",
      "-------------------------------\n",
      "loss: 0.353564  [    0/60000]\n",
      "loss: 0.434121  [ 6400/60000]\n",
      "loss: 0.373965  [12800/60000]\n",
      "loss: 0.504899  [19200/60000]\n",
      "loss: 0.493821  [25600/60000]\n",
      "loss: 0.421714  [32000/60000]\n",
      "loss: 0.537386  [38400/60000]\n",
      "loss: 0.522470  [44800/60000]\n",
      "loss: 0.280996  [51200/60000]\n",
      "loss: 0.376035  [57600/60000]\n",
      "Test Error: \n",
      " Accuracy: 89.3%, Avg loss: 0.006439\n",
      "\n",
      "Epoch 19\n",
      "-------------------------------\n",
      "loss: 0.674139  [    0/60000]\n",
      "loss: 0.467153  [ 6400/60000]\n",
      "loss: 0.403237  [12800/60000]\n",
      "loss: 0.379527  [19200/60000]\n",
      "loss: 0.235408  [25600/60000]\n",
      "loss: 0.407900  [32000/60000]\n",
      "loss: 0.466195  [38400/60000]\n",
      "loss: 0.469235  [44800/60000]\n",
      "loss: 0.352957  [51200/60000]\n",
      "loss: 0.339764  [57600/60000]\n",
      "Test Error: \n",
      " Accuracy: 89.5%, Avg loss: 0.006295\n",
      "\n",
      "Epoch 20\n",
      "-------------------------------\n",
      "loss: 0.591397  [    0/60000]\n",
      "loss: 0.399367  [ 6400/60000]\n",
      "loss: 0.390146  [12800/60000]\n",
      "loss: 0.415859  [19200/60000]\n",
      "loss: 0.390818  [25600/60000]\n",
      "loss: 0.451720  [32000/60000]\n",
      "loss: 0.519316  [38400/60000]\n",
      "loss: 0.367903  [44800/60000]\n",
      "loss: 0.430011  [51200/60000]\n",
      "loss: 0.453630  [57600/60000]\n",
      "Test Error: \n",
      " Accuracy: 89.6%, Avg loss: 0.006169\n",
      "\n",
      "Epoch 21\n",
      "-------------------------------\n",
      "loss: 0.399579  [    0/60000]\n",
      "loss: 0.488220  [ 6400/60000]\n",
      "loss: 0.532694  [12800/60000]\n",
      "loss: 0.477104  [19200/60000]\n",
      "loss: 0.441338  [25600/60000]\n",
      "loss: 0.307217  [32000/60000]\n",
      "loss: 0.339615  [38400/60000]\n",
      "loss: 0.329195  [44800/60000]\n",
      "loss: 0.503049  [51200/60000]\n",
      "loss: 0.323847  [57600/60000]\n",
      "Test Error: \n",
      " Accuracy: 89.7%, Avg loss: 0.006047\n",
      "\n",
      "Epoch 22\n",
      "-------------------------------\n",
      "loss: 0.377129  [    0/60000]\n"
     ]
    },
    {
     "name": "stdout",
     "output_type": "stream",
     "text": [
      "loss: 0.399776  [ 6400/60000]\n",
      "loss: 0.358031  [12800/60000]\n",
      "loss: 0.504486  [19200/60000]\n",
      "loss: 0.248959  [25600/60000]\n",
      "loss: 0.357637  [32000/60000]\n",
      "loss: 0.259215  [38400/60000]\n",
      "loss: 0.239699  [44800/60000]\n",
      "loss: 0.387570  [51200/60000]\n",
      "loss: 0.359556  [57600/60000]\n",
      "Test Error: \n",
      " Accuracy: 89.7%, Avg loss: 0.005945\n",
      "\n",
      "Epoch 23\n",
      "-------------------------------\n",
      "loss: 0.619789  [    0/60000]\n",
      "loss: 0.457664  [ 6400/60000]\n",
      "loss: 0.416607  [12800/60000]\n",
      "loss: 0.368338  [19200/60000]\n",
      "loss: 0.321792  [25600/60000]\n",
      "loss: 0.355182  [32000/60000]\n",
      "loss: 0.269640  [38400/60000]\n",
      "loss: 0.231393  [44800/60000]\n",
      "loss: 0.447162  [51200/60000]\n",
      "loss: 0.300278  [57600/60000]\n",
      "Test Error: \n",
      " Accuracy: 89.9%, Avg loss: 0.005848\n",
      "\n",
      "Epoch 24\n",
      "-------------------------------\n",
      "loss: 0.401335  [    0/60000]\n",
      "loss: 0.324911  [ 6400/60000]\n",
      "loss: 0.410548  [12800/60000]\n",
      "loss: 0.442068  [19200/60000]\n",
      "loss: 0.322708  [25600/60000]\n",
      "loss: 0.285692  [32000/60000]\n",
      "loss: 0.535774  [38400/60000]\n",
      "loss: 0.492107  [44800/60000]\n",
      "loss: 0.253161  [51200/60000]\n",
      "loss: 0.453491  [57600/60000]\n",
      "Test Error: \n",
      " Accuracy: 90.0%, Avg loss: 0.005761\n",
      "\n",
      "Epoch 25\n",
      "-------------------------------\n",
      "loss: 0.402637  [    0/60000]\n",
      "loss: 0.296953  [ 6400/60000]\n",
      "loss: 0.371920  [12800/60000]\n",
      "loss: 0.429252  [19200/60000]\n",
      "loss: 0.437121  [25600/60000]\n",
      "loss: 0.266052  [32000/60000]\n",
      "loss: 0.398581  [38400/60000]\n",
      "loss: 0.287381  [44800/60000]\n",
      "loss: 0.437022  [51200/60000]\n",
      "loss: 0.391347  [57600/60000]\n",
      "Test Error: \n",
      " Accuracy: 90.1%, Avg loss: 0.005676\n",
      "\n",
      "Epoch 26\n",
      "-------------------------------\n",
      "loss: 0.369562  [    0/60000]\n",
      "loss: 0.440932  [ 6400/60000]\n",
      "loss: 0.581312  [12800/60000]\n",
      "loss: 0.245077  [19200/60000]\n",
      "loss: 0.333768  [25600/60000]\n",
      "loss: 0.399885  [32000/60000]\n",
      "loss: 0.334187  [38400/60000]\n",
      "loss: 0.276140  [44800/60000]\n",
      "loss: 0.349068  [51200/60000]\n",
      "loss: 0.500300  [57600/60000]\n",
      "Test Error: \n",
      " Accuracy: 90.2%, Avg loss: 0.005603\n",
      "\n",
      "Epoch 27\n",
      "-------------------------------\n",
      "loss: 0.403181  [    0/60000]\n",
      "loss: 0.396461  [ 6400/60000]\n",
      "loss: 0.390554  [12800/60000]\n",
      "loss: 0.346604  [19200/60000]\n",
      "loss: 0.273290  [25600/60000]\n",
      "loss: 0.271344  [32000/60000]\n",
      "loss: 0.440604  [38400/60000]\n",
      "loss: 0.403835  [44800/60000]\n",
      "loss: 0.407339  [51200/60000]\n",
      "loss: 0.311696  [57600/60000]\n",
      "Test Error: \n",
      " Accuracy: 90.2%, Avg loss: 0.005533\n",
      "\n",
      "Epoch 28\n",
      "-------------------------------\n",
      "loss: 0.396512  [    0/60000]\n",
      "loss: 0.146852  [ 6400/60000]\n",
      "loss: 0.249895  [12800/60000]\n",
      "loss: 0.362133  [19200/60000]\n",
      "loss: 0.403046  [25600/60000]\n",
      "loss: 0.337788  [32000/60000]\n",
      "loss: 0.346819  [38400/60000]\n",
      "loss: 0.290394  [44800/60000]\n",
      "loss: 0.511677  [51200/60000]\n",
      "loss: 0.239288  [57600/60000]\n",
      "Test Error: \n",
      " Accuracy: 90.3%, Avg loss: 0.005468\n",
      "\n",
      "Epoch 29\n",
      "-------------------------------\n",
      "loss: 0.443242  [    0/60000]\n",
      "loss: 0.322132  [ 6400/60000]\n",
      "loss: 0.347339  [12800/60000]\n",
      "loss: 0.309347  [19200/60000]\n",
      "loss: 0.263412  [25600/60000]\n",
      "loss: 0.284224  [32000/60000]\n",
      "loss: 0.381267  [38400/60000]\n",
      "loss: 0.435839  [44800/60000]\n",
      "loss: 0.362514  [51200/60000]\n",
      "loss: 0.288810  [57600/60000]\n",
      "Test Error: \n",
      " Accuracy: 90.3%, Avg loss: 0.005406\n",
      "\n",
      "Epoch 30\n",
      "-------------------------------\n",
      "loss: 0.356883  [    0/60000]\n",
      "loss: 0.309168  [ 6400/60000]\n",
      "loss: 0.305970  [12800/60000]\n",
      "loss: 0.288309  [19200/60000]\n",
      "loss: 0.343564  [25600/60000]\n",
      "loss: 0.299011  [32000/60000]\n",
      "loss: 0.546396  [38400/60000]\n",
      "loss: 0.382808  [44800/60000]\n",
      "loss: 0.338878  [51200/60000]\n",
      "loss: 0.246502  [57600/60000]\n",
      "Test Error: \n",
      " Accuracy: 90.5%, Avg loss: 0.005349\n",
      "\n",
      "Done!\n"
     ]
    }
   ],
   "source": [
    "# Запуск обучения\n",
    "epochs = 30\n",
    "for t in range(epochs):\n",
    "    print(f\"Epoch {t+1}\\n-------------------------------\")\n",
    "    train(train_loader, model, loss_fn, optimizer)\n",
    "    test(test_loader, model)\n",
    "print(\"Done!\")"
   ]
  },
  {
   "cell_type": "code",
   "execution_count": null,
   "metadata": {},
   "outputs": [],
   "source": []
  }
 ],
 "metadata": {
  "kernelspec": {
   "display_name": "Python 3 (ipykernel)",
   "language": "python",
   "name": "python3"
  },
  "language_info": {
   "codemirror_mode": {
    "name": "ipython",
    "version": 3
   },
   "file_extension": ".py",
   "mimetype": "text/x-python",
   "name": "python",
   "nbconvert_exporter": "python",
   "pygments_lexer": "ipython3",
   "version": "3.8.16"
  }
 },
 "nbformat": 4,
 "nbformat_minor": 2
}
