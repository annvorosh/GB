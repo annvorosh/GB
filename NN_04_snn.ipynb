{
 "cells": [
  {
   "cell_type": "markdown",
   "id": "d5334f3f",
   "metadata": {},
   "source": [
    "### Урок 4. Сверточные нейронные сети\n",
    "\n",
    "#### Домашнее задание\n",
    "\n",
    "##### 1. обучить рукописную сверточную нейронную сеть (с падением размера ядра свертки и последовательностью блоков свертка-пулинг (conv-pool)-(conv-pool)-...) на датасете cifar-10\n",
    "\n",
    "##### 2. оценить рост точности при увеличении ширины сети (больше фильтров)\n",
    "\n",
    "##### 3. оценить рост точности при увеличении глубины сети (больше слоев)\n",
    "\n",
    "#####  *сравнить с точностью полносвязной сети для этой выборки\n",
    "##### Рекомендации по оформлению кода:\n",
    "исправляя код из ноутбука, указывайте, пожалуйста, где были сделаны изменения, чтобы было легче ориентироваться в коде, к тому же это повысит скорость проверки работы."
   ]
  },
  {
   "cell_type": "code",
   "execution_count": 1,
   "id": "543f5bbb",
   "metadata": {},
   "outputs": [
    {
     "name": "stderr",
     "output_type": "stream",
     "text": [
      "/Users/annvorosh/miniforge3/envs/mlp/lib/python3.9/site-packages/requests/__init__.py:109: RequestsDependencyWarning: urllib3 (1.26.14) or chardet (None)/charset_normalizer (3.1.0) doesn't match a supported version!\n",
      "  warnings.warn(\n"
     ]
    },
    {
     "name": "stdout",
     "output_type": "stream",
     "text": [
      "Python Platform: macOS-13.2.1-arm64-arm-64bit\n",
      "Tensor Flow Version: 2.9.0\n",
      "Keras Version: 2.9.0\n",
      "\n",
      "Python 3.9.16 (main, Mar  8 2023, 04:29:24) \n",
      "[Clang 14.0.6 ]\n",
      "Pandas 1.5.3\n",
      "Scikit-Learn 1.2.2\n",
      "SciPy 1.10.0\n",
      "GPU is NOT AVAILABLE\n"
     ]
    }
   ],
   "source": [
    "import sys\n",
    "import tensorflow.keras\n",
    "import pandas as pd\n",
    "import sklearn as sk\n",
    "import scipy as sp\n",
    "import tensorflow as tf\n",
    "import platform\n",
    "print(f\"Python Platform: {platform.platform()}\")\n",
    "print(f\"Tensor Flow Version: {tf.__version__}\")\n",
    "print(f\"Keras Version: {tensorflow.keras.__version__}\")\n",
    "print()\n",
    "print(f\"Python {sys.version}\")\n",
    "print(f\"Pandas {pd.__version__}\")\n",
    "print(f\"Scikit-Learn {sk.__version__}\")\n",
    "print(f\"SciPy {sp.__version__}\")\n",
    "gpu = len(tf.config.list_physical_devices('GPU'))>0\n",
    "print(\"GPU is\", \"available\" if gpu else \"NOT AVAILABLE\")"
   ]
  },
  {
   "cell_type": "code",
   "execution_count": 2,
   "id": "f4d1e5eb",
   "metadata": {},
   "outputs": [],
   "source": [
    "from __future__ import print_function\n",
    "import keras # расскоментируйте эту строку, чтобы начать обучение\n",
    "\n",
    "from keras.preprocessing.image import ImageDataGenerator\n",
    "from keras.models import Sequential\n",
    "from keras.layers import Dense, Dropout, Activation, Flatten\n",
    "from keras.layers import Conv2D, MaxPooling2D\n",
    "import os"
   ]
  },
  {
   "cell_type": "code",
   "execution_count": 3,
   "id": "8699bf64",
   "metadata": {},
   "outputs": [
    {
     "name": "stdout",
     "output_type": "stream",
     "text": [
      "x_train shape: (50000, 32, 32, 3)\n",
      "50000 тренировочные примеры\n",
      "10000 тестовые примеры\n"
     ]
    }
   ],
   "source": [
    "from keras.datasets import cifar10\n",
    "\n",
    "num_classes = 10\n",
    "\n",
    "\n",
    "# разделение тренировочной и тестовой выборки\n",
    "(x_train, y_train), (x_test, y_test) = cifar10.load_data()\n",
    "print('x_train shape:', x_train.shape)\n",
    "print(x_train.shape[0], 'тренировочные примеры')\n",
    "print(x_test.shape[0], 'тестовые примеры')\n",
    "\n",
    "# преобразование матрицы чисел 0-9 в бинарную матрицу чисел 0-1\n",
    "y_train = keras.utils.to_categorical(y_train, 10)\n",
    "y_test = keras.utils.to_categorical(y_test, 10)\n",
    "\n",
    "# нормирование данных\n",
    "x_train = x_train.astype('float32')\n",
    "x_test = x_test.astype('float32')\n",
    "x_train /= 255\n",
    "x_test /= 255"
   ]
  },
  {
   "cell_type": "code",
   "execution_count": null,
   "id": "2b6727b0",
   "metadata": {},
   "outputs": [
    {
     "name": "stderr",
     "output_type": "stream",
     "text": [
      "<ipython-input-4-4574d2a132bb>:54: DeprecationWarning: KerasClassifier is deprecated, use Sci-Keras (https://github.com/adriangb/scikeras) instead. See https://www.adriangb.com/scikeras/stable/migration.html for help migrating.\n",
      "  model = KerasClassifier(build_fn=create_model, verbose=0)\n"
     ]
    }
   ],
   "source": [
    "\n",
    "from keras.wrappers.scikit_learn import KerasClassifier\n",
    "from sklearn.model_selection import GridSearchCV\n",
    "\n",
    "# Функция, которая создает модель\n",
    "def create_model():\n",
    "    model = Sequential()\n",
    "\n",
    "    # слои нейросети отвественные за свертку и max-pooling\n",
    "    model.add(Conv2D(64, (2, 2), padding='same',  #32\n",
    "                     input_shape=x_train.shape[1:]))\n",
    "    model.add(Activation('relu'))\n",
    "    model.add(Conv2D(64, (3, 3)))        # 32                                 \n",
    "    model.add(Activation('relu'))\n",
    "    model.add(MaxPooling2D(pool_size=(2, 2)))   # (2,2)\n",
    "    model.add(Dropout(0.25))\n",
    "\n",
    "\n",
    "    # -------------------------------------------------------------------------- добавим слои\n",
    "    model.add(Conv2D(32, (3, 3), padding='same'))\n",
    "    model.add(Activation('relu'))\n",
    "    model.add(Conv2D(32, (3, 3)))\n",
    "    model.add(Activation('relu'))\n",
    "    model.add(MaxPooling2D(pool_size=(2, 2)))\n",
    "    model.add(Dropout(0.25))\n",
    "    # -------------------------------------------------------------------------- добавим слои\n",
    "\n",
    "    model.add(Conv2D(64, (3, 3), padding='same'))\n",
    "    model.add(Activation('relu'))\n",
    "    model.add(Conv2D(64, (3, 3)))\n",
    "    model.add(Activation('relu'))\n",
    "    model.add(MaxPooling2D(pool_size=(2, 2)))\n",
    "    model.add(Dropout(0.25))\n",
    "\n",
    "    # полносвязные слои нейронной сети\n",
    "    model.add(Flatten())\n",
    "    model.add(Dense(1024))\n",
    "    model.add(Activation('relu'))\n",
    "    model.add(Dropout(0.5))\n",
    "    model.add(Dense(num_classes))\n",
    "    model.add(Activation('softmax'))\n",
    "\n",
    "    model.summary()\n",
    "    \n",
    "    # инициализация RMSprop optimizer\n",
    "    opt = keras.optimizers.RMSprop(lr=0.0001, decay=1e-6)\n",
    "\n",
    "    # компиляция модели\n",
    "    model.compile(loss='categorical_crossentropy',\n",
    "                  optimizer=opt,\n",
    "                  metrics=['accuracy'])\n",
    "    return model\n",
    "\n",
    "# создаем экземпляр модели для использования с Grid Search\n",
    "model = KerasClassifier(build_fn=create_model, verbose=0)\n",
    "\n",
    "# определяем параметры, которые будут оптимизироваться\n",
    "batch_size = [16] # 32 , 64, 128\n",
    "epochs = [30] # , 20\n",
    "param_grid = dict(batch_size=batch_size, epochs=epochs)\n",
    "\n",
    "# запускаем Grid Search\n",
    "grid = GridSearchCV(estimator=model, param_grid=param_grid, n_jobs=-1, cv=3) #\n",
    "grid_result = grid.fit(x_train, y_train)\n",
    "\n",
    "# выводим результаты\n",
    "print(\"Лучший результат: %f с использованием %s\" % (grid_result.best_score_, grid_result.best_params_))\n",
    "# тоже самое можно провернуть и с другими параметрами (кол-во слоев сети, размер фильтра и тд)"
   ]
  },
  {
   "cell_type": "markdown",
   "id": "98c4aafa",
   "metadata": {},
   "source": [
    "Лучший результат: 0.714820 с использованием {'batch_size': 32, 'epochs': 20} # Dense 512\n",
    "\n",
    "Лучший результат: 0.715160 с использованием {'batch_size': 32, 'epochs': 20} # model.add(Conv2D(32,(2, 2),input... изменили размер ядра сверточного слоя с 3х3 на 2х2\n",
    "\n",
    "Лучший результат: 0.701000 с использованием {'batch_size': 32, 'epochs': 20}  # Dense 128  больше фильтров 64\n",
    "\n",
    "Лучший результат: 0.718980 с использованием {'batch_size': 16, 'epochs': 30}  # добавили слои Dense(512) 2х2+3x3 \n",
    "\n",
    "#### Лучший результат: 0.737040 с использованием {'batch_size': 16, 'epochs': 30} # добавили слои Dense(512  фильтров 64\n",
    "\n",
    "Лучший результат: 0.723480 с использованием {'batch_size': 16, 'epochs': 30} \n",
    "\n",
    "Лучший результат: 0.660520 с использованием {'batch_size': 32, 'epochs': 20} # Dense 64\n",
    "\n",
    "Лучший результат: 0.682060 с использованием {'batch_size': 32, 'epochs': 20} # Dense 128\n",
    "\n",
    "Лучший результат: 0.696000 с использованием {'batch_size': 32, 'epochs': 30} # Dense 64 \n",
    "\n",
    "Лучший результат: 0.652720 с использованием {'batch_size': 16, 'epochs': 30}  # добавили слои Dense(64) 2х2\n",
    "      \n",
    "Лучший результат: 0.703680 с использованием {'batch_size': 16, 'epochs': 30}  #  Dense(64)\n",
    "\n",
    "Лучший результат: 0.680620 с использованием {'batch_size': 16, 'epochs': 30}  #  Dense(64) добавили слои ????   \n",
    "       \n",
    "### Выводы\n",
    "При увеличении ширины сети (больше фильтров) точность сети возрастает.\n",
    "\n",
    "При увеличении глубины сети (больше слоев) точность сети возрастает.\n",
    "\n",
    "Так же точность сети возрастает при увеничении количества нейронов в Dense слое, при увеличении количества эпох и при снижении размера батча."
   ]
  },
  {
   "cell_type": "code",
   "execution_count": null,
   "id": "3e41cfb4",
   "metadata": {},
   "outputs": [],
   "source": []
  }
 ],
 "metadata": {
  "kernelspec": {
   "display_name": "Python 3",
   "language": "python",
   "name": "python3"
  },
  "language_info": {
   "codemirror_mode": {
    "name": "ipython",
    "version": 3
   },
   "file_extension": ".py",
   "mimetype": "text/x-python",
   "name": "python",
   "nbconvert_exporter": "python",
   "pygments_lexer": "ipython3",
   "version": "3.9.16"
  }
 },
 "nbformat": 4,
 "nbformat_minor": 5
}
