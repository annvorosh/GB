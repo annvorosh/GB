{
  "nbformat": 4,
  "nbformat_minor": 0,
  "metadata": {
    "colab": {
      "provenance": [],
      "authorship_tag": "ABX9TyMOxfTIWLS0IXkUAPo9AUwl",
      "include_colab_link": true
    },
    "kernelspec": {
      "name": "python3",
      "display_name": "Python 3"
    },
    "language_info": {
      "name": "python"
    }
  },
  "cells": [
    {
      "cell_type": "markdown",
      "metadata": {
        "id": "view-in-github",
        "colab_type": "text"
      },
      "source": [
        "<a href=\"https://colab.research.google.com/github/annvorosh/GB/blob/Alg_AD/Alg_AD_L08_PCA.ipynb\" target=\"_parent\"><img src=\"https://colab.research.google.com/assets/colab-badge.svg\" alt=\"Open In Colab\"/></a>"
      ]
    },
    {
      "cell_type": "markdown",
      "source": [
        "# Домашнее задание\n",
        "Можно ли отобрать наиболее значимые признаки с помощью PCA?\n",
        "\n",
        "\n",
        "\n",
        "1. (*) Написать свою реализацию метода главных компонент с помощью сингулярного разложения с использованием функции [numpy.linalg.svd()](https://docs.scipy.org/doc/numpy/reference/generated/numpy.linalg.svd.html)\n",
        "2. (*) Обучить любую модель классификации на датасете IRIS до применения PCA и после него. Сравнить качество классификации по отложенной выборке."
      ],
      "metadata": {
        "id": "GrLS7CMBsX5L"
      }
    },
    {
      "cell_type": "code",
      "source": [
        "import numpy as np\n",
        "import pandas as pd\n",
        "from sklearn import datasets\n",
        "from sklearn.model_selection import train_test_split\n",
        "from sklearn.linear_model import LogisticRegression\n",
        "from sklearn.metrics import accuracy_score\n",
        "import matplotlib.pyplot as plt"
      ],
      "metadata": {
        "id": "3OVGJ_igrVyy"
      },
      "execution_count": 5,
      "outputs": []
    },
    {
      "cell_type": "code",
      "source": [
        "# Загрузка датасета Iris\n",
        "iris = datasets.load_iris()\n",
        "X = iris.data\n",
        "y = iris.target\n",
        "\n",
        "# Масштабирование данных\n",
        "X_ = X.astype(float)\n",
        "means = X_.mean(axis=0)\n",
        "X_ -= means\n",
        "std = np.std(X_, axis=0)\n",
        "X_ /= std\n",
        "\n"
      ],
      "metadata": {
        "id": "68gphYBjr2Go"
      },
      "execution_count": 6,
      "outputs": []
    },
    {
      "cell_type": "markdown",
      "source": [
        "Реализуем метод главных компонент (PCA) с использованием сингулярного разложения (SVD). В результате применения PCA данные будут трансформированы в пространство меньшей размерности, что позволит визуализировать их в виде двух главных компонент."
      ],
      "metadata": {
        "id": "-P7ycalQuezx"
      }
    },
    {
      "cell_type": "code",
      "source": [
        "# Реализация PCA с использованием SVD\n",
        "def pca_svd(X, n_components=2):\n",
        "    U, S, Vt = np.linalg.svd(X, full_matrices=False)\n",
        "    W = Vt.T[:, :n_components]\n",
        "    Z = X.dot(W)\n",
        "    return Z, W\n"
      ],
      "metadata": {
        "id": "5syZCkGtr_tR"
      },
      "execution_count": 7,
      "outputs": []
    },
    {
      "cell_type": "code",
      "source": [
        "# Разделение на обучающую и тестовую выборки\n",
        "X_train, X_test, y_train, y_test = train_test_split(X_, y, test_size=0.2, random_state=42)"
      ],
      "metadata": {
        "id": "Z-cEK_PZsB-b"
      },
      "execution_count": 8,
      "outputs": []
    },
    {
      "cell_type": "code",
      "source": [
        "# Обучение модели до применения PCA\n",
        "model = LogisticRegression(max_iter=200)\n",
        "model.fit(X_train, y_train)\n",
        "y_pred = model.predict(X_test)\n",
        "accuracy_before_pca = accuracy_score(y_test, y_pred)\n",
        "print(f\"Точность до применения PCA: {accuracy_before_pca}\")\n"
      ],
      "metadata": {
        "colab": {
          "base_uri": "https://localhost:8080/"
        },
        "id": "arWyqUaisFhJ",
        "outputId": "841ef284-7200-40c4-e464-63cef7ee2e83"
      },
      "execution_count": 9,
      "outputs": [
        {
          "output_type": "stream",
          "name": "stdout",
          "text": [
            "Точность до применения PCA: 1.0\n"
          ]
        }
      ]
    },
    {
      "cell_type": "code",
      "source": [
        "# Применение PCA к обучающей и тестовой выборкам\n",
        "X_train_pca, W = pca_svd(X_train, n_components=2)\n",
        "X_test_pca = X_test.dot(W)"
      ],
      "metadata": {
        "id": "otm91RHLsIIE"
      },
      "execution_count": 10,
      "outputs": []
    },
    {
      "cell_type": "code",
      "source": [
        "# Обучение модели после применения PCA\n",
        "model.fit(X_train_pca, y_train)\n",
        "y_pred_pca = model.predict(X_test_pca)\n",
        "accuracy_after_pca = accuracy_score(y_test, y_pred_pca)\n",
        "print(f\"Точность после применения PCA: {accuracy_after_pca}\")"
      ],
      "metadata": {
        "colab": {
          "base_uri": "https://localhost:8080/"
        },
        "id": "1Ebtb9zmsMyw",
        "outputId": "a3bb9fc4-0313-4d5f-aba0-9cc425454e3f"
      },
      "execution_count": 11,
      "outputs": [
        {
          "output_type": "stream",
          "name": "stdout",
          "text": [
            "Точность после применения PCA: 0.9\n"
          ]
        }
      ]
    },
    {
      "cell_type": "markdown",
      "source": [
        "Несмотря на небольшое снижение точности после применения PCA, модель все еще демонстрирует высокую точность. Это означает, что применение PCA не сильно ухудшило качество классификации, но существенно уменьшило размерность данных, что может быть полезно для ускорения обучения модели и уменьшения вычислительных затрат."
      ],
      "metadata": {
        "id": "PgbML14iu4V4"
      }
    },
    {
      "cell_type": "code",
      "source": [
        "# Визуализация результатов PCA\n",
        "Z, _ = pca_svd(X_, n_components=2)\n",
        "plt.figure()\n",
        "for c, i, target_name in zip(\"rgb\", [0, 1, 2], iris.target_names):\n",
        "    plt.scatter(Z[y == i, 0], Z[y == i, 1], c=c, label=target_name)\n",
        "plt.xlabel('Главная компонента 1')\n",
        "plt.ylabel('Главная компонента 2')\n",
        "plt.title('PCA с использованием SVD для датасета Iris')\n",
        "plt.legend()\n",
        "plt.show()"
      ],
      "metadata": {
        "colab": {
          "base_uri": "https://localhost:8080/",
          "height": 471
        },
        "id": "qOCFLgAXsO8L",
        "outputId": "0869accf-01fd-4b51-c417-38603881ee18"
      },
      "execution_count": 12,
      "outputs": [
        {
          "output_type": "display_data",
          "data": {
            "text/plain": [
              "<Figure size 640x480 with 1 Axes>"
            ],
            "image/png": "[encoded data removed]"
          },
          "metadata": {}
        }
      ]
    },
    {
      "cell_type": "markdown",
      "source": [
        "На графике видно, что классы данных (setosa, versicolor и virginica) хорошо разделяются вдоль первых двух главных компонент. Это говорит о том, что эти две компоненты содержат значительную часть информации о классах данных."
      ],
      "metadata": {
        "id": "wqo10TTVuvhS"
      }
    },
    {
      "cell_type": "code",
      "source": [
        "# Вывод значимости признаков\n",
        "feature_importance = np.abs(W)\n",
        "print(\"Значимость признаков:\\n\", feature_importance)"
      ],
      "metadata": {
        "colab": {
          "base_uri": "https://localhost:8080/"
        },
        "id": "oeuqCxNbsQjZ",
        "outputId": "be87e41a-fc7c-447b-dd63-242f9f0666f2"
      },
      "execution_count": 13,
      "outputs": [
        {
          "output_type": "stream",
          "name": "stdout",
          "text": [
            "Значимость признаков:\n",
            " [[0.5149125  0.39167476]\n",
            " [0.28957987 0.91628998]\n",
            " [0.58078553 0.03742841]\n",
            " [0.56008641 0.07485099]]\n"
          ]
        }
      ]
    },
    {
      "cell_type": "markdown",
      "source": [
        "Здесь первый столбец соответствует первой главной компоненте, второй - второй. Признаки, которые имеют большие значения, считаются более значимыми.\n",
        "\n",
        "Таким образом, PCA можно использовать для отбора значимых признаков, особенно если вы хотите уменьшить размерность данных перед обучением моделей машинного обучения."
      ],
      "metadata": {
        "id": "LMpzB6-7tQup"
      }
    },
    {
      "cell_type": "code",
      "source": [],
      "metadata": {
        "id": "LH7jggZ3tcuf"
      },
      "execution_count": null,
      "outputs": []
    }
  ]
}