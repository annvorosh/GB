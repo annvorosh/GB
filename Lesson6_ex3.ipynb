{
 "cells": [
  {
   "cell_type": "code",
   "execution_count": 1,
   "id": "f50661a4",
   "metadata": {},
   "outputs": [
    {
     "data": {
      "image/png": "[encoded data removed]",
      "text/latex": [
       "$\\displaystyle \\left(x^{2} + 2\\right)^{5} \\left(- x^{3} + 3 x\\right)^{3}$"
      ],
      "text/plain": [
       "        5             3\n",
       "⎛ 2    ⎞  ⎛   3      ⎞ \n",
       "⎝x  + 2⎠ ⋅⎝- x  + 3⋅x⎠ "
      ]
     },
     "execution_count": 1,
     "metadata": {},
     "output_type": "execute_result"
    }
   ],
   "source": [
    "from sympy import *\n",
    "init_printing()\n",
    "\n",
    "x = Symbol('x')\n",
    "y = (x**2 + 2)**5 * (3 * x - x**3)**3\n",
    "y"
   ]
  },
  {
   "cell_type": "code",
   "execution_count": 2,
   "id": "2f35ebf5",
   "metadata": {},
   "outputs": [
    {
     "data": {
      "image/png": "[encoded data removed]",
      "text/latex": [
       "$\\displaystyle 10 x \\left(x^{2} + 2\\right)^{4} \\left(- x^{3} + 3 x\\right)^{3} + \\left(9 - 9 x^{2}\\right) \\left(x^{2} + 2\\right)^{5} \\left(- x^{3} + 3 x\\right)^{2}$"
      ],
      "text/plain": [
       "             4             3                      5             2\n",
       "     ⎛ 2    ⎞  ⎛   3      ⎞    ⎛       2⎞ ⎛ 2    ⎞  ⎛   3      ⎞ \n",
       "10⋅x⋅⎝x  + 2⎠ ⋅⎝- x  + 3⋅x⎠  + ⎝9 - 9⋅x ⎠⋅⎝x  + 2⎠ ⋅⎝- x  + 3⋅x⎠ "
      ]
     },
     "execution_count": 2,
     "metadata": {},
     "output_type": "execute_result"
    }
   ],
   "source": [
    "diff(y, x)"
   ]
  },
  {
   "cell_type": "code",
   "execution_count": null,
   "id": "fdb88d54",
   "metadata": {},
   "outputs": [],
   "source": []
  }
 ],
 "metadata": {
  "kernelspec": {
   "display_name": "Python 3",
   "language": "python",
   "name": "python3"
  },
  "language_info": {
   "codemirror_mode": {
    "name": "ipython",
    "version": 3
   },
   "file_extension": ".py",
   "mimetype": "text/x-python",
   "name": "python",
   "nbconvert_exporter": "python",
   "pygments_lexer": "ipython3",
   "version": "3.8.8"
  }
 },
 "nbformat": 4,
 "nbformat_minor": 5
}
