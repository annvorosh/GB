{
  "cells": [
    {
      "cell_type": "markdown",
      "metadata": {
        "id": "view-in-github",
        "colab_type": "text"
      },
      "source": [
        "<a href=\"https://colab.research.google.com/github/annvorosh/GB/blob/Alg_AD/Alg_L1(gradient_descent).ipynb\" target=\"_parent\"><img src=\"https://colab.research.google.com/assets/colab-badge.svg\" alt=\"Open In Colab\"/></a>"
      ]
    },
    {
      "cell_type": "markdown",
      "metadata": {
        "id": "Kw01g10zBjZr"
      },
      "source": [
        "## Урок 1. Алгоритм линейной регрессии. Градиентный спуск"
      ]
    },
    {
      "cell_type": "code",
      "execution_count": null,
      "metadata": {
        "id": "ak8b3KV45kVW"
      },
      "outputs": [],
      "source": [
        "import numpy as np\n",
        "import matplotlib.pyplot as plt"
      ]
    },
    {
      "cell_type": "markdown",
      "metadata": {
        "id": "VphnS-M8BjZ5"
      },
      "source": [
        "__Задача:__ предсказание баллов ЕГЭ ученика в зависимости от количества лет стажа его репетитора"
      ]
    },
    {
      "cell_type": "code",
      "execution_count": null,
      "metadata": {
        "id": "i77tZbAd5plB",
        "outputId": "e1a76882-e1df-44c3-bf04-475cca08caac",
        "colab": {
          "base_uri": "https://localhost:8080/"
        }
      },
      "outputs": [
        {
          "output_type": "execute_result",
          "data": {
            "text/plain": [
              "array([[ 1,  1,  1,  1,  1,  1,  1,  1,  1,  1],\n",
              "       [ 1,  1,  2,  5,  3,  0,  5, 10,  1,  2]])"
            ]
          },
          "metadata": {},
          "execution_count": 149
        }
      ],
      "source": [
        "X = np.array([[1, 1, 1, 1, 1, 1, 1, 1, 1, 1],\n",
        "              [1, 1, 2, 5, 3, 0, 5, 10, 1, 2]])\n",
        "X"
      ]
    },
    {
      "cell_type": "code",
      "execution_count": null,
      "metadata": {
        "colab": {
          "base_uri": "https://localhost:8080/"
        },
        "id": "ejifaMBe6VaP",
        "outputId": "e172e263-d9e7-477a-d84b-6fc094f46f1b"
      },
      "outputs": [
        {
          "output_type": "execute_result",
          "data": {
            "text/plain": [
              "(2, 10)"
            ]
          },
          "metadata": {},
          "execution_count": 150
        }
      ],
      "source": [
        "X.shape"
      ]
    },
    {
      "cell_type": "code",
      "execution_count": null,
      "metadata": {
        "id": "VsNrKi1Q6Wmh"
      },
      "outputs": [],
      "source": [
        "y = [45, 55, 50, 55, 60, 35, 75, 80, 50, 60]"
      ]
    },
    {
      "cell_type": "markdown",
      "metadata": {
        "id": "KCwytUyLBjZ_"
      },
      "source": [
        "Уравнение прямой: $y = a*x + b$"
      ]
    },
    {
      "cell_type": "code",
      "execution_count": null,
      "metadata": {
        "id": "NntLxvtU7CbH"
      },
      "outputs": [],
      "source": [
        "y_pred1 = 35 * np.ones(10) + X[1]*5\n",
        "y_pred2 = 40 * np.ones(10) + X[1]*7.5"
      ]
    },
    {
      "cell_type": "code",
      "execution_count": null,
      "metadata": {
        "colab": {
          "base_uri": "https://localhost:8080/",
          "height": 265
        },
        "id": "OTikrodr6n-i",
        "outputId": "5644767f-7bf7-4be9-8411-eb50c3befd6f"
      },
      "outputs": [
        {
          "output_type": "display_data",
          "data": {
            "text/plain": [
              "<Figure size 432x288 with 1 Axes>"
            ],
            "image/png": "[encoded data removed]"
          },
          "metadata": {
            "needs_background": "light"
          }
        }
      ],
      "source": [
        "plt.scatter(X[1], y)\n",
        "plt.plot(X[1], y_pred1, label='1')\n",
        "plt.plot(X[1], y_pred2, label='2')\n",
        "plt.legend()\n",
        "plt.show()"
      ]
    },
    {
      "cell_type": "markdown",
      "metadata": {
        "id": "PoGiEvgRBjaE"
      },
      "source": [
        "Простая ошибка:"
      ]
    },
    {
      "cell_type": "code",
      "execution_count": null,
      "metadata": {
        "id": "zbsqjAxH9WqI",
        "outputId": "290a7e48-3628-4812-d6a1-7291c28ddcd7",
        "colab": {
          "base_uri": "https://localhost:8080/"
        }
      },
      "outputs": [
        {
          "output_type": "execute_result",
          "data": {
            "text/plain": [
              "(65.0, -60.0)"
            ]
          },
          "metadata": {},
          "execution_count": 154
        }
      ],
      "source": [
        "err1 = np.sum(y - y_pred1)\n",
        "err2 = np.sum(y - y_pred2)\n",
        "err1, err2"
      ]
    },
    {
      "cell_type": "markdown",
      "metadata": {
        "id": "mKomUlv3BjaG"
      },
      "source": [
        "MAE (Mean Absolute Error):"
      ]
    },
    {
      "cell_type": "code",
      "execution_count": null,
      "metadata": {
        "id": "vUqCthPf9eYI",
        "outputId": "68b463e0-7a71-4c2a-d30c-9c9a4b3d257f",
        "colab": {
          "base_uri": "https://localhost:8080/"
        }
      },
      "outputs": [
        {
          "output_type": "execute_result",
          "data": {
            "text/plain": [
              "(8.5, 9.0)"
            ]
          },
          "metadata": {},
          "execution_count": 155
        }
      ],
      "source": [
        "mae_1 = np.sum(np.abs(y - y_pred1)) / 10\n",
        "mae_2 = np.sum(np.abs(y - y_pred2)) / 10\n",
        "mae_1, mae_2"
      ]
    },
    {
      "cell_type": "markdown",
      "metadata": {
        "id": "QdkR8AXyBjaI"
      },
      "source": [
        "MSE (Mean Squared Error):"
      ]
    },
    {
      "cell_type": "code",
      "execution_count": null,
      "metadata": {
        "id": "XTn2bZIg_EBS",
        "outputId": "f409c062-f7e8-461e-dadd-0fcb3d601140",
        "colab": {
          "base_uri": "https://localhost:8080/"
        }
      },
      "outputs": [
        {
          "output_type": "execute_result",
          "data": {
            "text/plain": [
              "(97.5, 188.75)"
            ]
          },
          "metadata": {},
          "execution_count": 156
        }
      ],
      "source": [
        "mse_1 = np.mean((y - y_pred1)**2)\n",
        "mse_2 = np.mean((y - y_pred2)**2)\n",
        "mse_1, mse_2"
      ]
    },
    {
      "cell_type": "markdown",
      "metadata": {
        "id": "R4zHyZ2Da5HV"
      },
      "source": [
        "Метод наименьших квадратов (МНК):"
      ]
    },
    {
      "cell_type": "code",
      "execution_count": null,
      "metadata": {
        "colab": {
          "base_uri": "https://localhost:8080/"
        },
        "id": "GEeiext0BR1m",
        "outputId": "c48ed066-deac-4bb1-9a17-7cc73540058c"
      },
      "outputs": [
        {
          "output_type": "execute_result",
          "data": {
            "text/plain": [
              "(2, 10)"
            ]
          },
          "metadata": {},
          "execution_count": 157
        }
      ],
      "source": [
        "X.shape"
      ]
    },
    {
      "cell_type": "code",
      "execution_count": null,
      "metadata": {
        "colab": {
          "base_uri": "https://localhost:8080/"
        },
        "id": "j1BN1FZHBVo8",
        "outputId": "a2a97665-63e8-4d85-f282-e1a4066783cc"
      },
      "outputs": [
        {
          "output_type": "execute_result",
          "data": {
            "text/plain": [
              "(10, 2)"
            ]
          },
          "metadata": {},
          "execution_count": 158
        }
      ],
      "source": [
        "X.T.shape"
      ]
    },
    {
      "cell_type": "code",
      "execution_count": null,
      "metadata": {
        "id": "X6Jhs8W8BjaK",
        "outputId": "95b05932-974c-4866-c29e-9be56f82dbb6",
        "colab": {
          "base_uri": "https://localhost:8080/"
        }
      },
      "outputs": [
        {
          "output_type": "execute_result",
          "data": {
            "text/plain": [
              "True"
            ]
          },
          "metadata": {},
          "execution_count": 159
        }
      ],
      "source": [
        "all(X @ y == np.dot(X,y))"
      ]
    },
    {
      "cell_type": "code",
      "execution_count": null,
      "metadata": {
        "colab": {
          "base_uri": "https://localhost:8080/"
        },
        "id": "mnyZzkaDBegD",
        "outputId": "f338f4c5-bfb5-4b75-c32c-24538ca1cfd2"
      },
      "outputs": [
        {
          "output_type": "execute_result",
          "data": {
            "text/plain": [
              "array([45.0625,  3.8125])"
            ]
          },
          "metadata": {},
          "execution_count": 160
        }
      ],
      "source": [
        "W = np.linalg.inv(np.dot(X, X.T)) @ X @ y\n",
        "W"
      ]
    },
    {
      "cell_type": "code",
      "execution_count": null,
      "metadata": {
        "id": "IukREVxDBjaM"
      },
      "outputs": [],
      "source": [
        "y_pred3 = W[0] * X[0] + W[1] * X[1]"
      ]
    },
    {
      "cell_type": "code",
      "execution_count": null,
      "metadata": {
        "colab": {
          "base_uri": "https://localhost:8080/",
          "height": 265
        },
        "id": "Lyg-J3H7Bnv5",
        "outputId": "19b720c6-cf5f-482d-dbd5-b2503197456b"
      },
      "outputs": [
        {
          "output_type": "display_data",
          "data": {
            "text/plain": [
              "<Figure size 432x288 with 1 Axes>"
            ],
            "image/png": "[encoded data removed]"
          },
          "metadata": {
            "needs_background": "light"
          }
        }
      ],
      "source": [
        "plt.scatter(X[1], y)\n",
        "plt.plot(X[1], y_pred1, label='1 - manual')\n",
        "plt.plot(X[1], y_pred2, label='2 - manual')\n",
        "plt.plot(X[1], y_pred3, label='3 - analytical solution')\n",
        "plt.legend()\n",
        "plt.show()"
      ]
    },
    {
      "cell_type": "code",
      "execution_count": null,
      "metadata": {
        "id": "JTSC2cFnCd8T"
      },
      "outputs": [],
      "source": [
        "def calc_mae(y, y_pred):\n",
        "    err = np.mean(np.abs(y - y_pred))\n",
        "    return err\n",
        "\n",
        "def calc_mse(y, y_pred):\n",
        "    err = np.mean((y - y_pred)**2) # <=> 1/n * np.sum((y_pred - y)**2)\n",
        "    return err"
      ]
    },
    {
      "cell_type": "code",
      "execution_count": null,
      "metadata": {
        "colab": {
          "base_uri": "https://localhost:8080/"
        },
        "id": "MYSrwISJDGfS",
        "outputId": "fc969604-b950-4112-9dd0-9fc42e079814"
      },
      "outputs": [
        {
          "output_type": "execute_result",
          "data": {
            "text/plain": [
              "(8.5, 97.5)"
            ]
          },
          "metadata": {},
          "execution_count": 164
        }
      ],
      "source": [
        "calc_mae(y, y_pred1), calc_mse(y, y_pred1)"
      ]
    },
    {
      "cell_type": "code",
      "execution_count": null,
      "metadata": {
        "colab": {
          "base_uri": "https://localhost:8080/"
        },
        "outputId": "7476f787-3db6-435a-9613-86745406d9f0",
        "id": "oi4FNXFlBjaN"
      },
      "outputs": [
        {
          "output_type": "execute_result",
          "data": {
            "text/plain": [
              "(9.0, 188.75)"
            ]
          },
          "metadata": {},
          "execution_count": 165
        }
      ],
      "source": [
        "calc_mae(y, y_pred2), calc_mse(y, y_pred2)"
      ]
    },
    {
      "cell_type": "code",
      "execution_count": null,
      "metadata": {
        "colab": {
          "base_uri": "https://localhost:8080/"
        },
        "id": "_WtO6lvhDmQ6",
        "outputId": "37ab1835-5129-4626-fb54-cd3ea7831b9d"
      },
      "outputs": [
        {
          "output_type": "execute_result",
          "data": {
            "text/plain": [
              "(5.7875, 43.96875000000001)"
            ]
          },
          "metadata": {},
          "execution_count": 166
        }
      ],
      "source": [
        "calc_mae(y, y_pred3), calc_mse(y, y_pred3)"
      ]
    },
    {
      "cell_type": "markdown",
      "metadata": {
        "id": "JAOgIXLRa--g"
      },
      "source": [
        "Градиентный спуск"
      ]
    },
    {
      "cell_type": "code",
      "execution_count": null,
      "metadata": {
        "id": "DNebwUP7Fd8F"
      },
      "outputs": [],
      "source": [
        "n = 10\n",
        "Q = 1/n * np.sum((y_pred3 - y)**2) # функционал ошибки, y = X*w"
      ]
    },
    {
      "cell_type": "code",
      "execution_count": null,
      "metadata": {
        "id": "5DKkvmkwHdOx"
      },
      "outputs": [],
      "source": [
        "alpha = 1e-2 # величина шага\n",
        "g = alpha * (1/n * 2 * np.sum(X[0] * (W[0] * X[0] - y)))"
      ]
    },
    {
      "cell_type": "code",
      "execution_count": null,
      "metadata": {
        "colab": {
          "base_uri": "https://localhost:8080/"
        },
        "id": "ZVRCF5P2MYI6",
        "outputId": "a7a6968f-e35d-442d-dc96-54878710a0c9"
      },
      "outputs": [
        {
          "output_type": "execute_result",
          "data": {
            "text/plain": [
              "(45.062500000000014, 45.29125000000001)"
            ]
          },
          "metadata": {},
          "execution_count": 169
        }
      ],
      "source": [
        "W[0], W[0] - g"
      ]
    },
    {
      "cell_type": "markdown",
      "metadata": {
        "id": "QqGEYJDNBjaP"
      },
      "source": [
        "### Практическое задание"
      ]
    },
    {
      "cell_type": "markdown",
      "metadata": {
        "id": "huXrhXQsZTMt"
      },
      "source": [
        "1. Подберите скорость обучения (alpha) и количество итераций."
      ]
    },
    {
      "cell_type": "code",
      "execution_count": null,
      "metadata": {
        "colab": {
          "base_uri": "https://localhost:8080/"
        },
        "id": "IDB22MQKMYaJ",
        "outputId": "05c9e741-d1ca-4b1a-92be-051528355248"
      },
      "outputs": [
        {
          "output_type": "stream",
          "name": "stdout",
          "text": [
            "\n",
            "a = 0:\n",
            "\n",
            "Number of objects = 10          \n",
            "Learning rate = 0.0          \n",
            "Initial weights = [1.  0.5] \n",
            "\n",
            "Iteration #0: W_new = [1.  0.5], MSE = 3047.75\n",
            "Iteration #20: W_new = [1.  0.5], MSE = 3047.75\n",
            "Iteration #40: W_new = [1.  0.5], MSE = 3047.75\n",
            "Iteration #60: W_new = [1.  0.5], MSE = 3047.75\n",
            "Iteration #80: W_new = [1.  0.5], MSE = 3047.75\n",
            "Iteration #100: W_new = [1.  0.5], MSE = 3047.75\n",
            "Iteration #120: W_new = [1.  0.5], MSE = 3047.75\n",
            "Iteration #140: W_new = [1.  0.5], MSE = 3047.75\n",
            "Iteration #160: W_new = [1.  0.5], MSE = 3047.75\n",
            "Iteration #180: W_new = [1.  0.5], MSE = 3047.75\n",
            "\n",
            "a = 1:\n",
            "\n",
            "Number of objects = 10          \n",
            "Learning rate = 0.01          \n",
            "Initial weights = [1.  0.5] \n",
            "\n",
            "Iteration #0: W_new = [2.08 4.27], MSE = 3047.75\n",
            "Iteration #20: W_new = [ 9.76271412 10.21019379], MSE = 640.69\n",
            "Iteration #40: W_new = [14.72008403  9.31462573], MSE = 484.2\n",
            "Iteration #60: W_new = [18.6183162  8.607745 ], MSE = 377.89\n",
            "Iteration #80: W_new = [21.72489561  8.04441473], MSE = 303.72\n",
            "Iteration #100: W_new = [24.23052681  7.59005715], MSE = 250.7\n",
            "Iteration #120: W_new = [26.27364544  7.21956908], MSE = 211.96\n",
            "Iteration #140: W_new = [27.95623324  6.91445773], MSE = 183.09\n",
            "Iteration #160: W_new = [29.35445342  6.66091206], MSE = 161.18\n",
            "Iteration #180: W_new = [30.52591826  6.44848497], MSE = 144.27\n",
            "\n",
            "a = 2:\n",
            "\n",
            "Number of objects = 10          \n",
            "Learning rate = 0.02          \n",
            "Initial weights = [1.  0.5] \n",
            "\n",
            "Iteration #0: W_new = [3.16 8.04], MSE = 3047.75\n",
            "Iteration #20: W_new = [15.49405632  9.17428136], MSE = 469.76\n",
            "Iteration #40: W_new = [23.24031431  7.76961691], MSE = 275.18\n",
            "Iteration #60: W_new = [28.50309099  6.81529351], MSE = 176.73\n",
            "Iteration #80: W_new = [32.1753827   6.14938003], MSE = 124.18\n",
            "Iteration #100: W_new = [34.80072861  5.67331402], MSE = 94.71\n",
            "Iteration #120: W_new = [36.71935967  5.32539986], MSE = 77.44\n",
            "Iteration #140: W_new = [38.14980516  5.06601063], MSE = 66.9\n",
            "Iteration #160: W_new = [39.23579949  4.8690823 ], MSE = 60.23\n",
            "Iteration #180: W_new = [40.07397702  4.71709173], MSE = 55.87\n",
            "\n",
            "a = 3:\n",
            "\n",
            "Number of objects = 10          \n",
            "Learning rate = 0.03          \n",
            "Initial weights = [1.  0.5] \n",
            "\n",
            "Iteration #0: W_new = [ 4.24 11.81], MSE = 3047.75\n",
            "Iteration #20: W_new = [20.33174909  8.29704037], MSE = 346.91\n",
            "Iteration #40: W_new = [29.41003198  6.65083374], MSE = 164.76\n",
            "Iteration #60: W_new = [34.73068158  5.68601597], MSE = 96.38\n",
            "Iteration #80: W_new = [37.97771017  5.0972174 ], MSE = 68.52\n",
            "Iteration #100: W_new = [40.03327583  4.72447226], MSE = 56.3\n",
            "Iteration #120: W_new = [41.37857723  4.48052259], MSE = 50.56\n",
            "Iteration #140: W_new = [42.28600176  4.31597515], MSE = 47.7\n",
            "Iteration #160: W_new = [42.91505945  4.20190523], MSE = 46.2\n",
            "Iteration #180: W_new = [43.36211359  4.12083886], MSE = 45.36\n",
            "\n",
            "a = 4:\n",
            "\n",
            "Number of objects = 10          \n",
            "Learning rate = 0.04          \n",
            "Initial weights = [1.  0.5] \n",
            "\n",
            "Iteration #0: W_new = [ 5.32 15.58], MSE = 3047.75\n",
            "Iteration #20: W_new = [24.40964784  7.55757631], MSE = 258.88\n",
            "Iteration #40: W_new = [33.86593621  5.84282421], MSE = 106.74\n",
            "Iteration #60: W_new = [38.64004676  4.97711287], MSE = 64.51\n",
            "Iteration #80: W_new = [41.18510156  4.51560642], MSE = 51.42\n",
            "Iteration #100: W_new = [42.6104254   4.25714592], MSE = 46.93\n",
            "Iteration #120: W_new = [43.445135    4.10578421], MSE = 45.25\n",
            "Iteration #140: W_new = [43.95417207  4.01347818], MSE = 44.57\n",
            "Iteration #160: W_new = [44.27621653  3.95508038], MSE = 44.27\n",
            "Iteration #180: W_new = [44.48686153  3.91688316], MSE = 44.13\n",
            "\n",
            "a = 5:\n",
            "\n",
            "Number of objects = 10          \n",
            "Learning rate = 0.05          \n",
            "Initial weights = [1.  0.5] \n",
            "\n",
            "Iteration #0: W_new = [ 6.4  19.35], MSE = 3047.75\n",
            "Iteration #20: W_new = [27.8420713   6.93542214], MSE = 195.98\n",
            "Iteration #40: W_new = [37.075486    5.26082184], MSE = 76.41\n",
            "Iteration #60: W_new = [41.0851686   4.53372773], MSE = 51.96\n",
            "Iteration #80: W_new = [42.95014911  4.19554227], MSE = 46.21\n",
            "Iteration #100: W_new = [43.87321226  4.02815899], MSE = 44.67\n",
            "Iteration #120: W_new = [44.35653013  3.94051675], MSE = 44.22\n",
            "Iteration #140: W_new = [44.6228347   3.89222652], MSE = 44.06\n",
            "Iteration #160: W_new = [44.77650564  3.86436067], MSE = 44.01\n",
            "Iteration #180: W_new = [44.86897447  3.84759287], MSE = 43.99\n",
            "\n",
            "a = 6:\n",
            "\n",
            "Number of objects = 10          \n",
            "Learning rate = 0.06          \n",
            "Initial weights = [1.  0.5] \n",
            "\n",
            "Iteration #0: W_new = [ 7.48 23.12], MSE = 3047.75\n",
            "Iteration #20: W_new = [31.08895805  8.40958076], MSE = 237.73\n",
            "Iteration #40: W_new = [39.38189184  4.84757972], MSE = 60.65\n",
            "Iteration #60: W_new = [42.60879126  4.25744235], MSE = 47.05\n",
            "Iteration #80: W_new = [43.91705812  4.02020822], MSE = 44.64\n",
            "Iteration #100: W_new = [44.48874489  3.91654164], MSE = 44.13\n",
            "Iteration #120: W_new = [44.75615687  3.8680506 ], MSE = 44.02\n",
            "Iteration #140: W_new = [44.88919126  3.84392687], MSE = 43.98\n",
            "Iteration #160: W_new = [44.95917248  3.83123685], MSE = 43.97\n",
            "Iteration #180: W_new = [44.99789415  3.82421528], MSE = 43.97\n",
            "\n",
            "a = 7:\n",
            "\n",
            "Number of objects = 10          \n",
            "Learning rate = 0.07          \n",
            "Initial weights = [1.  0.5] \n",
            "\n",
            "Iteration #0: W_new = [ 8.56 26.89], MSE = 3047.75\n",
            "Iteration #20: W_new = [ 223.33586375 1054.79886566], MSE = 13114548.21\n",
            "Iteration #40: W_new = [ 383.76593314 1894.60387749], MSE = 61031510.21\n",
            "Iteration #60: W_new = [55.45839931 69.73134035], MSE = 109318.78\n",
            "Iteration #80: W_new = [44.44925364  3.95192581], MSE = 44.2\n",
            "Iteration #100: W_new = [44.78719283  3.86242278], MSE = 44.01\n",
            "Iteration #120: W_new = [44.93035937  3.83646167], MSE = 43.98\n",
            "Iteration #140: W_new = [44.99462285  3.82480848], MSE = 43.97\n",
            "Iteration #160: W_new = [45.02542221  3.81922349], MSE = 43.97\n",
            "Iteration #180: W_new = [45.04108547  3.81638319], MSE = 43.97\n",
            "\n",
            "a = 8:\n",
            "\n",
            "Number of objects = 10          \n",
            "Learning rate = 0.08          \n",
            "Initial weights = [1.  0.5] \n",
            "\n",
            "Iteration #0: W_new = [ 9.64 30.66], MSE = 3047.75\n",
            "Iteration #20: W_new = [ 23563.86152529 129758.49395961], MSE = 126680934351.78\n",
            "Iteration #40: W_new = [ 6056370.35831321 33398642.83918152], MSE = 1.1603149048696182e+16\n",
            "Iteration #60: W_new = [4.79308081e+07 2.64322250e+08], MSE = 1.0294528380260294e+18\n",
            "Iteration #80: W_new = [ 8518004.95598852 46973725.83064023], MSE = 4.752447603542079e+16\n",
            "Iteration #100: W_new = [ 22408.61171069 123332.10813184], MSE = 499325840504.29\n",
            "Iteration #120: W_new = [45.49029916  6.49437295], MSE = 422.54\n",
            "Iteration #140: W_new = [45.03608865  3.8172895 ], MSE = 43.97\n",
            "Iteration #160: W_new = [45.04928677  3.81489602], MSE = 43.97\n",
            "Iteration #180: W_new = [45.05545298  3.81377787], MSE = 43.97\n",
            "\n",
            "a = 9:\n",
            "\n",
            "Number of objects = 10          \n",
            "Learning rate = 0.09          \n",
            "Initial weights = [1.  0.5] \n",
            "\n",
            "Iteration #0: W_new = [10.72 34.43], MSE = 3047.75\n",
            "Iteration #20: W_new = [1181338.58769188 6514491.96482817], MSE = 219719208808861.56\n",
            "Iteration #40: W_new = [1.61465138e+10 8.90426615e+10], MSE = 5.543754500116594e+22\n",
            "Iteration #60: W_new = [9.09727803e+12 5.01684673e+13], MSE = 2.4207944381432996e+28\n",
            "Iteration #80: W_new = [1.67820590e+14 9.25474822e+14], MSE = 1.1596190897244435e+31\n",
            "Iteration #100: W_new = [7.54550817e+13 4.16109718e+14], MSE = 3.3986849633003264e+30\n",
            "Iteration #120: W_new = [5.59866680e+11 3.08747881e+12], MSE = 2.8206414071340175e+26\n",
            "Iteration #140: W_new = [4.00956844e+07 2.21114140e+08], MSE = 2.3009717201656837e+18\n",
            "Iteration #160: W_new = [57.76247387 73.85964303], MSE = 397124.74\n",
            "Iteration #180: W_new = [45.06154882  3.81267251], MSE = 43.97\n"
          ]
        }
      ],
      "source": [
        "n = X.shape[1]\n",
        "\n",
        "for a in range(10):\n",
        "  print(f'\\na = {a}:\\n')\n",
        "  alpha = a * 0.01\n",
        "  W = np.array([1, 0.5])\n",
        "  print(f'Number of objects = {n} \\\n",
        "         \\nLearning rate = {alpha} \\\n",
        "         \\nInitial weights = {W} \\n')\n",
        "\n",
        "  for i in range(200):\n",
        "      y_pred = np.dot(W, X)\n",
        "      err = calc_mse(y, y_pred)\n",
        "      for k in range(W.shape[0]):\n",
        "          W[k] -= alpha * (1/n * 2 * np.sum(X[k] * (y_pred - y)))\n",
        "      if i % 20 == 0:\n",
        "          alpha /= 1.1\n",
        "          print(f'Iteration #{i}: W_new = {W}, MSE = {round(err,2)}')"
      ]
    },
    {
      "cell_type": "code",
      "source": [
        ""
      ],
      "metadata": {
        "id": "6TXAPDIdFCLi"
      },
      "execution_count": null,
      "outputs": []
    },
    {
      "cell_type": "markdown",
      "metadata": {
        "id": "5Qu1o4JhZYwI"
      },
      "source": [
        "*2. В этом коде мы избавляемся от итераций по весам, но здесь есть ошибка, исправьте её.\n"
      ]
    },
    {
      "cell_type": "code",
      "execution_count": null,
      "metadata": {
        "colab": {
          "base_uri": "https://localhost:8080/"
        },
        "id": "WZZzDCQLY4pA",
        "outputId": "778b6e93-0270-4a7f-947d-640a05067ed6"
      },
      "outputs": [
        {
          "output_type": "stream",
          "name": "stdout",
          "text": [
            "Number of objects = 10        \n",
            "Learning rate = 0.04        \n",
            "Initial weights = [1.  0.5] \n",
            "\n",
            "Iteration #0: W_new = [ 5.32 15.58], MSE = 3047.75\n",
            "Iteration #20: W_new = [25.78123866  7.30885952], MSE = 232.58\n",
            "Iteration #40: W_new = [35.89284874  5.47527488], MSE = 86.63\n",
            "Iteration #60: W_new = [40.70165956  4.60327118], MSE = 53.62\n",
            "Iteration #80: W_new = [42.98860113  4.18856958], MSE = 46.15\n",
            "Iteration #100: W_new = [44.07620927  3.99134862], MSE = 44.46\n",
            "Iteration #120: W_new = [44.59344656  3.89755561], MSE = 44.08\n",
            "Iteration #140: W_new = [44.83943075  3.85295017], MSE = 43.99\n",
            "Iteration #160: W_new = [44.95641424  3.83173702], MSE = 43.97\n",
            "Iteration #180: W_new = [45.01204846  3.82164861], MSE = 43.97\n"
          ]
        }
      ],
      "source": [
        "n = X.shape[1]\n",
        "alpha = 4e-2\n",
        "W = np.array([1, 0.5])\n",
        "print(f'Number of objects = {n} \\\n",
        "       \\nLearning rate = {alpha} \\\n",
        "       \\nInitial weights = {W} \\n')\n",
        "\n",
        "for i in range(200):\n",
        "    y_pred = np.dot(W, X)\n",
        "    err = calc_mse(y, y_pred)\n",
        "#     for k in range(W.shape[0]):\n",
        "#         W[k] -= alpha * (1/n * 2 * np.sum(X[k] * (y_pred - y)))\n",
        "    W -= alpha * (1/n * 2 * (X * (y_pred - y)).sum(axis=1)) # axis = 1 - объединение столбцов по горизонтали (по первому измерению), вместо всех столбцов один \n",
        "\n",
        "    W_pred = W\n",
        "    if i % 20 == 0:\n",
        "        print(f'Iteration #{i}: W_new = {W}, MSE = {round(err,2)}')"
      ]
    },
    {
      "cell_type": "markdown",
      "metadata": {
        "id": "dNd19yVmBjaR"
      },
      "source": [
        "*3. Вместо того чтобы задавать количество итераций, задайте условие остановки алгоритма, когда ошибка за итерацию начинает изменяться ниже определённого порога — упрощённый аналог параметра tol в линейной регрессии в sklearn."
      ]
    },
    {
      "cell_type": "code",
      "execution_count": null,
      "metadata": {
        "collapsed": true,
        "id": "VjV39BwKBjaR",
        "colab": {
          "base_uri": "https://localhost:8080/"
        },
        "outputId": "aee71ffb-292e-4440-c68c-4a1362510d97"
      },
      "outputs": [
        {
          "output_type": "stream",
          "name": "stdout",
          "text": [
            "Number of objects = 10        \n",
            "Learning rate = 0.04        \n",
            "Initial weights = [1.  0.5] \n",
            "\n",
            "Iteration #199: W_new = [25.05123363  7.44123447], MSE = 247.1294\n",
            "Iteration #199: W_new = [34.86868976  5.66099032], MSE = 96.3263\n",
            "Iteration #199: W_new = [39.53611334  4.81462501], MSE = 59.2614\n",
            "Iteration #199: W_new = [41.89251316  4.38732824], MSE = 48.9722\n",
            "Iteration #199: W_new = [43.14869828  4.15953843], MSE = 45.7831\n",
            "Iteration #199: W_new = [43.85220793  4.03196781], MSE = 44.691\n",
            "Iteration #199: W_new = [44.2642029   3.95725887], MSE = 44.2817\n",
            "Iteration #199: W_new = [44.51545282  3.91169857], MSE = 44.1151\n",
            "Iteration #199: W_new = [44.67440714  3.88287466], MSE = 44.0422\n",
            "Iteration #199: W_new = [44.77837705  3.86402132], MSE = 44.008\n",
            "Iteration #199: W_new = [44.84846915  3.85131119], MSE = 43.9909\n",
            "Iteration #199: W_new = [44.8970361   3.84250433], MSE = 43.982\n",
            "Iteration #199: W_new = [44.93153629  3.83624825], MSE = 43.977\n",
            "Iteration #199: W_new = [44.95660391  3.83170262], MSE = 43.9741\n",
            "Iteration #199: W_new = [44.97519526  3.82833137], MSE = 43.9724\n",
            "Iteration #199: W_new = [44.98924265  3.82578409], MSE = 43.9713\n",
            "Iteration #199: W_new = [45.00003765  3.82382658], MSE = 43.9706\n",
            "Iteration #199: W_new = [45.00846163  3.82229903], MSE = 43.9701\n",
            "Iteration #199: W_new = [45.01512768  3.82109024], MSE = 43.9698\n",
            "Iteration #199: W_new = [45.02046988  3.82012151], MSE = 43.9696\n"
          ]
        }
      ],
      "source": [
        "n = X.shape[1]\n",
        "alpha = 4e-2\n",
        "W = np.array([1, 0.5])\n",
        "print(f'Number of objects = {n} \\\n",
        "       \\nLearning rate = {alpha} \\\n",
        "       \\nInitial weights = {W} \\n')\n",
        "\n",
        "iter = 0 # начало счетчика итераций\n",
        "max_iter = 500 # максимальное количество итераций\n",
        "\n",
        "err = 0\n",
        "mse = 1000 # предыдущая ошибка\n",
        "eps = 0.00001\n",
        "\n",
        "while iter < max_iter and abs(mse - err) > eps:\n",
        "  iter += 1\n",
        "  mse = err\n",
        "  y_pred = np.dot(W, X)\n",
        "  err = calc_mse(y, y_pred)\n",
        "\n",
        "  W -= alpha * (1/n * 2 * (X * (y_pred - y)).sum(axis=1))\n",
        "  W_pred = W      \n",
        "  if iter % 20 == 0:\n",
        "    alpha /= 1.1\n",
        "    print(f'Iteration #{i}: W_new = {W}, MSE = {round(err,4)}')\n",
        "    "
      ]
    },
    {
      "cell_type": "markdown",
      "source": [
        "**4. Сделайте выводы по результатам работы с GD: что повышает качество результата, а что понижает**\n",
        "Скорость обучения alpha (шаг) не стоит выбирать слишком большой, так как при большом шаге метод будет расходиться. Тем временем слишком маленикий шаг приведет к слишком медленному схождению, но качество результата будет выше.\n"
      ],
      "metadata": {
        "id": "-kqc9M2wvgEI"
      }
    }
  ],
  "metadata": {
    "colab": {
      "collapsed_sections": [],
      "name": "Alg_L1(gradient descent).ipynb",
      "provenance": [],
      "include_colab_link": true
    },
    "kernelspec": {
      "display_name": "Python 3",
      "language": "python",
      "name": "python3"
    },
    "language_info": {
      "codemirror_mode": {
        "name": "ipython",
        "version": 3
      },
      "file_extension": ".py",
      "mimetype": "text/x-python",
      "name": "python",
      "nbconvert_exporter": "python",
      "pygments_lexer": "ipython3",
      "version": "3.7.6"
    }
  },
  "nbformat": 4,
  "nbformat_minor": 0
}