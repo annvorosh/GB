{
 "cells": [
  {
   "cell_type": "code",
   "execution_count": 39,
   "id": "64ce827c",
   "metadata": {},
   "outputs": [
    {
     "name": "stdout",
     "output_type": "stream",
     "text": [
      "[[ 1  2  3]\n",
      " [ 2 16 21]\n",
      " [ 4 28 73]] = A\n",
      "\n",
      "[[0. 1. 0.]\n",
      " [0. 0. 1.]\n",
      " [1. 0. 0.]] = P\n",
      "\n",
      "[[ 1.    0.    0.  ]\n",
      " [ 0.25  1.    0.  ]\n",
      " [ 0.5  -0.4   1.  ]] = L\n",
      "\n",
      "[[  4.    28.    73.  ]\n",
      " [  0.    -5.   -15.25]\n",
      " [  0.     0.   -21.6 ]] = U\n"
     ]
    }
   ],
   "source": [
    "import numpy as np\n",
    "import scipy.linalg\n",
    "\n",
    "A = np.array([[1, 2, 3], [2, 16, 21], [4, 28, 73]])\n",
    "P, L, U = scipy.linalg.lu(A)\n",
    "E = np.eye(3)\n",
    "\n",
    "print(f'{A} = A\\n\\n{P} = P\\n\\n{L} = L\\n\\n{U} = U')"
   ]
  },
  {
   "cell_type": "code",
   "execution_count": 37,
   "id": "b9305d11",
   "metadata": {},
   "outputs": [
    {
     "name": "stdout",
     "output_type": "stream",
     "text": [
      "[[ 4. 28. 73.]\n",
      " [ 1.  2.  3.]\n",
      " [ 2. 16. 21.]] = A * P\n",
      "\n",
      "[[ 4. 28. 73.]\n",
      " [ 1.  2.  3.]\n",
      " [ 2. 16. 21.]] = L * U\n",
      "\n",
      "[[0. 0. 0.]\n",
      " [0. 0. 0.]\n",
      " [0. 0. 0.]] = P * A - L * U\n",
      "\n"
     ]
    }
   ],
   "source": [
    "# ПРОВЕРКА\n",
    "\n",
    "print(f'{np.dot(P.T, A)} = A * P\\n')\n",
    "print(f'{np.dot(L, U)} = L * U\\n')\n",
    "print(f'{np.dot(P.T, A) - np.dot(L, U)} = P * A - L * U\\n') \n"
   ]
  },
  {
   "cell_type": "code",
   "execution_count": 59,
   "id": "4539e4e8",
   "metadata": {},
   "outputs": [
    {
     "name": "stdout",
     "output_type": "stream",
     "text": [
      "Ранг матрицы А = 3, \n",
      "Ранг расширенной матрицы С = 3, \n",
      "Решение системы: \n",
      "[12.98611111  4.46527778 -1.97222222]\n"
     ]
    }
   ],
   "source": [
    "# Вторая часть из видео: ПРидумать вектор правых частей и решить систему \n",
    "\n",
    "A = np.array([[1, 2, 3], [2, 16, 21], [4, 28, 73]])\n",
    "B = np.array([16, 56, 33]) \n",
    "C = np.concatenate((A, B.T[:,None]), axis = 1)\n",
    "\n",
    "print(f'Ранг матрицы А = {np.linalg.matrix_rank(A)}, \\nРанг расширенной матрицы С = {np.linalg.matrix_rank(C)}, \\nРешение системы: \\n{np.linalg.solve(A, B)}')"
   ]
  },
  {
   "cell_type": "code",
   "execution_count": null,
   "id": "29f3b793",
   "metadata": {},
   "outputs": [],
   "source": []
  }
 ],
 "metadata": {
  "kernelspec": {
   "display_name": "Python 3",
   "language": "python",
   "name": "python3"
  },
  "language_info": {
   "codemirror_mode": {
    "name": "ipython",
    "version": 3
   },
   "file_extension": ".py",
   "mimetype": "text/x-python",
   "name": "python",
   "nbconvert_exporter": "python",
   "pygments_lexer": "ipython3",
   "version": "3.8.8"
  }
 },
 "nbformat": 4,
 "nbformat_minor": 5
}
