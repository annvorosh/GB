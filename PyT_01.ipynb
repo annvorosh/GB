{
 "cells": [
  {
   "cell_type": "code",
   "execution_count": 14,
   "id": "0ce7a2ac",
   "metadata": {},
   "outputs": [],
   "source": [
    "# !pip install torch torchvision"
   ]
  },
  {
   "cell_type": "code",
   "execution_count": 15,
   "id": "26173b0c",
   "metadata": {},
   "outputs": [],
   "source": [
    "import torch\n",
    "import torchvision"
   ]
  },
  {
   "cell_type": "code",
   "execution_count": 16,
   "id": "d3c97209",
   "metadata": {},
   "outputs": [],
   "source": [
    "import numpy as np"
   ]
  },
  {
   "cell_type": "code",
   "execution_count": 17,
   "id": "e39c1d7e",
   "metadata": {},
   "outputs": [
    {
     "data": {
      "text/plain": [
       "'2.0.0'"
      ]
     },
     "execution_count": 17,
     "metadata": {},
     "output_type": "execute_result"
    }
   ],
   "source": [
    "torch.__version__"
   ]
  },
  {
   "cell_type": "markdown",
   "id": "582b5913",
   "metadata": {},
   "source": [
    "**Задачи для практического задания к уроку 1**\n",
    "\n",
    "1. Создайте случайный FloatTensor размера 3x4x5"
   ]
  },
  {
   "cell_type": "code",
   "execution_count": 39,
   "id": "c5785f8c",
   "metadata": {},
   "outputs": [
    {
     "data": {
      "text/plain": [
       "tensor([[[ 2.0824, -0.5457,  0.9778,  0.7028,  0.0388],\n",
       "         [-0.2704,  1.0423,  1.5813, -1.2461,  0.6228],\n",
       "         [-0.9166, -0.2036, -0.8645,  0.9781,  0.7918],\n",
       "         [-1.6215, -0.7318, -0.0803, -0.6237, -1.3362]],\n",
       "\n",
       "        [[-1.8083,  0.2499, -0.2042,  0.3902, -0.1865],\n",
       "         [-0.0785, -1.8508, -1.3304, -0.8379,  0.3763],\n",
       "         [-1.6504, -0.7332, -0.2712,  1.2943,  0.2004],\n",
       "         [-0.8840, -0.1867,  0.1439, -0.8150,  0.3195]],\n",
       "\n",
       "        [[ 1.1544,  0.5924,  1.9077, -0.3826, -1.9555],\n",
       "         [-0.6394,  0.0782,  0.6807, -0.6587, -0.8403],\n",
       "         [ 0.3073,  0.3729, -0.4046,  0.2261, -0.2528],\n",
       "         [-0.3650, -0.6052,  0.3347, -0.2353, -0.7726]]])"
      ]
     },
     "execution_count": 39,
     "metadata": {},
     "output_type": "execute_result"
    }
   ],
   "source": [
    "a = torch.randn(3, 4, 5).float()\n",
    "a"
   ]
  },
  {
   "cell_type": "markdown",
   "id": "fcdf4728",
   "metadata": {},
   "source": [
    "2. Выведите его форму (shape)\n"
   ]
  },
  {
   "cell_type": "code",
   "execution_count": 40,
   "id": "99ad4cb4",
   "metadata": {},
   "outputs": [
    {
     "data": {
      "text/plain": [
       "torch.Size([3, 4, 5])"
      ]
     },
     "execution_count": 40,
     "metadata": {},
     "output_type": "execute_result"
    }
   ],
   "source": [
    "a.shape"
   ]
  },
  {
   "cell_type": "markdown",
   "id": "a76df739",
   "metadata": {},
   "source": [
    "3. Приведите его к форме 6х10\n"
   ]
  },
  {
   "cell_type": "code",
   "execution_count": 42,
   "id": "e142d8fa",
   "metadata": {},
   "outputs": [
    {
     "data": {
      "text/plain": [
       "tensor([[ 2.0824, -0.5457,  0.9778,  0.7028,  0.0388, -0.2704,  1.0423,  1.5813,\n",
       "         -1.2461,  0.6228],\n",
       "        [-0.9166, -0.2036, -0.8645,  0.9781,  0.7918, -1.6215, -0.7318, -0.0803,\n",
       "         -0.6237, -1.3362],\n",
       "        [-1.8083,  0.2499, -0.2042,  0.3902, -0.1865, -0.0785, -1.8508, -1.3304,\n",
       "         -0.8379,  0.3763],\n",
       "        [-1.6504, -0.7332, -0.2712,  1.2943,  0.2004, -0.8840, -0.1867,  0.1439,\n",
       "         -0.8150,  0.3195],\n",
       "        [ 1.1544,  0.5924,  1.9077, -0.3826, -1.9555, -0.6394,  0.0782,  0.6807,\n",
       "         -0.6587, -0.8403],\n",
       "        [ 0.3073,  0.3729, -0.4046,  0.2261, -0.2528, -0.3650, -0.6052,  0.3347,\n",
       "         -0.2353, -0.7726]])"
      ]
     },
     "execution_count": 42,
     "metadata": {},
     "output_type": "execute_result"
    }
   ],
   "source": [
    "a = a.reshape(6, 10)\n",
    "a"
   ]
  },
  {
   "cell_type": "markdown",
   "id": "bdb9cfd2",
   "metadata": {},
   "source": [
    "4. Создайте случайный IntTensor размера 10\n"
   ]
  },
  {
   "cell_type": "code",
   "execution_count": 43,
   "id": "d43606e6",
   "metadata": {},
   "outputs": [
    {
     "data": {
      "text/plain": [
       "tensor([0, 0, 1, 0, 0, 0, 0, 1, 0, 1], dtype=torch.int32)"
      ]
     },
     "execution_count": 43,
     "metadata": {},
     "output_type": "execute_result"
    }
   ],
   "source": [
    "b = torch.randn(10).int()\n",
    "b"
   ]
  },
  {
   "cell_type": "markdown",
   "id": "d1afca34",
   "metadata": {},
   "source": [
    "5. Умножьте созданный FloatTensor на созданный IntTensor поэлементно"
   ]
  },
  {
   "cell_type": "code",
   "execution_count": 45,
   "id": "df6ce938",
   "metadata": {},
   "outputs": [
    {
     "data": {
      "text/plain": [
       "tensor([[ 0.0000, -0.0000,  0.9778,  0.0000,  0.0000, -0.0000,  0.0000,  1.5813,\n",
       "         -0.0000,  0.6228],\n",
       "        [-0.0000, -0.0000, -0.8645,  0.0000,  0.0000, -0.0000, -0.0000, -0.0803,\n",
       "         -0.0000, -1.3362],\n",
       "        [-0.0000,  0.0000, -0.2042,  0.0000, -0.0000, -0.0000, -0.0000, -1.3304,\n",
       "         -0.0000,  0.3763],\n",
       "        [-0.0000, -0.0000, -0.2712,  0.0000,  0.0000, -0.0000, -0.0000,  0.1439,\n",
       "         -0.0000,  0.3195],\n",
       "        [ 0.0000,  0.0000,  1.9077, -0.0000, -0.0000, -0.0000,  0.0000,  0.6807,\n",
       "         -0.0000, -0.8403],\n",
       "        [ 0.0000,  0.0000, -0.4046,  0.0000, -0.0000, -0.0000, -0.0000,  0.3347,\n",
       "         -0.0000, -0.7726]])"
      ]
     },
     "execution_count": 45,
     "metadata": {},
     "output_type": "execute_result"
    }
   ],
   "source": [
    "c = a * b\n",
    "c"
   ]
  },
  {
   "cell_type": "markdown",
   "id": "51dc33e1",
   "metadata": {},
   "source": [
    "6. Умножьте тензор матрично на себя, чтобы результат был размерности 6x6 Подсказка: .dot может не подойти\n"
   ]
  },
  {
   "cell_type": "code",
   "execution_count": 53,
   "id": "47e65791",
   "metadata": {},
   "outputs": [
    {
     "data": {
      "text/plain": [
       "(tensor([[ 0.0000,  0.0000,  0.0000,  0.0000,  0.0000,  0.0000,  0.0000,  0.0000,\n",
       "           0.0000,  0.0000],\n",
       "         [ 0.0000,  0.0000,  0.0000,  0.0000,  0.0000,  0.0000,  0.0000,  0.0000,\n",
       "           0.0000,  0.0000],\n",
       "         [ 0.0000,  0.0000,  5.6216,  0.0000,  0.0000,  0.0000,  0.0000,  3.0113,\n",
       "           0.0000,  0.3102],\n",
       "         [ 0.0000,  0.0000,  0.0000,  0.0000,  0.0000,  0.0000,  0.0000,  0.0000,\n",
       "           0.0000,  0.0000],\n",
       "         [ 0.0000,  0.0000,  0.0000,  0.0000,  0.0000,  0.0000,  0.0000,  0.0000,\n",
       "           0.0000,  0.0000],\n",
       "         [ 0.0000,  0.0000,  0.0000,  0.0000,  0.0000,  0.0000,  0.0000,  0.0000,\n",
       "           0.0000,  0.0000],\n",
       "         [ 0.0000,  0.0000,  0.0000,  0.0000,  0.0000,  0.0000,  0.0000,  0.0000,\n",
       "           0.0000,  0.0000],\n",
       "         [ 0.0000,  0.0000,  3.0113,  0.0000,  0.0000,  0.0000,  0.0000,  4.8730,\n",
       "           0.0000, -0.1930],\n",
       "         [ 0.0000,  0.0000,  0.0000,  0.0000,  0.0000,  0.0000,  0.0000,  0.0000,\n",
       "           0.0000,  0.0000],\n",
       "         [ 0.0000,  0.0000,  0.3102,  0.0000,  0.0000,  0.0000,  0.0000, -0.1930,\n",
       "           0.0000,  3.7199]]),\n",
       " torch.Size([10, 10]))"
      ]
     },
     "execution_count": 53,
     "metadata": {},
     "output_type": "execute_result"
    }
   ],
   "source": [
    "c.shape\n",
    "c.T.mm(c), c.T.mm(c).shape"
   ]
  },
  {
   "cell_type": "markdown",
   "id": "52a38c2c",
   "metadata": {},
   "source": [
    "7. Посчитайте производную функции y = x**3 + z - 75t в точке (1, 0.5, 2)"
   ]
  },
  {
   "cell_type": "code",
   "execution_count": 59,
   "id": "3921a0b5",
   "metadata": {},
   "outputs": [
    {
     "data": {
      "text/plain": [
       "(tensor([1.], requires_grad=True),\n",
       " tensor([0.5000], requires_grad=True),\n",
       " tensor([2.], requires_grad=True))"
      ]
     },
     "execution_count": 59,
     "metadata": {},
     "output_type": "execute_result"
    }
   ],
   "source": [
    "x = torch.tensor([1.], requires_grad=True)\n",
    "z = torch.tensor([0.5], requires_grad=True)\n",
    "t = torch.tensor([2.], requires_grad=True)\n",
    "x, z, t\n"
   ]
  },
  {
   "cell_type": "code",
   "execution_count": 63,
   "id": "67d2a1c6",
   "metadata": {},
   "outputs": [
    {
     "data": {
      "text/plain": [
       "tensor([-148.5000], grad_fn=<SubBackward0>)"
      ]
     },
     "execution_count": 63,
     "metadata": {},
     "output_type": "execute_result"
    }
   ],
   "source": [
    "y = x ** 3 + z - 75 * t \n",
    "y.backward()\n",
    "y"
   ]
  },
  {
   "cell_type": "code",
   "execution_count": 64,
   "id": "678569a1",
   "metadata": {},
   "outputs": [
    {
     "data": {
      "text/plain": [
       "(tensor([9.]), tensor([3.]), tensor([-225.]))"
      ]
     },
     "execution_count": 64,
     "metadata": {},
     "output_type": "execute_result"
    }
   ],
   "source": [
    "x.grad, z.grad, t.grad"
   ]
  },
  {
   "cell_type": "markdown",
   "id": "39603bc6",
   "metadata": {},
   "source": [
    "8. Создайте единичный тензор размера 5x6\n"
   ]
  },
  {
   "cell_type": "code",
   "execution_count": 76,
   "id": "aa6febc3",
   "metadata": {},
   "outputs": [
    {
     "data": {
      "text/plain": [
       "tensor([[1., 1., 1., 1., 1., 1.],\n",
       "        [1., 1., 1., 1., 1., 1.],\n",
       "        [1., 1., 1., 1., 1., 1.],\n",
       "        [1., 1., 1., 1., 1., 1.],\n",
       "        [1., 1., 1., 1., 1., 1.]])"
      ]
     },
     "execution_count": 76,
     "metadata": {},
     "output_type": "execute_result"
    }
   ],
   "source": [
    "d = torch.ones(5, 6)\n",
    "d"
   ]
  },
  {
   "cell_type": "markdown",
   "id": "834e40fe",
   "metadata": {},
   "source": [
    "9. Переведите его в формат numpy"
   ]
  },
  {
   "cell_type": "code",
   "execution_count": 77,
   "id": "eeaca19f",
   "metadata": {},
   "outputs": [
    {
     "data": {
      "text/plain": [
       "array([[1., 1., 1., 1., 1., 1.],\n",
       "       [1., 1., 1., 1., 1., 1.],\n",
       "       [1., 1., 1., 1., 1., 1.],\n",
       "       [1., 1., 1., 1., 1., 1.],\n",
       "       [1., 1., 1., 1., 1., 1.]], dtype=float32)"
      ]
     },
     "execution_count": 77,
     "metadata": {},
     "output_type": "execute_result"
    }
   ],
   "source": [
    "import numpy as np\n",
    "d = d.numpy()\n",
    "d"
   ]
  }
 ],
 "metadata": {
  "kernelspec": {
   "display_name": "Python 3 (ipykernel)",
   "language": "python",
   "name": "python3"
  },
  "language_info": {
   "codemirror_mode": {
    "name": "ipython",
    "version": 3
   },
   "file_extension": ".py",
   "mimetype": "text/x-python",
   "name": "python",
   "nbconvert_exporter": "python",
   "pygments_lexer": "ipython3",
   "version": "3.8.16"
  }
 },
 "nbformat": 4,
 "nbformat_minor": 5
}
