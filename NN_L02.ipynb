{
  "nbformat": 4,
  "nbformat_minor": 0,
  "metadata": {
    "colab": {
      "provenance": [],
      "authorship_tag": "ABX9TyPHz7wiPwchH7uKicJzYtTq",
      "include_colab_link": true
    },
    "kernelspec": {
      "name": "python3",
      "display_name": "Python 3"
    },
    "language_info": {
      "name": "python"
    }
  },
  "cells": [
    {
      "cell_type": "markdown",
      "metadata": {
        "id": "view-in-github",
        "colab_type": "text"
      },
      "source": [
        "<a href=\"https://colab.research.google.com/github/annvorosh/GB/blob/NNetwork/NN_L02.ipynb\" target=\"_parent\"><img src=\"https://colab.research.google.com/assets/colab-badge.svg\" alt=\"Open In Colab\"/></a>"
      ]
    },
    {
      "cell_type": "code",
      "execution_count": 1,
      "metadata": {
        "id": "Sb9vny1rhcqc"
      },
      "outputs": [],
      "source": [
        "import os\n",
        "os.environ['TF_CPP_MIN_LOG_LEVEL'] = '2'\n",
        "\n",
        "import numpy as np\n",
        "import matplotlib.pyplot as plt\n",
        "from keras.datasets import fashion_mnist         # библиотека базы выборок Fashion_Mnist\n",
        "\n",
        "# Each training and test example is assigned to one of the following labels:\n",
        "# 0 T-shirt/top\n",
        "# 1 Trouser\n",
        "# 2 Pullover\n",
        "# 3 Dress\n",
        "# 4 Coat\n",
        "# 5 Sandal\n",
        "# 6 Shirt\n",
        "# 7 Sneaker\n",
        "# 8 Bag\n",
        "# 9 Ankle boot\n",
        "\n",
        "from tensorflow import keras\n",
        "from keras.layers import Dense, Flatten\n",
        "\n",
        "(x_train, y_train), (x_test, y_test) = fashion_mnist.load_data() # x - изображения, y - номер категории предмета гардероба"
      ]
    },
    {
      "cell_type": "code",
      "source": [
        "x_train.min(), x_train.max() # картинки представлены в градациях серого, 0 - черный, 255 - белый"
      ],
      "metadata": {
        "colab": {
          "base_uri": "https://localhost:8080/"
        },
        "id": "HoXlAMW4lLVZ",
        "outputId": "3eb7f3f9-bd96-4f0b-eb46-e22fefcd8ea3"
      },
      "execution_count": 2,
      "outputs": [
        {
          "output_type": "execute_result",
          "data": {
            "text/plain": [
              "(0, 255)"
            ]
          },
          "metadata": {},
          "execution_count": 2
        }
      ]
    },
    {
      "cell_type": "code",
      "source": [
        "# стандартизация входных данных (для получения значений от 0 до 1)\n",
        "x_train = x_train / 255\n",
        "x_test = x_test / 255\n",
        "\n",
        "# преобразование выходных значений в векторы по категориям, например [0,0,1,0,0,0,0,0,0,0]\n",
        "y_train_cat = keras.utils.to_categorical(y_train, 10)\n",
        "y_test_cat = keras.utils.to_categorical(y_test, 10)\n",
        "\n",
        "# отображение первых 5 изображений из обучающей выборки\n",
        "plt.figure(figsize=(20,20))\n",
        "for i in range(5):\n",
        "    plt.subplot(5,5,i+1)\n",
        "    plt.xticks([])\n",
        "    plt.yticks([])\n",
        "    plt.imshow(x_train[i], cmap=plt.cm.binary)\n",
        "\n",
        "plt.show()"
      ],
      "metadata": {
        "colab": {
          "base_uri": "https://localhost:8080/",
          "height": 218
        },
        "id": "jeyQGJ_EiQNT",
        "outputId": "d0415bbe-ac78-4943-9587-d435a968f51a"
      },
      "execution_count": 3,
      "outputs": [
        {
          "output_type": "display_data",
          "data": {
            "text/plain": [
              "<Figure size 1440x1440 with 5 Axes>"
            ],
            "image/png": "[encoded data removed]"
          },
          "metadata": {}
        }
      ]
    },
    {
      "cell_type": "code",
      "source": [
        "# полносвязная нейронная сеть\n",
        "model = keras.Sequential([               \n",
        "    Flatten(input_shape=(28, 28, 1)),   # входной слой 784 нейрона (28 * 28)\n",
        "    Dense(128, activation='relu'), # Dense - полносвязный класс\n",
        "    Dense(64, activation='relu'),\n",
        "    Dense(10, activation='softmax') # хорошо подходит для залач классификации, 10 - количество категорий предметов гардероба\n",
        "])\n",
        "\n",
        "print(model.summary())      # вывод структуры НС в консоль\n",
        "\n"
      ],
      "metadata": {
        "colab": {
          "base_uri": "https://localhost:8080/"
        },
        "id": "zlw0QZpvl63J",
        "outputId": "8c7c5999-9fbe-4dcb-d2a8-1d12856bc4c1"
      },
      "execution_count": 4,
      "outputs": [
        {
          "output_type": "stream",
          "name": "stdout",
          "text": [
            "Model: \"sequential\"\n",
            "_________________________________________________________________\n",
            " Layer (type)                Output Shape              Param #   \n",
            "=================================================================\n",
            " flatten (Flatten)           (None, 784)               0         \n",
            "                                                                 \n",
            " dense (Dense)               (None, 128)               100480    \n",
            "                                                                 \n",
            " dense_1 (Dense)             (None, 64)                8256      \n",
            "                                                                 \n",
            " dense_2 (Dense)             (None, 10)                650       \n",
            "                                                                 \n",
            "=================================================================\n",
            "Total params: 109,386\n",
            "Trainable params: 109,386\n",
            "Non-trainable params: 0\n",
            "_________________________________________________________________\n",
            "None\n"
          ]
        }
      ]
    },
    {
      "cell_type": "markdown",
      "source": [
        "Увеличение количества слоев улучшает качество сети."
      ],
      "metadata": {
        "id": "xB_rNE1eBJGi"
      }
    },
    {
      "cell_type": "code",
      "source": [
        "# создадим свой оптимайзер\n",
        "# MyAdam = keras.optimizers.Adam(learning_rate = 0.0001)\n",
        "\n",
        "# протестируем сеть с разными оптимизаторами\n",
        "optimizers = ['Adam', 'SGD', 'RMSprop', 'Adagrad', 'Adadelta', 'Adamax', 'Nadam']"
      ],
      "metadata": {
        "id": "3-ayUfvJGBz-"
      },
      "execution_count": 5,
      "outputs": []
    },
    {
      "cell_type": "code",
      "source": [
        "for i in optimizers:\n",
        "  print(f'\\n{i}')\n",
        "  model.compile(optimizer = i,\n",
        "             loss='categorical_crossentropy', # хорошо подходит для залач классификации\n",
        "             metrics=['accuracy'])\n",
        "\n",
        "  # запускаем процесс обучения\n",
        "  model.fit(x_train, y_train_cat, batch_size=30, epochs=3, validation_split=0.2)\n",
        "  # после каждых batch_size изображений корректируются весовые коэффициенты\n"
      ],
      "metadata": {
        "colab": {
          "base_uri": "https://localhost:8080/"
        },
        "id": "xE8eU507mzSF",
        "outputId": "1359e346-9e8e-44d1-bfc0-ecf5556ba797"
      },
      "execution_count": 6,
      "outputs": [
        {
          "output_type": "stream",
          "name": "stdout",
          "text": [
            "\n",
            "Adam\n",
            "Epoch 1/3\n",
            "1600/1600 [==============================] - 16s 9ms/step - loss: 0.5104 - accuracy: 0.8189 - val_loss: 0.4150 - val_accuracy: 0.8465\n",
            "Epoch 2/3\n",
            "1600/1600 [==============================] - 10s 6ms/step - loss: 0.3757 - accuracy: 0.8631 - val_loss: 0.3656 - val_accuracy: 0.8683\n",
            "Epoch 3/3\n",
            "1600/1600 [==============================] - 8s 5ms/step - loss: 0.3416 - accuracy: 0.8748 - val_loss: 0.3449 - val_accuracy: 0.8766\n",
            "\n",
            "SGD\n",
            "Epoch 1/3\n",
            "1600/1600 [==============================] - 5s 3ms/step - loss: 0.2803 - accuracy: 0.8960 - val_loss: 0.3224 - val_accuracy: 0.8832\n",
            "Epoch 2/3\n",
            "1600/1600 [==============================] - 6s 3ms/step - loss: 0.2716 - accuracy: 0.8995 - val_loss: 0.3175 - val_accuracy: 0.8863\n",
            "Epoch 3/3\n",
            "1600/1600 [==============================] - 5s 3ms/step - loss: 0.2667 - accuracy: 0.9008 - val_loss: 0.3179 - val_accuracy: 0.8857\n",
            "\n",
            "RMSprop\n",
            "Epoch 1/3\n",
            "1600/1600 [==============================] - 7s 4ms/step - loss: 0.3173 - accuracy: 0.8827 - val_loss: 0.3854 - val_accuracy: 0.8665\n",
            "Epoch 2/3\n",
            "1600/1600 [==============================] - 6s 4ms/step - loss: 0.3080 - accuracy: 0.8857 - val_loss: 0.3354 - val_accuracy: 0.8847\n",
            "Epoch 3/3\n",
            "1600/1600 [==============================] - 7s 5ms/step - loss: 0.2999 - accuracy: 0.8906 - val_loss: 0.3728 - val_accuracy: 0.8742\n",
            "\n",
            "Adagrad\n",
            "Epoch 1/3\n",
            "1600/1600 [==============================] - 7s 4ms/step - loss: 0.2484 - accuracy: 0.9080 - val_loss: 0.3244 - val_accuracy: 0.8897\n",
            "Epoch 2/3\n",
            "1600/1600 [==============================] - 7s 4ms/step - loss: 0.2383 - accuracy: 0.9123 - val_loss: 0.3209 - val_accuracy: 0.8916\n",
            "Epoch 3/3\n",
            "1600/1600 [==============================] - 6s 4ms/step - loss: 0.2349 - accuracy: 0.9135 - val_loss: 0.3197 - val_accuracy: 0.8911\n",
            "\n",
            "Adadelta\n",
            "Epoch 1/3\n",
            "1600/1600 [==============================] - 9s 5ms/step - loss: 0.2327 - accuracy: 0.9138 - val_loss: 0.3198 - val_accuracy: 0.8913\n",
            "Epoch 2/3\n",
            "1600/1600 [==============================] - 8s 5ms/step - loss: 0.2326 - accuracy: 0.9140 - val_loss: 0.3200 - val_accuracy: 0.8915\n",
            "Epoch 3/3\n",
            "1600/1600 [==============================] - 8s 5ms/step - loss: 0.2324 - accuracy: 0.9141 - val_loss: 0.3201 - val_accuracy: 0.8915\n",
            "\n",
            "Adamax\n",
            "Epoch 1/3\n",
            "1600/1600 [==============================] - 8s 5ms/step - loss: 0.2416 - accuracy: 0.9091 - val_loss: 0.3385 - val_accuracy: 0.8848\n",
            "Epoch 2/3\n",
            "1600/1600 [==============================] - 6s 4ms/step - loss: 0.2315 - accuracy: 0.9139 - val_loss: 0.3216 - val_accuracy: 0.8882\n",
            "Epoch 3/3\n",
            "1600/1600 [==============================] - 7s 5ms/step - loss: 0.2241 - accuracy: 0.9162 - val_loss: 0.3116 - val_accuracy: 0.8947\n",
            "\n",
            "Nadam\n",
            "Epoch 1/3\n",
            "1600/1600 [==============================] - 9s 5ms/step - loss: 0.2715 - accuracy: 0.8983 - val_loss: 0.3504 - val_accuracy: 0.8853\n",
            "Epoch 2/3\n",
            "1600/1600 [==============================] - 9s 6ms/step - loss: 0.2569 - accuracy: 0.9048 - val_loss: 0.3530 - val_accuracy: 0.8798\n",
            "Epoch 3/3\n",
            "1600/1600 [==============================] - 9s 6ms/step - loss: 0.2488 - accuracy: 0.9064 - val_loss: 0.3386 - val_accuracy: 0.8843\n"
          ]
        }
      ]
    },
    {
      "cell_type": "markdown",
      "source": [
        "Выбрали более удачный оптимизатор, основываясь на результатах точности сети по валидационным значениям"
      ],
      "metadata": {
        "id": "l5zyj2JC0ioa"
      }
    },
    {
      "cell_type": "code",
      "source": [
        "model.compile(optimizer = 'Adamax',\n",
        "             loss='categorical_crossentropy', # хорошо подходит для залач классификации\n",
        "             metrics=['accuracy'])\n",
        "\n",
        "  # запускаем процесс обучения\n",
        "model.fit(x_train, y_train_cat, batch_size=30, epochs=10, validation_split=0.2)\n",
        "  # после каждых batch_size изображений корректируются весовые коэффициенты"
      ],
      "metadata": {
        "colab": {
          "base_uri": "https://localhost:8080/"
        },
        "id": "YD0sFDwRPRNA",
        "outputId": "c7fa52c1-3742-483a-f168-79e01acf610c"
      },
      "execution_count": 7,
      "outputs": [
        {
          "output_type": "stream",
          "name": "stdout",
          "text": [
            "Epoch 1/10\n",
            "1600/1600 [==============================] - 7s 4ms/step - loss: 0.2002 - accuracy: 0.9243 - val_loss: 0.3128 - val_accuracy: 0.8956\n",
            "Epoch 2/10\n",
            "1600/1600 [==============================] - 7s 5ms/step - loss: 0.1899 - accuracy: 0.9278 - val_loss: 0.3128 - val_accuracy: 0.8930\n",
            "Epoch 3/10\n",
            "1600/1600 [==============================] - 7s 4ms/step - loss: 0.1853 - accuracy: 0.9317 - val_loss: 0.3129 - val_accuracy: 0.8949\n",
            "Epoch 4/10\n",
            "1600/1600 [==============================] - 7s 4ms/step - loss: 0.1802 - accuracy: 0.9324 - val_loss: 0.3263 - val_accuracy: 0.8943\n",
            "Epoch 5/10\n",
            "1600/1600 [==============================] - 8s 5ms/step - loss: 0.1771 - accuracy: 0.9335 - val_loss: 0.3149 - val_accuracy: 0.8963\n",
            "Epoch 6/10\n",
            "1600/1600 [==============================] - 7s 4ms/step - loss: 0.1730 - accuracy: 0.9355 - val_loss: 0.3187 - val_accuracy: 0.8966\n",
            "Epoch 7/10\n",
            "1600/1600 [==============================] - 8s 5ms/step - loss: 0.1705 - accuracy: 0.9365 - val_loss: 0.3182 - val_accuracy: 0.8975\n",
            "Epoch 8/10\n",
            "1600/1600 [==============================] - 6s 4ms/step - loss: 0.1673 - accuracy: 0.9373 - val_loss: 0.3234 - val_accuracy: 0.8956\n",
            "Epoch 9/10\n",
            "1600/1600 [==============================] - 8s 5ms/step - loss: 0.1638 - accuracy: 0.9393 - val_loss: 0.3280 - val_accuracy: 0.8934\n",
            "Epoch 10/10\n",
            "1600/1600 [==============================] - 7s 4ms/step - loss: 0.1610 - accuracy: 0.9397 - val_loss: 0.3265 - val_accuracy: 0.8983\n"
          ]
        },
        {
          "output_type": "execute_result",
          "data": {
            "text/plain": [
              "<keras.callbacks.History at 0x7fef5ff7e5e0>"
            ]
          },
          "metadata": {},
          "execution_count": 7
        }
      ]
    },
    {
      "cell_type": "markdown",
      "source": [
        "При уменьшении значения batch size точность сети возрастает, но увеличивается время При увеличении количества эпох точность так же возрастает, время тоже растет."
      ],
      "metadata": {
        "id": "-b1_plQRPW9v"
      }
    },
    {
      "cell_type": "code",
      "source": [
        "print('\\nТестовая выборка: ')\n",
        "\n",
        "\n",
        "model.evaluate(x_test, y_test_cat)\n",
        "\n",
        "\n",
        "# Пример\n",
        "n = 3\n",
        "x = np.expand_dims(x_test[n], axis=0)\n",
        "res = model.predict(x)\n",
        "print( res )\n",
        "\n",
        "if np.argmax(res) == 0:\n",
        "  print(f\"Распознанная цифра: {np.argmax(res)} - T-shirt/top\")\n",
        "elif np.argmax(res) == 1:\n",
        "  print(f\"Распознанная цифра: {np.argmax(res)} - Trouser\")\n",
        "elif np.argmax(res) == 2:\n",
        "  print(f\"Распознанная цифра: {np.argmax(res)} - Pullover\")\n",
        "elif np.argmax(res) == 3:\n",
        "  print(f\"Распознанная цифра: {np.argmax(res)} - Dress\")\n",
        "elif np.argmax(res) == 4:\n",
        "  print(f\"Распознанная цифра: {np.argmax(res)} - Coat\")\n",
        "elif np.argmax(res) == 5:\n",
        "  print(f\"Распознанная цифра: {np.argmax(res)} - Sandal\")\n",
        "elif np.argmax(res) == 6:\n",
        "  print(f\"Распознанная цифра: {np.argmax(res)} - Shirt\")\n",
        "elif np.argmax(res) == 7:\n",
        "  print(f\"Распознанная цифра: {np.argmax(res)} - Sneaker\")\n",
        "elif np.argmax(res) == 8:\n",
        "  print(f\"Распознанная цифра: {np.argmax(res)} - Bag\")\n",
        "elif np.argmax(res) == 9:\n",
        "  print(f\"Распознанная цифра: {np.argmax(res)} - Ankle boot\")\n",
        "\n",
        "plt.imshow(x_test[n], cmap=plt.cm.binary)\n",
        "plt.show()"
      ],
      "metadata": {
        "colab": {
          "base_uri": "https://localhost:8080/",
          "height": 401
        },
        "id": "7bqlt5_G4-GA",
        "outputId": "ff558e5c-abcc-47c0-bd2f-bd79c8793730"
      },
      "execution_count": 8,
      "outputs": [
        {
          "output_type": "stream",
          "name": "stdout",
          "text": [
            "\n",
            "Тестовая выборка: \n",
            "313/313 [==============================] - 1s 3ms/step - loss: 0.3550 - accuracy: 0.8910\n",
            "1/1 [==============================] - 0s 101ms/step\n",
            "[[4.87579378e-13 1.00000000e+00 1.35588104e-14 3.06447714e-11\n",
            "  5.62550494e-14 3.71557248e-18 1.05947065e-12 4.84683601e-17\n",
            "  1.15021992e-16 1.21181753e-19]]\n",
            "Распознанная цифра: 1 - Trouser\n"
          ]
        },
        {
          "output_type": "display_data",
          "data": {
            "text/plain": [
              "<Figure size 432x288 with 1 Axes>"
            ],
            "image/png": "[encoded data removed]"
          },
          "metadata": {
            "needs_background": "light"
          }
        }
      ]
    },
    {
      "cell_type": "code",
      "source": [
        "# Распознавание всей тестовой выборки\n",
        "pred = model.predict(x_test)\n",
        "pred = np.argmax(pred, axis=1)\n",
        "\n",
        "print(pred.shape)\n",
        "\n",
        "print(pred[:30])\n",
        "print(y_test[:30])"
      ],
      "metadata": {
        "colab": {
          "base_uri": "https://localhost:8080/"
        },
        "id": "dtrUw-FGoD5_",
        "outputId": "701ef185-c20f-4145-937c-cc267c6f55e6"
      },
      "execution_count": 9,
      "outputs": [
        {
          "output_type": "stream",
          "name": "stdout",
          "text": [
            "313/313 [==============================] - 1s 2ms/step\n",
            "(10000,)\n",
            "[9 2 1 1 0 1 4 6 5 7 4 5 7 3 4 1 2 2 8 0 2 5 7 5 1 2 6 0 9 3]\n",
            "[9 2 1 1 6 1 4 6 5 7 4 5 7 3 4 1 2 4 8 0 2 5 7 9 1 4 6 0 9 3]\n"
          ]
        }
      ]
    },
    {
      "cell_type": "code",
      "source": [
        "# Выделение неверных вариантов\n",
        "mask = pred == y_test\n",
        "print(mask[:10])\n",
        "\n",
        "x_false = x_test[~mask]\n",
        "p_false = pred[~mask]\n",
        "\n",
        "print(x_false.shape)\n"
      ],
      "metadata": {
        "colab": {
          "base_uri": "https://localhost:8080/"
        },
        "id": "Yxg-pZq9oSo2",
        "outputId": "3e5aece9-3e77-442c-fa68-fb599fca553d"
      },
      "execution_count": 10,
      "outputs": [
        {
          "output_type": "stream",
          "name": "stdout",
          "text": [
            "[ True  True  True  True False  True  True  True  True  True]\n",
            "(1090, 28, 28)\n"
          ]
        }
      ]
    },
    {
      "cell_type": "code",
      "source": [
        "# Вывод первых 25 неверных результатов\n",
        "plt.figure(figsize=(10,5))\n",
        "for i in range(5):\n",
        "  plt.subplot(5,5,i+1)\n",
        "  plt.xticks([])\n",
        "  plt.yticks([])\n",
        "\n",
        "  if p_false[i] == 0:\n",
        "    print(f\" Значение сети: {p_false[i]} - T-shirt/top\")\n",
        "  elif p_false[i] == 1:\n",
        "      print(f\"Значение сети: {p_false[i]} - Trouser\")\n",
        "  elif p_false[i] == 2:\n",
        "      print(f\" Значение сети: {p_false[i]} - Pullover\")\n",
        "  elif p_false[i] == 3:\n",
        "      print(f\" Значение сети: {p_false[i]} - Dress\")\n",
        "  elif p_false[i] == 4:\n",
        "      print(f\"Значение сети: {p_false[i]} - Coat\")\n",
        "  elif p_false[i] == 5:\n",
        "      print(f\"Значение сети: {p_false[i]} - Sandal\")\n",
        "  elif p_false[i] == 6:\n",
        "      print(f\"Значение сети: {p_false[i]} - Shirt\")\n",
        "  elif p_false[i] == 7:\n",
        "      print(f\"Значение сети: {p_false[i]} - Sneaker\")\n",
        "  elif p_false[i] == 8:\n",
        "      print(f\"Значение сети: {p_false[i]} - Bag\")\n",
        "  elif p_false[i] == 9:\n",
        "      print(f\"Значение сети: {p_false[i]} - Ankle boot\")\n",
        "  plt.imshow(x_false[i], cmap=plt.cm.binary)\n",
        "  plt.show()"
      ],
      "metadata": {
        "colab": {
          "base_uri": "https://localhost:8080/",
          "height": 367
        },
        "id": "UTxdYLtvoWhz",
        "outputId": "086ae27d-6d98-4856-f631-20bd7c40847f"
      },
      "execution_count": 11,
      "outputs": [
        {
          "output_type": "stream",
          "name": "stdout",
          "text": [
            " Значение сети: 0 - T-shirt/top\n"
          ]
        },
        {
          "output_type": "display_data",
          "data": {
            "text/plain": [
              "<Figure size 720x360 with 1 Axes>"
            ],
            "image/png": "[encoded data removed]"
          },
          "metadata": {}
        },
        {
          "output_type": "stream",
          "name": "stdout",
          "text": [
            " Значение сети: 2 - Pullover\n"
          ]
        },
        {
          "output_type": "display_data",
          "data": {
            "text/plain": [
              "<Figure size 432x288 with 1 Axes>"
            ],
            "image/png": "[encoded data removed]"
          },
          "metadata": {}
        },
        {
          "output_type": "stream",
          "name": "stdout",
          "text": [
            "Значение сети: 5 - Sandal\n"
          ]
        },
        {
          "output_type": "display_data",
          "data": {
            "text/plain": [
              "<Figure size 432x288 with 1 Axes>"
            ],
            "image/png": "[encoded data removed]"
          },
          "metadata": {}
        },
        {
          "output_type": "stream",
          "name": "stdout",
          "text": [
            " Значение сети: 2 - Pullover\n"
          ]
        },
        {
          "output_type": "display_data",
          "data": {
            "text/plain": [
              "<Figure size 432x288 with 1 Axes>"
            ],
            "image/png": "[encoded data removed]"
          },
          "metadata": {}
        },
        {
          "output_type": "stream",
          "name": "stdout",
          "text": [
            " Значение сети: 0 - T-shirt/top\n"
          ]
        },
        {
          "output_type": "display_data",
          "data": {
            "text/plain": [
              "<Figure size 432x288 with 1 Axes>"
            ],
            "image/png": "[encoded data removed]"
          },
          "metadata": {}
        }
      ]
    },
    {
      "cell_type": "markdown",
      "source": [
        "# Новый раздел"
      ],
      "metadata": {
        "id": "gO-zTDTETRmY"
      }
    },
    {
      "cell_type": "code",
      "source": [],
      "metadata": {
        "id": "MAryhAk1oYUc"
      },
      "execution_count": 11,
      "outputs": []
    }
  ]
}