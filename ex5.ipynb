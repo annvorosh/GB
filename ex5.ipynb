{
 "cells": [
  {
   "cell_type": "code",
   "execution_count": 41,
   "id": "57c8ea0d",
   "metadata": {},
   "outputs": [
    {
     "name": "stdout",
     "output_type": "stream",
     "text": [
      "Коэффициент корреляции С = \n",
      "[[1.         0.97173399]\n",
      " [0.97173399 1.        ]]\n",
      "Ручным методом: \n",
      "a = 0.8025179327223935, b = 0.08842988372080761\n",
      "С помощью библиотеки numpy: \n",
      "a = 0.8025179327223937, b = 0.08842988372080741\n",
      "Коэффициент корреляции ручным методом: R = 0.9717339922290017\n"
     ]
    },
    {
     "name": "stderr",
     "output_type": "stream",
     "text": [
      "<ipython-input-41-4af625198fea>:23: FutureWarning: `rcond` parameter will change to the default of machine precision times ``max(M, N)`` where M and N are the input matrix dimensions.\n",
      "To use the future default and silence this warning we advise to pass `rcond=None`, to keep using the old, explicitly pass `rcond=-1`.\n",
      "  a1, b1 = np.linalg.lstsq(A, y)[0]\n"
     ]
    },
    {
     "data": {
      "image/png": "[encoded data removed]",
      "text/plain": [
       "<Figure size 432x288 with 1 Axes>"
      ]
     },
     "metadata": {
      "needs_background": "light"
     },
     "output_type": "display_data"
    }
   ],
   "source": [
    "%matplotlib inline\n",
    "import numpy as np\n",
    "import matplotlib.pyplot as plt\n",
    "\n",
    "n = 100\n",
    "k = 0.8\n",
    "x = np.random.rand(n)\n",
    "y = k * x + (1 - k) * np.random.rand(n)\n",
    "plt.plot(x, y, '.')\n",
    "plt.xlabel('x')\n",
    "plt.ylabel('y')\n",
    "plt.title('Линейная регрессия')\n",
    "plt.grid(True)\n",
    "\n",
    "c = np.corrcoef(x, y)\n",
    "print(f'Коэффициент корреляции С = \\n{c}')\n",
    "\n",
    "a = (np.sum(x) * np.sum(y) - n * np.sum(x * y)) / (np.sum(x)**2 - n * np.sum(x * x))\n",
    "b = (np.sum(y) - a * np.sum(x)) / n\n",
    "print(f'Ручным методом: \\na = {a}, b = {b}')\n",
    "\n",
    "A = np.vstack([x, np.ones(len(x))]).T\n",
    "a1, b1 = np.linalg.lstsq(A, y)[0]\n",
    "print(f'С помощью библиотеки numpy: \\na = {a1}, b = {b1}')\n",
    "\n",
    "R = np.sum((x - np.sum(x) / n) * (y - np.sum(y) / n)) / np.sqrt((np.sum((x - np.sum(x) / n)**2)) * np.sum((y - np.sum(y) / n)**2))\n",
    "print(f'Коэффициент корреляции ручным методом: R = {R}')\n",
    "\n",
    "plt.plot([0, 1], [b, a + b])\n",
    "plt.show()"
   ]
  },
  {
   "cell_type": "code",
   "execution_count": null,
   "id": "59e80c86",
   "metadata": {},
   "outputs": [],
   "source": []
  },
  {
   "cell_type": "code",
   "execution_count": null,
   "id": "4dad51c1",
   "metadata": {},
   "outputs": [],
   "source": []
  }
 ],
 "metadata": {
  "kernelspec": {
   "display_name": "Python 3",
   "language": "python",
   "name": "python3"
  },
  "language_info": {
   "codemirror_mode": {
    "name": "ipython",
    "version": 3
   },
   "file_extension": ".py",
   "mimetype": "text/x-python",
   "name": "python",
   "nbconvert_exporter": "python",
   "pygments_lexer": "ipython3",
   "version": "3.8.8"
  }
 },
 "nbformat": 4,
 "nbformat_minor": 5
}
