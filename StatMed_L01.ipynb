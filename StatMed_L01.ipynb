{
  "nbformat": 4,
  "nbformat_minor": 0,
  "metadata": {
    "colab": {
      "provenance": [],
      "authorship_tag": "ABX9TyNEq67TqW+Nfa6h1Giy2rwL",
      "include_colab_link": true
    },
    "kernelspec": {
      "name": "ir",
      "display_name": "R"
    },
    "language_info": {
      "name": "R"
    }
  },
  "cells": [
    {
      "cell_type": "markdown",
      "metadata": {
        "id": "view-in-github",
        "colab_type": "text"
      },
      "source": [
        "<a href=\"https://colab.research.google.com/github/annvorosh/GB/blob/StatMed/StatMed_L01.ipynb\" target=\"_parent\"><img src=\"https://colab.research.google.com/assets/colab-badge.svg\" alt=\"Open In Colab\"/></a>"
      ]
    },
    {
      "cell_type": "code",
      "execution_count": 1,
      "metadata": {
        "colab": {
          "base_uri": "https://localhost:8080/"
        },
        "id": "saFTBNlx977o",
        "outputId": "a7753498-539b-4865-d347-5f017071fef7"
      },
      "outputs": [
        {
          "output_type": "stream",
          "name": "stderr",
          "text": [
            "Installing package into ‘/usr/local/lib/R/site-library’\n",
            "(as ‘lib’ is unspecified)\n",
            "\n",
            "Installing package into ‘/usr/local/lib/R/site-library’\n",
            "(as ‘lib’ is unspecified)\n",
            "\n",
            "── \u001b[1mAttaching core tidyverse packages\u001b[22m ──────────────────────── tidyverse 2.0.0 ──\n",
            "\u001b[32m✔\u001b[39m \u001b[34mdplyr    \u001b[39m 1.1.4     \u001b[32m✔\u001b[39m \u001b[34mreadr    \u001b[39m 2.1.5\n",
            "\u001b[32m✔\u001b[39m \u001b[34mforcats  \u001b[39m 1.0.0     \u001b[32m✔\u001b[39m \u001b[34mstringr  \u001b[39m 1.5.1\n",
            "\u001b[32m✔\u001b[39m \u001b[34mggplot2  \u001b[39m 3.4.4     \u001b[32m✔\u001b[39m \u001b[34mtibble   \u001b[39m 3.2.1\n",
            "\u001b[32m✔\u001b[39m \u001b[34mlubridate\u001b[39m 1.9.3     \u001b[32m✔\u001b[39m \u001b[34mtidyr    \u001b[39m 1.3.1\n",
            "\u001b[32m✔\u001b[39m \u001b[34mpurrr    \u001b[39m 1.0.2     \n",
            "── \u001b[1mConflicts\u001b[22m ────────────────────────────────────────── tidyverse_conflicts() ──\n",
            "\u001b[31m✖\u001b[39m \u001b[34mdplyr\u001b[39m::\u001b[32mfilter()\u001b[39m masks \u001b[34mstats\u001b[39m::filter()\n",
            "\u001b[31m✖\u001b[39m \u001b[34mdplyr\u001b[39m::\u001b[32mlag()\u001b[39m    masks \u001b[34mstats\u001b[39m::lag()\n",
            "\u001b[36mℹ\u001b[39m Use the conflicted package (\u001b[3m\u001b[34m<http://conflicted.r-lib.org/>\u001b[39m\u001b[23m) to force all conflicts to become errors\n"
          ]
        }
      ],
      "source": [
        "# Установка и загрузка необходимых библиотек\n",
        "install.packages(\"readxl\")\n",
        "install.packages(\"tidyverse\")\n",
        "library(readxl)\n",
        "library(tidyverse)\n"
      ]
    },
    {
      "cell_type": "code",
      "source": [
        "# Установка и подключение пакетов\n",
        "install.packages(\"googledrive\")\n",
        "library(googledrive)\n",
        "\n",
        "# Аутентификация в Google Диске\n",
        "drive_auth()\n",
        "\n",
        "# Загрузка файла \"metadata.xlsx\"\n",
        "file_id <- \"1KExi5HghPXE0sSWqTHFa6NqSKIjYX4cO\"\n",
        "drive_download(as_id(file_id), path = \"/content/metadata.xlsx\")\n"
      ],
      "metadata": {
        "colab": {
          "base_uri": "https://localhost:8080/"
        },
        "id": "x7dVUgw2G3zX",
        "outputId": "d56ce36f-18cd-43aa-d691-b3c06afa33ba"
      },
      "execution_count": 2,
      "outputs": [
        {
          "output_type": "stream",
          "name": "stderr",
          "text": [
            "Installing package into ‘/usr/local/lib/R/site-library’\n",
            "(as ‘lib’ is unspecified)\n",
            "\n",
            "\u001b[1m\u001b[22mIs it OK to cache OAuth access credentials in the folder \u001b[34m~/.cache/gargle\u001b[39m\n",
            "between R sessions?\n",
            "\u001b[1m1\u001b[22m: Yes\n",
            "\u001b[1m2\u001b[22m: No\n"
          ]
        },
        {
          "name": "stdout",
          "output_type": "stream",
          "text": [
            "Selection: 1\n"
          ]
        },
        {
          "output_type": "stream",
          "name": "stderr",
          "text": [
            "Please point your browser to the following url: \n",
            "\n",
            "https://accounts.google.com/o/oauth2/v2/auth?client_id=603366585132-frjlouoa3s2ono25d2l9ukvhlsrlnr7k.apps.googleusercontent.com&scope=https%3A%2F%2Fwww.googleapis.com%2Fauth%2Fdrive%20https%3A%2F%2Fwww.googleapis.com%2Fauth%2Fuserinfo.email&redirect_uri=https%3A%2F%2Fwww.tidyverse.org%2Fgoogle-callback%2F&response_type=code&state=a643933875e1c502a7f96ec96cfb4607&access_type=offline&prompt=consent\n",
            "\n"
          ]
        },
        {
          "name": "stdout",
          "output_type": "stream",
          "text": [
            "Enter authorization code: eyJjb2RlIjoiNC8wQWVhWVNIRHhEcTFtXzR3TkZ0a1NkR3FlY2pjNE44QjRBTWx5d0xfWnYzTGdCc25ySXZpeVVJbU96SnEwZlRRSS1abmxqQSIsInN0YXRlIjoiYTY0MzkzMzg3NWUxYzUwMmE3Zjk2ZWM5NmNmYjQ2MDcifQ==\n"
          ]
        },
        {
          "output_type": "stream",
          "name": "stderr",
          "text": [
            "File downloaded:\n",
            "\n",
            "• \u001b[36mmetadata.xlsx\u001b[39m \u001b[90m<id: 1KExi5HghPXE0sSWqTHFa6NqSKIjYX4cO>\u001b[39m\n",
            "\n",
            "Saved locally as:\n",
            "\n",
            "• \u001b[34m/content/metadata.xlsx\u001b[39m\n",
            "\n"
          ]
        }
      ]
    },
    {
      "cell_type": "code",
      "source": [
        "# Загрузка файла 'low_density_lipids.tsv'\n",
        "file_id_low_density <- \"1KDH6MBl-71MZkmz-wfkAnSQh6oMoR_VC\"\n",
        "drive_download(as_id(file_id_low_density), path = \"/content/low_density_lipids.tsv\")\n",
        "\n"
      ],
      "metadata": {
        "colab": {
          "base_uri": "https://localhost:8080/"
        },
        "id": "TVYxIoPMFLSu",
        "outputId": "1daac80d-dd98-46f9-92ad-3d2f5b059082"
      },
      "execution_count": 3,
      "outputs": [
        {
          "output_type": "stream",
          "name": "stderr",
          "text": [
            "File downloaded:\n",
            "\n",
            "• \u001b[36mlow_density_lipids.tsv\u001b[39m \u001b[90m<id: 1KDH6MBl-71MZkmz-wfkAnSQh6oMoR_VC>\u001b[39m\n",
            "\n",
            "Saved locally as:\n",
            "\n",
            "• \u001b[34m/content/low_density_lipids.tsv\u001b[39m\n",
            "\n"
          ]
        }
      ]
    },
    {
      "cell_type": "code",
      "source": [
        "\n",
        "# Загрузка файла 'high_density_lipids.tsv'\n",
        "file_id_high_density <- \"1KFS-7hbtm4jDDYQbwcc5NvSVbPQel1Tv\"\n",
        "drive_download(as_id(file_id_high_density), path = \"/content/high_density_lipids.tsv\")"
      ],
      "metadata": {
        "colab": {
          "base_uri": "https://localhost:8080/"
        },
        "id": "5VinfV96-EKm",
        "outputId": "38efd4e4-e0dd-4a88-9d25-052c36c9778f"
      },
      "execution_count": 4,
      "outputs": [
        {
          "output_type": "stream",
          "name": "stderr",
          "text": [
            "File downloaded:\n",
            "\n",
            "• \u001b[36mhigh_density_lipids.tsv\u001b[39m \u001b[90m<id: 1KFS-7hbtm4jDDYQbwcc5NvSVbPQel1Tv>\u001b[39m\n",
            "\n",
            "Saved locally as:\n",
            "\n",
            "• \u001b[34m/content/high_density_lipids.tsv\u001b[39m\n",
            "\n"
          ]
        }
      ]
    },
    {
      "cell_type": "code",
      "source": [
        "# Чтение файла 'low_density_lipids.tsv'\n",
        "low_density_data <- read.delim(\"/content/low_density_lipids.tsv\", stringsAsFactors = FALSE)\n",
        "# Изучение колонок\n",
        "names(low_density_data)\n",
        "# Просмотр первых строк данных\n",
        "head(low_density_data)\n"
      ],
      "metadata": {
        "colab": {
          "base_uri": "https://localhost:8080/",
          "height": 330
        },
        "id": "fMidiv7zAEUq",
        "outputId": "e53fd182-27d8-4235-d5c2-7a4a8427ee65"
      },
      "execution_count": 5,
      "outputs": [
        {
          "output_type": "display_data",
          "data": {
            "text/html": [
              "<style>\n",
              ".list-inline {list-style: none; margin:0; padding: 0}\n",
              ".list-inline>li {display: inline-block}\n",
              ".list-inline>li:not(:last-child)::after {content: \"\\00b7\"; padding: 0 .5ex}\n",
              "</style>\n",
              "<ol class=list-inline><li>'Vial.number'</li><li>'Patient.number'</li><li>'Name'</li><li>'GPLDL1'</li><li>'GPLDL2'</li><li>'GPLDL3'</li><li>'GPLDL4'</li><li>'GPLDL5'</li><li>'GPLDL6'</li><li>'GPLDL7'</li><li>'GPLDL8'</li><li>'GPLDL9'</li><li>'GPLDL10'</li><li>'GPLDL11'</li><li>'GPLDL12'</li><li>'GPLDL13'</li><li>'GPLDL14'</li><li>'GPLDL15'</li><li>'GPLDL16'</li><li>'GPLDL17'</li><li>'GPLDL18'</li><li>'GPLDL19'</li><li>'GPLDL20'</li><li>'GPLDL21'</li><li>'GPLDL22'</li><li>'sum_auc'</li><li>'LB'</li><li>'HB'</li><li>'G1'</li><li>'G2'</li><li>'G3'</li><li>'S0'</li><li>'S1'</li><li>'S2'</li><li>'S3'</li><li>'B'</li><li>'F'</li><li>'HM'</li></ol>\n"
            ],
            "text/markdown": "1. 'Vial.number'\n2. 'Patient.number'\n3. 'Name'\n4. 'GPLDL1'\n5. 'GPLDL2'\n6. 'GPLDL3'\n7. 'GPLDL4'\n8. 'GPLDL5'\n9. 'GPLDL6'\n10. 'GPLDL7'\n11. 'GPLDL8'\n12. 'GPLDL9'\n13. 'GPLDL10'\n14. 'GPLDL11'\n15. 'GPLDL12'\n16. 'GPLDL13'\n17. 'GPLDL14'\n18. 'GPLDL15'\n19. 'GPLDL16'\n20. 'GPLDL17'\n21. 'GPLDL18'\n22. 'GPLDL19'\n23. 'GPLDL20'\n24. 'GPLDL21'\n25. 'GPLDL22'\n26. 'sum_auc'\n27. 'LB'\n28. 'HB'\n29. 'G1'\n30. 'G2'\n31. 'G3'\n32. 'S0'\n33. 'S1'\n34. 'S2'\n35. 'S3'\n36. 'B'\n37. 'F'\n38. 'HM'\n\n\n",
            "text/latex": "\\begin{enumerate*}\n\\item 'Vial.number'\n\\item 'Patient.number'\n\\item 'Name'\n\\item 'GPLDL1'\n\\item 'GPLDL2'\n\\item 'GPLDL3'\n\\item 'GPLDL4'\n\\item 'GPLDL5'\n\\item 'GPLDL6'\n\\item 'GPLDL7'\n\\item 'GPLDL8'\n\\item 'GPLDL9'\n\\item 'GPLDL10'\n\\item 'GPLDL11'\n\\item 'GPLDL12'\n\\item 'GPLDL13'\n\\item 'GPLDL14'\n\\item 'GPLDL15'\n\\item 'GPLDL16'\n\\item 'GPLDL17'\n\\item 'GPLDL18'\n\\item 'GPLDL19'\n\\item 'GPLDL20'\n\\item 'GPLDL21'\n\\item 'GPLDL22'\n\\item 'sum\\_auc'\n\\item 'LB'\n\\item 'HB'\n\\item 'G1'\n\\item 'G2'\n\\item 'G3'\n\\item 'S0'\n\\item 'S1'\n\\item 'S2'\n\\item 'S3'\n\\item 'B'\n\\item 'F'\n\\item 'HM'\n\\end{enumerate*}\n",
            "text/plain": [
              " [1] \"Vial.number\"    \"Patient.number\" \"Name\"           \"GPLDL1\"        \n",
              " [5] \"GPLDL2\"         \"GPLDL3\"         \"GPLDL4\"         \"GPLDL5\"        \n",
              " [9] \"GPLDL6\"         \"GPLDL7\"         \"GPLDL8\"         \"GPLDL9\"        \n",
              "[13] \"GPLDL10\"        \"GPLDL11\"        \"GPLDL12\"        \"GPLDL13\"       \n",
              "[17] \"GPLDL14\"        \"GPLDL15\"        \"GPLDL16\"        \"GPLDL17\"       \n",
              "[21] \"GPLDL18\"        \"GPLDL19\"        \"GPLDL20\"        \"GPLDL21\"       \n",
              "[25] \"GPLDL22\"        \"sum_auc\"        \"LB\"             \"HB\"            \n",
              "[29] \"G1\"             \"G2\"             \"G3\"             \"S0\"            \n",
              "[33] \"S1\"             \"S2\"             \"S3\"             \"B\"             \n",
              "[37] \"F\"              \"HM\"            "
            ]
          },
          "metadata": {}
        },
        {
          "output_type": "display_data",
          "data": {
            "text/html": [
              "<table class=\"dataframe\">\n",
              "<caption>A data.frame: 6 × 38</caption>\n",
              "<thead>\n",
              "\t<tr><th></th><th scope=col>Vial.number</th><th scope=col>Patient.number</th><th scope=col>Name</th><th scope=col>GPLDL1</th><th scope=col>GPLDL2</th><th scope=col>GPLDL3</th><th scope=col>GPLDL4</th><th scope=col>GPLDL5</th><th scope=col>GPLDL6</th><th scope=col>GPLDL7</th><th scope=col>⋯</th><th scope=col>G1</th><th scope=col>G2</th><th scope=col>G3</th><th scope=col>S0</th><th scope=col>S1</th><th scope=col>S2</th><th scope=col>S3</th><th scope=col>B</th><th scope=col>F</th><th scope=col>HM</th></tr>\n",
              "\t<tr><th></th><th scope=col>&lt;int&gt;</th><th scope=col>&lt;int&gt;</th><th scope=col>&lt;chr&gt;</th><th scope=col>&lt;dbl&gt;</th><th scope=col>&lt;dbl&gt;</th><th scope=col>&lt;dbl&gt;</th><th scope=col>&lt;dbl&gt;</th><th scope=col>&lt;dbl&gt;</th><th scope=col>&lt;dbl&gt;</th><th scope=col>&lt;dbl&gt;</th><th scope=col>⋯</th><th scope=col>&lt;dbl&gt;</th><th scope=col>&lt;dbl&gt;</th><th scope=col>&lt;dbl&gt;</th><th scope=col>&lt;dbl&gt;</th><th scope=col>&lt;dbl&gt;</th><th scope=col>&lt;dbl&gt;</th><th scope=col>&lt;dbl&gt;</th><th scope=col>&lt;dbl&gt;</th><th scope=col>&lt;dbl&gt;</th><th scope=col>&lt;dbl&gt;</th></tr>\n",
              "</thead>\n",
              "<tbody>\n",
              "\t<tr><th scope=row>1</th><td>1</td><td>50</td><td>LDL</td><td>0.40</td><td>6.74</td><td>0.20</td><td>0.02</td><td>1.09</td><td>3.79</td><td>2.27</td><td>⋯</td><td>4.09</td><td>68.91</td><td>3.57</td><td>3.98</td><td>28.18</td><td>42.46</td><td>1.95</td><td>0.02</td><td>1.67</td><td>13.02</td></tr>\n",
              "\t<tr><th scope=row>2</th><td>3</td><td>52</td><td>LDL</td><td>0.46</td><td>7.37</td><td>0.39</td><td>0.02</td><td>1.06</td><td>4.55</td><td>2.71</td><td>⋯</td><td>5.16</td><td>68.22</td><td>3.11</td><td>4.64</td><td>30.43</td><td>39.86</td><td>1.56</td><td>0.02</td><td>1.69</td><td>14.16</td></tr>\n",
              "\t<tr><th scope=row>3</th><td>4</td><td>53</td><td>LDL</td><td>0.30</td><td>8.23</td><td>0.26</td><td>0.02</td><td>0.88</td><td>3.66</td><td>2.32</td><td>⋯</td><td>3.95</td><td>68.03</td><td>4.50</td><td>3.78</td><td>29.37</td><td>41.13</td><td>2.20</td><td>0.02</td><td>1.89</td><td>13.89</td></tr>\n",
              "\t<tr><th scope=row>4</th><td>5</td><td>54</td><td>LDL</td><td>0.47</td><td>7.94</td><td>0.29</td><td>0.02</td><td>1.11</td><td>3.97</td><td>2.55</td><td>⋯</td><td>4.63</td><td>66.91</td><td>4.03</td><td>4.44</td><td>28.54</td><td>40.64</td><td>1.95</td><td>0.02</td><td>2.03</td><td>14.25</td></tr>\n",
              "\t<tr><th scope=row>5</th><td>6</td><td>55</td><td>LDL</td><td>0.31</td><td>9.68</td><td>0.18</td><td>0.02</td><td>0.97</td><td>4.50</td><td>2.24</td><td>⋯</td><td>4.05</td><td>64.01</td><td>5.27</td><td>3.72</td><td>26.71</td><td>40.39</td><td>2.51</td><td>0.02</td><td>2.70</td><td>16.06</td></tr>\n",
              "\t<tr><th scope=row>6</th><td>7</td><td>56</td><td>LDL</td><td>0.30</td><td>7.32</td><td>0.22</td><td>0.02</td><td>1.12</td><td>4.19</td><td>2.37</td><td>⋯</td><td>4.10</td><td>65.99</td><td>4.70</td><td>4.03</td><td>28.44</td><td>39.99</td><td>2.33</td><td>0.02</td><td>1.61</td><td>13.82</td></tr>\n",
              "</tbody>\n",
              "</table>\n"
            ],
            "text/markdown": "\nA data.frame: 6 × 38\n\n| <!--/--> | Vial.number &lt;int&gt; | Patient.number &lt;int&gt; | Name &lt;chr&gt; | GPLDL1 &lt;dbl&gt; | GPLDL2 &lt;dbl&gt; | GPLDL3 &lt;dbl&gt; | GPLDL4 &lt;dbl&gt; | GPLDL5 &lt;dbl&gt; | GPLDL6 &lt;dbl&gt; | GPLDL7 &lt;dbl&gt; | ⋯ ⋯ | G1 &lt;dbl&gt; | G2 &lt;dbl&gt; | G3 &lt;dbl&gt; | S0 &lt;dbl&gt; | S1 &lt;dbl&gt; | S2 &lt;dbl&gt; | S3 &lt;dbl&gt; | B &lt;dbl&gt; | F &lt;dbl&gt; | HM &lt;dbl&gt; |\n|---|---|---|---|---|---|---|---|---|---|---|---|---|---|---|---|---|---|---|---|---|---|\n| 1 | 1 | 50 | LDL | 0.40 | 6.74 | 0.20 | 0.02 | 1.09 | 3.79 | 2.27 | ⋯ | 4.09 | 68.91 | 3.57 | 3.98 | 28.18 | 42.46 | 1.95 | 0.02 | 1.67 | 13.02 |\n| 2 | 3 | 52 | LDL | 0.46 | 7.37 | 0.39 | 0.02 | 1.06 | 4.55 | 2.71 | ⋯ | 5.16 | 68.22 | 3.11 | 4.64 | 30.43 | 39.86 | 1.56 | 0.02 | 1.69 | 14.16 |\n| 3 | 4 | 53 | LDL | 0.30 | 8.23 | 0.26 | 0.02 | 0.88 | 3.66 | 2.32 | ⋯ | 3.95 | 68.03 | 4.50 | 3.78 | 29.37 | 41.13 | 2.20 | 0.02 | 1.89 | 13.89 |\n| 4 | 5 | 54 | LDL | 0.47 | 7.94 | 0.29 | 0.02 | 1.11 | 3.97 | 2.55 | ⋯ | 4.63 | 66.91 | 4.03 | 4.44 | 28.54 | 40.64 | 1.95 | 0.02 | 2.03 | 14.25 |\n| 5 | 6 | 55 | LDL | 0.31 | 9.68 | 0.18 | 0.02 | 0.97 | 4.50 | 2.24 | ⋯ | 4.05 | 64.01 | 5.27 | 3.72 | 26.71 | 40.39 | 2.51 | 0.02 | 2.70 | 16.06 |\n| 6 | 7 | 56 | LDL | 0.30 | 7.32 | 0.22 | 0.02 | 1.12 | 4.19 | 2.37 | ⋯ | 4.10 | 65.99 | 4.70 | 4.03 | 28.44 | 39.99 | 2.33 | 0.02 | 1.61 | 13.82 |\n\n",
            "text/latex": "A data.frame: 6 × 38\n\\begin{tabular}{r|lllllllllllllllllllll}\n  & Vial.number & Patient.number & Name & GPLDL1 & GPLDL2 & GPLDL3 & GPLDL4 & GPLDL5 & GPLDL6 & GPLDL7 & ⋯ & G1 & G2 & G3 & S0 & S1 & S2 & S3 & B & F & HM\\\\\n  & <int> & <int> & <chr> & <dbl> & <dbl> & <dbl> & <dbl> & <dbl> & <dbl> & <dbl> & ⋯ & <dbl> & <dbl> & <dbl> & <dbl> & <dbl> & <dbl> & <dbl> & <dbl> & <dbl> & <dbl>\\\\\n\\hline\n\t1 & 1 & 50 & LDL & 0.40 & 6.74 & 0.20 & 0.02 & 1.09 & 3.79 & 2.27 & ⋯ & 4.09 & 68.91 & 3.57 & 3.98 & 28.18 & 42.46 & 1.95 & 0.02 & 1.67 & 13.02\\\\\n\t2 & 3 & 52 & LDL & 0.46 & 7.37 & 0.39 & 0.02 & 1.06 & 4.55 & 2.71 & ⋯ & 5.16 & 68.22 & 3.11 & 4.64 & 30.43 & 39.86 & 1.56 & 0.02 & 1.69 & 14.16\\\\\n\t3 & 4 & 53 & LDL & 0.30 & 8.23 & 0.26 & 0.02 & 0.88 & 3.66 & 2.32 & ⋯ & 3.95 & 68.03 & 4.50 & 3.78 & 29.37 & 41.13 & 2.20 & 0.02 & 1.89 & 13.89\\\\\n\t4 & 5 & 54 & LDL & 0.47 & 7.94 & 0.29 & 0.02 & 1.11 & 3.97 & 2.55 & ⋯ & 4.63 & 66.91 & 4.03 & 4.44 & 28.54 & 40.64 & 1.95 & 0.02 & 2.03 & 14.25\\\\\n\t5 & 6 & 55 & LDL & 0.31 & 9.68 & 0.18 & 0.02 & 0.97 & 4.50 & 2.24 & ⋯ & 4.05 & 64.01 & 5.27 & 3.72 & 26.71 & 40.39 & 2.51 & 0.02 & 2.70 & 16.06\\\\\n\t6 & 7 & 56 & LDL & 0.30 & 7.32 & 0.22 & 0.02 & 1.12 & 4.19 & 2.37 & ⋯ & 4.10 & 65.99 & 4.70 & 4.03 & 28.44 & 39.99 & 2.33 & 0.02 & 1.61 & 13.82\\\\\n\\end{tabular}\n",
            "text/plain": [
              "  Vial.number Patient.number Name GPLDL1 GPLDL2 GPLDL3 GPLDL4 GPLDL5 GPLDL6\n",
              "1 1           50             LDL  0.40   6.74   0.20   0.02   1.09   3.79  \n",
              "2 3           52             LDL  0.46   7.37   0.39   0.02   1.06   4.55  \n",
              "3 4           53             LDL  0.30   8.23   0.26   0.02   0.88   3.66  \n",
              "4 5           54             LDL  0.47   7.94   0.29   0.02   1.11   3.97  \n",
              "5 6           55             LDL  0.31   9.68   0.18   0.02   0.97   4.50  \n",
              "6 7           56             LDL  0.30   7.32   0.22   0.02   1.12   4.19  \n",
              "  GPLDL7 ⋯ G1   G2    G3   S0   S1    S2    S3   B    F    HM   \n",
              "1 2.27   ⋯ 4.09 68.91 3.57 3.98 28.18 42.46 1.95 0.02 1.67 13.02\n",
              "2 2.71   ⋯ 5.16 68.22 3.11 4.64 30.43 39.86 1.56 0.02 1.69 14.16\n",
              "3 2.32   ⋯ 3.95 68.03 4.50 3.78 29.37 41.13 2.20 0.02 1.89 13.89\n",
              "4 2.55   ⋯ 4.63 66.91 4.03 4.44 28.54 40.64 1.95 0.02 2.03 14.25\n",
              "5 2.24   ⋯ 4.05 64.01 5.27 3.72 26.71 40.39 2.51 0.02 2.70 16.06\n",
              "6 2.37   ⋯ 4.10 65.99 4.70 4.03 28.44 39.99 2.33 0.02 1.61 13.82"
            ]
          },
          "metadata": {}
        }
      ]
    },
    {
      "cell_type": "code",
      "source": [
        "# Чтение файла 'high_density_lipids.tsv'\n",
        "high_density_data <- read.delim(\"/content/high_density_lipids.tsv\", stringsAsFactors = FALSE)\n",
        "# Изучение колонок\n",
        "names(high_density_data)\n",
        "# Просмотр первых строк данных\n",
        "head(high_density_data)\n"
      ],
      "metadata": {
        "colab": {
          "base_uri": "https://localhost:8080/",
          "height": 330
        },
        "id": "OFftPNipMFJy",
        "outputId": "e6f651be-a718-4127-cc1f-14c375ccfff0"
      },
      "execution_count": 6,
      "outputs": [
        {
          "output_type": "display_data",
          "data": {
            "text/html": [
              "<style>\n",
              ".list-inline {list-style: none; margin:0; padding: 0}\n",
              ".list-inline>li {display: inline-block}\n",
              ".list-inline>li:not(:last-child)::after {content: \"\\00b7\"; padding: 0 .5ex}\n",
              "</style>\n",
              "<ol class=list-inline><li>'Vial.number'</li><li>'Patient.number'</li><li>'Name'</li><li>'GPHDL1'</li><li>'GPHDL2'</li><li>'GPHDL3'</li><li>'GPHDL4'</li><li>'GPHDL5'</li><li>'GPHDL6'</li><li>'GPHDL7'</li><li>'GPHDL8'</li><li>'GPHDL9'</li><li>'GPHDL10'</li><li>'GPHDL11'</li><li>'GPHDL12'</li><li>'GPHDL13'</li><li>'GPHDL14'</li><li>'GPHDL15'</li><li>'GPHDL16'</li><li>'GPHDL17'</li><li>'GPHDL18'</li><li>'GPHDL19'</li><li>'GPHDL20'</li><li>'GPHDL21'</li><li>'GPHDL22'</li><li>'sum_auc'</li><li>'LB'</li><li>'HB'</li><li>'G1'</li><li>'G2'</li><li>'G3'</li><li>'S0'</li><li>'S1'</li><li>'S2'</li><li>'S3'</li><li>'B'</li><li>'F'</li><li>'HM'</li></ol>\n"
            ],
            "text/markdown": "1. 'Vial.number'\n2. 'Patient.number'\n3. 'Name'\n4. 'GPHDL1'\n5. 'GPHDL2'\n6. 'GPHDL3'\n7. 'GPHDL4'\n8. 'GPHDL5'\n9. 'GPHDL6'\n10. 'GPHDL7'\n11. 'GPHDL8'\n12. 'GPHDL9'\n13. 'GPHDL10'\n14. 'GPHDL11'\n15. 'GPHDL12'\n16. 'GPHDL13'\n17. 'GPHDL14'\n18. 'GPHDL15'\n19. 'GPHDL16'\n20. 'GPHDL17'\n21. 'GPHDL18'\n22. 'GPHDL19'\n23. 'GPHDL20'\n24. 'GPHDL21'\n25. 'GPHDL22'\n26. 'sum_auc'\n27. 'LB'\n28. 'HB'\n29. 'G1'\n30. 'G2'\n31. 'G3'\n32. 'S0'\n33. 'S1'\n34. 'S2'\n35. 'S3'\n36. 'B'\n37. 'F'\n38. 'HM'\n\n\n",
            "text/latex": "\\begin{enumerate*}\n\\item 'Vial.number'\n\\item 'Patient.number'\n\\item 'Name'\n\\item 'GPHDL1'\n\\item 'GPHDL2'\n\\item 'GPHDL3'\n\\item 'GPHDL4'\n\\item 'GPHDL5'\n\\item 'GPHDL6'\n\\item 'GPHDL7'\n\\item 'GPHDL8'\n\\item 'GPHDL9'\n\\item 'GPHDL10'\n\\item 'GPHDL11'\n\\item 'GPHDL12'\n\\item 'GPHDL13'\n\\item 'GPHDL14'\n\\item 'GPHDL15'\n\\item 'GPHDL16'\n\\item 'GPHDL17'\n\\item 'GPHDL18'\n\\item 'GPHDL19'\n\\item 'GPHDL20'\n\\item 'GPHDL21'\n\\item 'GPHDL22'\n\\item 'sum\\_auc'\n\\item 'LB'\n\\item 'HB'\n\\item 'G1'\n\\item 'G2'\n\\item 'G3'\n\\item 'S0'\n\\item 'S1'\n\\item 'S2'\n\\item 'S3'\n\\item 'B'\n\\item 'F'\n\\item 'HM'\n\\end{enumerate*}\n",
            "text/plain": [
              " [1] \"Vial.number\"    \"Patient.number\" \"Name\"           \"GPHDL1\"        \n",
              " [5] \"GPHDL2\"         \"GPHDL3\"         \"GPHDL4\"         \"GPHDL5\"        \n",
              " [9] \"GPHDL6\"         \"GPHDL7\"         \"GPHDL8\"         \"GPHDL9\"        \n",
              "[13] \"GPHDL10\"        \"GPHDL11\"        \"GPHDL12\"        \"GPHDL13\"       \n",
              "[17] \"GPHDL14\"        \"GPHDL15\"        \"GPHDL16\"        \"GPHDL17\"       \n",
              "[21] \"GPHDL18\"        \"GPHDL19\"        \"GPHDL20\"        \"GPHDL21\"       \n",
              "[25] \"GPHDL22\"        \"sum_auc\"        \"LB\"             \"HB\"            \n",
              "[29] \"G1\"             \"G2\"             \"G3\"             \"S0\"            \n",
              "[33] \"S1\"             \"S2\"             \"S3\"             \"B\"             \n",
              "[37] \"F\"              \"HM\"            "
            ]
          },
          "metadata": {}
        },
        {
          "output_type": "display_data",
          "data": {
            "text/html": [
              "<table class=\"dataframe\">\n",
              "<caption>A data.frame: 6 × 38</caption>\n",
              "<thead>\n",
              "\t<tr><th></th><th scope=col>Vial.number</th><th scope=col>Patient.number</th><th scope=col>Name</th><th scope=col>GPHDL1</th><th scope=col>GPHDL2</th><th scope=col>GPHDL3</th><th scope=col>GPHDL4</th><th scope=col>GPHDL5</th><th scope=col>GPHDL6</th><th scope=col>GPHDL7</th><th scope=col>⋯</th><th scope=col>G1</th><th scope=col>G2</th><th scope=col>G3</th><th scope=col>S0</th><th scope=col>S1</th><th scope=col>S2</th><th scope=col>S3</th><th scope=col>B</th><th scope=col>F</th><th scope=col>HM</th></tr>\n",
              "\t<tr><th></th><th scope=col>&lt;int&gt;</th><th scope=col>&lt;int&gt;</th><th scope=col>&lt;chr&gt;</th><th scope=col>&lt;dbl&gt;</th><th scope=col>&lt;dbl&gt;</th><th scope=col>&lt;dbl&gt;</th><th scope=col>&lt;dbl&gt;</th><th scope=col>&lt;dbl&gt;</th><th scope=col>&lt;dbl&gt;</th><th scope=col>&lt;dbl&gt;</th><th scope=col>⋯</th><th scope=col>&lt;dbl&gt;</th><th scope=col>&lt;dbl&gt;</th><th scope=col>&lt;dbl&gt;</th><th scope=col>&lt;dbl&gt;</th><th scope=col>&lt;dbl&gt;</th><th scope=col>&lt;dbl&gt;</th><th scope=col>&lt;dbl&gt;</th><th scope=col>&lt;dbl&gt;</th><th scope=col>&lt;dbl&gt;</th><th scope=col>&lt;dbl&gt;</th></tr>\n",
              "</thead>\n",
              "<tbody>\n",
              "\t<tr><th scope=row>1</th><td>1</td><td>50</td><td>HDL</td><td>0.38</td><td>1.78</td><td>0.14</td><td>0.05</td><td>0.73</td><td>2.90</td><td>1.57</td><td>⋯</td><td>12.23</td><td>58.69</td><td>20.97</td><td>2.87</td><td>29.57</td><td>44.39</td><td>15.06</td><td>0.05</td><td>7.35</td><td>2.49</td></tr>\n",
              "\t<tr><th scope=row>2</th><td>3</td><td>52</td><td>HDL</td><td>0.43</td><td>1.30</td><td>0.23</td><td>0.05</td><td>0.59</td><td>2.62</td><td>1.62</td><td>⋯</td><td>11.98</td><td>57.50</td><td>21.94</td><td>2.92</td><td>29.60</td><td>43.93</td><td>14.97</td><td>0.05</td><td>8.71</td><td>1.53</td></tr>\n",
              "\t<tr><th scope=row>3</th><td>4</td><td>53</td><td>HDL</td><td>0.41</td><td>3.86</td><td>0.31</td><td>0.10</td><td>0.96</td><td>3.19</td><td>2.42</td><td>⋯</td><td>15.00</td><td>62.10</td><td>12.74</td><td>4.20</td><td>37.03</td><td>40.68</td><td> 7.93</td><td>0.10</td><td>4.81</td><td>5.08</td></tr>\n",
              "\t<tr><th scope=row>4</th><td>5</td><td>54</td><td>HDL</td><td>0.50</td><td>1.79</td><td>0.23</td><td>0.06</td><td>0.77</td><td>2.96</td><td>1.76</td><td>⋯</td><td>12.85</td><td>56.02</td><td>22.70</td><td>3.32</td><td>30.01</td><td>41.78</td><td>16.46</td><td>0.06</td><td>8.85</td><td>2.30</td></tr>\n",
              "\t<tr><th scope=row>5</th><td>6</td><td>55</td><td>HDL</td><td>0.40</td><td>3.69</td><td>0.17</td><td>0.03</td><td>0.80</td><td>3.04</td><td>1.62</td><td>⋯</td><td>13.81</td><td>59.78</td><td>16.14</td><td>3.02</td><td>33.69</td><td>42.18</td><td>10.84</td><td>0.03</td><td>7.25</td><td>4.33</td></tr>\n",
              "\t<tr><th scope=row>6</th><td>7</td><td>56</td><td>HDL</td><td>0.37</td><td>2.96</td><td>0.22</td><td>0.05</td><td>1.00</td><td>3.00</td><td>2.11</td><td>⋯</td><td>14.61</td><td>60.59</td><td>15.63</td><td>3.75</td><td>35.18</td><td>41.66</td><td>10.24</td><td>0.05</td><td>5.10</td><td>3.87</td></tr>\n",
              "</tbody>\n",
              "</table>\n"
            ],
            "text/markdown": "\nA data.frame: 6 × 38\n\n| <!--/--> | Vial.number &lt;int&gt; | Patient.number &lt;int&gt; | Name &lt;chr&gt; | GPHDL1 &lt;dbl&gt; | GPHDL2 &lt;dbl&gt; | GPHDL3 &lt;dbl&gt; | GPHDL4 &lt;dbl&gt; | GPHDL5 &lt;dbl&gt; | GPHDL6 &lt;dbl&gt; | GPHDL7 &lt;dbl&gt; | ⋯ ⋯ | G1 &lt;dbl&gt; | G2 &lt;dbl&gt; | G3 &lt;dbl&gt; | S0 &lt;dbl&gt; | S1 &lt;dbl&gt; | S2 &lt;dbl&gt; | S3 &lt;dbl&gt; | B &lt;dbl&gt; | F &lt;dbl&gt; | HM &lt;dbl&gt; |\n|---|---|---|---|---|---|---|---|---|---|---|---|---|---|---|---|---|---|---|---|---|---|\n| 1 | 1 | 50 | HDL | 0.38 | 1.78 | 0.14 | 0.05 | 0.73 | 2.90 | 1.57 | ⋯ | 12.23 | 58.69 | 20.97 | 2.87 | 29.57 | 44.39 | 15.06 | 0.05 | 7.35 | 2.49 |\n| 2 | 3 | 52 | HDL | 0.43 | 1.30 | 0.23 | 0.05 | 0.59 | 2.62 | 1.62 | ⋯ | 11.98 | 57.50 | 21.94 | 2.92 | 29.60 | 43.93 | 14.97 | 0.05 | 8.71 | 1.53 |\n| 3 | 4 | 53 | HDL | 0.41 | 3.86 | 0.31 | 0.10 | 0.96 | 3.19 | 2.42 | ⋯ | 15.00 | 62.10 | 12.74 | 4.20 | 37.03 | 40.68 |  7.93 | 0.10 | 4.81 | 5.08 |\n| 4 | 5 | 54 | HDL | 0.50 | 1.79 | 0.23 | 0.06 | 0.77 | 2.96 | 1.76 | ⋯ | 12.85 | 56.02 | 22.70 | 3.32 | 30.01 | 41.78 | 16.46 | 0.06 | 8.85 | 2.30 |\n| 5 | 6 | 55 | HDL | 0.40 | 3.69 | 0.17 | 0.03 | 0.80 | 3.04 | 1.62 | ⋯ | 13.81 | 59.78 | 16.14 | 3.02 | 33.69 | 42.18 | 10.84 | 0.03 | 7.25 | 4.33 |\n| 6 | 7 | 56 | HDL | 0.37 | 2.96 | 0.22 | 0.05 | 1.00 | 3.00 | 2.11 | ⋯ | 14.61 | 60.59 | 15.63 | 3.75 | 35.18 | 41.66 | 10.24 | 0.05 | 5.10 | 3.87 |\n\n",
            "text/latex": "A data.frame: 6 × 38\n\\begin{tabular}{r|lllllllllllllllllllll}\n  & Vial.number & Patient.number & Name & GPHDL1 & GPHDL2 & GPHDL3 & GPHDL4 & GPHDL5 & GPHDL6 & GPHDL7 & ⋯ & G1 & G2 & G3 & S0 & S1 & S2 & S3 & B & F & HM\\\\\n  & <int> & <int> & <chr> & <dbl> & <dbl> & <dbl> & <dbl> & <dbl> & <dbl> & <dbl> & ⋯ & <dbl> & <dbl> & <dbl> & <dbl> & <dbl> & <dbl> & <dbl> & <dbl> & <dbl> & <dbl>\\\\\n\\hline\n\t1 & 1 & 50 & HDL & 0.38 & 1.78 & 0.14 & 0.05 & 0.73 & 2.90 & 1.57 & ⋯ & 12.23 & 58.69 & 20.97 & 2.87 & 29.57 & 44.39 & 15.06 & 0.05 & 7.35 & 2.49\\\\\n\t2 & 3 & 52 & HDL & 0.43 & 1.30 & 0.23 & 0.05 & 0.59 & 2.62 & 1.62 & ⋯ & 11.98 & 57.50 & 21.94 & 2.92 & 29.60 & 43.93 & 14.97 & 0.05 & 8.71 & 1.53\\\\\n\t3 & 4 & 53 & HDL & 0.41 & 3.86 & 0.31 & 0.10 & 0.96 & 3.19 & 2.42 & ⋯ & 15.00 & 62.10 & 12.74 & 4.20 & 37.03 & 40.68 &  7.93 & 0.10 & 4.81 & 5.08\\\\\n\t4 & 5 & 54 & HDL & 0.50 & 1.79 & 0.23 & 0.06 & 0.77 & 2.96 & 1.76 & ⋯ & 12.85 & 56.02 & 22.70 & 3.32 & 30.01 & 41.78 & 16.46 & 0.06 & 8.85 & 2.30\\\\\n\t5 & 6 & 55 & HDL & 0.40 & 3.69 & 0.17 & 0.03 & 0.80 & 3.04 & 1.62 & ⋯ & 13.81 & 59.78 & 16.14 & 3.02 & 33.69 & 42.18 & 10.84 & 0.03 & 7.25 & 4.33\\\\\n\t6 & 7 & 56 & HDL & 0.37 & 2.96 & 0.22 & 0.05 & 1.00 & 3.00 & 2.11 & ⋯ & 14.61 & 60.59 & 15.63 & 3.75 & 35.18 & 41.66 & 10.24 & 0.05 & 5.10 & 3.87\\\\\n\\end{tabular}\n",
            "text/plain": [
              "  Vial.number Patient.number Name GPHDL1 GPHDL2 GPHDL3 GPHDL4 GPHDL5 GPHDL6\n",
              "1 1           50             HDL  0.38   1.78   0.14   0.05   0.73   2.90  \n",
              "2 3           52             HDL  0.43   1.30   0.23   0.05   0.59   2.62  \n",
              "3 4           53             HDL  0.41   3.86   0.31   0.10   0.96   3.19  \n",
              "4 5           54             HDL  0.50   1.79   0.23   0.06   0.77   2.96  \n",
              "5 6           55             HDL  0.40   3.69   0.17   0.03   0.80   3.04  \n",
              "6 7           56             HDL  0.37   2.96   0.22   0.05   1.00   3.00  \n",
              "  GPHDL7 ⋯ G1    G2    G3    S0   S1    S2    S3    B    F    HM  \n",
              "1 1.57   ⋯ 12.23 58.69 20.97 2.87 29.57 44.39 15.06 0.05 7.35 2.49\n",
              "2 1.62   ⋯ 11.98 57.50 21.94 2.92 29.60 43.93 14.97 0.05 8.71 1.53\n",
              "3 2.42   ⋯ 15.00 62.10 12.74 4.20 37.03 40.68  7.93 0.10 4.81 5.08\n",
              "4 1.76   ⋯ 12.85 56.02 22.70 3.32 30.01 41.78 16.46 0.06 8.85 2.30\n",
              "5 1.62   ⋯ 13.81 59.78 16.14 3.02 33.69 42.18 10.84 0.03 7.25 4.33\n",
              "6 2.11   ⋯ 14.61 60.59 15.63 3.75 35.18 41.66 10.24 0.05 5.10 3.87"
            ]
          },
          "metadata": {}
        }
      ]
    },
    {
      "cell_type": "markdown",
      "source": [
        "Анализ крови на холестерин липопротеинов очень низкой плотности (ЛПОНП) помогает определить риск развития сердечно-сосудистых заболеваний у человека и помочь принять решение о необходимости медикаментозного снижения повешенного уровня липидов."
      ],
      "metadata": {
        "id": "Y6CUh2FDPP36"
      }
    },
    {
      "cell_type": "markdown",
      "source": [
        "Тип выборки пациентов.\n",
        "Вот несколько переменных, которые могут быть включены в данные и их возможные шкалы измерения:\n",
        "\n",
        "- Возраст пациента (количественная шкала)\n",
        "- Пол пациента (номинальная шкала)\n",
        "- Уровень холестерина низкой плотности (LDL) (количественная шкала)\n",
        "- Уровень холестерина высокой плотности (HDL) (количественная шкала)\n",
        "- Индекс массы тела (BMI) (количественная шкала)"
      ],
      "metadata": {
        "id": "cyP41Q4sP50x"
      }
    },
    {
      "cell_type": "markdown",
      "source": [
        "Вот несколько эмпирических гипотез, которые можно проверить на предоставленных данных:\n",
        "\n",
        "1. Гипотеза о влиянии уровня холестерина на тип липопротеинов:\n",
        "- Гипотеза: Уровень холестерина влияет на тип липопротеинов низкой и высокой плотности у пациентов.\n",
        "- Проверка: Провести корреляционный анализ между уровнем холестерина и уровнем липопротеинов низкой и высокой плотности.\n",
        "2. Гипотеза о различиях уровня липопротеинов у мужчин и женщин:\n",
        "- Гипотеза: Уровень липопротеинов низкой и высокой плотности различается у мужчин и женщин.\n",
        "- Проверка: Провести t-тест для сравнения средних уровней липопротеинов между мужчинами и женщинами.\n",
        "3. Гипотеза о влиянии индекса массы тела на уровень липопротеинов:\n",
        "- Гипотеза: Индекс массы тела влияет на уровень липопротеинов низкой и высокой плотности у пациентов.\n",
        "- Проверка: Провести регрессионный анализ, чтобы определить, есть ли связь между индексом массы тела и уровнем липопротеинов."
      ],
      "metadata": {
        "id": "66Sq-vt5Qhvt"
      }
    },
    {
      "cell_type": "code",
      "source": [],
      "metadata": {
        "id": "lM9GaZ_PPRoU"
      },
      "execution_count": 7,
      "outputs": []
    }
  ]
}