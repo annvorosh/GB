{
 "cells": [
  {
   "cell_type": "code",
   "execution_count": 36,
   "id": "c0755d55",
   "metadata": {},
   "outputs": [
    {
     "name": "stderr",
     "output_type": "stream",
     "text": [
      "<ipython-input-36-b62cc9781474>:8: RuntimeWarning: divide by zero encountered in true_divide\n",
      "  plt.plot(x, (np.exp(x)/x - 1/x + 1))\n",
      "<ipython-input-36-b62cc9781474>:8: RuntimeWarning: invalid value encountered in subtract\n",
      "  plt.plot(x, (np.exp(x)/x - 1/x + 1))\n"
     ]
    },
    {
     "data": {
      "image/png": "[encoded data removed]",
      "text/plain": [
       "<Figure size 432x288 with 1 Axes>"
      ]
     },
     "metadata": {
      "needs_background": "light"
     },
     "output_type": "display_data"
    },
    {
     "name": "stdout",
     "output_type": "stream",
     "text": [
      "Система уравнений имеет решения: \n",
      "x1 = -1.581835352895899, y1 = 1.5022030836712907\n",
      "x2 = 2.6181455730854752, y2 = 5.85468624186721\n",
      "x3 = 4.200105841162492, y3 = 16.640889076959727\n",
      "\n",
      "Система неравенств имеет решения: \n",
      "y = х² - 1 \n",
      "при\n",
      "True, x∈(-∞,-1.58)\n",
      "False, x∉(-1.58, 0)\n",
      "True, x∈(0, 2.62)\n",
      "False, x∉(2.62, 4.20)\n",
      "True, x∈(4.20, +∞)\n"
     ]
    }
   ],
   "source": [
    "%matplotlib inline\n",
    "import numpy as np\n",
    "import matplotlib.pyplot as plt\n",
    "from scipy.optimize import fsolve \n",
    "\n",
    "# Решить систему уравнений\n",
    "x = np.linspace(-3, 5, 201)\n",
    "plt.plot(x, (np.exp(x)/x - 1/x + 1))\n",
    "plt.plot(x, x**2 - 1)\n",
    "plt.xlabel('x')\n",
    "plt.ylabel('y')\n",
    "plt.grid(True)\n",
    "plt.show()\n",
    "\n",
    "def equations(p):\n",
    "    x, y = p\n",
    "    return ( x**2 - 1 - y, (np.exp(x)/x - 1/x + 1 - y))\n",
    "\n",
    "x1, y1 =  fsolve(equations, (-2, 2))              \n",
    "print(f'Система уравнений имеет решения: \\nx1 = {x1}, y1 = {y1}')\n",
    "\n",
    "x2, y2 = fsolve(equations, (2.5, 6)) \n",
    "print(f'x2 = {x2}, y2 = {y2}')\n",
    "\n",
    "x3, y3 = fsolve(equations, (4, 15)) \n",
    "print(f'x3 = {x3}, y3 = {y3}')\n",
    "\n",
    "# Определяем область определения неравенства (над или под синей линией), \n",
    "print(f'\\nСистема неравенств имеет решения: \\ny = х² - 1 \\nпри')\n",
    "\n",
    "(a, b) = (-2, 3)\n",
    "inequality = (np.exp(a)+a*(1-b)-1)\n",
    "if inequality > 0:\n",
    "    print(f\"True, x∈(-∞,{x1:4.2f})\")\n",
    "if inequality <= 0:\n",
    "    print(f\"False, x∉(-∞,{x1:4.2f})\")\n",
    "\n",
    "(a, b) = (-1, 0)\n",
    "inequality = (np.exp(a)+a*(1-b)-1)\n",
    "if inequality > 0:\n",
    "    print(f\"True, x∈({x1:4.2f}, 0) \")\n",
    "if inequality <= 0:\n",
    "    print(f\"False, x∉({x1:4.2f}, 0)\")\n",
    "    \n",
    "(a, b) = (1, 0)\n",
    "inequality = (np.exp(a)+a*(1-b)-1)\n",
    "if inequality > 0:\n",
    "    print(f\"True, x∈(0, {x2:4.2f})\")\n",
    "if inequality <= 0:\n",
    "    print(f\"False, x∉(0,{x2:4.2f})\")    \n",
    "\n",
    "(a, b) = (3, 8)\n",
    "inequality = (np.exp(a)+a*(1-b)-1)\n",
    "if inequality > 0:\n",
    "    print(f\"True, x∈({x2:4.2f}, {x3:4.2f})\")\n",
    "if inequality <= 0:\n",
    "    print(f\"False, x∉({x2:4.2f}, {x3:4.2f})\")        \n",
    "\n",
    "(a, b) = (5, 24)\n",
    "inequality = (np.exp(a)+a*(1-b)-1)\n",
    "if inequality > 0:\n",
    "    print(f\"True, x∈({x3:4.2f}, +∞)\")\n",
    "if inequality <= 0:\n",
    "    print(f\"False, x∉({x3:4.2f}, +∞)\")     "
   ]
  },
  {
   "cell_type": "code",
   "execution_count": null,
   "id": "56a2ca22",
   "metadata": {},
   "outputs": [],
   "source": []
  }
 ],
 "metadata": {
  "kernelspec": {
   "display_name": "Python 3",
   "language": "python",
   "name": "python3"
  },
  "language_info": {
   "codemirror_mode": {
    "name": "ipython",
    "version": 3
   },
   "file_extension": ".py",
   "mimetype": "text/x-python",
   "name": "python",
   "nbconvert_exporter": "python",
   "pygments_lexer": "ipython3",
   "version": "3.8.8"
  }
 },
 "nbformat": 4,
 "nbformat_minor": 5
}
