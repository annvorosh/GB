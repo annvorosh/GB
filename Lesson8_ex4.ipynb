{
 "cells": [
  {
   "cell_type": "code",
   "execution_count": null,
   "id": "a0dda14f",
   "metadata": {
    "scrolled": true
   },
   "outputs": [],
   "source": []
  },
  {
   "cell_type": "code",
   "execution_count": 42,
   "id": "fd69b5f1",
   "metadata": {},
   "outputs": [
    {
     "name": "stdout",
     "output_type": "stream",
     "text": [
      "1.3757 -0.1748 1\n",
      "1.2733 1.662 1\n",
      "2.2178 0.6102 1\n",
      "2.4944 0.7083 1\n",
      "1.3757 -0.1748 1\n"
     ]
    },
    {
     "name": "stderr",
     "output_type": "stream",
     "text": [
      "<ipython-input-42-6ee619c87aac>:8: RuntimeWarning: overflow encountered in long_scalars\n",
      "  return x**2 - y**2 + 3 * x * y**3 - 2 * x**2 * y**2 + 2 * x - 3 * y - 5 , 3 * y**3 - 2 * x**2 + 2 * x**3 * y - 5 * x**2 * y**2 + 5\n"
     ]
    }
   ],
   "source": [
    "import numpy as np\n",
    "from scipy.optimize import fsolve, broyden2\n",
    "import math\n",
    "\n",
    "\n",
    "def equations(p):\n",
    "    x , y = p\n",
    "    return x**2 - y**2 + 3 * x * y**3 - 2 * x**2 * y**2 + 2 * x - 3 * y - 5 , 3 * y**3 - 2 * x**2 + 2 * x**3 * y - 5 * x**2 * y**2 + 5\n",
    "\n",
    "(x, y), info, ier, mesg = fsolve(equations, (1, 1), full_output = True)   \n",
    "print(round(x, 4), round(y, 4), ier)  \n",
    "(x, y), info, ier, mesg = fsolve(equations, (10, 10), full_output = True)\n",
    "print(round(x, 4), round(y, 4), ier)      \n",
    "(x, y), info, ier, mesg = fsolve(equations, (100, 100), full_output = True)   \n",
    "print(round(x, 4), round(y, 4), ier)   \n",
    "(x, y), info, ier, mesg = fsolve(equations, (1000, 1000), full_output = True)   \n",
    "print(round(x, 4), round(y, 4), ier)  \n",
    "(x, y), info, ier, mesg = fsolve(equations, (0, 0), full_output = True)   \n",
    "print(round(x, 4), round(y, 4), ier)  \n"
   ]
  },
  {
   "cell_type": "code",
   "execution_count": null,
   "id": "905b453e",
   "metadata": {},
   "outputs": [],
   "source": []
  }
 ],
 "metadata": {
  "kernelspec": {
   "display_name": "Python 3",
   "language": "python",
   "name": "python3"
  },
  "language_info": {
   "codemirror_mode": {
    "name": "ipython",
    "version": 3
   },
   "file_extension": ".py",
   "mimetype": "text/x-python",
   "name": "python",
   "nbconvert_exporter": "python",
   "pygments_lexer": "ipython3",
   "version": "3.8.8"
  }
 },
 "nbformat": 4,
 "nbformat_minor": 5
}
