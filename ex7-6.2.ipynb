{
 "cells": [
  {
   "cell_type": "code",
   "execution_count": 6,
   "id": "8aa9d65b",
   "metadata": {},
   "outputs": [
    {
     "name": "stderr",
     "output_type": "stream",
     "text": [
      "<ipython-input-6-2695e7353265>:5: FutureWarning: `rcond` parameter will change to the default of machine precision times ``max(M, N)`` where M and N are the input matrix dimensions.\n",
      "To use the future default and silence this warning we advise to pass `rcond=None`, to keep using the old, explicitly pass `rcond=-1`.\n",
      "  np.linalg.lstsq(A, B)\n"
     ]
    },
    {
     "data": {
      "text/plain": [
       "(array([ 1.13919353, -0.90498444, -0.9009803 ]),\n",
       " array([0.71523211]),\n",
       " 3,\n",
       " array([15.2817306 ,  9.59852942,  3.65197794]))"
      ]
     },
     "execution_count": 6,
     "metadata": {},
     "output_type": "execute_result"
    }
   ],
   "source": [
    "import numpy as np\n",
    "\n",
    "A = np.array([[1, 2, -1], [3, -4, 0], [8, -5, 2], [2, 0, -5], [11, 4, -7]])\n",
    "B = np.array([1, 7, 12, 7, 15])\n",
    "np.linalg.lstsq(A, B)"
   ]
  },
  {
   "cell_type": "code",
   "execution_count": 11,
   "id": "295bb873",
   "metadata": {},
   "outputs": [
    {
     "name": "stdout",
     "output_type": "stream",
     "text": [
      "0.23020494999999996 ≈ 1\n",
      "7.03751835 ≈ 7\n",
      "11.83650984 ≈ 12\n",
      "6.78328856 ≈ 7\n",
      "15.218053170000001 ≈ 15\n"
     ]
    }
   ],
   "source": [
    "# как бы мы проверяли через подстановку значений в уравнения\n",
    "x, y, z = 1.13919353, -0.90498444, -0.9009803\n",
    "print(f'{x + 2 * y - z} ≈ 1')\n",
    "print(f'{3 * x - 4 * y} ≈ 7')\n",
    "print(f'{8 * x - 5 * y + 2 * z} ≈ 12')\n",
    "print(f'{2 * x - 5 * z} ≈ 7')\n",
    "print(f'{11 * x + 4 * y-7 * z} ≈ 15')"
   ]
  },
  {
   "cell_type": "code",
   "execution_count": 12,
   "id": "2b7c4c8a",
   "metadata": {},
   "outputs": [
    {
     "data": {
      "text/plain": [
       "array([ 0.23020495,  7.03751835, 11.83650984,  6.78328856, 15.21805317])"
      ]
     },
     "execution_count": 12,
     "metadata": {},
     "output_type": "execute_result"
    }
   ],
   "source": [
    "# Проверка через подстановку матрицы\n",
    "np.dot(A, [ 1.13919353, -0.90498444, -0.9009803 ])"
   ]
  },
  {
   "cell_type": "code",
   "execution_count": 13,
   "id": "7b495c5b",
   "metadata": {},
   "outputs": [
    {
     "data": {
      "text/plain": [
       "array([-0.76979505,  0.03751835, -0.16349016, -0.21671144,  0.21805317])"
      ]
     },
     "execution_count": 13,
     "metadata": {},
     "output_type": "execute_result"
    }
   ],
   "source": [
    "# подсчитаем невязку\n",
    "np.dot(A, [ 1.13919353, -0.90498444, -0.9009803 ]) - B"
   ]
  },
  {
   "cell_type": "code",
   "execution_count": 16,
   "id": "277c26a9",
   "metadata": {},
   "outputs": [
    {
     "data": {
      "text/plain": [
       "0.7152321111819737"
      ]
     },
     "execution_count": 16,
     "metadata": {},
     "output_type": "execute_result"
    }
   ],
   "source": [
    "# Функция нормы невязки\n",
    "def Q(x, y, z):\n",
    "    return ((np.linalg.norm(np.dot(A, [x, y, z]) - B))**2)\n",
    "Q(1.13919353, -0.90498444, -0.9009803)"
   ]
  },
  {
   "cell_type": "code",
   "execution_count": null,
   "id": "9ef323b5",
   "metadata": {},
   "outputs": [],
   "source": []
  }
 ],
 "metadata": {
  "kernelspec": {
   "display_name": "Python 3",
   "language": "python",
   "name": "python3"
  },
  "language_info": {
   "codemirror_mode": {
    "name": "ipython",
    "version": 3
   },
   "file_extension": ".py",
   "mimetype": "text/x-python",
   "name": "python",
   "nbconvert_exporter": "python",
   "pygments_lexer": "ipython3",
   "version": "3.8.8"
  }
 },
 "nbformat": 4,
 "nbformat_minor": 5
}
