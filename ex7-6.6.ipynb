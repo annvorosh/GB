{
 "cells": [
  {
   "cell_type": "code",
   "execution_count": 78,
   "id": "d5b75edf",
   "metadata": {},
   "outputs": [
    {
     "name": "stdout",
     "output_type": "stream",
     "text": [
      "[[1 2 3]\n",
      " [4 5 6]\n",
      " [7 8 9]] = A\n",
      "\n",
      "[[-0.12309149  0.90453403  0.40824829]\n",
      " [-0.49236596  0.30151134 -0.81649658]\n",
      " [-0.86164044 -0.30151134  0.40824829]] = Q\n",
      "\n",
      "[[-8.12403840e+00 -9.60113630e+00 -1.10782342e+01]\n",
      " [ 0.00000000e+00  9.04534034e-01  1.80906807e+00]\n",
      " [ 0.00000000e+00  0.00000000e+00 -1.11164740e-15]] = R\n",
      "\n"
     ]
    }
   ],
   "source": [
    "# 6. Найдите одно из псевдорешений вырожденной системы: A*X = B\n",
    "# Попробуйте также отыскать и нормальное псевдорешение.\n",
    "\n",
    "import numpy as np\n",
    "\n",
    "A = np.array([[1, 2, 3], [4, 5, 6], [7, 8, 9]])\n",
    "B = np.array([2, 5, 11])\n",
    "\n",
    "Q, R = np.linalg.qr(A)\n",
    "print(f'{A} = A\\n')\n",
    "print(f'{Q} = Q\\n')\n",
    "print(f'{R} = R\\n')"
   ]
  },
  {
   "cell_type": "code",
   "execution_count": 70,
   "id": "ae12e9be",
   "metadata": {},
   "outputs": [
    {
     "name": "stdout",
     "output_type": "stream",
     "text": [
      "[[1. 2. 3.]\n",
      " [4. 5. 6.]\n",
      " [7. 8. 9.]] = Q * R = А\n",
      " \n",
      "[[ 1.00000000e+00 -5.26517217e-16 -2.55176183e-16]\n",
      " [-5.26517217e-16  1.00000000e+00  3.37757775e-16]\n",
      " [-2.55176183e-16  3.37757775e-16  1.00000000e+00]] = Q.T * Q - должна быть единичная матрица\n",
      "\n"
     ]
    }
   ],
   "source": [
    "print(f'{np.dot(Q, R)} = Q * R = А\\n ')\n",
    "print(f'{np.dot(Q.T, Q)} = Q.T * Q - должна быть единичная матрица\\n')"
   ]
  },
  {
   "cell_type": "code",
   "execution_count": 73,
   "id": "6257adb7",
   "metadata": {},
   "outputs": [
    {
     "name": "stdout",
     "output_type": "stream",
     "text": [
      "[[-8.1240384  -9.6011363 ]\n",
      " [ 0.          0.90453403]] = R1\n",
      "\n",
      "[-1.21860576e+01  8.54871729e-15] = B1 = Q.T * B\n",
      "\n",
      "[1.50000000e+00 9.45096256e-15] = X1, R1 * X1 = B1\n"
     ]
    }
   ],
   "source": [
    "R1 = R[:2, :2]\n",
    "print(f'{R1} = R1\\n')\n",
    "\n",
    "B1 = np.dot(Q.T, B)[:2]\n",
    "print(f'{B1} = B1 = Q.T * B\\n')\n",
    "\n",
    "X1 = np.linalg.solve(R1, B1)\n",
    "print(f'{X1} = X1, R1 * X1 = B1')"
   ]
  },
  {
   "cell_type": "code",
   "execution_count": 76,
   "id": "8dc07422",
   "metadata": {},
   "outputs": [
    {
     "name": "stdout",
     "output_type": "stream",
     "text": [
      "[1.50000000e+00 9.45096256e-15 0.00000000e+00] = X  (к X1 присоединили нулевой элемент)\n",
      "\n",
      "1.4999999999999893 - норма\n"
     ]
    }
   ],
   "source": [
    "X = np.append(X1, 0)\n",
    "print(f'{X} = X  (к X1 присоединили нулевой элемент)\\n')\n",
    "print(f'{np.linalg.norm(X)} - норма')"
   ]
  },
  {
   "cell_type": "code",
   "execution_count": 77,
   "id": "591a7225",
   "metadata": {},
   "outputs": [
    {
     "name": "stdout",
     "output_type": "stream",
     "text": [
      "1.2247448713915885 - рассчет невязки\n"
     ]
    }
   ],
   "source": [
    "print(f'{np.linalg.norm(np.dot(A, X) - B)} - рассчет невязки')"
   ]
  },
  {
   "cell_type": "code",
   "execution_count": null,
   "id": "220d82a6",
   "metadata": {},
   "outputs": [],
   "source": []
  }
 ],
 "metadata": {
  "kernelspec": {
   "display_name": "Python 3",
   "language": "python",
   "name": "python3"
  },
  "language_info": {
   "codemirror_mode": {
    "name": "ipython",
    "version": 3
   },
   "file_extension": ".py",
   "mimetype": "text/x-python",
   "name": "python",
   "nbconvert_exporter": "python",
   "pygments_lexer": "ipython3",
   "version": "3.8.8"
  }
 },
 "nbformat": 4,
 "nbformat_minor": 5
}
