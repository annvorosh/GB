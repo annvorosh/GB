{
 "cells": [
  {
   "cell_type": "markdown",
   "metadata": {
    "id": "9eHK0K1Lw6nb"
   },
   "source": [
    "## Задача (Sentiment Analysis)\n",
    "\n",
    "Собраны твиты 2-ух тональностей, необходимо произвести классификацию на 2-а класса."
   ]
  },
  {
   "cell_type": "code",
   "execution_count": 293,
   "metadata": {
    "id": "2H5tFUEMCE7d"
   },
   "outputs": [],
   "source": [
    "max_words = 3000\n",
    "max_len = 15\n",
    "num_classes = 1\n",
    "\n",
    "# Training\n",
    "epochs = 20\n",
    "batch_size = 512\n",
    "print_batch_n = 100"
   ]
  },
  {
   "cell_type": "code",
   "execution_count": 294,
   "metadata": {
    "id": "LUCk-5M2yg3S"
   },
   "outputs": [],
   "source": [
    "import pandas as pd\n",
    "\n",
    "# Загрузка данных\n",
    "df_train = pd.read_csv('train.csv', encoding='latin-1')\n",
    "df_val = pd.read_csv('test.csv', encoding='latin-1')"
   ]
  },
  {
   "cell_type": "code",
   "execution_count": 295,
   "metadata": {
    "colab": {
     "base_uri": "https://localhost:8080/",
     "height": 206
    },
    "id": "KBSf-OfDzWOI",
    "outputId": "f6d237d7-20a4-4918-b00f-a53f4de02f36"
   },
   "outputs": [
    {
     "data": {
      "text/html": [
       "<div>\n",
       "<style scoped>\n",
       "    .dataframe tbody tr th:only-of-type {\n",
       "        vertical-align: middle;\n",
       "    }\n",
       "\n",
       "    .dataframe tbody tr th {\n",
       "        vertical-align: top;\n",
       "    }\n",
       "\n",
       "    .dataframe thead th {\n",
       "        text-align: right;\n",
       "    }\n",
       "</style>\n",
       "<table border=\"1\" class=\"dataframe\">\n",
       "  <thead>\n",
       "    <tr style=\"text-align: right;\">\n",
       "      <th></th>\n",
       "      <th>id</th>\n",
       "      <th>label</th>\n",
       "      <th>tweet</th>\n",
       "    </tr>\n",
       "  </thead>\n",
       "  <tbody>\n",
       "    <tr>\n",
       "      <th>0</th>\n",
       "      <td>1</td>\n",
       "      <td>0</td>\n",
       "      <td>@user when a father is dysfunctional and is s...</td>\n",
       "    </tr>\n",
       "    <tr>\n",
       "      <th>1</th>\n",
       "      <td>2</td>\n",
       "      <td>0</td>\n",
       "      <td>@user @user thanks for #lyft credit i can't us...</td>\n",
       "    </tr>\n",
       "    <tr>\n",
       "      <th>2</th>\n",
       "      <td>3</td>\n",
       "      <td>0</td>\n",
       "      <td>bihday your majesty</td>\n",
       "    </tr>\n",
       "    <tr>\n",
       "      <th>3</th>\n",
       "      <td>4</td>\n",
       "      <td>0</td>\n",
       "      <td>#model   i love u take with u all the time in ...</td>\n",
       "    </tr>\n",
       "    <tr>\n",
       "      <th>4</th>\n",
       "      <td>5</td>\n",
       "      <td>0</td>\n",
       "      <td>factsguide: society now    #motivation</td>\n",
       "    </tr>\n",
       "  </tbody>\n",
       "</table>\n",
       "</div>"
      ],
      "text/plain": [
       "   id  label                                              tweet\n",
       "0   1      0   @user when a father is dysfunctional and is s...\n",
       "1   2      0  @user @user thanks for #lyft credit i can't us...\n",
       "2   3      0                                bihday your majesty\n",
       "3   4      0  #model   i love u take with u all the time in ...\n",
       "4   5      0             factsguide: society now    #motivation"
      ]
     },
     "execution_count": 295,
     "metadata": {},
     "output_type": "execute_result"
    }
   ],
   "source": [
    "df_train.head()"
   ]
  },
  {
   "cell_type": "markdown",
   "metadata": {
    "id": "CRaO-Ub5e8hx"
   },
   "source": [
    "0 - negative<br>\n",
    "1 - positive"
   ]
  },
  {
   "cell_type": "code",
   "execution_count": 296,
   "metadata": {
    "colab": {
     "base_uri": "https://localhost:8080/"
    },
    "id": "8lYmshAoT57x",
    "outputId": "1f7f299e-98f6-4086-8624-1dafd43d16b1"
   },
   "outputs": [
    {
     "data": {
      "text/plain": [
       "31962"
      ]
     },
     "execution_count": 296,
     "metadata": {},
     "output_type": "execute_result"
    }
   ],
   "source": [
    "df_train['label'].value_counts().sum()"
   ]
  },
  {
   "cell_type": "code",
   "execution_count": 297,
   "metadata": {
    "colab": {
     "base_uri": "https://localhost:8080/",
     "height": 206
    },
    "id": "_9l0iHhaI0O1",
    "outputId": "4437b31b-22cf-491f-a050-b965e96fee52"
   },
   "outputs": [
    {
     "data": {
      "text/html": [
       "<div>\n",
       "<style scoped>\n",
       "    .dataframe tbody tr th:only-of-type {\n",
       "        vertical-align: middle;\n",
       "    }\n",
       "\n",
       "    .dataframe tbody tr th {\n",
       "        vertical-align: top;\n",
       "    }\n",
       "\n",
       "    .dataframe thead th {\n",
       "        text-align: right;\n",
       "    }\n",
       "</style>\n",
       "<table border=\"1\" class=\"dataframe\">\n",
       "  <thead>\n",
       "    <tr style=\"text-align: right;\">\n",
       "      <th></th>\n",
       "      <th>id</th>\n",
       "      <th>tweet</th>\n",
       "    </tr>\n",
       "  </thead>\n",
       "  <tbody>\n",
       "    <tr>\n",
       "      <th>17192</th>\n",
       "      <td>49155</td>\n",
       "      <td>thought factory: left-right polarisation! #tru...</td>\n",
       "    </tr>\n",
       "    <tr>\n",
       "      <th>17193</th>\n",
       "      <td>49156</td>\n",
       "      <td>feeling like a mermaid Ã°ÂÂÂ #hairflip #nev...</td>\n",
       "    </tr>\n",
       "    <tr>\n",
       "      <th>17194</th>\n",
       "      <td>49157</td>\n",
       "      <td>#hillary #campaigned today in #ohio((omg)) &amp;am...</td>\n",
       "    </tr>\n",
       "    <tr>\n",
       "      <th>17195</th>\n",
       "      <td>49158</td>\n",
       "      <td>happy, at work conference: right mindset leads...</td>\n",
       "    </tr>\n",
       "    <tr>\n",
       "      <th>17196</th>\n",
       "      <td>49159</td>\n",
       "      <td>my   song \"so glad\" free download!  #shoegaze ...</td>\n",
       "    </tr>\n",
       "  </tbody>\n",
       "</table>\n",
       "</div>"
      ],
      "text/plain": [
       "          id                                              tweet\n",
       "17192  49155  thought factory: left-right polarisation! #tru...\n",
       "17193  49156  feeling like a mermaid Ã°ÂÂÂ #hairflip #nev...\n",
       "17194  49157  #hillary #campaigned today in #ohio((omg)) &am...\n",
       "17195  49158  happy, at work conference: right mindset leads...\n",
       "17196  49159  my   song \"so glad\" free download!  #shoegaze ..."
      ]
     },
     "execution_count": 297,
     "metadata": {},
     "output_type": "execute_result"
    }
   ],
   "source": [
    "df_val.tail()"
   ]
  },
  {
   "cell_type": "code",
   "execution_count": 298,
   "metadata": {
    "colab": {
     "base_uri": "https://localhost:8080/"
    },
    "id": "F3lecy8oT-rJ",
    "outputId": "ce3187c6-ccdd-404c-fc72-92121ccc6475"
   },
   "outputs": [
    {
     "name": "stdout",
     "output_type": "stream",
     "text": [
      "Количество отсутствующих значений в столбце 'label': 0\n"
     ]
    }
   ],
   "source": [
    "missing_data = df_train['label'].isnull().sum()\n",
    "print(\"Количество отсутствующих значений в столбце 'label':\", missing_data)"
   ]
  },
  {
   "cell_type": "markdown",
   "metadata": {
    "id": "qEyvOxoOJDTP"
   },
   "source": [
    "### Предобработка"
   ]
  },
  {
   "cell_type": "code",
   "execution_count": 299,
   "metadata": {
    "colab": {
     "base_uri": "https://localhost:8080/"
    },
    "id": "JimEynHhitb4",
    "outputId": "77149a6f-7cd0-447b-a890-8f5d29d8f7c4"
   },
   "outputs": [],
   "source": [
    "# !pip install nltk"
   ]
  },
  {
   "cell_type": "code",
   "execution_count": 300,
   "metadata": {},
   "outputs": [],
   "source": [
    "# !pip install spacy && python -m spacy download en_core_web_sm"
   ]
  },
  {
   "cell_type": "code",
   "execution_count": 301,
   "metadata": {
    "id": "zuPoTViZRHlM"
   },
   "outputs": [],
   "source": [
    "from string import punctuation\n",
    "import spacy\n",
    "import re"
   ]
  },
  {
   "cell_type": "code",
   "execution_count": 302,
   "metadata": {
    "id": "MrICmUgeRHlO"
   },
   "outputs": [],
   "source": [
    "puncts = set(punctuation)"
   ]
  },
  {
   "cell_type": "code",
   "execution_count": null,
   "metadata": {
    "colab": {
     "base_uri": "https://localhost:8080/"
    },
    "id": "Kdmt_DVPjN4j",
    "outputId": "4620f938-24fd-4e28-be7a-b5ebc67dd537"
   },
   "outputs": [],
   "source": []
  },
  {
   "cell_type": "markdown",
   "metadata": {
    "id": "hdO_4D8_kPWm"
   },
   "source": [
    "**ПОЗАВТРАКАЛИ**\n",
    "\n",
    "Стемминг (убираем лишнии куски слова):\n",
    "**завтрак**<br>\n",
    "Очень быстро, очень дешево и очень слабо.\n",
    "\n",
    "spaCy не имеет инструмента для стемминга, поскольку в нём отдаётся предпочтение лемматизации\n",
    "\n",
    "Лемматизация (перевод в неопределенную форму для гл. и в им.падеж для сущ.):\n",
    "**позавтракать**<br>\n",
    "Небыстро, сложно."
   ]
  },
  {
   "cell_type": "code",
   "execution_count": 303,
   "metadata": {
    "colab": {
     "base_uri": "https://localhost:8080/",
     "height": 36
    },
    "id": "Q2nWhCfzkTCH",
    "outputId": "dd386a9e-d757-487e-976b-7061543cd77e"
   },
   "outputs": [],
   "source": [
    "nlp = spacy.load('en_core_web_sm')\n",
    "\n",
    "stop_words = nlp.Defaults.stop_words # Загрузка списка стоп-слов"
   ]
  },
  {
   "cell_type": "code",
   "execution_count": 304,
   "metadata": {
    "id": "A5aTsDZxjPym"
   },
   "outputs": [],
   "source": [
    "def preprocess_text(txt):\n",
    "    txt = str(txt)\n",
    "    txt = re.sub(r\"'t\\s\", \" not\", txt) # Функция re.sub заменяет \"'t__\" на \" not\" без пробела.   \n",
    "    txt = re.sub(r\"(\\bnot\\b)\", \"\\bnot\", txt)\n",
    "    txt = \"\".join(c for c in txt if c not in puncts)\n",
    "    txt = txt.lower()\n",
    "    \n",
    "    txt = ' '.join([word for word in txt.split() if word.lower() not in stop_words]) # Удаление стоп-слов\n",
    "    txt = [token.lemma_ for token in nlp(txt)] # Лемматизация слов\n",
    "    \n",
    "    return \" \".join(txt)"
   ]
  },
  {
   "cell_type": "code",
   "execution_count": 305,
   "metadata": {
    "colab": {
     "base_uri": "https://localhost:8080/"
    },
    "id": "6J4Ybdk-jC-n",
    "outputId": "680c7a0c-4804-4465-c2e7-2b2bbfb13777"
   },
   "outputs": [
    {
     "data": {
      "text/plain": [
       "array([' @user when a father is dysfunctional and is so selfish he drags his kids into his dysfunction.   #run',\n",
       "       \"@user @user thanks for #lyft credit i can't use cause they don't offer wheelchair vans in pdx.    #disapointed #getthanked\"],\n",
       "      dtype=object)"
      ]
     },
     "execution_count": 305,
     "metadata": {},
     "output_type": "execute_result"
    }
   ],
   "source": [
    "df_train['tweet'].iloc[:2].values"
   ]
  },
  {
   "cell_type": "code",
   "execution_count": 306,
   "metadata": {
    "colab": {
     "base_uri": "https://localhost:8080/"
    },
    "id": "UFDyfZLpi8BR",
    "outputId": "ef101574-91d6-4f5c-83e1-bcfe7651683d"
   },
   "outputs": [
    {
     "data": {
      "text/plain": [
       "array(['user father dysfunctional selfish drag kid dysfunction run',\n",
       "       'user user thank lyft credit notuse cause don notoffer wheelchair van pdx disapointe getthanke'],\n",
       "      dtype=object)"
      ]
     },
     "execution_count": 306,
     "metadata": {},
     "output_type": "execute_result"
    }
   ],
   "source": [
    "df_train['tweet'].iloc[:2].apply(preprocess_text).values"
   ]
  },
  {
   "cell_type": "code",
   "execution_count": 307,
   "metadata": {
    "colab": {
     "base_uri": "https://localhost:8080/"
    },
    "id": "iWrPbjNzi7pB",
    "outputId": "be3ded5b-7aca-4bb5-d7db-10fa837339cc"
   },
   "outputs": [
    {
     "name": "stderr",
     "output_type": "stream",
     "text": [
      "100%|████████████████████████████████████| 31962/31962 [01:54<00:00, 278.08it/s]\n",
      "100%|████████████████████████████████████| 17197/17197 [01:00<00:00, 284.04it/s]\n"
     ]
    }
   ],
   "source": [
    "from tqdm import tqdm \n",
    "tqdm.pandas()\n",
    "\n",
    "df_train['tweet'] = df_train['tweet'].progress_apply(preprocess_text)\n",
    "df_val['tweet'] = df_val['tweet'].progress_apply(preprocess_text)"
   ]
  },
  {
   "cell_type": "code",
   "execution_count": 308,
   "metadata": {
    "id": "C4o9QgmWI3Pw"
   },
   "outputs": [],
   "source": [
    "train_corpus = \" \".join(df_train[\"tweet\"])\n",
    "train_corpus = train_corpus.lower()"
   ]
  },
  {
   "cell_type": "code",
   "execution_count": 309,
   "metadata": {
    "colab": {
     "base_uri": "https://localhost:8080/"
    },
    "id": "Hed2ySbwJH6B",
    "outputId": "270b8ebc-f38a-4d21-8e53-d74b26395c44"
   },
   "outputs": [
    {
     "name": "stderr",
     "output_type": "stream",
     "text": [
      "[nltk_data] Downloading package punkt to /Users/annvorosh/nltk_data...\n",
      "[nltk_data]   Package punkt is already up-to-date!\n"
     ]
    },
    {
     "data": {
      "text/plain": [
       "['user', 'father', 'dysfunctional', 'selfish', 'drag']"
      ]
     },
     "execution_count": 309,
     "metadata": {},
     "output_type": "execute_result"
    }
   ],
   "source": [
    "import nltk\n",
    "from nltk.tokenize import word_tokenize\n",
    "nltk.download(\"punkt\")\n",
    "\n",
    "tokens = word_tokenize(train_corpus)\n",
    "tokens[:5]"
   ]
  },
  {
   "cell_type": "markdown",
   "metadata": {
    "id": "yJ8T0fwYJYJX"
   },
   "source": [
    "Отфильтруем данные\n",
    "\n",
    "и соберём в корпус N наиболее частых токенов"
   ]
  },
  {
   "cell_type": "code",
   "execution_count": 310,
   "metadata": {
    "id": "EXOLVK1tJLT8"
   },
   "outputs": [],
   "source": [
    "tokens_filtered = [word for word in tokens if word.isalnum()]"
   ]
  },
  {
   "cell_type": "code",
   "execution_count": 311,
   "metadata": {
    "colab": {
     "base_uri": "https://localhost:8080/"
    },
    "id": "8qCQH5nIJoiB",
    "outputId": "a10c74c5-e562-4a28-d2d2-259baa63222f"
   },
   "outputs": [
    {
     "data": {
      "text/plain": [
       "2999"
      ]
     },
     "execution_count": 311,
     "metadata": {},
     "output_type": "execute_result"
    }
   ],
   "source": [
    "from nltk.probability import FreqDist\n",
    "\n",
    "dist = FreqDist(tokens_filtered)\n",
    "tokens_filtered_top = [pair[0] for pair in dist.most_common(max_words-1)]  # вычитание 1 для padding\n",
    "len(tokens_filtered_top)"
   ]
  },
  {
   "cell_type": "code",
   "execution_count": 312,
   "metadata": {
    "colab": {
     "base_uri": "https://localhost:8080/"
    },
    "id": "bRQ-6wwjJrGo",
    "outputId": "c857ae2e-9f99-4d9d-a0fe-74b59dcb1257"
   },
   "outputs": [
    {
     "data": {
      "text/plain": [
       "['user', 'ã', 'love', 'day', 'happy', 'amp', 'i', 'good', 'm', 'time']"
      ]
     },
     "execution_count": 312,
     "metadata": {},
     "output_type": "execute_result"
    }
   ],
   "source": [
    "tokens_filtered_top[:10]"
   ]
  },
  {
   "cell_type": "code",
   "execution_count": 313,
   "metadata": {
    "colab": {
     "base_uri": "https://localhost:8080/"
    },
    "id": "Tdk777qGJtz4",
    "outputId": "c0e44a59-6bc2-4781-8d0c-a93f7396cc8c"
   },
   "outputs": [
    {
     "data": {
      "text/plain": [
       "{'user': 1,\n",
       " 'ã': 2,\n",
       " 'love': 3,\n",
       " 'day': 4,\n",
       " 'happy': 5,\n",
       " 'amp': 6,\n",
       " 'i': 7,\n",
       " 'good': 8,\n",
       " 'm': 9,\n",
       " 'time': 10,\n",
       " 'life': 11,\n",
       " 'u': 12,\n",
       " 'today': 13,\n",
       " 'like': 14,\n",
       " 'new': 15,\n",
       " 'positive': 16,\n",
       " 'thankful': 17,\n",
       " 'father': 18,\n",
       " 'people': 19,\n",
       " 'go': 20,\n",
       " 'smile': 21,\n",
       " 'bihday': 22,\n",
       " 'get': 23,\n",
       " 's': 24,\n",
       " 'work': 25,\n",
       " 'want': 26,\n",
       " 'look': 27,\n",
       " 'come': 28,\n",
       " 'friend': 29,\n",
       " 'feel': 30,\n",
       " 'don': 31,\n",
       " 'need': 32,\n",
       " 'weekend': 33,\n",
       " 'healthy': 34,\n",
       " 'girl': 35,\n",
       " 'thank': 36,\n",
       " 'family': 37,\n",
       " 'week': 38,\n",
       " 'fun': 39,\n",
       " 'way': 40,\n",
       " 'great': 41,\n",
       " 'think': 42,\n",
       " 'find': 43,\n",
       " 'summer': 44,\n",
       " 'you': 45,\n",
       " 'friday': 46,\n",
       " '2': 47,\n",
       " 'bull': 48,\n",
       " 'year': 49,\n",
       " 'live': 50,\n",
       " 'beautiful': 51,\n",
       " 'thing': 52,\n",
       " 'know': 53,\n",
       " 'morning': 54,\n",
       " 'music': 55,\n",
       " 'world': 56,\n",
       " 'home': 57,\n",
       " 'tomorrow': 58,\n",
       " 'watch': 59,\n",
       " 'make': 60,\n",
       " 'affirmation': 61,\n",
       " 'fathersday': 62,\n",
       " 'sad': 63,\n",
       " 'dad': 64,\n",
       " 'cute': 65,\n",
       " 'orlando': 66,\n",
       " 're': 67,\n",
       " 'right': 68,\n",
       " 'blog': 69,\n",
       " 'night': 70,\n",
       " 'model': 71,\n",
       " 'happiness': 72,\n",
       " 'man': 73,\n",
       " 'trump': 74,\n",
       " 'sunday': 75,\n",
       " 'play': 76,\n",
       " 'leave': 77,\n",
       " 've': 78,\n",
       " 'finally': 79,\n",
       " 'follow': 80,\n",
       " 'pay': 81,\n",
       " 'wait': 82,\n",
       " 'urã': 83,\n",
       " 'gold': 84,\n",
       " 'amazing': 85,\n",
       " 'say': 86,\n",
       " 'win': 87,\n",
       " 'tonight': 88,\n",
       " 'notwait': 89,\n",
       " 'guy': 90,\n",
       " 'iam': 91,\n",
       " 'selfie': 92,\n",
       " 'silver': 93,\n",
       " 'sta': 94,\n",
       " 'ready': 95,\n",
       " 'enjoy': 96,\n",
       " 'altwaystoheal': 97,\n",
       " 'hope': 98,\n",
       " 'quote': 99,\n",
       " 'little': 100,\n",
       " 'let': 101,\n",
       " 'bless': 102,\n",
       " '4': 103,\n",
       " 'wish': 104,\n",
       " 'old': 105,\n",
       " 'woman': 106,\n",
       " 'bear': 107,\n",
       " 'free': 108,\n",
       " 'game': 109,\n",
       " 'black': 110,\n",
       " 'dog': 111,\n",
       " 'forex': 112,\n",
       " 'baby': 113,\n",
       " 'hate': 114,\n",
       " 'lose': 115,\n",
       " '1': 116,\n",
       " 'try': 117,\n",
       " 'food': 118,\n",
       " 'help': 119,\n",
       " 'place': 120,\n",
       " 'see': 121,\n",
       " 'bad': 122,\n",
       " 'climb': 123,\n",
       " 'race': 124,\n",
       " 'miss': 125,\n",
       " 'stop': 126,\n",
       " 'god': 127,\n",
       " 'kid': 128,\n",
       " 'city': 129,\n",
       " 'book': 130,\n",
       " 'peace': 131,\n",
       " 'big': 132,\n",
       " 'change': 133,\n",
       " 'not': 134,\n",
       " 'well': 135,\n",
       " 'd': 136,\n",
       " 'video': 137,\n",
       " '2016': 138,\n",
       " 'tweet': 139,\n",
       " '3': 140,\n",
       " 'white': 141,\n",
       " 'news': 142,\n",
       " 'happen': 143,\n",
       " 'long': 144,\n",
       " 'saturday': 145,\n",
       " 'sun': 146,\n",
       " 'end': 147,\n",
       " 'school': 148,\n",
       " 'hour': 149,\n",
       " 'that': 150,\n",
       " 'polar': 151,\n",
       " 'funny': 152,\n",
       " 'boy': 153,\n",
       " 'have': 154,\n",
       " 'run': 155,\n",
       " 'lol': 156,\n",
       " 'holiday': 157,\n",
       " 'nice': 158,\n",
       " 'travel': 159,\n",
       " 'instagood': 160,\n",
       " 'angry': 161,\n",
       " 'attack': 162,\n",
       " 'month': 163,\n",
       " 'to': 164,\n",
       " 'break': 165,\n",
       " 'child': 166,\n",
       " 'face': 167,\n",
       " 'beach': 168,\n",
       " 'awesome': 169,\n",
       " 'yes': 170,\n",
       " 'hea': 171,\n",
       " 'take': 172,\n",
       " 'lot': 173,\n",
       " 'direct': 174,\n",
       " 'moment': 175,\n",
       " 'read': 176,\n",
       " 'grateful': 177,\n",
       " 'word': 178,\n",
       " 'wedding': 179,\n",
       " 'soon': 180,\n",
       " 'team': 181,\n",
       " 'n': 182,\n",
       " 'dominate': 183,\n",
       " 'strong': 184,\n",
       " 'cool': 185,\n",
       " 'head': 186,\n",
       " 'meet': 187,\n",
       " 'hear': 188,\n",
       " 'tell': 189,\n",
       " 'proud': 190,\n",
       " 'america': 191,\n",
       " 'dream': 192,\n",
       " 'motivation': 193,\n",
       " 'monday': 194,\n",
       " 'check': 195,\n",
       " 'photo': 196,\n",
       " 'tear': 197,\n",
       " 'buy': 198,\n",
       " 'true': 199,\n",
       " 'job': 200,\n",
       " 'give': 201,\n",
       " 'away': 202,\n",
       " 'forward': 203,\n",
       " 'talk': 204,\n",
       " 'kill': 205,\n",
       " 'listen': 206,\n",
       " 'real': 207,\n",
       " 'rip': 208,\n",
       " 'shoot': 209,\n",
       " 'post': 210,\n",
       " 'person': 211,\n",
       " 'libtard': 212,\n",
       " 'stay': 213,\n",
       " 'hot': 214,\n",
       " 'hard': 215,\n",
       " 'yeah': 216,\n",
       " 'oh': 217,\n",
       " 'bing': 218,\n",
       " 'late': 219,\n",
       " 'sleep': 220,\n",
       " 'lovely': 221,\n",
       " '5': 222,\n",
       " 'bong': 223,\n",
       " 'photooftheday': 224,\n",
       " 'didn': 225,\n",
       " 'song': 226,\n",
       " 'fuck': 227,\n",
       " 'fan': 228,\n",
       " 'mindset': 229,\n",
       " 'sex': 230,\n",
       " 'followme': 231,\n",
       " 'cat': 232,\n",
       " 'dance': 233,\n",
       " 'fashion': 234,\n",
       " 'gun': 235,\n",
       " 'hair': 236,\n",
       " 'open': 237,\n",
       " 'twitter': 238,\n",
       " 'buffalo': 239,\n",
       " 'celebrate': 240,\n",
       " 'racist': 241,\n",
       " 'healing': 242,\n",
       " 'young': 243,\n",
       " 'wow': 244,\n",
       " 'ill': 245,\n",
       " 'cry': 246,\n",
       " 'story': 247,\n",
       " 'joy': 248,\n",
       " 'believe': 249,\n",
       " 'sexy': 250,\n",
       " 'june': 251,\n",
       " 'gay': 252,\n",
       " 'die': 253,\n",
       " 'flower': 254,\n",
       " 'mom': 255,\n",
       " 'relax': 256,\n",
       " 'money': 257,\n",
       " 'movie': 258,\n",
       " 'na': 259,\n",
       " 'share': 260,\n",
       " 'doesn': 261,\n",
       " 'health': 262,\n",
       " 'reach': 263,\n",
       " 'house': 264,\n",
       " 'excited': 265,\n",
       " 'r': 266,\n",
       " 'tbt': 267,\n",
       " 'euro2016': 268,\n",
       " 'mean': 269,\n",
       " 'success': 270,\n",
       " 'ur': 271,\n",
       " 'country': 272,\n",
       " 'gorilla': 273,\n",
       " 'body': 274,\n",
       " '10': 275,\n",
       " 'london': 276,\n",
       " 'poetry': 277,\n",
       " 'couple': 278,\n",
       " 'ticket': 279,\n",
       " 'walk': 280,\n",
       " 'conference': 281,\n",
       " 'mind': 282,\n",
       " 'pretty': 283,\n",
       " 'depression': 284,\n",
       " 'pa': 285,\n",
       " 'call': 286,\n",
       " 'shop': 287,\n",
       " 'obama': 288,\n",
       " 'lt3': 289,\n",
       " 'beauty': 290,\n",
       " 'politic': 291,\n",
       " 'truth': 292,\n",
       " 'w': 293,\n",
       " 'liberal': 294,\n",
       " 'porn': 295,\n",
       " 'environment': 296,\n",
       " 'omg': 297,\n",
       " 'use': 298,\n",
       " 'inspiration': 299,\n",
       " 'season': 300,\n",
       " 'retweet': 301,\n",
       " 'heal': 302,\n",
       " 'thursday': 303,\n",
       " 'order': 304,\n",
       " 'he': 305,\n",
       " 'high': 306,\n",
       " 'perfect': 307,\n",
       " 'lead': 308,\n",
       " 'shit': 309,\n",
       " 'what': 310,\n",
       " 'turn': 311,\n",
       " 'learn': 312,\n",
       " 'cold': 313,\n",
       " 'bring': 314,\n",
       " 'do': 315,\n",
       " 'simulator': 316,\n",
       " 'adapt': 317,\n",
       " 'laugh': 318,\n",
       " 'gift': 319,\n",
       " 'close': 320,\n",
       " 'x': 321,\n",
       " 'simulation': 322,\n",
       " 'finish': 323,\n",
       " 'nude': 324,\n",
       " 'super': 325,\n",
       " 'fitness': 326,\n",
       " 'son': 327,\n",
       " 'wonderful': 328,\n",
       " 'drink': 329,\n",
       " 'send': 330,\n",
       " 'care': 331,\n",
       " 'rest': 332,\n",
       " 'mood': 333,\n",
       " 'business': 334,\n",
       " 'pray': 335,\n",
       " 'act': 336,\n",
       " 'arrive': 337,\n",
       " 'fact': 338,\n",
       " 'thought': 339,\n",
       " 'pic': 340,\n",
       " 'remember': 341,\n",
       " 'eat': 342,\n",
       " 'isn': 343,\n",
       " 'join': 344,\n",
       " 'crazy': 345,\n",
       " 'hey': 346,\n",
       " 'update': 347,\n",
       " 'yay': 348,\n",
       " 'set': 349,\n",
       " 'car': 350,\n",
       " 'dead': 351,\n",
       " 'visit': 352,\n",
       " 'reason': 353,\n",
       " 'event': 354,\n",
       " 'medium': 355,\n",
       " 'picture': 356,\n",
       " 'trip': 357,\n",
       " 'wake': 358,\n",
       " 'comment': 359,\n",
       " 'ask': 360,\n",
       " 'till': 361,\n",
       " 'kind': 362,\n",
       " 'coffee': 363,\n",
       " 'ppl': 364,\n",
       " 'wednesday': 365,\n",
       " 'delete': 366,\n",
       " 'app': 367,\n",
       " 'cause': 368,\n",
       " 'blue': 369,\n",
       " 'begin': 370,\n",
       " 'choose': 371,\n",
       " '7': 372,\n",
       " 'complete': 373,\n",
       " 'they': 374,\n",
       " 'single': 375,\n",
       " 'bird': 376,\n",
       " 'sweet': 377,\n",
       " 'toptag': 378,\n",
       " 'point': 379,\n",
       " 'far': 380,\n",
       " 'usa': 381,\n",
       " 'animal': 382,\n",
       " 'follower': 383,\n",
       " 'allahsoil': 384,\n",
       " 'rain': 385,\n",
       " 'sign': 386,\n",
       " 'matter': 387,\n",
       " 'lie': 388,\n",
       " 'vacation': 389,\n",
       " 'tired': 390,\n",
       " 'bed': 391,\n",
       " 'feeling': 392,\n",
       " 'power': 393,\n",
       " 'gym': 394,\n",
       " 'date': 395,\n",
       " 'lifestyle': 396,\n",
       " 'tgif': 397,\n",
       " 'sunshine': 398,\n",
       " 'wrong': 399,\n",
       " 'victim': 400,\n",
       " 'sorry': 401,\n",
       " 'prayfororlando': 402,\n",
       " 'excite': 403,\n",
       " 'nothave': 404,\n",
       " 'sick': 405,\n",
       " 'minute': 406,\n",
       " 'view': 407,\n",
       " 'light': 408,\n",
       " 'plan': 409,\n",
       " 'notknow': 410,\n",
       " 'vote': 411,\n",
       " 'social': 412,\n",
       " 'daughter': 413,\n",
       " 'write': 414,\n",
       " 'spend': 415,\n",
       " 'hand': 416,\n",
       " 'aww': 417,\n",
       " 'fall': 418,\n",
       " 'actually': 419,\n",
       " 'useful': 420,\n",
       " 'notbelieve': 421,\n",
       " 'early': 422,\n",
       " 'sure': 423,\n",
       " 'show': 424,\n",
       " 'got': 425,\n",
       " 'tuesday': 426,\n",
       " 'favorite': 427,\n",
       " 'evening': 428,\n",
       " 'forever': 429,\n",
       " 'customer': 430,\n",
       " 'yesterday': 431,\n",
       " 'special': 432,\n",
       " 'color': 433,\n",
       " 'hardcore': 434,\n",
       " 'photography': 435,\n",
       " 'anymore': 436,\n",
       " 'grow': 437,\n",
       " 'deletetweet': 438,\n",
       " '1st': 439,\n",
       " 'hit': 440,\n",
       " '6': 441,\n",
       " 'lgbt': 442,\n",
       " 'film': 443,\n",
       " 'save': 444,\n",
       " 'daily': 445,\n",
       " 'daddy': 446,\n",
       " 'design': 447,\n",
       " 'pm': 448,\n",
       " 'eye': 449,\n",
       " 'noteven': 450,\n",
       " 'speak': 451,\n",
       " 'hello': 452,\n",
       " 'goal': 453,\n",
       " 'impoant': 454,\n",
       " 'suppo': 455,\n",
       " 'death': 456,\n",
       " 'anxiety': 457,\n",
       " 'release': 458,\n",
       " 'human': 459,\n",
       " 'nervous': 460,\n",
       " 'nature': 461,\n",
       " 'hu': 462,\n",
       " 'football': 463,\n",
       " 'fly': 464,\n",
       " 'lunch': 465,\n",
       " 'uk': 466,\n",
       " 'easy': 467,\n",
       " 'student': 468,\n",
       " 'all': 469,\n",
       " 'goodmorning': 470,\n",
       " 'there': 471,\n",
       " 'ago': 472,\n",
       " 'target': 473,\n",
       " 'y': 474,\n",
       " 'guess': 475,\n",
       " 'parent': 476,\n",
       " 'red': 477,\n",
       " 'style': 478,\n",
       " 'episode': 479,\n",
       " 'history': 480,\n",
       " 'prayer': 481,\n",
       " 'present': 482,\n",
       " 'sjw': 483,\n",
       " 'hold': 484,\n",
       " 'instagram': 485,\n",
       " 'racism': 486,\n",
       " 'move': 487,\n",
       " 'launch': 488,\n",
       " 'brother': 489,\n",
       " 'lover': 490,\n",
       " 'park': 491,\n",
       " 'conce': 492,\n",
       " 'organization': 493,\n",
       " 'vine': 494,\n",
       " 'ok': 495,\n",
       " 'sunny': 496,\n",
       " 'notget': 497,\n",
       " 'green': 498,\n",
       " 'ass': 499,\n",
       " 'sister': 500,\n",
       " 'damn': 501,\n",
       " 'star': 502,\n",
       " 'future': 503,\n",
       " 'notbe': 504,\n",
       " 'treat': 505,\n",
       " 'flag': 506,\n",
       " 'pass': 507,\n",
       " 'fight': 508,\n",
       " 'shooting': 509,\n",
       " 'state': 510,\n",
       " 'safe': 511,\n",
       " 'lucky': 512,\n",
       " 'problem': 513,\n",
       " 'lady': 514,\n",
       " 'group': 515,\n",
       " 'everyday': 516,\n",
       " 'final': 517,\n",
       " '8': 518,\n",
       " 'create': 519,\n",
       " 'bitch': 520,\n",
       " 'can': 521,\n",
       " 'chill': 522,\n",
       " 'tv': 523,\n",
       " 'garden': 524,\n",
       " 'vs': 525,\n",
       " 'mother': 526,\n",
       " 'sale': 527,\n",
       " '20': 528,\n",
       " 'later': 529,\n",
       " '50': 530,\n",
       " 'snapchat': 531,\n",
       " 'able': 532,\n",
       " 'youtube': 533,\n",
       " 'education': 534,\n",
       " 'joke': 535,\n",
       " 'gt': 536,\n",
       " 'welcome': 537,\n",
       " 'service': 538,\n",
       " 'florida': 539,\n",
       " 'xxx': 540,\n",
       " 'll': 541,\n",
       " 'dear': 542,\n",
       " 'cantwait': 543,\n",
       " '12': 544,\n",
       " 'brexit': 545,\n",
       " 'teen': 546,\n",
       " 'president': 547,\n",
       " 'b': 548,\n",
       " 'police': 549,\n",
       " 'despite': 550,\n",
       " 'survive': 551,\n",
       " 'mountain': 552,\n",
       " 'decide': 553,\n",
       " 'sit': 554,\n",
       " 'anniversary': 555,\n",
       " 'fast': 556,\n",
       " 'cultureofdevelopment': 557,\n",
       " 'freedom': 558,\n",
       " 'afternoon': 559,\n",
       " 'club': 560,\n",
       " 'soul': 561,\n",
       " 'bit': 562,\n",
       " 'boyfriend': 563,\n",
       " 'fail': 564,\n",
       " 'bday': 565,\n",
       " 'experience': 566,\n",
       " 'picoftheday': 567,\n",
       " 'line': 568,\n",
       " 'disney': 569,\n",
       " 'phone': 570,\n",
       " 'agree': 571,\n",
       " '30': 572,\n",
       " 'understand': 573,\n",
       " 'rock': 574,\n",
       " 'dinner': 575,\n",
       " 'nyc': 576,\n",
       " 'realize': 577,\n",
       " 'list': 578,\n",
       " 'source': 579,\n",
       " 'cake': 580,\n",
       " 'forget': 581,\n",
       " 'voice': 582,\n",
       " 'choice': 583,\n",
       " 'smh': 584,\n",
       " 'tragedy': 585,\n",
       " 'card': 586,\n",
       " 'hill': 587,\n",
       " 'suppoer': 588,\n",
       " 'yo': 589,\n",
       " 'wife': 590,\n",
       " 'control': 591,\n",
       " 'fresh': 592,\n",
       " 'mad': 593,\n",
       " 'half': 594,\n",
       " 'class': 595,\n",
       " 'pathetic': 596,\n",
       " 'friendship': 597,\n",
       " 'water': 598,\n",
       " 'sea': 599,\n",
       " 'step': 600,\n",
       " 'thankyou': 601,\n",
       " 'stuff': 602,\n",
       " 'ride': 603,\n",
       " 'question': 604,\n",
       " 'shopping': 605,\n",
       " 'add': 606,\n",
       " 'vicinity': 607,\n",
       " 'stand': 608,\n",
       " 'simple': 609,\n",
       " 'inspire': 610,\n",
       " 'cheer': 611,\n",
       " 'muslim': 612,\n",
       " 'actor': 613,\n",
       " 'keep': 614,\n",
       " 'idea': 615,\n",
       " 'maybe': 616,\n",
       " '2nd': 617,\n",
       " 'nasty': 618,\n",
       " 'drive': 619,\n",
       " 'sky': 620,\n",
       " 'cover': 621,\n",
       " 'pain': 622,\n",
       " 'ramadan': 623,\n",
       " '9': 624,\n",
       " 'respect': 625,\n",
       " 'wan': 626,\n",
       " 'july': 627,\n",
       " 'we': 628,\n",
       " 'course': 629,\n",
       " 'truly': 630,\n",
       " 'small': 631,\n",
       " 'beer': 632,\n",
       " 'breakfast': 633,\n",
       " 'room': 634,\n",
       " 'issue': 635,\n",
       " 'hell': 636,\n",
       " 'makeup': 637,\n",
       " 'fear': 638,\n",
       " '2017': 639,\n",
       " 'she': 640,\n",
       " 'gbp': 641,\n",
       " 'community': 642,\n",
       " 'client': 643,\n",
       " 'fucking': 644,\n",
       " 'yoga': 645,\n",
       " 'england': 646,\n",
       " 'lighttherapy': 647,\n",
       " 'accept': 648,\n",
       " 'account': 649,\n",
       " 'wonder': 650,\n",
       " 'oil': 651,\n",
       " 'test': 652,\n",
       " 'pick': 653,\n",
       " 'slut': 654,\n",
       " 'lawofattraction': 655,\n",
       " '3d': 656,\n",
       " 'violence': 657,\n",
       " 'leadership': 658,\n",
       " 'train': 659,\n",
       " 'americans': 660,\n",
       " 'adventure': 661,\n",
       " 'dj': 662,\n",
       " 'officially': 663,\n",
       " 'relationship': 664,\n",
       " 'kick': 665,\n",
       " 'different': 666,\n",
       " 'fire': 667,\n",
       " 'murder': 668,\n",
       " 'flight': 669,\n",
       " 'sunset': 670,\n",
       " 'chase': 671,\n",
       " 'allow': 672,\n",
       " 'blogger': 673,\n",
       " 'low': 674,\n",
       " 'festival': 675,\n",
       " 'dress': 676,\n",
       " 'sound': 677,\n",
       " 'orlandoshoote': 678,\n",
       " 'count': 679,\n",
       " 'one': 680,\n",
       " 'wet': 681,\n",
       " 'oitnb': 682,\n",
       " 'announce': 683,\n",
       " 'husband': 684,\n",
       " 'expect': 685,\n",
       " 'india': 686,\n",
       " 'task': 687,\n",
       " 'gop': 688,\n",
       " 'glad': 689,\n",
       " 'udtapunjab': 690,\n",
       " 'la': 691,\n",
       " '100': 692,\n",
       " 'past': 693,\n",
       " 'beat': 694,\n",
       " 'puppy': 695,\n",
       " 'naughty': 696,\n",
       " 'pop': 697,\n",
       " 'sell': 698,\n",
       " 'haven': 699,\n",
       " 'wear': 700,\n",
       " 'reality': 701,\n",
       " 'ahead': 702,\n",
       " 'dark': 703,\n",
       " 'bc': 704,\n",
       " 'national': 705,\n",
       " 'surprise': 706,\n",
       " 'cut': 707,\n",
       " 'who': 708,\n",
       " 'receive': 709,\n",
       " 'memory': 710,\n",
       " 'horny': 711,\n",
       " 'shy': 712,\n",
       " 'fantastic': 713,\n",
       " 'catch': 714,\n",
       " 'tragic': 715,\n",
       " 'hillary': 716,\n",
       " 'draw': 717,\n",
       " 'mass': 718,\n",
       " 'couldn': 719,\n",
       " 'war': 720,\n",
       " 'continue': 721,\n",
       " 'message': 722,\n",
       " 'blur': 723,\n",
       " 'product': 724,\n",
       " 'wine': 725,\n",
       " 'lonely': 726,\n",
       " 'second': 727,\n",
       " 'pussy': 728,\n",
       " 'emotion': 729,\n",
       " 'folk': 730,\n",
       " 'american': 731,\n",
       " 'street': 732,\n",
       " 'secret': 733,\n",
       " 'celebration': 734,\n",
       " 'tip': 735,\n",
       " 'blonde': 736,\n",
       " 'stupid': 737,\n",
       " 'workout': 738,\n",
       " 'action': 739,\n",
       " 'exciting': 740,\n",
       " 'kinky': 741,\n",
       " 'meeting': 742,\n",
       " 'rooster': 743,\n",
       " 'vast': 744,\n",
       " 'deserve': 745,\n",
       " 'camp': 746,\n",
       " 'queen': 747,\n",
       " 'wtf': 748,\n",
       " 'result': 749,\n",
       " 'apple': 750,\n",
       " 'female': 751,\n",
       " 'instead': 752,\n",
       " 'shoe': 753,\n",
       " 'pack': 754,\n",
       " 'stomp': 755,\n",
       " 'ignore': 756,\n",
       " 'gorgeous': 757,\n",
       " 'return': 758,\n",
       " 'expanse': 759,\n",
       " 'official': 760,\n",
       " 'aist': 761,\n",
       " 'content': 762,\n",
       " 'local': 763,\n",
       " 'finger': 764,\n",
       " 'tech': 765,\n",
       " 'nbafinal': 766,\n",
       " 'france': 767,\n",
       " 'law': 768,\n",
       " 'bag': 769,\n",
       " 'road': 770,\n",
       " 'age': 771,\n",
       " 'haha': 772,\n",
       " 'facebook': 773,\n",
       " 'university': 774,\n",
       " 'deal': 775,\n",
       " 'sho': 776,\n",
       " 'block': 777,\n",
       " 'countdown': 778,\n",
       " 'offer': 779,\n",
       " 'poor': 780,\n",
       " 'training': 781,\n",
       " 'notwant': 782,\n",
       " 'euro': 783,\n",
       " 'clean': 784,\n",
       " 'luck': 785,\n",
       " 'depress': 786,\n",
       " 'loss': 787,\n",
       " 'award': 788,\n",
       " 'trend': 789,\n",
       " 'member': 790,\n",
       " '15': 791,\n",
       " 'trust': 792,\n",
       " 'self': 793,\n",
       " 'vegan': 794,\n",
       " 'online': 795,\n",
       " 'series': 796,\n",
       " 'review': 797,\n",
       " 'political': 798,\n",
       " 'vibe': 799,\n",
       " 'tune': 800,\n",
       " 'islam': 801,\n",
       " 'sense': 802,\n",
       " 'seriously': 803,\n",
       " 'york': 804,\n",
       " 'heabroken': 805,\n",
       " 'page': 806,\n",
       " 'hero': 807,\n",
       " 'weather': 808,\n",
       " 'aren': 809,\n",
       " 'album': 810,\n",
       " 'pet': 811,\n",
       " 'pizza': 812,\n",
       " 'busy': 813,\n",
       " 'fit': 814,\n",
       " 'college': 815,\n",
       " 'king': 816,\n",
       " 'huge': 817,\n",
       " 'blame': 818,\n",
       " 'ripchristina': 819,\n",
       " 'internet': 820,\n",
       " 'deep': 821,\n",
       " 'united': 822,\n",
       " 'pride': 823,\n",
       " 'notice': 824,\n",
       " 'answer': 825,\n",
       " 'donald': 826,\n",
       " 'yummy': 827,\n",
       " 'ain': 828,\n",
       " 'woh': 829,\n",
       " 'hi': 830,\n",
       " 'shame': 831,\n",
       " 'literally': 832,\n",
       " 'nail': 833,\n",
       " 'chance': 834,\n",
       " 'bike': 835,\n",
       " 'suck': 836,\n",
       " 'terrorist': 837,\n",
       " 'remain': 838,\n",
       " 'instamood': 839,\n",
       " 'idiot': 840,\n",
       " 'project': 841,\n",
       " 'ice': 842,\n",
       " 'absolutely': 843,\n",
       " 'germany': 844,\n",
       " 'stage': 845,\n",
       " 'here': 846,\n",
       " 'company': 847,\n",
       " 'energy': 848,\n",
       " 'spos': 849,\n",
       " 'fill': 850,\n",
       " 'office': 851,\n",
       " 'punjab': 852,\n",
       " 'pink': 853,\n",
       " 'e': 854,\n",
       " 'land': 855,\n",
       " 'previous': 856,\n",
       " 'prove': 857,\n",
       " 'naked': 858,\n",
       " 'pool': 859,\n",
       " 'bestfriend': 860,\n",
       " 'probably': 861,\n",
       " 'stick': 862,\n",
       " 'leader': 863,\n",
       " 'staff': 864,\n",
       " 'case': 865,\n",
       " 'weak': 866,\n",
       " 'hungry': 867,\n",
       " 'key': 868,\n",
       " 'stae': 869,\n",
       " 'hatred': 870,\n",
       " 'session': 871,\n",
       " 'drop': 872,\n",
       " 'meme': 873,\n",
       " 'nba': 874,\n",
       " 'space': 875,\n",
       " 'hug': 876,\n",
       " 'vegas': 877,\n",
       " 'inspirational': 878,\n",
       " 'teach': 879,\n",
       " 'kiss': 880,\n",
       " 'instalike': 881,\n",
       " 'p': 882,\n",
       " 'e32016': 883,\n",
       " 'congratulation': 884,\n",
       " 'melancholy': 885,\n",
       " 'campaign': 886,\n",
       " 'inside': 887,\n",
       " 'waste': 888,\n",
       " 'tour': 889,\n",
       " 'ff': 890,\n",
       " 'mr': 891,\n",
       " 'store': 892,\n",
       " 'depressed': 893,\n",
       " 'number': 894,\n",
       " 'snapshot': 895,\n",
       " 'staed': 896,\n",
       " 'foot': 897,\n",
       " 'poem': 898,\n",
       " 'church': 899,\n",
       " 'email': 900,\n",
       " 'box': 901,\n",
       " 'upset': 902,\n",
       " 'inshot': 903,\n",
       " 'lovelife': 904,\n",
       " 'link': 905,\n",
       " 'like4like': 906,\n",
       " 'eah': 907,\n",
       " 'million': 908,\n",
       " 't': 909,\n",
       " 'lyric': 910,\n",
       " 'calm': 911,\n",
       " 'glass': 912,\n",
       " 'brand': 913,\n",
       " 'nofilter': 914,\n",
       " 'faith': 915,\n",
       " 'alive': 916,\n",
       " 'wasn': 917,\n",
       " 'appreciate': 918,\n",
       " 'f': 919,\n",
       " 'leakage': 920,\n",
       " 'marriage': 921,\n",
       " 'nation': 922,\n",
       " 'favourite': 923,\n",
       " 'especially': 924,\n",
       " 'cavs': 925,\n",
       " 'build': 926,\n",
       " 'benefit': 927,\n",
       " 'touch': 928,\n",
       " 'stream': 929,\n",
       " 'shock': 930,\n",
       " 'o': 931,\n",
       " 'l': 932,\n",
       " 'instadaily': 933,\n",
       " 'pig': 934,\n",
       " 'study': 935,\n",
       " 'e3': 936,\n",
       " 'everybody': 937,\n",
       " 'pulse': 938,\n",
       " 'v': 939,\n",
       " 'bride': 940,\n",
       " 'culture': 941,\n",
       " 'asian': 942,\n",
       " 'fake': 943,\n",
       " 'horrible': 944,\n",
       " 'diet': 945,\n",
       " 'okay': 946,\n",
       " 'focus': 947,\n",
       " 'gif': 948,\n",
       " 'dude': 949,\n",
       " 'piece': 950,\n",
       " 'player': 951,\n",
       " 'ball': 952,\n",
       " 'dory': 953,\n",
       " 'level': 954,\n",
       " 'successful': 955,\n",
       " 'christmas': 956,\n",
       " 'melancholymusic': 957,\n",
       " 'coach': 958,\n",
       " 'newyork': 959,\n",
       " 'hang': 960,\n",
       " 'graduation': 961,\n",
       " 'staing': 962,\n",
       " 'emotional': 963,\n",
       " 'anger': 964,\n",
       " 'til': 965,\n",
       " 'website': 966,\n",
       " 'exam': 967,\n",
       " 'public': 968,\n",
       " 'journey': 969,\n",
       " 'japan': 970,\n",
       " 'claim': 971,\n",
       " 'available': 972,\n",
       " 'tampa': 973,\n",
       " 'bigot': 974,\n",
       " 'throw': 975,\n",
       " 'totally': 976,\n",
       " 'gamer': 977,\n",
       " 'xx': 978,\n",
       " 'paris': 979,\n",
       " 'tea': 980,\n",
       " 'town': 981,\n",
       " 'miami': 982,\n",
       " 'orange': 983,\n",
       " 'blm': 984,\n",
       " 'positivity': 985,\n",
       " 'record': 986,\n",
       " 'goodnight': 987,\n",
       " 'role': 988,\n",
       " 'netflix': 989,\n",
       " 'challenge': 990,\n",
       " 'adult': 991,\n",
       " 'door': 992,\n",
       " 'double': 993,\n",
       " 'marry': 994,\n",
       " 'track': 995,\n",
       " 'nearly': 996,\n",
       " 'condemn': 997,\n",
       " 'lack': 998,\n",
       " 'politician': 999,\n",
       " 'wisdom': 1000,\n",
       " ...}"
      ]
     },
     "execution_count": 313,
     "metadata": {},
     "output_type": "execute_result"
    }
   ],
   "source": [
    "vocabulary = {v: k for k, v in dict(enumerate(tokens_filtered_top, 1)).items()}\n",
    "vocabulary"
   ]
  },
  {
   "cell_type": "code",
   "execution_count": 314,
   "metadata": {
    "id": "5OULZgvkJzpj"
   },
   "outputs": [],
   "source": [
    "import numpy as np\n",
    "\n",
    "\n",
    "def text_to_sequence(text, maxlen):\n",
    "    result = []\n",
    "    tokens = word_tokenize(text.lower())\n",
    "    tokens_filtered = [word for word in tokens if word.isalnum()]\n",
    "    for word in tokens_filtered:\n",
    "        if word in vocabulary:\n",
    "            result.append(vocabulary[word])\n",
    "\n",
    "    padding = [0] * (maxlen-len(result))\n",
    "    return result[-maxlen:] + padding"
   ]
  },
  {
   "cell_type": "code",
   "execution_count": 315,
   "metadata": {},
   "outputs": [],
   "source": [
    "from sklearn.model_selection import train_test_split\n",
    "df_train, df_test = train_test_split(df_train, test_size=0.2, random_state=42)"
   ]
  },
  {
   "cell_type": "code",
   "execution_count": 316,
   "metadata": {
    "colab": {
     "base_uri": "https://localhost:8080/"
    },
    "id": "pqHlf5nNJ2hl",
    "outputId": "fafe24d4-c5f5-4474-ffe1-54ead0843cbe"
   },
   "outputs": [
    {
     "name": "stdout",
     "output_type": "stream",
     "text": [
      "CPU times: user 1.98 s, sys: 15.6 ms, total: 2 s\n",
      "Wall time: 2 s\n"
     ]
    }
   ],
   "source": [
    "%%time\n",
    "x_train = np.asarray([text_to_sequence(text, max_len) for text in df_train[\"tweet\"]])\n",
    "x_test = np.asarray([text_to_sequence(text, max_len) for text in df_test[\"tweet\"]])"
   ]
  },
  {
   "cell_type": "code",
   "execution_count": 317,
   "metadata": {
    "colab": {
     "base_uri": "https://localhost:8080/"
    },
    "id": "lI4NUg_TJ6NK",
    "outputId": "32090c5f-1b2a-4cf3-9790-3412aae444c2"
   },
   "outputs": [
    {
     "data": {
      "text/plain": [
       "(25569, 15)"
      ]
     },
     "execution_count": 317,
     "metadata": {},
     "output_type": "execute_result"
    }
   ],
   "source": [
    "x_train.shape"
   ]
  },
  {
   "cell_type": "code",
   "execution_count": 318,
   "metadata": {
    "colab": {
     "base_uri": "https://localhost:8080/",
     "height": 36
    },
    "id": "0I6B2MHb81pF",
    "outputId": "19caee2c-1cf2-40bd-d853-0b45da59ace1"
   },
   "outputs": [
    {
     "data": {
      "text/plain": [
       "'user user user I ve pay attention past year8 year he s ã¢â\\x80â ¦'"
      ]
     },
     "execution_count": 318,
     "metadata": {},
     "output_type": "execute_result"
    }
   ],
   "source": [
    "df_train['tweet'].iloc[0]"
   ]
  },
  {
   "cell_type": "code",
   "execution_count": 319,
   "metadata": {
    "colab": {
     "base_uri": "https://localhost:8080/"
    },
    "id": "9QlLvXd9KDf3",
    "outputId": "2a2197d7-d51b-42c7-a213-66ce312a63fb"
   },
   "outputs": [
    {
     "data": {
      "text/plain": [
       "array([   1,    1,    1,    7,   78,   81, 1145,  693,   49,  305,   24,\n",
       "          0,    0,    0,    0])"
      ]
     },
     "execution_count": 319,
     "metadata": {},
     "output_type": "execute_result"
    }
   ],
   "source": [
    "x_train[0]"
   ]
  },
  {
   "cell_type": "code",
   "execution_count": 320,
   "metadata": {
    "id": "Ynw9XOZNK4Wp"
   },
   "outputs": [],
   "source": [
    "import torch\n",
    "import torch.nn as nn\n",
    "import torch.nn.functional as F\n",
    "\n",
    "\n",
    "class Net(nn.Module):\n",
    "    def __init__(self, vocab_size=2000, embedding_dim=128, out_channel=128, num_classes=1):\n",
    "        super().__init__()\n",
    "        self.embedding = nn.Embedding(vocab_size, embedding_dim)\n",
    "        self.conv_1 = nn.Conv1d(embedding_dim, out_channel, kernel_size=2)\n",
    "        self.conv_2 = nn.Conv1d(embedding_dim, out_channel, kernel_size=3)\n",
    "        self.pool = nn.MaxPool1d(2)\n",
    "        self.relu = nn.ReLU()\n",
    "        self.linear_1 = nn.Linear(out_channel, out_channel // 2)\n",
    "        self.linear_2 = nn.Linear(out_channel // 2, num_classes)\n",
    "        \n",
    "    def forward(self, x):        \n",
    "        output = self.embedding(x) # B, L, E\n",
    "        #                       B  E  L         \n",
    "        output = output.permute(0, 2, 1)\n",
    "        output = self.conv_1(output)\n",
    "        output = self.relu(output)\n",
    "        output = self.pool(output)\n",
    "\n",
    "        output = self.conv_2(output)\n",
    "        output = self.relu(output)\n",
    "        output = self.pool(output)\n",
    "        output = torch.max(output, axis=2).values\n",
    "        output = self.linear_1(output)\n",
    "        output = self.relu(output)\n",
    "        output = self.linear_2(output)\n",
    "        output = F.sigmoid(output)\n",
    "        return output"
   ]
  },
  {
   "cell_type": "code",
   "execution_count": 321,
   "metadata": {
    "id": "PhwK7yLAK8b0"
   },
   "outputs": [],
   "source": [
    "from torch.utils.data import DataLoader, Dataset\n",
    "\n",
    "\n",
    "class DataWrapper(Dataset):\n",
    "    def __init__(self, data, target, transform=None):\n",
    "        self.data = torch.from_numpy(data).long()\n",
    "        self.target = torch.from_numpy(target).long()\n",
    "        self.transform = transform\n",
    "        \n",
    "    def __getitem__(self, index):\n",
    "        x = self.data[index]\n",
    "        y = self.target[index]\n",
    "        \n",
    "        if self.transform:\n",
    "            x = self.transform(x)\n",
    "            \n",
    "        return x, y\n",
    "    \n",
    "    def __len__(self):\n",
    "        return len(self.data)"
   ]
  },
  {
   "cell_type": "code",
   "execution_count": 322,
   "metadata": {},
   "outputs": [],
   "source": [
    "from torch.utils.data import WeightedRandomSampler\n",
    "\n",
    "# получаем балансировку весов для каждого класса\n",
    "class_counts = np.bincount(df_train['label'])\n",
    "class_weights = 1.0 / class_counts\n",
    "\n",
    "# создаем взвешенный сэмплер\n",
    "weights = [class_weights[label] for label in df_train['label']]\n",
    "sampler = WeightedRandomSampler(weights, len(df_train))\n",
    "\n",
    "# создаем DataLoader с использованием взвешенного сэмплера\n",
    "train_dataset = DataWrapper(x_train, df_train['label'].values)\n",
    "train_loader = DataLoader(train_dataset, batch_size=batch_size, shuffle=True)"
   ]
  },
  {
   "cell_type": "code",
   "execution_count": 323,
   "metadata": {},
   "outputs": [],
   "source": [
    "# Получаем балансировку весов для каждого класса в валидационном наборе данных\n",
    "class_counts_test = np.bincount(df_test['label'])\n",
    "class_weights_test = 1.0 / class_counts_test\n",
    "\n",
    "# Создаем взвешенный сэмплер для валидационного набора данных\n",
    "weights_test = [class_weights_test[label] for label in df_test['label']]\n",
    "sampler_test = WeightedRandomSampler(weights_test, len(df_test))\n",
    "\n",
    "# Создаем DataLoader с использованием взвешенного сэмплера для валидационного набора данных\n",
    "test_dataset = DataWrapper(x_test, df_test['label'].values)\n",
    "test_loader = DataLoader(test_dataset, batch_size=batch_size, shuffle=True)"
   ]
  },
  {
   "cell_type": "code",
   "execution_count": 324,
   "metadata": {
    "colab": {
     "base_uri": "https://localhost:8080/"
    },
    "id": "J6v8MCvfPqJN",
    "outputId": "292ded6c-48ee-4107-e70a-3b5254be1ec0"
   },
   "outputs": [
    {
     "name": "stdout",
     "output_type": "stream",
     "text": [
      "torch.Size([512, 15])\n",
      "torch.Size([512])\n",
      "tensor(0)\n"
     ]
    }
   ],
   "source": [
    "for x, l in train_loader:\n",
    "    print(x.shape)\n",
    "    print(l.shape)\n",
    "    print(l[0])\n",
    "    break"
   ]
  },
  {
   "cell_type": "code",
   "execution_count": 325,
   "metadata": {
    "colab": {
     "base_uri": "https://localhost:8080/",
     "height": 36
    },
    "id": "F-3ExwIMG8BB",
    "outputId": "13f0330a-78e7-49df-aef2-b5388c9a509f"
   },
   "outputs": [
    {
     "data": {
      "text/plain": [
       "'cpu'"
      ]
     },
     "execution_count": 325,
     "metadata": {},
     "output_type": "execute_result"
    }
   ],
   "source": [
    "model = Net(vocab_size=max_words)\n",
    "\n",
    "device = 'cuda' if torch.cuda.is_available() else 'cpu'\n",
    "device"
   ]
  },
  {
   "cell_type": "code",
   "execution_count": 326,
   "metadata": {
    "colab": {
     "base_uri": "https://localhost:8080/"
    },
    "id": "ayB6rEFkHB1D",
    "outputId": "a3ded359-0344-49f9-9f80-8b1a3dc4e575"
   },
   "outputs": [
    {
     "name": "stdout",
     "output_type": "stream",
     "text": [
      "Net(\n",
      "  (embedding): Embedding(3000, 128)\n",
      "  (conv_1): Conv1d(128, 128, kernel_size=(2,), stride=(1,))\n",
      "  (conv_2): Conv1d(128, 128, kernel_size=(3,), stride=(1,))\n",
      "  (pool): MaxPool1d(kernel_size=2, stride=2, padding=0, dilation=1, ceil_mode=False)\n",
      "  (relu): ReLU()\n",
      "  (linear_1): Linear(in_features=128, out_features=64, bias=True)\n",
      "  (linear_2): Linear(in_features=64, out_features=1, bias=True)\n",
      ")\n",
      "Parameters: 474497\n"
     ]
    }
   ],
   "source": [
    "print(model)\n",
    "print(\"Parameters:\", sum([param.nelement() for param in model.parameters()]))"
   ]
  },
  {
   "cell_type": "code",
   "execution_count": 327,
   "metadata": {
    "id": "vOpjN8zrHIfJ"
   },
   "outputs": [],
   "source": [
    "optimizer = torch.optim.Adam(model.parameters(), lr=0.01)\n",
    "criterion = nn.BCELoss()"
   ]
  },
  {
   "cell_type": "code",
   "execution_count": 328,
   "metadata": {
    "colab": {
     "base_uri": "https://localhost:8080/"
    },
    "id": "ee9kfUQaCXpl",
    "outputId": "a12f6d00-006b-4909-a37b-9c5faee93b36"
   },
   "outputs": [
    {
     "name": "stdout",
     "output_type": "stream",
     "text": [
      "Epoch [1/20]. Step [50/50]. Loss: 0.188. Acc: 0.926. Test loss: 0.141. Test acc: 0.929\n",
      "Epoch [2/20]. Step [50/50]. Loss: 0.135. Acc: 0.948. Test loss: 0.156. Test acc: 0.950\n",
      "Epoch [3/20]. Step [50/50]. Loss: 0.099. Acc: 0.968. Test loss: 0.165. Test acc: 0.952\n",
      "Epoch [4/20]. Step [50/50]. Loss: 0.065. Acc: 0.980. Test loss: 0.115. Test acc: 0.954\n",
      "Epoch [5/20]. Step [50/50]. Loss: 0.032. Acc: 0.986. Test loss: 0.159. Test acc: 0.953\n",
      "Epoch [6/20]. Step [50/50]. Loss: 0.016. Acc: 0.991. Test loss: 0.294. Test acc: 0.953\n",
      "Epoch [7/20]. Step [50/50]. Loss: 0.022. Acc: 0.992. Test loss: 0.359. Test acc: 0.947\n",
      "Epoch [8/20]. Step [50/50]. Loss: 0.034. Acc: 0.994. Test loss: 0.813. Test acc: 0.951\n",
      "Epoch [9/20]. Step [50/50]. Loss: 0.007. Acc: 0.993. Test loss: 0.185. Test acc: 0.948\n",
      "Epoch [10/20]. Step [50/50]. Loss: 0.015. Acc: 0.995. Test loss: 0.417. Test acc: 0.948\n",
      "Epoch [11/20]. Step [50/50]. Loss: 0.018. Acc: 0.997. Test loss: 0.751. Test acc: 0.951\n",
      "Epoch [12/20]. Step [50/50]. Loss: 0.023. Acc: 0.997. Test loss: 0.358. Test acc: 0.950\n",
      "Epoch [13/20]. Step [50/50]. Loss: 0.009. Acc: 0.997. Test loss: 0.569. Test acc: 0.950\n",
      "Epoch [14/20]. Step [50/50]. Loss: 0.010. Acc: 0.996. Test loss: 0.339. Test acc: 0.948\n",
      "Epoch [15/20]. Step [50/50]. Loss: 0.020. Acc: 0.996. Test loss: 0.308. Test acc: 0.944\n",
      "Epoch [16/20]. Step [50/50]. Loss: 0.010. Acc: 0.997. Test loss: 0.790. Test acc: 0.951\n",
      "Epoch [17/20]. Step [50/50]. Loss: 0.005. Acc: 0.996. Test loss: 0.650. Test acc: 0.948\n",
      "Epoch [18/20]. Step [50/50]. Loss: 0.017. Acc: 0.997. Test loss: 0.387. Test acc: 0.941\n",
      "Epoch [19/20]. Step [50/50]. Loss: 0.008. Acc: 0.997. Test loss: 0.306. Test acc: 0.953\n",
      "Epoch [20/20]. Step [50/50]. Loss: 0.007. Acc: 0.997. Test loss: 0.428. Test acc: 0.951\n",
      "Training is finished!\n"
     ]
    }
   ],
   "source": [
    "model = model.to(device)\n",
    "model.train()\n",
    "th = 0.5\n",
    "\n",
    "train_loss_history = []\n",
    "test_loss_history = []\n",
    "\n",
    "\n",
    "for epoch in range(epochs):  \n",
    "    running_items, running_right = 0.0, 0.0\n",
    "    for i, data in enumerate(train_loader, 0):\n",
    "        inputs, labels = data[0].to(device), data[1].to(device)\n",
    "        \n",
    "        # обнуляем градиент\n",
    "        optimizer.zero_grad()\n",
    "        outputs = model(inputs)\n",
    "        \n",
    "        loss = criterion(outputs, labels.float().view(-1, 1))\n",
    "        loss.backward()\n",
    "        optimizer.step()\n",
    "\n",
    "        # подсчет ошибки на обучении\n",
    "        loss = loss.item()\n",
    "        running_items += len(labels)\n",
    "        # подсчет метрики на обучении\n",
    "        pred_labels = torch.squeeze((outputs > th).int())\n",
    "        running_right += (labels == pred_labels).sum()\n",
    "        \n",
    "    # выводим статистику о процессе обучения\n",
    "    model.eval()\n",
    "    \n",
    "    print(f'Epoch [{epoch + 1}/{epochs}]. ' \\\n",
    "            f'Step [{i + 1}/{len(train_loader)}]. ' \\\n",
    "            f'Loss: {loss:.3f}. ' \\\n",
    "            f'Acc: {running_right / running_items:.3f}', end='. ')\n",
    "    running_loss, running_items, running_right = 0.0, 0.0, 0.0\n",
    "    train_loss_history.append(loss)\n",
    "\n",
    "        # выводим статистику на тестовых данных\n",
    "    test_running_right, test_running_total, test_loss = 0.0, 0.0, 0.0\n",
    "    for j, data in enumerate(test_loader):\n",
    "        test_labels = data[1].to(device)\n",
    "        test_outputs = model(data[0].to(device))\n",
    "        \n",
    "        # подсчет ошибки на тесте\n",
    "        test_loss = criterion(test_outputs, test_labels.float().view(-1, 1))\n",
    "        # подсчет метрики на тесте\n",
    "        test_running_total += len(data[1])\n",
    "        pred_test_labels = torch.squeeze((test_outputs > th).int())\n",
    "        test_running_right += (test_labels == pred_test_labels).sum()\n",
    "    \n",
    "    test_loss_history.append(test_loss.item())\n",
    "    print(f'Test loss: {test_loss:.3f}. Test acc: {test_running_right / test_running_total:.3f}')\n",
    "    \n",
    "    model.train()\n",
    "        \n",
    "print('Training is finished!')"
   ]
  },
  {
   "cell_type": "code",
   "execution_count": 329,
   "metadata": {
    "colab": {
     "base_uri": "https://localhost:8080/",
     "height": 295
    },
    "id": "jRFEu1X4jpLU",
    "outputId": "6ab2ce7a-1a8f-4fb5-d58c-e68775fa902a"
   },
   "outputs": [
    {
     "data": {
      "image/png": "[encoded data removed]",
      "text/plain": [
       "<Figure size 640x480 with 1 Axes>"
      ]
     },
     "metadata": {},
     "output_type": "display_data"
    }
   ],
   "source": [
    "import matplotlib.pyplot as plt\n",
    "\n",
    "plt.title('Loss history')\n",
    "plt.grid(True)\n",
    "plt.ylabel('Loss')\n",
    "plt.xlabel('Epoch')\n",
    "plt.plot(train_loss_history, label='train')\n",
    "plt.plot(test_loss_history, label='test')\n",
    "plt.legend()"
   ]
  },
  {
   "cell_type": "markdown",
   "metadata": {},
   "source": [
    "### ВЫВОДЫ:\n",
    "\n",
    "#### для улучшения результата увеличели количество топовых слов с 2000 до 3000, при этом сократили длину сообщения с 20 до 15 слов. Поработали над балансировкой классов, так как наблюдался большой дисбаланс, подавая взвешенный сэмплер для каждого валидационного набора данных"
   ]
  },
  {
   "cell_type": "code",
   "execution_count": null,
   "metadata": {},
   "outputs": [],
   "source": []
  }
 ],
 "metadata": {
  "accelerator": "GPU",
  "colab": {
   "provenance": [],
   "toc_visible": true
  },
  "kernelspec": {
   "display_name": "Python 3 (ipykernel)",
   "language": "python",
   "name": "python3"
  },
  "language_info": {
   "codemirror_mode": {
    "name": "ipython",
    "version": 3
   },
   "file_extension": ".py",
   "mimetype": "text/x-python",
   "name": "python",
   "nbconvert_exporter": "python",
   "pygments_lexer": "ipython3",
   "version": "3.8.16"
  }
 },
 "nbformat": 4,
 "nbformat_minor": 1
}
