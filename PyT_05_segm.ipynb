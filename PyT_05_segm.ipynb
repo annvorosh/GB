{
 "cells": [
  {
   "cell_type": "markdown",
   "id": "825d89a8",
   "metadata": {},
   "source": [
    "## Домашнее задание\n",
    "\n",
    "1. Необходимо подготовить датасет https://www.kaggle.com/olekslu/makeup-lips-segmentation-28k-samples для обучения модели на сегментацию губ\n",
    "2. Обучить модель на выбор из [segmentation_models_pytorch](https://segmentation-modelspytorch.readthedocs.io/en/latest/index.html)"
   ]
  },
  {
   "cell_type": "code",
   "execution_count": 1,
   "id": "cf99947d",
   "metadata": {},
   "outputs": [
    {
     "name": "stdout",
     "output_type": "stream",
     "text": [
      "Requirement already satisfied: segmentation-models-pytorch in /Users/annvorosh/miniconda3/envs/torch-gpu/lib/python3.8/site-packages (0.3.2)\n",
      "Requirement already satisfied: pillow in /Users/annvorosh/miniconda3/envs/torch-gpu/lib/python3.8/site-packages (from segmentation-models-pytorch) (9.5.0)\n",
      "Requirement already satisfied: torchvision>=0.5.0 in /Users/annvorosh/miniconda3/envs/torch-gpu/lib/python3.8/site-packages (from segmentation-models-pytorch) (0.15.1)\n",
      "Requirement already satisfied: tqdm in /Users/annvorosh/miniconda3/envs/torch-gpu/lib/python3.8/site-packages (from segmentation-models-pytorch) (4.65.0)\n",
      "Requirement already satisfied: pretrainedmodels==0.7.4 in /Users/annvorosh/miniconda3/envs/torch-gpu/lib/python3.8/site-packages (from segmentation-models-pytorch) (0.7.4)\n",
      "Requirement already satisfied: efficientnet-pytorch==0.7.1 in /Users/annvorosh/miniconda3/envs/torch-gpu/lib/python3.8/site-packages (from segmentation-models-pytorch) (0.7.1)\n",
      "Requirement already satisfied: timm==0.6.12 in /Users/annvorosh/miniconda3/envs/torch-gpu/lib/python3.8/site-packages (from segmentation-models-pytorch) (0.6.12)\n",
      "Requirement already satisfied: torch in /Users/annvorosh/miniconda3/envs/torch-gpu/lib/python3.8/site-packages (from efficientnet-pytorch==0.7.1->segmentation-models-pytorch) (2.0.0)\n",
      "Requirement already satisfied: munch in /Users/annvorosh/miniconda3/envs/torch-gpu/lib/python3.8/site-packages (from pretrainedmodels==0.7.4->segmentation-models-pytorch) (2.5.0)\n",
      "Requirement already satisfied: pyyaml in /Users/annvorosh/miniconda3/envs/torch-gpu/lib/python3.8/site-packages (from timm==0.6.12->segmentation-models-pytorch) (6.0)\n",
      "Requirement already satisfied: huggingface-hub in /Users/annvorosh/miniconda3/envs/torch-gpu/lib/python3.8/site-packages (from timm==0.6.12->segmentation-models-pytorch) (0.14.1)\n",
      "Requirement already satisfied: numpy in /Users/annvorosh/miniconda3/envs/torch-gpu/lib/python3.8/site-packages (from torchvision>=0.5.0->segmentation-models-pytorch) (1.24.2)\n",
      "Requirement already satisfied: requests in /Users/annvorosh/miniconda3/envs/torch-gpu/lib/python3.8/site-packages (from torchvision>=0.5.0->segmentation-models-pytorch) (2.28.2)\n",
      "Requirement already satisfied: jinja2 in /Users/annvorosh/miniconda3/envs/torch-gpu/lib/python3.8/site-packages (from torch->efficientnet-pytorch==0.7.1->segmentation-models-pytorch) (3.1.2)\n",
      "Requirement already satisfied: filelock in /Users/annvorosh/miniconda3/envs/torch-gpu/lib/python3.8/site-packages (from torch->efficientnet-pytorch==0.7.1->segmentation-models-pytorch) (3.11.0)\n",
      "Requirement already satisfied: networkx in /Users/annvorosh/miniconda3/envs/torch-gpu/lib/python3.8/site-packages (from torch->efficientnet-pytorch==0.7.1->segmentation-models-pytorch) (3.1)\n",
      "Requirement already satisfied: sympy in /Users/annvorosh/miniconda3/envs/torch-gpu/lib/python3.8/site-packages (from torch->efficientnet-pytorch==0.7.1->segmentation-models-pytorch) (1.11.1)\n",
      "Requirement already satisfied: typing-extensions in /Users/annvorosh/miniconda3/envs/torch-gpu/lib/python3.8/site-packages (from torch->efficientnet-pytorch==0.7.1->segmentation-models-pytorch) (4.5.0)\n",
      "Requirement already satisfied: fsspec in /Users/annvorosh/miniconda3/envs/torch-gpu/lib/python3.8/site-packages (from huggingface-hub->timm==0.6.12->segmentation-models-pytorch) (2023.4.0)\n",
      "Requirement already satisfied: packaging>=20.9 in /Users/annvorosh/miniconda3/envs/torch-gpu/lib/python3.8/site-packages (from huggingface-hub->timm==0.6.12->segmentation-models-pytorch) (23.0)\n",
      "Requirement already satisfied: six in /Users/annvorosh/miniconda3/envs/torch-gpu/lib/python3.8/site-packages (from munch->pretrainedmodels==0.7.4->segmentation-models-pytorch) (1.16.0)\n",
      "Requirement already satisfied: idna<4,>=2.5 in /Users/annvorosh/miniconda3/envs/torch-gpu/lib/python3.8/site-packages (from requests->torchvision>=0.5.0->segmentation-models-pytorch) (3.4)\n",
      "Requirement already satisfied: urllib3<1.27,>=1.21.1 in /Users/annvorosh/miniconda3/envs/torch-gpu/lib/python3.8/site-packages (from requests->torchvision>=0.5.0->segmentation-models-pytorch) (1.26.15)\n",
      "Requirement already satisfied: certifi>=2017.4.17 in /Users/annvorosh/miniconda3/envs/torch-gpu/lib/python3.8/site-packages (from requests->torchvision>=0.5.0->segmentation-models-pytorch) (2022.12.7)\n",
      "Requirement already satisfied: charset-normalizer<4,>=2 in /Users/annvorosh/miniconda3/envs/torch-gpu/lib/python3.8/site-packages (from requests->torchvision>=0.5.0->segmentation-models-pytorch) (3.1.0)\n",
      "Requirement already satisfied: MarkupSafe>=2.0 in /Users/annvorosh/miniconda3/envs/torch-gpu/lib/python3.8/site-packages (from jinja2->torch->efficientnet-pytorch==0.7.1->segmentation-models-pytorch) (2.1.2)\n",
      "Requirement already satisfied: mpmath>=0.19 in /Users/annvorosh/miniconda3/envs/torch-gpu/lib/python3.8/site-packages (from sympy->torch->efficientnet-pytorch==0.7.1->segmentation-models-pytorch) (1.3.0)\n"
     ]
    }
   ],
   "source": [
    "!pip install segmentation-models-pytorch\n",
    "\n",
    "import torch\n",
    "import torchvision.transforms as transforms\n",
    "from torch.utils.data import Dataset, DataLoader\n",
    "from PIL import Image\n",
    "import numpy as np\n",
    "import os\n",
    "from segmentation_models_pytorch import Unet\n",
    "import torch.nn.functional as F\n",
    "from torch import optim"
   ]
  },
  {
   "cell_type": "code",
   "execution_count": 2,
   "id": "1d04175d",
   "metadata": {},
   "outputs": [],
   "source": [
    "class LipDataset(Dataset):\n",
    "    def __init__(self, images_dir, masks_dir, transform=None):\n",
    "        self.images_dir = images_dir\n",
    "        self.masks_dir = masks_dir\n",
    "        self.transform = transform\n",
    "\n",
    "        self.image_files = os.listdir(images_dir)\n",
    "        self.mask_files = os.listdir(masks_dir)\n",
    "\n",
    "    def __len__(self):\n",
    "        return len(self.image_files)\n",
    "\n",
    "    def __getitem__(self, idx):\n",
    "        image_path = os.path.join(self.images_dir, self.image_files[idx])\n",
    "        mask_path = os.path.join(self.masks_dir, self.mask_files[idx])\n",
    "\n",
    "        image = Image.open(image_path)\n",
    "        mask = Image.open(mask_path).convert('L')  # изменение режима изображения на 'L'\n",
    "\n",
    "        if self.transform:\n",
    "            image = self.transform(image)\n",
    "            mask = self.transform(mask)\n",
    "\n",
    "        return image, mask"
   ]
  },
  {
   "cell_type": "code",
   "execution_count": 3,
   "id": "1eb76297",
   "metadata": {},
   "outputs": [],
   "source": [
    "# путь к папке с изображениями губ\n",
    "images_dir = \"/Users/annvorosh/Documents/GB/PyTorch/set-lipstick-original/720p\"\n",
    "\n",
    "# путь к папке с масками губ\n",
    "masks_dir = \"/Users/annvorosh/Documents/GB/PyTorch/set-lipstick-original/mask\""
   ]
  },
  {
   "cell_type": "code",
   "execution_count": 4,
   "id": "c51eb553",
   "metadata": {},
   "outputs": [
    {
     "name": "stdout",
     "output_type": "stream",
     "text": [
      "Несоответствие имен файлов в папках images_dir и masks_dir:\n",
      "Отсутствующие номера в images_dir: set()\n",
      "Отсутствующие номера в masks_dir: {10752, 10754, 10756, 10759, 10761, 10763, 10764, 10766, 10767, 10768, 10769, 10770, 10773, 10774, 10776, 10780, 10781, 10783, 10786, 10788, 10793, 10795, 10799, 10800, 10801, 10802, 10803, 10804, 10805, 10806, 10807, 10810, 10811, 10813, 10716, 10717, 10718, 10719, 10721, 10722, 10724, 10730, 10732, 10733, 10735, 10736, 10737, 10740, 10742, 10743, 10744, 10745, 10747, 10751}\n",
      "['image00010716.jpg', 'image00010717.jpg', 'image00010718.jpg', 'image00010719.jpg', 'image00010721.jpg', 'image00010722.jpg', 'image00010724.jpg', 'image00010730.jpg', 'image00010732.jpg', 'image00010733.jpg', 'image00010735.jpg', 'image00010736.jpg', 'image00010737.jpg', 'image00010740.jpg', 'image00010742.jpg', 'image00010743.jpg', 'image00010744.jpg', 'image00010745.jpg', 'image00010747.jpg', 'image00010751.jpg', 'image00010752.jpg', 'image00010754.jpg', 'image00010756.jpg', 'image00010759.jpg', 'image00010761.jpg', 'image00010763.jpg', 'image00010764.jpg', 'image00010766.jpg', 'image00010767.jpg', 'image00010768.jpg', 'image00010769.jpg', 'image00010770.jpg', 'image00010773.jpg', 'image00010774.jpg', 'image00010776.jpg', 'image00010780.jpg', 'image00010781.jpg', 'image00010783.jpg', 'image00010786.jpg', 'image00010788.jpg', 'image00010793.jpg', 'image00010795.jpg', 'image00010799.jpg', 'image00010800.jpg', 'image00010801.jpg', 'image00010802.jpg', 'image00010803.jpg', 'image00010804.jpg', 'image00010805.jpg', 'image00010806.jpg', 'image00010807.jpg', 'image00010810.jpg', 'image00010811.jpg', 'image00010813.jpg']\n"
     ]
    }
   ],
   "source": [
    "# В датасете обнаружено несоответствие количества файлов изображений и их масок, \n",
    "# поэтому провели предобработку данных и удалили лишние файлы\n",
    "\n",
    "import re\n",
    "\n",
    "# Получаем список имен файлов\n",
    "image_files = sorted(os.listdir(images_dir))\n",
    "mask_files = sorted(os.listdir(masks_dir))\n",
    "\n",
    "# Извлекаем числа из имен файлов\n",
    "image_numbers = [int(re.findall('\\d+', f)[0]) for f in image_files]\n",
    "mask_numbers = [int(re.findall('\\d+', f)[0]) for f in mask_files]\n",
    "\n",
    "# Сравниваем числа в именах файлов\n",
    "if set(image_numbers) != set(mask_numbers):\n",
    "    print('Несоответствие имен файлов в папках images_dir и masks_dir:')\n",
    "    print('Отсутствующие номера в images_dir:', set(mask_numbers) - set(image_numbers))\n",
    "    print('Отсутствующие номера в masks_dir:', set(image_numbers) - set(mask_numbers))\n",
    "    \n",
    "# Находим отсутствующие номера в masks_dir\n",
    "missing_numbers = set(image_numbers) - set(mask_numbers)\n",
    "\n",
    "# Находим имена файлов, которые нужно удалить из images_dir\n",
    "files_to_delete = [f for f in image_files if int(f.split(\".\")[0][5:]) in missing_numbers]\n",
    "print('Лишние файлы:',files_to_delete)\n",
    "\n",
    "# # Удаляем файлы\n",
    "# for file in files_to_delete:\n",
    "#     os.remove(os.path.join(images_dir, file))\n",
    "\n",
    "# Переложим лишние файлы в другую папку\n",
    "import shutil\n",
    "\n",
    "destination_dir = \"/Users/annvorosh/Documents/GB/PyTorch/set-lipstick-original/invalid_images\"\n",
    "\n",
    "# Переносим невалидные файлы\n",
    "for file in files_to_delete:\n",
    "    shutil.move(os.path.join(images_dir, file), os.path.join(destination_dir, file))\n",
    "\n",
    "    \n",
    "# Получаем список имен файлов\n",
    "image_files = sorted(os.listdir(images_dir))\n",
    "mask_files = sorted(os.listdir(masks_dir))"
   ]
  },
  {
   "cell_type": "code",
   "execution_count": 5,
   "id": "96edb91c",
   "metadata": {},
   "outputs": [],
   "source": [
    "# размер изображений и масок\n",
    "image_size = (256, 256)\n",
    "\n",
    "# загрузка датасета и разделение на тренировочную и валидационную выборки\n",
    "dataset = LipDataset(images_dir, masks_dir, transform=transforms.Compose([transforms.Resize(image_size),\n",
    "                                                                           transforms.ToTensor()]))\n",
    "train_size = int(0.8 * len(dataset))\n",
    "val_size = len(dataset) - train_size\n",
    "train_dataset, val_dataset = torch.utils.data.random_split(dataset, [train_size, val_size])\n",
    "\n",
    "# загрузка тренировочной и валидационной выборки в DataLoader\n",
    "train_loader = DataLoader(train_dataset, batch_size=4, shuffle=True)\n",
    "val_loader = DataLoader(val_dataset, batch_size=4, shuffle=False)"
   ]
  },
  {
   "cell_type": "code",
   "execution_count": null,
   "id": "2f5f9d4e",
   "metadata": {},
   "outputs": [],
   "source": []
  },
  {
   "cell_type": "code",
   "execution_count": 6,
   "id": "cc36dd52",
   "metadata": {},
   "outputs": [],
   "source": [
    "# создание экземпляра модели UNet и определение функции потерь\n",
    "model = Unet('resnet34', encoder_weights='imagenet', classes=1, activation=None)\n",
    "criterion = F.binary_cross_entropy_with_logits\n",
    "\n",
    "# определение оптимизатора и scheduler\n",
    "optimizer = optim.Adam(model.parameters(), lr=1e-3)\n",
    "scheduler = optim.lr_scheduler.ReduceLROnPlateau(optimizer, factor=0.1, patience=5)"
   ]
  },
  {
   "cell_type": "code",
   "execution_count": null,
   "id": "bd5d0241",
   "metadata": {},
   "outputs": [
    {
     "name": "stdout",
     "output_type": "stream",
     "text": [
      "Epoch 1. Train loss: 0.0188. Val loss: 0.0157\n"
     ]
    }
   ],
   "source": [
    "# обучение модели\n",
    "for epoch in range(2):\n",
    "    train_loss = 0\n",
    "    val_loss = 0\n",
    "\n",
    "    # тренировочный этап\n",
    "    model.train()\n",
    "    for images, masks in train_loader:\n",
    "        optimizer.zero_grad()\n",
    "\n",
    "        output_masks = model(images)\n",
    "        loss = criterion(output_masks, masks)\n",
    "        loss.backward()\n",
    "        optimizer.step()\n",
    "\n",
    "        train_loss += loss.item() * images.size(0)\n",
    "\n",
    "    # валидационный этап\n",
    "    model.eval()\n",
    "    with torch.no_grad():\n",
    "        for images, masks in val_loader:\n",
    "            output_masks = model(images)\n",
    "            loss = criterion(output_masks, masks)\n",
    "            val_loss += loss.item() * images.size(0)\n",
    "\n",
    "    # выводим средний loss на каждой эпохе\n",
    "    train_loss /= len(train_loader.dataset)\n",
    "    val_loss /= len(val_loader.dataset)\n",
    "    print(f\"Epoch {epoch+1}. Train loss: {train_loss:.4f}. Val loss: {val_loss:.4f}\")\n",
    "\n",
    "    # обновление scheduler\n",
    "    scheduler.step(val_loss)"
   ]
  },
  {
   "cell_type": "code",
   "execution_count": null,
   "id": "980671ae",
   "metadata": {},
   "outputs": [],
   "source": [
    "# сохранение обученной модели\n",
    "torch.save(model.state_dict(), \"lip_segmentation_model.pth\")"
   ]
  },
  {
   "cell_type": "code",
   "execution_count": null,
   "id": "14bdad7c",
   "metadata": {},
   "outputs": [],
   "source": []
  }
 ],
 "metadata": {
  "kernelspec": {
   "display_name": "Python 3 (ipykernel)",
   "language": "python",
   "name": "python3"
  },
  "language_info": {
   "codemirror_mode": {
    "name": "ipython",
    "version": 3
   },
   "file_extension": ".py",
   "mimetype": "text/x-python",
   "name": "python",
   "nbconvert_exporter": "python",
   "pygments_lexer": "ipython3",
   "version": "3.8.16"
  }
 },
 "nbformat": 4,
 "nbformat_minor": 5
}
