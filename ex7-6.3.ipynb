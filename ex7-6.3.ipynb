{
 "cells": [
  {
   "cell_type": "code",
   "execution_count": 87,
   "id": "cb260fda",
   "metadata": {
    "scrolled": true
   },
   "outputs": [
    {
     "name": "stdout",
     "output_type": "stream",
     "text": [
      "[[ 1  2  3 12]\n",
      " [ 4  5  6  2]\n",
      " [ 7  8  9  1]]\n",
      "[ 2.83726777e+16 -5.67453553e+16  2.83726777e+16]\n",
      "Ранг исходной матрицы = 2 \n",
      "Ранг расширенной матрицы = 3\n",
      "\n",
      "Система уравнений несовместна и не имеет решений, \n",
      "так как ранг у исходной матрицы и расширенной не равны.\n",
      "\n",
      "Чтобы система стала совместной (путем преобразования вектора правой части ситемы), надо сохранить ранг исходной матрицы 2, для этого вектор правой части системы должен быть [0, 0, 0]\n",
      "[[1 2 3 0]\n",
      " [4 5 6 0]\n",
      " [7 8 9 0]]\n",
      "Ранг исходной матрицы = 2 \n",
      "Ранг новой расширенной матрицы = 2\n",
      "Решение новой системы уравнений:\n",
      "[ 0.  0. -0.]\n"
     ]
    }
   ],
   "source": [
    "import numpy as np\n",
    "\n",
    "A = np.array([[1, 2, 3], [4, 5, 6], [7, 8, 9]])\n",
    "B = np.array([12, 2, 1])\n",
    "\n",
    "C = np.concatenate((A, B.T[:,None]), axis = 1)\n",
    "print(C)\n",
    "print(np.linalg.solve(A, B))\n",
    "#print(np.linalg.lstsq(A, B))\n",
    "print(f'Ранг исходной матрицы = {np.linalg.matrix_rank(A, 0.0001)} \\nРанг расширенной матрицы = {np.linalg.matrix_rank(C, 0.0001)}')\n",
    "\n",
    "if np.linalg.matrix_rank(A, 0.0001) == np.linalg.matrix_rank(C, 0.0001):\n",
    "    print(f'Решение системы уравнений:\\n{np.linalg.solve(A, B)}')\n",
    "else:\n",
    "    print('\\nСистема уравнений несовместна и не имеет решений, \\nтак как ранг у исходной матрицы и расширенной не равны.')\n",
    "    print('\\nЧтобы система стала совместной (путем преобразования вектора правой части ситемы), надо сохранить ранг исходной матрицы 2, для этого вектор правой части системы должен быть [0, 0, 0]')\n",
    "    B = np.array([0, 0, 0])\n",
    "    C = np.concatenate((A, B.T[:,None]), axis = 1)\n",
    "    print(C)\n",
    "    print(f'Ранг исходной матрицы = {np.linalg.matrix_rank(A, 0.0001)} \\nРанг новой расширенной матрицы = {np.linalg.matrix_rank(C, 0.0001)}')\n",
    "    print(f'Решение новой системы уравнений:\\n{np.linalg.solve(A, B)}')\n",
    "    #print(np.linalg.lstsq(A, B))\n"
   ]
  },
  {
   "cell_type": "code",
   "execution_count": null,
   "id": "732ed0fa",
   "metadata": {},
   "outputs": [],
   "source": []
  }
 ],
 "metadata": {
  "kernelspec": {
   "display_name": "Python 3",
   "language": "python",
   "name": "python3"
  },
  "language_info": {
   "codemirror_mode": {
    "name": "ipython",
    "version": 3
   },
   "file_extension": ".py",
   "mimetype": "text/x-python",
   "name": "python",
   "nbconvert_exporter": "python",
   "pygments_lexer": "ipython3",
   "version": "3.8.8"
  }
 },
 "nbformat": 4,
 "nbformat_minor": 5
}
